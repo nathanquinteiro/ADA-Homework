{
 "cells": [
  {
   "cell_type": "markdown",
   "metadata": {},
   "source": [
    "# Interactive Viz\n",
    "\n",
    "Build a Choropleth map which shows intuitively (i.e., use colors wisely) how much grant money goes to each Swiss canton. To do so, you will need to use the provided TopoJSON file, combined with the Choropleth map example you can find in the Folium README file.  \n",
    "\n",
    "HINT: the P3 database is formed by entries which assign a grant (and its approved amount) to a University name.  \n",
    "\n",
    "Therefore you will need a smart strategy to go from University to Canton name. The Geonames Full Text Search API in JSON can help you with this -- try to use it as much as possible to build the canton mappings that you need. For those universities for which you cannot find a mapping via the API, you are then allowed to build it manually -- feel free to stop by the time you mapped the top-95% of the universities. I also recommend you to use an intermediate viz step for debugging purposes, showing all the universties as markers in your map (e.g., if you don't select the right results from the Geonames API, some of your markers might be placed on nearby countries...)\n",
    "\n",
    "BONUS: using the map you have just built, and the geographical information contained in it, could you give a rough estimate of the difference in research funding between the areas divided by the Röstigraben?   \n",
    "\n",
    "HINT: for those cantons cut through by the Röstigraben, this viz can be helpful!\n"
   ]
  },
  {
   "cell_type": "code",
   "execution_count": 5,
   "metadata": {
    "collapsed": false
   },
   "outputs": [],
   "source": [
    "%matplotlib inline\n",
    "import pandas as pd\n",
    "import numpy as np\n",
    "import scipy.stats as stats\n",
    "import folium\n",
    "import os\n",
    "import json\n",
    "import geopy\n",
    "import geocoder\n",
    "import time\n",
    "import csv\n",
    "from geopy.geocoders import Nominatim\n",
    "from branca.colormap import *\n",
    "#pip install python-google-places\n",
    "from googleplaces import GooglePlaces, types, lang\n",
    "\n"
   ]
  },
  {
   "cell_type": "markdown",
   "metadata": {},
   "source": [
    "# Reading data"
   ]
  },
  {
   "cell_type": "markdown",
   "metadata": {},
   "source": [
    "We read the data from P3 Grant csv file."
   ]
  },
  {
   "cell_type": "code",
   "execution_count": 6,
   "metadata": {
    "collapsed": false
   },
   "outputs": [
    {
     "data": {
      "text/html": [
       "<div>\n",
       "<table border=\"1\" class=\"dataframe\">\n",
       "  <thead>\n",
       "    <tr style=\"text-align: right;\">\n",
       "      <th></th>\n",
       "      <th>﻿\"Project Number\"</th>\n",
       "      <th>Project Title</th>\n",
       "      <th>Project Title English</th>\n",
       "      <th>Responsible Applicant</th>\n",
       "      <th>Funding Instrument</th>\n",
       "      <th>Funding Instrument Hierarchy</th>\n",
       "      <th>Institution</th>\n",
       "      <th>University</th>\n",
       "      <th>Discipline Number</th>\n",
       "      <th>Discipline Name</th>\n",
       "      <th>Discipline Name Hierarchy</th>\n",
       "      <th>Start Date</th>\n",
       "      <th>End Date</th>\n",
       "      <th>Approved Amount</th>\n",
       "      <th>Keywords</th>\n",
       "    </tr>\n",
       "  </thead>\n",
       "  <tbody>\n",
       "    <tr>\n",
       "      <th>0</th>\n",
       "      <td>1</td>\n",
       "      <td>Schlussband (Bd. VI) der Jacob Burckhardt-Biog...</td>\n",
       "      <td></td>\n",
       "      <td>Kaegi Werner</td>\n",
       "      <td>Project funding (Div. I-III)</td>\n",
       "      <td>Project funding</td>\n",
       "      <td></td>\n",
       "      <td>Nicht zuteilbar - NA</td>\n",
       "      <td>10302</td>\n",
       "      <td>Swiss history</td>\n",
       "      <td>Human and Social Sciences;Theology &amp; religious...</td>\n",
       "      <td>01.10.1975</td>\n",
       "      <td>30.09.1976</td>\n",
       "      <td>11619.00</td>\n",
       "      <td></td>\n",
       "    </tr>\n",
       "    <tr>\n",
       "      <th>1</th>\n",
       "      <td>4</td>\n",
       "      <td>Batterie de tests à l'usage des enseignants po...</td>\n",
       "      <td></td>\n",
       "      <td>Massarenti Léonard</td>\n",
       "      <td>Project funding (Div. I-III)</td>\n",
       "      <td>Project funding</td>\n",
       "      <td>Faculté de Psychologie et des Sciences de l'Ed...</td>\n",
       "      <td>Université de Genève - GE</td>\n",
       "      <td>10104</td>\n",
       "      <td>Educational science and Pedagogy</td>\n",
       "      <td>Human and Social Sciences;Psychology, educatio...</td>\n",
       "      <td>01.10.1975</td>\n",
       "      <td>30.09.1976</td>\n",
       "      <td>41022.00</td>\n",
       "      <td></td>\n",
       "    </tr>\n",
       "    <tr>\n",
       "      <th>2</th>\n",
       "      <td>5</td>\n",
       "      <td>Kritische Erstausgabe der \"Evidentiae contra D...</td>\n",
       "      <td></td>\n",
       "      <td>Kommission für das Corpus philosophorum medii ...</td>\n",
       "      <td>Project funding (Div. I-III)</td>\n",
       "      <td>Project funding</td>\n",
       "      <td>Kommission für das Corpus philosophorum medii ...</td>\n",
       "      <td>NPO (Biblioth., Museen, Verwalt.) - NPO</td>\n",
       "      <td>10101</td>\n",
       "      <td>Philosophy</td>\n",
       "      <td>Human and Social Sciences;Linguistics and lite...</td>\n",
       "      <td>01.03.1976</td>\n",
       "      <td>28.02.1985</td>\n",
       "      <td>79732.00</td>\n",
       "      <td></td>\n",
       "    </tr>\n",
       "    <tr>\n",
       "      <th>3</th>\n",
       "      <td>6</td>\n",
       "      <td>Katalog der datierten Handschriften in der Sch...</td>\n",
       "      <td></td>\n",
       "      <td>Burckhardt Max</td>\n",
       "      <td>Project funding (Div. I-III)</td>\n",
       "      <td>Project funding</td>\n",
       "      <td>Abt. Handschriften und Alte Drucke Bibliothek ...</td>\n",
       "      <td>Universität Basel - BS</td>\n",
       "      <td>10302</td>\n",
       "      <td>Swiss history</td>\n",
       "      <td>Human and Social Sciences;Theology &amp; religious...</td>\n",
       "      <td>01.10.1975</td>\n",
       "      <td>30.09.1976</td>\n",
       "      <td>52627.00</td>\n",
       "      <td></td>\n",
       "    </tr>\n",
       "    <tr>\n",
       "      <th>4</th>\n",
       "      <td>7</td>\n",
       "      <td>Wissenschaftliche Mitarbeit am Thesaurus Lingu...</td>\n",
       "      <td></td>\n",
       "      <td>Schweiz. Thesauruskommission</td>\n",
       "      <td>Project funding (Div. I-III)</td>\n",
       "      <td>Project funding</td>\n",
       "      <td>Schweiz. Thesauruskommission</td>\n",
       "      <td>NPO (Biblioth., Museen, Verwalt.) - NPO</td>\n",
       "      <td>10303</td>\n",
       "      <td>Ancient history and Classical studies</td>\n",
       "      <td>Human and Social Sciences;Theology &amp; religious...</td>\n",
       "      <td>01.01.1976</td>\n",
       "      <td>30.04.1978</td>\n",
       "      <td>120042.00</td>\n",
       "      <td></td>\n",
       "    </tr>\n",
       "  </tbody>\n",
       "</table>\n",
       "</div>"
      ],
      "text/plain": [
       "   ﻿\"Project Number\"                                      Project Title  \\\n",
       "0                  1  Schlussband (Bd. VI) der Jacob Burckhardt-Biog...   \n",
       "1                  4  Batterie de tests à l'usage des enseignants po...   \n",
       "2                  5  Kritische Erstausgabe der \"Evidentiae contra D...   \n",
       "3                  6  Katalog der datierten Handschriften in der Sch...   \n",
       "4                  7  Wissenschaftliche Mitarbeit am Thesaurus Lingu...   \n",
       "\n",
       "  Project Title English                              Responsible Applicant  \\\n",
       "0                                                             Kaegi Werner   \n",
       "1                                                       Massarenti Léonard   \n",
       "2                        Kommission für das Corpus philosophorum medii ...   \n",
       "3                                                           Burckhardt Max   \n",
       "4                                             Schweiz. Thesauruskommission   \n",
       "\n",
       "             Funding Instrument Funding Instrument Hierarchy  \\\n",
       "0  Project funding (Div. I-III)              Project funding   \n",
       "1  Project funding (Div. I-III)              Project funding   \n",
       "2  Project funding (Div. I-III)              Project funding   \n",
       "3  Project funding (Div. I-III)              Project funding   \n",
       "4  Project funding (Div. I-III)              Project funding   \n",
       "\n",
       "                                         Institution  \\\n",
       "0                                                      \n",
       "1  Faculté de Psychologie et des Sciences de l'Ed...   \n",
       "2  Kommission für das Corpus philosophorum medii ...   \n",
       "3  Abt. Handschriften und Alte Drucke Bibliothek ...   \n",
       "4                       Schweiz. Thesauruskommission   \n",
       "\n",
       "                                University  Discipline Number  \\\n",
       "0                     Nicht zuteilbar - NA              10302   \n",
       "1                Université de Genève - GE              10104   \n",
       "2  NPO (Biblioth., Museen, Verwalt.) - NPO              10101   \n",
       "3                   Universität Basel - BS              10302   \n",
       "4  NPO (Biblioth., Museen, Verwalt.) - NPO              10303   \n",
       "\n",
       "                         Discipline Name  \\\n",
       "0                          Swiss history   \n",
       "1       Educational science and Pedagogy   \n",
       "2                             Philosophy   \n",
       "3                          Swiss history   \n",
       "4  Ancient history and Classical studies   \n",
       "\n",
       "                           Discipline Name Hierarchy  Start Date    End Date  \\\n",
       "0  Human and Social Sciences;Theology & religious...  01.10.1975  30.09.1976   \n",
       "1  Human and Social Sciences;Psychology, educatio...  01.10.1975  30.09.1976   \n",
       "2  Human and Social Sciences;Linguistics and lite...  01.03.1976  28.02.1985   \n",
       "3  Human and Social Sciences;Theology & religious...  01.10.1975  30.09.1976   \n",
       "4  Human and Social Sciences;Theology & religious...  01.01.1976  30.04.1978   \n",
       "\n",
       "  Approved Amount Keywords  \n",
       "0        11619.00           \n",
       "1        41022.00           \n",
       "2        79732.00           \n",
       "3        52627.00           \n",
       "4       120042.00           "
      ]
     },
     "execution_count": 6,
     "metadata": {},
     "output_type": "execute_result"
    }
   ],
   "source": [
    "grantExport = pd.read_csv(\"data/P3_GrantExport.csv\", sep=';')\n",
    "grantExport = grantExport.fillna(\"\")\n",
    "grantExport.head(5)"
   ]
  },
  {
   "cell_type": "markdown",
   "metadata": {},
   "source": [
    "## Linking Universities to Cantons"
   ]
  },
  {
   "cell_type": "markdown",
   "metadata": {},
   "source": [
    "We first extract the universities from the data and get only unique values."
   ]
  },
  {
   "cell_type": "code",
   "execution_count": 7,
   "metadata": {
    "collapsed": false
   },
   "outputs": [],
   "source": [
    "universities = grantExport['University'].unique()"
   ]
  },
  {
   "cell_type": "markdown",
   "metadata": {},
   "source": [
    "In order to find the univerisites addresses, we combined two APIs. \n",
    "* **Google Places API**\n",
    "This API provides a **text_search** method which has a really good performance in finding our universities and institute adresses. Unfortunately this method does not give us directly the Cantons associated to the locations, but only latitude/longitude. This is the reason why we used also the second API.\n",
    "* **GeoNames API**\n",
    "This API provides the method **reverse** which converts easily a location (latitude/longitude) into a Location with City/State/Country information."
   ]
  },
  {
   "cell_type": "code",
   "execution_count": 8,
   "metadata": {
    "collapsed": false
   },
   "outputs": [],
   "source": [
    "#Google Place API, use your own key\n",
    "GOOGLE_API_KEY = 'NO_API_SPECIFIED'\n",
    "google_places = GooglePlaces(GOOGLE_API_KEY)\n",
    "\n",
    "#GeoName API, feel free to use our account\n",
    "GEO_NAMES_ACCOUNT = \"blip2\"\n",
    "geolocator = geopy.geocoders.GeoNames(username=GEO_NAMES_ACCOUNT)\n"
   ]
  },
  {
   "cell_type": "markdown",
   "metadata": {},
   "source": [
    "We initialize a dictionnary with all universities of our list and \"None\" addresses. The next step will be to fill this dictionnary to translate Universities names to Locations."
   ]
  },
  {
   "cell_type": "code",
   "execution_count": 9,
   "metadata": {
    "collapsed": false
   },
   "outputs": [],
   "source": [
    "uni_adresses_dict = {}\n",
    "for university in universities:\n",
    "    uni_adresses_dict[university] = geopy.location.Location(address=\"None\")"
   ]
  },
  {
   "cell_type": "markdown",
   "metadata": {},
   "source": [
    "## Finding adresses of Universities using APIs\n",
    "\n",
    "We use our two API described above to translate Universities name into Location and save them in our dictionnary"
   ]
  },
  {
   "cell_type": "code",
   "execution_count": 7,
   "metadata": {
    "collapsed": false
   },
   "outputs": [],
   "source": [
    "if GOOGLE_API_KEY != 'NO_API_SPECIFIED':\n",
    "    #Iterate through all universities\n",
    "    for university in universities:\n",
    "        #Iterate through all parts of universities name\n",
    "        for keywords in university.split(\" - \"):\n",
    "            if str(uni_adresses_dict[university].address) == \"None\":\n",
    "                try:\n",
    "                    #Remmove abbreviations (words ending with a dot) from keywords since Google Place doesn't handle it well\n",
    "                    keywords = \" \".join(filter(lambda x:x.endswith('.')==False, str(keywords).split()))\n",
    "                    #Get google place associated to university name\n",
    "                    query_result = google_places.text_search((keywords), location=\"Switzerland\")\n",
    "                    #If there is a google place, get its location using GeoNames reverse with the latitude/longitude\n",
    "                    if len(query_result.places) > 0:\n",
    "                        location = query_result.places[0].geo_location\n",
    "                        location = geopy.point.Point(location['lat'], location['lng'])\n",
    "                        address = geolocator.reverse(location)[0]\n",
    "                        #Save the adress in the dictionary\n",
    "                        uni_adresses_dict[university] = address\n",
    "                except:\n",
    "                    print(\"Google Exception\")"
   ]
  },
  {
   "cell_type": "markdown",
   "metadata": {},
   "source": [
    "### Saving/Restoring results\n",
    "\n",
    "Since we use Google API and it has a limitation in the number of requests, we save the resulting dictionnary as csv file and read it in case we need to restore it."
   ]
  },
  {
   "cell_type": "code",
   "execution_count": 495,
   "metadata": {
    "collapsed": false
   },
   "outputs": [],
   "source": [
    "def saveAddressDictToCSV(path, dict):\n",
    "    with open(path, 'w+') as csv_file:\n",
    "        writer = csv.writer(csv_file)\n",
    "        for key, value in dict.items():\n",
    "           writer.writerow([key, value.address, value.latitude, value.longitude])"
   ]
  },
  {
   "cell_type": "code",
   "execution_count": 10,
   "metadata": {
    "collapsed": false
   },
   "outputs": [],
   "source": [
    "def loadAddressDictFromCSV(path):\n",
    "    with open(path, 'r') as csv_file:\n",
    "        reader = csv.reader(csv_file)\n",
    "        return dict([rows[0],geopy.location.Location(address=rows[1],point=geopy.point.Point(rows[2], rows[3]))] for rows in reader)"
   ]
  },
  {
   "cell_type": "code",
   "execution_count": 10,
   "metadata": {
    "collapsed": false
   },
   "outputs": [],
   "source": [
    "#Uncomment if you want to overwrite the CSV file\n",
    "#saveAddressDictToCSV(\"data/universities_addresses_dict.csv\", uni_adresses_dict)"
   ]
  },
  {
   "cell_type": "code",
   "execution_count": 11,
   "metadata": {
    "collapsed": false
   },
   "outputs": [],
   "source": [
    "uni_adresses_dict = loadAddressDictFromCSV(\"data/universities_addresses_dict.csv\")"
   ]
  },
  {
   "cell_type": "markdown",
   "metadata": {},
   "source": [
    "### Addresses check and cleaning\n",
    "\n",
    "We now need to check that we have all addresses and good addresses.\n",
    "\n",
    "For this purpose, we assume that all universities that found a match address in Switzerland are correct. These adresses have a **\" CH,\"** in their location. \n",
    "\n",
    "To have an idea, we start by counting the \"Wrong adresses\"."
   ]
  },
  {
   "cell_type": "code",
   "execution_count": 12,
   "metadata": {
    "collapsed": false
   },
   "outputs": [
    {
     "name": "stdout",
     "output_type": "stream",
     "text": [
      "71 address found over 78\n"
     ]
    }
   ],
   "source": [
    "found = sum([1 for x in uni_adresses_dict.keys() if uni_adresses_dict[x].address.endswith(\", CH\")])\n",
    "overall = sum([1 for x in uni_adresses_dict.keys()])\n",
    "print(found, \"address found over\", overall)"
   ]
  },
  {
   "cell_type": "markdown",
   "metadata": {},
   "source": [
    "Now that we have still these wrong addresses, we print them to have an idea of the possible problems"
   ]
  },
  {
   "cell_type": "code",
   "execution_count": 13,
   "metadata": {
    "collapsed": false
   },
   "outputs": [
    {
     "name": "stdout",
     "output_type": "stream",
     "text": [
      "problem with  located in: None\n",
      "problem with Weitere Institute - FINST located in: None\n",
      "problem with Fernfachhochschule Schweiz (Mitglied SUPSI) - FFHS located in: Croatan Shores, NC, US\n",
      "problem with Forschungsinstitut für Opthalmologie - IRO located in: Tübingen, 01, DE\n",
      "problem with Istituto Svizzero di Roma - ISR located in: Colonna, 07, IT\n",
      "problem with Forschungskommission SAGW located in: None\n",
      "problem with Weitere Spitäler - ASPIT located in: Høje Tåstrup, 17, DK\n"
     ]
    }
   ],
   "source": [
    "for university in uni_adresses_dict.keys():\n",
    "    if uni_adresses_dict[university].address.endswith(\", CH\") == False:\n",
    "        print(\"problem with\", university, \"located in:\", uni_adresses_dict[university])"
   ]
  },
  {
   "cell_type": "markdown",
   "metadata": {},
   "source": [
    "We observe first that there is an empty university. This is due to a missing entry in the University name in the data. We then decide to delete this field since it cannot be associated to an address"
   ]
  },
  {
   "cell_type": "code",
   "execution_count": 501,
   "metadata": {
    "collapsed": false
   },
   "outputs": [],
   "source": [
    "del uni_adresses_dict[\"\"]"
   ]
  },
  {
   "cell_type": "markdown",
   "metadata": {},
   "source": [
    "Second, we observe the two entries : **Weitere Institute** and **Weitere Spitäler**, which in german means other institute and other hospitals. We decide also to drop these entries for the same reason.\n",
    "\n",
    "*Note that Weitere Spitäler - ASPIT was wrongly assigned to an address in Denmark, because we tried in our loop all combination of the university name, ASPIT is a danish company\"*"
   ]
  },
  {
   "cell_type": "code",
   "execution_count": 502,
   "metadata": {
    "collapsed": false
   },
   "outputs": [],
   "source": [
    "del uni_adresses_dict[\"Weitere Institute - FINST\"]\n",
    "del uni_adresses_dict[\"Weitere Spitäler - ASPIT\"]"
   ]
  },
  {
   "cell_type": "markdown",
   "metadata": {},
   "source": [
    "Concerning the **Istituto Svizzero di Roma - ISR** located in Italy, after checking on the internet, we conclude that this institute is in fact correctly located in Italy.   \n",
    "\n",
    "Since the goal is to do a map representing grant accorded to universities and institue in Switzerland, we decide to drop this entry."
   ]
  },
  {
   "cell_type": "code",
   "execution_count": 503,
   "metadata": {
    "collapsed": true
   },
   "outputs": [],
   "source": [
    "del uni_adresses_dict[\"Istituto Svizzero di Roma - ISR\"]"
   ]
  },
  {
   "cell_type": "markdown",
   "metadata": {},
   "source": [
    "For the **Forschungsinstitut für Opthalmologie - IRO**, after looking on the internet, we found that it is actually the german translation (from french) for \"Institut de Recherche en Ophtalmologie\" located in Bramois, VS. We then assign it the location of this institute."
   ]
  },
  {
   "cell_type": "code",
   "execution_count": 504,
   "metadata": {
    "collapsed": false
   },
   "outputs": [
    {
     "name": "stdout",
     "output_type": "stream",
     "text": [
      "Préjeux, VS, CH\n"
     ]
    }
   ],
   "source": [
    "if GOOGLE_API_KEY != 'NO_API_SPECIFIED':\n",
    "    query_result = google_places.text_search(\"Institut de recherche en Ophtalmologie\", location=\"Switzerland\")\n",
    "    location = query_result.places[0].geo_location\n",
    "    location = geopy.point.Point(location['lat'], location['lng'])\n",
    "    location = geolocator.reverse(location)[0]\n",
    "    print(location)\n",
    "    uni_adresses_dict[\"Forschungsinstitut für Opthalmologie - IRO\"] = location"
   ]
  },
  {
   "cell_type": "markdown",
   "metadata": {},
   "source": [
    "For the remaining two :\n",
    "* Forschungskommission SAGW\n",
    "* Fernfachhochschule Schweiz (Mitglied SUPSI) - FFHS \n",
    "\n",
    "The unknown/wrong addresses we get are due to the fact that we do not split properly the part of the name in our loop. We then have to look each of them separetely with the name we believe corresponds best"
   ]
  },
  {
   "cell_type": "code",
   "execution_count": 505,
   "metadata": {
    "collapsed": false
   },
   "outputs": [
    {
     "name": "stdout",
     "output_type": "stream",
     "text": [
      "Bern / Marzili, BE, CH\n",
      "Brig, VS, CH\n"
     ]
    }
   ],
   "source": [
    "if GOOGLE_API_KEY != 'NO_API_SPECIFIED':\n",
    "    #Forschungskommission SAGW\n",
    "    query_result = google_places.text_search(\"SAGW\", location=\"Switzerland\")\n",
    "    location = query_result.places[0].geo_location\n",
    "    location = geopy.point.Point(location['lat'], location['lng'])\n",
    "    location = geolocator.reverse(location)[0]\n",
    "    print(location)\n",
    "    uni_adresses_dict[\"Forschungskommission SAGW\"] = location\n",
    "\n",
    "    #Fernfachhochschule Schweiz (Mitglied SUPSI) - FFHS \n",
    "    query_result = google_places.text_search(\"Fernfachhochschule Schweiz\", location=\"Switzerland\")\n",
    "    location = query_result.places[0].geo_location\n",
    "    location = geopy.point.Point(location['lat'], location['lng'])\n",
    "    location = geolocator.reverse(location)[0]\n",
    "    print(location)\n",
    "    uni_adresses_dict[\"Fernfachhochschule Schweiz (Mitglied SUPSI) - FFHS\"] = location"
   ]
  },
  {
   "cell_type": "markdown",
   "metadata": {
    "collapsed": false
   },
   "source": [
    "We can now check that we have addresses for all entries, located in Switzerland"
   ]
  },
  {
   "cell_type": "code",
   "execution_count": 506,
   "metadata": {
    "collapsed": false
   },
   "outputs": [
    {
     "name": "stdout",
     "output_type": "stream",
     "text": [
      "74 address found over 74\n"
     ]
    }
   ],
   "source": [
    "found = sum([1 for x in uni_adresses_dict.keys() if uni_adresses_dict[x].address.endswith(\", CH\")])\n",
    "overall = sum([1 for x in uni_adresses_dict.keys()])\n",
    "print(found, \"address found over\", overall)"
   ]
  },
  {
   "cell_type": "markdown",
   "metadata": {},
   "source": [
    "## Universities location vizualization\n",
    "\n",
    "We can now simply vizualize universities location on a map to check that everything is fine. For this we load the topo JSON containing Cantons border and add markers using the locations we found."
   ]
  },
  {
   "cell_type": "code",
   "execution_count": 43,
   "metadata": {
    "collapsed": false
   },
   "outputs": [
    {
     "name": "stdout",
     "output_type": "stream",
     "text": [
      "0.2.1\n"
     ]
    }
   ],
   "source": []
  },
  {
   "cell_type": "code",
   "execution_count": 17,
   "metadata": {
    "collapsed": false,
    "scrolled": false
   },
   "outputs": [],
   "source": [
    "ch_cantons = os.path.join('data', 'ch-cantons.topojson.json')\n",
    "\n",
    "topo_json_data = json.load(open(ch_cantons))\n",
    "\n",
    "Swiss_map = folium.Map([46.75, 8.25], zoom_start=8)\n",
    "\n",
    "folium.TopoJson(open(ch_cantons),\n",
    "                'objects.cantons',\n",
    "                style_function=lambda feature: {\n",
    "        'fillColor': '#ffff00',\n",
    "        'color': 'black',\n",
    "        'weight': 2,\n",
    "        'dashArray': '5, 5'\n",
    "    }).add_to(Swiss_map)\n",
    "\n",
    "for university in uni_adresses_dict.keys():\n",
    "    folium.Marker([uni_adresses_dict[university].latitude, uni_adresses_dict[university].longitude], popup=str(university)).add_to(Swiss_map)\n",
    "\n",
    "Swiss_map.save('swiss_map.html')    \n",
    "    "
   ]
  },
  {
   "cell_type": "code",
   "execution_count": 20,
   "metadata": {
    "collapsed": false
   },
   "outputs": [
    {
     "data": {
      "text/html": [
       "\n",
       "        <iframe\n",
       "            width=\"1200\"\n",
       "            height=\"600\"\n",
       "            src=\"swiss_map.html\"\n",
       "            frameborder=\"0\"\n",
       "            allowfullscreen\n",
       "        ></iframe>\n",
       "        "
      ],
      "text/plain": [
       "<IPython.lib.display.IFrame at 0x7fa792167710>"
      ]
     },
     "execution_count": 20,
     "metadata": {},
     "output_type": "execute_result"
    }
   ],
   "source": [
    "from IPython.display import IFrame\n",
    "IFrame('swiss_map.html', width=1200, height=600)"
   ]
  },
  {
   "cell_type": "markdown",
   "metadata": {
    "collapsed": false
   },
   "source": [
    "This looks quite good :)"
   ]
  },
  {
   "cell_type": "markdown",
   "metadata": {},
   "source": [
    "### Save/load the clean entries\n",
    "\n",
    "Now that our univerities-location dictionnary is clean, we can save it in order to reload it when needed without having to do other requests."
   ]
  },
  {
   "cell_type": "code",
   "execution_count": 57,
   "metadata": {
    "collapsed": false
   },
   "outputs": [],
   "source": [
    "#Uncomment if you want to overwrite the CSV file\n",
    "#saveAddressDictToCSV(\"data/universities_addresses_dict_clean.csv\", uni_adresses_dict)"
   ]
  },
  {
   "cell_type": "code",
   "execution_count": 21,
   "metadata": {
    "collapsed": false
   },
   "outputs": [],
   "source": [
    "uni_adresses_dict = loadAddressDictFromCSV(\"data/universities_addresses_dict_clean.csv\")"
   ]
  },
  {
   "cell_type": "markdown",
   "metadata": {},
   "source": [
    "# Vizualization"
   ]
  },
  {
   "cell_type": "markdown",
   "metadata": {},
   "source": [
    "## Computing total grant for each Canton\n",
    "\n",
    "The main goal of the viz is to display the grant difference between all Cantons. For this, we need to compute the total amount granted to each Canton.    \n",
    "\n",
    "Our first step is to convert the addresses found in the previous section to the Cantons, with official abbreviation (ZH for Zürich, VS for Valais, etc...)"
   ]
  },
  {
   "cell_type": "code",
   "execution_count": 22,
   "metadata": {
    "collapsed": false
   },
   "outputs": [
    {
     "data": {
      "text/html": [
       "<div>\n",
       "<table border=\"1\" class=\"dataframe\">\n",
       "  <thead>\n",
       "    <tr style=\"text-align: right;\">\n",
       "      <th></th>\n",
       "      <th>University</th>\n",
       "      <th>Canton</th>\n",
       "    </tr>\n",
       "  </thead>\n",
       "  <tbody>\n",
       "    <tr>\n",
       "      <th>0</th>\n",
       "      <td>Franklin University Switzerland - FUS</td>\n",
       "      <td>TI</td>\n",
       "    </tr>\n",
       "    <tr>\n",
       "      <th>1</th>\n",
       "      <td>Pädagogische Hochschule Schaffhausen - PHSH</td>\n",
       "      <td>SH</td>\n",
       "    </tr>\n",
       "    <tr>\n",
       "      <th>2</th>\n",
       "      <td>Fachhochschule Ostschweiz - FHO</td>\n",
       "      <td>SG</td>\n",
       "    </tr>\n",
       "    <tr>\n",
       "      <th>3</th>\n",
       "      <td>Robert Walser-Stiftung Bern - RWS</td>\n",
       "      <td>BE</td>\n",
       "    </tr>\n",
       "    <tr>\n",
       "      <th>4</th>\n",
       "      <td>Zürcher Fachhochschule (ohne PH) - ZFH</td>\n",
       "      <td>ZH</td>\n",
       "    </tr>\n",
       "  </tbody>\n",
       "</table>\n",
       "</div>"
      ],
      "text/plain": [
       "                                    University Canton\n",
       "0        Franklin University Switzerland - FUS     TI\n",
       "1  Pädagogische Hochschule Schaffhausen - PHSH     SH\n",
       "2              Fachhochschule Ostschweiz - FHO     SG\n",
       "3            Robert Walser-Stiftung Bern - RWS     BE\n",
       "4       Zürcher Fachhochschule (ohne PH) - ZFH     ZH"
      ]
     },
     "execution_count": 22,
     "metadata": {},
     "output_type": "execute_result"
    }
   ],
   "source": [
    "uni_adresses_dict_dataframe = pd.DataFrame([uni_adresses_dict.keys(), uni_adresses_dict.values()]).transpose()\n",
    "uni_adresses_dict_dataframe.columns = [['University', 'Address']]\n",
    "uni_adresses_dict_dataframe['Address'] = uni_adresses_dict_dataframe['Address'].map(lambda x: str(x).split(', ')[1])\n",
    "uni_adresses_dict_dataframe.columns = [['University', 'Canton']]\n",
    "uni_adresses_dict_dataframe.head()"
   ]
  },
  {
   "cell_type": "markdown",
   "metadata": {},
   "source": [
    "We then join the universities, the cantons and sum their grant, and group by university, in order to get a DataFrame containing one row for each University with Cantons and total amount granted.   \n",
    "\n",
    "The join will drop the Universities not present in our dictionnary (the ones that are not in Switzerland, or not defined)"
   ]
  },
  {
   "cell_type": "code",
   "execution_count": 23,
   "metadata": {
    "collapsed": false
   },
   "outputs": [
    {
     "data": {
      "text/html": [
       "<div>\n",
       "<table border=\"1\" class=\"dataframe\">\n",
       "  <thead>\n",
       "    <tr style=\"text-align: right;\">\n",
       "      <th></th>\n",
       "      <th>University</th>\n",
       "      <th>Canton</th>\n",
       "      <th>Approved Amount</th>\n",
       "    </tr>\n",
       "  </thead>\n",
       "  <tbody>\n",
       "    <tr>\n",
       "      <th>0</th>\n",
       "      <td>AO Research Institute - AORI</td>\n",
       "      <td>GR</td>\n",
       "      <td>3435621.0</td>\n",
       "    </tr>\n",
       "    <tr>\n",
       "      <th>1</th>\n",
       "      <td>Allergie- und Asthmaforschung - SIAF</td>\n",
       "      <td>GR</td>\n",
       "      <td>19169965.0</td>\n",
       "    </tr>\n",
       "    <tr>\n",
       "      <th>2</th>\n",
       "      <td>Berner Fachhochschule - BFH</td>\n",
       "      <td>BE</td>\n",
       "      <td>31028695.0</td>\n",
       "    </tr>\n",
       "    <tr>\n",
       "      <th>3</th>\n",
       "      <td>Biotechnologie Institut Thurgau - BITG</td>\n",
       "      <td>TG</td>\n",
       "      <td>2492535.0</td>\n",
       "    </tr>\n",
       "    <tr>\n",
       "      <th>4</th>\n",
       "      <td>Centre de rech. sur l'environnement alpin - CR...</td>\n",
       "      <td>VS</td>\n",
       "      <td>1567678.0</td>\n",
       "    </tr>\n",
       "  </tbody>\n",
       "</table>\n",
       "</div>"
      ],
      "text/plain": [
       "                                          University Canton  Approved Amount\n",
       "0                       AO Research Institute - AORI     GR        3435621.0\n",
       "1               Allergie- und Asthmaforschung - SIAF     GR       19169965.0\n",
       "2                        Berner Fachhochschule - BFH     BE       31028695.0\n",
       "3             Biotechnologie Institut Thurgau - BITG     TG        2492535.0\n",
       "4  Centre de rech. sur l'environnement alpin - CR...     VS        1567678.0"
      ]
     },
     "execution_count": 23,
     "metadata": {},
     "output_type": "execute_result"
    }
   ],
   "source": [
    "uni_canton_amount = pd.merge(uni_adresses_dict_dataframe, grantExport[['University', 'Approved Amount']], how='inner', on='University')\n",
    "uni_canton_amount['Approved Amount'] = uni_canton_amount['Approved Amount'].replace(\"data not included in P3\", \"0\")\n",
    "uni_canton_amount['Approved Amount'] = uni_canton_amount['Approved Amount'].astype(float)\n",
    "uni_canton_amount = uni_canton_amount.groupby(('University','Canton')).sum().reset_index()\n",
    "uni_canton_amount.head()"
   ]
  },
  {
   "cell_type": "markdown",
   "metadata": {},
   "source": [
    "We described the total approved amount to display mean, min, max, etc..."
   ]
  },
  {
   "cell_type": "code",
   "execution_count": 24,
   "metadata": {
    "collapsed": false
   },
   "outputs": [
    {
     "data": {
      "text/html": [
       "<div>\n",
       "<table border=\"1\" class=\"dataframe\">\n",
       "  <thead>\n",
       "    <tr style=\"text-align: right;\">\n",
       "      <th></th>\n",
       "      <th>Approved Amount</th>\n",
       "    </tr>\n",
       "  </thead>\n",
       "  <tbody>\n",
       "    <tr>\n",
       "      <th>count</th>\n",
       "      <td>7.400000e+01</td>\n",
       "    </tr>\n",
       "    <tr>\n",
       "      <th>mean</th>\n",
       "      <td>1.751043e+08</td>\n",
       "    </tr>\n",
       "    <tr>\n",
       "      <th>std</th>\n",
       "      <td>4.471245e+08</td>\n",
       "    </tr>\n",
       "    <tr>\n",
       "      <th>min</th>\n",
       "      <td>8.000000e+03</td>\n",
       "    </tr>\n",
       "    <tr>\n",
       "      <th>25%</th>\n",
       "      <td>1.454626e+06</td>\n",
       "    </tr>\n",
       "    <tr>\n",
       "      <th>50%</th>\n",
       "      <td>5.974951e+06</td>\n",
       "    </tr>\n",
       "    <tr>\n",
       "      <th>75%</th>\n",
       "      <td>4.432557e+07</td>\n",
       "    </tr>\n",
       "    <tr>\n",
       "      <th>max</th>\n",
       "      <td>1.838237e+09</td>\n",
       "    </tr>\n",
       "  </tbody>\n",
       "</table>\n",
       "</div>"
      ],
      "text/plain": [
       "       Approved Amount\n",
       "count     7.400000e+01\n",
       "mean      1.751043e+08\n",
       "std       4.471245e+08\n",
       "min       8.000000e+03\n",
       "25%       1.454626e+06\n",
       "50%       5.974951e+06\n",
       "75%       4.432557e+07\n",
       "max       1.838237e+09"
      ]
     },
     "execution_count": 24,
     "metadata": {},
     "output_type": "execute_result"
    }
   ],
   "source": [
    "uni_canton_amount.describe()"
   ]
  },
  {
   "cell_type": "markdown",
   "metadata": {},
   "source": [
    "We sort the universities by total amount of grant, and we see that the University of Geneva is the one with the biggest total grant."
   ]
  },
  {
   "cell_type": "code",
   "execution_count": 25,
   "metadata": {
    "collapsed": false
   },
   "outputs": [
    {
     "data": {
      "text/html": [
       "<div>\n",
       "<table border=\"1\" class=\"dataframe\">\n",
       "  <thead>\n",
       "    <tr style=\"text-align: right;\">\n",
       "      <th></th>\n",
       "      <th>University</th>\n",
       "      <th>Canton</th>\n",
       "      <th>Approved Amount</th>\n",
       "    </tr>\n",
       "  </thead>\n",
       "  <tbody>\n",
       "    <tr>\n",
       "      <th>70</th>\n",
       "      <td>Université de Genève - GE</td>\n",
       "      <td>GE</td>\n",
       "      <td>1.838237e+09</td>\n",
       "    </tr>\n",
       "    <tr>\n",
       "      <th>68</th>\n",
       "      <td>Universität Zürich - ZH</td>\n",
       "      <td>ZH</td>\n",
       "      <td>1.826843e+09</td>\n",
       "    </tr>\n",
       "    <tr>\n",
       "      <th>6</th>\n",
       "      <td>ETH Zürich - ETHZ</td>\n",
       "      <td>ZH</td>\n",
       "      <td>1.635597e+09</td>\n",
       "    </tr>\n",
       "    <tr>\n",
       "      <th>65</th>\n",
       "      <td>Universität Bern - BE</td>\n",
       "      <td>BE</td>\n",
       "      <td>1.519373e+09</td>\n",
       "    </tr>\n",
       "    <tr>\n",
       "      <th>64</th>\n",
       "      <td>Universität Basel - BS</td>\n",
       "      <td>BS</td>\n",
       "      <td>1.352251e+09</td>\n",
       "    </tr>\n",
       "  </tbody>\n",
       "</table>\n",
       "</div>"
      ],
      "text/plain": [
       "                   University Canton  Approved Amount\n",
       "70  Université de Genève - GE     GE     1.838237e+09\n",
       "68    Universität Zürich - ZH     ZH     1.826843e+09\n",
       "6           ETH Zürich - ETHZ     ZH     1.635597e+09\n",
       "65      Universität Bern - BE     BE     1.519373e+09\n",
       "64     Universität Basel - BS     BS     1.352251e+09"
      ]
     },
     "execution_count": 25,
     "metadata": {},
     "output_type": "execute_result"
    }
   ],
   "source": [
    "uni_canton_amount.sort_values('Approved Amount', ascending = False).head()"
   ]
  },
  {
   "cell_type": "markdown",
   "metadata": {},
   "source": [
    "Finally, we group the University by Canton and get the total grant for each Canton. \n",
    "\n",
    "With sorting, we see that universities and institute in the Canton of Zürich has received the biggest amount of grant."
   ]
  },
  {
   "cell_type": "code",
   "execution_count": 26,
   "metadata": {
    "collapsed": false
   },
   "outputs": [
    {
     "data": {
      "text/html": [
       "<div>\n",
       "<table border=\"1\" class=\"dataframe\">\n",
       "  <thead>\n",
       "    <tr style=\"text-align: right;\">\n",
       "      <th></th>\n",
       "      <th>Canton</th>\n",
       "      <th>Approved Amount</th>\n",
       "    </tr>\n",
       "  </thead>\n",
       "  <tbody>\n",
       "    <tr>\n",
       "      <th>19</th>\n",
       "      <td>ZH</td>\n",
       "      <td>3.659211e+09</td>\n",
       "    </tr>\n",
       "    <tr>\n",
       "      <th>16</th>\n",
       "      <td>VD</td>\n",
       "      <td>2.367547e+09</td>\n",
       "    </tr>\n",
       "    <tr>\n",
       "      <th>4</th>\n",
       "      <td>GE</td>\n",
       "      <td>1.877102e+09</td>\n",
       "    </tr>\n",
       "    <tr>\n",
       "      <th>1</th>\n",
       "      <td>BE</td>\n",
       "      <td>1.589884e+09</td>\n",
       "    </tr>\n",
       "    <tr>\n",
       "      <th>2</th>\n",
       "      <td>BS</td>\n",
       "      <td>1.392498e+09</td>\n",
       "    </tr>\n",
       "  </tbody>\n",
       "</table>\n",
       "</div>"
      ],
      "text/plain": [
       "   Canton  Approved Amount\n",
       "19     ZH     3.659211e+09\n",
       "16     VD     2.367547e+09\n",
       "4      GE     1.877102e+09\n",
       "1      BE     1.589884e+09\n",
       "2      BS     1.392498e+09"
      ]
     },
     "execution_count": 26,
     "metadata": {},
     "output_type": "execute_result"
    }
   ],
   "source": [
    "cantons_amount = uni_canton_amount.groupby('Canton').sum().reset_index()\n",
    "cantons_amount.sort_values('Approved Amount', ascending = False).head()"
   ]
  },
  {
   "cell_type": "markdown",
   "metadata": {},
   "source": [
    "## Choropleth\n",
    "\n",
    "We now have all information to display a Choropleth showing differences in Swiss Cantons in grant.\n",
    "\n",
    "We start by creating a dictionnary resolving the total approved amount for each university, this will let us put Markers on the map and let the user click on a specific university in order to see the total amount granted for it."
   ]
  },
  {
   "cell_type": "code",
   "execution_count": 27,
   "metadata": {
    "collapsed": false
   },
   "outputs": [],
   "source": [
    "uni_grant_dict = uni_canton_amount.set_index('University')['Approved Amount']"
   ]
  },
  {
   "cell_type": "markdown",
   "metadata": {},
   "source": [
    "Now if we want to display the choropleth, we need to have the data for every Canton on the map, but there is actually  a few Cantons which do not appear in our data, since they have no university/institutes.  \n",
    "\n",
    "To solve this, we will get the list of canton from the TopoJson and join it to our data, and put the amount 0 for the canton without University."
   ]
  },
  {
   "cell_type": "code",
   "execution_count": 28,
   "metadata": {
    "collapsed": true
   },
   "outputs": [],
   "source": [
    "cantons = []\n",
    "\n",
    "for geo in topo_json_data['objects']['cantons']['geometries']:\n",
    "    cantons = cantons + [geo['id']]\n",
    "cantons = pd.DataFrame(cantons, columns=['Canton'])\n",
    "\n",
    "cantons_amount = pd.merge(cantons, cantons_amount[['Canton', 'Approved Amount']], how='outer', on='Canton')\n",
    "\n",
    "cantons_amount = cantons_amount.fillna(0)"
   ]
  },
  {
   "cell_type": "markdown",
   "metadata": {
    "collapsed": false
   },
   "source": [
    "Now in order to display in a clearer way, we divide the amount by 1000, to have smaller numbers"
   ]
  },
  {
   "cell_type": "code",
   "execution_count": 29,
   "metadata": {
    "collapsed": false
   },
   "outputs": [],
   "source": [
    "cantons_amount_kchf = cantons_amount.copy()\n",
    "cantons_amount_kchf['Approved Amount'] = (cantons_amount_kchf['Approved Amount']/1000).astype(int)\n",
    "cantons_amount_kchf.columns = ['Canton', 'Approved Amount [in kCHF]']"
   ]
  },
  {
   "cell_type": "markdown",
   "metadata": {},
   "source": [
    "### Linear Choropleth\n",
    "\n",
    "We can finally display the Map with the Choropleth.  \n",
    "\n",
    "This will separate the groups linearly by amount, since there are huge differences in Cantons, this does not discriminate very well the ones with small amount."
   ]
  },
  {
   "cell_type": "code",
   "execution_count": 30,
   "metadata": {
    "collapsed": false
   },
   "outputs": [
    {
     "name": "stderr",
     "output_type": "stream",
     "text": [
      "/home/nathan/anaconda3/lib/python3.5/site-packages/ipykernel/__main__.py:8: FutureWarning: 'threshold_scale' default behavior has changed. Now you get a linear scale between the 'min' and the 'max' of your data. To get former behavior, use folium.utilities.split_six.\n"
     ]
    }
   ],
   "source": [
    "Swiss_map = folium.Map([46.75, 8.25], zoom_start=8)\n",
    "\n",
    "Swiss_map.choropleth(geo_path=ch_cantons, data=cantons_amount_kchf,\n",
    "               columns=['Canton', 'Approved Amount [in kCHF]'],\n",
    "               key_on='feature.id',\n",
    "               fill_color='BuPu', fill_opacity=0.8, line_opacity=0.3, \n",
    "               legend_name='Amount Granted For each Canton (kCHF)',\n",
    "               topojson='objects.cantons')\n",
    "\n",
    "for university in uni_adresses_dict.keys():\n",
    "    uni_amount_granted = int(uni_grant_dict[university])\n",
    "    folium.Marker([uni_adresses_dict[university].latitude, uni_adresses_dict[university].longitude], popup= (str(university + \" Total granted amount in CHF : \" + str(uni_amount_granted)))).add_to(Swiss_map)\n",
    "\n",
    "Swiss_map.save('linear_canton_grant.html')"
   ]
  },
  {
   "cell_type": "code",
   "execution_count": 31,
   "metadata": {
    "collapsed": false
   },
   "outputs": [
    {
     "data": {
      "text/html": [
       "\n",
       "        <iframe\n",
       "            width=\"1200\"\n",
       "            height=\"600\"\n",
       "            src=\"linear_canton_grant.html\"\n",
       "            frameborder=\"0\"\n",
       "            allowfullscreen\n",
       "        ></iframe>\n",
       "        "
      ],
      "text/plain": [
       "<IPython.lib.display.IFrame at 0x7fa7925895c0>"
      ]
     },
     "execution_count": 31,
     "metadata": {},
     "output_type": "execute_result"
    }
   ],
   "source": [
    "from IPython.display import IFrame\n",
    "IFrame('linear_canton_grant.html', width=1200, height=600)"
   ]
  },
  {
   "cell_type": "markdown",
   "metadata": {},
   "source": [
    "### Logarithmic choropleth\n",
    "\n",
    "In order to discriminate better the Cantons with small amount, we do another map with logarithmic threshold. We choose to use log byse 10, so the values will be easier to understand.  \n",
    "\n",
    "We first apply log10 function to all amount (Since we have 0 values, we set them to 0 instead of applying log)"
   ]
  },
  {
   "cell_type": "code",
   "execution_count": 33,
   "metadata": {
    "collapsed": false
   },
   "outputs": [
    {
     "data": {
      "text/plain": [
       "(0.0,\n",
       " 1.4285714285714286,\n",
       " 2.8571428571428572,\n",
       " 4.2857142857142856,\n",
       " 5.7142857142857144,\n",
       " 7.1428571428571432,\n",
       " 8.5714285714285712,\n",
       " 10.0)"
      ]
     },
     "execution_count": 33,
     "metadata": {},
     "output_type": "execute_result"
    }
   ],
   "source": [
    "dataLog = pd.DataFrame(cantons_amount.copy())\n",
    "dataLog['Approved Amount'] = dataLog['Approved Amount'].map(lambda x: math.log10(x) if x > 10 else 0)\n",
    "dataLog\n",
    "\n",
    "tuple(np.linspace(0,10,8))"
   ]
  },
  {
   "cell_type": "markdown",
   "metadata": {},
   "source": [
    "Then we can simply display the map with logarithmic values of amount granted, in CHF."
   ]
  },
  {
   "cell_type": "code",
   "execution_count": 34,
   "metadata": {
    "collapsed": false
   },
   "outputs": [],
   "source": [
    "Swiss_map = folium.Map([46.75, 8.25], zoom_start=8)\n",
    "\n",
    "Swiss_map.choropleth(geo_path=ch_cantons, data=dataLog,\n",
    "               columns=['Canton', 'Approved Amount'],\n",
    "               threshold_scale=tuple(np.linspace(0,10,6)),\n",
    "               key_on='feature.id',\n",
    "               fill_color='YlOrRd', fill_opacity=0.8, line_opacity=0.3, \n",
    "               legend_name='Amount Granted For each Canton (CHF)',\n",
    "               topojson='objects.cantons')\n",
    "\n",
    "for university in uni_adresses_dict.keys():\n",
    "    uni_amount_granted = int(uni_grant_dict[university])\n",
    "    folium.Marker([uni_adresses_dict[university].latitude, uni_adresses_dict[university].longitude], popup= (str(university + \" Total granted amount in CHF : \" + str(uni_amount_granted)))).add_to(Swiss_map)\n",
    "\n",
    "Swiss_map.save('log_canton_grant.html')"
   ]
  },
  {
   "cell_type": "code",
   "execution_count": 35,
   "metadata": {
    "collapsed": false
   },
   "outputs": [
    {
     "data": {
      "text/html": [
       "\n",
       "        <iframe\n",
       "            width=\"1200\"\n",
       "            height=\"600\"\n",
       "            src=\"log_canton_grant.html\"\n",
       "            frameborder=\"0\"\n",
       "            allowfullscreen\n",
       "        ></iframe>\n",
       "        "
      ],
      "text/plain": [
       "<IPython.lib.display.IFrame at 0x7fa790487320>"
      ]
     },
     "execution_count": 35,
     "metadata": {},
     "output_type": "execute_result"
    }
   ],
   "source": [
    "from IPython.display import IFrame\n",
    "IFrame('log_canton_grant.html', width=1200, height=600)"
   ]
  },
  {
   "cell_type": "markdown",
   "metadata": {},
   "source": [
    "We can observe now that Cantons with smaller amounts are now well differentiate, thanks to the log, this gives a better unerstanding of which Cantons belong to the group of receiver of big, medium or small grant.\n",
    "\n",
    "Here is an explanation of the values display : \n",
    "* Cantons with values 0-2 received 0 CHF in grant\n",
    "* Cantons with values 2-4 received between 100 and 10,000 CHF\n",
    "* Cantons with values 4-6 received between 10,000 and 1,000,000 CHF\n",
    "* Cantons with values 6-8 received between 1,000,000 and 100,000,000 CHF\n",
    "* Cantons with values 8-10 received between 100,000,000 and 10,000,000,000 CHF\n",
    "\n"
   ]
  },
  {
   "cell_type": "markdown",
   "metadata": {},
   "source": [
    "# Bonus\n",
    "\n",
    "We need to estimate the difference between areas divided by the Röstigraben. the three areas are \"Suisse Romande\", \"Schwyzerdütsch\" and \"Svizzera Italiana\", where people speak respectively french, german (kind of) and italian.\n",
    "\n",
    "For this, we first need to separate our Cantons according to the languages. Since some Cantons are in two different areas (Valais, Fribourg, Grison and Bern) of the Röstigraben, we need to separate each University by area.   \n",
    "\n",
    "We then first create a dataframe linking each university with the Area. All universities in Geneve, Vaud, Jura and Neuchatel are considered as part of the area \"Suisse Romande\". \n",
    "\n",
    "We checked on our map and we observed that from all the four Cantons splitted in two areas, only Valais has universities on both side (see maps above).\n",
    "\n",
    "We then assigned the two swiss-german university manually to the area \"Schwyzerdütsch\", and the rest in \"Suisse Romande\". We assigned all uni of Fribourg to \"Suisse Romande\" and all of Bern and Grison to \"Schwyzerdütsch\".\n",
    "\n",
    "We also assign universites of Ticino to \"Svizzera Italiana\", and all the rest to \"Schwyzerdütsch\"."
   ]
  },
  {
   "cell_type": "code",
   "execution_count": 70,
   "metadata": {
    "collapsed": false
   },
   "outputs": [
    {
     "data": {
      "text/html": [
       "<div>\n",
       "<table border=\"1\" class=\"dataframe\">\n",
       "  <thead>\n",
       "    <tr style=\"text-align: right;\">\n",
       "      <th></th>\n",
       "      <th>University</th>\n",
       "      <th>Region</th>\n",
       "    </tr>\n",
       "  </thead>\n",
       "  <tbody>\n",
       "    <tr>\n",
       "      <th>0</th>\n",
       "      <td>Université de Lausanne - LA</td>\n",
       "      <td>Suisse Romande</td>\n",
       "    </tr>\n",
       "    <tr>\n",
       "      <th>1</th>\n",
       "      <td>Haute école pédagogique fribourgeoise - HEPFR</td>\n",
       "      <td>Suisse Romande</td>\n",
       "    </tr>\n",
       "    <tr>\n",
       "      <th>2</th>\n",
       "      <td>Pädagogische Hochschule Zürich - PHZFH</td>\n",
       "      <td>Schwyzerdütsch</td>\n",
       "    </tr>\n",
       "    <tr>\n",
       "      <th>3</th>\n",
       "      <td>Université de Fribourg - FR</td>\n",
       "      <td>Suisse Romande</td>\n",
       "    </tr>\n",
       "    <tr>\n",
       "      <th>4</th>\n",
       "      <td>Paul Scherrer Institut - PSI</td>\n",
       "      <td>Schwyzerdütsch</td>\n",
       "    </tr>\n",
       "  </tbody>\n",
       "</table>\n",
       "</div>"
      ],
      "text/plain": [
       "                                      University          Region\n",
       "0                    Université de Lausanne - LA  Suisse Romande\n",
       "1  Haute école pédagogique fribourgeoise - HEPFR  Suisse Romande\n",
       "2         Pädagogische Hochschule Zürich - PHZFH  Schwyzerdütsch\n",
       "3                    Université de Fribourg - FR  Suisse Romande\n",
       "4                   Paul Scherrer Institut - PSI  Schwyzerdütsch"
      ]
     },
     "execution_count": 70,
     "metadata": {},
     "output_type": "execute_result"
    }
   ],
   "source": [
    "uni_zone_dict = {}\n",
    "for university in uni_adresses_dict_dataframe['University']:\n",
    "    canton = uni_canton_amount[uni_canton_amount.University == university]['Canton']\n",
    "    if(canton.item() == 'GE' or canton.item() == 'VD' or canton.item() == 'FR' or canton.item() == 'NE' or canton.item() == 'JU'):\n",
    "        uni_zone_dict[university] = 'Suisse Romande'\n",
    "    elif(canton.item() == 'VS'):\n",
    "        if(university == 'Pädagogische Hochschule Wallis - PHVS' or university == 'Fernfachhochschule Schweiz (Mitglied SUPSI) - FFHS'):\n",
    "            uni_zone_dict[university] = 'Schwyzerdütsch'\n",
    "        else:\n",
    "            uni_zone_dict[university] = 'Suisse Romande'\n",
    "    elif(canton.item() == 'TI'):\n",
    "        uni_zone_dict[university] = 'Svizzera Italiana'\n",
    "    else:\n",
    "        uni_zone_dict[university] = 'Schwyzerdütsch'\n",
    "uni_zone = pd.DataFrame([uni_zone_dict.keys(), uni_zone_dict.values()]).transpose()\n",
    "uni_zone.columns = ['University', 'Region']\n",
    "uni_zone.head()"
   ]
  },
  {
   "cell_type": "markdown",
   "metadata": {},
   "source": [
    "We now join the universities, areas, canton and amount"
   ]
  },
  {
   "cell_type": "code",
   "execution_count": 71,
   "metadata": {
    "collapsed": false
   },
   "outputs": [
    {
     "data": {
      "text/html": [
       "<div>\n",
       "<table border=\"1\" class=\"dataframe\">\n",
       "  <thead>\n",
       "    <tr style=\"text-align: right;\">\n",
       "      <th></th>\n",
       "      <th>University</th>\n",
       "      <th>Region</th>\n",
       "      <th>Canton</th>\n",
       "      <th>Approved Amount</th>\n",
       "    </tr>\n",
       "  </thead>\n",
       "  <tbody>\n",
       "    <tr>\n",
       "      <th>0</th>\n",
       "      <td>Université de Lausanne - LA</td>\n",
       "      <td>Suisse Romande</td>\n",
       "      <td>VD</td>\n",
       "      <td>1.183291e+09</td>\n",
       "    </tr>\n",
       "    <tr>\n",
       "      <th>1</th>\n",
       "      <td>Haute école pédagogique fribourgeoise - HEPFR</td>\n",
       "      <td>Suisse Romande</td>\n",
       "      <td>FR</td>\n",
       "      <td>1.547498e+06</td>\n",
       "    </tr>\n",
       "    <tr>\n",
       "      <th>2</th>\n",
       "      <td>Pädagogische Hochschule Zürich - PHZFH</td>\n",
       "      <td>Schwyzerdütsch</td>\n",
       "      <td>ZH</td>\n",
       "      <td>3.298346e+06</td>\n",
       "    </tr>\n",
       "    <tr>\n",
       "      <th>3</th>\n",
       "      <td>Université de Fribourg - FR</td>\n",
       "      <td>Suisse Romande</td>\n",
       "      <td>FR</td>\n",
       "      <td>4.575262e+08</td>\n",
       "    </tr>\n",
       "    <tr>\n",
       "      <th>4</th>\n",
       "      <td>Paul Scherrer Institut - PSI</td>\n",
       "      <td>Schwyzerdütsch</td>\n",
       "      <td>AG</td>\n",
       "      <td>1.152690e+08</td>\n",
       "    </tr>\n",
       "  </tbody>\n",
       "</table>\n",
       "</div>"
      ],
      "text/plain": [
       "                                      University          Region Canton  \\\n",
       "0                    Université de Lausanne - LA  Suisse Romande     VD   \n",
       "1  Haute école pédagogique fribourgeoise - HEPFR  Suisse Romande     FR   \n",
       "2         Pädagogische Hochschule Zürich - PHZFH  Schwyzerdütsch     ZH   \n",
       "3                    Université de Fribourg - FR  Suisse Romande     FR   \n",
       "4                   Paul Scherrer Institut - PSI  Schwyzerdütsch     AG   \n",
       "\n",
       "   Approved Amount  \n",
       "0     1.183291e+09  \n",
       "1     1.547498e+06  \n",
       "2     3.298346e+06  \n",
       "3     4.575262e+08  \n",
       "4     1.152690e+08  "
      ]
     },
     "execution_count": 71,
     "metadata": {},
     "output_type": "execute_result"
    }
   ],
   "source": [
    "uni_canton_amount_region = pd.merge(uni_zone, uni_canton_amount, how='outer', on='University')\n",
    "uni_canton_amount_region.head()"
   ]
  },
  {
   "cell_type": "markdown",
   "metadata": {},
   "source": [
    "And we can finally simply display the amount for each areas"
   ]
  },
  {
   "cell_type": "code",
   "execution_count": 72,
   "metadata": {
    "collapsed": false
   },
   "outputs": [
    {
     "data": {
      "text/html": [
       "<div>\n",
       "<table border=\"1\" class=\"dataframe\">\n",
       "  <thead>\n",
       "    <tr style=\"text-align: right;\">\n",
       "      <th></th>\n",
       "      <th>Region</th>\n",
       "      <th>Approved Amount</th>\n",
       "    </tr>\n",
       "  </thead>\n",
       "  <tbody>\n",
       "    <tr>\n",
       "      <th>0</th>\n",
       "      <td>Schwyzerdütsch</td>\n",
       "      <td>7.673469e+09</td>\n",
       "    </tr>\n",
       "    <tr>\n",
       "      <th>1</th>\n",
       "      <td>Suisse Romande</td>\n",
       "      <td>5.169149e+09</td>\n",
       "    </tr>\n",
       "    <tr>\n",
       "      <th>2</th>\n",
       "      <td>Svizzera Italiana</td>\n",
       "      <td>1.151030e+08</td>\n",
       "    </tr>\n",
       "  </tbody>\n",
       "</table>\n",
       "</div>"
      ],
      "text/plain": [
       "              Region  Approved Amount\n",
       "0     Schwyzerdütsch     7.673469e+09\n",
       "1     Suisse Romande     5.169149e+09\n",
       "2  Svizzera Italiana     1.151030e+08"
      ]
     },
     "execution_count": 72,
     "metadata": {},
     "output_type": "execute_result"
    }
   ],
   "source": [
    "region_amount = uni_canton_amount_region[['Region','Approved Amount']]\n",
    "region_amount_groupby = region_amount.groupby('Region').sum()\n",
    "region_amount_groupby = region_amount_groupby.reset_index()\n",
    "region_amount_groupby"
   ]
  },
  {
   "cell_type": "markdown",
   "metadata": {
    "collapsed": true
   },
   "source": [
    "According to wikipedia https://fr.wikipedia.org/wiki/Langues_en_Suisse#Usage_des_langues_nationales_par_la_population_immigrante, the areas Schwyzerdütsch, Suisse Romande and Svizzera Italiana represents respectively 72.5%, 21.0%, 4.3% of the local population.\n",
    "\n",
    "Therefore, we can compute a (very) rough estimate of the relative grant according to population and find the above result. (We use 8 million for Switzerland's population)"
   ]
  },
  {
   "cell_type": "code",
   "execution_count": 73,
   "metadata": {
    "collapsed": false
   },
   "outputs": [
    {
     "data": {
      "text/html": [
       "<div>\n",
       "<table border=\"1\" class=\"dataframe\">\n",
       "  <thead>\n",
       "    <tr style=\"text-align: right;\">\n",
       "      <th></th>\n",
       "      <th>Region</th>\n",
       "      <th>Approved Amount in CHF per people</th>\n",
       "    </tr>\n",
       "  </thead>\n",
       "  <tbody>\n",
       "    <tr>\n",
       "      <th>0</th>\n",
       "      <td>Schwyzerdütsch</td>\n",
       "      <td>1323.011975</td>\n",
       "    </tr>\n",
       "    <tr>\n",
       "      <th>1</th>\n",
       "      <td>Suisse Romande</td>\n",
       "      <td>3076.874522</td>\n",
       "    </tr>\n",
       "    <tr>\n",
       "      <th>2</th>\n",
       "      <td>Svizzera Italiana</td>\n",
       "      <td>334.601753</td>\n",
       "    </tr>\n",
       "  </tbody>\n",
       "</table>\n",
       "</div>"
      ],
      "text/plain": [
       "              Region  Approved Amount in CHF per people\n",
       "0     Schwyzerdütsch                        1323.011975\n",
       "1     Suisse Romande                        3076.874522\n",
       "2  Svizzera Italiana                         334.601753"
      ]
     },
     "execution_count": 73,
     "metadata": {},
     "output_type": "execute_result"
    }
   ],
   "source": [
    "relative_region_amount_groupby = region_amount_groupby.copy()\n",
    "relative_region_amount_groupby['Approved Amount'] = relative_region_amount_groupby['Approved Amount'] / 8000000/ [0.725, 0.21, 0.043]\n",
    "relative_region_amount_groupby.columns = ['Region', 'Approved Amount in CHF per people']\n",
    "relative_region_amount_groupby"
   ]
  },
  {
   "cell_type": "markdown",
   "metadata": {},
   "source": [
    "We see that there is a clear disparity according to regions, Suisse romande seems to receive almost 10 times more grant than Svizzera Italiana relatively to its population, and more than twice than Schwyzerdütsch.\n",
    "\n",
    "**But there are a lot of factors that can explain this difference, this is by no mean a significant statistic.**\n"
   ]
  }
 ],
 "metadata": {
  "anaconda-cloud": {},
  "kernelspec": {
   "display_name": "Python [Root]",
   "language": "python",
   "name": "Python [Root]"
  },
  "language_info": {
   "codemirror_mode": {
    "name": "ipython",
    "version": 3
   },
   "file_extension": ".py",
   "mimetype": "text/x-python",
   "name": "python",
   "nbconvert_exporter": "python",
   "pygments_lexer": "ipython3",
   "version": "3.5.2"
  },
  "nav_menu": {},
  "toc": {
   "navigate_menu": true,
   "number_sections": false,
   "sideBar": false,
   "threshold": "3",
   "toc_cell": true,
   "toc_section_display": "block",
   "toc_window_display": false
  }
 },
 "nbformat": 4,
 "nbformat_minor": 1
}
