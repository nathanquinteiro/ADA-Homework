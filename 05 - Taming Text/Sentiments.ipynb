{
 "cells": [
  {
   "cell_type": "markdown",
   "metadata": {},
   "source": [
    "# Sentiments analysis\n",
    "\n",
    "Find all the mentions of world countries in the whole corpus, using the pycountry utility (HINT: remember that there will be different surface forms for the same country in the text, e.g., Switzerland, switzerland, CH, etc.) Perform sentiment analysis on every email message using the demo methods in the nltk.sentiment.util module. Aggregate the polarity information of all the emails by country, and plot a histogram (ordered and colored by polarity level) that summarizes the perception of the different countries. Repeat the aggregation + plotting steps using different demo methods from the sentiment analysis module -- can you find substantial differences?\n"
   ]
  },
  {
   "cell_type": "code",
   "execution_count": 325,
   "metadata": {
    "collapsed": false
   },
   "outputs": [],
   "source": [
    "import pandas as pd                                     \n",
    "import numpy as np                                      \n",
    "import os                         \n",
    "\n",
    "\n",
    "import matplotlib.pyplot as plt\n",
    "\n",
    "from datetime import datetime\n",
    "\n",
    "%matplotlib inline\n",
    "import seaborn as sns\n",
    "\n",
    "import pycountry"
   ]
  },
  {
   "cell_type": "markdown",
   "metadata": {},
   "source": [
    "# Create the country list\n",
    "\n",
    "The first thing to do is to establish a list with all countries, and for each country, we want to obtain a maximum amount of different form (e.g. Switzerland, CH, Swiss Confederation, etc...)."
   ]
  },
  {
   "cell_type": "markdown",
   "metadata": {},
   "source": [
    "## Getting list from pycountry\n",
    "\n",
    "We therefore use the pycountry utility and create a DataFrame with all existing names for each countries"
   ]
  },
  {
   "cell_type": "code",
   "execution_count": 368,
   "metadata": {
    "collapsed": false
   },
   "outputs": [
    {
     "name": "stdout",
     "output_type": "stream",
     "text": [
      "76 countries without official name, on a total of 249 countries\n"
     ]
    },
    {
     "data": {
      "text/html": [
       "<div>\n",
       "<table border=\"1\" class=\"dataframe\">\n",
       "  <thead>\n",
       "    <tr style=\"text-align: right;\">\n",
       "      <th></th>\n",
       "      <th>Alpha2</th>\n",
       "      <th>Alpha3</th>\n",
       "      <th>English Name</th>\n",
       "      <th>Official Name</th>\n",
       "    </tr>\n",
       "  </thead>\n",
       "  <tbody>\n",
       "    <tr>\n",
       "      <th>0</th>\n",
       "      <td>AW</td>\n",
       "      <td>ABW</td>\n",
       "      <td>Aruba</td>\n",
       "      <td>None</td>\n",
       "    </tr>\n",
       "    <tr>\n",
       "      <th>1</th>\n",
       "      <td>AF</td>\n",
       "      <td>AFG</td>\n",
       "      <td>Afghanistan</td>\n",
       "      <td>Islamic Republic of Afghanistan</td>\n",
       "    </tr>\n",
       "    <tr>\n",
       "      <th>2</th>\n",
       "      <td>AO</td>\n",
       "      <td>AGO</td>\n",
       "      <td>Angola</td>\n",
       "      <td>Republic of Angola</td>\n",
       "    </tr>\n",
       "    <tr>\n",
       "      <th>3</th>\n",
       "      <td>AI</td>\n",
       "      <td>AIA</td>\n",
       "      <td>Anguilla</td>\n",
       "      <td>None</td>\n",
       "    </tr>\n",
       "    <tr>\n",
       "      <th>4</th>\n",
       "      <td>AX</td>\n",
       "      <td>ALA</td>\n",
       "      <td>Åland Islands</td>\n",
       "      <td>None</td>\n",
       "    </tr>\n",
       "  </tbody>\n",
       "</table>\n",
       "</div>"
      ],
      "text/plain": [
       "  Alpha2 Alpha3   English Name                    Official Name\n",
       "0     AW    ABW          Aruba                             None\n",
       "1     AF    AFG    Afghanistan  Islamic Republic of Afghanistan\n",
       "2     AO    AGO         Angola               Republic of Angola\n",
       "3     AI    AIA       Anguilla                             None\n",
       "4     AX    ALA  Åland Islands                             None"
      ]
     },
     "execution_count": 368,
     "metadata": {},
     "output_type": "execute_result"
    }
   ],
   "source": [
    "countries = []\n",
    "no_official = 0\n",
    "tot = 0\n",
    "for country in pycountry.countries:\n",
    "    tot += 1\n",
    "    official_name = None\n",
    "    try:\n",
    "        official_name = country.official_name\n",
    "    except:\n",
    "        no_official += 1\n",
    "        \n",
    "    countries.append([country.alpha_2, country.alpha_3, country.name, official_name])\n",
    "    \n",
    "countries_df = pd.DataFrame(countries)\n",
    "countries_df.columns = [\"Alpha2\", \"Alpha3\", \"English Name\", \"Official Name\"]\n",
    "\n",
    "print(no_official, \"countries without official name, on a total of\", tot, \"countries\")\n",
    "countries_df.head()"
   ]
  },
  {
   "cell_type": "markdown",
   "metadata": {},
   "source": [
    "## Data Cleaning\n",
    "\n",
    "We observed that some countries, like the Åland Islands, have accents in their names, we therefore decide to remove all accents. (And we'll do so for the mails content)."
   ]
  },
  {
   "cell_type": "code",
   "execution_count": 369,
   "metadata": {
    "collapsed": false
   },
   "outputs": [
    {
     "data": {
      "text/html": [
       "<div>\n",
       "<table border=\"1\" class=\"dataframe\">\n",
       "  <thead>\n",
       "    <tr style=\"text-align: right;\">\n",
       "      <th></th>\n",
       "      <th>Alpha2</th>\n",
       "      <th>Alpha3</th>\n",
       "      <th>English Name</th>\n",
       "      <th>Official Name</th>\n",
       "    </tr>\n",
       "  </thead>\n",
       "  <tbody>\n",
       "    <tr>\n",
       "      <th>4</th>\n",
       "      <td>AX</td>\n",
       "      <td>ALA</td>\n",
       "      <td>Åland Islands</td>\n",
       "      <td>None</td>\n",
       "    </tr>\n",
       "  </tbody>\n",
       "</table>\n",
       "</div>"
      ],
      "text/plain": [
       "  Alpha2 Alpha3   English Name Official Name\n",
       "4     AX    ALA  Åland Islands          None"
      ]
     },
     "execution_count": 369,
     "metadata": {},
     "output_type": "execute_result"
    }
   ],
   "source": [
    "countries_df[countries_df[\"Alpha2\"] == \"AX\"]"
   ]
  },
  {
   "cell_type": "code",
   "execution_count": 370,
   "metadata": {
    "collapsed": true
   },
   "outputs": [],
   "source": [
    "import unicodedata\n",
    "\n",
    "def remove_accents(input_str):\n",
    "    nfkd_form = unicodedata.normalize('NFKD', input_str)\n",
    "    return u\"\".join([c for c in nfkd_form if not unicodedata.combining(c)])"
   ]
  },
  {
   "cell_type": "code",
   "execution_count": 371,
   "metadata": {
    "collapsed": false
   },
   "outputs": [
    {
     "data": {
      "text/html": [
       "<div>\n",
       "<table border=\"1\" class=\"dataframe\">\n",
       "  <thead>\n",
       "    <tr style=\"text-align: right;\">\n",
       "      <th></th>\n",
       "      <th>Alpha2</th>\n",
       "      <th>Alpha3</th>\n",
       "      <th>English Name</th>\n",
       "      <th>Official Name</th>\n",
       "    </tr>\n",
       "  </thead>\n",
       "  <tbody>\n",
       "    <tr>\n",
       "      <th>0</th>\n",
       "      <td>AW</td>\n",
       "      <td>ABW</td>\n",
       "      <td>Aruba</td>\n",
       "      <td>None</td>\n",
       "    </tr>\n",
       "    <tr>\n",
       "      <th>1</th>\n",
       "      <td>AF</td>\n",
       "      <td>AFG</td>\n",
       "      <td>Afghanistan</td>\n",
       "      <td>Islamic Republic of Afghanistan</td>\n",
       "    </tr>\n",
       "    <tr>\n",
       "      <th>2</th>\n",
       "      <td>AO</td>\n",
       "      <td>AGO</td>\n",
       "      <td>Angola</td>\n",
       "      <td>Republic of Angola</td>\n",
       "    </tr>\n",
       "    <tr>\n",
       "      <th>3</th>\n",
       "      <td>AI</td>\n",
       "      <td>AIA</td>\n",
       "      <td>Anguilla</td>\n",
       "      <td>None</td>\n",
       "    </tr>\n",
       "    <tr>\n",
       "      <th>4</th>\n",
       "      <td>AX</td>\n",
       "      <td>ALA</td>\n",
       "      <td>Aland Islands</td>\n",
       "      <td>None</td>\n",
       "    </tr>\n",
       "  </tbody>\n",
       "</table>\n",
       "</div>"
      ],
      "text/plain": [
       "  Alpha2 Alpha3   English Name                    Official Name\n",
       "0     AW    ABW          Aruba                             None\n",
       "1     AF    AFG    Afghanistan  Islamic Republic of Afghanistan\n",
       "2     AO    AGO         Angola               Republic of Angola\n",
       "3     AI    AIA       Anguilla                             None\n",
       "4     AX    ALA  Aland Islands                             None"
      ]
     },
     "execution_count": 371,
     "metadata": {},
     "output_type": "execute_result"
    }
   ],
   "source": [
    "for country in countries_df:\n",
    "    for i in range (len(countries_df[country])):\n",
    "        if countries_df[country][i] != None:\n",
    "            countries_df[country][i] = remove_accents(countries_df[country][i])\n",
    "countries_df.head()"
   ]
  },
  {
   "cell_type": "code",
   "execution_count": 372,
   "metadata": {
    "collapsed": false
   },
   "outputs": [
    {
     "data": {
      "text/html": [
       "<div>\n",
       "<table border=\"1\" class=\"dataframe\">\n",
       "  <thead>\n",
       "    <tr style=\"text-align: right;\">\n",
       "      <th></th>\n",
       "      <th>Alpha2</th>\n",
       "      <th>Alpha3</th>\n",
       "      <th>English Name</th>\n",
       "      <th>Official Name</th>\n",
       "    </tr>\n",
       "  </thead>\n",
       "  <tbody>\n",
       "    <tr>\n",
       "      <th>4</th>\n",
       "      <td>AX</td>\n",
       "      <td>ALA</td>\n",
       "      <td>Aland Islands</td>\n",
       "      <td>None</td>\n",
       "    </tr>\n",
       "  </tbody>\n",
       "</table>\n",
       "</div>"
      ],
      "text/plain": [
       "  Alpha2 Alpha3   English Name Official Name\n",
       "4     AX    ALA  Aland Islands          None"
      ]
     },
     "execution_count": 372,
     "metadata": {},
     "output_type": "execute_result"
    }
   ],
   "source": [
    "countries_df[countries_df[\"Alpha2\"] == \"AX\"]"
   ]
  },
  {
   "cell_type": "markdown",
   "metadata": {},
   "source": [
    "## Official Names Evaluation\n",
    "\n",
    "We observe that a large amount of countries does not have an official name in pycountry. We want to evaluate the official names we obtained in order to decide wether to keep them, and in this case, how to treat them.\n",
    "\n",
    "We then compute a DataFrame containing only countries for which we obtained the official name."
   ]
  },
  {
   "cell_type": "code",
   "execution_count": 373,
   "metadata": {
    "collapsed": false
   },
   "outputs": [
    {
     "name": "stdout",
     "output_type": "stream",
     "text": [
      "Number of countries with official names 173\n"
     ]
    },
    {
     "data": {
      "text/html": [
       "<div>\n",
       "<table border=\"1\" class=\"dataframe\">\n",
       "  <thead>\n",
       "    <tr style=\"text-align: right;\">\n",
       "      <th></th>\n",
       "      <th>Alpha2</th>\n",
       "      <th>Alpha3</th>\n",
       "      <th>English Name</th>\n",
       "      <th>Official Name</th>\n",
       "    </tr>\n",
       "  </thead>\n",
       "  <tbody>\n",
       "    <tr>\n",
       "      <th>1</th>\n",
       "      <td>AF</td>\n",
       "      <td>AFG</td>\n",
       "      <td>Afghanistan</td>\n",
       "      <td>Islamic Republic of Afghanistan</td>\n",
       "    </tr>\n",
       "    <tr>\n",
       "      <th>2</th>\n",
       "      <td>AO</td>\n",
       "      <td>AGO</td>\n",
       "      <td>Angola</td>\n",
       "      <td>Republic of Angola</td>\n",
       "    </tr>\n",
       "    <tr>\n",
       "      <th>5</th>\n",
       "      <td>AL</td>\n",
       "      <td>ALB</td>\n",
       "      <td>Albania</td>\n",
       "      <td>Republic of Albania</td>\n",
       "    </tr>\n",
       "    <tr>\n",
       "      <th>6</th>\n",
       "      <td>AD</td>\n",
       "      <td>AND</td>\n",
       "      <td>Andorra</td>\n",
       "      <td>Principality of Andorra</td>\n",
       "    </tr>\n",
       "    <tr>\n",
       "      <th>8</th>\n",
       "      <td>AR</td>\n",
       "      <td>ARG</td>\n",
       "      <td>Argentina</td>\n",
       "      <td>Argentine Republic</td>\n",
       "    </tr>\n",
       "  </tbody>\n",
       "</table>\n",
       "</div>"
      ],
      "text/plain": [
       "  Alpha2 Alpha3 English Name                    Official Name\n",
       "1     AF    AFG  Afghanistan  Islamic Republic of Afghanistan\n",
       "2     AO    AGO       Angola               Republic of Angola\n",
       "5     AL    ALB      Albania              Republic of Albania\n",
       "6     AD    AND      Andorra          Principality of Andorra\n",
       "8     AR    ARG    Argentina               Argentine Republic"
      ]
     },
     "execution_count": 373,
     "metadata": {},
     "output_type": "execute_result"
    }
   ],
   "source": [
    "countries_with_official_names = countries_df[countries_df[\"Official Name\"].notnull()]\n",
    "print(\"Number of countries with official names\", len(countries_with_official_names))\n",
    "countries_with_official_names.head()"
   ]
  },
  {
   "cell_type": "markdown",
   "metadata": {},
   "source": [
    "We expect most of the official names of the countries to contains only a copy of the simple name with some prefix like \"Republic of\", \"State of\", etc...\n",
    "\n",
    "But maybe some official names may contains different information, we therefore compute the countries with an official names that do not contains the simple english name."
   ]
  },
  {
   "cell_type": "code",
   "execution_count": 374,
   "metadata": {
    "collapsed": false
   },
   "outputs": [
    {
     "name": "stdout",
     "output_type": "stream",
     "text": [
      "Number of official name with new information 23 / 173\n"
     ]
    },
    {
     "data": {
      "text/html": [
       "<div>\n",
       "<table border=\"1\" class=\"dataframe\">\n",
       "  <thead>\n",
       "    <tr style=\"text-align: right;\">\n",
       "      <th></th>\n",
       "      <th>Alpha2</th>\n",
       "      <th>Alpha3</th>\n",
       "      <th>English Name</th>\n",
       "      <th>Official Name</th>\n",
       "    </tr>\n",
       "  </thead>\n",
       "  <tbody>\n",
       "    <tr>\n",
       "      <th>8</th>\n",
       "      <td>AR</td>\n",
       "      <td>ARG</td>\n",
       "      <td>Argentina</td>\n",
       "      <td>Argentine Republic</td>\n",
       "    </tr>\n",
       "    <tr>\n",
       "      <th>31</th>\n",
       "      <td>BO</td>\n",
       "      <td>BOL</td>\n",
       "      <td>Bolivia, Plurinational State of</td>\n",
       "      <td>Plurinational State of Bolivia</td>\n",
       "    </tr>\n",
       "    <tr>\n",
       "      <th>41</th>\n",
       "      <td>CH</td>\n",
       "      <td>CHE</td>\n",
       "      <td>Switzerland</td>\n",
       "      <td>Swiss Confederation</td>\n",
       "    </tr>\n",
       "    <tr>\n",
       "      <th>58</th>\n",
       "      <td>CZ</td>\n",
       "      <td>CZE</td>\n",
       "      <td>Czechia</td>\n",
       "      <td>Czech Republic</td>\n",
       "    </tr>\n",
       "    <tr>\n",
       "      <th>75</th>\n",
       "      <td>FR</td>\n",
       "      <td>FRA</td>\n",
       "      <td>France</td>\n",
       "      <td>French Republic</td>\n",
       "    </tr>\n",
       "    <tr>\n",
       "      <th>77</th>\n",
       "      <td>FM</td>\n",
       "      <td>FSM</td>\n",
       "      <td>Micronesia, Federated States of</td>\n",
       "      <td>Federated States of Micronesia</td>\n",
       "    </tr>\n",
       "    <tr>\n",
       "      <th>89</th>\n",
       "      <td>GR</td>\n",
       "      <td>GRC</td>\n",
       "      <td>Greece</td>\n",
       "      <td>Hellenic Republic</td>\n",
       "    </tr>\n",
       "    <tr>\n",
       "      <th>107</th>\n",
       "      <td>IR</td>\n",
       "      <td>IRN</td>\n",
       "      <td>Iran, Islamic Republic of</td>\n",
       "      <td>Islamic Republic of Iran</td>\n",
       "    </tr>\n",
       "    <tr>\n",
       "      <th>111</th>\n",
       "      <td>IT</td>\n",
       "      <td>ITA</td>\n",
       "      <td>Italy</td>\n",
       "      <td>Italian Republic</td>\n",
       "    </tr>\n",
       "    <tr>\n",
       "      <th>118</th>\n",
       "      <td>KG</td>\n",
       "      <td>KGZ</td>\n",
       "      <td>Kyrgyzstan</td>\n",
       "      <td>Kyrgyz Republic</td>\n",
       "    </tr>\n",
       "    <tr>\n",
       "      <th>125</th>\n",
       "      <td>LB</td>\n",
       "      <td>LBN</td>\n",
       "      <td>Lebanon</td>\n",
       "      <td>Lebanese Republic</td>\n",
       "    </tr>\n",
       "    <tr>\n",
       "      <th>139</th>\n",
       "      <td>MD</td>\n",
       "      <td>MDA</td>\n",
       "      <td>Moldova, Republic of</td>\n",
       "      <td>Republic of Moldova</td>\n",
       "    </tr>\n",
       "    <tr>\n",
       "      <th>142</th>\n",
       "      <td>MX</td>\n",
       "      <td>MEX</td>\n",
       "      <td>Mexico</td>\n",
       "      <td>United Mexican States</td>\n",
       "    </tr>\n",
       "    <tr>\n",
       "      <th>144</th>\n",
       "      <td>MK</td>\n",
       "      <td>MKD</td>\n",
       "      <td>Macedonia, Republic of</td>\n",
       "      <td>The Former Yugoslav Republic of Macedonia</td>\n",
       "    </tr>\n",
       "    <tr>\n",
       "      <th>181</th>\n",
       "      <td>KP</td>\n",
       "      <td>PRK</td>\n",
       "      <td>Korea, Democratic People's Republic of</td>\n",
       "      <td>Democratic People's Republic of Korea</td>\n",
       "    </tr>\n",
       "    <tr>\n",
       "      <th>182</th>\n",
       "      <td>PT</td>\n",
       "      <td>PRT</td>\n",
       "      <td>Portugal</td>\n",
       "      <td>Portuguese Republic</td>\n",
       "    </tr>\n",
       "    <tr>\n",
       "      <th>184</th>\n",
       "      <td>PS</td>\n",
       "      <td>PSE</td>\n",
       "      <td>Palestine, State of</td>\n",
       "      <td>the State of Palestine</td>\n",
       "    </tr>\n",
       "    <tr>\n",
       "      <th>190</th>\n",
       "      <td>RW</td>\n",
       "      <td>RWA</td>\n",
       "      <td>Rwanda</td>\n",
       "      <td>Rwandese Republic</td>\n",
       "    </tr>\n",
       "    <tr>\n",
       "      <th>208</th>\n",
       "      <td>SK</td>\n",
       "      <td>SVK</td>\n",
       "      <td>Slovakia</td>\n",
       "      <td>Slovak Republic</td>\n",
       "    </tr>\n",
       "    <tr>\n",
       "      <th>229</th>\n",
       "      <td>TZ</td>\n",
       "      <td>TZA</td>\n",
       "      <td>Tanzania, United Republic of</td>\n",
       "      <td>United Republic of Tanzania</td>\n",
       "    </tr>\n",
       "    <tr>\n",
       "      <th>238</th>\n",
       "      <td>VE</td>\n",
       "      <td>VEN</td>\n",
       "      <td>Venezuela, Bolivarian Republic of</td>\n",
       "      <td>Bolivarian Republic of Venezuela</td>\n",
       "    </tr>\n",
       "    <tr>\n",
       "      <th>239</th>\n",
       "      <td>VG</td>\n",
       "      <td>VGB</td>\n",
       "      <td>Virgin Islands, British</td>\n",
       "      <td>British Virgin Islands</td>\n",
       "    </tr>\n",
       "    <tr>\n",
       "      <th>240</th>\n",
       "      <td>VI</td>\n",
       "      <td>VIR</td>\n",
       "      <td>Virgin Islands, U.S.</td>\n",
       "      <td>Virgin Islands of the United States</td>\n",
       "    </tr>\n",
       "  </tbody>\n",
       "</table>\n",
       "</div>"
      ],
      "text/plain": [
       "    Alpha2 Alpha3                            English Name  \\\n",
       "8       AR    ARG                               Argentina   \n",
       "31      BO    BOL         Bolivia, Plurinational State of   \n",
       "41      CH    CHE                             Switzerland   \n",
       "58      CZ    CZE                                 Czechia   \n",
       "75      FR    FRA                                  France   \n",
       "77      FM    FSM         Micronesia, Federated States of   \n",
       "89      GR    GRC                                  Greece   \n",
       "107     IR    IRN               Iran, Islamic Republic of   \n",
       "111     IT    ITA                                   Italy   \n",
       "118     KG    KGZ                              Kyrgyzstan   \n",
       "125     LB    LBN                                 Lebanon   \n",
       "139     MD    MDA                    Moldova, Republic of   \n",
       "142     MX    MEX                                  Mexico   \n",
       "144     MK    MKD                  Macedonia, Republic of   \n",
       "181     KP    PRK  Korea, Democratic People's Republic of   \n",
       "182     PT    PRT                                Portugal   \n",
       "184     PS    PSE                     Palestine, State of   \n",
       "190     RW    RWA                                  Rwanda   \n",
       "208     SK    SVK                                Slovakia   \n",
       "229     TZ    TZA            Tanzania, United Republic of   \n",
       "238     VE    VEN       Venezuela, Bolivarian Republic of   \n",
       "239     VG    VGB                 Virgin Islands, British   \n",
       "240     VI    VIR                    Virgin Islands, U.S.   \n",
       "\n",
       "                                 Official Name  \n",
       "8                           Argentine Republic  \n",
       "31              Plurinational State of Bolivia  \n",
       "41                         Swiss Confederation  \n",
       "58                              Czech Republic  \n",
       "75                             French Republic  \n",
       "77              Federated States of Micronesia  \n",
       "89                           Hellenic Republic  \n",
       "107                   Islamic Republic of Iran  \n",
       "111                           Italian Republic  \n",
       "118                            Kyrgyz Republic  \n",
       "125                          Lebanese Republic  \n",
       "139                        Republic of Moldova  \n",
       "142                      United Mexican States  \n",
       "144  The Former Yugoslav Republic of Macedonia  \n",
       "181      Democratic People's Republic of Korea  \n",
       "182                        Portuguese Republic  \n",
       "184                     the State of Palestine  \n",
       "190                          Rwandese Republic  \n",
       "208                            Slovak Republic  \n",
       "229                United Republic of Tanzania  \n",
       "238           Bolivarian Republic of Venezuela  \n",
       "239                     British Virgin Islands  \n",
       "240        Virgin Islands of the United States  "
      ]
     },
     "execution_count": 374,
     "metadata": {},
     "output_type": "execute_result"
    }
   ],
   "source": [
    "contained_filter = countries_with_official_names.apply(lambda x: x['English Name'].lower() not in x['Official Name'].lower(), axis=1)\n",
    "print(\"Number of official name with new information\", len(countries_with_official_names[contained_filter]), \"/\", len(countries_with_official_names))\n",
    "countries_with_official_names[contained_filter]"
   ]
  },
  {
   "cell_type": "markdown",
   "metadata": {},
   "source": [
    "We observe that most of this official names contains in fact adjective of the country. We now have to chose wether to keep this new information, or discard them.\n",
    "\n",
    "If we chose to consider the usage of a country adjective in Hillary Clinton's mail as a reference for the country, this could lead to large bias. For example, if she mention \"swiss cheese\" or \"swiss knife\" in one of her mail, this would be associated to the country Switzerland, even if the content of the mail does not represent the sentiment toward the country.\n",
    "\n",
    "We decide then to **discard the adjective**, and we'll use only the simple english name of country.\n",
    "\n",
    "*ps: Note that some official names contains interesting info, like **Hellenic Republic for Greece** for example, which is a total different expression. But we chose to discard these informations because we think that these expression are not use in a regular basis and won't be used in the mail to denote the countries*"
   ]
  },
  {
   "cell_type": "code",
   "execution_count": 375,
   "metadata": {
    "collapsed": false
   },
   "outputs": [],
   "source": [
    "countries_df = countries_df.drop([\"Official Name\"],1)"
   ]
  },
  {
   "cell_type": "markdown",
   "metadata": {},
   "source": [
    "## Countries Names Analysis\n",
    "\n",
    "We now want to analyse the simple name of the countries, in order to now how to treat them and how to use their words to associate the mails to the countries.\n",
    "\n",
    "For this purpose, we start by looking at the composed names."
   ]
  },
  {
   "cell_type": "code",
   "execution_count": 376,
   "metadata": {
    "collapsed": false
   },
   "outputs": [
    {
     "name": "stdout",
     "output_type": "stream",
     "text": [
      "Number of composed names 80 / 249\n"
     ]
    },
    {
     "data": {
      "text/html": [
       "<div>\n",
       "<table border=\"1\" class=\"dataframe\">\n",
       "  <thead>\n",
       "    <tr style=\"text-align: right;\">\n",
       "      <th></th>\n",
       "      <th>Alpha2</th>\n",
       "      <th>Alpha3</th>\n",
       "      <th>English Name</th>\n",
       "    </tr>\n",
       "  </thead>\n",
       "  <tbody>\n",
       "    <tr>\n",
       "      <th>4</th>\n",
       "      <td>AX</td>\n",
       "      <td>ALA</td>\n",
       "      <td>Aland Islands</td>\n",
       "    </tr>\n",
       "    <tr>\n",
       "      <th>7</th>\n",
       "      <td>AE</td>\n",
       "      <td>ARE</td>\n",
       "      <td>United Arab Emirates</td>\n",
       "    </tr>\n",
       "    <tr>\n",
       "      <th>10</th>\n",
       "      <td>AS</td>\n",
       "      <td>ASM</td>\n",
       "      <td>American Samoa</td>\n",
       "    </tr>\n",
       "    <tr>\n",
       "      <th>12</th>\n",
       "      <td>TF</td>\n",
       "      <td>ATF</td>\n",
       "      <td>French Southern Territories</td>\n",
       "    </tr>\n",
       "    <tr>\n",
       "      <th>13</th>\n",
       "      <td>AG</td>\n",
       "      <td>ATG</td>\n",
       "      <td>Antigua and Barbuda</td>\n",
       "    </tr>\n",
       "    <tr>\n",
       "      <th>20</th>\n",
       "      <td>BQ</td>\n",
       "      <td>BES</td>\n",
       "      <td>Bonaire, Sint Eustatius and Saba</td>\n",
       "    </tr>\n",
       "    <tr>\n",
       "      <th>21</th>\n",
       "      <td>BF</td>\n",
       "      <td>BFA</td>\n",
       "      <td>Burkina Faso</td>\n",
       "    </tr>\n",
       "    <tr>\n",
       "      <th>26</th>\n",
       "      <td>BA</td>\n",
       "      <td>BIH</td>\n",
       "      <td>Bosnia and Herzegovina</td>\n",
       "    </tr>\n",
       "    <tr>\n",
       "      <th>27</th>\n",
       "      <td>BL</td>\n",
       "      <td>BLM</td>\n",
       "      <td>Saint Barthelemy</td>\n",
       "    </tr>\n",
       "    <tr>\n",
       "      <th>31</th>\n",
       "      <td>BO</td>\n",
       "      <td>BOL</td>\n",
       "      <td>Bolivia, Plurinational State of</td>\n",
       "    </tr>\n",
       "    <tr>\n",
       "      <th>34</th>\n",
       "      <td>BN</td>\n",
       "      <td>BRN</td>\n",
       "      <td>Brunei Darussalam</td>\n",
       "    </tr>\n",
       "    <tr>\n",
       "      <th>36</th>\n",
       "      <td>BV</td>\n",
       "      <td>BVT</td>\n",
       "      <td>Bouvet Island</td>\n",
       "    </tr>\n",
       "    <tr>\n",
       "      <th>38</th>\n",
       "      <td>CF</td>\n",
       "      <td>CAF</td>\n",
       "      <td>Central African Republic</td>\n",
       "    </tr>\n",
       "    <tr>\n",
       "      <th>40</th>\n",
       "      <td>CC</td>\n",
       "      <td>CCK</td>\n",
       "      <td>Cocos (Keeling) Islands</td>\n",
       "    </tr>\n",
       "    <tr>\n",
       "      <th>44</th>\n",
       "      <td>CI</td>\n",
       "      <td>CIV</td>\n",
       "      <td>Cote d'Ivoire</td>\n",
       "    </tr>\n",
       "    <tr>\n",
       "      <th>46</th>\n",
       "      <td>CD</td>\n",
       "      <td>COD</td>\n",
       "      <td>Congo, The Democratic Republic of the</td>\n",
       "    </tr>\n",
       "    <tr>\n",
       "      <th>48</th>\n",
       "      <td>CK</td>\n",
       "      <td>COK</td>\n",
       "      <td>Cook Islands</td>\n",
       "    </tr>\n",
       "    <tr>\n",
       "      <th>51</th>\n",
       "      <td>CV</td>\n",
       "      <td>CPV</td>\n",
       "      <td>Cabo Verde</td>\n",
       "    </tr>\n",
       "    <tr>\n",
       "      <th>52</th>\n",
       "      <td>CR</td>\n",
       "      <td>CRI</td>\n",
       "      <td>Costa Rica</td>\n",
       "    </tr>\n",
       "    <tr>\n",
       "      <th>55</th>\n",
       "      <td>CX</td>\n",
       "      <td>CXR</td>\n",
       "      <td>Christmas Island</td>\n",
       "    </tr>\n",
       "    <tr>\n",
       "      <th>56</th>\n",
       "      <td>KY</td>\n",
       "      <td>CYM</td>\n",
       "      <td>Cayman Islands</td>\n",
       "    </tr>\n",
       "    <tr>\n",
       "      <th>63</th>\n",
       "      <td>DO</td>\n",
       "      <td>DOM</td>\n",
       "      <td>Dominican Republic</td>\n",
       "    </tr>\n",
       "    <tr>\n",
       "      <th>68</th>\n",
       "      <td>EH</td>\n",
       "      <td>ESH</td>\n",
       "      <td>Western Sahara</td>\n",
       "    </tr>\n",
       "    <tr>\n",
       "      <th>74</th>\n",
       "      <td>FK</td>\n",
       "      <td>FLK</td>\n",
       "      <td>Falkland Islands (Malvinas)</td>\n",
       "    </tr>\n",
       "    <tr>\n",
       "      <th>76</th>\n",
       "      <td>FO</td>\n",
       "      <td>FRO</td>\n",
       "      <td>Faroe Islands</td>\n",
       "    </tr>\n",
       "    <tr>\n",
       "      <th>77</th>\n",
       "      <td>FM</td>\n",
       "      <td>FSM</td>\n",
       "      <td>Micronesia, Federated States of</td>\n",
       "    </tr>\n",
       "    <tr>\n",
       "      <th>79</th>\n",
       "      <td>GB</td>\n",
       "      <td>GBR</td>\n",
       "      <td>United Kingdom</td>\n",
       "    </tr>\n",
       "    <tr>\n",
       "      <th>88</th>\n",
       "      <td>GQ</td>\n",
       "      <td>GNQ</td>\n",
       "      <td>Equatorial Guinea</td>\n",
       "    </tr>\n",
       "    <tr>\n",
       "      <th>93</th>\n",
       "      <td>GF</td>\n",
       "      <td>GUF</td>\n",
       "      <td>French Guiana</td>\n",
       "    </tr>\n",
       "    <tr>\n",
       "      <th>96</th>\n",
       "      <td>HK</td>\n",
       "      <td>HKG</td>\n",
       "      <td>Hong Kong</td>\n",
       "    </tr>\n",
       "    <tr>\n",
       "      <th>...</th>\n",
       "      <td>...</td>\n",
       "      <td>...</td>\n",
       "      <td>...</td>\n",
       "    </tr>\n",
       "    <tr>\n",
       "      <th>184</th>\n",
       "      <td>PS</td>\n",
       "      <td>PSE</td>\n",
       "      <td>Palestine, State of</td>\n",
       "    </tr>\n",
       "    <tr>\n",
       "      <th>185</th>\n",
       "      <td>PF</td>\n",
       "      <td>PYF</td>\n",
       "      <td>French Polynesia</td>\n",
       "    </tr>\n",
       "    <tr>\n",
       "      <th>189</th>\n",
       "      <td>RU</td>\n",
       "      <td>RUS</td>\n",
       "      <td>Russian Federation</td>\n",
       "    </tr>\n",
       "    <tr>\n",
       "      <th>191</th>\n",
       "      <td>SA</td>\n",
       "      <td>SAU</td>\n",
       "      <td>Saudi Arabia</td>\n",
       "    </tr>\n",
       "    <tr>\n",
       "      <th>195</th>\n",
       "      <td>GS</td>\n",
       "      <td>SGS</td>\n",
       "      <td>South Georgia and the South Sandwich Islands</td>\n",
       "    </tr>\n",
       "    <tr>\n",
       "      <th>196</th>\n",
       "      <td>SH</td>\n",
       "      <td>SHN</td>\n",
       "      <td>Saint Helena, Ascension and Tristan da Cunha</td>\n",
       "    </tr>\n",
       "    <tr>\n",
       "      <th>197</th>\n",
       "      <td>SJ</td>\n",
       "      <td>SJM</td>\n",
       "      <td>Svalbard and Jan Mayen</td>\n",
       "    </tr>\n",
       "    <tr>\n",
       "      <th>198</th>\n",
       "      <td>SB</td>\n",
       "      <td>SLB</td>\n",
       "      <td>Solomon Islands</td>\n",
       "    </tr>\n",
       "    <tr>\n",
       "      <th>199</th>\n",
       "      <td>SL</td>\n",
       "      <td>SLE</td>\n",
       "      <td>Sierra Leone</td>\n",
       "    </tr>\n",
       "    <tr>\n",
       "      <th>200</th>\n",
       "      <td>SV</td>\n",
       "      <td>SLV</td>\n",
       "      <td>El Salvador</td>\n",
       "    </tr>\n",
       "    <tr>\n",
       "      <th>201</th>\n",
       "      <td>SM</td>\n",
       "      <td>SMR</td>\n",
       "      <td>San Marino</td>\n",
       "    </tr>\n",
       "    <tr>\n",
       "      <th>203</th>\n",
       "      <td>PM</td>\n",
       "      <td>SPM</td>\n",
       "      <td>Saint Pierre and Miquelon</td>\n",
       "    </tr>\n",
       "    <tr>\n",
       "      <th>205</th>\n",
       "      <td>SS</td>\n",
       "      <td>SSD</td>\n",
       "      <td>South Sudan</td>\n",
       "    </tr>\n",
       "    <tr>\n",
       "      <th>206</th>\n",
       "      <td>ST</td>\n",
       "      <td>STP</td>\n",
       "      <td>Sao Tome and Principe</td>\n",
       "    </tr>\n",
       "    <tr>\n",
       "      <th>212</th>\n",
       "      <td>SX</td>\n",
       "      <td>SXM</td>\n",
       "      <td>Sint Maarten (Dutch part)</td>\n",
       "    </tr>\n",
       "    <tr>\n",
       "      <th>214</th>\n",
       "      <td>SY</td>\n",
       "      <td>SYR</td>\n",
       "      <td>Syrian Arab Republic</td>\n",
       "    </tr>\n",
       "    <tr>\n",
       "      <th>215</th>\n",
       "      <td>TC</td>\n",
       "      <td>TCA</td>\n",
       "      <td>Turks and Caicos Islands</td>\n",
       "    </tr>\n",
       "    <tr>\n",
       "      <th>224</th>\n",
       "      <td>TT</td>\n",
       "      <td>TTO</td>\n",
       "      <td>Trinidad and Tobago</td>\n",
       "    </tr>\n",
       "    <tr>\n",
       "      <th>228</th>\n",
       "      <td>TW</td>\n",
       "      <td>TWN</td>\n",
       "      <td>Taiwan, Province of China</td>\n",
       "    </tr>\n",
       "    <tr>\n",
       "      <th>229</th>\n",
       "      <td>TZ</td>\n",
       "      <td>TZA</td>\n",
       "      <td>Tanzania, United Republic of</td>\n",
       "    </tr>\n",
       "    <tr>\n",
       "      <th>232</th>\n",
       "      <td>UM</td>\n",
       "      <td>UMI</td>\n",
       "      <td>United States Minor Outlying Islands</td>\n",
       "    </tr>\n",
       "    <tr>\n",
       "      <th>234</th>\n",
       "      <td>US</td>\n",
       "      <td>USA</td>\n",
       "      <td>United States</td>\n",
       "    </tr>\n",
       "    <tr>\n",
       "      <th>236</th>\n",
       "      <td>VA</td>\n",
       "      <td>VAT</td>\n",
       "      <td>Holy See (Vatican City State)</td>\n",
       "    </tr>\n",
       "    <tr>\n",
       "      <th>237</th>\n",
       "      <td>VC</td>\n",
       "      <td>VCT</td>\n",
       "      <td>Saint Vincent and the Grenadines</td>\n",
       "    </tr>\n",
       "    <tr>\n",
       "      <th>238</th>\n",
       "      <td>VE</td>\n",
       "      <td>VEN</td>\n",
       "      <td>Venezuela, Bolivarian Republic of</td>\n",
       "    </tr>\n",
       "    <tr>\n",
       "      <th>239</th>\n",
       "      <td>VG</td>\n",
       "      <td>VGB</td>\n",
       "      <td>Virgin Islands, British</td>\n",
       "    </tr>\n",
       "    <tr>\n",
       "      <th>240</th>\n",
       "      <td>VI</td>\n",
       "      <td>VIR</td>\n",
       "      <td>Virgin Islands, U.S.</td>\n",
       "    </tr>\n",
       "    <tr>\n",
       "      <th>241</th>\n",
       "      <td>VN</td>\n",
       "      <td>VNM</td>\n",
       "      <td>Viet Nam</td>\n",
       "    </tr>\n",
       "    <tr>\n",
       "      <th>243</th>\n",
       "      <td>WF</td>\n",
       "      <td>WLF</td>\n",
       "      <td>Wallis and Futuna</td>\n",
       "    </tr>\n",
       "    <tr>\n",
       "      <th>246</th>\n",
       "      <td>ZA</td>\n",
       "      <td>ZAF</td>\n",
       "      <td>South Africa</td>\n",
       "    </tr>\n",
       "  </tbody>\n",
       "</table>\n",
       "<p>80 rows × 3 columns</p>\n",
       "</div>"
      ],
      "text/plain": [
       "    Alpha2 Alpha3                                  English Name\n",
       "4       AX    ALA                                 Aland Islands\n",
       "7       AE    ARE                          United Arab Emirates\n",
       "10      AS    ASM                                American Samoa\n",
       "12      TF    ATF                   French Southern Territories\n",
       "13      AG    ATG                           Antigua and Barbuda\n",
       "20      BQ    BES              Bonaire, Sint Eustatius and Saba\n",
       "21      BF    BFA                                  Burkina Faso\n",
       "26      BA    BIH                        Bosnia and Herzegovina\n",
       "27      BL    BLM                              Saint Barthelemy\n",
       "31      BO    BOL               Bolivia, Plurinational State of\n",
       "34      BN    BRN                             Brunei Darussalam\n",
       "36      BV    BVT                                 Bouvet Island\n",
       "38      CF    CAF                      Central African Republic\n",
       "40      CC    CCK                       Cocos (Keeling) Islands\n",
       "44      CI    CIV                                 Cote d'Ivoire\n",
       "46      CD    COD         Congo, The Democratic Republic of the\n",
       "48      CK    COK                                  Cook Islands\n",
       "51      CV    CPV                                    Cabo Verde\n",
       "52      CR    CRI                                    Costa Rica\n",
       "55      CX    CXR                              Christmas Island\n",
       "56      KY    CYM                                Cayman Islands\n",
       "63      DO    DOM                            Dominican Republic\n",
       "68      EH    ESH                                Western Sahara\n",
       "74      FK    FLK                   Falkland Islands (Malvinas)\n",
       "76      FO    FRO                                 Faroe Islands\n",
       "77      FM    FSM               Micronesia, Federated States of\n",
       "79      GB    GBR                                United Kingdom\n",
       "88      GQ    GNQ                             Equatorial Guinea\n",
       "93      GF    GUF                                 French Guiana\n",
       "96      HK    HKG                                     Hong Kong\n",
       "..     ...    ...                                           ...\n",
       "184     PS    PSE                           Palestine, State of\n",
       "185     PF    PYF                              French Polynesia\n",
       "189     RU    RUS                            Russian Federation\n",
       "191     SA    SAU                                  Saudi Arabia\n",
       "195     GS    SGS  South Georgia and the South Sandwich Islands\n",
       "196     SH    SHN  Saint Helena, Ascension and Tristan da Cunha\n",
       "197     SJ    SJM                        Svalbard and Jan Mayen\n",
       "198     SB    SLB                               Solomon Islands\n",
       "199     SL    SLE                                  Sierra Leone\n",
       "200     SV    SLV                                   El Salvador\n",
       "201     SM    SMR                                    San Marino\n",
       "203     PM    SPM                     Saint Pierre and Miquelon\n",
       "205     SS    SSD                                   South Sudan\n",
       "206     ST    STP                         Sao Tome and Principe\n",
       "212     SX    SXM                     Sint Maarten (Dutch part)\n",
       "214     SY    SYR                          Syrian Arab Republic\n",
       "215     TC    TCA                      Turks and Caicos Islands\n",
       "224     TT    TTO                           Trinidad and Tobago\n",
       "228     TW    TWN                     Taiwan, Province of China\n",
       "229     TZ    TZA                  Tanzania, United Republic of\n",
       "232     UM    UMI          United States Minor Outlying Islands\n",
       "234     US    USA                                 United States\n",
       "236     VA    VAT                 Holy See (Vatican City State)\n",
       "237     VC    VCT              Saint Vincent and the Grenadines\n",
       "238     VE    VEN             Venezuela, Bolivarian Republic of\n",
       "239     VG    VGB                       Virgin Islands, British\n",
       "240     VI    VIR                          Virgin Islands, U.S.\n",
       "241     VN    VNM                                      Viet Nam\n",
       "243     WF    WLF                             Wallis and Futuna\n",
       "246     ZA    ZAF                                  South Africa\n",
       "\n",
       "[80 rows x 3 columns]"
      ]
     },
     "execution_count": 376,
     "metadata": {},
     "output_type": "execute_result"
    }
   ],
   "source": [
    "composed_filter = countries_df.apply(lambda x: len(x['English Name'].split(\" \")) > 1, axis=1)\n",
    "print(\"Number of composed names\", len(countries_df[composed_filter]), \"/\", len(countries_df))\n",
    "countries_df[composed_filter]"
   ]
  },
  {
   "cell_type": "markdown",
   "metadata": {},
   "source": [
    "We notice some things that need to be treated in the countries names : \n",
    "* Some names contains comma\n",
    "* Some names contains parenthesis\n",
    "* Some names contain \"Republic\" in it"
   ]
  },
  {
   "cell_type": "markdown",
   "metadata": {},
   "source": [
    "### Names with comma\n",
    "\n",
    "We noticed that some names contain comma. We want to take a look at them and treat them properly."
   ]
  },
  {
   "cell_type": "code",
   "execution_count": 377,
   "metadata": {
    "collapsed": false
   },
   "outputs": [
    {
     "data": {
      "text/html": [
       "<div>\n",
       "<table border=\"1\" class=\"dataframe\">\n",
       "  <thead>\n",
       "    <tr style=\"text-align: right;\">\n",
       "      <th></th>\n",
       "      <th>Alpha2</th>\n",
       "      <th>Alpha3</th>\n",
       "      <th>English Name</th>\n",
       "    </tr>\n",
       "  </thead>\n",
       "  <tbody>\n",
       "    <tr>\n",
       "      <th>20</th>\n",
       "      <td>BQ</td>\n",
       "      <td>BES</td>\n",
       "      <td>Bonaire, Sint Eustatius and Saba</td>\n",
       "    </tr>\n",
       "    <tr>\n",
       "      <th>31</th>\n",
       "      <td>BO</td>\n",
       "      <td>BOL</td>\n",
       "      <td>Bolivia, Plurinational State of</td>\n",
       "    </tr>\n",
       "    <tr>\n",
       "      <th>46</th>\n",
       "      <td>CD</td>\n",
       "      <td>COD</td>\n",
       "      <td>Congo, The Democratic Republic of the</td>\n",
       "    </tr>\n",
       "    <tr>\n",
       "      <th>77</th>\n",
       "      <td>FM</td>\n",
       "      <td>FSM</td>\n",
       "      <td>Micronesia, Federated States of</td>\n",
       "    </tr>\n",
       "    <tr>\n",
       "      <th>107</th>\n",
       "      <td>IR</td>\n",
       "      <td>IRN</td>\n",
       "      <td>Iran, Islamic Republic of</td>\n",
       "    </tr>\n",
       "    <tr>\n",
       "      <th>122</th>\n",
       "      <td>KR</td>\n",
       "      <td>KOR</td>\n",
       "      <td>Korea, Republic of</td>\n",
       "    </tr>\n",
       "    <tr>\n",
       "      <th>139</th>\n",
       "      <td>MD</td>\n",
       "      <td>MDA</td>\n",
       "      <td>Moldova, Republic of</td>\n",
       "    </tr>\n",
       "    <tr>\n",
       "      <th>144</th>\n",
       "      <td>MK</td>\n",
       "      <td>MKD</td>\n",
       "      <td>Macedonia, Republic of</td>\n",
       "    </tr>\n",
       "    <tr>\n",
       "      <th>181</th>\n",
       "      <td>KP</td>\n",
       "      <td>PRK</td>\n",
       "      <td>Korea, Democratic People's Republic of</td>\n",
       "    </tr>\n",
       "    <tr>\n",
       "      <th>184</th>\n",
       "      <td>PS</td>\n",
       "      <td>PSE</td>\n",
       "      <td>Palestine, State of</td>\n",
       "    </tr>\n",
       "    <tr>\n",
       "      <th>196</th>\n",
       "      <td>SH</td>\n",
       "      <td>SHN</td>\n",
       "      <td>Saint Helena, Ascension and Tristan da Cunha</td>\n",
       "    </tr>\n",
       "    <tr>\n",
       "      <th>228</th>\n",
       "      <td>TW</td>\n",
       "      <td>TWN</td>\n",
       "      <td>Taiwan, Province of China</td>\n",
       "    </tr>\n",
       "    <tr>\n",
       "      <th>229</th>\n",
       "      <td>TZ</td>\n",
       "      <td>TZA</td>\n",
       "      <td>Tanzania, United Republic of</td>\n",
       "    </tr>\n",
       "    <tr>\n",
       "      <th>238</th>\n",
       "      <td>VE</td>\n",
       "      <td>VEN</td>\n",
       "      <td>Venezuela, Bolivarian Republic of</td>\n",
       "    </tr>\n",
       "    <tr>\n",
       "      <th>239</th>\n",
       "      <td>VG</td>\n",
       "      <td>VGB</td>\n",
       "      <td>Virgin Islands, British</td>\n",
       "    </tr>\n",
       "    <tr>\n",
       "      <th>240</th>\n",
       "      <td>VI</td>\n",
       "      <td>VIR</td>\n",
       "      <td>Virgin Islands, U.S.</td>\n",
       "    </tr>\n",
       "  </tbody>\n",
       "</table>\n",
       "</div>"
      ],
      "text/plain": [
       "    Alpha2 Alpha3                                  English Name\n",
       "20      BQ    BES              Bonaire, Sint Eustatius and Saba\n",
       "31      BO    BOL               Bolivia, Plurinational State of\n",
       "46      CD    COD         Congo, The Democratic Republic of the\n",
       "77      FM    FSM               Micronesia, Federated States of\n",
       "107     IR    IRN                     Iran, Islamic Republic of\n",
       "122     KR    KOR                            Korea, Republic of\n",
       "139     MD    MDA                          Moldova, Republic of\n",
       "144     MK    MKD                        Macedonia, Republic of\n",
       "181     KP    PRK        Korea, Democratic People's Republic of\n",
       "184     PS    PSE                           Palestine, State of\n",
       "196     SH    SHN  Saint Helena, Ascension and Tristan da Cunha\n",
       "228     TW    TWN                     Taiwan, Province of China\n",
       "229     TZ    TZA                  Tanzania, United Republic of\n",
       "238     VE    VEN             Venezuela, Bolivarian Republic of\n",
       "239     VG    VGB                       Virgin Islands, British\n",
       "240     VI    VIR                          Virgin Islands, U.S."
      ]
     },
     "execution_count": 377,
     "metadata": {},
     "output_type": "execute_result"
    }
   ],
   "source": [
    "comma_index = countries_df[\"English Name\"].str.contains(\",\")\n",
    "countries_df[comma_index]"
   ]
  },
  {
   "cell_type": "markdown",
   "metadata": {},
   "source": [
    "We observe that these names (except for Bonaire, Sint Eustatius and Saba) contains only adjective after the comma. We can simply keep the first part and discard the rest.\n",
    "\n",
    "*We consider that \"Bonaire, Sint Eustatius and Saba\" can be discarded and therefore do not treat it differently*"
   ]
  },
  {
   "cell_type": "code",
   "execution_count": 378,
   "metadata": {
    "collapsed": false
   },
   "outputs": [
    {
     "data": {
      "text/html": [
       "<div>\n",
       "<table border=\"1\" class=\"dataframe\">\n",
       "  <thead>\n",
       "    <tr style=\"text-align: right;\">\n",
       "      <th></th>\n",
       "      <th>Alpha2</th>\n",
       "      <th>Alpha3</th>\n",
       "      <th>English Name</th>\n",
       "    </tr>\n",
       "  </thead>\n",
       "  <tbody>\n",
       "    <tr>\n",
       "      <th>20</th>\n",
       "      <td>BQ</td>\n",
       "      <td>BES</td>\n",
       "      <td>Bonaire</td>\n",
       "    </tr>\n",
       "    <tr>\n",
       "      <th>31</th>\n",
       "      <td>BO</td>\n",
       "      <td>BOL</td>\n",
       "      <td>Bolivia</td>\n",
       "    </tr>\n",
       "    <tr>\n",
       "      <th>46</th>\n",
       "      <td>CD</td>\n",
       "      <td>COD</td>\n",
       "      <td>Congo</td>\n",
       "    </tr>\n",
       "    <tr>\n",
       "      <th>77</th>\n",
       "      <td>FM</td>\n",
       "      <td>FSM</td>\n",
       "      <td>Micronesia</td>\n",
       "    </tr>\n",
       "    <tr>\n",
       "      <th>107</th>\n",
       "      <td>IR</td>\n",
       "      <td>IRN</td>\n",
       "      <td>Iran</td>\n",
       "    </tr>\n",
       "  </tbody>\n",
       "</table>\n",
       "</div>"
      ],
      "text/plain": [
       "    Alpha2 Alpha3 English Name\n",
       "20      BQ    BES      Bonaire\n",
       "31      BO    BOL      Bolivia\n",
       "46      CD    COD        Congo\n",
       "77      FM    FSM   Micronesia\n",
       "107     IR    IRN         Iran"
      ]
     },
     "execution_count": 378,
     "metadata": {},
     "output_type": "execute_result"
    }
   ],
   "source": [
    "countries_df[\"English Name\"] = countries_df[\"English Name\"].map(lambda x: x.split(\",\")[0])\n",
    "countries_df[comma_index].head()"
   ]
  },
  {
   "cell_type": "markdown",
   "metadata": {},
   "source": [
    "### Country with parenthesis\n",
    "\n",
    "We decide to remove what is inside parenthesis of the countries names."
   ]
  },
  {
   "cell_type": "code",
   "execution_count": 379,
   "metadata": {
    "collapsed": false
   },
   "outputs": [
    {
     "data": {
      "text/html": [
       "<div>\n",
       "<table border=\"1\" class=\"dataframe\">\n",
       "  <thead>\n",
       "    <tr style=\"text-align: right;\">\n",
       "      <th></th>\n",
       "      <th>Alpha2</th>\n",
       "      <th>Alpha3</th>\n",
       "      <th>English Name</th>\n",
       "    </tr>\n",
       "  </thead>\n",
       "  <tbody>\n",
       "    <tr>\n",
       "      <th>40</th>\n",
       "      <td>CC</td>\n",
       "      <td>CCK</td>\n",
       "      <td>Cocos  Islands</td>\n",
       "    </tr>\n",
       "    <tr>\n",
       "      <th>74</th>\n",
       "      <td>FK</td>\n",
       "      <td>FLK</td>\n",
       "      <td>Falkland Islands</td>\n",
       "    </tr>\n",
       "    <tr>\n",
       "      <th>136</th>\n",
       "      <td>MF</td>\n",
       "      <td>MAF</td>\n",
       "      <td>Saint Martin</td>\n",
       "    </tr>\n",
       "    <tr>\n",
       "      <th>212</th>\n",
       "      <td>SX</td>\n",
       "      <td>SXM</td>\n",
       "      <td>Sint Maarten</td>\n",
       "    </tr>\n",
       "    <tr>\n",
       "      <th>236</th>\n",
       "      <td>VA</td>\n",
       "      <td>VAT</td>\n",
       "      <td>Holy See</td>\n",
       "    </tr>\n",
       "  </tbody>\n",
       "</table>\n",
       "</div>"
      ],
      "text/plain": [
       "    Alpha2 Alpha3       English Name\n",
       "40      CC    CCK     Cocos  Islands\n",
       "74      FK    FLK  Falkland Islands \n",
       "136     MF    MAF      Saint Martin \n",
       "212     SX    SXM      Sint Maarten \n",
       "236     VA    VAT          Holy See "
      ]
     },
     "execution_count": 379,
     "metadata": {},
     "output_type": "execute_result"
    }
   ],
   "source": [
    "import re\n",
    "par_index = countries_df[\"English Name\"].apply(lambda x: \"(\" in str(x))\n",
    "countries_df[\"English Name\"] = countries_df[\"English Name\"].map(lambda x: re.sub(r'\\([^)]*\\)', '', x))\n",
    "countries_df[par_index].head()"
   ]
  },
  {
   "cell_type": "markdown",
   "metadata": {},
   "source": [
    "## Countries with same names\n",
    "\n",
    "Unfortunately for us, there are countries that share the same name, or a same part.\n",
    "\n",
    "* North Korea and South Korea\n",
    "* Republic of Congo and Democratic Republic of Congo\n",
    "* Ireland and Northern Ireland\n",
    "* US Virgin Islands and UK Virgin Islands\n"
   ]
  },
  {
   "cell_type": "markdown",
   "metadata": {},
   "source": [
    "### Koreas"
   ]
  },
  {
   "cell_type": "code",
   "execution_count": 380,
   "metadata": {
    "collapsed": false
   },
   "outputs": [
    {
     "data": {
      "text/html": [
       "<div>\n",
       "<table border=\"1\" class=\"dataframe\">\n",
       "  <thead>\n",
       "    <tr style=\"text-align: right;\">\n",
       "      <th></th>\n",
       "      <th>Alpha2</th>\n",
       "      <th>Alpha3</th>\n",
       "      <th>English Name</th>\n",
       "    </tr>\n",
       "  </thead>\n",
       "  <tbody>\n",
       "    <tr>\n",
       "      <th>122</th>\n",
       "      <td>KR</td>\n",
       "      <td>KOR</td>\n",
       "      <td>Korea</td>\n",
       "    </tr>\n",
       "    <tr>\n",
       "      <th>181</th>\n",
       "      <td>KP</td>\n",
       "      <td>PRK</td>\n",
       "      <td>Korea</td>\n",
       "    </tr>\n",
       "  </tbody>\n",
       "</table>\n",
       "</div>"
      ],
      "text/plain": [
       "    Alpha2 Alpha3 English Name\n",
       "122     KR    KOR        Korea\n",
       "181     KP    PRK        Korea"
      ]
     },
     "execution_count": 380,
     "metadata": {},
     "output_type": "execute_result"
    }
   ],
   "source": [
    "countries_df[countries_df[\"English Name\"].str.contains(\"Korea\")]"
   ]
  },
  {
   "cell_type": "markdown",
   "metadata": {},
   "source": [
    "In the case of Koreas, after our cleaning, we see that both countries have exactly the same name. Therefore, we decide to replace them by their most commonly used name : North Korea and South Korea."
   ]
  },
  {
   "cell_type": "code",
   "execution_count": 381,
   "metadata": {
    "collapsed": false
   },
   "outputs": [
    {
     "data": {
      "text/html": [
       "<div>\n",
       "<table border=\"1\" class=\"dataframe\">\n",
       "  <thead>\n",
       "    <tr style=\"text-align: right;\">\n",
       "      <th></th>\n",
       "      <th>Alpha2</th>\n",
       "      <th>Alpha3</th>\n",
       "      <th>English Name</th>\n",
       "    </tr>\n",
       "  </thead>\n",
       "  <tbody>\n",
       "    <tr>\n",
       "      <th>122</th>\n",
       "      <td>KR</td>\n",
       "      <td>KOR</td>\n",
       "      <td>South Korea</td>\n",
       "    </tr>\n",
       "    <tr>\n",
       "      <th>181</th>\n",
       "      <td>KP</td>\n",
       "      <td>PRK</td>\n",
       "      <td>North Korea</td>\n",
       "    </tr>\n",
       "  </tbody>\n",
       "</table>\n",
       "</div>"
      ],
      "text/plain": [
       "    Alpha2 Alpha3 English Name\n",
       "122     KR    KOR  South Korea\n",
       "181     KP    PRK  North Korea"
      ]
     },
     "execution_count": 381,
     "metadata": {},
     "output_type": "execute_result"
    }
   ],
   "source": [
    "countries_df.loc[122][\"English Name\"] = \"South Korea\"\n",
    "countries_df.loc[181][\"English Name\"] = \"North Korea\"\n",
    "countries_df[countries_df[\"English Name\"].str.contains(\"Korea\")]"
   ]
  },
  {
   "cell_type": "markdown",
   "metadata": {},
   "source": [
    "## Congos\n",
    "\n",
    "Unfortunately, unless like Koreas, we expect to have no way to distinguish Republic of Congo and Democratic Republic of Congo, since people usually simply call them both \"Congo\". We therefore chose to let them both as \"Congo\" and hope that it doesn't appear too often in the mails. If it is not the case, we'll try to treat them in a more clever way later on."
   ]
  },
  {
   "cell_type": "code",
   "execution_count": 382,
   "metadata": {
    "collapsed": false
   },
   "outputs": [
    {
     "data": {
      "text/html": [
       "<div>\n",
       "<table border=\"1\" class=\"dataframe\">\n",
       "  <thead>\n",
       "    <tr style=\"text-align: right;\">\n",
       "      <th></th>\n",
       "      <th>Alpha2</th>\n",
       "      <th>Alpha3</th>\n",
       "      <th>English Name</th>\n",
       "    </tr>\n",
       "  </thead>\n",
       "  <tbody>\n",
       "    <tr>\n",
       "      <th>46</th>\n",
       "      <td>CD</td>\n",
       "      <td>COD</td>\n",
       "      <td>Congo</td>\n",
       "    </tr>\n",
       "    <tr>\n",
       "      <th>47</th>\n",
       "      <td>CG</td>\n",
       "      <td>COG</td>\n",
       "      <td>Congo</td>\n",
       "    </tr>\n",
       "  </tbody>\n",
       "</table>\n",
       "</div>"
      ],
      "text/plain": [
       "   Alpha2 Alpha3 English Name\n",
       "46     CD    COD        Congo\n",
       "47     CG    COG        Congo"
      ]
     },
     "execution_count": 382,
     "metadata": {},
     "output_type": "execute_result"
    }
   ],
   "source": [
    "countries_df[countries_df[\"English Name\"].str.contains(\"Congo\")]"
   ]
  },
  {
   "cell_type": "markdown",
   "metadata": {},
   "source": [
    "## Virgin Islands\n",
    "\n",
    "As for Congos, we will let them both as \"Virgin Islands\" and expect not to have troubles with them."
   ]
  },
  {
   "cell_type": "code",
   "execution_count": 383,
   "metadata": {
    "collapsed": false
   },
   "outputs": [
    {
     "data": {
      "text/html": [
       "<div>\n",
       "<table border=\"1\" class=\"dataframe\">\n",
       "  <thead>\n",
       "    <tr style=\"text-align: right;\">\n",
       "      <th></th>\n",
       "      <th>Alpha2</th>\n",
       "      <th>Alpha3</th>\n",
       "      <th>English Name</th>\n",
       "    </tr>\n",
       "  </thead>\n",
       "  <tbody>\n",
       "    <tr>\n",
       "      <th>239</th>\n",
       "      <td>VG</td>\n",
       "      <td>VGB</td>\n",
       "      <td>Virgin Islands</td>\n",
       "    </tr>\n",
       "    <tr>\n",
       "      <th>240</th>\n",
       "      <td>VI</td>\n",
       "      <td>VIR</td>\n",
       "      <td>Virgin Islands</td>\n",
       "    </tr>\n",
       "  </tbody>\n",
       "</table>\n",
       "</div>"
      ],
      "text/plain": [
       "    Alpha2 Alpha3    English Name\n",
       "239     VG    VGB  Virgin Islands\n",
       "240     VI    VIR  Virgin Islands"
      ]
     },
     "execution_count": 383,
     "metadata": {},
     "output_type": "execute_result"
    }
   ],
   "source": [
    "countries_df[countries_df[\"English Name\"].str.contains(\"Virgin\")]"
   ]
  },
  {
   "cell_type": "markdown",
   "metadata": {},
   "source": [
    "## The curious case of British Isles\n",
    "\n",
    "We all know it, Brits are a little bit special. We can see on the following map that the administration of the British isles is a bit complex. \n",
    "\n",
    "Since the countries in these Isles (England, Ireland, Wales, Northern Ireland, Scottland, etc...) have a relevant impact on the political world, we want to be sure to detect them properly in the mails.\n",
    "\n",
    "<img src=\"images/British_Isles_terms.gif\" alt=\"Drawing\" style=\"width: 420px;\"/>"
   ]
  },
  {
   "cell_type": "code",
   "execution_count": 384,
   "metadata": {
    "collapsed": false
   },
   "outputs": [
    {
     "data": {
      "text/html": [
       "<div>\n",
       "<table border=\"1\" class=\"dataframe\">\n",
       "  <thead>\n",
       "    <tr style=\"text-align: right;\">\n",
       "      <th></th>\n",
       "      <th>Alpha2</th>\n",
       "      <th>Alpha3</th>\n",
       "      <th>English Name</th>\n",
       "    </tr>\n",
       "  </thead>\n",
       "  <tbody>\n",
       "  </tbody>\n",
       "</table>\n",
       "</div>"
      ],
      "text/plain": [
       "Empty DataFrame\n",
       "Columns: [Alpha2, Alpha3, English Name]\n",
       "Index: []"
      ]
     },
     "execution_count": 384,
     "metadata": {},
     "output_type": "execute_result"
    }
   ],
   "source": [
    "countries_df[countries_df[\"Alpha2\"] == \"UK\"]"
   ]
  },
  {
   "cell_type": "code",
   "execution_count": 385,
   "metadata": {
    "collapsed": false
   },
   "outputs": [
    {
     "data": {
      "text/html": [
       "<div>\n",
       "<table border=\"1\" class=\"dataframe\">\n",
       "  <thead>\n",
       "    <tr style=\"text-align: right;\">\n",
       "      <th></th>\n",
       "      <th>Alpha2</th>\n",
       "      <th>Alpha3</th>\n",
       "      <th>English Name</th>\n",
       "    </tr>\n",
       "  </thead>\n",
       "  <tbody>\n",
       "    <tr>\n",
       "      <th>79</th>\n",
       "      <td>GB</td>\n",
       "      <td>GBR</td>\n",
       "      <td>United Kingdom</td>\n",
       "    </tr>\n",
       "  </tbody>\n",
       "</table>\n",
       "</div>"
      ],
      "text/plain": [
       "   Alpha2 Alpha3    English Name\n",
       "79     GB    GBR  United Kingdom"
      ]
     },
     "execution_count": 385,
     "metadata": {},
     "output_type": "execute_result"
    }
   ],
   "source": [
    "countries_df[countries_df[\"Alpha2\"] == \"GB\"]"
   ]
  },
  {
   "cell_type": "code",
   "execution_count": 386,
   "metadata": {
    "collapsed": false
   },
   "outputs": [
    {
     "data": {
      "text/plain": [
       "Country(alpha_2='GB', alpha_3='GBR', name='United Kingdom', numeric='826', official_name='United Kingdom of Great Britain and Northern Ireland')"
      ]
     },
     "execution_count": 386,
     "metadata": {},
     "output_type": "execute_result"
    }
   ],
   "source": [
    "pycountry.countries.get(alpha_2 = \"GB\")"
   ]
  },
  {
   "cell_type": "markdown",
   "metadata": {},
   "source": [
    "We notice that the Alpha 2 \"UK\" is not used to denote the United Kingdom, but \"GB\" is used, event if the country really is the United Kingdom, containing England, Wales, Scottland and Northern Ireland.\n",
    "We will need to add manually keywords if we want to be sure to detect all mentions of these countries in the mails."
   ]
  },
  {
   "cell_type": "code",
   "execution_count": 387,
   "metadata": {
    "collapsed": false
   },
   "outputs": [
    {
     "data": {
      "text/html": [
       "<div>\n",
       "<table border=\"1\" class=\"dataframe\">\n",
       "  <thead>\n",
       "    <tr style=\"text-align: right;\">\n",
       "      <th></th>\n",
       "      <th>Alpha2</th>\n",
       "      <th>Alpha3</th>\n",
       "      <th>English Name</th>\n",
       "    </tr>\n",
       "  </thead>\n",
       "  <tbody>\n",
       "    <tr>\n",
       "      <th>106</th>\n",
       "      <td>IE</td>\n",
       "      <td>IRL</td>\n",
       "      <td>Ireland</td>\n",
       "    </tr>\n",
       "  </tbody>\n",
       "</table>\n",
       "</div>"
      ],
      "text/plain": [
       "    Alpha2 Alpha3 English Name\n",
       "106     IE    IRL      Ireland"
      ]
     },
     "execution_count": 387,
     "metadata": {},
     "output_type": "execute_result"
    }
   ],
   "source": [
    "countries_df[countries_df[\"English Name\"].str.contains(\"Ireland\")]"
   ]
  },
  {
   "cell_type": "markdown",
   "metadata": {},
   "source": [
    "We observe that only (Southern) Ireland is accociated to word Ireland"
   ]
  },
  {
   "cell_type": "markdown",
   "metadata": {},
   "source": [
    "## Other weird stuffs\n",
    "\n",
    "We still have 69 composed names, there must be unclean names in this list. We will try to see which one shoud not be composed and replace them by the most common simple name (e.g. Russian Federation must be replaced by Russia, because it is the most common way of calling it)."
   ]
  },
  {
   "cell_type": "code",
   "execution_count": 388,
   "metadata": {
    "collapsed": false
   },
   "outputs": [
    {
     "name": "stdout",
     "output_type": "stream",
     "text": [
      "Number of composed names 69 / 249\n"
     ]
    }
   ],
   "source": [
    "composed_filter = countries_df.apply(lambda x: len(x['English Name'].split(\" \")) > 1, axis=1)\n",
    "print(\"Number of composed names\", len(countries_df[composed_filter]), \"/\", len(countries_df))"
   ]
  },
  {
   "cell_type": "code",
   "execution_count": 389,
   "metadata": {
    "collapsed": false
   },
   "outputs": [
    {
     "data": {
      "text/html": [
       "<div>\n",
       "<table border=\"1\" class=\"dataframe\">\n",
       "  <thead>\n",
       "    <tr style=\"text-align: right;\">\n",
       "      <th></th>\n",
       "      <th>Alpha2</th>\n",
       "      <th>Alpha3</th>\n",
       "      <th>English Name</th>\n",
       "    </tr>\n",
       "  </thead>\n",
       "  <tbody>\n",
       "    <tr>\n",
       "      <th>38</th>\n",
       "      <td>CF</td>\n",
       "      <td>CAF</td>\n",
       "      <td>Central African Republic</td>\n",
       "    </tr>\n",
       "    <tr>\n",
       "      <th>63</th>\n",
       "      <td>DO</td>\n",
       "      <td>DOM</td>\n",
       "      <td>Dominican Republic</td>\n",
       "    </tr>\n",
       "    <tr>\n",
       "      <th>124</th>\n",
       "      <td>LA</td>\n",
       "      <td>LAO</td>\n",
       "      <td>Lao People's Democratic Republic</td>\n",
       "    </tr>\n",
       "    <tr>\n",
       "      <th>214</th>\n",
       "      <td>SY</td>\n",
       "      <td>SYR</td>\n",
       "      <td>Syrian Arab Republic</td>\n",
       "    </tr>\n",
       "  </tbody>\n",
       "</table>\n",
       "</div>"
      ],
      "text/plain": [
       "    Alpha2 Alpha3                      English Name\n",
       "38      CF    CAF          Central African Republic\n",
       "63      DO    DOM                Dominican Republic\n",
       "124     LA    LAO  Lao People's Democratic Republic\n",
       "214     SY    SYR              Syrian Arab Republic"
      ]
     },
     "execution_count": 389,
     "metadata": {},
     "output_type": "execute_result"
    }
   ],
   "source": [
    "countries_df[composed_filter][countries_df[composed_filter][\"English Name\"].str.contains(\"Republic\")]"
   ]
  },
  {
   "cell_type": "code",
   "execution_count": 390,
   "metadata": {
    "collapsed": true
   },
   "outputs": [],
   "source": [
    "#We choose to keep Central African Republic and Dominican Republic\n",
    "countries_df.loc[124][\"English Name\"] = \"Laos\"\n",
    "countries_df.loc[214][\"English Name\"] = \"Syria\""
   ]
  },
  {
   "cell_type": "code",
   "execution_count": 391,
   "metadata": {
    "collapsed": false
   },
   "outputs": [
    {
     "data": {
      "text/html": [
       "<div>\n",
       "<table border=\"1\" class=\"dataframe\">\n",
       "  <thead>\n",
       "    <tr style=\"text-align: right;\">\n",
       "      <th></th>\n",
       "      <th>Alpha2</th>\n",
       "      <th>Alpha3</th>\n",
       "      <th>English Name</th>\n",
       "    </tr>\n",
       "  </thead>\n",
       "  <tbody>\n",
       "    <tr>\n",
       "      <th>79</th>\n",
       "      <td>GB</td>\n",
       "      <td>GBR</td>\n",
       "      <td>United Kingdom</td>\n",
       "    </tr>\n",
       "  </tbody>\n",
       "</table>\n",
       "</div>"
      ],
      "text/plain": [
       "   Alpha2 Alpha3    English Name\n",
       "79     GB    GBR  United Kingdom"
      ]
     },
     "execution_count": 391,
     "metadata": {},
     "output_type": "execute_result"
    }
   ],
   "source": [
    "countries_df[composed_filter][countries_df[composed_filter][\"English Name\"].str.contains(\"Kingdom\")]"
   ]
  },
  {
   "cell_type": "code",
   "execution_count": 392,
   "metadata": {
    "collapsed": false
   },
   "outputs": [
    {
     "data": {
      "text/html": [
       "<div>\n",
       "<table border=\"1\" class=\"dataframe\">\n",
       "  <thead>\n",
       "    <tr style=\"text-align: right;\">\n",
       "      <th></th>\n",
       "      <th>Alpha2</th>\n",
       "      <th>Alpha3</th>\n",
       "      <th>English Name</th>\n",
       "    </tr>\n",
       "  </thead>\n",
       "  <tbody>\n",
       "    <tr>\n",
       "      <th>189</th>\n",
       "      <td>RU</td>\n",
       "      <td>RUS</td>\n",
       "      <td>Russian Federation</td>\n",
       "    </tr>\n",
       "  </tbody>\n",
       "</table>\n",
       "</div>"
      ],
      "text/plain": [
       "    Alpha2 Alpha3        English Name\n",
       "189     RU    RUS  Russian Federation"
      ]
     },
     "execution_count": 392,
     "metadata": {},
     "output_type": "execute_result"
    }
   ],
   "source": [
    "countries_df[composed_filter][countries_df[composed_filter][\"English Name\"].str.contains(\"Federation\")]"
   ]
  },
  {
   "cell_type": "code",
   "execution_count": 393,
   "metadata": {
    "collapsed": true
   },
   "outputs": [],
   "source": [
    "countries_df.loc[189][\"English Name\"] = \"Russia\""
   ]
  },
  {
   "cell_type": "code",
   "execution_count": 410,
   "metadata": {
    "collapsed": false
   },
   "outputs": [
    {
     "data": {
      "text/html": [
       "<div>\n",
       "<table border=\"1\" class=\"dataframe\">\n",
       "  <thead>\n",
       "    <tr style=\"text-align: right;\">\n",
       "      <th></th>\n",
       "      <th>Alpha2</th>\n",
       "      <th>Alpha3</th>\n",
       "      <th>English Name</th>\n",
       "    </tr>\n",
       "  </thead>\n",
       "  <tbody>\n",
       "    <tr>\n",
       "      <th>7</th>\n",
       "      <td>AE</td>\n",
       "      <td>ARE</td>\n",
       "      <td>United Arab Emirates</td>\n",
       "    </tr>\n",
       "    <tr>\n",
       "      <th>191</th>\n",
       "      <td>SA</td>\n",
       "      <td>SAU</td>\n",
       "      <td>Saudi Arabia</td>\n",
       "    </tr>\n",
       "  </tbody>\n",
       "</table>\n",
       "</div>"
      ],
      "text/plain": [
       "    Alpha2 Alpha3          English Name\n",
       "7       AE    ARE  United Arab Emirates\n",
       "191     SA    SAU          Saudi Arabia"
      ]
     },
     "execution_count": 410,
     "metadata": {},
     "output_type": "execute_result"
    }
   ],
   "source": [
    "countries_df[composed_filter][countries_df[composed_filter][\"English Name\"].str.contains(\"Arab\")]"
   ]
  },
  {
   "cell_type": "code",
   "execution_count": 414,
   "metadata": {
    "collapsed": false
   },
   "outputs": [
    {
     "data": {
      "text/html": [
       "<div>\n",
       "<table border=\"1\" class=\"dataframe\">\n",
       "  <thead>\n",
       "    <tr style=\"text-align: right;\">\n",
       "      <th></th>\n",
       "      <th>Alpha2</th>\n",
       "      <th>Alpha3</th>\n",
       "      <th>English Name</th>\n",
       "    </tr>\n",
       "  </thead>\n",
       "  <tbody>\n",
       "    <tr>\n",
       "      <th>12</th>\n",
       "      <td>TF</td>\n",
       "      <td>ATF</td>\n",
       "      <td>French Southern Territories</td>\n",
       "    </tr>\n",
       "    <tr>\n",
       "      <th>93</th>\n",
       "      <td>GF</td>\n",
       "      <td>GUF</td>\n",
       "      <td>French Guiana</td>\n",
       "    </tr>\n",
       "    <tr>\n",
       "      <th>185</th>\n",
       "      <td>PF</td>\n",
       "      <td>PYF</td>\n",
       "      <td>French Polynesia</td>\n",
       "    </tr>\n",
       "  </tbody>\n",
       "</table>\n",
       "</div>"
      ],
      "text/plain": [
       "    Alpha2 Alpha3                 English Name\n",
       "12      TF    ATF  French Southern Territories\n",
       "93      GF    GUF                French Guiana\n",
       "185     PF    PYF             French Polynesia"
      ]
     },
     "execution_count": 414,
     "metadata": {},
     "output_type": "execute_result"
    }
   ],
   "source": [
    "countries_df[composed_filter][countries_df[composed_filter][\"English Name\"].str.contains(\"Fr\")]"
   ]
  },
  {
   "cell_type": "code",
   "execution_count": 412,
   "metadata": {
    "collapsed": false
   },
   "outputs": [
    {
     "data": {
      "text/html": [
       "<div>\n",
       "<table border=\"1\" class=\"dataframe\">\n",
       "  <thead>\n",
       "    <tr style=\"text-align: right;\">\n",
       "      <th></th>\n",
       "      <th>Alpha2</th>\n",
       "      <th>Alpha3</th>\n",
       "      <th>English Name</th>\n",
       "    </tr>\n",
       "  </thead>\n",
       "  <tbody>\n",
       "    <tr>\n",
       "      <th>10</th>\n",
       "      <td>AS</td>\n",
       "      <td>ASM</td>\n",
       "      <td>American Samoa</td>\n",
       "    </tr>\n",
       "  </tbody>\n",
       "</table>\n",
       "</div>"
      ],
      "text/plain": [
       "   Alpha2 Alpha3    English Name\n",
       "10     AS    ASM  American Samoa"
      ]
     },
     "execution_count": 412,
     "metadata": {},
     "output_type": "execute_result"
    }
   ],
   "source": [
    "countries_df[composed_filter][countries_df[composed_filter][\"English Name\"].str.contains(\"Amer\")]"
   ]
  },
  {
   "cell_type": "code",
   "execution_count": 413,
   "metadata": {
    "collapsed": false
   },
   "outputs": [
    {
     "data": {
      "text/html": [
       "<div>\n",
       "<table border=\"1\" class=\"dataframe\">\n",
       "  <thead>\n",
       "    <tr style=\"text-align: right;\">\n",
       "      <th></th>\n",
       "      <th>Alpha2</th>\n",
       "      <th>Alpha3</th>\n",
       "      <th>English Name</th>\n",
       "    </tr>\n",
       "  </thead>\n",
       "  <tbody>\n",
       "    <tr>\n",
       "      <th>105</th>\n",
       "      <td>IO</td>\n",
       "      <td>IOT</td>\n",
       "      <td>British Indian Ocean Territory</td>\n",
       "    </tr>\n",
       "  </tbody>\n",
       "</table>\n",
       "</div>"
      ],
      "text/plain": [
       "    Alpha2 Alpha3                    English Name\n",
       "105     IO    IOT  British Indian Ocean Territory"
      ]
     },
     "execution_count": 413,
     "metadata": {},
     "output_type": "execute_result"
    }
   ],
   "source": [
    "countries_df[composed_filter][countries_df[composed_filter][\"English Name\"].str.contains(\"Brit\")]"
   ]
  },
  {
   "cell_type": "code",
   "execution_count": 417,
   "metadata": {
    "collapsed": false
   },
   "outputs": [
    {
     "data": {
      "text/html": [
       "<div>\n",
       "<table border=\"1\" class=\"dataframe\">\n",
       "  <thead>\n",
       "    <tr style=\"text-align: right;\">\n",
       "      <th></th>\n",
       "      <th>Alpha2</th>\n",
       "      <th>Alpha3</th>\n",
       "      <th>English Name</th>\n",
       "    </tr>\n",
       "  </thead>\n",
       "  <tbody>\n",
       "    <tr>\n",
       "      <th>44</th>\n",
       "      <td>CI</td>\n",
       "      <td>CIV</td>\n",
       "      <td>Cote d'Ivoire</td>\n",
       "    </tr>\n",
       "  </tbody>\n",
       "</table>\n",
       "</div>"
      ],
      "text/plain": [
       "   Alpha2 Alpha3   English Name\n",
       "44     CI    CIV  Cote d'Ivoire"
      ]
     },
     "execution_count": 417,
     "metadata": {},
     "output_type": "execute_result"
    }
   ],
   "source": [
    "countries_df[composed_filter][countries_df[composed_filter][\"English Name\"].str.contains(\"Iv\")]"
   ]
  },
  {
   "cell_type": "code",
   "execution_count": 418,
   "metadata": {
    "collapsed": true
   },
   "outputs": [],
   "source": [
    "countries_df.loc[44][\"English Name\"] = \"Ivory Coast\""
   ]
  },
  {
   "cell_type": "code",
   "execution_count": 420,
   "metadata": {
    "collapsed": false
   },
   "outputs": [
    {
     "name": "stdout",
     "output_type": "stream",
     "text": [
      "Number of composed names 66 / 249\n"
     ]
    }
   ],
   "source": [
    "composed_filter = countries_df.apply(lambda x: len(x['English Name'].split(\" \")) > 1, axis=1)\n",
    "print(\"Number of composed names\", len(countries_df[composed_filter]), \"/\", len(countries_df))"
   ]
  },
  {
   "cell_type": "markdown",
   "metadata": {},
   "source": [
    "We consider now the remaining composed countries name correct. This means that we assume that we can search for the complete composed name in the mails, and won't have to use each part of the name.\n",
    "\n",
    "e.g. We will look for occurences of \"United Kingdom\", this way, and won't consider occurence of \"Kingdom\" or \"United\" as reference to this country."
   ]
  },
  {
   "cell_type": "markdown",
   "metadata": {},
   "source": [
    "# Conversion into dictionary"
   ]
  },
  {
   "cell_type": "code",
   "execution_count": null,
   "metadata": {
    "collapsed": true
   },
   "outputs": [],
   "source": []
  },
  {
   "cell_type": "markdown",
   "metadata": {},
   "source": [
    "## Adding keywords"
   ]
  },
  {
   "cell_type": "code",
   "execution_count": null,
   "metadata": {
    "collapsed": true
   },
   "outputs": [],
   "source": []
  }
 ],
 "metadata": {
  "anaconda-cloud": {},
  "kernelspec": {
   "display_name": "Python [Root]",
   "language": "python",
   "name": "Python [Root]"
  },
  "language_info": {
   "codemirror_mode": {
    "name": "ipython",
    "version": 3
   },
   "file_extension": ".py",
   "mimetype": "text/x-python",
   "name": "python",
   "nbconvert_exporter": "python",
   "pygments_lexer": "ipython3",
   "version": "3.5.2"
  },
  "nav_menu": {},
  "toc": {
   "navigate_menu": true,
   "number_sections": false,
   "sideBar": false,
   "threshold": "3",
   "toc_cell": true,
   "toc_section_display": "block",
   "toc_window_display": false
  }
 },
 "nbformat": 4,
 "nbformat_minor": 1
}
