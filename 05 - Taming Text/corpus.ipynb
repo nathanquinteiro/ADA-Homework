{
 "cells": [
  {
   "cell_type": "markdown",
   "metadata": {},
   "source": [
    "# Corpus"
   ]
  },
  {
   "cell_type": "code",
   "execution_count": 622,
   "metadata": {
    "collapsed": false
   },
   "outputs": [],
   "source": [
    "import pandas as pd                                     \n",
    "import numpy as np                                      \n",
    "import os \n",
    "\n",
    "\n",
    "\n",
    "import matplotlib.pyplot as plt\n",
    "\n",
    "from datetime import datetime\n",
    "\n",
    "%matplotlib inline\n",
    "import seaborn as sns                                   # For pretty plots\n",
    "import gensim\n",
    "import nltk\n",
    "\n",
    "\n",
    "from os import path\n",
    "from wordcloud import WordCloud\n",
    "from wordcloud import STOPWORDS\n",
    "from PIL import Image\n",
    "from gensim import corpora, models, similarities\n",
    "from nltk.corpus import stopwords"
   ]
  },
  {
   "cell_type": "code",
   "execution_count": 623,
   "metadata": {
    "collapsed": false
   },
   "outputs": [],
   "source": [
    "emails = pd.read_csv(\"hillary-clinton-emails/Emails.csv\")\n",
    "#emails.head()"
   ]
  },
  {
   "cell_type": "code",
   "execution_count": 624,
   "metadata": {
    "collapsed": false
   },
   "outputs": [
    {
     "data": {
      "text/plain": [
       "pandas.core.series.Series"
      ]
     },
     "execution_count": 624,
     "metadata": {},
     "output_type": "execute_result"
    }
   ],
   "source": [
    "emails_text = emails['ExtractedBodyText'].dropna()\n",
    "#emails_text = emails_text.head(100)\n",
    "#emails_text.shape\n",
    "type(emails_text)"
   ]
  },
  {
   "cell_type": "code",
   "execution_count": 625,
   "metadata": {
    "collapsed": true
   },
   "outputs": [],
   "source": [
    "emails_text = emails_text.apply(lambda x: x.lower())"
   ]
  },
  {
   "cell_type": "code",
   "execution_count": 626,
   "metadata": {
    "collapsed": false
   },
   "outputs": [],
   "source": [
    "emails_text = emails_text.apply(lambda x: x\\\n",
    "                                .replace(':',' ')\\\n",
    "                                .replace('—',' ')\\\n",
    "                                .replace('-',' ')\\\n",
    "                                .replace('.',' ')\\\n",
    "                                .replace(',',' ')\\\n",
    "                                .replace('.',' ')\\\n",
    "                                .replace('<',' ')\\\n",
    "                                .replace('>',' ')\\\n",
    "                                .replace('=',' ')\\\n",
    "                                .replace('•',' ')\\\n",
    "                                .replace(\"\\\\\",' ')\\\n",
    "                                .replace('\\n', ' ')\\\n",
    "                                .replace('^',' ')\\\n",
    "                                .replace('\\\\',' ')\\\n",
    "                                .replace('?',' ')\\\n",
    "                                .replace('\\'',' ')\\\n",
    "                               )\n",
    "#emails_text = emails_text.apply(lambda x: x.replace('—',' '))\n"
   ]
  },
  {
   "cell_type": "code",
   "execution_count": 627,
   "metadata": {
    "collapsed": false
   },
   "outputs": [
    {
     "data": {
      "text/plain": [
       "pandas.core.series.Series"
      ]
     },
     "execution_count": 627,
     "metadata": {},
     "output_type": "execute_result"
    }
   ],
   "source": [
    "type(emails_text)\n",
    "#emails_text.iloc[0]\n",
    "#emails_text"
   ]
  },
  {
   "cell_type": "code",
   "execution_count": 628,
   "metadata": {
    "collapsed": false
   },
   "outputs": [],
   "source": [
    "#emails_text.head"
   ]
  },
  {
   "cell_type": "code",
   "execution_count": 629,
   "metadata": {
    "collapsed": false
   },
   "outputs": [],
   "source": [
    "documents = emails_text.tolist()\n",
    "#documents"
   ]
  },
  {
   "cell_type": "code",
   "execution_count": 630,
   "metadata": {
    "collapsed": false
   },
   "outputs": [
    {
     "data": {
      "text/plain": [
       "list"
      ]
     },
     "execution_count": 630,
     "metadata": {},
     "output_type": "execute_result"
    }
   ],
   "source": [
    "type(documents)\n",
    "#documents"
   ]
  },
  {
   "cell_type": "code",
   "execution_count": 631,
   "metadata": {
    "collapsed": false
   },
   "outputs": [
    {
     "data": {
      "text/plain": [
       "6742"
      ]
     },
     "execution_count": 631,
     "metadata": {},
     "output_type": "execute_result"
    }
   ],
   "source": [
    "len(documents)"
   ]
  },
  {
   "cell_type": "code",
   "execution_count": 632,
   "metadata": {
    "collapsed": false
   },
   "outputs": [
    {
     "name": "stdout",
     "output_type": "stream",
     "text": [
      "{'are', 'itself', '', \"she'll\", 'two', 10, 11, 'most', \"couldn't\", 'an', 'after', 'its', 'been', 'ours', 'yourself', 12, 13, 14, 15, 16, 17, \"don't\", \"you're\", 'in', 20, 21, 22, 23, 24, 25, 26, 27, 28, 'would', 30, \"he'll\", 32, 33, 34, 35, 36, 37, 38, 39, 40, 'there', 'ok', 'thx', \"she's\", 45, 46, 47, 48, 49, 50, \"he's\", 'herself', \"they'd\", 'was', 55, 56, 57, \"you'd\", 59, 'docx', 61, 62, 63, 'both', 'could', 'no', 67, \"mustn't\", 69, 70, 71, 72, 73, 74, 'i', 'did', 'see', 'over', \"aren't\", \"shouldn't\", 'know', 18, 83, 84, 'doc', 'one', 19, 88, 89, 'ourselves', 91, 'such', 93, 94, 95, 96, \"haven't\", 98, 99, 'is', 'this', \"shan't\", \"we're\", \"he'd\", 'http', 'before', \"it's\", 'nor', 'our', 'very', 'theirs', 'pm', \"that's\", 'does', 'any', 'get', 29, \"can't\", 'doing', 'the', \"you've\", \"we'd\", 'and', \"hasn't\", 'hers', 'so', 31, \"why's\", 'good', 'have', 'off', 'them', 'having', 'again', 'also', \"i'd\", 'yours', 're', \"we'll\", 'how', 'cannot', 'during', \"you'll\", 'yourselves', 'new', 'other', \"wasn't\", 41, \"we've\", 42, 'that', 43, 'each', 'than', 'up', 'more', 'why', \"won't\", 'ought', 44, 'these', 'do', 'need', 'they', 'yes', \"who's\", 'she', 'while', 'mr', 'being', \"they've\", '00', 51, 'has', 'against', 52, 'own', 53, 54, 'some', 'pdf', \"what's\", 'under', 'whom', 'your', 'because', 'his', \"i'm\", 58, 'himself', 'on', 'mrs', \"let's\", 'had', 'their', 'with', 'as', 'just', 'will', 60, 'fyi', 'all', 'by', 'like', 64, 65, \"doesn't\", 'here', 66, 'above', 'we', 'me', 68, 'am', 'too', 'through', 'between', \"they'll\", 'her', 'same', 'into', 'below', 'can', 'of', 'should', \"where's\", 'call', 75, 'a', 76, 'go', 77, \"here's\", 'www', 78, 79, 'it', 'for', 80, 'if', 81, 82, 'not', 'few', \"weren't\", 'us', \"wouldn't\", \"she'd\", 'those', 'out', \"didn't\", 85, 'to', 'myself', 86, 'him', \"i'll\", 87, \"hadn't\", \"there's\", 'r', \"they're\", 'until', 'he', 90, 'once', 'at', 'then', 'but', 92, 'where', 'further', 'themselves', \"isn't\", 'who', 'were', 'com', 'what', 'which', \"when's\", \"how's\", 'about', 'pls', 'when', 'my', 'down', 97, 'or', 'only', 'from', 'be', \"i've\", 'you'}\n"
     ]
    }
   ],
   "source": [
    "stoplist = set(STOPWORDS)\n",
    "stoplist.add('pls')\n",
    "stoplist.add('yes')\n",
    "stoplist.add('call')\n",
    "stoplist.add('pm')\n",
    "stoplist.add('no')\n",
    "stoplist.add('com')\n",
    "stoplist.add('doc')\n",
    "stoplist.add('docx')\n",
    "stoplist.add('pdf')\n",
    "stoplist.add('mr')\n",
    "stoplist.add('mrs')\n",
    "stoplist.add('call')\n",
    "stoplist.add('need')\n",
    "stoplist.add('one')\n",
    "stoplist.add('two')\n",
    "stoplist.add('fyi')\n",
    "stoplist.add('00')\n",
    "stoplist.add('will')\n",
    "stoplist.add('know')\n",
    "stoplist.add('re')\n",
    "stoplist.add('ok')\n",
    "stoplist.add('also')\n",
    "stoplist.add('see')\n",
    "stoplist.add('us')\n",
    "stoplist.add('good')\n",
    "stoplist.add('thx')\n",
    "stoplist.add('new')\n",
    "stoplist.add('go')\n",
    "stoplist.add('you')\n",
    "\n",
    "\n",
    "for i in range(10,100) :\n",
    "    stoplist.add(i)\n",
    "print(stoplist)"
   ]
  },
  {
   "cell_type": "code",
   "execution_count": 633,
   "metadata": {
    "collapsed": true
   },
   "outputs": [],
   "source": [
    "# remove list contains on stoplist and tokenize\n",
    "texts = [[word for word in document.lower().split() if word not in stoplist and len(word) > 1]\n",
    "         for document in documents]"
   ]
  },
  {
   "cell_type": "code",
   "execution_count": 634,
   "metadata": {
    "collapsed": false
   },
   "outputs": [
    {
     "data": {
      "text/plain": [
       "6742"
      ]
     },
     "execution_count": 634,
     "metadata": {},
     "output_type": "execute_result"
    }
   ],
   "source": [
    "len(texts)"
   ]
  },
  {
   "cell_type": "code",
   "execution_count": 635,
   "metadata": {
    "collapsed": true
   },
   "outputs": [],
   "source": [
    "# counts the number of appartion of a word\n",
    "from collections import defaultdict\n",
    "frequency = defaultdict(int)\n",
    "for text in texts:\n",
    "    for token in text:\n",
    "        frequency[token] += 1"
   ]
  },
  {
   "cell_type": "code",
   "execution_count": 636,
   "metadata": {
    "collapsed": false
   },
   "outputs": [
    {
     "data": {
      "text/plain": [
       "34511"
      ]
     },
     "execution_count": 636,
     "metadata": {},
     "output_type": "execute_result"
    }
   ],
   "source": [
    "len(frequency)"
   ]
  },
  {
   "cell_type": "code",
   "execution_count": 637,
   "metadata": {
    "collapsed": true
   },
   "outputs": [],
   "source": [
    "# remove word that apprears only once\n",
    "texts = [[token for token in text if frequency[token] > 1]\n",
    "      for text in texts]"
   ]
  },
  {
   "cell_type": "code",
   "execution_count": 638,
   "metadata": {
    "collapsed": false
   },
   "outputs": [
    {
     "data": {
      "text/plain": [
       "6742"
      ]
     },
     "execution_count": 638,
     "metadata": {},
     "output_type": "execute_result"
    }
   ],
   "source": [
    "len(texts)"
   ]
  },
  {
   "cell_type": "code",
   "execution_count": 639,
   "metadata": {
    "collapsed": false
   },
   "outputs": [],
   "source": [
    "#texts"
   ]
  },
  {
   "cell_type": "code",
   "execution_count": 640,
   "metadata": {
    "collapsed": true
   },
   "outputs": [],
   "source": [
    "dictionary = corpora.Dictionary(texts)\n",
    "dictionary.save(\"part3/deerwester-email.dict\")"
   ]
  },
  {
   "cell_type": "code",
   "execution_count": 641,
   "metadata": {
    "collapsed": false
   },
   "outputs": [
    {
     "name": "stdout",
     "output_type": "stream",
     "text": [
      "Dictionary(17672 unique tokens: ['145', 'pouch', 'capabilities', 'rooms', 'mirage']...)\n"
     ]
    }
   ],
   "source": [
    "print(dictionary)"
   ]
  },
  {
   "cell_type": "code",
   "execution_count": 642,
   "metadata": {
    "collapsed": true
   },
   "outputs": [],
   "source": [
    "corpus = [dictionary.doc2bow(text) for text in texts]"
   ]
  },
  {
   "cell_type": "code",
   "execution_count": 643,
   "metadata": {
    "collapsed": false
   },
   "outputs": [],
   "source": [
    "#print(corpus)"
   ]
  },
  {
   "cell_type": "code",
   "execution_count": 644,
   "metadata": {
    "collapsed": true
   },
   "outputs": [],
   "source": [
    "corpora.MmCorpus.serialize(\"part3/deerwester-email.mm\", corpus)"
   ]
  },
  {
   "cell_type": "code",
   "execution_count": 645,
   "metadata": {
    "collapsed": true
   },
   "outputs": [],
   "source": [
    "dictionary = corpora.Dictionary.load(\"part3/deerwester-email.dict\")\n"
   ]
  },
  {
   "cell_type": "code",
   "execution_count": 646,
   "metadata": {
    "collapsed": false
   },
   "outputs": [],
   "source": [
    "model = models.LdaModel(corpus, id2word=dictionary, num_topics=50)"
   ]
  },
  {
   "cell_type": "code",
   "execution_count": 647,
   "metadata": {
    "collapsed": false
   },
   "outputs": [
    {
     "data": {
      "text/plain": [
       "[(39,\n",
       "  '0.015*\"received\" + 0.014*\"wjc\" + 0.012*\"hour\" + 0.011*\"mail\" + 0.011*\"message\" + 0.011*\"address\" + 0.009*\"state\" + 0.009*\"notetaker\" + 0.008*\"plane\" + 0.008*\"try\"'),\n",
       " (21,\n",
       "  '0.026*\"israel\" + 0.018*\"settlements\" + 0.011*\"mcchrystal\" + 0.009*\"now\" + 0.008*\"israeli\" + 0.008*\"settlement\" + 0.006*\"bibi\" + 0.006*\"jewish\" + 0.006*\"jerusalem\" + 0.006*\"obama\"'),\n",
       " (40,\n",
       "  '0.028*\"february\" + 0.012*\"2010\" + 0.010*\"anywhere\" + 0.009*\"boy\" + 0.008*\"san\" + 0.007*\"memorial\" + 0.007*\"stopping\" + 0.007*\"narrative\" + 0.006*\"card\" + 0.006*\"unless\"'),\n",
       " (14,\n",
       "  '0.019*\"israeli\" + 0.013*\"conflict\" + 0.013*\"palestinian\" + 0.007*\"american\" + 0.006*\"army\" + 0.006*\"tea\" + 0.006*\"netanyahu\" + 0.006*\"evidence\" + 0.006*\"security\" + 0.005*\"russia\"'),\n",
       " (36,\n",
       "  '0.018*\"beck\" + 0.010*\"modern\" + 0.007*\"arizona\" + 0.006*\"dinner\" + 0.006*\"cheryl\" + 0.006*\"right\" + 0.006*\"interested\" + 0.006*\"happening\" + 0.006*\"answers\" + 0.006*\"leaks\"')]"
      ]
     },
     "execution_count": 647,
     "metadata": {},
     "output_type": "execute_result"
    }
   ],
   "source": [
    "model.print_topics(5)"
   ]
  },
  {
   "cell_type": "code",
   "execution_count": 648,
   "metadata": {
    "collapsed": false
   },
   "outputs": [
    {
     "name": "stdout",
     "output_type": "stream",
     "text": [
      "LdaModel(num_terms=17672, num_topics=50, decay=0.5, chunksize=2000)\n"
     ]
    }
   ],
   "source": [
    "print(model)"
   ]
  },
  {
   "cell_type": "code",
   "execution_count": 649,
   "metadata": {
    "collapsed": false
   },
   "outputs": [],
   "source": [
    "#print(corpus)"
   ]
  },
  {
   "cell_type": "code",
   "execution_count": null,
   "metadata": {
    "collapsed": true
   },
   "outputs": [],
   "source": []
  },
  {
   "cell_type": "code",
   "execution_count": null,
   "metadata": {
    "collapsed": true
   },
   "outputs": [],
   "source": []
  },
  {
   "cell_type": "code",
   "execution_count": null,
   "metadata": {
    "collapsed": true
   },
   "outputs": [],
   "source": []
  },
  {
   "cell_type": "code",
   "execution_count": null,
   "metadata": {
    "collapsed": true
   },
   "outputs": [],
   "source": []
  },
  {
   "cell_type": "code",
   "execution_count": null,
   "metadata": {
    "collapsed": true
   },
   "outputs": [],
   "source": []
  },
  {
   "cell_type": "code",
   "execution_count": null,
   "metadata": {
    "collapsed": true
   },
   "outputs": [],
   "source": []
  },
  {
   "cell_type": "code",
   "execution_count": null,
   "metadata": {
    "collapsed": true
   },
   "outputs": [],
   "source": []
  },
  {
   "cell_type": "code",
   "execution_count": null,
   "metadata": {
    "collapsed": true
   },
   "outputs": [],
   "source": []
  },
  {
   "cell_type": "code",
   "execution_count": null,
   "metadata": {
    "collapsed": true
   },
   "outputs": [],
   "source": []
  },
  {
   "cell_type": "code",
   "execution_count": null,
   "metadata": {
    "collapsed": true
   },
   "outputs": [],
   "source": []
  },
  {
   "cell_type": "code",
   "execution_count": null,
   "metadata": {
    "collapsed": true
   },
   "outputs": [],
   "source": []
  },
  {
   "cell_type": "code",
   "execution_count": null,
   "metadata": {
    "collapsed": true
   },
   "outputs": [],
   "source": []
  },
  {
   "cell_type": "code",
   "execution_count": null,
   "metadata": {
    "collapsed": true
   },
   "outputs": [],
   "source": []
  },
  {
   "cell_type": "code",
   "execution_count": null,
   "metadata": {
    "collapsed": true
   },
   "outputs": [],
   "source": []
  },
  {
   "cell_type": "code",
   "execution_count": null,
   "metadata": {
    "collapsed": true
   },
   "outputs": [],
   "source": []
  },
  {
   "cell_type": "code",
   "execution_count": null,
   "metadata": {
    "collapsed": true
   },
   "outputs": [],
   "source": []
  },
  {
   "cell_type": "code",
   "execution_count": null,
   "metadata": {
    "collapsed": true
   },
   "outputs": [],
   "source": []
  },
  {
   "cell_type": "code",
   "execution_count": null,
   "metadata": {
    "collapsed": true
   },
   "outputs": [],
   "source": []
  },
  {
   "cell_type": "code",
   "execution_count": null,
   "metadata": {
    "collapsed": true
   },
   "outputs": [],
   "source": []
  },
  {
   "cell_type": "code",
   "execution_count": null,
   "metadata": {
    "collapsed": true
   },
   "outputs": [],
   "source": []
  },
  {
   "cell_type": "code",
   "execution_count": null,
   "metadata": {
    "collapsed": true
   },
   "outputs": [],
   "source": []
  },
  {
   "cell_type": "code",
   "execution_count": null,
   "metadata": {
    "collapsed": true
   },
   "outputs": [],
   "source": []
  },
  {
   "cell_type": "code",
   "execution_count": null,
   "metadata": {
    "collapsed": true
   },
   "outputs": [],
   "source": []
  },
  {
   "cell_type": "code",
   "execution_count": null,
   "metadata": {
    "collapsed": true
   },
   "outputs": [],
   "source": []
  },
  {
   "cell_type": "code",
   "execution_count": null,
   "metadata": {
    "collapsed": true
   },
   "outputs": [],
   "source": []
  },
  {
   "cell_type": "code",
   "execution_count": null,
   "metadata": {
    "collapsed": true
   },
   "outputs": [],
   "source": []
  },
  {
   "cell_type": "code",
   "execution_count": null,
   "metadata": {
    "collapsed": true
   },
   "outputs": [],
   "source": []
  },
  {
   "cell_type": "code",
   "execution_count": null,
   "metadata": {
    "collapsed": true
   },
   "outputs": [],
   "source": []
  },
  {
   "cell_type": "code",
   "execution_count": null,
   "metadata": {
    "collapsed": true
   },
   "outputs": [],
   "source": []
  },
  {
   "cell_type": "code",
   "execution_count": null,
   "metadata": {
    "collapsed": true
   },
   "outputs": [],
   "source": []
  },
  {
   "cell_type": "code",
   "execution_count": null,
   "metadata": {
    "collapsed": true
   },
   "outputs": [],
   "source": []
  },
  {
   "cell_type": "code",
   "execution_count": null,
   "metadata": {
    "collapsed": true
   },
   "outputs": [],
   "source": []
  },
  {
   "cell_type": "code",
   "execution_count": null,
   "metadata": {
    "collapsed": true
   },
   "outputs": [],
   "source": []
  }
 ],
 "metadata": {
  "anaconda-cloud": {},
  "kernelspec": {
   "display_name": "Python [Root]",
   "language": "python",
   "name": "Python [Root]"
  },
  "language_info": {
   "codemirror_mode": {
    "name": "ipython",
    "version": 3
   },
   "file_extension": ".py",
   "mimetype": "text/x-python",
   "name": "python",
   "nbconvert_exporter": "python",
   "pygments_lexer": "ipython3",
   "version": "3.5.2"
  },
  "nav_menu": {},
  "toc": {
   "navigate_menu": true,
   "number_sections": false,
   "sideBar": false,
   "threshold": "3",
   "toc_cell": true,
   "toc_section_display": "block",
   "toc_window_display": false
  }
 },
 "nbformat": 4,
 "nbformat_minor": 1
}
