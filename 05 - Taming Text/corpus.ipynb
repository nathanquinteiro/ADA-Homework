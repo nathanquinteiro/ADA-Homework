{
 "cells": [
  {
   "cell_type": "markdown",
   "metadata": {},
   "source": [
    "# Corpus\n",
    "\n",
    "This part of the work is based on two tutorial take from [here](https://radimrehurek.com/gensim/tut1.html) and [here](https://radimrehurek.com/gensim/tut2.html#available-transformations).\n",
    "\n"
   ]
  },
  {
   "cell_type": "code",
   "execution_count": 807,
   "metadata": {
    "collapsed": false
   },
   "outputs": [],
   "source": [
    "import pandas as pd                                     \n",
    "import numpy as np                                      \n",
    "import os \n",
    "\n",
    "import matplotlib.pyplot as plt\n",
    "\n",
    "from datetime import datetime\n",
    "\n",
    "%matplotlib inline\n",
    "import seaborn as sns                                   # For pretty plots\n",
    "import gensim\n",
    "\n",
    "from os import path\n",
    "from wordcloud import WordCloud\n",
    "from wordcloud import STOPWORDS\n",
    "from PIL import Image\n",
    "from gensim import corpora, models, similarities\n",
    "from collections import defaultdict"
   ]
  },
  {
   "cell_type": "code",
   "execution_count": null,
   "metadata": {
    "collapsed": true
   },
   "outputs": [],
   "source": []
  },
  {
   "cell_type": "markdown",
   "metadata": {},
   "source": [
    "### Clean data\n",
    "\n",
    "We decide tu use only 'extractedBodyText' form the email beacause this flield is susceptible to contain more information about topics."
   ]
  },
  {
   "cell_type": "code",
   "execution_count": 808,
   "metadata": {
    "collapsed": false
   },
   "outputs": [
    {
     "data": {
      "text/plain": [
       "7945"
      ]
     },
     "execution_count": 808,
     "metadata": {},
     "output_type": "execute_result"
    }
   ],
   "source": [
    "emails = pd.read_csv(\"hillary-clinton-emails/Emails.csv\")\n",
    "len(emails)"
   ]
  },
  {
   "cell_type": "markdown",
   "metadata": {},
   "source": [
    "We have 7945 emails but some of them doesn't have extractedBody, so we decide to drop them. Then we have 6742 emails left."
   ]
  },
  {
   "cell_type": "code",
   "execution_count": 809,
   "metadata": {
    "collapsed": false
   },
   "outputs": [
    {
     "data": {
      "text/plain": [
       "6742"
      ]
     },
     "execution_count": 809,
     "metadata": {},
     "output_type": "execute_result"
    }
   ],
   "source": [
    "emails_text = emails['ExtractedBodyText'].dropna()\n",
    "len(emails_text)"
   ]
  },
  {
   "cell_type": "markdown",
   "metadata": {},
   "source": [
    "For cleaning emails we first transfom all characters into lowercase and we transform all word u.s.a on usa and all u.s on us. After that we can remplace juste all punctuation signs by an espace. "
   ]
  },
  {
   "cell_type": "code",
   "execution_count": 810,
   "metadata": {
    "collapsed": false
   },
   "outputs": [],
   "source": [
    "emails_text = emails_text.apply(lambda x: x.lower())\n",
    "emails_text = emails_text.apply(lambda x: x\\\n",
    "                                .replace('u.s.a','usa')\\\n",
    "                                .replace('u.s','us'))\n",
    "emails_text = emails_text.apply(lambda x: x\\\n",
    "                                .replace(':',' ')\\\n",
    "                                .replace('—',' ')\\\n",
    "                                .replace('-',' ')\\\n",
    "                                .replace('.',' ')\\\n",
    "                                .replace(',',' ')\\\n",
    "                                .replace('.',' ')\\\n",
    "                                .replace('<',' ')\\\n",
    "                                .replace('>',' ')\\\n",
    "                                .replace('=',' ')\\\n",
    "                                .replace('•',' ')\\\n",
    "                                .replace(\"\\\\\",' ')\\\n",
    "                                .replace('\\n', ' ')\\\n",
    "                                .replace('^',' ')\\\n",
    "                                .replace('\\\\',' ')\\\n",
    "                                .replace('?',' ')\\\n",
    "                                .replace('\\'',' ')\\\n",
    "                               )\n",
    "#emails_text = emails_text.apply(lambda x: x.replace('—',' '))\n"
   ]
  },
  {
   "cell_type": "markdown",
   "metadata": {},
   "source": [
    "Because your emails_text is of type *pandas.core.series.Series* we want to convert it into list :"
   ]
  },
  {
   "cell_type": "code",
   "execution_count": 811,
   "metadata": {
    "collapsed": false
   },
   "outputs": [
    {
     "data": {
      "text/plain": [
       "list"
      ]
     },
     "execution_count": 811,
     "metadata": {},
     "output_type": "execute_result"
    }
   ],
   "source": [
    "documents = emails_text.tolist()\n",
    "type(documents)"
   ]
  },
  {
   "cell_type": "markdown",
   "metadata": {},
   "source": [
    "We check that we still have 6742 emails"
   ]
  },
  {
   "cell_type": "code",
   "execution_count": 812,
   "metadata": {
    "collapsed": false
   },
   "outputs": [
    {
     "data": {
      "text/plain": [
       "6742"
      ]
     },
     "execution_count": 812,
     "metadata": {},
     "output_type": "execute_result"
    }
   ],
   "source": [
    "len(documents)"
   ]
  },
  {
   "cell_type": "markdown",
   "metadata": {},
   "source": [
    "The next step is to remove all common words. For that we create a basic stoplist from a STOPWORDS list. By iteration we have added some common words that appeared in the results. "
   ]
  },
  {
   "cell_type": "code",
   "execution_count": 813,
   "metadata": {
    "collapsed": false
   },
   "outputs": [],
   "source": [
    "stoplist = set(STOPWORDS)\n",
    "stoplist.add('pls')\n",
    "stoplist.add('yes')\n",
    "stoplist.add('call')\n",
    "stoplist.add('pm')\n",
    "stoplist.add('no')\n",
    "stoplist.add('com')\n",
    "stoplist.add('doc')\n",
    "stoplist.add('docx')\n",
    "stoplist.add('pdf')\n",
    "stoplist.add('mr')\n",
    "stoplist.add('mrs')\n",
    "stoplist.add('call')\n",
    "stoplist.add('need')\n",
    "stoplist.add('one')\n",
    "stoplist.add('two')\n",
    "stoplist.add('fyi')\n",
    "stoplist.add('00')\n",
    "stoplist.add('will')\n",
    "stoplist.add('know')\n",
    "stoplist.add('re')\n",
    "stoplist.add('ok')\n",
    "stoplist.add('also')\n",
    "stoplist.add('see')\n",
    "stoplist.add('us')\n",
    "stoplist.add('good')\n",
    "stoplist.add('thx')\n",
    "stoplist.add('new')\n",
    "stoplist.add('go')\n",
    "stoplist.add('you')\n",
    "stoplist.add('now')\n",
    "stoplist.add('done')\n",
    "stoplist.add('yet')\n",
    "stoplist.add('wrote')\n",
    "stoplist.add('etc')\n",
    "stoplist.add('back')\n",
    "stoplist.add('today')\n",
    "stoplist.add('said')\n",
    "stoplist.add('many')\n",
    "stoplist.add('already')\n",
    "stoplist.add('want')\n",
    "\n",
    "\n",
    "for i in range(10,100) :\n",
    "    stoplist.add(i)\n"
   ]
  },
  {
   "cell_type": "markdown",
   "metadata": {},
   "source": [
    "\n",
    "Now we uste the stoplist to create a list of word that are not in stoplist and that are bigger than 1 (this is inspired by the code of [tutorial of radimrehurek website](https://radimrehurek.com/gensim/tut1.html)"
   ]
  },
  {
   "cell_type": "code",
   "execution_count": 814,
   "metadata": {
    "collapsed": true
   },
   "outputs": [],
   "source": [
    "# remove list contains on stoplist and tokenize\n",
    "texts = [[word for word in document.lower().split() if word not in stoplist and len(word) > 1]\n",
    "         for document in documents]"
   ]
  },
  {
   "cell_type": "markdown",
   "metadata": {},
   "source": [
    "For each word referenced we count how many time its appear (again code inspired of [tutorial of radimrehurek website](https://radimrehurek.com/gensim/tut1.html))"
   ]
  },
  {
   "cell_type": "code",
   "execution_count": 815,
   "metadata": {
    "collapsed": true
   },
   "outputs": [],
   "source": [
    "# counts the number of appartion of a word\n",
    "frequency = defaultdict(int)\n",
    "for text in texts:\n",
    "    for token in text:\n",
    "        frequency[token] += 1\n",
    "        \n",
    "# remove word that apprears only once\n",
    "texts = [[token for token in text if frequency[token] > 1]\n",
    "      for text in texts]        "
   ]
  },
  {
   "cell_type": "markdown",
   "metadata": {},
   "source": [
    "We use now a dictionary to map the word with integer ids "
   ]
  },
  {
   "cell_type": "code",
   "execution_count": 819,
   "metadata": {
    "collapsed": true
   },
   "outputs": [],
   "source": [
    "dictionary = corpora.Dictionary(texts)"
   ]
  },
  {
   "cell_type": "code",
   "execution_count": 820,
   "metadata": {
    "collapsed": false
   },
   "outputs": [
    {
     "name": "stdout",
     "output_type": "stream",
     "text": [
      "Dictionary(17663 unique tokens: ['145', 'pouch', 'capabilities', 'rooms', 'mirage']...)\n"
     ]
    }
   ],
   "source": [
    "print(dictionary)"
   ]
  },
  {
   "cell_type": "markdown",
   "metadata": {},
   "source": [
    "### Create Vector list\n",
    "\n",
    "Now that we have a dictionary that contains uniques word, we can create your vector. The vector contains how many times each word appears in each documents (in your case one document is one email)"
   ]
  },
  {
   "cell_type": "code",
   "execution_count": 822,
   "metadata": {
    "collapsed": true
   },
   "outputs": [],
   "source": [
    "corpus = [dictionary.doc2bow(text) for text in texts]"
   ]
  },
  {
   "cell_type": "markdown",
   "metadata": {},
   "source": [
    "### Apply transformation\n",
    "We can now apply your Latent Dirichlet Allocation transformation. "
   ]
  },
  {
   "cell_type": "markdown",
   "metadata": {},
   "source": [
    "#### 5 topics"
   ]
  },
  {
   "cell_type": "code",
   "execution_count": 827,
   "metadata": {
    "collapsed": true
   },
   "outputs": [],
   "source": [
    "model_5 = models.LdaModel(corpus, id2word=dictionary, num_topics=5)\n"
   ]
  },
  {
   "cell_type": "code",
   "execution_count": 828,
   "metadata": {
    "collapsed": false
   },
   "outputs": [
    {
     "data": {
      "text/plain": [
       "[(0,\n",
       "  '0.004*\"obama\" + 0.004*\"government\" + 0.004*\"president\" + 0.004*\"american\" + 0.003*\"people\" + 0.003*\"state\" + 0.003*\"states\" + 0.003*\"united\" + 0.003*\"time\" + 0.003*\"political\"'),\n",
       " (1,\n",
       "  '0.016*\"2010\" + 0.012*\"gov\" + 0.005*\"hrod17@clintonemail\" + 0.005*\"fw\" + 0.004*\"cheryl\" + 0.004*\"may\" + 0.004*\"sunday\" + 0.004*\"2009\" + 0.004*\"party\" + 0.004*\"10\"'),\n",
       " (2,\n",
       "  '0.005*\"un\" + 0.004*\"obama\" + 0.004*\"4(d)\" + 0.003*\"women\" + 0.003*\"b1\" + 0.003*\"people\" + 0.003*\"2010\" + 0.003*\"haitian\" + 0.003*\"israel\" + 0.003*\"work\"'),\n",
       " (3,\n",
       "  '0.018*\"secretary\" + 0.017*\"office\" + 0.014*\"30\" + 0.012*\"meeting\" + 0.010*\"10\" + 0.010*\"15\" + 0.009*\"room\" + 0.009*\"state\" + 0.008*\"department\" + 0.007*\"time\"'),\n",
       " (4,\n",
       "  '0.009*\"state\" + 0.006*\"2010\" + 0.004*\"percent\" + 0.004*\"secretary\" + 0.003*\"may\" + 0.003*\"work\" + 0.003*\"department\" + 0.003*\"house\" + 0.003*\"tomorrow\" + 0.003*\"lona\"')]"
      ]
     },
     "execution_count": 828,
     "metadata": {},
     "output_type": "execute_result"
    }
   ],
   "source": [
    "model_5.print_topics(5)"
   ]
  },
  {
   "cell_type": "code",
   "execution_count": null,
   "metadata": {
    "collapsed": true
   },
   "outputs": [],
   "source": []
  },
  {
   "cell_type": "markdown",
   "metadata": {
    "collapsed": true
   },
   "source": [
    "#### 20 topics"
   ]
  },
  {
   "cell_type": "code",
   "execution_count": 830,
   "metadata": {
    "collapsed": true
   },
   "outputs": [],
   "source": [
    "model_20 = models.LdaModel(corpus, id2word=dictionary, num_topics=20)"
   ]
  },
  {
   "cell_type": "code",
   "execution_count": 831,
   "metadata": {
    "collapsed": false
   },
   "outputs": [
    {
     "data": {
      "text/plain": [
       "[(0,\n",
       "  '0.008*\"obama\" + 0.006*\"president\" + 0.004*\"policy\" + 0.004*\"even\" + 0.003*\"government\" + 0.003*\"public\" + 0.003*\"time\" + 0.003*\"much\" + 0.003*\"diplomacy\" + 0.003*\"part\"'),\n",
       " (1,\n",
       "  '0.013*\"qddr\" + 0.012*\"bibi\" + 0.012*\"work\" + 0.011*\"settlements\" + 0.011*\"prince\" + 0.005*\"settlement\" + 0.005*\"speech\" + 0.005*\"ashton\" + 0.004*\"korea\" + 0.004*\"north\"'),\n",
       " (2,\n",
       "  '0.030*\"b6\" + 0.021*\"print\" + 0.016*\"part\" + 0.013*\"release\" + 0.008*\"pis\" + 0.008*\"thanks\" + 0.007*\"2010\" + 0.006*\"sbwhoeop\" + 0.006*\"ll\" + 0.006*\"may\"'),\n",
       " (3,\n",
       "  '0.008*\"book\" + 0.006*\"clips\" + 0.005*\"time\" + 0.005*\"tomorrow\" + 0.004*\"woodward\" + 0.003*\"cables\" + 0.003*\"love\" + 0.003*\"senate\" + 0.003*\"2010\" + 0.003*\"obama\"'),\n",
       " (4,\n",
       "  '0.006*\"party\" + 0.005*\"senate\" + 0.004*\"clinton\" + 0.004*\"obama\" + 0.004*\"secretary\" + 0.004*\"people\" + 0.004*\"house\" + 0.004*\"iraq\" + 0.004*\"treaty\" + 0.004*\"ed\"'),\n",
       " (5,\n",
       "  '0.011*\"4(d)\" + 0.010*\"b1\" + 0.008*\"don\" + 0.007*\"4(b)\" + 0.006*\"want\" + 0.005*\"let\" + 0.005*\"going\" + 0.005*\"think\" + 0.005*\"party\" + 0.004*\"cdm\"'),\n",
       " (6,\n",
       "  '0.016*\"company\" + 0.006*\"logistics\" + 0.005*\"great\" + 0.005*\"madame\" + 0.005*\"thanks\" + 0.004*\"people\" + 0.004*\"clinton\" + 0.004*\"best\" + 0.004*\"secretary\" + 0.004*\"much\"'),\n",
       " (7,\n",
       "  '0.015*\"talk\" + 0.012*\"add\" + 0.011*\"tomorrow\" + 0.010*\"list\" + 0.009*\"sure\" + 0.009*\"pis\" + 0.007*\"want\" + 0.007*\"ll\" + 0.005*\"ill\" + 0.005*\"tonight\"'),\n",
       " (8,\n",
       "  '0.040*\"2010\" + 0.033*\"gov\" + 0.014*\"hrod17@clintonemail\" + 0.012*\"fw\" + 0.012*\"cheryl\" + 0.010*\"sullivan\" + 0.010*\"mills\" + 0.009*\"monday\" + 0.008*\"huma\" + 0.007*\"sullivanjj@state\"'),\n",
       " (9,\n",
       "  '0.021*\"israel\" + 0.016*\"israeli\" + 0.015*\"state\" + 0.012*\"office\" + 0.012*\"netanyahu\" + 0.011*\"secretary\" + 0.008*\"palestinian\" + 0.008*\"settlements\" + 0.007*\"30\" + 0.007*\"route\"'),\n",
       " (10,\n",
       "  '0.017*\"taliban\" + 0.010*\"mod\" + 0.008*\"2010\" + 0.007*\"message\" + 0.006*\"received\" + 0.006*\"mail\" + 0.005*\"system\" + 0.004*\"state\" + 0.004*\"sent\" + 0.004*\"address\"'),\n",
       " (11,\n",
       "  '0.008*\"hikers\" + 0.006*\"kurdish\" + 0.006*\"germany\" + 0.004*\"state\" + 0.004*\"bauer\" + 0.004*\"kissinger\" + 0.003*\"romney\" + 0.003*\"border\" + 0.003*\"taab\" + 0.003*\"fattal\"'),\n",
       " (12,\n",
       "  '0.019*\"richards\" + 0.016*\"doc;\" + 0.013*\"dialogue\" + 0.012*\"strategic\" + 0.011*\"kurdistan\" + 0.008*\"2010\" + 0.008*\"gender\" + 0.007*\"copy\" + 0.005*\"office\" + 0.005*\"sudan\"'),\n",
       " (13,\n",
       "  '0.009*\"percent\" + 0.007*\"labour\" + 0.006*\"obama\" + 0.005*\"vote\" + 0.005*\"2010\" + 0.004*\"election\" + 0.004*\"party\" + 0.004*\"david\" + 0.004*\"president\" + 0.004*\"voters\"'),\n",
       " (14,\n",
       "  '0.012*\"un\" + 0.006*\"people\" + 0.005*\"development\" + 0.005*\"work\" + 0.005*\"(e\" + 0.004*\"needed\" + 0.004*\"haitian\" + 0.004*\"government\" + 0.004*\"diplomacy\" + 0.004*\"au\"'),\n",
       " (15,\n",
       "  '0.006*\"american\" + 0.004*\"people\" + 0.004*\"military\" + 0.004*\"government\" + 0.004*\"war\" + 0.004*\"state\" + 0.004*\"security\" + 0.003*\"party\" + 0.003*\"obama\" + 0.003*\"women\"'),\n",
       " (16,\n",
       "  '0.027*\"state\" + 0.013*\"department\" + 0.008*\"secretary\" + 0.005*\"women\" + 0.005*\"647\" + 0.005*\"security\" + 0.004*\"agreement\" + 0.004*\"case\" + 0.004*\"assistant\" + 0.004*\"diplomats\"'),\n",
       " (17,\n",
       "  '0.015*\"secretary\" + 0.015*\"30\" + 0.013*\"airport\" + 0.013*\"office\" + 0.010*\"15\" + 0.009*\"bloomberg\" + 0.009*\"meeting\" + 0.008*\"10\" + 0.008*\"prefer\" + 0.007*\"mins\"'),\n",
       " (18,\n",
       "  '0.037*\"office\" + 0.037*\"secretary\" + 0.030*\"30\" + 0.024*\"room\" + 0.022*\"meeting\" + 0.022*\"15\" + 0.021*\"10\" + 0.013*\"12\" + 0.013*\"45\" + 0.013*\"11\"'),\n",
       " (19,\n",
       "  '0.010*\"afghan\" + 0.010*\"senate\" + 0.005*\"bill\" + 0.005*\"kabul\" + 0.005*\"spending\" + 0.004*\"2010\" + 0.004*\"vote\" + 0.004*\"karzai\" + 0.004*\"647\" + 0.004*\"first\"')]"
      ]
     },
     "execution_count": 831,
     "metadata": {},
     "output_type": "execute_result"
    }
   ],
   "source": [
    "model_20.print_topics(20)"
   ]
  },
  {
   "cell_type": "code",
   "execution_count": null,
   "metadata": {
    "collapsed": true
   },
   "outputs": [],
   "source": []
  },
  {
   "cell_type": "markdown",
   "metadata": {
    "collapsed": true
   },
   "source": [
    "#### 35 topics"
   ]
  },
  {
   "cell_type": "code",
   "execution_count": 832,
   "metadata": {
    "collapsed": true
   },
   "outputs": [],
   "source": [
    "model_35 = models.LdaModel(corpus, id2word=dictionary, num_topics=35)"
   ]
  },
  {
   "cell_type": "code",
   "execution_count": 833,
   "metadata": {
    "collapsed": false
   },
   "outputs": [
    {
     "data": {
      "text/plain": [
       "[(0,\n",
       "  '0.023*\"tomorrow\" + 0.022*\"hikers\" + 0.017*\"sbwhoeop\" + 0.014*\"negotiating\" + 0.014*\"note\" + 0.012*\"b6\" + 0.011*\"give\" + 0.010*\"read\" + 0.010*\"sunday\" + 0.010*\"copy\"'),\n",
       " (1,\n",
       "  '0.049*\"richards\" + 0.028*\"bloomberg\" + 0.021*\"mayor\" + 0.012*\"lona\" + 0.010*\"haven\" + 0.008*\"high\" + 0.008*\"images\" + 0.008*\"valmoro\" + 0.008*\"assistant\" + 0.008*\"tonight\"'),\n",
       " (2,\n",
       "  '0.036*\"nuclear\" + 0.009*\"treaty\" + 0.007*\"pakistan\" + 0.007*\"trucks\" + 0.007*\"state\" + 0.007*\"states\" + 0.006*\"weapons\" + 0.006*\"china\" + 0.006*\"chinese\" + 0.005*\"indian\"'),\n",
       " (3,\n",
       "  '0.036*\"state\" + 0.021*\"department\" + 0.020*\"secretary\" + 0.012*\"force\" + 0.012*\"office\" + 0.009*\"647\" + 0.009*\"air\" + 0.009*\"andrews\" + 0.008*\"assistant\" + 0.007*\"conference\"'),\n",
       " (4,\n",
       "  '0.012*\"bill\" + 0.010*\"women\" + 0.006*\"voices\" + 0.006*\"camps\" + 0.006*\"holiday\" + 0.005*\"state\" + 0.005*\"obama\" + 0.004*\"first\" + 0.004*\"many\" + 0.004*\"camp\"'),\n",
       " (5,\n",
       "  '0.012*\"mod\" + 0.011*\"miliband\" + 0.008*\"play\" + 0.008*\"gordon\" + 0.008*\"letter\" + 0.007*\"ed\" + 0.007*\"david\" + 0.006*\"calls\" + 0.006*\"update\" + 0.006*\"read\"'),\n",
       " (6,\n",
       "  '0.009*\"start\" + 0.005*\"company\" + 0.005*\"sullivan\" + 0.005*\"russia\" + 0.004*\"moscow\" + 0.004*\"cut\" + 0.004*\"think\" + 0.004*\"jacob\" + 0.004*\"really\" + 0.004*\"bill\"'),\n",
       " (7,\n",
       "  '0.028*\"4(b)\" + 0.012*\"party\" + 0.012*\"happy\" + 0.011*\"email\" + 0.010*\"2010\" + 0.009*\"vote\" + 0.008*\"cloture\" + 0.007*\"4(d)\" + 0.007*\"mcconnell\" + 0.006*\"aren\"'),\n",
       " (8,\n",
       "  '0.032*\"doc;\" + 0.026*\"dialogue\" + 0.022*\"please\" + 0.015*\"gender\" + 0.011*\"women\" + 0.011*\"strategic\" + 0.009*\"assistance\" + 0.009*\"traveling\" + 0.009*\"weekend\" + 0.009*\"thank\"'),\n",
       " (9,\n",
       "  '0.019*\"company\" + 0.016*\"sullivan\" + 0.014*\"ops\" + 0.012*\"september\" + 0.011*\"jake\" + 0.010*\"cheryl\" + 0.010*\"b6\" + 0.009*\"gov\" + 0.009*\"mills\" + 0.009*\"b5\"'),\n",
       " (10,\n",
       "  '0.009*\"haitian\" + 0.008*\"2010\" + 0.006*\"guards\" + 0.006*\"au\" + 0.006*\"revolutionary\" + 0.005*\"may\" + 0.005*\"people\" + 0.005*\"ireland\" + 0.005*\"port\" + 0.005*\"workers\"'),\n",
       " (11,\n",
       "  '0.008*\"palin\" + 0.006*\"framework\" + 0.006*\"kurdish\" + 0.006*\"ill\" + 0.005*\"death\" + 0.005*\"health\" + 0.005*\"movement\" + 0.005*\"woman\" + 0.004*\"chamber\" + 0.004*\"care\"'),\n",
       " (12,\n",
       "  '0.043*\"secretary\" + 0.042*\"30\" + 0.041*\"office\" + 0.030*\"10\" + 0.027*\"meeting\" + 0.027*\"15\" + 0.025*\"room\" + 0.019*\"route\" + 0.019*\"arrive\" + 0.017*\"depart\"'),\n",
       " (13,\n",
       "  '0.019*\"tea\" + 0.011*\"book\" + 0.009*\"party\" + 0.008*\"cameron\" + 0.006*\"activists\" + 0.005*\"hoc\" + 0.005*\"bauer\" + 0.005*\"worst\" + 0.005*\"sbwhoeop\" + 0.004*\"told\"'),\n",
       " (14,\n",
       "  '0.014*\"cheryl\" + 0.011*\"mills\" + 0.010*\"gov\" + 0.010*\"2010\" + 0.007*\"fw\" + 0.007*\"millscd@state\" + 0.005*\"april\" + 0.005*\"article\" + 0.005*\"think\" + 0.005*\"friday\"'),\n",
       " (15,\n",
       "  '0.025*\"israel\" + 0.016*\"israeli\" + 0.016*\"netanyahu\" + 0.010*\"palestinian\" + 0.009*\"settlements\" + 0.009*\"peace\" + 0.008*\"diplomats\" + 0.007*\"state\" + 0.006*\"bibi\" + 0.006*\"time\"'),\n",
       " (16,\n",
       "  '0.015*\"woodward\" + 0.012*\"solve\" + 0.008*\"21st\" + 0.008*\"turkey\" + 0.008*\"nixon\" + 0.007*\"kissinger\" + 0.006*\"chapter\" + 0.006*\"materials\" + 0.006*\"tomorrow\" + 0.005*\"filed\"'),\n",
       " (17,\n",
       "  '0.010*\"ready\" + 0.009*\"soon\" + 0.009*\"hear\" + 0.008*\"want\" + 0.008*\"biden\" + 0.008*\"trip\" + 0.007*\"reach\" + 0.007*\"love\" + 0.007*\"un\" + 0.007*\"well\"'),\n",
       " (18,\n",
       "  '0.060*\"b1\" + 0.058*\"4(d)\" + 0.013*\"declassify\" + 0.009*\"b6\" + 0.009*\"calling\" + 0.009*\"thru\" + 0.009*\"love\" + 0.008*\"ri\" + 0.007*\"haqqani\" + 0.007*\"part\"'),\n",
       " (19,\n",
       "  '0.058*\"2010\" + 0.036*\"gov\" + 0.026*\"hrod17@clintonemail\" + 0.015*\"fw\" + 0.015*\"press\" + 0.013*\"monday\" + 0.013*\"clips\" + 0.012*\"03\" + 0.011*\"sullivanjj@state\" + 0.010*\"b6\"'),\n",
       " (20,\n",
       "  '0.011*\"verveerms@state\" + 0.009*\"december\" + 0.008*\"state\" + 0.007*\"staffer\" + 0.007*\"secret\" + 0.006*\"israel\" + 0.006*\"band\" + 0.005*\"already\" + 0.005*\"easily\" + 0.005*\"pie\"'),\n",
       " (21,\n",
       "  '0.009*\"taliban\" + 0.008*\"2010\" + 0.008*\"obama\" + 0.007*\"president\" + 0.007*\"percent\" + 0.006*\"republicans\" + 0.005*\"republican\" + 0.005*\"democrats\" + 0.004*\"state\" + 0.004*\"message\"'),\n",
       " (22,\n",
       "  '0.027*\"office\" + 0.019*\"gov\" + 0.017*\"secretary\" + 0.016*\"2010\" + 0.013*\"12\" + 0.013*\"11\" + 0.012*\"10\" + 0.012*\"45\" + 0.012*\"15\" + 0.012*\"30\"'),\n",
       " (23,\n",
       "  '0.010*\"qddr\" + 0.005*\"last\" + 0.005*\"make\" + 0.005*\"secure\" + 0.005*\"talk\" + 0.005*\"let\" + 0.005*\"want\" + 0.005*\"going\" + 0.004*\"way\" + 0.004*\"policy\"'),\n",
       " (24,\n",
       "  '0.041*\"print\" + 0.017*\"wing\" + 0.014*\"ed\" + 0.012*\"pis\" + 0.007*\"union\" + 0.007*\"right\" + 0.005*\"written\" + 0.005*\"anti\" + 0.004*\"me)\" + 0.004*\"happened\"'),\n",
       " (25,\n",
       "  '0.016*\"sorry\" + 0.013*\"mins\" + 0.010*\"travel\" + 0.009*\"59\" + 0.009*\"sat\" + 0.008*\"polish\" + 0.008*\"correct\" + 0.008*\"work\" + 0.008*\"crossed\" + 0.007*\"mix\"'),\n",
       " (26,\n",
       "  '0.010*\"women\" + 0.009*\"united\" + 0.007*\"states\" + 0.006*\"development\" + 0.006*\"diplomacy\" + 0.005*\"obama\" + 0.005*\"world\" + 0.005*\"economic\" + 0.005*\"people\" + 0.005*\"un\"'),\n",
       " (27,\n",
       "  '0.009*\"clinton\" + 0.007*\"settlements\" + 0.006*\"israel\" + 0.006*\"says\" + 0.006*\"american\" + 0.005*\"settlement\" + 0.005*\"israeli\" + 0.004*\"prince\" + 0.004*\"don\" + 0.004*\"north\"'),\n",
       " (28,\n",
       "  '0.007*\"obama\" + 0.006*\"government\" + 0.005*\"president\" + 0.004*\"war\" + 0.004*\"people\" + 0.004*\"american\" + 0.004*\"political\" + 0.004*\"party\" + 0.004*\"state\" + 0.004*\"military\"'),\n",
       " (29,\n",
       "  '0.007*\"missile\" + 0.007*\"iranian\" + 0.006*\"federal\" + 0.005*\"roger\" + 0.005*\"iran\" + 0.004*\"center\" + 0.004*\"let\" + 0.004*\"holbrooke\" + 0.004*\"tehran\" + 0.004*\"un\"'),\n",
       " (30,\n",
       "  '0.010*\"list\" + 0.008*\"add\" + 0.007*\"ll\" + 0.007*\"make\" + 0.007*\"sure\" + 0.005*\"don\" + 0.005*\"want\" + 0.005*\"working\" + 0.005*\"next\" + 0.005*\"polls\"'),\n",
       " (31,\n",
       "  '0.006*\"2010\" + 0.005*\"church\" + 0.005*\"president\" + 0.004*\"obama\" + 0.004*\"spending\" + 0.004*\"governing\" + 0.004*\"white\" + 0.004*\"think\" + 0.004*\"times\" + 0.004*\"tax\"'),\n",
       " (32,\n",
       "  '0.022*\"let\" + 0.021*\"b6\" + 0.020*\"talk\" + 0.020*\"part\" + 0.016*\"release\" + 0.014*\"think\" + 0.013*\"work\" + 0.012*\"next\" + 0.012*\"sounds\" + 0.012*\"discuss\"'),\n",
       " (33,\n",
       "  '0.023*\"senate\" + 0.017*\"secretary\" + 0.013*\"office\" + 0.012*\"boehner\" + 0.010*\"staff\" + 0.009*\"state\" + 0.009*\"house\" + 0.009*\"treaty\" + 0.006*\"germany\" + 0.006*\"pentagon\"'),\n",
       " (34,\n",
       "  '0.032*\"afghan\" + 0.014*\"karzai\" + 0.012*\"kabul\" + 0.010*\"cables\" + 0.009*\"leslie\" + 0.008*\"president\" + 0.006*\"obama\" + 0.006*\"karl\" + 0.005*\"secret\" + 0.005*\"finds\"')]"
      ]
     },
     "execution_count": 833,
     "metadata": {},
     "output_type": "execute_result"
    }
   ],
   "source": [
    "model_35.print_topics(35)"
   ]
  },
  {
   "cell_type": "code",
   "execution_count": null,
   "metadata": {
    "collapsed": true
   },
   "outputs": [],
   "source": []
  },
  {
   "cell_type": "markdown",
   "metadata": {
    "collapsed": true
   },
   "source": [
    "#### 50 topics"
   ]
  },
  {
   "cell_type": "code",
   "execution_count": 834,
   "metadata": {
    "collapsed": true
   },
   "outputs": [],
   "source": [
    "model_50 = models.LdaModel(corpus, id2word=dictionary, num_topics=50)"
   ]
  },
  {
   "cell_type": "code",
   "execution_count": 835,
   "metadata": {
    "collapsed": false
   },
   "outputs": [
    {
     "data": {
      "text/plain": [
       "[(0,\n",
       "  '0.018*\"israel\" + 0.017*\"party\" + 0.013*\"israeli\" + 0.011*\"settlements\" + 0.010*\"obama\" + 0.007*\"jewish\" + 0.006*\"settlement\" + 0.006*\"government\" + 0.006*\"talks\" + 0.006*\"afghan\"'),\n",
       " (1,\n",
       "  '0.016*\"gov\" + 0.012*\"qddr\" + 0.009*\"huma\" + 0.009*\"tomorrow\" + 0.009*\"development\" + 0.008*\"cheryl\" + 0.008*\"talked\" + 0.008*\"abedin\" + 0.007*\"planning\" + 0.006*\"pih\"'),\n",
       " (2,\n",
       "  '0.010*\"obama\" + 0.009*\"david\" + 0.008*\"labour\" + 0.008*\"party\" + 0.008*\"percent\" + 0.007*\"president\" + 0.005*\"republicans\" + 0.005*\"campaign\" + 0.005*\"americans\" + 0.005*\"tax\"'),\n",
       " (3,\n",
       "  '0.046*\"richards\" + 0.021*\"book\" + 0.017*\"secure\" + 0.014*\"books\" + 0.014*\"assume\" + 0.014*\"sounds\" + 0.012*\"rolling\" + 0.007*\"cost\" + 0.007*\"kerry\" + 0.007*\"hoping\"'),\n",
       " (4,\n",
       "  '0.074*\"2010\" + 0.031*\"b6\" + 0.027*\"sullivan\" + 0.023*\"gov\" + 0.018*\"sullivanjj@state\" + 0.018*\"kurdistan\" + 0.016*\"hrod17@clintonemail\" + 0.015*\"jacob\" + 0.010*\"part\" + 0.010*\"sunday\"'),\n",
       " (5,\n",
       "  '0.019*\"holbrooke\" + 0.017*\"mod\" + 0.013*\"via\" + 0.011*\"blackberry\" + 0.010*\"eikenberry\" + 0.010*\"sent\" + 0.009*\"dc\" + 0.008*\"mail\" + 0.007*\"picture\" + 0.007*\"afghanistan\"'),\n",
       " (6,\n",
       "  '0.026*\"health\" + 0.020*\"care\" + 0.017*\"senate\" + 0.011*\"committee\" + 0.010*\"bill\" + 0.010*\"palin\" + 0.009*\"public\" + 0.009*\"obama\" + 0.008*\"republicans\" + 0.008*\"think\"'),\n",
       " (7,\n",
       "  '0.024*\"2010\" + 0.020*\"kurdish\" + 0.018*\"january\" + 0.014*\"december\" + 0.010*\"nov\" + 0.009*\"cheryl\" + 0.009*\"gov\" + 0.008*\"48\" + 0.008*\"21\" + 0.007*\"11\"'),\n",
       " (8,\n",
       "  '0.052*\"4(d)\" + 0.051*\"4(b)\" + 0.051*\"b1\" + 0.014*\"part\" + 0.012*\"release\" + 0.011*\"b6\" + 0.009*\"pa\" + 0.009*\"deliver\" + 0.008*\"latin\" + 0.007*\"confidential\"'),\n",
       " (9,\n",
       "  '0.007*\"ireland\" + 0.006*\"(e\" + 0.006*\"politics\" + 0.005*\"people\" + 0.005*\"working\" + 0.005*\"government\" + 0.005*\"community\" + 0.005*\"un\" + 0.005*\"conditions\" + 0.004*\"minister\"'),\n",
       " (10,\n",
       "  '0.025*\"haitian\" + 0.019*\"au\" + 0.017*\"hikers\" + 0.008*\"help\" + 0.008*\"woman\" + 0.007*\"taliban\" + 0.007*\"email\" + 0.007*\"haiti\" + 0.006*\"food\" + 0.006*\"people\"'),\n",
       " (11,\n",
       "  '0.045*\"gov\" + 0.036*\"2010\" + 0.025*\"hrod17@clintonemail\" + 0.024*\"fw\" + 0.023*\"cheryl\" + 0.019*\"mills\" + 0.019*\"monday\" + 0.014*\"may\" + 0.014*\"12\" + 0.014*\"sunday\"'),\n",
       " (12,\n",
       "  '0.140*\"print\" + 0.100*\"pis\" + 0.029*\"jilotylc@state\" + 0.015*\"copies\" + 0.011*\"betsy\" + 0.009*\"8pm\" + 0.009*\"stock\" + 0.009*\"abedin;\" + 0.007*\"house\" + 0.007*\"accessible\"'),\n",
       " (13,\n",
       "  '0.025*\"airport\" + 0.016*\"secretary\" + 0.015*\"laguardia\" + 0.014*\"york\" + 0.013*\"office\" + 0.011*\"federal\" + 0.011*\"national\" + 0.010*\"pentagon\" + 0.009*\"changed\" + 0.008*\"kissinger\"'),\n",
       " (14,\n",
       "  '0.035*\"add\" + 0.029*\"email\" + 0.025*\"read\" + 0.022*\"cdm\" + 0.019*\"agree\" + 0.018*\"think\" + 0.017*\"list\" + 0.015*\"ready\" + 0.013*\"article\" + 0.013*\"note\"'),\n",
       " (15,\n",
       "  '0.015*\"ashton\" + 0.013*\"state\" + 0.012*\"abbas\" + 0.011*\"aside\" + 0.011*\"secret\" + 0.009*\"senate\" + 0.009*\"census\" + 0.009*\"return\" + 0.008*\"qddr\" + 0.007*\"subcommittee\"'),\n",
       " (16,\n",
       "  '0.008*\"nuclear\" + 0.006*\"public\" + 0.006*\"paper\" + 0.005*\"language\" + 0.005*\"claim\" + 0.005*\"people\" + 0.004*\"big\" + 0.004*\"american\" + 0.004*\"(though\" + 0.004*\"president\"'),\n",
       " (17,\n",
       "  '0.029*\"dialogue\" + 0.029*\"clips\" + 0.029*\"strategic\" + 0.025*\"press\" + 0.012*\"gelb\" + 0.010*\"meeting\" + 0.009*\"pooled\" + 0.008*\"amb\" + 0.008*\"10\" + 0.007*\"les\"'),\n",
       " (18,\n",
       "  '0.017*\"time\" + 0.016*\"gov\" + 0.015*\"tomorrow\" + 0.014*\"thru\" + 0.012*\"schedule\" + 0.012*\"sorry\" + 0.012*\"work\" + 0.011*\"phil\" + 0.011*\"mcconnell\" + 0.011*\"want\"'),\n",
       " (19,\n",
       "  '0.032*\"website\" + 0.025*\"hear\" + 0.023*\"de\" + 0.014*\"tour\" + 0.013*\"outreach\" + 0.009*\"mean\" + 0.008*\"sigh\" + 0.007*\"usual\" + 0.007*\"disturbing\" + 0.007*\"strife\"'),\n",
       " (20,\n",
       "  '0.032*\"afghan\" + 0.015*\"karzai\" + 0.011*\"asked\" + 0.011*\"kabul\" + 0.010*\"arrest\" + 0.010*\"vote\" + 0.009*\"argentina\" + 0.008*\"report\" + 0.008*\"already\" + 0.008*\"ellen\"'),\n",
       " (21,\n",
       "  '0.015*\"thanks\" + 0.011*\"please\" + 0.010*\"amendment\" + 0.010*\"religious\" + 0.010*\"raising\" + 0.009*\"thank\" + 0.009*\"strobe\" + 0.008*\"religion\" + 0.008*\"faith\" + 0.008*\"kennedy\"'),\n",
       " (22,\n",
       "  '0.033*\"lona\" + 0.027*\"assistant\" + 0.026*\"state\" + 0.024*\"valmoro\" + 0.024*\"talk\" + 0.022*\"secretary\" + 0.016*\"special\" + 0.014*\"mtg\" + 0.013*\"(direct)\" + 0.013*\"wants\"'),\n",
       " (23,\n",
       "  '0.008*\"state\" + 0.004*\"government\" + 0.004*\"military\" + 0.004*\"states\" + 0.004*\"house\" + 0.004*\"war\" + 0.003*\"afghanistan\" + 0.003*\"much\" + 0.003*\"mcchrystal\" + 0.003*\"support\"'),\n",
       " (24,\n",
       "  '0.016*\"missile\" + 0.013*\"blair\" + 0.011*\"climate\" + 0.008*\"framework\" + 0.007*\"gaza\" + 0.007*\"tony\" + 0.007*\"document\" + 0.006*\"quartet\" + 0.006*\"research\" + 0.005*\"security\"'),\n",
       " (25,\n",
       "  '0.023*\"women\" + 0.012*\"taliban\" + 0.007*\"least\" + 0.007*\"haitian\" + 0.006*\"legislation\" + 0.006*\"chapter\" + 0.006*\"afghanistan\" + 0.005*\"haiti\" + 0.005*\"people\" + 0.005*\"child\"'),\n",
       " (26,\n",
       "  '0.018*\"fax\" + 0.017*\"written\" + 0.015*\"pir\" + 0.015*\"note\" + 0.012*\"stories\" + 0.011*\"modernization\" + 0.011*\"(on\" + 0.010*\"thought\" + 0.009*\"dan\" + 0.009*\"des\"'),\n",
       " (27,\n",
       "  '0.032*\"03\" + 0.015*\"sanctions\" + 0.009*\"press\" + 0.008*\"expertise\" + 0.008*\"rescue\" + 0.007*\"correct\" + 0.007*\"laid\" + 0.007*\"marine\" + 0.006*\"passage\" + 0.006*\"gay\"'),\n",
       " (28,\n",
       "  '0.027*\"mcchrystal\" + 0.020*\"4(d)\" + 0.016*\"declassify\" + 0.014*\"b1\" + 0.013*\"night\" + 0.010*\"reason\" + 0.009*\"wjc\" + 0.009*\"last\" + 0.009*\"arturo\" + 0.008*\"emailed\"'),\n",
       " (29,\n",
       "  '0.010*\"tea\" + 0.008*\"pakistan\" + 0.007*\"government\" + 0.005*\"hospital\" + 0.005*\"report\" + 0.005*\"china\" + 0.005*\"chinese\" + 0.005*\"people\" + 0.004*\"hoc\" + 0.004*\"trucks\"'),\n",
       " (30,\n",
       "  '0.012*\"2010\" + 0.008*\"february\" + 0.008*\"beck\" + 0.007*\"sbwhoeop\" + 0.006*\"clinton\" + 0.005*\"worse\" + 0.005*\"game\" + 0.005*\"book\" + 0.005*\"obama\" + 0.005*\"van\"'),\n",
       " (31,\n",
       "  '0.021*\"north\" + 0.020*\"verveer\" + 0.019*\"mayor\" + 0.017*\"korean\" + 0.017*\"korea\" + 0.013*\"melanne\" + 0.011*\"state\" + 0.008*\"missiles\" + 0.008*\"san\" + 0.008*\"taab\"'),\n",
       " (32,\n",
       "  '0.014*\"(e\" + 0.013*\"sheet\" + 0.011*\"give\" + 0.010*\"confirmed\" + 0.009*\"calls\" + 0.009*\"lewis\" + 0.008*\"checking\" + 0.007*\"donors\" + 0.007*\"nuclear\" + 0.006*\"ops\"'),\n",
       " (33,\n",
       "  '0.017*\"cameron\" + 0.008*\"robinson\" + 0.007*\"last\" + 0.007*\"opinion\" + 0.007*\"box\" + 0.006*\"night\" + 0.006*\"anywhere\" + 0.006*\"2010\" + 0.006*\"play\" + 0.005*\"times\"'),\n",
       " (34,\n",
       "  '0.013*\"democrats\" + 0.011*\"boehner\" + 0.011*\"party\" + 0.011*\"senate\" + 0.009*\"republican\" + 0.008*\"democratic\" + 0.008*\"bill\" + 0.006*\"leader\" + 0.006*\"vote\" + 0.006*\"reid\"'),\n",
       " (35,\n",
       "  '0.016*\"work\" + 0.014*\"want\" + 0.013*\"speech\" + 0.011*\"ops\" + 0.010*\"tomorrow\" + 0.010*\"attached\" + 0.010*\"later\" + 0.009*\"copy\" + 0.009*\"ll\" + 0.008*\"judith\"'),\n",
       " (36,\n",
       "  '0.014*\"doc;\" + 0.008*\"2010\" + 0.007*\"clinton\" + 0.007*\"gender\" + 0.007*\"church\" + 0.007*\"received\" + 0.006*\"secretary\" + 0.005*\"state\" + 0.005*\"measures\" + 0.005*\"holiday\"'),\n",
       " (37,\n",
       "  '0.025*\"b5\" + 0.023*\"b6\" + 0.021*\"discuss\" + 0.020*\"part\" + 0.018*\"safe\" + 0.017*\"release\" + 0.016*\"ve\" + 0.014*\"mins\" + 0.012*\"given\" + 0.011*\"rains\"'),\n",
       " (38,\n",
       "  '0.013*\"germany\" + 0.013*\"high\" + 0.010*\"iraq\" + 0.010*\"iraqi\" + 0.009*\"says\" + 0.009*\"importance\" + 0.006*\"kids\" + 0.006*\"day\" + 0.006*\"home\" + 0.006*\"gotten\"'),\n",
       " (39,\n",
       "  '0.026*\"women\" + 0.015*\"camera\" + 0.013*\"verveerms@state\" + 0.011*\"decide\" + 0.010*\"mention\" + 0.010*\"a/s\" + 0.009*\"conf\" + 0.009*\"ams\" + 0.009*\"rupert\" + 0.008*\"woodward\"'),\n",
       " (40,\n",
       "  '0.009*\"karl\" + 0.009*\"finds\" + 0.007*\"biden\" + 0.007*\"state\" + 0.006*\"arabia\" + 0.006*\"hear\" + 0.006*\"boy\" + 0.006*\"office\" + 0.005*\"et\" + 0.005*\"weiner\"'),\n",
       " (41,\n",
       "  '0.050*\"office\" + 0.049*\"secretary\" + 0.042*\"30\" + 0.028*\"meeting\" + 0.028*\"10\" + 0.028*\"15\" + 0.028*\"room\" + 0.019*\"state\" + 0.019*\"45\" + 0.019*\"department\"'),\n",
       " (42,\n",
       "  '0.014*\"iran\" + 0.012*\"iranian\" + 0.010*\"company\" + 0.010*\"american\" + 0.009*\"even\" + 0.008*\"port\" + 0.007*\"guards\" + 0.006*\"revolutionary\" + 0.005*\"president\" + 0.005*\"northern\"'),\n",
       " (43,\n",
       "  '0.019*\"netanyahu\" + 0.013*\"border\" + 0.011*\"judge\" + 0.010*\"chamber\" + 0.008*\"tonight\" + 0.008*\"ask\" + 0.008*\"powers\" + 0.007*\"repeatedly\" + 0.007*\"boss\" + 0.006*\"brilliant\"'),\n",
       " (44,\n",
       "  '0.007*\"obama\" + 0.006*\"state\" + 0.006*\"policy\" + 0.005*\"israel\" + 0.005*\"diplomacy\" + 0.005*\"security\" + 0.005*\"american\" + 0.004*\"president\" + 0.004*\"conflict\" + 0.004*\"first\"'),\n",
       " (45,\n",
       "  '0.027*\"miliband\" + 0.011*\"test\" + 0.010*\"russia\" + 0.010*\"explained\" + 0.009*\"little\" + 0.007*\"accounts\" + 0.007*\"2010\" + 0.007*\"expeditionary\" + 0.006*\"china\" + 0.006*\"heroic\"'),\n",
       " (46,\n",
       "  '0.020*\"make\" + 0.019*\"let\" + 0.016*\"sure\" + 0.015*\"ll\" + 0.012*\"thanks\" + 0.012*\"mtg\" + 0.011*\"please\" + 0.010*\"best\" + 0.010*\"shaun\" + 0.010*\"final\"'),\n",
       " (47,\n",
       "  '0.018*\"logistics\" + 0.017*\"burns\" + 0.015*\"gaza\" + 0.014*\"bill\" + 0.013*\"palestinian\" + 0.013*\"israeli\" + 0.011*\"funds\" + 0.010*\"funded\" + 0.010*\"kabul\" + 0.008*\"humanitarian\"'),\n",
       " (48,\n",
       "  '0.019*\"2010\" + 0.010*\"happy\" + 0.008*\"way\" + 0.008*\"may\" + 0.007*\"gov\" + 0.007*\"statement\" + 0.006*\"birthday\" + 0.006*\"haven\" + 0.006*\"friday\" + 0.006*\"criticized\"'),\n",
       " (49,\n",
       "  '0.007*\"state\" + 0.007*\"corporate\" + 0.007*\"21st\" + 0.006*\"clinton\" + 0.006*\"house\" + 0.006*\"defenses\" + 0.006*\"prince\" + 0.005*\"federal\" + 0.005*\"obama\" + 0.004*\"american\"')]"
      ]
     },
     "execution_count": 835,
     "metadata": {},
     "output_type": "execute_result"
    }
   ],
   "source": [
    "model_50.print_topics(50)"
   ]
  },
  {
   "cell_type": "code",
   "execution_count": null,
   "metadata": {
    "collapsed": true
   },
   "outputs": [],
   "source": []
  },
  {
   "cell_type": "code",
   "execution_count": null,
   "metadata": {
    "collapsed": true
   },
   "outputs": [],
   "source": []
  },
  {
   "cell_type": "code",
   "execution_count": null,
   "metadata": {
    "collapsed": true
   },
   "outputs": [],
   "source": []
  },
  {
   "cell_type": "code",
   "execution_count": null,
   "metadata": {
    "collapsed": true
   },
   "outputs": [],
   "source": []
  },
  {
   "cell_type": "code",
   "execution_count": null,
   "metadata": {
    "collapsed": true
   },
   "outputs": [],
   "source": []
  },
  {
   "cell_type": "code",
   "execution_count": 823,
   "metadata": {
    "collapsed": false
   },
   "outputs": [
    {
     "data": {
      "text/plain": [
       "6742"
      ]
     },
     "execution_count": 823,
     "metadata": {},
     "output_type": "execute_result"
    }
   ],
   "source": [
    "len(texts)"
   ]
  },
  {
   "cell_type": "code",
   "execution_count": 824,
   "metadata": {
    "collapsed": false
   },
   "outputs": [],
   "source": [
    "#texts"
   ]
  },
  {
   "cell_type": "code",
   "execution_count": 793,
   "metadata": {
    "collapsed": true
   },
   "outputs": [],
   "source": [
    "dictionary = corpora.Dictionary(texts)\n",
    "dictionary.save(\"part3/deerwester-email.dict\")"
   ]
  },
  {
   "cell_type": "code",
   "execution_count": 794,
   "metadata": {
    "collapsed": false
   },
   "outputs": [
    {
     "name": "stdout",
     "output_type": "stream",
     "text": [
      "Dictionary(17663 unique tokens: ['145', 'pouch', 'capabilities', 'rooms', 'mirage']...)\n"
     ]
    }
   ],
   "source": [
    "print(dictionary)"
   ]
  },
  {
   "cell_type": "code",
   "execution_count": 795,
   "metadata": {
    "collapsed": true
   },
   "outputs": [],
   "source": [
    "corpus = [dictionary.doc2bow(text) for text in texts]"
   ]
  },
  {
   "cell_type": "code",
   "execution_count": 796,
   "metadata": {
    "collapsed": false
   },
   "outputs": [],
   "source": [
    "#print(corpus)"
   ]
  },
  {
   "cell_type": "code",
   "execution_count": 797,
   "metadata": {
    "collapsed": true
   },
   "outputs": [],
   "source": [
    "corpora.MmCorpus.serialize(\"part3/deerwester-email.mm\", corpus)"
   ]
  },
  {
   "cell_type": "code",
   "execution_count": 798,
   "metadata": {
    "collapsed": true
   },
   "outputs": [],
   "source": [
    "dictionary = corpora.Dictionary.load(\"part3/deerwester-email.dict\")\n"
   ]
  },
  {
   "cell_type": "code",
   "execution_count": 799,
   "metadata": {
    "collapsed": false
   },
   "outputs": [],
   "source": [
    "model = models.LdaModel(corpus, id2word=dictionary, num_topics=50)"
   ]
  },
  {
   "cell_type": "code",
   "execution_count": 800,
   "metadata": {
    "collapsed": false
   },
   "outputs": [
    {
     "data": {
      "text/plain": [
       "[(0,\n",
       "  '0.014*\"gov\" + 0.013*\"plane\" + 0.013*\"huma\" + 0.012*\"bill\" + 0.012*\"traveling\" + 0.011*\"latin\" + 0.011*\"test\" + 0.009*\"climate\" + 0.009*\"friday\" + 0.008*\"abedin\"'),\n",
       " (1,\n",
       "  '0.020*\"percent\" + 0.014*\"2010\" + 0.011*\"voters\" + 0.009*\"palin\" + 0.009*\"obama\" + 0.007*\"poll\" + 0.007*\"republican\" + 0.006*\"unfavorable\" + 0.006*\"favorable\" + 0.006*\"opinion\"'),\n",
       " (2,\n",
       "  '0.026*\"border\" + 0.015*\"holiday\" + 0.012*\"mother\" + 0.011*\"witnesses\" + 0.009*\"covered\" + 0.009*\"sarkozy\" + 0.008*\"residents\" + 0.007*\"taab\" + 0.007*\"condolence\" + 0.006*\"report\"'),\n",
       " (3,\n",
       "  '0.033*\"sent\" + 0.026*\"via\" + 0.026*\"blackberry\" + 0.016*\"trying\" + 0.014*\"mail\" + 0.013*\"document\" + 0.013*\"morning\" + 0.012*\"sometime\" + 0.011*\"w/\" + 0.011*\"deadline\"'),\n",
       " (4,\n",
       "  '0.036*\"israeli\" + 0.016*\"israel\" + 0.013*\"arab\" + 0.009*\"settlements\" + 0.008*\"jerusalem\" + 0.008*\"sanctions\" + 0.006*\"jewish\" + 0.005*\"march\" + 0.005*\"security\" + 0.005*\"civilians\"'),\n",
       " (5,\n",
       "  '0.025*\"holbrooke\" + 0.013*\"list\" + 0.012*\"trip\" + 0.011*\"traffic\" + 0.010*\"website\" + 0.010*\"russia\" + 0.009*\"next\" + 0.008*\"judith\" + 0.008*\"following\" + 0.007*\"going\"'),\n",
       " (6,\n",
       "  '0.011*\"state\" + 0.007*\"part\" + 0.005*\"president\" + 0.004*\"women\" + 0.004*\"case\" + 0.004*\"house\" + 0.004*\"charge\" + 0.004*\"time\" + 0.004*\"critical\" + 0.003*\"department\"'),\n",
       " (7,\n",
       "  '0.044*\"afghan\" + 0.014*\"changed\" + 0.012*\"kabul\" + 0.008*\"hear\" + 0.007*\"karzai\" + 0.007*\"2010\" + 0.007*\"vote\" + 0.007*\"assume\" + 0.006*\"anytime\" + 0.006*\"soviet\"'),\n",
       " (8,\n",
       "  '0.025*\"doc;\" + 0.020*\"03\" + 0.016*\"dialogue\" + 0.013*\"palestinian\" + 0.011*\"gov\" + 0.009*\"gender\" + 0.009*\"work\" + 0.009*\"2010\" + 0.009*\"israeli\" + 0.008*\"return\"'),\n",
       " (9,\n",
       "  '0.009*\"iran\" + 0.008*\"solve\" + 0.007*\"language\" + 0.006*\"iranian\" + 0.006*\"gaza\" + 0.005*\"international\" + 0.005*\"consistent\" + 0.005*\"goal\" + 0.004*\"people\" + 0.004*\"planning\"'),\n",
       " (10,\n",
       "  '0.014*\"cheryl\" + 0.014*\"pentagon\" + 0.012*\"gov\" + 0.012*\"later\" + 0.011*\"mills\" + 0.010*\"(202)\" + 0.009*\"millscd@state\" + 0.008*\"rescue\" + 0.008*\"marine\" + 0.007*\"dinner\"'),\n",
       " (11,\n",
       "  '0.005*\"story\" + 0.005*\"wages\" + 0.004*\"haiti\" + 0.004*\"cross\" + 0.004*\"activists\" + 0.004*\"people\" + 0.004*\"workers\" + 0.004*\"lewis\" + 0.004*\"extended\" + 0.004*\"quartet\"'),\n",
       " (12,\n",
       "  '0.012*\"kissinger\" + 0.012*\"rolling\" + 0.012*\"clean\" + 0.010*\"emailed\" + 0.010*\"notes\" + 0.010*\"space\" + 0.008*\"un\" + 0.008*\"non\" + 0.007*\"limited\" + 0.007*\"ve\"'),\n",
       " (13,\n",
       "  '0.053*\"richards\" + 0.013*\"bank\" + 0.011*\"prepare\" + 0.011*\"rich\" + 0.011*\"written\" + 0.010*\"dr\" + 0.010*\"tomorrow\" + 0.009*\"coming\" + 0.009*\"ellen\" + 0.009*\"kurt\"'),\n",
       " (14,\n",
       "  '0.024*\"message\" + 0.017*\"note\" + 0.016*\"received\" + 0.012*\"business\" + 0.011*\"reach\" + 0.011*\"mail\" + 0.011*\"accords\" + 0.011*\"state\" + 0.010*\"original\" + 0.009*\"draft\"'),\n",
       " (15,\n",
       "  '0.018*\"gelb\" + 0.010*\"worse\" + 0.009*\"les\" + 0.009*\"referring\" + 0.009*\"karzai\" + 0.008*\"kerry\" + 0.008*\"detained\" + 0.008*\"classified\" + 0.007*\"supporter\" + 0.007*\"forgot\"'),\n",
       " (16,\n",
       "  '0.012*\"night\" + 0.009*\"work\" + 0.008*\"un\" + 0.007*\"people\" + 0.006*\"arizona\" + 0.006*\"meet\" + 0.005*\"logistics\" + 0.005*\"week\" + 0.005*\"much\" + 0.005*\"framework\"'),\n",
       " (17,\n",
       "  '0.018*\"labour\" + 0.015*\"david\" + 0.010*\"party\" + 0.009*\"negotiating\" + 0.008*\"tax\" + 0.008*\"tony\" + 0.008*\"ed\" + 0.008*\"parties\" + 0.007*\"richard\" + 0.006*\"brother\"'),\n",
       " (18,\n",
       "  '0.040*\"4(d)\" + 0.039*\"b1\" + 0.027*\"4(b)\" + 0.023*\"qddr\" + 0.018*\"kurdistan\" + 0.010*\"declassify\" + 0.010*\"church\" + 0.009*\"reason\" + 0.008*\"sudan\" + 0.008*\"camps\"'),\n",
       " (19,\n",
       "  '0.012*\"burns\" + 0.010*\"sheikha\" + 0.010*\"stay\" + 0.010*\"tomorrow\" + 0.009*\"best\" + 0.008*\"rob\" + 0.008*\"talking\" + 0.007*\"sigh\" + 0.007*\"mary\" + 0.007*\"jim\"'),\n",
       " (20,\n",
       "  '0.051*\"secretary\" + 0.048*\"office\" + 0.038*\"30\" + 0.028*\"10\" + 0.027*\"15\" + 0.027*\"meeting\" + 0.027*\"room\" + 0.022*\"state\" + 0.018*\"department\" + 0.018*\"45\"'),\n",
       " (21,\n",
       "  '0.016*\"secretary\" + 0.016*\"meeting\" + 0.015*\"laguardia\" + 0.013*\"30\" + 0.012*\"airport\" + 0.011*\"biden\" + 0.010*\"office\" + 0.009*\"york\" + 0.009*\"verveerms@state\" + 0.007*\"15\"'),\n",
       " (22,\n",
       "  '0.008*\"obama\" + 0.007*\"war\" + 0.006*\"american\" + 0.005*\"senate\" + 0.005*\"iraq\" + 0.005*\"president\" + 0.005*\"bill\" + 0.005*\"white\" + 0.005*\"house\" + 0.005*\"republican\"'),\n",
       " (23,\n",
       "  '0.024*\"saw\" + 0.013*\"urgent\" + 0.013*\"bob\" + 0.011*\"panel\" + 0.011*\"physical\" + 0.010*\"investigative\" + 0.008*\"sat\" + 0.008*\"doubt\" + 0.007*\"looked\" + 0.007*\"happening\"'),\n",
       " (24,\n",
       "  '0.014*\"diplomats\" + 0.010*\"clinton\" + 0.009*\"paper\" + 0.009*\"murder\" + 0.009*\"2000\" + 0.008*\"2002\" + 0.007*\"health\" + 0.006*\"aipac\" + 0.006*\"jan\" + 0.005*\"staffer\"'),\n",
       " (25,\n",
       "  '0.010*\"2010\" + 0.008*\"strategic\" + 0.008*\"politics\" + 0.006*\"kurdish\" + 0.005*\"wing\" + 0.005*\"international\" + 0.005*\"january\" + 0.004*\"even\" + 0.004*\"right\" + 0.004*\"press\"'),\n",
       " (26,\n",
       "  '0.009*\"netanyahu\" + 0.008*\"obama\" + 0.008*\"american\" + 0.008*\"president\" + 0.007*\"israel\" + 0.007*\"state\" + 0.007*\"people\" + 0.005*\"palestinians\" + 0.005*\"un\" + 0.005*\"book\"'),\n",
       " (27,\n",
       "  '0.013*\"federal\" + 0.011*\"cohen\" + 0.010*\"b/i\" + 0.008*\"reform\" + 0.007*\"forwarded\" + 0.007*\"sending\" + 0.007*\"ministers\" + 0.007*\"office\" + 0.006*\"okay\" + 0.006*\"informal\"'),\n",
       " (28,\n",
       "  '0.074*\"print\" + 0.039*\"pis\" + 0.026*\"mod\" + 0.019*\"speech\" + 0.013*\"nov\" + 0.009*\"copy\" + 0.008*\"sbwhoeop\" + 0.007*\"women\" + 0.007*\"corporations\" + 0.007*\"handle\"'),\n",
       " (29,\n",
       "  '0.038*\"add\" + 0.023*\"roger\" + 0.017*\"xo\" + 0.015*\"wjc\" + 0.013*\"besides\" + 0.013*\"flight\" + 0.010*\"macedonia\" + 0.009*\"pis\" + 0.009*\"propose\" + 0.007*\"shipley\"'),\n",
       " (30,\n",
       "  '0.044*\"book\" + 0.024*\"email\" + 0.013*\"ill\" + 0.012*\"yep\" + 0.012*\"rupert\" + 0.011*\"albright\" + 0.010*\"send\" + 0.010*\"stones\" + 0.009*\"afternoon\" + 0.009*\"isabelle\"'),\n",
       " (31,\n",
       "  '0.013*\"don\" + 0.012*\"told\" + 0.012*\"going\" + 0.012*\"think\" + 0.010*\"read\" + 0.009*\"miliband\" + 0.008*\"thing\" + 0.008*\"tell\" + 0.008*\"ll\" + 0.007*\"sure\"'),\n",
       " (32,\n",
       "  '0.036*\"settlements\" + 0.027*\"israel\" + 0.025*\"bibi\" + 0.021*\"settlement\" + 0.011*\"israeli\" + 0.010*\"raising\" + 0.009*\"madame\" + 0.009*\"wanted\" + 0.008*\"bank\" + 0.007*\"measures\"'),\n",
       " (33,\n",
       "  '0.050*\"gov\" + 0.025*\"huma\" + 0.022*\"happy\" + 0.021*\"abedin\" + 0.020*\"jilotylc@state\" + 0.018*\"fw\" + 0.017*\"2010\" + 0.015*\"wednesday\" + 0.015*\"saturday\" + 0.015*\"mills\"'),\n",
       " (34,\n",
       "  '0.014*\"taliban\" + 0.009*\"(e\" + 0.009*\"currently\" + 0.008*\"sbwhoeop\" + 0.008*\"immediate\" + 0.006*\"eu\" + 0.005*\"blair\" + 0.005*\"thus\" + 0.005*\"delivery\" + 0.005*\"sufficient\"'),\n",
       " (35,\n",
       "  '0.014*\"party\" + 0.007*\"mcchrystal\" + 0.006*\"government\" + 0.005*\"political\" + 0.004*\"obama\" + 0.004*\"election\" + 0.004*\"talks\" + 0.004*\"time\" + 0.004*\"least\" + 0.003*\"mayor\"'),\n",
       " (36,\n",
       "  '0.008*\"nuclear\" + 0.006*\"security\" + 0.006*\"policy\" + 0.005*\"conflict\" + 0.005*\"united\" + 0.005*\"states\" + 0.004*\"start\" + 0.004*\"iran\" + 0.004*\"china\" + 0.004*\"much\"'),\n",
       " (37,\n",
       "  '0.015*\"state\" + 0.010*\"diplomacy\" + 0.010*\"secretary\" + 0.008*\"office\" + 0.008*\"treaty\" + 0.008*\"national\" + 0.008*\"department\" + 0.006*\"obama\" + 0.006*\"time\" + 0.006*\"capacity\"'),\n",
       " (38,\n",
       "  '0.025*\"sounds\" + 0.017*\"week\" + 0.017*\"strobe\" + 0.013*\"time\" + 0.012*\"talbott\" + 0.012*\"next\" + 0.011*\"write\" + 0.011*\"dc\" + 0.011*\"brookings\" + 0.010*\"thanks\"'),\n",
       " (39,\n",
       "  '0.016*\"state\" + 0.013*\"palestinian\" + 0.009*\"arabs\" + 0.009*\"department\" + 0.006*\"israel\" + 0.005*\"census\" + 0.005*\"locally\" + 0.005*\"walter\" + 0.004*\"agreement\" + 0.004*\"jerusalem\"'),\n",
       " (40,\n",
       "  '0.024*\"agree\" + 0.015*\"safe\" + 0.013*\"travels\" + 0.012*\"beck\" + 0.010*\"wireless\" + 0.009*\"verizon\" + 0.008*\"memories\" + 0.008*\"pres\" + 0.007*\"later\" + 0.007*\"highlights\"'),\n",
       " (41,\n",
       "  '0.034*\"clips\" + 0.021*\"press\" + 0.015*\"wants\" + 0.013*\"touch\" + 0.013*\"korean\" + 0.012*\"picture\" + 0.012*\"calling\" + 0.010*\"expertise\" + 0.010*\"trying\" + 0.010*\"rains\"'),\n",
       " (42,\n",
       "  '0.025*\"haitian\" + 0.013*\"prince\" + 0.010*\"port\" + 0.009*\"au\" + 0.009*\"pay\" + 0.009*\"health\" + 0.008*\"red\" + 0.008*\"germany\" + 0.006*\"haiti\" + 0.005*\"food\"'),\n",
       " (43,\n",
       "  '0.056*\"b6\" + 0.023*\"part\" + 0.023*\"hikers\" + 0.022*\"release\" + 0.016*\"talked\" + 0.015*\"draft\" + 0.014*\"ll\" + 0.013*\"work\" + 0.013*\"melanne\" + 0.012*\"verveer\"'),\n",
       " (44,\n",
       "  '0.040*\"women\" + 0.014*\"work\" + 0.012*\"great\" + 0.011*\"nations\" + 0.010*\"connect\" + 0.009*\"first\" + 0.009*\"deliver\" + 0.007*\"tonight\" + 0.007*\"people\" + 0.007*\"secure\"'),\n",
       " (45,\n",
       "  '0.020*\"ireland\" + 0.013*\"copies\" + 0.013*\"chapter\" + 0.012*\"interagency\" + 0.011*\"greek\" + 0.011*\"transfer\" + 0.010*\"jockey\" + 0.010*\"jim\" + 0.010*\"final\" + 0.009*\"uup\"'),\n",
       " (46,\n",
       "  '0.089*\"2010\" + 0.042*\"gov\" + 0.041*\"hrod17@clintonemail\" + 0.030*\"sullivan\" + 0.024*\"sullivanjj@state\" + 0.022*\"december\" + 0.019*\"fw\" + 0.019*\"sunday\" + 0.016*\"monday\" + 0.016*\"jacob\"'),\n",
       " (47,\n",
       "  '0.024*\"company\" + 0.015*\"please\" + 0.014*\"647\" + 0.012*\"202\" + 0.007*\"corporate\" + 0.006*\"waiting\" + 0.006*\"article\" + 0.006*\"gov\" + 0.006*\"karl\" + 0.005*\"office\"'),\n",
       " (48,\n",
       "  '0.034*\"ops\" + 0.033*\"2010\" + 0.023*\"ready\" + 0.016*\"thru\" + 0.012*\"joanne\" + 0.011*\"soon\" + 0.010*\"scheduled\" + 0.010*\"tomorrow\" + 0.010*\"hillary\" + 0.010*\"van\"'),\n",
       " (49,\n",
       "  '0.031*\"discuss\" + 0.028*\"thanks\" + 0.024*\"talk\" + 0.020*\"let\" + 0.016*\"copy\" + 0.015*\"cables\" + 0.012*\"follow\" + 0.012*\"eikenberry\" + 0.012*\"email\" + 0.011*\"tonight\"')]"
      ]
     },
     "execution_count": 800,
     "metadata": {},
     "output_type": "execute_result"
    }
   ],
   "source": [
    "model.print_topics(50)"
   ]
  },
  {
   "cell_type": "code",
   "execution_count": 801,
   "metadata": {
    "collapsed": false
   },
   "outputs": [
    {
     "name": "stdout",
     "output_type": "stream",
     "text": [
      "LdaModel(num_terms=17663, num_topics=50, decay=0.5, chunksize=2000)\n"
     ]
    }
   ],
   "source": [
    "print(model)"
   ]
  },
  {
   "cell_type": "code",
   "execution_count": 802,
   "metadata": {
    "collapsed": false
   },
   "outputs": [],
   "source": [
    "#print(corpus)"
   ]
  },
  {
   "cell_type": "code",
   "execution_count": null,
   "metadata": {
    "collapsed": true
   },
   "outputs": [],
   "source": []
  },
  {
   "cell_type": "code",
   "execution_count": null,
   "metadata": {
    "collapsed": true
   },
   "outputs": [],
   "source": []
  },
  {
   "cell_type": "code",
   "execution_count": null,
   "metadata": {
    "collapsed": true
   },
   "outputs": [],
   "source": []
  },
  {
   "cell_type": "code",
   "execution_count": null,
   "metadata": {
    "collapsed": true
   },
   "outputs": [],
   "source": []
  },
  {
   "cell_type": "code",
   "execution_count": null,
   "metadata": {
    "collapsed": true
   },
   "outputs": [],
   "source": []
  },
  {
   "cell_type": "code",
   "execution_count": null,
   "metadata": {
    "collapsed": true
   },
   "outputs": [],
   "source": []
  },
  {
   "cell_type": "code",
   "execution_count": null,
   "metadata": {
    "collapsed": true
   },
   "outputs": [],
   "source": []
  },
  {
   "cell_type": "code",
   "execution_count": null,
   "metadata": {
    "collapsed": true
   },
   "outputs": [],
   "source": []
  },
  {
   "cell_type": "code",
   "execution_count": null,
   "metadata": {
    "collapsed": true
   },
   "outputs": [],
   "source": []
  },
  {
   "cell_type": "code",
   "execution_count": null,
   "metadata": {
    "collapsed": true
   },
   "outputs": [],
   "source": []
  },
  {
   "cell_type": "code",
   "execution_count": null,
   "metadata": {
    "collapsed": true
   },
   "outputs": [],
   "source": []
  },
  {
   "cell_type": "code",
   "execution_count": null,
   "metadata": {
    "collapsed": true
   },
   "outputs": [],
   "source": []
  },
  {
   "cell_type": "code",
   "execution_count": null,
   "metadata": {
    "collapsed": true
   },
   "outputs": [],
   "source": []
  },
  {
   "cell_type": "code",
   "execution_count": null,
   "metadata": {
    "collapsed": true
   },
   "outputs": [],
   "source": []
  },
  {
   "cell_type": "code",
   "execution_count": null,
   "metadata": {
    "collapsed": true
   },
   "outputs": [],
   "source": []
  },
  {
   "cell_type": "code",
   "execution_count": null,
   "metadata": {
    "collapsed": true
   },
   "outputs": [],
   "source": []
  },
  {
   "cell_type": "code",
   "execution_count": null,
   "metadata": {
    "collapsed": true
   },
   "outputs": [],
   "source": []
  },
  {
   "cell_type": "code",
   "execution_count": null,
   "metadata": {
    "collapsed": true
   },
   "outputs": [],
   "source": []
  },
  {
   "cell_type": "code",
   "execution_count": null,
   "metadata": {
    "collapsed": true
   },
   "outputs": [],
   "source": []
  },
  {
   "cell_type": "code",
   "execution_count": null,
   "metadata": {
    "collapsed": true
   },
   "outputs": [],
   "source": []
  },
  {
   "cell_type": "code",
   "execution_count": null,
   "metadata": {
    "collapsed": true
   },
   "outputs": [],
   "source": []
  },
  {
   "cell_type": "code",
   "execution_count": null,
   "metadata": {
    "collapsed": true
   },
   "outputs": [],
   "source": []
  },
  {
   "cell_type": "code",
   "execution_count": null,
   "metadata": {
    "collapsed": true
   },
   "outputs": [],
   "source": []
  },
  {
   "cell_type": "code",
   "execution_count": null,
   "metadata": {
    "collapsed": true
   },
   "outputs": [],
   "source": []
  },
  {
   "cell_type": "code",
   "execution_count": null,
   "metadata": {
    "collapsed": true
   },
   "outputs": [],
   "source": []
  },
  {
   "cell_type": "code",
   "execution_count": null,
   "metadata": {
    "collapsed": true
   },
   "outputs": [],
   "source": []
  },
  {
   "cell_type": "code",
   "execution_count": null,
   "metadata": {
    "collapsed": true
   },
   "outputs": [],
   "source": []
  },
  {
   "cell_type": "code",
   "execution_count": null,
   "metadata": {
    "collapsed": true
   },
   "outputs": [],
   "source": []
  },
  {
   "cell_type": "code",
   "execution_count": null,
   "metadata": {
    "collapsed": true
   },
   "outputs": [],
   "source": []
  },
  {
   "cell_type": "code",
   "execution_count": null,
   "metadata": {
    "collapsed": true
   },
   "outputs": [],
   "source": []
  },
  {
   "cell_type": "code",
   "execution_count": null,
   "metadata": {
    "collapsed": true
   },
   "outputs": [],
   "source": []
  },
  {
   "cell_type": "code",
   "execution_count": null,
   "metadata": {
    "collapsed": true
   },
   "outputs": [],
   "source": []
  },
  {
   "cell_type": "code",
   "execution_count": null,
   "metadata": {
    "collapsed": true
   },
   "outputs": [],
   "source": []
  },
  {
   "cell_type": "code",
   "execution_count": null,
   "metadata": {
    "collapsed": true
   },
   "outputs": [],
   "source": []
  }
 ],
 "metadata": {
  "anaconda-cloud": {},
  "kernelspec": {
   "display_name": "Python [Root]",
   "language": "python",
   "name": "Python [Root]"
  },
  "language_info": {
   "codemirror_mode": {
    "name": "ipython",
    "version": 3
   },
   "file_extension": ".py",
   "mimetype": "text/x-python",
   "name": "python",
   "nbconvert_exporter": "python",
   "pygments_lexer": "ipython3",
   "version": "3.5.2"
  },
  "nav_menu": {},
  "toc": {
   "navigate_menu": true,
   "number_sections": false,
   "sideBar": false,
   "threshold": "3",
   "toc_cell": true,
   "toc_section_display": "block",
   "toc_window_display": false
  }
 },
 "nbformat": 4,
 "nbformat_minor": 1
}
