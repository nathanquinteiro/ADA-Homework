{
 "cells": [
  {
   "cell_type": "markdown",
   "metadata": {},
   "source": [
    "# Corpus"
   ]
  },
  {
   "cell_type": "code",
   "execution_count": 679,
   "metadata": {
    "collapsed": false
   },
   "outputs": [],
   "source": [
    "import pandas as pd                                     \n",
    "import numpy as np                                      \n",
    "import os \n",
    "\n",
    "\n",
    "\n",
    "import matplotlib.pyplot as plt\n",
    "\n",
    "from datetime import datetime\n",
    "\n",
    "%matplotlib inline\n",
    "import seaborn as sns                                   # For pretty plots\n",
    "import gensim\n",
    "import nltk\n",
    "\n",
    "\n",
    "from os import path\n",
    "from wordcloud import WordCloud\n",
    "from wordcloud import STOPWORDS\n",
    "from PIL import Image\n",
    "from gensim import corpora, models, similarities\n",
    "from nltk.corpus import stopwords"
   ]
  },
  {
   "cell_type": "code",
   "execution_count": 680,
   "metadata": {
    "collapsed": false
   },
   "outputs": [],
   "source": [
    "emails = pd.read_csv(\"hillary-clinton-emails/Emails.csv\")\n",
    "#emails.head()"
   ]
  },
  {
   "cell_type": "code",
   "execution_count": 681,
   "metadata": {
    "collapsed": false
   },
   "outputs": [
    {
     "data": {
      "text/plain": [
       "pandas.core.series.Series"
      ]
     },
     "execution_count": 681,
     "metadata": {},
     "output_type": "execute_result"
    }
   ],
   "source": [
    "emails_text = emails['ExtractedBodyText'].dropna()\n",
    "#emails_text = emails_text.head(100)\n",
    "#emails_text.shape\n",
    "type(emails_text)"
   ]
  },
  {
   "cell_type": "code",
   "execution_count": 682,
   "metadata": {
    "collapsed": true
   },
   "outputs": [],
   "source": [
    "emails_text = emails_text.apply(lambda x: x.lower())"
   ]
  },
  {
   "cell_type": "code",
   "execution_count": 683,
   "metadata": {
    "collapsed": false
   },
   "outputs": [],
   "source": [
    "emails_text = emails_text.apply(lambda x: x\\\n",
    "                                .replace(':',' ')\\\n",
    "                                .replace('—',' ')\\\n",
    "                                .replace('-',' ')\\\n",
    "                                .replace('.',' ')\\\n",
    "                                .replace(',',' ')\\\n",
    "                                .replace('.',' ')\\\n",
    "                                .replace('<',' ')\\\n",
    "                                .replace('>',' ')\\\n",
    "                                .replace('=',' ')\\\n",
    "                                .replace('•',' ')\\\n",
    "                                .replace(\"\\\\\",' ')\\\n",
    "                                .replace('\\n', ' ')\\\n",
    "                                .replace('^',' ')\\\n",
    "                                .replace('\\\\',' ')\\\n",
    "                                .replace('?',' ')\\\n",
    "                                .replace('\\'',' ')\\\n",
    "                               )\n",
    "#emails_text = emails_text.apply(lambda x: x.replace('—',' '))\n"
   ]
  },
  {
   "cell_type": "code",
   "execution_count": 684,
   "metadata": {
    "collapsed": false
   },
   "outputs": [
    {
     "data": {
      "text/plain": [
       "pandas.core.series.Series"
      ]
     },
     "execution_count": 684,
     "metadata": {},
     "output_type": "execute_result"
    }
   ],
   "source": [
    "type(emails_text)\n",
    "#emails_text.iloc[0]\n",
    "#emails_text"
   ]
  },
  {
   "cell_type": "code",
   "execution_count": 685,
   "metadata": {
    "collapsed": false
   },
   "outputs": [],
   "source": [
    "#emails_text.head"
   ]
  },
  {
   "cell_type": "code",
   "execution_count": 686,
   "metadata": {
    "collapsed": false
   },
   "outputs": [],
   "source": [
    "documents = emails_text.tolist()\n",
    "#documents"
   ]
  },
  {
   "cell_type": "code",
   "execution_count": 687,
   "metadata": {
    "collapsed": false
   },
   "outputs": [
    {
     "data": {
      "text/plain": [
       "list"
      ]
     },
     "execution_count": 687,
     "metadata": {},
     "output_type": "execute_result"
    }
   ],
   "source": [
    "type(documents)\n",
    "#documents"
   ]
  },
  {
   "cell_type": "code",
   "execution_count": 688,
   "metadata": {
    "collapsed": false
   },
   "outputs": [
    {
     "data": {
      "text/plain": [
       "6742"
      ]
     },
     "execution_count": 688,
     "metadata": {},
     "output_type": "execute_result"
    }
   ],
   "source": [
    "len(documents)"
   ]
  },
  {
   "cell_type": "code",
   "execution_count": 689,
   "metadata": {
    "collapsed": false
   },
   "outputs": [
    {
     "name": "stdout",
     "output_type": "stream",
     "text": [
      "{'are', 'itself', '', \"she'll\", 'now', 'two', 10, 11, 'most', \"couldn't\", 'an', 'after', 'its', 'been', 'ours', 'yourself', 'done', 12, 13, 14, 15, 16, \"don't\", \"you're\", 'in', 20, 21, 22, 23, 24, 25, 26, 27, 28, 'would', 30, \"he'll\", 32, 33, 34, 35, 36, 37, 38, 39, 40, 'there', 'ok', 'thx', \"she's\", 45, 46, 47, 48, 49, 50, \"he's\", 'herself', \"they'd\", 'was', 55, 56, 57, \"you'd\", 59, 'docx', 61, 62, 63, 'both', 'could', 'no', 67, \"mustn't\", 69, 70, 71, 72, 73, 74, 'i', 'did', 'see', 'over', \"aren't\", \"shouldn't\", 'know', 17, 18, 84, 'doc', 'one', 19, 88, 89, 'ourselves', 91, 'such', 93, 94, 95, 96, \"haven't\", 98, 99, 'is', 'this', \"shan't\", \"we're\", \"he'd\", 'http', 'before', \"it's\", 'nor', 'our', 'very', 'theirs', 'pm', \"that's\", 'does', 'any', 'get', 29, \"can't\", 'doing', 'the', \"you've\", \"we'd\", 'and', \"hasn't\", 'hers', 'so', 31, \"why's\", 'good', 'have', 'off', 'them', 'having', 'again', 'also', \"i'd\", 'yours', 're', \"we'll\", 'how', 'cannot', 'during', \"you'll\", 'yourselves', 'new', 'other', \"wasn't\", 41, \"we've\", 42, 'that', 43, 'each', 'than', 'up', 'more', 'why', \"won't\", 'ought', 44, 'these', 'do', 'need', 'they', 'yes', \"who's\", 'she', 'while', 'mr', 'being', \"they've\", '00', 51, 'has', 'against', 52, 'own', 53, 54, 'some', 'pdf', \"what's\", 'under', 'whom', 'your', 'because', 'his', \"i'm\", 58, 'himself', 'on', 'mrs', \"let's\", 'had', 'their', 'with', 'as', 'just', 'will', 60, 'fyi', 'all', 'by', 'like', 64, 65, \"doesn't\", 'here', 66, 'above', 'we', 'me', 68, 'am', 'too', 'through', 'between', \"they'll\", 'her', 'same', 'into', 'below', 'can', 'of', 'should', \"where's\", 'call', 75, 'a', 76, 'go', 77, \"here's\", 'www', 78, 79, 'it', 'for', 80, 'if', 81, 82, 'not', 'few', \"weren't\", 'us', 83, \"wouldn't\", \"she'd\", 'those', 'out', \"didn't\", 85, 'to', 'myself', 86, 'him', \"i'll\", 87, \"hadn't\", \"there's\", 'r', \"they're\", 'until', 'he', 90, 'once', 'at', 'then', 'but', 92, 'where', 'further', 'themselves', \"isn't\", 'who', 'were', 'com', 'what', 'which', \"when's\", \"how's\", 'about', 'pls', 'when', 'my', 'down', 97, 'or', 'only', 'from', 'be', \"i've\", 'you'}\n"
     ]
    }
   ],
   "source": [
    "stoplist = set(STOPWORDS)\n",
    "stoplist.add('pls')\n",
    "stoplist.add('yes')\n",
    "stoplist.add('call')\n",
    "stoplist.add('pm')\n",
    "stoplist.add('no')\n",
    "stoplist.add('com')\n",
    "stoplist.add('doc')\n",
    "stoplist.add('docx')\n",
    "stoplist.add('pdf')\n",
    "stoplist.add('mr')\n",
    "stoplist.add('mrs')\n",
    "stoplist.add('call')\n",
    "stoplist.add('need')\n",
    "stoplist.add('one')\n",
    "stoplist.add('two')\n",
    "stoplist.add('fyi')\n",
    "stoplist.add('00')\n",
    "stoplist.add('will')\n",
    "stoplist.add('know')\n",
    "stoplist.add('re')\n",
    "stoplist.add('ok')\n",
    "stoplist.add('also')\n",
    "stoplist.add('see')\n",
    "stoplist.add('us')\n",
    "stoplist.add('good')\n",
    "stoplist.add('thx')\n",
    "stoplist.add('new')\n",
    "stoplist.add('go')\n",
    "stoplist.add('you')\n",
    "stoplist.add('now')\n",
    "stoplist.add('done')\n",
    "\n",
    "\n",
    "for i in range(10,100) :\n",
    "    stoplist.add(i)\n",
    "print(stoplist)"
   ]
  },
  {
   "cell_type": "code",
   "execution_count": 690,
   "metadata": {
    "collapsed": true
   },
   "outputs": [],
   "source": [
    "# remove list contains on stoplist and tokenize\n",
    "texts = [[word for word in document.lower().split() if word not in stoplist and len(word) > 1]\n",
    "         for document in documents]"
   ]
  },
  {
   "cell_type": "code",
   "execution_count": 691,
   "metadata": {
    "collapsed": false
   },
   "outputs": [
    {
     "data": {
      "text/plain": [
       "6742"
      ]
     },
     "execution_count": 691,
     "metadata": {},
     "output_type": "execute_result"
    }
   ],
   "source": [
    "len(texts)"
   ]
  },
  {
   "cell_type": "code",
   "execution_count": 692,
   "metadata": {
    "collapsed": true
   },
   "outputs": [],
   "source": [
    "# counts the number of appartion of a word\n",
    "from collections import defaultdict\n",
    "frequency = defaultdict(int)\n",
    "for text in texts:\n",
    "    for token in text:\n",
    "        frequency[token] += 1"
   ]
  },
  {
   "cell_type": "code",
   "execution_count": 693,
   "metadata": {
    "collapsed": false
   },
   "outputs": [
    {
     "data": {
      "text/plain": [
       "34509"
      ]
     },
     "execution_count": 693,
     "metadata": {},
     "output_type": "execute_result"
    }
   ],
   "source": [
    "len(frequency)"
   ]
  },
  {
   "cell_type": "code",
   "execution_count": 694,
   "metadata": {
    "collapsed": true
   },
   "outputs": [],
   "source": [
    "# remove word that apprears only once\n",
    "texts = [[token for token in text if frequency[token] > 1]\n",
    "      for text in texts]"
   ]
  },
  {
   "cell_type": "code",
   "execution_count": 695,
   "metadata": {
    "collapsed": false
   },
   "outputs": [
    {
     "data": {
      "text/plain": [
       "6742"
      ]
     },
     "execution_count": 695,
     "metadata": {},
     "output_type": "execute_result"
    }
   ],
   "source": [
    "len(texts)"
   ]
  },
  {
   "cell_type": "code",
   "execution_count": 696,
   "metadata": {
    "collapsed": false
   },
   "outputs": [],
   "source": [
    "#texts"
   ]
  },
  {
   "cell_type": "code",
   "execution_count": 697,
   "metadata": {
    "collapsed": true
   },
   "outputs": [],
   "source": [
    "dictionary = corpora.Dictionary(texts)\n",
    "dictionary.save(\"part3/deerwester-email.dict\")"
   ]
  },
  {
   "cell_type": "code",
   "execution_count": 698,
   "metadata": {
    "collapsed": false
   },
   "outputs": [
    {
     "name": "stdout",
     "output_type": "stream",
     "text": [
      "Dictionary(17670 unique tokens: ['145', 'pouch', 'capabilities', 'rooms', 'mirage']...)\n"
     ]
    }
   ],
   "source": [
    "print(dictionary)"
   ]
  },
  {
   "cell_type": "code",
   "execution_count": 699,
   "metadata": {
    "collapsed": true
   },
   "outputs": [],
   "source": [
    "corpus = [dictionary.doc2bow(text) for text in texts]"
   ]
  },
  {
   "cell_type": "code",
   "execution_count": 700,
   "metadata": {
    "collapsed": false
   },
   "outputs": [],
   "source": [
    "#print(corpus)"
   ]
  },
  {
   "cell_type": "code",
   "execution_count": 701,
   "metadata": {
    "collapsed": true
   },
   "outputs": [],
   "source": [
    "corpora.MmCorpus.serialize(\"part3/deerwester-email.mm\", corpus)"
   ]
  },
  {
   "cell_type": "code",
   "execution_count": 702,
   "metadata": {
    "collapsed": true
   },
   "outputs": [],
   "source": [
    "dictionary = corpora.Dictionary.load(\"part3/deerwester-email.dict\")\n"
   ]
  },
  {
   "cell_type": "code",
   "execution_count": 703,
   "metadata": {
    "collapsed": false
   },
   "outputs": [],
   "source": [
    "model = models.LdaModel(corpus, id2word=dictionary, num_topics=50)"
   ]
  },
  {
   "cell_type": "code",
   "execution_count": 704,
   "metadata": {
    "collapsed": false
   },
   "outputs": [
    {
     "data": {
      "text/plain": [
       "[(21,\n",
       "  '0.026*\"palestinian\" + 0.021*\"negotiating\" + 0.011*\"gaza\" + 0.011*\"arabs\" + 0.010*\"institution\" + 0.010*\"washington\" + 0.010*\"strobe\" + 0.009*\"walter\" + 0.008*\"brookings\" + 0.008*\"boy\"'),\n",
       " (41,\n",
       "  '0.006*\"people\" + 0.005*\"government\" + 0.005*\"state\" + 0.005*\"president\" + 0.004*\"military\" + 0.004*\"obama\" + 0.004*\"time\" + 0.004*\"think\" + 0.003*\"health\" + 0.003*\"security\"'),\n",
       " (28,\n",
       "  '0.013*\"labour\" + 0.010*\"david\" + 0.008*\"party\" + 0.007*\"ed\" + 0.007*\"obama\" + 0.006*\"policy\" + 0.006*\"iran\" + 0.006*\"parties\" + 0.005*\"president\" + 0.005*\"tax\"'),\n",
       " (37,\n",
       "  '0.018*\"marie\" + 0.016*\"anne\" + 0.014*\"books\" + 0.013*\"fco\" + 0.012*\"activists\" + 0.012*\"slaughter\" + 0.012*\"website\" + 0.012*\"calling\" + 0.009*\"weekend\" + 0.009*\"camera\"'),\n",
       " (34,\n",
       "  '0.008*\"israel\" + 0.007*\"state\" + 0.007*\"arab\" + 0.007*\"government\" + 0.006*\"port\" + 0.006*\"january\" + 0.005*\"military\" + 0.005*\"au\" + 0.005*\"united\" + 0.004*\"leaders\"')]"
      ]
     },
     "execution_count": 704,
     "metadata": {},
     "output_type": "execute_result"
    }
   ],
   "source": [
    "model.print_topics(5)"
   ]
  },
  {
   "cell_type": "code",
   "execution_count": 705,
   "metadata": {
    "collapsed": false
   },
   "outputs": [
    {
     "name": "stdout",
     "output_type": "stream",
     "text": [
      "LdaModel(num_terms=17670, num_topics=50, decay=0.5, chunksize=2000)\n"
     ]
    }
   ],
   "source": [
    "print(model)"
   ]
  },
  {
   "cell_type": "code",
   "execution_count": 706,
   "metadata": {
    "collapsed": false
   },
   "outputs": [],
   "source": [
    "#print(corpus)"
   ]
  },
  {
   "cell_type": "code",
   "execution_count": null,
   "metadata": {
    "collapsed": true
   },
   "outputs": [],
   "source": []
  },
  {
   "cell_type": "code",
   "execution_count": null,
   "metadata": {
    "collapsed": true
   },
   "outputs": [],
   "source": []
  },
  {
   "cell_type": "code",
   "execution_count": null,
   "metadata": {
    "collapsed": true
   },
   "outputs": [],
   "source": []
  },
  {
   "cell_type": "code",
   "execution_count": null,
   "metadata": {
    "collapsed": true
   },
   "outputs": [],
   "source": []
  },
  {
   "cell_type": "code",
   "execution_count": null,
   "metadata": {
    "collapsed": true
   },
   "outputs": [],
   "source": []
  },
  {
   "cell_type": "code",
   "execution_count": null,
   "metadata": {
    "collapsed": true
   },
   "outputs": [],
   "source": []
  },
  {
   "cell_type": "code",
   "execution_count": null,
   "metadata": {
    "collapsed": true
   },
   "outputs": [],
   "source": []
  },
  {
   "cell_type": "code",
   "execution_count": null,
   "metadata": {
    "collapsed": true
   },
   "outputs": [],
   "source": []
  },
  {
   "cell_type": "code",
   "execution_count": null,
   "metadata": {
    "collapsed": true
   },
   "outputs": [],
   "source": []
  },
  {
   "cell_type": "code",
   "execution_count": null,
   "metadata": {
    "collapsed": true
   },
   "outputs": [],
   "source": []
  },
  {
   "cell_type": "code",
   "execution_count": null,
   "metadata": {
    "collapsed": true
   },
   "outputs": [],
   "source": []
  },
  {
   "cell_type": "code",
   "execution_count": null,
   "metadata": {
    "collapsed": true
   },
   "outputs": [],
   "source": []
  },
  {
   "cell_type": "code",
   "execution_count": null,
   "metadata": {
    "collapsed": true
   },
   "outputs": [],
   "source": []
  },
  {
   "cell_type": "code",
   "execution_count": null,
   "metadata": {
    "collapsed": true
   },
   "outputs": [],
   "source": []
  },
  {
   "cell_type": "code",
   "execution_count": null,
   "metadata": {
    "collapsed": true
   },
   "outputs": [],
   "source": []
  },
  {
   "cell_type": "code",
   "execution_count": null,
   "metadata": {
    "collapsed": true
   },
   "outputs": [],
   "source": []
  },
  {
   "cell_type": "code",
   "execution_count": null,
   "metadata": {
    "collapsed": true
   },
   "outputs": [],
   "source": []
  },
  {
   "cell_type": "code",
   "execution_count": null,
   "metadata": {
    "collapsed": true
   },
   "outputs": [],
   "source": []
  },
  {
   "cell_type": "code",
   "execution_count": null,
   "metadata": {
    "collapsed": true
   },
   "outputs": [],
   "source": []
  },
  {
   "cell_type": "code",
   "execution_count": null,
   "metadata": {
    "collapsed": true
   },
   "outputs": [],
   "source": []
  },
  {
   "cell_type": "code",
   "execution_count": null,
   "metadata": {
    "collapsed": true
   },
   "outputs": [],
   "source": []
  },
  {
   "cell_type": "code",
   "execution_count": null,
   "metadata": {
    "collapsed": true
   },
   "outputs": [],
   "source": []
  },
  {
   "cell_type": "code",
   "execution_count": null,
   "metadata": {
    "collapsed": true
   },
   "outputs": [],
   "source": []
  },
  {
   "cell_type": "code",
   "execution_count": null,
   "metadata": {
    "collapsed": true
   },
   "outputs": [],
   "source": []
  },
  {
   "cell_type": "code",
   "execution_count": null,
   "metadata": {
    "collapsed": true
   },
   "outputs": [],
   "source": []
  },
  {
   "cell_type": "code",
   "execution_count": null,
   "metadata": {
    "collapsed": true
   },
   "outputs": [],
   "source": []
  },
  {
   "cell_type": "code",
   "execution_count": null,
   "metadata": {
    "collapsed": true
   },
   "outputs": [],
   "source": []
  },
  {
   "cell_type": "code",
   "execution_count": null,
   "metadata": {
    "collapsed": true
   },
   "outputs": [],
   "source": []
  },
  {
   "cell_type": "code",
   "execution_count": null,
   "metadata": {
    "collapsed": true
   },
   "outputs": [],
   "source": []
  },
  {
   "cell_type": "code",
   "execution_count": null,
   "metadata": {
    "collapsed": true
   },
   "outputs": [],
   "source": []
  },
  {
   "cell_type": "code",
   "execution_count": null,
   "metadata": {
    "collapsed": true
   },
   "outputs": [],
   "source": []
  },
  {
   "cell_type": "code",
   "execution_count": null,
   "metadata": {
    "collapsed": true
   },
   "outputs": [],
   "source": []
  },
  {
   "cell_type": "code",
   "execution_count": null,
   "metadata": {
    "collapsed": true
   },
   "outputs": [],
   "source": []
  }
 ],
 "metadata": {
  "anaconda-cloud": {},
  "kernelspec": {
   "display_name": "Python [Root]",
   "language": "python",
   "name": "Python [Root]"
  },
  "language_info": {
   "codemirror_mode": {
    "name": "ipython",
    "version": 3
   },
   "file_extension": ".py",
   "mimetype": "text/x-python",
   "name": "python",
   "nbconvert_exporter": "python",
   "pygments_lexer": "ipython3",
   "version": "3.5.2"
  },
  "nav_menu": {},
  "toc": {
   "navigate_menu": true,
   "number_sections": false,
   "sideBar": false,
   "threshold": "3",
   "toc_cell": true,
   "toc_section_display": "block",
   "toc_window_display": false
  }
 },
 "nbformat": 4,
 "nbformat_minor": 1
}
