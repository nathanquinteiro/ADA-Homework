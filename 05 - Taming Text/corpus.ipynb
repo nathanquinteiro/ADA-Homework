{
 "cells": [
  {
   "cell_type": "markdown",
   "metadata": {},
   "source": [
    "# Corpus\n",
    "\n",
    "This part of the work is based on two tutorial take from [here](https://radimrehurek.com/gensim/tut1.html) and [here](https://radimrehurek.com/gensim/tut2.html#available-transformations).\n",
    "\n"
   ]
  },
  {
   "cell_type": "code",
   "execution_count": 2,
   "metadata": {
    "collapsed": false
   },
   "outputs": [],
   "source": [
    "import pandas as pd                                     \n",
    "import numpy as np                                      \n",
    "import os \n",
    "\n",
    "import matplotlib.pyplot as plt\n",
    "\n",
    "from datetime import datetime\n",
    "\n",
    "%matplotlib inline\n",
    "import seaborn as sns                                   # For pretty plots\n",
    "import gensim\n",
    "\n",
    "from os import path\n",
    "from wordcloud import WordCloud\n",
    "from wordcloud import STOPWORDS\n",
    "from PIL import Image\n",
    "from gensim import corpora, models, similarities\n",
    "from collections import defaultdict"
   ]
  },
  {
   "cell_type": "code",
   "execution_count": null,
   "metadata": {
    "collapsed": true
   },
   "outputs": [],
   "source": []
  },
  {
   "cell_type": "markdown",
   "metadata": {},
   "source": [
    "### Clean data\n",
    "\n",
    "We decide tu use only 'extractedBodyText' form the email beacause this flield is susceptible to contain more information about topics."
   ]
  },
  {
   "cell_type": "code",
   "execution_count": 3,
   "metadata": {
    "collapsed": false
   },
   "outputs": [
    {
     "data": {
      "text/plain": [
       "7945"
      ]
     },
     "execution_count": 3,
     "metadata": {},
     "output_type": "execute_result"
    }
   ],
   "source": [
    "emails = pd.read_csv(\"hillary-clinton-emails/Emails.csv\")\n",
    "len(emails)"
   ]
  },
  {
   "cell_type": "markdown",
   "metadata": {},
   "source": [
    "We have 7945 emails but some of them doesn't have extractedBody, so we decide to drop them. Then we have 6742 emails left."
   ]
  },
  {
   "cell_type": "code",
   "execution_count": 4,
   "metadata": {
    "collapsed": false
   },
   "outputs": [
    {
     "data": {
      "text/plain": [
       "6742"
      ]
     },
     "execution_count": 4,
     "metadata": {},
     "output_type": "execute_result"
    }
   ],
   "source": [
    "emails_text = emails['ExtractedBodyText'].dropna()\n",
    "len(emails_text)"
   ]
  },
  {
   "cell_type": "markdown",
   "metadata": {},
   "source": [
    "For cleaning emails we first transfom all characters into lowercase and we transform all word u.s.a on usa and all u.s on us. After that we can remplace juste all punctuation signs by an espace. "
   ]
  },
  {
   "cell_type": "code",
   "execution_count": 5,
   "metadata": {
    "collapsed": false
   },
   "outputs": [],
   "source": [
    "emails_text = emails_text.apply(lambda x: x.lower())\n",
    "emails_text = emails_text.apply(lambda x: x\\\n",
    "                                .replace('u.s.a','usa')\\\n",
    "                                .replace('u.s','us'))\n",
    "emails_text = emails_text.apply(lambda x: x\\\n",
    "                                .replace(':',' ')\\\n",
    "                                .replace('—',' ')\\\n",
    "                                .replace('-',' ')\\\n",
    "                                .replace('.',' ')\\\n",
    "                                .replace(',',' ')\\\n",
    "                                .replace('.',' ')\\\n",
    "                                .replace('<',' ')\\\n",
    "                                .replace('>',' ')\\\n",
    "                                .replace('=',' ')\\\n",
    "                                .replace('•',' ')\\\n",
    "                                .replace(\"\\\\\",' ')\\\n",
    "                                .replace('\\n', ' ')\\\n",
    "                                .replace('^',' ')\\\n",
    "                                .replace('\\\\',' ')\\\n",
    "                                .replace('?',' ')\\\n",
    "                                .replace('\\'',' ')\\\n",
    "                               )\n",
    "#emails_text = emails_text.apply(lambda x: x.replace('—',' '))\n"
   ]
  },
  {
   "cell_type": "markdown",
   "metadata": {},
   "source": [
    "Because your emails_text is of type *pandas.core.series.Series* we want to convert it into list :"
   ]
  },
  {
   "cell_type": "code",
   "execution_count": 6,
   "metadata": {
    "collapsed": false
   },
   "outputs": [
    {
     "data": {
      "text/plain": [
       "list"
      ]
     },
     "execution_count": 6,
     "metadata": {},
     "output_type": "execute_result"
    }
   ],
   "source": [
    "documents = emails_text.tolist()\n",
    "type(documents)"
   ]
  },
  {
   "cell_type": "markdown",
   "metadata": {},
   "source": [
    "We check that we still have 6742 emails"
   ]
  },
  {
   "cell_type": "code",
   "execution_count": 7,
   "metadata": {
    "collapsed": false
   },
   "outputs": [
    {
     "data": {
      "text/plain": [
       "6742"
      ]
     },
     "execution_count": 7,
     "metadata": {},
     "output_type": "execute_result"
    }
   ],
   "source": [
    "len(documents)"
   ]
  },
  {
   "cell_type": "markdown",
   "metadata": {},
   "source": [
    "The next step is to remove all common words. For that we create a basic stoplist from a STOPWORDS list. By iteration we have added some common words that appeared in the results. "
   ]
  },
  {
   "cell_type": "code",
   "execution_count": 8,
   "metadata": {
    "collapsed": false
   },
   "outputs": [],
   "source": [
    "stoplist = set(STOPWORDS)\n",
    "stoplist.add('pls')\n",
    "stoplist.add('yes')\n",
    "stoplist.add('call')\n",
    "stoplist.add('pm')\n",
    "stoplist.add('no')\n",
    "stoplist.add('com')\n",
    "stoplist.add('doc')\n",
    "stoplist.add('docx')\n",
    "stoplist.add('pdf')\n",
    "stoplist.add('mr')\n",
    "stoplist.add('mrs')\n",
    "stoplist.add('call')\n",
    "stoplist.add('need')\n",
    "stoplist.add('one')\n",
    "stoplist.add('two')\n",
    "stoplist.add('fyi')\n",
    "stoplist.add('00')\n",
    "stoplist.add('will')\n",
    "stoplist.add('know')\n",
    "stoplist.add('re')\n",
    "stoplist.add('ok')\n",
    "stoplist.add('also')\n",
    "stoplist.add('see')\n",
    "stoplist.add('us')\n",
    "stoplist.add('good')\n",
    "stoplist.add('thx')\n",
    "stoplist.add('new')\n",
    "stoplist.add('go')\n",
    "stoplist.add('you')\n",
    "stoplist.add('now')\n",
    "stoplist.add('done')\n",
    "stoplist.add('yet')\n",
    "stoplist.add('wrote')\n",
    "stoplist.add('etc')\n",
    "stoplist.add('back')\n",
    "stoplist.add('today')\n",
    "stoplist.add('said')\n",
    "stoplist.add('many')\n",
    "stoplist.add('already')\n",
    "stoplist.add('want')\n",
    "\n",
    "\n",
    "for i in range(10,100) :\n",
    "    stoplist.add(i)\n"
   ]
  },
  {
   "cell_type": "markdown",
   "metadata": {},
   "source": [
    "\n",
    "Now we uste the stoplist to create a list of word that are not in stoplist and that are bigger than 1 (this is inspired by the code of [tutorial of radimrehurek website](https://radimrehurek.com/gensim/tut1.html)"
   ]
  },
  {
   "cell_type": "code",
   "execution_count": 9,
   "metadata": {
    "collapsed": true
   },
   "outputs": [],
   "source": [
    "# remove list contains on stoplist and tokenize\n",
    "texts = [[word for word in document.lower().split() if word not in stoplist and len(word) > 1]\n",
    "         for document in documents]"
   ]
  },
  {
   "cell_type": "markdown",
   "metadata": {},
   "source": [
    "For each word referenced we count how many time its appear (again code inspired of [tutorial of radimrehurek website](https://radimrehurek.com/gensim/tut1.html))"
   ]
  },
  {
   "cell_type": "code",
   "execution_count": 10,
   "metadata": {
    "collapsed": true
   },
   "outputs": [],
   "source": [
    "# counts the number of appartion of a word\n",
    "frequency = defaultdict(int)\n",
    "for text in texts:\n",
    "    for token in text:\n",
    "        frequency[token] += 1\n",
    "        \n",
    "# remove word that apprears only once\n",
    "texts = [[token for token in text if frequency[token] > 1]\n",
    "      for text in texts]        "
   ]
  },
  {
   "cell_type": "markdown",
   "metadata": {},
   "source": [
    "We use now a dictionary to map the word with integer ids "
   ]
  },
  {
   "cell_type": "code",
   "execution_count": 11,
   "metadata": {
    "collapsed": true
   },
   "outputs": [],
   "source": [
    "dictionary = corpora.Dictionary(texts)"
   ]
  },
  {
   "cell_type": "code",
   "execution_count": 12,
   "metadata": {
    "collapsed": false
   },
   "outputs": [
    {
     "name": "stdout",
     "output_type": "stream",
     "text": [
      "Dictionary(17660 unique tokens: ['accident', 'shrewdly', '&c4', 'birch', 'remarks']...)\n"
     ]
    }
   ],
   "source": [
    "print(dictionary)"
   ]
  },
  {
   "cell_type": "markdown",
   "metadata": {},
   "source": [
    "### Create Vector list\n",
    "\n",
    "Now that we have a dictionary that contains uniques word, we can create your vector. The vector contains how many times each word appears in each documents (in your case one document is one email)"
   ]
  },
  {
   "cell_type": "code",
   "execution_count": 13,
   "metadata": {
    "collapsed": true
   },
   "outputs": [],
   "source": [
    "corpus = [dictionary.doc2bow(text) for text in texts]"
   ]
  },
  {
   "cell_type": "markdown",
   "metadata": {},
   "source": [
    "### Apply transformation\n",
    "We can now apply your Latent Dirichlet Allocation transformation. "
   ]
  },
  {
   "cell_type": "markdown",
   "metadata": {},
   "source": [
    "#### 5 topics"
   ]
  },
  {
   "cell_type": "code",
   "execution_count": 14,
   "metadata": {
    "collapsed": true
   },
   "outputs": [],
   "source": [
    "model_5 = models.LdaModel(corpus, id2word=dictionary, num_topics=5)\n"
   ]
  },
  {
   "cell_type": "code",
   "execution_count": 15,
   "metadata": {
    "collapsed": false
   },
   "outputs": [
    {
     "data": {
      "text/plain": [
       "[(0,\n",
       "  '0.007*\"2010\" + 0.005*\"gov\" + 0.005*\"party\" + 0.004*\"tomorrow\" + 0.004*\"think\" + 0.004*\"4(d)\" + 0.003*\"time\" + 0.003*\"let\" + 0.003*\"b1\" + 0.003*\"cheryl\"'),\n",
       " (1,\n",
       "  '0.009*\"2010\" + 0.008*\"gov\" + 0.006*\"b6\" + 0.006*\"hrod17@clintonemail\" + 0.003*\"december\" + 0.003*\"2009\" + 0.003*\"saturday\" + 0.003*\"state\" + 0.003*\"may\" + 0.003*\"10\"'),\n",
       " (2,\n",
       "  '0.004*\"president\" + 0.004*\"obama\" + 0.003*\"people\" + 0.003*\"time\" + 0.003*\"women\" + 0.003*\"security\" + 0.003*\"policy\" + 0.003*\"state\" + 0.003*\"work\" + 0.003*\"american\"'),\n",
       " (3,\n",
       "  '0.026*\"secretary\" + 0.023*\"office\" + 0.019*\"30\" + 0.018*\"state\" + 0.014*\"meeting\" + 0.013*\"10\" + 0.013*\"15\" + 0.013*\"room\" + 0.012*\"department\" + 0.008*\"45\"'),\n",
       " (4,\n",
       "  '0.006*\"obama\" + 0.004*\"2010\" + 0.004*\"israel\" + 0.004*\"president\" + 0.004*\"american\" + 0.003*\"state\" + 0.003*\"government\" + 0.003*\"people\" + 0.003*\"republican\" + 0.003*\"print\"')]"
      ]
     },
     "execution_count": 15,
     "metadata": {},
     "output_type": "execute_result"
    }
   ],
   "source": [
    "model_5.print_topics(5)"
   ]
  },
  {
   "cell_type": "code",
   "execution_count": null,
   "metadata": {
    "collapsed": true
   },
   "outputs": [],
   "source": []
  },
  {
   "cell_type": "markdown",
   "metadata": {
    "collapsed": true
   },
   "source": [
    "#### 20 topics"
   ]
  },
  {
   "cell_type": "code",
   "execution_count": 16,
   "metadata": {
    "collapsed": true
   },
   "outputs": [],
   "source": [
    "model_20 = models.LdaModel(corpus, id2word=dictionary, num_topics=20)"
   ]
  },
  {
   "cell_type": "code",
   "execution_count": 17,
   "metadata": {
    "collapsed": false
   },
   "outputs": [
    {
     "data": {
      "text/plain": [
       "[(0,\n",
       "  '0.009*\"israel\" + 0.007*\"israeli\" + 0.005*\"talks\" + 0.005*\"afghan\" + 0.004*\"agree\" + 0.004*\"jewish\" + 0.004*\"russia\" + 0.004*\"karl\" + 0.004*\"settlements\" + 0.003*\"settlement\"'),\n",
       " (1,\n",
       "  '0.044*\"2010\" + 0.035*\"gov\" + 0.016*\"hrod17@clintonemail\" + 0.014*\"fw\" + 0.011*\"cheryl\" + 0.011*\"b6\" + 0.010*\"sunday\" + 0.010*\"monday\" + 0.009*\"sullivan\" + 0.009*\"mills\"'),\n",
       " (2,\n",
       "  '0.010*\"germany\" + 0.008*\"woodward\" + 0.008*\"ireland\" + 0.007*\"sure\" + 0.007*\"happy\" + 0.006*\"bibi\" + 0.006*\"time\" + 0.005*\"church\" + 0.005*\"book\" + 0.004*\"much\"'),\n",
       " (3,\n",
       "  '0.023*\"state\" + 0.014*\"department\" + 0.009*\"house\" + 0.007*\"verveer\" + 0.007*\"secretary\" + 0.006*\"fco\" + 0.006*\"arsenal\" + 0.005*\"case\" + 0.005*\"gotten\" + 0.004*\"panel\"'),\n",
       " (4,\n",
       "  '0.015*\"part\" + 0.015*\"b6\" + 0.011*\"release\" + 0.008*\"4(b)\" + 0.007*\"palestinians\" + 0.007*\"b5\" + 0.006*\"state\" + 0.004*\"settlements\" + 0.004*\"b1\" + 0.004*\"negotiating\"'),\n",
       " (5,\n",
       "  '0.023*\"party\" + 0.012*\"labour\" + 0.008*\"david\" + 0.007*\"election\" + 0.006*\"vote\" + 0.006*\"bloomberg\" + 0.006*\"tax\" + 0.005*\"mayor\" + 0.005*\"gordon\" + 0.004*\"parties\"'),\n",
       " (6,\n",
       "  '0.015*\"work\" + 0.012*\"richards\" + 0.009*\"women\" + 0.006*\"working\" + 0.006*\"state\" + 0.005*\"next\" + 0.005*\"make\" + 0.004*\"time\" + 0.004*\"tomorrow\" + 0.004*\"night\"'),\n",
       " (7,\n",
       "  '0.009*\"office\" + 0.008*\"647\" + 0.007*\"state\" + 0.007*\"please\" + 0.007*\"tomorrow\" + 0.007*\"huma\" + 0.006*\"email\" + 0.006*\"10\" + 0.006*\"lona\" + 0.005*\"(202)\"'),\n",
       " (8,\n",
       "  '0.009*\"israel\" + 0.006*\"sbwhoeop\" + 0.005*\"israeli\" + 0.005*\"cameron\" + 0.004*\"state\" + 0.003*\"2010\" + 0.003*\"peace\" + 0.003*\"obama\" + 0.003*\"eu\" + 0.003*\"president\"'),\n",
       " (9,\n",
       "  '0.008*\"time\" + 0.005*\"president\" + 0.005*\"people\" + 0.005*\"obama\" + 0.005*\"state\" + 0.004*\"secretary\" + 0.004*\"treaty\" + 0.004*\"national\" + 0.004*\"netanyahu\" + 0.004*\"public\"'),\n",
       " (10,\n",
       "  '0.013*\"bill\" + 0.008*\"boehner\" + 0.008*\"house\" + 0.006*\"president\" + 0.006*\"senate\" + 0.005*\"republican\" + 0.004*\"democrats\" + 0.004*\"reid\" + 0.004*\"red\" + 0.004*\"republicans\"'),\n",
       " (11,\n",
       "  '0.006*\"obama\" + 0.005*\"speech\" + 0.005*\"policy\" + 0.005*\"right\" + 0.004*\"kurdistan\" + 0.004*\"thought\" + 0.004*\"security\" + 0.003*\"women\" + 0.003*\"don\" + 0.003*\"people\"'),\n",
       " (12,\n",
       "  '0.005*\"american\" + 0.005*\"government\" + 0.005*\"people\" + 0.004*\"obama\" + 0.004*\"afghanistan\" + 0.004*\"president\" + 0.004*\"iraq\" + 0.004*\"un\" + 0.004*\"military\" + 0.004*\"state\"'),\n",
       " (13,\n",
       "  '0.007*\"clips\" + 0.006*\"hikers\" + 0.005*\"kurdish\" + 0.005*\"03\" + 0.004*\"revolutionary\" + 0.003*\"american\" + 0.003*\"obama\" + 0.003*\"president\" + 0.003*\"right\" + 0.003*\"bauer\"'),\n",
       " (14,\n",
       "  '0.020*\"4(d)\" + 0.020*\"b1\" + 0.008*\"sullivan\" + 0.008*\"2010\" + 0.008*\"ops\" + 0.007*\"logistics\" + 0.007*\"sent\" + 0.007*\"gov\" + 0.007*\"tomorrow\" + 0.007*\"letter\"'),\n",
       " (15,\n",
       "  '0.039*\"secretary\" + 0.036*\"office\" + 0.032*\"30\" + 0.022*\"10\" + 0.022*\"15\" + 0.021*\"meeting\" + 0.021*\"room\" + 0.015*\"45\" + 0.015*\"state\" + 0.014*\"arrive\"'),\n",
       " (16,\n",
       "  '0.010*\"nuclear\" + 0.005*\"first\" + 0.004*\"deal\" + 0.004*\"world\" + 0.003*\"china\" + 0.003*\"even\" + 0.003*\"miliband\" + 0.003*\"political\" + 0.003*\"though\" + 0.003*\"times\"'),\n",
       " (17,\n",
       "  '0.020*\"print\" + 0.014*\"pis\" + 0.014*\"doc;\" + 0.011*\"add\" + 0.011*\"talk\" + 0.009*\"discuss\" + 0.008*\"list\" + 0.007*\"let\" + 0.005*\"think\" + 0.005*\"thanks\"'),\n",
       " (18,\n",
       "  '0.011*\"obama\" + 0.009*\"health\" + 0.008*\"company\" + 0.007*\"percent\" + 0.007*\"women\" + 0.006*\"senate\" + 0.006*\"care\" + 0.006*\"republicans\" + 0.005*\"republican\" + 0.004*\"2010\"'),\n",
       " (19,\n",
       "  '0.022*\"qddr\" + 0.010*\"email\" + 0.008*\"tell\" + 0.007*\"ask\" + 0.006*\"brother\" + 0.005*\"accords\" + 0.005*\"worried\" + 0.005*\"san\" + 0.005*\"plane\" + 0.005*\"ill\"')]"
      ]
     },
     "execution_count": 17,
     "metadata": {},
     "output_type": "execute_result"
    }
   ],
   "source": [
    "model_20.print_topics(20)"
   ]
  },
  {
   "cell_type": "code",
   "execution_count": null,
   "metadata": {
    "collapsed": true
   },
   "outputs": [],
   "source": []
  },
  {
   "cell_type": "markdown",
   "metadata": {
    "collapsed": true
   },
   "source": [
    "#### 35 topics"
   ]
  },
  {
   "cell_type": "code",
   "execution_count": 18,
   "metadata": {
    "collapsed": true
   },
   "outputs": [],
   "source": [
    "model_35 = models.LdaModel(corpus, id2word=dictionary, num_topics=35)"
   ]
  },
  {
   "cell_type": "code",
   "execution_count": 19,
   "metadata": {
    "collapsed": false
   },
   "outputs": [
    {
     "data": {
      "text/plain": [
       "[(0,\n",
       "  '0.019*\"state\" + 0.010*\"funded\" + 0.010*\"changed\" + 0.009*\"department\" + 0.009*\"holiday\" + 0.009*\"getting\" + 0.008*\"panel\" + 0.008*\"date\" + 0.006*\"house\" + 0.006*\"(new\"'),\n",
       " (1,\n",
       "  '0.014*\"kurdistan\" + 0.012*\"senate\" + 0.009*\"treaty\" + 0.009*\"office\" + 0.008*\"10\" + 0.008*\"state\" + 0.007*\"15\" + 0.007*\"white\" + 0.007*\"room\" + 0.007*\"12\"'),\n",
       " (2,\n",
       "  '0.014*\"work\" + 0.012*\"give\" + 0.012*\"time\" + 0.012*\"make\" + 0.011*\"red\" + 0.011*\"talks\" + 0.008*\"cdm\" + 0.008*\"take\" + 0.008*\"next\" + 0.008*\"email\"'),\n",
       " (3,\n",
       "  '0.023*\"office\" + 0.013*\"secretary\" + 0.011*\"30\" + 0.011*\"647\" + 0.010*\"dinner\" + 0.009*\"fm\" + 0.009*\"state\" + 0.009*\"house\" + 0.009*\"department\" + 0.008*\"nw\"'),\n",
       " (4,\n",
       "  '0.063*\"b6\" + 0.039*\"part\" + 0.035*\"release\" + 0.025*\"b5\" + 0.016*\"discuss\" + 0.014*\"high\" + 0.011*\"importance\" + 0.011*\"mod\" + 0.009*\"message\" + 0.009*\"liked\"'),\n",
       " (5,\n",
       "  '0.006*\"company\" + 0.005*\"last\" + 0.005*\"party\" + 0.004*\"even\" + 0.004*\"sid\" + 0.004*\"might\" + 0.004*\"time\" + 0.004*\"didn\" + 0.004*\"long\" + 0.004*\"weekend\"'),\n",
       " (6,\n",
       "  '0.058*\"2010\" + 0.054*\"gov\" + 0.021*\"hrod17@clintonemail\" + 0.019*\"fw\" + 0.017*\"cheryl\" + 0.014*\"mills\" + 0.013*\"monday\" + 0.012*\"huma\" + 0.011*\"tuesday\" + 0.010*\"sunday\"'),\n",
       " (7,\n",
       "  '0.011*\"tea\" + 0.006*\"party\" + 0.005*\"catholic\" + 0.005*\"activists\" + 0.004*\"claims\" + 0.004*\"american\" + 0.003*\"claim\" + 0.003*\"iran\" + 0.003*\"political\" + 0.003*\"given\"'),\n",
       " (8,\n",
       "  '0.006*\"clips\" + 0.004*\"obama\" + 0.004*\"right\" + 0.004*\"clinton\" + 0.004*\"china\" + 0.004*\"health\" + 0.004*\"2010\" + 0.004*\"diplomacy\" + 0.004*\"bush\" + 0.004*\"way\"'),\n",
       " (9,\n",
       "  '0.010*\"thanks\" + 0.008*\"kabul\" + 0.008*\"prepare\" + 0.007*\"best\" + 0.006*\"work\" + 0.006*\"much\" + 0.006*\"next\" + 0.006*\"thank\" + 0.005*\"ahead\" + 0.005*\"ill\"'),\n",
       " (10,\n",
       "  '0.026*\"prince\" + 0.020*\"647\" + 0.019*\"202\" + 0.016*\"agree\" + 0.015*\"email\" + 0.013*\"following\" + 0.010*\"thank\" + 0.009*\"travel\" + 0.009*\"office\" + 0.008*\"assistance\"'),\n",
       " (11,\n",
       "  '0.035*\"richards\" + 0.016*\"negotiating\" + 0.007*\"onto\" + 0.006*\"greek\" + 0.006*\"older\" + 0.006*\"book\" + 0.006*\"original\" + 0.005*\"chamber\" + 0.005*\"questions\" + 0.005*\"30am\"'),\n",
       " (12,\n",
       "  '0.006*\"10\" + 0.006*\"2009)\" + 0.006*\"prefer\" + 0.006*\"marie\" + 0.006*\"anne\" + 0.005*\"later\" + 0.005*\"touch\" + 0.005*\"office\" + 0.005*\"may\" + 0.005*\"11\"'),\n",
       " (13,\n",
       "  '0.037*\"taliban\" + 0.014*\"03\" + 0.010*\"2010\" + 0.009*\"final\" + 0.008*\"safe\" + 0.007*\"talked\" + 0.006*\"strategic\" + 0.006*\"travels\" + 0.006*\"outreach\" + 0.006*\"(e\"'),\n",
       " (14,\n",
       "  '0.052*\"4(d)\" + 0.044*\"b1\" + 0.034*\"4(b)\" + 0.020*\"sent\" + 0.014*\"declassify\" + 0.011*\"blackberry\" + 0.010*\"via\" + 0.009*\"reason\" + 0.006*\"mail\" + 0.006*\"don\"'),\n",
       " (15,\n",
       "  '0.014*\"pentagon\" + 0.009*\"ellen\" + 0.009*\"mcconnell\" + 0.008*\"assume\" + 0.006*\"snowe\" + 0.006*\"cables\" + 0.005*\"pressure\" + 0.005*\"notes\" + 0.005*\"trying\" + 0.005*\"president\"'),\n",
       " (16,\n",
       "  '0.012*\"labour\" + 0.011*\"party\" + 0.010*\"russia\" + 0.008*\"david\" + 0.007*\"ed\" + 0.006*\"germany\" + 0.006*\"nuclear\" + 0.005*\"left\" + 0.005*\"romney\" + 0.005*\"miliband\"'),\n",
       " (17,\n",
       "  '0.019*\"women\" + 0.007*\"north\" + 0.006*\"border\" + 0.006*\"work\" + 0.005*\"gender\" + 0.005*\"korea\" + 0.005*\"media\" + 0.005*\"american\" + 0.005*\"korean\" + 0.004*\"state\"'),\n",
       " (18,\n",
       "  '0.011*\"books\" + 0.010*\"company\" + 0.009*\"roger\" + 0.008*\"kissinger\" + 0.008*\"nixon\" + 0.008*\"gore\" + 0.008*\"dan\" + 0.007*\"changes\" + 0.007*\"ve\" + 0.007*\"sorry\"'),\n",
       " (19,\n",
       "  '0.034*\"print\" + 0.021*\"woodward\" + 0.017*\"ireland\" + 0.015*\"blair\" + 0.009*\"conspiracy\" + 0.009*\"emailed\" + 0.008*\"explain\" + 0.008*\"robinson\" + 0.007*\"bob\" + 0.007*\"theory\"'),\n",
       " (20,\n",
       "  '0.024*\"doc;\" + 0.020*\"dialogue\" + 0.017*\"press\" + 0.015*\"strategic\" + 0.006*\"pih\" + 0.006*\"test\" + 0.006*\"clinton\" + 0.006*\"policy\" + 0.005*\"media\" + 0.004*\"quoted\"'),\n",
       " (21,\n",
       "  '0.022*\"bill\" + 0.015*\"talk\" + 0.012*\"hikers\" + 0.011*\"boehner\" + 0.008*\"holbrooke\" + 0.007*\"reid\" + 0.007*\"tomorrow\" + 0.006*\"senate\" + 0.006*\"next\" + 0.005*\"sent\"'),\n",
       " (22,\n",
       "  '0.051*\"secretary\" + 0.047*\"office\" + 0.040*\"30\" + 0.028*\"meeting\" + 0.026*\"15\" + 0.026*\"room\" + 0.024*\"10\" + 0.018*\"state\" + 0.018*\"arrive\" + 0.017*\"department\"'),\n",
       " (23,\n",
       "  '0.023*\"pis\" + 0.017*\"ll\" + 0.013*\"tomorrow\" + 0.013*\"print\" + 0.013*\"sullivan\" + 0.010*\"talk\" + 0.010*\"jake\" + 0.010*\"mins\" + 0.009*\"fm\" + 0.008*\"ready\"'),\n",
       " (24,\n",
       "  '0.007*\"state\" + 0.006*\"people\" + 0.006*\"government\" + 0.005*\"united\" + 0.004*\"states\" + 0.004*\"world\" + 0.004*\"diplomats\" + 0.004*\"department\" + 0.004*\"support\" + 0.004*\"diplomacy\"'),\n",
       " (25,\n",
       "  '0.007*\"un\" + 0.007*\"haitian\" + 0.005*\"military\" + 0.005*\"government\" + 0.005*\"security\" + 0.005*\"states\" + 0.005*\"iraq\" + 0.005*\"united\" + 0.004*\"international\" + 0.004*\"au\"'),\n",
       " (26,\n",
       "  '0.016*\"obama\" + 0.014*\"israel\" + 0.010*\"israeli\" + 0.008*\"settlements\" + 0.007*\"president\" + 0.005*\"american\" + 0.005*\"white\" + 0.004*\"party\" + 0.004*\"think\" + 0.004*\"settlement\"'),\n",
       " (27,\n",
       "  '0.006*\"obama\" + 0.006*\"house\" + 0.005*\"president\" + 0.005*\"beck\" + 0.004*\"republican\" + 0.004*\"people\" + 0.004*\"national\" + 0.004*\"american\" + 0.004*\"political\" + 0.004*\"democrats\"'),\n",
       " (28,\n",
       "  '0.012*\"afghan\" + 0.010*\"netanyahu\" + 0.010*\"un\" + 0.008*\"mcchrystal\" + 0.008*\"war\" + 0.006*\"afghanistan\" + 0.005*\"nuclear\" + 0.005*\"obama\" + 0.005*\"currently\" + 0.004*\"military\"'),\n",
       " (29,\n",
       "  '0.014*\"draft\" + 0.014*\"email\" + 0.011*\"arizona\" + 0.011*\"arsenal\" + 0.010*\"copies\" + 0.009*\"tomorrow\" + 0.008*\"clean\" + 0.008*\"tonight\" + 0.007*\"working\" + 0.007*\"read\"'),\n",
       " (30,\n",
       "  '0.015*\"state\" + 0.010*\"clinton\" + 0.008*\"secretary\" + 0.006*\"policy\" + 0.005*\"assistant\" + 0.005*\"special\" + 0.004*\"president\" + 0.004*\"(202)\" + 0.004*\"valmoro\" + 0.004*\"verveer\"'),\n",
       " (31,\n",
       "  '0.018*\"karzai\" + 0.011*\"voices\" + 0.008*\"president\" + 0.007*\"afghan\" + 0.007*\"massachusetts\" + 0.007*\"quotes\" + 0.006*\"soviet\" + 0.006*\"(in\" + 0.006*\"kabul\" + 0.005*\"pj\"'),\n",
       " (32,\n",
       "  '0.020*\"bloomberg\" + 0.014*\"saw\" + 0.014*\"coming\" + 0.013*\"hear\" + 0.013*\"mayor\" + 0.012*\"think\" + 0.011*\"great\" + 0.010*\"secure\" + 0.008*\"ll\" + 0.008*\"ops\"'),\n",
       " (33,\n",
       "  '0.021*\"percent\" + 0.010*\"favorable\" + 0.010*\"2010\" + 0.009*\"unfavorable\" + 0.008*\"voters\" + 0.007*\"opinion\" + 0.007*\"enough\" + 0.006*\"34\" + 0.006*\"15\" + 0.006*\"van\"'),\n",
       " (34,\n",
       "  '0.017*\"qddr\" + 0.011*\"hrc\" + 0.010*\"2010\" + 0.006*\"pis\" + 0.006*\"print\" + 0.006*\"start\" + 0.006*\"hillary\" + 0.005*\"time\" + 0.005*\"told\" + 0.005*\"gotten\"')]"
      ]
     },
     "execution_count": 19,
     "metadata": {},
     "output_type": "execute_result"
    }
   ],
   "source": [
    "model_35.print_topics(35)"
   ]
  },
  {
   "cell_type": "code",
   "execution_count": null,
   "metadata": {
    "collapsed": true
   },
   "outputs": [],
   "source": []
  },
  {
   "cell_type": "markdown",
   "metadata": {
    "collapsed": true
   },
   "source": [
    "#### 50 topics"
   ]
  },
  {
   "cell_type": "code",
   "execution_count": 20,
   "metadata": {
    "collapsed": true
   },
   "outputs": [],
   "source": [
    "model_50 = models.LdaModel(corpus, id2word=dictionary, num_topics=50)"
   ]
  },
  {
   "cell_type": "code",
   "execution_count": 21,
   "metadata": {
    "collapsed": false
   },
   "outputs": [
    {
     "data": {
      "text/plain": [
       "[(0,\n",
       "  '0.015*\"cameron\" + 0.013*\"week\" + 0.011*\"next\" + 0.009*\"mins\" + 0.008*\"tomorrow\" + 0.008*\"last\" + 0.008*\"passing\" + 0.007*\"move\" + 0.007*\"roger\" + 0.007*\"talk\"'),\n",
       " (1,\n",
       "  '0.030*\"2010\" + 0.019*\"kurdistan\" + 0.018*\"settlements\" + 0.016*\"copy\" + 0.014*\"settlement\" + 0.011*\"ireland\" + 0.010*\"return\" + 0.009*\"10\" + 0.009*\"sudan\" + 0.009*\"soon\"'),\n",
       " (2,\n",
       "  '0.035*\"clips\" + 0.012*\"2010\" + 0.012*\"industry\" + 0.010*\"sunday\" + 0.010*\"quartet\" + 0.009*\"stories\" + 0.009*\"arturo\" + 0.009*\"observations\" + 0.008*\"enterprise\" + 0.008*\"deal\"'),\n",
       " (3,\n",
       "  '0.013*\"talks\" + 0.013*\"afghan\" + 0.009*\"un\" + 0.008*\"kabul\" + 0.008*\"tomorrow\" + 0.007*\"sunday\" + 0.007*\"2009\" + 0.007*\"december\" + 0.007*\"karzai\" + 0.006*\"bob\"'),\n",
       " (4,\n",
       "  '0.058*\"israeli\" + 0.032*\"palestinian\" + 0.013*\"jewish\" + 0.013*\"funded\" + 0.010*\"film\" + 0.009*\"funds\" + 0.008*\"abu\" + 0.008*\"netanyahu\" + 0.007*\"occupation\" + 0.007*\"state\"'),\n",
       " (5,\n",
       "  '0.030*\"note\" + 0.020*\"verveerms@state\" + 0.017*\"framework\" + 0.014*\"confirm\" + 0.014*\"melanne\" + 0.010*\"russia\" + 0.009*\"discuss\" + 0.009*\"article\" + 0.009*\"talks\" + 0.008*\"idea\"'),\n",
       " (6,\n",
       "  '0.014*\"argentina\" + 0.014*\"liked\" + 0.013*\"w/\" + 0.010*\"15\" + 0.010*\"census\" + 0.009*\"secretary\" + 0.008*\"documents\" + 0.008*\"kris\" + 0.008*\"brimmer\" + 0.008*\"corporations\"'),\n",
       " (7,\n",
       "  '0.018*\"federal\" + 0.013*\"state\" + 0.010*\"pentagon\" + 0.009*\"house\" + 0.008*\"office\" + 0.008*\"capacity\" + 0.008*\"secretary\" + 0.006*\"cr\" + 0.006*\"department\" + 0.006*\"agreements\"'),\n",
       " (8,\n",
       "  '0.010*\"carefully\" + 0.010*\"pre\" + 0.010*\"white\" + 0.008*\"unknown\" + 0.008*\"governor\" + 0.008*\"editing\" + 0.008*\"dennis\" + 0.008*\"producers\" + 0.007*\"notice\" + 0.006*\"9pm\"'),\n",
       " (9,\n",
       "  '0.031*\"party\" + 0.016*\"percent\" + 0.009*\"2010\" + 0.008*\"voters\" + 0.008*\"labour\" + 0.008*\"poll\" + 0.006*\"democrats\" + 0.006*\"obama\" + 0.006*\"election\" + 0.006*\"republican\"'),\n",
       " (10,\n",
       "  '0.025*\"iran\" + 0.022*\"iranian\" + 0.019*\"hikers\" + 0.016*\"russia\" + 0.013*\"faith\" + 0.009*\"tehran\" + 0.008*\"religious\" + 0.007*\"religion\" + 0.006*\"proposed\" + 0.006*\"american\"'),\n",
       " (11,\n",
       "  '0.015*\"activists\" + 0.010*\"sender\" + 0.009*\"intended\" + 0.008*\"odd\" + 0.008*\"wonder\" + 0.008*\"got\" + 0.007*\"businessweek\" + 0.006*\"software\" + 0.006*\"aware\" + 0.006*\"windows\"'),\n",
       " (12,\n",
       "  '0.025*\"mtg\" + 0.012*\"read\" + 0.011*\"labour\" + 0.010*\"jack\" + 0.010*\"heading\" + 0.010*\"late\" + 0.009*\"pir\" + 0.009*\"ed\" + 0.008*\"tonight\" + 0.008*\"couple\"'),\n",
       " (13,\n",
       "  '0.029*\"prince\" + 0.019*\"au\" + 0.016*\"january\" + 0.014*\"fco\" + 0.012*\"brother\" + 0.011*\"traveling\" + 0.011*\"camera\" + 0.010*\"rains\" + 0.009*\"authority\" + 0.009*\"subsequently\"'),\n",
       " (14,\n",
       "  '0.046*\"qddr\" + 0.016*\"missile\" + 0.011*\"cdm\" + 0.011*\"lieberman\" + 0.010*\"greek\" + 0.010*\"report\" + 0.009*\"reason\" + 0.009*\"think\" + 0.009*\"govt\" + 0.009*\"deploy\"'),\n",
       " (15,\n",
       "  '0.017*\"ll\" + 0.013*\"happy\" + 0.013*\"lauren\" + 0.011*\"follow\" + 0.009*\"heard\" + 0.009*\"missiles\" + 0.009*\"evening\" + 0.008*\"2010\" + 0.008*\"huma\" + 0.007*\"polish\"'),\n",
       " (16,\n",
       "  '0.013*\"book\" + 0.008*\"david\" + 0.006*\"chamber\" + 0.006*\"tax\" + 0.006*\"left\" + 0.005*\"find\" + 0.005*\"ashton\" + 0.005*\"named\" + 0.005*\"government\" + 0.004*\"liberal\"'),\n",
       " (17,\n",
       "  '0.009*\"beck\" + 0.006*\"health\" + 0.005*\"people\" + 0.004*\"year\" + 0.004*\"schools\" + 0.004*\"says\" + 0.004*\"american\" + 0.004*\"even\" + 0.004*\"obama\" + 0.003*\"americans\"'),\n",
       " (18,\n",
       "  '0.007*\"mcchrystal\" + 0.006*\"conflict\" + 0.006*\"report\" + 0.005*\"company\" + 0.005*\"cross\" + 0.004*\"workers\" + 0.004*\"february\" + 0.004*\"involvement\" + 0.004*\"united\" + 0.003*\"picture\"'),\n",
       " (19,\n",
       "  '0.011*\"party\" + 0.011*\"measures\" + 0.008*\"panel\" + 0.008*\"great\" + 0.007*\"info\" + 0.006*\"rupert\" + 0.005*\"urge\" + 0.005*\"notes\" + 0.005*\"think\" + 0.005*\"meeting\"'),\n",
       " (20,\n",
       "  '0.014*\"women\" + 0.009*\"development\" + 0.009*\"un\" + 0.008*\"diplomacy\" + 0.008*\"needs\" + 0.007*\"(e\" + 0.007*\"working\" + 0.007*\"afghan\" + 0.006*\"global\" + 0.006*\"efforts\"'),\n",
       " (21,\n",
       "  '0.006*\"clinton\" + 0.006*\"start\" + 0.005*\"public\" + 0.005*\"day\" + 0.004*\"says\" + 0.004*\"last\" + 0.004*\"american\" + 0.004*\"times\" + 0.003*\"obama\" + 0.003*\"instead\"'),\n",
       " (22,\n",
       "  '0.011*\"state\" + 0.007*\"headquarters\" + 0.006*\"pih\" + 0.006*\"witnesses\" + 0.005*\"activists\" + 0.005*\"nuns\" + 0.005*\"michael\" + 0.004*\"house\" + 0.004*\"village\" + 0.004*\"group\"'),\n",
       " (23,\n",
       "  '0.018*\"taliban\" + 0.017*\"north\" + 0.011*\"korea\" + 0.010*\"korean\" + 0.009*\"american\" + 0.009*\"arrest\" + 0.006*\"secretary\" + 0.006*\"minute\" + 0.005*\"war\" + 0.005*\"south\"'),\n",
       " (24,\n",
       "  '0.070*\"gov\" + 0.062*\"2010\" + 0.030*\"fw\" + 0.025*\"cheryl\" + 0.020*\"mills\" + 0.020*\"huma\" + 0.018*\"sullivan\" + 0.017*\"abedin\" + 0.015*\"hrod17@clintonemail\" + 0.015*\"millscd@state\"'),\n",
       " (25,\n",
       "  '0.049*\"haitian\" + 0.016*\"high\" + 0.016*\"haiti\" + 0.013*\"importance\" + 0.010*\"port\" + 0.009*\"emailed\" + 0.009*\"au\" + 0.008*\"feasible\" + 0.008*\"scheduled\" + 0.008*\"minimum\"'),\n",
       " (26,\n",
       "  '0.014*\"palestinians\" + 0.007*\"taliban\" + 0.007*\"please\" + 0.007*\"pakistan\" + 0.007*\"arabs\" + 0.006*\"copies\" + 0.006*\"points\" + 0.006*\"team\" + 0.006*\"blair\" + 0.006*\"claim\"'),\n",
       " (27,\n",
       "  '0.033*\"netanyahu\" + 0.031*\"647\" + 0.027*\"company\" + 0.023*\"office\" + 0.022*\"202\" + 0.015*\"email\" + 0.014*\"please\" + 0.012*\"paper\" + 0.012*\"saudi\" + 0.011*\"wants\"'),\n",
       " (28,\n",
       "  '0.017*\"send\" + 0.016*\"letter\" + 0.013*\"pis\" + 0.012*\"game\" + 0.011*\"karzai\" + 0.011*\"update\" + 0.010*\"boy\" + 0.009*\"classified\" + 0.009*\"version\" + 0.009*\"talk\"'),\n",
       " (29,\n",
       "  '0.030*\"03\" + 0.028*\"strategic\" + 0.026*\"press\" + 0.026*\"dialogue\" + 0.023*\"2010\" + 0.015*\"sounds\" + 0.013*\"arizona\" + 0.009*\"pooled\" + 0.008*\"checking\" + 0.007*\"happy\"'),\n",
       " (30,\n",
       "  '0.021*\"spending\" + 0.012*\"let\" + 0.012*\"stone\" + 0.012*\"agree\" + 0.009*\"issue\" + 0.008*\"wireless\" + 0.008*\"verizon\" + 0.008*\"able\" + 0.007*\"tomorrow\" + 0.007*\"black\"'),\n",
       " (31,\n",
       "  '0.032*\"2010\" + 0.023*\"hrod17@clintonemail\" + 0.022*\"gov\" + 0.016*\"sunday\" + 0.011*\"sbwhoeop\" + 0.011*\"jilotylc@state\" + 0.009*\"2009\" + 0.009*\"14\" + 0.009*\"print\" + 0.008*\"september\"'),\n",
       " (32,\n",
       "  '0.066*\"b6\" + 0.042*\"part\" + 0.041*\"b1\" + 0.036*\"release\" + 0.035*\"4(d)\" + 0.024*\"4(b)\" + 0.018*\"b5\" + 0.013*\"asking\" + 0.009*\"else\" + 0.008*\"lewis\"'),\n",
       " (33,\n",
       "  '0.067*\"print\" + 0.040*\"pis\" + 0.029*\"mod\" + 0.024*\"speech\" + 0.023*\"mike\" + 0.019*\"thru\" + 0.012*\"mention\" + 0.010*\"eric\" + 0.009*\"comments\" + 0.008*\"quotes\"'),\n",
       " (34,\n",
       "  '0.016*\"per\" + 0.014*\"safe\" + 0.013*\"2010\" + 0.011*\"travels\" + 0.010*\"latin\" + 0.010*\"thank\" + 0.009*\"singapore\" + 0.009*\"hi\" + 0.008*\"dec\" + 0.008*\"memories\"'),\n",
       " (35,\n",
       "  '0.018*\"obama\" + 0.010*\"health\" + 0.008*\"clinton\" + 0.008*\"doc;\" + 0.008*\"care\" + 0.006*\"president\" + 0.006*\"policy\" + 0.005*\"former\" + 0.005*\"bill\" + 0.005*\"campaign\"'),\n",
       " (36,\n",
       "  '0.036*\"women\" + 0.021*\"kurdish\" + 0.019*\"border\" + 0.009*\"touch\" + 0.007*\"sent\" + 0.007*\"detained\" + 0.007*\"taab\" + 0.006*\"non\" + 0.006*\"box\" + 0.006*\"connect\"'),\n",
       " (37,\n",
       "  '0.009*\"state\" + 0.007*\"afghanistan\" + 0.006*\"military\" + 0.005*\"government\" + 0.005*\"security\" + 0.005*\"department\" + 0.004*\"women\" + 0.004*\"obama\" + 0.004*\"states\" + 0.004*\"president\"'),\n",
       " (38,\n",
       "  '0.012*\"sent\" + 0.011*\"better\" + 0.009*\"verveer\" + 0.009*\"via\" + 0.008*\"cheryl\" + 0.008*\"blackberry\" + 0.008*\"2010\" + 0.008*\"think\" + 0.007*\"melanne\" + 0.007*\"polls\"'),\n",
       " (39,\n",
       "  '0.019*\"add\" + 0.018*\"list\" + 0.018*\"mayor\" + 0.013*\"bloomberg\" + 0.012*\"read\" + 0.009*\"assume\" + 0.008*\"books\" + 0.008*\"traffic\" + 0.008*\"thing\" + 0.008*\"wing\"'),\n",
       " (40,\n",
       "  '0.014*\"israel\" + 0.010*\"obama\" + 0.008*\"president\" + 0.007*\"iraq\" + 0.006*\"house\" + 0.006*\"settlements\" + 0.005*\"senate\" + 0.005*\"security\" + 0.005*\"boehner\" + 0.005*\"administration\"'),\n",
       " (41,\n",
       "  '0.030*\"talk\" + 0.025*\"woodward\" + 0.018*\"secure\" + 0.014*\"statement\" + 0.013*\"phone\" + 0.013*\"tomorrow\" + 0.012*\"nixon\" + 0.009*\"agreed\" + 0.008*\"kissinger\" + 0.008*\"later\"'),\n",
       " (42,\n",
       "  '0.024*\"cables\" + 0.022*\"church\" + 0.018*\"stay\" + 0.015*\"rich\" + 0.012*\"budget\" + 0.011*\"israel\" + 0.010*\"background\" + 0.010*\"confidential\" + 0.008*\"paul\" + 0.008*\"reservations\"'),\n",
       " (43,\n",
       "  '0.021*\"final\" + 0.016*\"holiday\" + 0.014*\"vote\" + 0.012*\"start\" + 0.011*\"party\" + 0.010*\"phil\" + 0.009*\"uup\" + 0.009*\"unicef\" + 0.008*\"voted\" + 0.008*\"finds\"'),\n",
       " (44,\n",
       "  '0.016*\"nuclear\" + 0.008*\"time\" + 0.007*\"work\" + 0.006*\"negotiating\" + 0.005*\"bibi\" + 0.005*\"israel\" + 0.004*\"ll\" + 0.004*\"negotiations\" + 0.004*\"china\" + 0.004*\"best\"'),\n",
       " (45,\n",
       "  '0.065*\"richards\" + 0.040*\"treaty\" + 0.037*\"senate\" + 0.019*\"ratification\" + 0.015*\"gregg\" + 0.015*\"office\" + 0.013*\"birthday\" + 0.011*\"written\" + 0.010*\"dan\" + 0.009*\"hour\"'),\n",
       " (46,\n",
       "  '0.025*\"wjc\" + 0.018*\"calling\" + 0.015*\"gotten\" + 0.014*\"nice\" + 0.013*\"bottom\" + 0.013*\"cdm\" + 0.013*\"howard\" + 0.010*\"device\" + 0.010*\"alexander\" + 0.008*\"6am\"'),\n",
       " (47,\n",
       "  '0.025*\"bill\" + 0.014*\"john\" + 0.013*\"ops\" + 0.013*\"discuss\" + 0.013*\"confirmed\" + 0.012*\"conf\" + 0.011*\"strobe\" + 0.011*\"kerry\" + 0.011*\"fm\" + 0.011*\"fine\"'),\n",
       " (48,\n",
       "  '0.006*\"people\" + 0.004*\"political\" + 0.004*\"american\" + 0.004*\"president\" + 0.004*\"world\" + 0.004*\"government\" + 0.004*\"even\" + 0.004*\"time\" + 0.004*\"well\" + 0.003*\"much\"'),\n",
       " (49,\n",
       "  '0.050*\"secretary\" + 0.042*\"office\" + 0.036*\"30\" + 0.026*\"10\" + 0.025*\"15\" + 0.025*\"meeting\" + 0.024*\"room\" + 0.022*\"state\" + 0.017*\"department\" + 0.016*\"45\"')]"
      ]
     },
     "execution_count": 21,
     "metadata": {},
     "output_type": "execute_result"
    }
   ],
   "source": [
    "model_50.print_topics(50)"
   ]
  },
  {
   "cell_type": "code",
   "execution_count": null,
   "metadata": {
    "collapsed": true
   },
   "outputs": [],
   "source": []
  },
  {
   "cell_type": "code",
   "execution_count": null,
   "metadata": {
    "collapsed": true
   },
   "outputs": [],
   "source": []
  }
 ],
 "metadata": {
  "anaconda-cloud": {},
  "kernelspec": {
   "display_name": "Python [Root]",
   "language": "python",
   "name": "Python [Root]"
  },
  "language_info": {
   "codemirror_mode": {
    "name": "ipython",
    "version": 3
   },
   "file_extension": ".py",
   "mimetype": "text/x-python",
   "name": "python",
   "nbconvert_exporter": "python",
   "pygments_lexer": "ipython3",
   "version": "3.5.2"
  },
  "nav_menu": {},
  "toc": {
   "navigate_menu": true,
   "number_sections": false,
   "sideBar": false,
   "threshold": "3",
   "toc_cell": true,
   "toc_section_display": "block",
   "toc_window_display": false
  }
 },
 "nbformat": 4,
 "nbformat_minor": 1
}
