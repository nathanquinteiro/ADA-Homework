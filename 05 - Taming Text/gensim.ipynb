{
 "cells": [
  {
   "cell_type": "markdown",
   "metadata": {},
   "source": [
    "# Applied Machine Learning\n",
    "\n",
    "This Jupyter Notebook presents our solution for the Applied ML Homework of the ADA course at EPFL.  \n",
    "\n",
    "For this homework, we use a [football dataset](CrowdstormingDataJuly1st.csv) \n",
    "<sup id=\"fnref:1\"><a href=\"#fn:1\" rel=\"footnote\">1</a></sup>  from a company for sports statistics, containing data from all soccer players (N = 2053) playing in the first male divisions of England, Germany, France and Spain in the 2012-2013 season and all referees (N = 3147) that these players played under in their professional career.\n",
    "\n",
    "The two main goals of this homework is to:\n",
    "* Train a random forest classifier that given a soccer player description outputs his skin color\n",
    "* Use an unsupervised learning technique to cluster the soccer players in 2 disjoint clusters, and try to find if there are relation between the clusters and the players skin color.\n",
    "\n",
    "<div class=\"footnotes\">\n",
    "<hr/>\n",
    "<ol>\n",
    "<li id=\"fn:1\">\n",
    "<p>Since we all live in developped countries, we will use the term \"football\" instead of \"soccer\" for all the homework*<a href=\"#fnref:1\" rev=\"footnote\">&#8617;</a></p></li>\n",
    "</ol>\n",
    "</div>\n"
   ]
  },
  {
   "cell_type": "code",
   "execution_count": 2,
   "metadata": {
    "collapsed": false
   },
   "outputs": [
    {
     "name": "stderr",
     "output_type": "stream",
     "text": [
      "/Users/jeremie/anaconda/lib/python3.5/site-packages/gensim/utils.py:1015: UserWarning: Pattern library is not installed, lemmatization won't be available.\n",
      "  warnings.warn(\"Pattern library is not installed, lemmatization won't be available.\")\n"
     ]
    }
   ],
   "source": [
    "import pandas as pd                                     \n",
    "import numpy as np                                      \n",
    "import os \n",
    "\n",
    "\n",
    "\n",
    "import matplotlib.pyplot as plt\n",
    "\n",
    "from datetime import datetime\n",
    "\n",
    "%matplotlib inline\n",
    "import seaborn as sns                                   # For pretty plots\n",
    "\n",
    "\n",
    "from os import path\n",
    "from wordcloud import WordCloud\n",
    "from PIL import Image\n",
    "from gensim import corpora, models, similarities"
   ]
  },
  {
   "cell_type": "code",
   "execution_count": 14,
   "metadata": {
    "collapsed": true
   },
   "outputs": [],
   "source": [
    "d = path.dirname(\"hillary-clinton-emails/\")\n",
    "\n",
    "# Read the whole text.\n",
    "documents = open(path.join(d, 'Emails.csv')).read()\n"
   ]
  },
  {
   "cell_type": "markdown",
   "metadata": {},
   "source": [
    "[From Strings to vector](https://radimrehurek.com/gensim/tut1.html)"
   ]
  },
  {
   "cell_type": "code",
   "execution_count": 22,
   "metadata": {
    "collapsed": false
   },
   "outputs": [
    {
     "name": "stdout",
     "output_type": "stream",
     "text": [
      "{'7', 'n', 'ç', 'd', 'of', 'q', 'z', 'f', '8', 'k', '()', 'in', '2', '/', 'h', '6', 'w', 'y', 'c', 'i', 'x', 's', '&', '5', 't', '3', '*', 'é', 'the', 'r', 'p', 'v', '+', 'g', 'j', 'for', 'to', 'a', 'b', '%', '-', 'l', '\"', '1', 'm', '9', 'u', 'o', 'and', 'e', '4'}\n"
     ]
    }
   ],
   "source": [
    "stoplist = set('for a of the and to in - 1 2 3 4 5 6 7 8 9 a b c d e f g h i j k l m n o p q r s t u v w x y z é + \" * ç % & / ()'.split())\n",
    "print(stoplist)"
   ]
  },
  {
   "cell_type": "code",
   "execution_count": 23,
   "metadata": {
    "collapsed": false
   },
   "outputs": [],
   "source": [
    "texts = [[word for word in document.lower().split() if word not in stoplist]\n",
    "         for document in documents]"
   ]
  },
  {
   "cell_type": "code",
   "execution_count": 28,
   "metadata": {
    "collapsed": false,
    "scrolled": true
   },
   "outputs": [],
   "source": [
    "# remove words that appear only once\n",
    "from collections import defaultdict\n",
    "frequency = defaultdict(int)\n",
    "for text in texts:\n",
    "     for token in text:\n",
    "            frequency[token] += 1\n",
    "\n",
    "#texts = [[token for token in text if frequency[token] > 1]\n",
    "#          for text in texts]"
   ]
  },
  {
   "cell_type": "markdown",
   "metadata": {
    "collapsed": false
   },
   "source": [
    "For representing the questions only by ids (intergers) we need a dictonary to store the mapping."
   ]
  },
  {
   "cell_type": "code",
   "execution_count": 29,
   "metadata": {
    "collapsed": false
   },
   "outputs": [],
   "source": [
    "dictionary = corpora.Dictionary(texts)\n",
    "dictionary.save(\"part3/deerwester.dict\")\n"
   ]
  },
  {
   "cell_type": "code",
   "execution_count": 32,
   "metadata": {
    "collapsed": false
   },
   "outputs": [
    {
     "name": "stdout",
     "output_type": "stream",
     "text": [
      "Dictionary(56 unique tokens: ['–', '¶', '»', '÷', '(']...)\n"
     ]
    }
   ],
   "source": [
    "print(dictionary)"
   ]
  },
  {
   "cell_type": "code",
   "execution_count": 33,
   "metadata": {
    "collapsed": false
   },
   "outputs": [
    {
     "name": "stdout",
     "output_type": "stream",
     "text": [
      "{'–': 35, '¶': 49, '»': 39, '÷': 37, '(': 8, '€': 43, '±': 36, '0': 1, '[': 14, '.': 4, '{': 34, 'ø': 31, '„': 26, '!': 21, '©': 19, '>': 7, '▪': 52, '_': 3, '›': 20, '<': 5, '✓': 50, '^': 16, '@': 6, '#': 32, '§': 44, '\\\\': 29, '=': 23, '➢': 48, '`': 30, ',': 0, '}': 27, '“': 53, 'ä': 47, '̀': 45, '”': 55, 'ã': 54, \"'\": 12, '�': 51, ';': 10, '~': 46, '£': 38, '‘': 28, '°': 17, '•': 15, '?': 13, ')': 9, '$': 18, ':': 2, '■': 33, '‹': 22, ']': 24, 'à': 40, 'ï': 42, '«': 25, '®': 41, '—': 11}\n"
     ]
    }
   ],
   "source": [
    "print(dictionary.token2id)"
   ]
  },
  {
   "cell_type": "code",
   "execution_count": null,
   "metadata": {
    "collapsed": true
   },
   "outputs": [],
   "source": []
  },
  {
   "cell_type": "code",
   "execution_count": null,
   "metadata": {
    "collapsed": true
   },
   "outputs": [],
   "source": []
  },
  {
   "cell_type": "code",
   "execution_count": null,
   "metadata": {
    "collapsed": true
   },
   "outputs": [],
   "source": []
  },
  {
   "cell_type": "code",
   "execution_count": null,
   "metadata": {
    "collapsed": true
   },
   "outputs": [],
   "source": []
  },
  {
   "cell_type": "markdown",
   "metadata": {},
   "source": [
    "[Transformation interface](https://radimrehurek.com/gensim/tut2.html#available-transformations)"
   ]
  },
  {
   "cell_type": "code",
   "execution_count": null,
   "metadata": {
    "collapsed": true
   },
   "outputs": [],
   "source": []
  }
 ],
 "metadata": {
  "anaconda-cloud": {},
  "kernelspec": {
   "display_name": "Python [Root]",
   "language": "python",
   "name": "Python [Root]"
  },
  "language_info": {
   "codemirror_mode": {
    "name": "ipython",
    "version": 3
   },
   "file_extension": ".py",
   "mimetype": "text/x-python",
   "name": "python",
   "nbconvert_exporter": "python",
   "pygments_lexer": "ipython3",
   "version": "3.5.2"
  },
  "nav_menu": {},
  "toc": {
   "navigate_menu": true,
   "number_sections": false,
   "sideBar": false,
   "threshold": "3",
   "toc_cell": true,
   "toc_section_display": "block",
   "toc_window_display": false
  }
 },
 "nbformat": 4,
 "nbformat_minor": 1
}
