{
 "cells": [
  {
   "cell_type": "markdown",
   "metadata": {},
   "source": []
  },
  {
   "cell_type": "code",
   "execution_count": 103,
   "metadata": {
    "collapsed": false
   },
   "outputs": [],
   "source": [
    "import pandas as pd                                     \n",
    "import numpy as np                                      \n",
    "import os \n",
    "\n",
    "\n",
    "\n",
    "import matplotlib.pyplot as plt\n",
    "\n",
    "from datetime import datetime\n",
    "\n",
    "%matplotlib inline\n",
    "import seaborn as sns                                   # For pretty plots\n",
    "import gensim\n",
    "\n",
    "\n",
    "from os import path\n",
    "from wordcloud import WordCloud\n",
    "from wordcloud import STOPWORDS\n",
    "from PIL import Image\n",
    "from gensim import corpora, models, similarities"
   ]
  },
  {
   "cell_type": "code",
   "execution_count": 104,
   "metadata": {
    "collapsed": false
   },
   "outputs": [],
   "source": [
    "d = path.dirname(\"hillary-clinton-emails/\")\n",
    "\n",
    "# Read the whole text.\n",
    "#emailJoined = open(path.join(d, 'Emails.csv')).read(200000)\n",
    "emailJoined = open(path.join(d, 'Emails.csv')).read()\n",
    "\n"
   ]
  },
  {
   "cell_type": "markdown",
   "metadata": {},
   "source": [
    "[From Strings to vector](https://radimrehurek.com/gensim/tut1.html)"
   ]
  },
  {
   "cell_type": "code",
   "execution_count": 105,
   "metadata": {
    "collapsed": false
   },
   "outputs": [],
   "source": [
    "#stoplist = set('for a of the and to in - 1 2 3 4 5 6 7 8 9 a b c d e f g h i j k l m n o p q r s t u v w x y z é + \" * ç % & / ()'.split())\n",
    "#print(stoplist)\n",
    "#documents = [\"Human machine interface for lab abc computer applications\"]\n",
    "#type(documents.split())\n",
    "\n",
    "documents = emailJoined.replace('.',',').replace('<',',').replace('>',',').replace(' ',',').replace(':',',').split(',')\n",
    "#documents\n",
    "                               \n"
   ]
  },
  {
   "cell_type": "code",
   "execution_count": 124,
   "metadata": {
    "collapsed": false
   },
   "outputs": [],
   "source": [
    "stoplist = set(STOPWORDS)\n",
    "\n",
    "for i in range(1,100) :\n",
    "    stoplist.add(i)\n",
    "\n",
    "stoplist.add(\"no.\")\n",
    "stoplist.add(\"no\")\n",
    "stoplist.add(\"pm\")\n",
    "stoplist.add(\"am\")\n",
    "stoplist.add(\"doc\")\n",
    "stoplist.add(\"docx\")\n",
    "stoplist.add(\"pdf\")\n",
    "stoplist.add(\"re\")\n",
    "stoplist.add(\"fw\")\n",
    "\n",
    "\n",
    "#print(stoplist)\n"
   ]
  },
  {
   "cell_type": "code",
   "execution_count": 125,
   "metadata": {
    "collapsed": false
   },
   "outputs": [],
   "source": [
    "texts = [[word for word in document.lower().split() if word not in stoplist and len(word) > 1]\n",
    "         for document in documents]\n",
    "\n",
    "#print(texts)\n",
    "#texts"
   ]
  },
  {
   "cell_type": "code",
   "execution_count": 126,
   "metadata": {
    "collapsed": true
   },
   "outputs": [],
   "source": [
    "# remove words that appear only once\n",
    "from collections import defaultdict\n",
    "frequency = defaultdict(int)\n",
    "for text in texts:\n",
    "     for token in text:\n",
    "            frequency[token] += 1\n",
    "\n",
    "texts = [[token for token in text if frequency[token] > 10]\n",
    "          for text in texts]\n",
    "\n"
   ]
  },
  {
   "cell_type": "markdown",
   "metadata": {
    "collapsed": false
   },
   "source": [
    "For representing the questions only by ids (intergers) we need a dictonary to store the mapping."
   ]
  },
  {
   "cell_type": "code",
   "execution_count": 127,
   "metadata": {
    "collapsed": false
   },
   "outputs": [],
   "source": [
    "dictionary = corpora.Dictionary(texts)\n",
    "dictionary.save(\"part3/deerwester.dict\")\n"
   ]
  },
  {
   "cell_type": "code",
   "execution_count": 128,
   "metadata": {
    "collapsed": false
   },
   "outputs": [
    {
     "name": "stdout",
     "output_type": "stream",
     "text": [
      "Dictionary(15489 unique tokens: ['stupid', 'bipartisan', 'loretta', 'vietnamese', 'proper']...)\n"
     ]
    }
   ],
   "source": [
    "print(dictionary)"
   ]
  },
  {
   "cell_type": "code",
   "execution_count": 129,
   "metadata": {
    "collapsed": false
   },
   "outputs": [],
   "source": [
    "#print(dictionary.token2id)"
   ]
  },
  {
   "cell_type": "markdown",
   "metadata": {
    "collapsed": true
   },
   "source": [
    "--------------------"
   ]
  },
  {
   "cell_type": "code",
   "execution_count": null,
   "metadata": {
    "collapsed": false
   },
   "outputs": [],
   "source": []
  },
  {
   "cell_type": "code",
   "execution_count": 130,
   "metadata": {
    "collapsed": false
   },
   "outputs": [],
   "source": [
    "corpus = [dictionary.doc2bow(text) for text in texts]\n",
    "\n",
    "#splited = emailJoined.split(',')\n",
    "#corpus = [dictionary.doc2bow(text) for text in splited]\n",
    "\n",
    "\n",
    "\n",
    "\n",
    "corpora.MmCorpus.serialize(\"part3/deerwester.mm\", corpus)  # store to disk, for later use\n",
    "#print(corpus)\n"
   ]
  },
  {
   "cell_type": "code",
   "execution_count": null,
   "metadata": {
    "collapsed": false
   },
   "outputs": [],
   "source": []
  },
  {
   "cell_type": "markdown",
   "metadata": {},
   "source": [
    "--------------------"
   ]
  },
  {
   "cell_type": "markdown",
   "metadata": {},
   "source": [
    "[Transformation interface](https://radimrehurek.com/gensim/tut2.html#available-transformations)"
   ]
  },
  {
   "cell_type": "code",
   "execution_count": 131,
   "metadata": {
    "collapsed": false
   },
   "outputs": [],
   "source": [
    "dictionary = corpora.Dictionary.load(\"part3/deerwester.dict\")\n",
    "corpus = corpora.MmCorpus('part3/deerwester.mm')"
   ]
  },
  {
   "cell_type": "code",
   "execution_count": 132,
   "metadata": {
    "collapsed": true
   },
   "outputs": [],
   "source": [
    "#tfidf = models.TfidfModel(corpus) # step 1 -- initialize a model"
   ]
  },
  {
   "cell_type": "code",
   "execution_count": 133,
   "metadata": {
    "collapsed": false
   },
   "outputs": [],
   "source": [
    "model = models.LdaModel(corpus, id2word=dictionary, num_topics=5)"
   ]
  },
  {
   "cell_type": "code",
   "execution_count": 134,
   "metadata": {
    "collapsed": false
   },
   "outputs": [
    {
     "name": "stdout",
     "output_type": "stream",
     "text": [
      "LdaModel(num_terms=15489, num_topics=5, decay=0.5, chunksize=2000)\n"
     ]
    }
   ],
   "source": [
    "print(model)"
   ]
  },
  {
   "cell_type": "code",
   "execution_count": 135,
   "metadata": {
    "collapsed": false
   },
   "outputs": [
    {
     "data": {
      "text/plain": [
       "[(0,\n",
       "  '0.082*\"08/31/2015\" + 0.064*\"date\" + 0.045*\"subject\" + 0.019*\"message\" + 0.014*\"huma\" + 0.010*\"one\" + 0.010*\"secretary\" + 0.009*\"time\" + 0.009*\"security\" + 0.008*\"states\"'),\n",
       " (1,\n",
       "  '0.017*\"new\" + 0.016*\"com>\" + 0.014*\"government\" + 0.013*\"<hrod17@clintonemail\" + 0.012*\"gov\\'\" + 0.011*\"dec\" + 0.011*\"also\" + 0.011*\"gov>\"\" + 0.010*\"see\" + 0.010*\"pm\"\"'),\n",
       " (2,\n",
       "  '0.047*\"sent\" + 0.040*\"release\" + 0.028*\"will\" + 0.026*\"\"\"\" + 0.023*\"part\" + 0.020*\"gov>\" + 0.019*\"\"unclassified\" + 0.017*\"said\" + 0.015*\"original\" + 0.013*\"sullivan\"'),\n",
       " (3,\n",
       "  '0.093*\"f-2014-20439\" + 0.080*\"00\" + 0.068*\"state\" + 0.062*\"department\" + 0.040*\"unclassified\" + 0.037*\"00+00\" + 0.027*\"december\" + 0.020*\"cheryl\" + 0.019*\"full\" + 0.013*\"jacob\"'),\n",
       " (4,\n",
       "  '0.068*\"2010\" + 0.062*\"case\" + 0.020*\"clinton_email_august_release\" + 0.020*\"2015-08-31t04\" + 0.016*\"b6\" + 0.013*\"10\" + 0.010*\"15\" + 0.009*\"people\" + 0.008*\"start\" + 0.007*\"14\"')]"
      ]
     },
     "execution_count": 135,
     "metadata": {},
     "output_type": "execute_result"
    }
   ],
   "source": [
    "model.print_topics(30)"
   ]
  },
  {
   "cell_type": "code",
   "execution_count": 122,
   "metadata": {
    "collapsed": false
   },
   "outputs": [],
   "source": [
    "oldModel = model"
   ]
  },
  {
   "cell_type": "code",
   "execution_count": 123,
   "metadata": {
    "collapsed": false
   },
   "outputs": [
    {
     "data": {
      "text/plain": [
       "[(0,\n",
       "  '0.021*\"re\" + 0.020*\"2015-08-31t04\" + 0.019*\"message\" + 0.016*\"b6\" + 0.015*\"com>\" + 0.014*\"jacob\" + 0.012*\"<hrod17@clintonemail\" + 0.012*\"may\" + 0.012*\"cc\" + 0.011*\"11\"'),\n",
       " (1,\n",
       "  '0.095*\"f-2014-20439\" + 0.066*\"2010\" + 0.041*\"unclassified\" + 0.022*\"part\" + 0.018*\"\"unclassified\" + 0.017*\"fw\" + 0.016*\"said\" + 0.014*\"original\" + 0.013*\"10\" + 0.012*\"government\"'),\n",
       " (2,\n",
       "  '0.061*\"date\" + 0.046*\"sent\" + 0.039*\"release\" + 0.028*\"december\" + 0.020*\"08/31/2015\" + 0.019*\"gov>\" + 0.016*\"new\" + 0.010*\"gov>\"\" + 0.010*\"call\" + 0.009*\"president\"'),\n",
       " (3,\n",
       "  '0.085*\"00\" + 0.044*\"subject\" + 0.039*\"00+00\" + 0.027*\"will\" + 0.026*\"\"\"\" + 0.021*\"cheryl\" + 0.013*\"huma\" + 0.013*\"mills\" + 0.010*\"15\" + 0.010*\"american\"'),\n",
       " (4,\n",
       "  '0.074*\"state\" + 0.068*\"department\" + 0.064*\"case\" + 0.060*\"08/31/2015\" + 0.021*\"full\" + 0.020*\"clinton_email_august_release\" + 0.011*\"dec\" + 0.010*\"pm\"\" + 0.008*\"foreign\" + 0.008*\"united\"')]"
      ]
     },
     "execution_count": 123,
     "metadata": {},
     "output_type": "execute_result"
    }
   ],
   "source": [
    "oldModel.print_topics(30)"
   ]
  },
  {
   "cell_type": "code",
   "execution_count": null,
   "metadata": {
    "collapsed": true
   },
   "outputs": [],
   "source": []
  },
  {
   "cell_type": "code",
   "execution_count": null,
   "metadata": {
    "collapsed": true
   },
   "outputs": [],
   "source": []
  },
  {
   "cell_type": "code",
   "execution_count": null,
   "metadata": {
    "collapsed": true
   },
   "outputs": [],
   "source": []
  },
  {
   "cell_type": "code",
   "execution_count": null,
   "metadata": {
    "collapsed": true
   },
   "outputs": [],
   "source": []
  },
  {
   "cell_type": "code",
   "execution_count": null,
   "metadata": {
    "collapsed": true
   },
   "outputs": [],
   "source": []
  },
  {
   "cell_type": "code",
   "execution_count": null,
   "metadata": {
    "collapsed": true
   },
   "outputs": [],
   "source": []
  },
  {
   "cell_type": "code",
   "execution_count": null,
   "metadata": {
    "collapsed": true
   },
   "outputs": [],
   "source": []
  },
  {
   "cell_type": "code",
   "execution_count": null,
   "metadata": {
    "collapsed": true
   },
   "outputs": [],
   "source": []
  },
  {
   "cell_type": "code",
   "execution_count": null,
   "metadata": {
    "collapsed": true
   },
   "outputs": [],
   "source": []
  },
  {
   "cell_type": "code",
   "execution_count": null,
   "metadata": {
    "collapsed": true
   },
   "outputs": [],
   "source": []
  },
  {
   "cell_type": "code",
   "execution_count": null,
   "metadata": {
    "collapsed": true
   },
   "outputs": [],
   "source": []
  },
  {
   "cell_type": "code",
   "execution_count": null,
   "metadata": {
    "collapsed": true
   },
   "outputs": [],
   "source": []
  },
  {
   "cell_type": "code",
   "execution_count": null,
   "metadata": {
    "collapsed": true
   },
   "outputs": [],
   "source": []
  },
  {
   "cell_type": "code",
   "execution_count": null,
   "metadata": {
    "collapsed": true
   },
   "outputs": [],
   "source": []
  },
  {
   "cell_type": "code",
   "execution_count": null,
   "metadata": {
    "collapsed": true
   },
   "outputs": [],
   "source": []
  },
  {
   "cell_type": "code",
   "execution_count": null,
   "metadata": {
    "collapsed": true
   },
   "outputs": [],
   "source": []
  },
  {
   "cell_type": "code",
   "execution_count": null,
   "metadata": {
    "collapsed": true
   },
   "outputs": [],
   "source": []
  }
 ],
 "metadata": {
  "anaconda-cloud": {},
  "kernelspec": {
   "display_name": "Python [Root]",
   "language": "python",
   "name": "Python [Root]"
  },
  "language_info": {
   "codemirror_mode": {
    "name": "ipython",
    "version": 3
   },
   "file_extension": ".py",
   "mimetype": "text/x-python",
   "name": "python",
   "nbconvert_exporter": "python",
   "pygments_lexer": "ipython3",
   "version": "3.5.2"
  },
  "nav_menu": {},
  "toc": {
   "navigate_menu": true,
   "number_sections": false,
   "sideBar": false,
   "threshold": "3",
   "toc_cell": true,
   "toc_section_display": "block",
   "toc_window_display": false
  }
 },
 "nbformat": 4,
 "nbformat_minor": 1
}
