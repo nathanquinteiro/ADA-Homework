{
 "cells": [
  {
   "cell_type": "markdown",
   "metadata": {},
   "source": [
    "# Applied Machine Learning\n",
    "\n",
    "This Jupyter Notebook presents our solution for the Applied ML Homework of the ADA course at EPFL.  \n",
    "\n",
    "For this homework, we use a [football dataset](CrowdstormingDataJuly1st.csv) \n",
    "<sup id=\"fnref:1\"><a href=\"#fn:1\" rel=\"footnote\">1</a></sup>  from a company for sports statistics, containing data from all soccer players (N = 2053) playing in the first male divisions of England, Germany, France and Spain in the 2012-2013 season and all referees (N = 3147) that these players played under in their professional career.\n",
    "\n",
    "The two main goals of this homework is to:\n",
    "* Train a random forest classifier that given a soccer player description outputs his skin color\n",
    "* Use an unsupervised learning technique to cluster the soccer players in 2 disjoint clusters, and try to find if there are relation between the clusters and the players skin color.\n",
    "\n",
    "<div class=\"footnotes\">\n",
    "<hr/>\n",
    "<ol>\n",
    "<li id=\"fn:1\">\n",
    "<p>Since we all live in developped countries, we will use the term \"football\" instead of \"soccer\" for all the homework*<a href=\"#fnref:1\" rev=\"footnote\">&#8617;</a></p></li>\n",
    "</ol>\n",
    "</div>\n"
   ]
  },
  {
   "cell_type": "code",
   "execution_count": 61,
   "metadata": {
    "collapsed": false
   },
   "outputs": [],
   "source": [
    "import pandas as pd                                     \n",
    "import numpy as np                                      \n",
    "import os                         \n",
    "\n",
    "\n",
    "import matplotlib.pyplot as plt\n",
    "\n",
    "from datetime import datetime\n",
    "\n",
    "%matplotlib inline\n",
    "import seaborn as sns                                   # For pretty plots\n",
    "\n",
    "\n",
    "from os import path\n",
    "from wordcloud import WordCloud\n",
    "from PIL import Image"
   ]
  },
  {
   "cell_type": "code",
   "execution_count": 62,
   "metadata": {
    "collapsed": false,
    "scrolled": true
   },
   "outputs": [
    {
     "data": {
      "text/plain": [
       "<wordcloud.wordcloud.WordCloud at 0x7ff514ea6710>"
      ]
     },
     "execution_count": 62,
     "metadata": {},
     "output_type": "execute_result"
    }
   ],
   "source": [
    "mask = np.array(Image.open(\"images/hillary.png\"))\n",
    "\n",
    "d = path.dirname(\"hillary-clinton-emails/\")\n",
    "\n",
    "# Read the whole text.\n",
    "text = open(path.join(d, 'Emails.csv')).read()\n",
    "\n",
    "# Generate a word cloud image\n",
    "wordcloud = WordCloud(background_color=\"black\", max_words=1000, mask=mask,\n",
    "               stopwords=stopwords)\n",
    "\n",
    "\n",
    "wordcloud.generate(text)\n",
    "\n",
    "# store to file\n",
    "wordcloud.to_file(\"images/cloud_no_stemming.png\")"
   ]
  },
  {
   "cell_type": "markdown",
   "metadata": {},
   "source": [
    "This gives us the following restult: \n",
    "\n",
    "<img src=\"images/cloud_no_stemming.png\" alt=\"Drawing\" style=\"width: 500px;\"/>"
   ]
  },
  {
   "cell_type": "code",
   "execution_count": 63,
   "metadata": {
    "collapsed": false
   },
   "outputs": [
    {
     "data": {
      "text/plain": [
       "<wordcloud.wordcloud.WordCloud at 0x7ff514ac7828>"
      ]
     },
     "execution_count": 63,
     "metadata": {},
     "output_type": "execute_result"
    }
   ],
   "source": [
    "stopwords = set(STOPWORDS)\n",
    "\n",
    "# Generate a word cloud image\n",
    "wordcloud = WordCloud(background_color=\"black\", max_words=1000, mask=mask,\n",
    "               stopwords=stopwords)\n",
    "\n",
    "wordcloud.generate(text)\n",
    "\n",
    "# store to file\n",
    "wordcloud.to_file(\"images/cloud_standard_stop_words.png\")"
   ]
  },
  {
   "cell_type": "markdown",
   "metadata": {},
   "source": [
    "This gives us the following restult: \n",
    "\n",
    "<img src=\"images/cloud_standard_stop_words.png\" alt=\"Drawing\" style=\"width: 500px;\"/>"
   ]
  },
  {
   "cell_type": "code",
   "execution_count": 64,
   "metadata": {
    "collapsed": false
   },
   "outputs": [
    {
     "data": {
      "text/plain": [
       "<wordcloud.wordcloud.WordCloud at 0x7ff514ac75c0>"
      ]
     },
     "execution_count": 64,
     "metadata": {},
     "output_type": "execute_result"
    }
   ],
   "source": [
    "from nltk.stem import *\n",
    "\n",
    "stemmer = SnowballStemmer(\"english\")\n",
    "stemmed_text = ' '.join([stemmer.stem(t) for t in text.split(\" \")])\n",
    "# Generate a word cloud image\n",
    "wordcloud = WordCloud(background_color=\"black\", max_words=1000, mask=mask,\n",
    "               stopwords=stopwords)\n",
    "\n",
    "wordcloud.generate(stemmed_text)\n",
    "\n",
    "# store to file\n",
    "wordcloud.to_file(\"images/cloud_stemmed.png\")"
   ]
  },
  {
   "cell_type": "code",
   "execution_count": 66,
   "metadata": {
    "collapsed": false
   },
   "outputs": [
    {
     "ename": "SyntaxError",
     "evalue": "invalid syntax (<ipython-input-66-362957b0ab70>, line 1)",
     "output_type": "error",
     "traceback": [
      "\u001b[1;36m  File \u001b[1;32m\"<ipython-input-66-362957b0ab70>\"\u001b[1;36m, line \u001b[1;32m1\u001b[0m\n\u001b[1;33m    This gives us the following restult:\u001b[0m\n\u001b[1;37m             ^\u001b[0m\n\u001b[1;31mSyntaxError\u001b[0m\u001b[1;31m:\u001b[0m invalid syntax\n"
     ]
    }
   ],
   "source": [
    "This gives us the following restult: \n",
    "\n",
    "<img src=\"images/cloud_stemmed.png\" alt=\"Drawing\" style=\"width: 500px;\"/>"
   ]
  },
  {
   "cell_type": "markdown",
   "metadata": {},
   "source": [
    "This gives us the following restult: \n",
    "\n",
    "<img src=\"images/cloud_standard_stop_words.png\" alt=\"Drawing\" style=\"width: 500px;\"/>"
   ]
  },
  {
   "cell_type": "code",
   "execution_count": null,
   "metadata": {
    "collapsed": true
   },
   "outputs": [],
   "source": []
  }
 ],
 "metadata": {
  "anaconda-cloud": {},
  "kernelspec": {
   "display_name": "Python [Root]",
   "language": "python",
   "name": "Python [Root]"
  },
  "language_info": {
   "codemirror_mode": {
    "name": "ipython",
    "version": 3
   },
   "file_extension": ".py",
   "mimetype": "text/x-python",
   "name": "python",
   "nbconvert_exporter": "python",
   "pygments_lexer": "ipython3",
   "version": "3.5.2"
  },
  "nav_menu": {},
  "toc": {
   "navigate_menu": true,
   "number_sections": false,
   "sideBar": false,
   "threshold": "3",
   "toc_cell": true,
   "toc_section_display": "block",
   "toc_window_display": false
  }
 },
 "nbformat": 4,
 "nbformat_minor": 1
}
