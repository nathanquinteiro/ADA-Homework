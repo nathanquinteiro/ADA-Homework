{
 "cells": [
  {
   "cell_type": "markdown",
   "metadata": {},
   "source": [
    "# Applied Machine Learning\n",
    "\n",
    "This Jupyter Notebook presents our solution for the Applied ML Homework of the ADA course at EPFL.  \n",
    "\n",
    "For this homework, we use a [football dataset](CrowdstormingDataJuly1st.csv) \n",
    "<sup id=\"fnref:1\"><a href=\"#fn:1\" rel=\"footnote\">1</a></sup>  from a company for sports statistics, containing data from all soccer players (N = 2053) playing in the first male divisions of England, Germany, France and Spain in the 2012-2013 season and all referees (N = 3147) that these players played under in their professional career.\n",
    "\n",
    "The two main goals of this homework is to:\n",
    "* Train a random forest classifier that given a soccer player description outputs his skin color\n",
    "* Use an unsupervised learning technique to cluster the soccer players in 2 disjoint clusters, and try to find if there are relation between the clusters and the players skin color.\n",
    "\n",
    "<div class=\"footnotes\">\n",
    "<hr/>\n",
    "<ol>\n",
    "<li id=\"fn:1\">\n",
    "<p>Since we all live in developped countries, we will use the term \"football\" instead of \"soccer\" for all the homework*<a href=\"#fnref:1\" rev=\"footnote\">&#8617;</a></p></li>\n",
    "</ol>\n",
    "</div>\n"
   ]
  },
  {
   "cell_type": "code",
   "execution_count": 223,
   "metadata": {
    "collapsed": false
   },
   "outputs": [],
   "source": [
    "import pandas as pd                                     \n",
    "import numpy as np                                      \n",
    "import os                                         \n",
    "\n",
    "from datetime import datetime\n",
    "\n",
    "%matplotlib inline\n",
    "import seaborn as sns                                   # For pretty plots"
   ]
  },
  {
   "cell_type": "code",
   "execution_count": 190,
   "metadata": {
    "collapsed": false
   },
   "outputs": [
    {
     "data": {
      "text/plain": [
       "(146028, 28)"
      ]
     },
     "execution_count": 190,
     "metadata": {},
     "output_type": "execute_result"
    }
   ],
   "source": [
    "data = pd.read_csv(\"data/CrowdstormingDataJuly1st.csv\")\n",
    "data.shape"
   ]
  },
  {
   "cell_type": "code",
   "execution_count": 191,
   "metadata": {
    "collapsed": false
   },
   "outputs": [
    {
     "data": {
      "text/html": [
       "<div>\n",
       "<table border=\"1\" class=\"dataframe\">\n",
       "  <thead>\n",
       "    <tr style=\"text-align: right;\">\n",
       "      <th></th>\n",
       "      <th>playerShort</th>\n",
       "      <th>player</th>\n",
       "      <th>club</th>\n",
       "      <th>leagueCountry</th>\n",
       "      <th>birthday</th>\n",
       "      <th>height</th>\n",
       "      <th>weight</th>\n",
       "      <th>position</th>\n",
       "      <th>games</th>\n",
       "      <th>victories</th>\n",
       "      <th>ties</th>\n",
       "      <th>defeats</th>\n",
       "      <th>goals</th>\n",
       "    </tr>\n",
       "  </thead>\n",
       "  <tbody>\n",
       "    <tr>\n",
       "      <th>0</th>\n",
       "      <td>lucas-wilchez</td>\n",
       "      <td>Lucas Wilchez</td>\n",
       "      <td>Real Zaragoza</td>\n",
       "      <td>Spain</td>\n",
       "      <td>31.08.1983</td>\n",
       "      <td>177.0</td>\n",
       "      <td>72.0</td>\n",
       "      <td>Attacking Midfielder</td>\n",
       "      <td>1</td>\n",
       "      <td>0</td>\n",
       "      <td>0</td>\n",
       "      <td>1</td>\n",
       "      <td>0</td>\n",
       "    </tr>\n",
       "    <tr>\n",
       "      <th>1</th>\n",
       "      <td>john-utaka</td>\n",
       "      <td>John Utaka</td>\n",
       "      <td>Montpellier HSC</td>\n",
       "      <td>France</td>\n",
       "      <td>08.01.1982</td>\n",
       "      <td>179.0</td>\n",
       "      <td>82.0</td>\n",
       "      <td>Right Winger</td>\n",
       "      <td>1</td>\n",
       "      <td>0</td>\n",
       "      <td>0</td>\n",
       "      <td>1</td>\n",
       "      <td>0</td>\n",
       "    </tr>\n",
       "    <tr>\n",
       "      <th>2</th>\n",
       "      <td>abdon-prats</td>\n",
       "      <td>Abdón Prats</td>\n",
       "      <td>RCD Mallorca</td>\n",
       "      <td>Spain</td>\n",
       "      <td>17.12.1992</td>\n",
       "      <td>181.0</td>\n",
       "      <td>79.0</td>\n",
       "      <td>NaN</td>\n",
       "      <td>1</td>\n",
       "      <td>0</td>\n",
       "      <td>1</td>\n",
       "      <td>0</td>\n",
       "      <td>0</td>\n",
       "    </tr>\n",
       "    <tr>\n",
       "      <th>3</th>\n",
       "      <td>pablo-mari</td>\n",
       "      <td>Pablo Marí</td>\n",
       "      <td>RCD Mallorca</td>\n",
       "      <td>Spain</td>\n",
       "      <td>31.08.1993</td>\n",
       "      <td>191.0</td>\n",
       "      <td>87.0</td>\n",
       "      <td>Center Back</td>\n",
       "      <td>1</td>\n",
       "      <td>1</td>\n",
       "      <td>0</td>\n",
       "      <td>0</td>\n",
       "      <td>0</td>\n",
       "    </tr>\n",
       "    <tr>\n",
       "      <th>4</th>\n",
       "      <td>ruben-pena</td>\n",
       "      <td>Rubén Peña</td>\n",
       "      <td>Real Valladolid</td>\n",
       "      <td>Spain</td>\n",
       "      <td>18.07.1991</td>\n",
       "      <td>172.0</td>\n",
       "      <td>70.0</td>\n",
       "      <td>Right Midfielder</td>\n",
       "      <td>1</td>\n",
       "      <td>1</td>\n",
       "      <td>0</td>\n",
       "      <td>0</td>\n",
       "      <td>0</td>\n",
       "    </tr>\n",
       "  </tbody>\n",
       "</table>\n",
       "</div>"
      ],
      "text/plain": [
       "     playerShort         player             club leagueCountry    birthday  \\\n",
       "0  lucas-wilchez  Lucas Wilchez    Real Zaragoza         Spain  31.08.1983   \n",
       "1     john-utaka     John Utaka  Montpellier HSC        France  08.01.1982   \n",
       "2    abdon-prats    Abdón Prats     RCD Mallorca         Spain  17.12.1992   \n",
       "3     pablo-mari     Pablo Marí     RCD Mallorca         Spain  31.08.1993   \n",
       "4     ruben-pena     Rubén Peña  Real Valladolid         Spain  18.07.1991   \n",
       "\n",
       "   height  weight              position  games  victories  ties  defeats  \\\n",
       "0   177.0    72.0  Attacking Midfielder      1          0     0        1   \n",
       "1   179.0    82.0          Right Winger      1          0     0        1   \n",
       "2   181.0    79.0                   NaN      1          0     1        0   \n",
       "3   191.0    87.0           Center Back      1          1     0        0   \n",
       "4   172.0    70.0      Right Midfielder      1          1     0        0   \n",
       "\n",
       "   goals  \n",
       "0      0  \n",
       "1      0  \n",
       "2      0  \n",
       "3      0  \n",
       "4      0  "
      ]
     },
     "execution_count": 191,
     "metadata": {},
     "output_type": "execute_result"
    }
   ],
   "source": [
    "data.ix[:,:13].head()"
   ]
  },
  {
   "cell_type": "code",
   "execution_count": 192,
   "metadata": {
    "collapsed": false
   },
   "outputs": [
    {
     "data": {
      "text/html": [
       "<div>\n",
       "<table border=\"1\" class=\"dataframe\">\n",
       "  <thead>\n",
       "    <tr style=\"text-align: right;\">\n",
       "      <th></th>\n",
       "      <th>yellowCards</th>\n",
       "      <th>yellowReds</th>\n",
       "      <th>redCards</th>\n",
       "      <th>photoID</th>\n",
       "      <th>rater1</th>\n",
       "      <th>rater2</th>\n",
       "      <th>refNum</th>\n",
       "      <th>refCountry</th>\n",
       "      <th>Alpha_3</th>\n",
       "      <th>meanIAT</th>\n",
       "      <th>nIAT</th>\n",
       "      <th>seIAT</th>\n",
       "      <th>meanExp</th>\n",
       "      <th>nExp</th>\n",
       "      <th>seExp</th>\n",
       "    </tr>\n",
       "  </thead>\n",
       "  <tbody>\n",
       "    <tr>\n",
       "      <th>0</th>\n",
       "      <td>0</td>\n",
       "      <td>0</td>\n",
       "      <td>0</td>\n",
       "      <td>95212.jpg</td>\n",
       "      <td>0.25</td>\n",
       "      <td>0.50</td>\n",
       "      <td>1</td>\n",
       "      <td>1</td>\n",
       "      <td>GRC</td>\n",
       "      <td>0.326391</td>\n",
       "      <td>712.0</td>\n",
       "      <td>0.000564</td>\n",
       "      <td>0.396000</td>\n",
       "      <td>750.0</td>\n",
       "      <td>0.002696</td>\n",
       "    </tr>\n",
       "    <tr>\n",
       "      <th>1</th>\n",
       "      <td>1</td>\n",
       "      <td>0</td>\n",
       "      <td>0</td>\n",
       "      <td>1663.jpg</td>\n",
       "      <td>0.75</td>\n",
       "      <td>0.75</td>\n",
       "      <td>2</td>\n",
       "      <td>2</td>\n",
       "      <td>ZMB</td>\n",
       "      <td>0.203375</td>\n",
       "      <td>40.0</td>\n",
       "      <td>0.010875</td>\n",
       "      <td>-0.204082</td>\n",
       "      <td>49.0</td>\n",
       "      <td>0.061504</td>\n",
       "    </tr>\n",
       "    <tr>\n",
       "      <th>2</th>\n",
       "      <td>1</td>\n",
       "      <td>0</td>\n",
       "      <td>0</td>\n",
       "      <td>NaN</td>\n",
       "      <td>NaN</td>\n",
       "      <td>NaN</td>\n",
       "      <td>3</td>\n",
       "      <td>3</td>\n",
       "      <td>ESP</td>\n",
       "      <td>0.369894</td>\n",
       "      <td>1785.0</td>\n",
       "      <td>0.000229</td>\n",
       "      <td>0.588297</td>\n",
       "      <td>1897.0</td>\n",
       "      <td>0.001002</td>\n",
       "    </tr>\n",
       "    <tr>\n",
       "      <th>3</th>\n",
       "      <td>0</td>\n",
       "      <td>0</td>\n",
       "      <td>0</td>\n",
       "      <td>NaN</td>\n",
       "      <td>NaN</td>\n",
       "      <td>NaN</td>\n",
       "      <td>3</td>\n",
       "      <td>3</td>\n",
       "      <td>ESP</td>\n",
       "      <td>0.369894</td>\n",
       "      <td>1785.0</td>\n",
       "      <td>0.000229</td>\n",
       "      <td>0.588297</td>\n",
       "      <td>1897.0</td>\n",
       "      <td>0.001002</td>\n",
       "    </tr>\n",
       "    <tr>\n",
       "      <th>4</th>\n",
       "      <td>0</td>\n",
       "      <td>0</td>\n",
       "      <td>0</td>\n",
       "      <td>NaN</td>\n",
       "      <td>NaN</td>\n",
       "      <td>NaN</td>\n",
       "      <td>3</td>\n",
       "      <td>3</td>\n",
       "      <td>ESP</td>\n",
       "      <td>0.369894</td>\n",
       "      <td>1785.0</td>\n",
       "      <td>0.000229</td>\n",
       "      <td>0.588297</td>\n",
       "      <td>1897.0</td>\n",
       "      <td>0.001002</td>\n",
       "    </tr>\n",
       "  </tbody>\n",
       "</table>\n",
       "</div>"
      ],
      "text/plain": [
       "   yellowCards  yellowReds  redCards    photoID  rater1  rater2  refNum  \\\n",
       "0            0           0         0  95212.jpg    0.25    0.50       1   \n",
       "1            1           0         0   1663.jpg    0.75    0.75       2   \n",
       "2            1           0         0        NaN     NaN     NaN       3   \n",
       "3            0           0         0        NaN     NaN     NaN       3   \n",
       "4            0           0         0        NaN     NaN     NaN       3   \n",
       "\n",
       "   refCountry Alpha_3   meanIAT    nIAT     seIAT   meanExp    nExp     seExp  \n",
       "0           1     GRC  0.326391   712.0  0.000564  0.396000   750.0  0.002696  \n",
       "1           2     ZMB  0.203375    40.0  0.010875 -0.204082    49.0  0.061504  \n",
       "2           3     ESP  0.369894  1785.0  0.000229  0.588297  1897.0  0.001002  \n",
       "3           3     ESP  0.369894  1785.0  0.000229  0.588297  1897.0  0.001002  \n",
       "4           3     ESP  0.369894  1785.0  0.000229  0.588297  1897.0  0.001002  "
      ]
     },
     "execution_count": 192,
     "metadata": {},
     "output_type": "execute_result"
    }
   ],
   "source": [
    "data.ix[:,13:].head()"
   ]
  },
  {
   "cell_type": "markdown",
   "metadata": {},
   "source": [
    "## Data checking"
   ]
  },
  {
   "cell_type": "markdown",
   "metadata": {},
   "source": [
    "### What are the games in our data?\n",
    "\n",
    "Each row correspond to a dyad (a player-referree link) and the games column represents the number of time the player played with the referee.   \n",
    "\n",
    "We check with one example, former Chelsea player Ramires, who according to wikipedia <https://en.wikipedia.org/wiki/Ramires>, played 365 official games as to summer 2013, counting games with Joinville, Cruzeiro, Benfica, Chelsea and Brazil national team."
   ]
  },
  {
   "cell_type": "code",
   "execution_count": 193,
   "metadata": {
    "collapsed": false
   },
   "outputs": [
    {
     "data": {
      "text/plain": [
       "363"
      ]
     },
     "execution_count": 193,
     "metadata": {},
     "output_type": "execute_result"
    }
   ],
   "source": [
    "sum(data[data.playerShort == \"ramires\"].games)"
   ]
  },
  {
   "cell_type": "markdown",
   "metadata": {},
   "source": [
    "We see that the numbers correspond (The difference of 2 is not relevant, we don't know exactly when the data where taken).    \n",
    "\n",
    "This means that the data correspond to ALL matches of the players carrer as to summer 2013, in all different leagues and national teams encounters, not only the Spanish, German, French or English league."
   ]
  },
  {
   "cell_type": "markdown",
   "metadata": {},
   "source": [
    "### Players info consistency\n",
    "\n",
    "We want to check if players info are consistent. We first compute the total number of players using their short names."
   ]
  },
  {
   "cell_type": "code",
   "execution_count": 194,
   "metadata": {
    "collapsed": false
   },
   "outputs": [
    {
     "name": "stdout",
     "output_type": "stream",
     "text": [
      "Number of players:  2053\n"
     ]
    }
   ],
   "source": [
    "nb_players = len(data.groupby(\"playerShort\"))\n",
    "print(\"Number of players: \", nb_players)"
   ]
  },
  {
   "cell_type": "markdown",
   "metadata": {},
   "source": [
    "We then try to group the players by short names and other features. If the number of group is the same, this means that the data are consistent. \n",
    "\n",
    "A difference means that the data of the player change throughout the time.\n",
    "\n",
    "The interesting features, the ones we assume should or may be consistent are the following :\n",
    "* The name of the player\n",
    "* His club\n",
    "* The country of his club\n",
    "* His birthday\n",
    "* His weight\n",
    "* His height\n",
    "* His position\n",
    "* His photo\n",
    "* The two skin colors rating"
   ]
  },
  {
   "cell_type": "code",
   "execution_count": 195,
   "metadata": {
    "collapsed": false
   },
   "outputs": [
    {
     "name": "stdout",
     "output_type": "stream",
     "text": [
      "player is consistent with the player\n",
      "club is consistent with the player\n",
      "leagueCountry is consistent with the player\n",
      "birthday is consistent with the player\n",
      "height is not consistent with the player\n",
      "weight is not consistent with the player\n",
      "position is consistent with the player\n",
      "photoID is consistent with the player\n",
      "rater1 is not consistent with the player\n",
      "rater2 is not consistent with the player\n"
     ]
    }
   ],
   "source": [
    "interesting_features = data.columns[1:8].append(data.columns[16:19])\n",
    "for feature in interesting_features:\n",
    "    groupedBy = [\"playerShort\", feature]\n",
    "    if(len(data.groupby(groupedBy)) == nb_players):\n",
    "        print(feature, \"is consistent with the player\")\n",
    "    else:\n",
    "        print(feature, \"is not consistent with the player\")       \n",
    "        \n",
    "        "
   ]
  },
  {
   "cell_type": "markdown",
   "metadata": {},
   "source": [
    "We see that through all these features only the height, weight and skin color rating varies for a player.   \n",
    "\n",
    "The club is the same, this means that the club only correspond to the one the player was when the data was aquired, it doesn't give the history of the player's carreer. \n",
    "\n",
    "Unsurprisingly, the country of the club corresponds too. Same for the birthday.\n",
    "\n",
    "What is surprising, is that **the weight and the height change. This is not what we expected**. Since each rows correspond to a dyad player-referee and can contain several games, it is not possible to represent the history of weight/height for a player, since the dyad contains only one value, but the player can change his weight between two games with the same referee. We therefore tought that the weight/height was the same for all rows of a player and represented their value at the moment the data was aquired. \n",
    "\n",
    "We also find suprising that the skin color rate change, since the photo is the same.  \n",
    "\n",
    "So let's take a look at these values to determine if there exists significant differences."
   ]
  },
  {
   "cell_type": "markdown",
   "metadata": {},
   "source": [
    "### Height and Weight differences"
   ]
  },
  {
   "cell_type": "code",
   "execution_count": 196,
   "metadata": {
    "collapsed": false
   },
   "outputs": [
    {
     "data": {
      "text/plain": [
       "weight    0.025487\n",
       "height    0.020973\n",
       "dtype: float64"
      ]
     },
     "execution_count": 196,
     "metadata": {},
     "output_type": "execute_result"
    }
   ],
   "source": [
    "data_weight_height = data[[\"player\",\"weight\", \"height\"]]\n",
    "std = data_weight_height.groupby(\"player\").std().reset_index()\n",
    "\n",
    "std.mean()"
   ]
  },
  {
   "cell_type": "markdown",
   "metadata": {},
   "source": [
    "We see that the standard deviation of the weight/height of the player is very low in average (0.025 kg and 0.02 centimeter). We will now focus on the min-max values for each players to see if there can be significant differences or not."
   ]
  },
  {
   "cell_type": "code",
   "execution_count": 197,
   "metadata": {
    "collapsed": false
   },
   "outputs": [
    {
     "data": {
      "text/plain": [
       "array([[<matplotlib.axes._subplots.AxesSubplot object at 0x7f2971e4d5f8>,\n",
       "        <matplotlib.axes._subplots.AxesSubplot object at 0x7f2971e66208>]], dtype=object)"
      ]
     },
     "execution_count": 197,
     "metadata": {},
     "output_type": "execute_result"
    },
    {
     "data": {
      "image/png": "[encoded data removed]",
      "text/plain": [
       "<matplotlib.figure.Figure at 0x7f2971e4deb8>"
      ]
     },
     "metadata": {},
     "output_type": "display_data"
    }
   ],
   "source": [
    "max_diff = data_weight_height.groupby(\"player\").max() - data_weight_height.groupby(\"player\").min()\n",
    "max_diff.columns = [\"Weight difference\", \"Height difference\"]\n",
    "max_diff.hist(bins=25,grid=False)"
   ]
  },
  {
   "cell_type": "code",
   "execution_count": 198,
   "metadata": {
    "collapsed": false
   },
   "outputs": [
    {
     "data": {
      "text/html": [
       "<div>\n",
       "<table border=\"1\" class=\"dataframe\">\n",
       "  <thead>\n",
       "    <tr style=\"text-align: right;\">\n",
       "      <th></th>\n",
       "      <th>Weight difference</th>\n",
       "      <th>Number of players</th>\n",
       "    </tr>\n",
       "  </thead>\n",
       "  <tbody>\n",
       "    <tr>\n",
       "      <th>0</th>\n",
       "      <td>0.0</td>\n",
       "      <td>1937</td>\n",
       "    </tr>\n",
       "    <tr>\n",
       "      <th>1</th>\n",
       "      <td>1.0</td>\n",
       "      <td>2</td>\n",
       "    </tr>\n",
       "    <tr>\n",
       "      <th>2</th>\n",
       "      <td>2.0</td>\n",
       "      <td>2</td>\n",
       "    </tr>\n",
       "    <tr>\n",
       "      <th>3</th>\n",
       "      <td>3.0</td>\n",
       "      <td>2</td>\n",
       "    </tr>\n",
       "    <tr>\n",
       "      <th>4</th>\n",
       "      <td>4.0</td>\n",
       "      <td>1</td>\n",
       "    </tr>\n",
       "    <tr>\n",
       "      <th>5</th>\n",
       "      <td>5.0</td>\n",
       "      <td>3</td>\n",
       "    </tr>\n",
       "    <tr>\n",
       "      <th>6</th>\n",
       "      <td>6.0</td>\n",
       "      <td>3</td>\n",
       "    </tr>\n",
       "    <tr>\n",
       "      <th>7</th>\n",
       "      <td>9.0</td>\n",
       "      <td>2</td>\n",
       "    </tr>\n",
       "    <tr>\n",
       "      <th>8</th>\n",
       "      <td>19.0</td>\n",
       "      <td>1</td>\n",
       "    </tr>\n",
       "    <tr>\n",
       "      <th>9</th>\n",
       "      <td>22.0</td>\n",
       "      <td>1</td>\n",
       "    </tr>\n",
       "  </tbody>\n",
       "</table>\n",
       "</div>"
      ],
      "text/plain": [
       "   Weight difference  Number of players\n",
       "0                0.0               1937\n",
       "1                1.0                  2\n",
       "2                2.0                  2\n",
       "3                3.0                  2\n",
       "4                4.0                  1\n",
       "5                5.0                  3\n",
       "6                6.0                  3\n",
       "7                9.0                  2\n",
       "8               19.0                  1\n",
       "9               22.0                  1"
      ]
     },
     "execution_count": 198,
     "metadata": {},
     "output_type": "execute_result"
    }
   ],
   "source": [
    "weight_diff = max_diff.groupby(\"Weight difference\").count().reset_index()\n",
    "weight_diff.columns = [\"Weight difference\", \"Number of players\"]\n",
    "weight_diff"
   ]
  },
  {
   "cell_type": "code",
   "execution_count": 199,
   "metadata": {
    "collapsed": false
   },
   "outputs": [
    {
     "data": {
      "text/html": [
       "<div>\n",
       "<table border=\"1\" class=\"dataframe\">\n",
       "  <thead>\n",
       "    <tr style=\"text-align: right;\">\n",
       "      <th></th>\n",
       "      <th>Height difference</th>\n",
       "      <th>Number of players</th>\n",
       "    </tr>\n",
       "  </thead>\n",
       "  <tbody>\n",
       "    <tr>\n",
       "      <th>0</th>\n",
       "      <td>0.0</td>\n",
       "      <td>1939</td>\n",
       "    </tr>\n",
       "    <tr>\n",
       "      <th>1</th>\n",
       "      <td>1.0</td>\n",
       "      <td>1</td>\n",
       "    </tr>\n",
       "    <tr>\n",
       "      <th>2</th>\n",
       "      <td>2.0</td>\n",
       "      <td>3</td>\n",
       "    </tr>\n",
       "    <tr>\n",
       "      <th>3</th>\n",
       "      <td>3.0</td>\n",
       "      <td>1</td>\n",
       "    </tr>\n",
       "    <tr>\n",
       "      <th>4</th>\n",
       "      <td>4.0</td>\n",
       "      <td>2</td>\n",
       "    </tr>\n",
       "    <tr>\n",
       "      <th>5</th>\n",
       "      <td>5.0</td>\n",
       "      <td>2</td>\n",
       "    </tr>\n",
       "    <tr>\n",
       "      <th>6</th>\n",
       "      <td>7.0</td>\n",
       "      <td>1</td>\n",
       "    </tr>\n",
       "    <tr>\n",
       "      <th>7</th>\n",
       "      <td>8.0</td>\n",
       "      <td>1</td>\n",
       "    </tr>\n",
       "    <tr>\n",
       "      <th>8</th>\n",
       "      <td>10.0</td>\n",
       "      <td>1</td>\n",
       "    </tr>\n",
       "    <tr>\n",
       "      <th>9</th>\n",
       "      <td>11.0</td>\n",
       "      <td>1</td>\n",
       "    </tr>\n",
       "    <tr>\n",
       "      <th>10</th>\n",
       "      <td>12.0</td>\n",
       "      <td>1</td>\n",
       "    </tr>\n",
       "    <tr>\n",
       "      <th>11</th>\n",
       "      <td>15.0</td>\n",
       "      <td>1</td>\n",
       "    </tr>\n",
       "  </tbody>\n",
       "</table>\n",
       "</div>"
      ],
      "text/plain": [
       "    Height difference  Number of players\n",
       "0                 0.0               1939\n",
       "1                 1.0                  1\n",
       "2                 2.0                  3\n",
       "3                 3.0                  1\n",
       "4                 4.0                  2\n",
       "5                 5.0                  2\n",
       "6                 7.0                  1\n",
       "7                 8.0                  1\n",
       "8                10.0                  1\n",
       "9                11.0                  1\n",
       "10               12.0                  1\n",
       "11               15.0                  1"
      ]
     },
     "execution_count": 199,
     "metadata": {},
     "output_type": "execute_result"
    }
   ],
   "source": [
    "height_diff = max_diff.groupby(\"Height difference\").count().reset_index()\n",
    "height_diff.columns = [\"Height difference\", \"Number of players\"]\n",
    "height_diff"
   ]
  },
  {
   "cell_type": "markdown",
   "metadata": {},
   "source": [
    "We observe that the vast majority of players (> 99%) have the same height/weight in all dyads. There are only a few outliers with up to 15 centimeter and 22 kg difference. We assume that it is acceptable to simply average the weight/height of the players."
   ]
  },
  {
   "cell_type": "markdown",
   "metadata": {},
   "source": [
    "### Skin color differences (for the same rater)\n",
    "\n",
    "We saw that our consistency loop tells us that the skin color rating of the players is not consistent, it seems that the rating may vary from one dyad to another with the same player. This would mean that the data is inconsistent and therefore need to be cleaned. This is why we proceed for a bigger check, to be sure that the values vary and to determine how much they vary."
   ]
  },
  {
   "cell_type": "code",
   "execution_count": 200,
   "metadata": {
    "collapsed": false
   },
   "outputs": [
    {
     "data": {
      "text/plain": [
       "rater1    0.0\n",
       "rater2    0.0\n",
       "dtype: float64"
      ]
     },
     "execution_count": 200,
     "metadata": {},
     "output_type": "execute_result"
    }
   ],
   "source": [
    "data_skin = data[[\"playerShort\",\"rater1\", \"rater2\"]]\n",
    "std = data_skin.groupby(\"playerShort\").std().reset_index()\n",
    "std.mean()"
   ]
  },
  {
   "cell_type": "code",
   "execution_count": 201,
   "metadata": {
    "collapsed": false
   },
   "outputs": [],
   "source": [
    "max_diff = data_skin.groupby(\"playerShort\").max() - data_skin.groupby(\"playerShort\").min()\n",
    "max_diff.columns = [\"Rater 1 difference\", \"Rater 2 difference\"]"
   ]
  },
  {
   "cell_type": "code",
   "execution_count": 202,
   "metadata": {
    "collapsed": false
   },
   "outputs": [
    {
     "data": {
      "text/html": [
       "<div>\n",
       "<table border=\"1\" class=\"dataframe\">\n",
       "  <thead>\n",
       "    <tr style=\"text-align: right;\">\n",
       "      <th></th>\n",
       "      <th>Rater 1 difference</th>\n",
       "      <th>Number of players</th>\n",
       "    </tr>\n",
       "  </thead>\n",
       "  <tbody>\n",
       "    <tr>\n",
       "      <th>0</th>\n",
       "      <td>0.0</td>\n",
       "      <td>1585</td>\n",
       "    </tr>\n",
       "  </tbody>\n",
       "</table>\n",
       "</div>"
      ],
      "text/plain": [
       "   Rater 1 difference  Number of players\n",
       "0                 0.0               1585"
      ]
     },
     "execution_count": 202,
     "metadata": {},
     "output_type": "execute_result"
    }
   ],
   "source": [
    "rater1_diff = max_diff.groupby(\"Rater 1 difference\").count().reset_index()\n",
    "rater1_diff.columns = [\"Rater 1 difference\", \"Number of players\"]\n",
    "rater1_diff"
   ]
  },
  {
   "cell_type": "code",
   "execution_count": 203,
   "metadata": {
    "collapsed": false
   },
   "outputs": [
    {
     "data": {
      "text/html": [
       "<div>\n",
       "<table border=\"1\" class=\"dataframe\">\n",
       "  <thead>\n",
       "    <tr style=\"text-align: right;\">\n",
       "      <th></th>\n",
       "      <th>Rater 2 difference</th>\n",
       "      <th>Number of players</th>\n",
       "    </tr>\n",
       "  </thead>\n",
       "  <tbody>\n",
       "    <tr>\n",
       "      <th>0</th>\n",
       "      <td>0.0</td>\n",
       "      <td>1585</td>\n",
       "    </tr>\n",
       "  </tbody>\n",
       "</table>\n",
       "</div>"
      ],
      "text/plain": [
       "   Rater 2 difference  Number of players\n",
       "0                 0.0               1585"
      ]
     },
     "execution_count": 203,
     "metadata": {},
     "output_type": "execute_result"
    }
   ],
   "source": [
    "rater2_diff = max_diff.groupby(\"Rater 2 difference\").count().reset_index()\n",
    "rater2_diff.columns = [\"Rater 2 difference\", \"Number of players\"]\n",
    "rater2_diff"
   ]
  },
  {
   "cell_type": "markdown",
   "metadata": {},
   "source": [
    "We see that the differences in rating is actually null. The function we used to check if the data is consistent is not robust and returned fals for the ratings because of some corner case. The skin color ratings therefore needs no cleaning."
   ]
  },
  {
   "cell_type": "markdown",
   "metadata": {},
   "source": [
    "### Skin color differences (between the two raters)\n",
    "\n",
    "The two columns, rater1 and rater2, represents the skin rating of player by the two raters (5-point scale ranging from “very light skin” to “very dark skin”).   \n",
    "We want to ensure the rating makes sense and that the differences between the two raters are not to significant.    \n",
    "\n",
    "We therefore compute the differences between the two raters and print a histogram.\n"
   ]
  },
  {
   "cell_type": "code",
   "execution_count": 204,
   "metadata": {
    "collapsed": false
   },
   "outputs": [
    {
     "data": {
      "text/html": [
       "<div>\n",
       "<table border=\"1\" class=\"dataframe\">\n",
       "  <thead>\n",
       "    <tr style=\"text-align: right;\">\n",
       "      <th></th>\n",
       "      <th>raterDiff</th>\n",
       "      <th>occurrences</th>\n",
       "    </tr>\n",
       "  </thead>\n",
       "  <tbody>\n",
       "    <tr>\n",
       "      <th>0</th>\n",
       "      <td>-0.50</td>\n",
       "      <td>164</td>\n",
       "    </tr>\n",
       "    <tr>\n",
       "      <th>1</th>\n",
       "      <td>-0.25</td>\n",
       "      <td>23830</td>\n",
       "    </tr>\n",
       "    <tr>\n",
       "      <th>2</th>\n",
       "      <td>0.00</td>\n",
       "      <td>95714</td>\n",
       "    </tr>\n",
       "    <tr>\n",
       "      <th>3</th>\n",
       "      <td>0.25</td>\n",
       "      <td>4913</td>\n",
       "    </tr>\n",
       "  </tbody>\n",
       "</table>\n",
       "</div>"
      ],
      "text/plain": [
       "   raterDiff  occurrences\n",
       "0      -0.50          164\n",
       "1      -0.25        23830\n",
       "2       0.00        95714\n",
       "3       0.25         4913"
      ]
     },
     "execution_count": 204,
     "metadata": {},
     "output_type": "execute_result"
    },
    {
     "data": {
      "image/png": "[encoded data removed]",
      "text/plain": [
       "<matplotlib.figure.Figure at 0x7f2971fa3860>"
      ]
     },
     "metadata": {},
     "output_type": "display_data"
    }
   ],
   "source": [
    "#Takes only skin color ratings\n",
    "raterData = data[['rater1','rater2']]\n",
    "raterData = raterData.dropna(axis=0, how=\"any\")\n",
    "#Compute differences between the two raters\n",
    "raterData['raterDiff']=(raterData.rater1-raterData.rater2)\n",
    "#Display histogram\n",
    "raterData.raterDiff.hist(bins=25,grid=False)\n",
    "#Display array with differences\n",
    "Diff = pd.DataFrame(raterData.groupby('raterDiff').count()[\"rater1\"].reset_index())\n",
    "Diff.columns =[\"raterDiff\", \"occurrences\"]\n",
    "Diff"
   ]
  },
  {
   "cell_type": "code",
   "execution_count": 205,
   "metadata": {
    "collapsed": false
   },
   "outputs": [
    {
     "name": "stdout",
     "output_type": "stream",
     "text": [
      "The two rating match for 76.8% of the players\n",
      "Rater1 rates 2 point lighter for 0.1% of the players\n",
      "Rater1 rates 1 point lighter for 19.1% of the players\n",
      "Rater2 rates 1 point lighter for 3.9% of the players\n"
     ]
    }
   ],
   "source": [
    "matchRate = Diff[Diff.raterDiff == 0].occurrences / sum(Diff.occurrences) * 100\n",
    "m05diff = Diff[Diff.raterDiff == -0.5].occurrences / sum(Diff.occurrences) * 100\n",
    "m025diff = Diff[Diff.raterDiff == -0.25].occurrences / sum(Diff.occurrences) * 100\n",
    "p025diff = Diff[Diff.raterDiff == 0.25].occurrences / sum(Diff.occurrences) * 100\n",
    "print(\"The two rating match for %2.1f%% of the players\" %matchRate)\n",
    "print(\"Rater1 rates 2 point lighter for %2.1f%% of the players\" %m05diff)\n",
    "print(\"Rater1 rates 1 point lighter for %2.1f%% of the players\" %m025diff)\n",
    "print(\"Rater2 rates 1 point lighter for %2.1f%% of the players\" %p025diff)"
   ]
  },
  {
   "cell_type": "markdown",
   "metadata": {},
   "source": [
    "We observe that the skin ratings matches for **76.8%** of the players. The rater1 has a higher tendancy to rate the skin color lighter thant the rater2, he does it for **19.1%** of the players. on the other hands, it is rare that rater2 gives a lighter rate than rater1, only for **3.9%** of the players. It almost never happens that the differences is two points, only for **0.1%** of the players, and there is no case of 3 or 4 points differences.\n",
    "\n",
    "\n",
    "These values shows that there is no complete incoherrent rating on the overall skin rating data, there is no need to clean them."
   ]
  },
  {
   "cell_type": "markdown",
   "metadata": {},
   "source": [
    "## Data Cleaning\n",
    "\n",
    "In order to clean the data, we first check where are unknown values"
   ]
  },
  {
   "cell_type": "code",
   "execution_count": 206,
   "metadata": {
    "collapsed": false
   },
   "outputs": [
    {
     "name": "stdout",
     "output_type": "stream",
     "text": [
      "height has null value(s)\n",
      "weight has null value(s)\n",
      "position has null value(s)\n",
      "photoID has null value(s)\n",
      "rater1 has null value(s)\n",
      "rater2 has null value(s)\n",
      "Alpha_3 has null value(s)\n",
      "meanIAT has null value(s)\n",
      "nIAT has null value(s)\n",
      "seIAT has null value(s)\n",
      "meanExp has null value(s)\n",
      "nExp has null value(s)\n",
      "seExp has null value(s)\n"
     ]
    }
   ],
   "source": [
    "for feature in data:\n",
    "    if data[feature].isnull().any():\n",
    "        print(feature, \"has null value(s)\")"
   ]
  },
  {
   "cell_type": "markdown",
   "metadata": {},
   "source": [
    "We observe that a few columns contains unkown values.   "
   ]
  },
  {
   "cell_type": "markdown",
   "metadata": {},
   "source": [
    "### Height and Weight values\n",
    "Since we will later aggregate the data by players, we will have the possibility of averaging the heights and weights of players and not taking the null value into account, we then decide to let them untouched for the moment"
   ]
  },
  {
   "cell_type": "code",
   "execution_count": 207,
   "metadata": {
    "collapsed": false
   },
   "outputs": [
    {
     "data": {
      "text/plain": [
       "(263, 28)"
      ]
     },
     "execution_count": 207,
     "metadata": {},
     "output_type": "execute_result"
    }
   ],
   "source": [
    "data[data[\"height\"].isnull()].shape"
   ]
  },
  {
   "cell_type": "code",
   "execution_count": 208,
   "metadata": {
    "collapsed": false
   },
   "outputs": [
    {
     "data": {
      "text/plain": [
       "(2243, 28)"
      ]
     },
     "execution_count": 208,
     "metadata": {},
     "output_type": "execute_result"
    }
   ],
   "source": [
    "data[data[\"weight\"].isnull()].shape"
   ]
  },
  {
   "cell_type": "markdown",
   "metadata": {},
   "source": [
    "### Position\n",
    "There is a significant amount of unkown position for players. We accept to have unknown values for the player position and we can treat them later when we aggregate the players.   "
   ]
  },
  {
   "cell_type": "code",
   "execution_count": 209,
   "metadata": {
    "collapsed": false
   },
   "outputs": [
    {
     "data": {
      "text/plain": [
       "(17726, 28)"
      ]
     },
     "execution_count": 209,
     "metadata": {},
     "output_type": "execute_result"
    }
   ],
   "source": [
    "data[data[\"position\"].isnull()].shape"
   ]
  },
  {
   "cell_type": "markdown",
   "metadata": {},
   "source": [
    "### Skin color\n",
    "The skin color of the player, indicated by **rater1** and **rater2** are absolutely necessary to train and test our model.    \n",
    "We evaluate the number of unknown skin color rate and check that it corresponds to the players with no picture."
   ]
  },
  {
   "cell_type": "code",
   "execution_count": 210,
   "metadata": {
    "collapsed": false
   },
   "outputs": [
    {
     "data": {
      "text/plain": [
       "(21407, 28)"
      ]
     },
     "execution_count": 210,
     "metadata": {},
     "output_type": "execute_result"
    }
   ],
   "source": [
    "data[data[\"rater1\"].isnull()].shape"
   ]
  },
  {
   "cell_type": "code",
   "execution_count": 211,
   "metadata": {
    "collapsed": false
   },
   "outputs": [
    {
     "data": {
      "text/plain": [
       "True"
      ]
     },
     "execution_count": 211,
     "metadata": {},
     "output_type": "execute_result"
    }
   ],
   "source": [
    "data[data[\"rater1\"].isnull()].shape == data[data[\"rater2\"].isnull()].shape"
   ]
  },
  {
   "cell_type": "code",
   "execution_count": 212,
   "metadata": {
    "collapsed": false
   },
   "outputs": [
    {
     "data": {
      "text/plain": [
       "True"
      ]
     },
     "execution_count": 212,
     "metadata": {},
     "output_type": "execute_result"
    }
   ],
   "source": [
    "data[data[\"rater1\"].isnull()].shape == data[data[\"photoID\"].isnull()].shape"
   ]
  },
  {
   "cell_type": "markdown",
   "metadata": {},
   "source": [
    "We decide then to remove the players with unknown skin type."
   ]
  },
  {
   "cell_type": "code",
   "execution_count": 277,
   "metadata": {
    "collapsed": false
   },
   "outputs": [
    {
     "data": {
      "text/plain": [
       "124621"
      ]
     },
     "execution_count": 277,
     "metadata": {},
     "output_type": "execute_result"
    }
   ],
   "source": [
    "data_clean = data.copy().dropna(subset=['rater1', 'rater2'])\n",
    "len(data_clean)"
   ]
  },
  {
   "cell_type": "code",
   "execution_count": 278,
   "metadata": {
    "collapsed": false
   },
   "outputs": [],
   "source": [
    "data_clean[\"skin_color\"] = np.mean(data_clean[[\"rater1\",\"rater2\"]], axis=1)\n",
    "data_clean = data_clean.drop([\"rater1\",\"rater2\"], axis=1)"
   ]
  },
  {
   "cell_type": "markdown",
   "metadata": {},
   "source": [
    "### Birthday\n",
    "\n",
    "If we want to be able to treat properly the birthday, we need to convert them into numerical values. We chose to convert them in days after the 1.1.1970."
   ]
  },
  {
   "cell_type": "code",
   "execution_count": 279,
   "metadata": {
    "collapsed": false
   },
   "outputs": [],
   "source": [
    "birthday_days = []\n",
    "i = 0\n",
    "for birthday in data_clean[\"birthday\"]:\n",
    "    birthday_seconds = (datetime.strptime(birthday, '%d.%m.%Y') - datetime(1970,1,1)).total_seconds()\n",
    "    birthday_days.append(birthday_seconds/3600.0/24)\n",
    "data_clean[\"birthday\"] = birthday_days"
   ]
  },
  {
   "cell_type": "markdown",
   "metadata": {},
   "source": [
    " \n",
    " "
   ]
  },
  {
   "cell_type": "code",
   "execution_count": null,
   "metadata": {
    "collapsed": true
   },
   "outputs": [],
   "source": []
  },
  {
   "cell_type": "code",
   "execution_count": null,
   "metadata": {
    "collapsed": true
   },
   "outputs": [],
   "source": []
  },
  {
   "cell_type": "markdown",
   "metadata": {},
   "source": [
    "### Implicit and Explicit bias score\n",
    "\n",
    "We evaluate the values of the implicit and explicit bias score to determine how much values are missing"
   ]
  },
  {
   "cell_type": "code",
   "execution_count": 282,
   "metadata": {
    "collapsed": false
   },
   "outputs": [
    {
     "data": {
      "text/plain": [
       "(153, 27)"
      ]
     },
     "execution_count": 282,
     "metadata": {},
     "output_type": "execute_result"
    }
   ],
   "source": [
    "data_clean[data_clean[\"meanIAT\"].isnull()].shape"
   ]
  },
  {
   "cell_type": "code",
   "execution_count": 283,
   "metadata": {
    "collapsed": false
   },
   "outputs": [
    {
     "data": {
      "text/plain": [
       "True"
      ]
     },
     "execution_count": 283,
     "metadata": {},
     "output_type": "execute_result"
    }
   ],
   "source": [
    "data_clean[data_clean[\"meanIAT\"].isnull()].shape == data_clean[data_clean[\"nIAT\"].isnull()].shape"
   ]
  },
  {
   "cell_type": "code",
   "execution_count": 284,
   "metadata": {
    "collapsed": false
   },
   "outputs": [
    {
     "data": {
      "text/plain": [
       "True"
      ]
     },
     "execution_count": 284,
     "metadata": {},
     "output_type": "execute_result"
    }
   ],
   "source": [
    "data_clean[data_clean[\"meanIAT\"].isnull()].shape == data_clean[data_clean[\"seIAT\"].isnull()].shape"
   ]
  },
  {
   "cell_type": "code",
   "execution_count": 285,
   "metadata": {
    "collapsed": false
   },
   "outputs": [
    {
     "data": {
      "text/plain": [
       "True"
      ]
     },
     "execution_count": 285,
     "metadata": {},
     "output_type": "execute_result"
    }
   ],
   "source": [
    "data_clean[data_clean[\"meanIAT\"].isnull()].shape == data_clean[data_clean[\"meanExp\"].isnull()].shape"
   ]
  },
  {
   "cell_type": "code",
   "execution_count": 286,
   "metadata": {
    "collapsed": false
   },
   "outputs": [
    {
     "data": {
      "text/plain": [
       "True"
      ]
     },
     "execution_count": 286,
     "metadata": {},
     "output_type": "execute_result"
    }
   ],
   "source": [
    "data_clean[data_clean[\"meanIAT\"].isnull()].shape == data_clean[data_clean[\"nExp\"].isnull()].shape"
   ]
  },
  {
   "cell_type": "code",
   "execution_count": 287,
   "metadata": {
    "collapsed": false
   },
   "outputs": [
    {
     "data": {
      "text/plain": [
       "True"
      ]
     },
     "execution_count": 287,
     "metadata": {},
     "output_type": "execute_result"
    }
   ],
   "source": [
    "data_clean[data_clean[\"meanIAT\"].isnull()].shape == data_clean[data_clean[\"seExp\"].isnull()].shape"
   ]
  },
  {
   "cell_type": "markdown",
   "metadata": {
    "collapsed": false
   },
   "source": [
    "We observe that only 153 entries have missing values.   \n",
    "We will now try to determine if we can obtain these values or not."
   ]
  },
  {
   "cell_type": "code",
   "execution_count": 288,
   "metadata": {
    "collapsed": false
   },
   "outputs": [
    {
     "data": {
      "text/plain": [
       "Alpha_3\n",
       "ANT       2\n",
       "Mali     49\n",
       "NAM      11\n",
       "QAT      90\n",
       "dtype: int64"
      ]
     },
     "execution_count": 288,
     "metadata": {},
     "output_type": "execute_result"
    }
   ],
   "source": [
    "data_clean[data_clean[\"meanIAT\"].isnull()].groupby(\"Alpha_3\").size()"
   ]
  },
  {
   "cell_type": "code",
   "execution_count": 289,
   "metadata": {
    "collapsed": false
   },
   "outputs": [
    {
     "data": {
      "text/plain": [
       "array([ nan])"
      ]
     },
     "execution_count": 289,
     "metadata": {},
     "output_type": "execute_result"
    }
   ],
   "source": [
    "data_clean[data_clean[\"Alpha_3\"] == 'ANT'][\"meanIAT\"].unique()"
   ]
  },
  {
   "cell_type": "code",
   "execution_count": 290,
   "metadata": {
    "collapsed": false
   },
   "outputs": [
    {
     "data": {
      "text/plain": [
       "array([ nan])"
      ]
     },
     "execution_count": 290,
     "metadata": {},
     "output_type": "execute_result"
    }
   ],
   "source": [
    "data_clean[data_clean[\"Alpha_3\"] == 'Mali'][\"meanIAT\"].unique()"
   ]
  },
  {
   "cell_type": "code",
   "execution_count": 291,
   "metadata": {
    "collapsed": false
   },
   "outputs": [
    {
     "data": {
      "text/plain": [
       "array([ nan])"
      ]
     },
     "execution_count": 291,
     "metadata": {},
     "output_type": "execute_result"
    }
   ],
   "source": [
    "data_clean[data_clean[\"Alpha_3\"] == 'NAM'][\"meanIAT\"].unique()"
   ]
  },
  {
   "cell_type": "code",
   "execution_count": 292,
   "metadata": {
    "collapsed": false
   },
   "outputs": [
    {
     "data": {
      "text/plain": [
       "array([ nan])"
      ]
     },
     "execution_count": 292,
     "metadata": {},
     "output_type": "execute_result"
    }
   ],
   "source": [
    "data_clean[data_clean[\"Alpha_3\"] == 'QAT  '][\"meanIAT\"].unique()"
   ]
  },
  {
   "cell_type": "markdown",
   "metadata": {},
   "source": [
    "We observe that those unknown unkown values can't be found anywhere else in the data. We were also unable to find these values on the web, and therefore chose to discard the rows with unkown bias"
   ]
  },
  {
   "cell_type": "code",
   "execution_count": 293,
   "metadata": {
    "collapsed": false
   },
   "outputs": [
    {
     "data": {
      "text/plain": [
       "124468"
      ]
     },
     "execution_count": 293,
     "metadata": {},
     "output_type": "execute_result"
    }
   ],
   "source": [
    "data_clean = data_clean.dropna(subset=[\"meanIAT\"])\n",
    "len(data_clean)"
   ]
  },
  {
   "cell_type": "code",
   "execution_count": 294,
   "metadata": {
    "collapsed": false
   },
   "outputs": [
    {
     "name": "stdout",
     "output_type": "stream",
     "text": [
      "height has null value(s)\n",
      "weight has null value(s)\n",
      "position has null value(s)\n"
     ]
    }
   ],
   "source": [
    "for feature in data_clean:\n",
    "    if data_clean[feature].isnull().any():\n",
    "        print(feature, \"has null value(s)\")"
   ]
  },
  {
   "cell_type": "markdown",
   "metadata": {},
   "source": [
    "### Players position\n",
    "\n",
    "We expect to see difference in terms of cards receive by players, according to their position on the field (Defender usually receives more than attacker or goalkeeper). We want to check it to be sure."
   ]
  },
  {
   "cell_type": "code",
   "execution_count": 295,
   "metadata": {
    "collapsed": false
   },
   "outputs": [
    {
     "data": {
      "text/plain": [
       "array(['Attacking Midfielder', 'Right Winger', 'Center Back',\n",
       "       'Left Fullback', 'Defensive Midfielder', 'Goalkeeper',\n",
       "       'Right Fullback', 'Left Winger', nan, 'Left Midfielder',\n",
       "       'Center Midfielder', 'Right Midfielder', 'Center Forward'], dtype=object)"
      ]
     },
     "execution_count": 295,
     "metadata": {},
     "output_type": "execute_result"
    }
   ],
   "source": [
    "positions = data_clean.position.unique()\n",
    "positions"
   ]
  },
  {
   "cell_type": "markdown",
   "metadata": {},
   "source": [
    "We compute the average cards received per game by player according to their position. We use the position with the most yellow cards per game as the reference."
   ]
  },
  {
   "cell_type": "code",
   "execution_count": 296,
   "metadata": {
    "collapsed": false
   },
   "outputs": [
    {
     "name": "stdout",
     "output_type": "stream",
     "text": [
      "Reference cards received per game:\n"
     ]
    },
    {
     "data": {
      "text/html": [
       "<div>\n",
       "<table border=\"1\" class=\"dataframe\">\n",
       "  <thead>\n",
       "    <tr style=\"text-align: right;\">\n",
       "      <th></th>\n",
       "      <th>Defensive Midfielder</th>\n",
       "    </tr>\n",
       "  </thead>\n",
       "  <tbody>\n",
       "    <tr>\n",
       "      <th>yellowCards</th>\n",
       "      <td>0.188480</td>\n",
       "    </tr>\n",
       "    <tr>\n",
       "      <th>yellowReds</th>\n",
       "      <td>0.006289</td>\n",
       "    </tr>\n",
       "    <tr>\n",
       "      <th>redCards</th>\n",
       "      <td>0.004146</td>\n",
       "    </tr>\n",
       "  </tbody>\n",
       "</table>\n",
       "</div>"
      ],
      "text/plain": [
       "             Defensive Midfielder\n",
       "yellowCards              0.188480\n",
       "yellowReds               0.006289\n",
       "redCards                 0.004146"
      ]
     },
     "execution_count": 296,
     "metadata": {},
     "output_type": "execute_result"
    }
   ],
   "source": [
    "cards_position = data_clean.groupby(\"position\")[[\"yellowCards\",\"yellowReds\",\"redCards\"]].mean()\n",
    "games_position = data_clean.groupby(\"position\")[[\"games\"]].mean()\n",
    "cards_position_average = cards_position.div(games_position[\"games\"],axis='rows').sort_values(by=\"yellowCards\",ascending=False)\n",
    "print(\"Reference cards received per game:\")\n",
    "reference = cards_position_average.iloc[0]\n",
    "reference.to_frame()"
   ]
  },
  {
   "cell_type": "markdown",
   "metadata": {},
   "source": [
    "Then we display the average cards received per game rate for each position, compared to the reference."
   ]
  },
  {
   "cell_type": "code",
   "execution_count": 297,
   "metadata": {
    "collapsed": false
   },
   "outputs": [
    {
     "data": {
      "text/html": [
       "<div>\n",
       "<table border=\"1\" class=\"dataframe\">\n",
       "  <thead>\n",
       "    <tr style=\"text-align: right;\">\n",
       "      <th></th>\n",
       "      <th>yellowCards</th>\n",
       "      <th>yellowReds</th>\n",
       "      <th>redCards</th>\n",
       "    </tr>\n",
       "    <tr>\n",
       "      <th>position</th>\n",
       "      <th></th>\n",
       "      <th></th>\n",
       "      <th></th>\n",
       "    </tr>\n",
       "  </thead>\n",
       "  <tbody>\n",
       "    <tr>\n",
       "      <th>Defensive Midfielder</th>\n",
       "      <td>1.000000</td>\n",
       "      <td>1.000000</td>\n",
       "      <td>1.000000</td>\n",
       "    </tr>\n",
       "    <tr>\n",
       "      <th>Right Fullback</th>\n",
       "      <td>0.871192</td>\n",
       "      <td>0.875094</td>\n",
       "      <td>0.921046</td>\n",
       "    </tr>\n",
       "    <tr>\n",
       "      <th>Center Back</th>\n",
       "      <td>0.849468</td>\n",
       "      <td>0.938681</td>\n",
       "      <td>1.593623</td>\n",
       "    </tr>\n",
       "    <tr>\n",
       "      <th>Center Midfielder</th>\n",
       "      <td>0.815983</td>\n",
       "      <td>0.700489</td>\n",
       "      <td>0.921910</td>\n",
       "    </tr>\n",
       "    <tr>\n",
       "      <th>Left Fullback</th>\n",
       "      <td>0.784848</td>\n",
       "      <td>0.748161</td>\n",
       "      <td>1.107614</td>\n",
       "    </tr>\n",
       "    <tr>\n",
       "      <th>Right Midfielder</th>\n",
       "      <td>0.681209</td>\n",
       "      <td>0.542404</td>\n",
       "      <td>0.608833</td>\n",
       "    </tr>\n",
       "    <tr>\n",
       "      <th>Left Midfielder</th>\n",
       "      <td>0.669579</td>\n",
       "      <td>0.703263</td>\n",
       "      <td>0.905495</td>\n",
       "    </tr>\n",
       "    <tr>\n",
       "      <th>Attacking Midfielder</th>\n",
       "      <td>0.656140</td>\n",
       "      <td>0.447389</td>\n",
       "      <td>0.609219</td>\n",
       "    </tr>\n",
       "    <tr>\n",
       "      <th>Left Winger</th>\n",
       "      <td>0.602994</td>\n",
       "      <td>0.406481</td>\n",
       "      <td>0.649901</td>\n",
       "    </tr>\n",
       "    <tr>\n",
       "      <th>Center Forward</th>\n",
       "      <td>0.552770</td>\n",
       "      <td>0.446780</td>\n",
       "      <td>0.865674</td>\n",
       "    </tr>\n",
       "    <tr>\n",
       "      <th>Right Winger</th>\n",
       "      <td>0.552360</td>\n",
       "      <td>0.329237</td>\n",
       "      <td>0.967596</td>\n",
       "    </tr>\n",
       "    <tr>\n",
       "      <th>Goalkeeper</th>\n",
       "      <td>0.242077</td>\n",
       "      <td>0.057810</td>\n",
       "      <td>1.030349</td>\n",
       "    </tr>\n",
       "  </tbody>\n",
       "</table>\n",
       "</div>"
      ],
      "text/plain": [
       "                      yellowCards  yellowReds  redCards\n",
       "position                                               \n",
       "Defensive Midfielder     1.000000    1.000000  1.000000\n",
       "Right Fullback           0.871192    0.875094  0.921046\n",
       "Center Back              0.849468    0.938681  1.593623\n",
       "Center Midfielder        0.815983    0.700489  0.921910\n",
       "Left Fullback            0.784848    0.748161  1.107614\n",
       "Right Midfielder         0.681209    0.542404  0.608833\n",
       "Left Midfielder          0.669579    0.703263  0.905495\n",
       "Attacking Midfielder     0.656140    0.447389  0.609219\n",
       "Left Winger              0.602994    0.406481  0.649901\n",
       "Center Forward           0.552770    0.446780  0.865674\n",
       "Right Winger             0.552360    0.329237  0.967596\n",
       "Goalkeeper               0.242077    0.057810  1.030349"
      ]
     },
     "execution_count": 297,
     "metadata": {},
     "output_type": "execute_result"
    }
   ],
   "source": [
    "cards_position_standard = cards_position_average / reference\n",
    "cards_position_standard"
   ]
  },
  {
   "cell_type": "markdown",
   "metadata": {},
   "source": [
    "We clearly see, as expected that the defender and midfielder receives significantly more yellow and yellowReds cards.   \n",
    "\n",
    "We observe also that the direct red cards does not follow the same kind of distribution, and that the difference is less clear between defender/midfielder and goalkeeper/attacker.\n",
    "\n",
    "This clearly shows that **the cards received strongly depends on the players position** (at least for yellow and yellowRed cards), therefore we must keep this information in our data if we want to provide a proper classifier."
   ]
  },
  {
   "cell_type": "markdown",
   "metadata": {},
   "source": [
    "## Aggregation of the data"
   ]
  },
  {
   "cell_type": "markdown",
   "metadata": {},
   "source": [
    "### Player data\n",
    "\n",
    "There are some players data we're not interested in, for example, we can drop their name (column \"player\"), because they are uniquely identified by their short name (column \"playerShort\"). We are also not interested in the pictures. We then drop these two features."
   ]
  },
  {
   "cell_type": "code",
   "execution_count": 298,
   "metadata": {
    "collapsed": false
   },
   "outputs": [],
   "source": [
    "data_clean = data_clean.drop([\"player\", \"photoID\"], axis=1)"
   ]
  },
  {
   "cell_type": "markdown",
   "metadata": {},
   "source": [
    "### Referees info\n",
    "\n",
    "Since we decided to aggregate the data by players, we can drop the referee information, therefore, we drop the columns:\n",
    "* refNum\n",
    "* refCountry"
   ]
  },
  {
   "cell_type": "code",
   "execution_count": 299,
   "metadata": {
    "collapsed": false
   },
   "outputs": [],
   "source": [
    "data_clean = data_clean.drop([\"refNum\", \"refCountry\"], axis=1)"
   ]
  },
  {
   "cell_type": "code",
   "execution_count": 300,
   "metadata": {
    "collapsed": false
   },
   "outputs": [
    {
     "data": {
      "text/plain": [
       "1.8"
      ]
     },
     "execution_count": 300,
     "metadata": {},
     "output_type": "execute_result"
    }
   ],
   "source": [
    "data_clean[\"meanIAT\"].min()\n",
    "data_clean[\"meanIAT\"].max()\n",
    "data_clean[\"meanExp\"].min()\n",
    "data_clean[\"meanExp\"].max()"
   ]
  },
  {
   "cell_type": "markdown",
   "metadata": {},
   "source": [
    "The referees bias implicit and explicit bias score may be important to classify the players by skin colors. If the bias score of a referee's country really has an impact on a football player, it is logically in the number of cards he gives. We would expect that a referee from a country with large bias toward black players would gives relatively more cards to player with darker skin color.\n",
    "\n",
    "We therefore want to keep the information given by the implicit and explicit bias score. Since we plan for exercise 1 to classify the players by aggreting all infos of each players, we cannot keep all the bias score of all referees. We need to combine features to form a new one representing the **\"hypothetic biased treatment\"** received by a player.\n",
    "\n",
    "This value would represent the probability that the player has been treated differently by the referee, and will behave as follow:\n",
    "* A high-positive value means that the referee has a high bias score and if the referee gives more cards to the player than the average. \n",
    "* The value is null if the referee has no bias, or gives a number of cards equals to the average of all players\n",
    "* A high-negative value means that the referee has a high bias score and he gives less cards to the player than the average\n",
    "\n",
    "\n",
    "Since we will compute a value for each dyad, the number of games are very small in a dyad (max 47, mostly 1), the variance of this value will be very high. When aggregating all the data of each players, we will get a better estimation of the real biased treatment received.\n",
    "\n",
    "We start by computing the average cards received by players in one game:\n",
    "\n",
    "\\begin{equation}\n",
    "AC(c) = \\frac{\\#C(c)}{\\#G} \n",
    "\\end{equation}\n",
    "\n",
    "- $ AC(c) $ The average cards of color **c** received by player in one game\n",
    "- $ \\#C(c) $ The total number of cards of color **c** by all players\n",
    "- $ \\#G $ The total number of games played by all players"
   ]
  },
  {
   "cell_type": "code",
   "execution_count": 301,
   "metadata": {
    "collapsed": false
   },
   "outputs": [
    {
     "data": {
      "text/html": [
       "<div>\n",
       "<table border=\"1\" class=\"dataframe\">\n",
       "  <thead>\n",
       "    <tr style=\"text-align: right;\">\n",
       "      <th></th>\n",
       "      <th>Rate</th>\n",
       "    </tr>\n",
       "  </thead>\n",
       "  <tbody>\n",
       "    <tr>\n",
       "      <th>yellowCards</th>\n",
       "      <td>0.133359</td>\n",
       "    </tr>\n",
       "    <tr>\n",
       "      <th>yellowReds</th>\n",
       "      <td>0.004031</td>\n",
       "    </tr>\n",
       "    <tr>\n",
       "      <th>redCards</th>\n",
       "      <td>0.004261</td>\n",
       "    </tr>\n",
       "  </tbody>\n",
       "</table>\n",
       "</div>"
      ],
      "text/plain": [
       "                 Rate\n",
       "yellowCards  0.133359\n",
       "yellowReds   0.004031\n",
       "redCards     0.004261"
      ]
     },
     "execution_count": 301,
     "metadata": {},
     "output_type": "execute_result"
    }
   ],
   "source": [
    "average_cards = data_clean[[\"yellowCards\",\"yellowReds\",\"redCards\"]].sum() / data_clean[\"games\"].sum()\n",
    "display_average_cards = average_cards.to_frame()\n",
    "display_average_cards.columns = [\"Rate\"]\n",
    "display_average_cards"
   ]
  },
  {
   "cell_type": "markdown",
   "metadata": {},
   "source": [
    "#### For the implicit bias score:\n",
    "Higher values correspond to faster white | good, black | bad associations, we then combine it with cards as follow:\n",
    "\n",
    "\\begin{equation}\n",
    "HBT_{IAT} (r,p,c) = \\bigg( \\frac{\\#C(r,p,c)}{\\#G(r,p)} - A(c) \\bigg) \\cdot B_{IAT}(r) \n",
    "\\end{equation}\n",
    "\n",
    "- $HBT_{IAT} (r,p,c)$ The hypothetic implicit bias treatment of the player by by the referee r for the cards of color c\n",
    "- $\\#C(r,p,c)$ The number of cards of color c given by referee r to player p\n",
    "- $A(c)$ The average cards of color c given to a player in one game\n",
    "- $\\#G(r,p)$ The number of game with referee r and player p\n",
    "- $ B_{IAT}(r)$ The implicit bias of referee r\n",
    "\n",
    "#### For the explicit bias score:\n",
    "higher values correspond to greater feelings of warmth toward whites versus blacks, we then combine it with cards with the same formula:\n",
    "\n",
    "\\begin{equation}\n",
    "HBT_{Exp} (r,p,c) = \\bigg( \\frac{\\#C(r,p,c)}{\\#G(r,p)} - A(c) \\bigg) \\cdot B_{Exp}(r) \n",
    "\\end{equation}\n",
    "\n",
    "- $HBT_{Exp} (r,p,c)$ The hypothetic explicit bias treatment of the player by by the referee r for the cards of color c\n",
    "- $\\#C(r,p,c)$ The number of cards of color c given by referee r to player p\n",
    "- $A(c)$ The average cards of color c given to a player in one game\n",
    "- $\\#G(r,p)$ The number of game with referee r and player p\n",
    "- $ B_{IAT}(r)$ The implicit bias of referee r"
   ]
  },
  {
   "cell_type": "code",
   "execution_count": 302,
   "metadata": {
    "collapsed": true
   },
   "outputs": [],
   "source": [
    "data_new_features = data_clean.copy()"
   ]
  },
  {
   "cell_type": "code",
   "execution_count": 303,
   "metadata": {
    "collapsed": false
   },
   "outputs": [
    {
     "name": "stdout",
     "output_type": "stream",
     "text": [
      "Create new feature meanIAT_yellowCards\n",
      "Create new feature meanIAT_yellowReds\n",
      "Create new feature meanIAT_redCards\n",
      "Create new feature meanExp_yellowCards\n",
      "Create new feature meanExp_yellowReds\n",
      "Create new feature meanExp_redCards\n"
     ]
    },
    {
     "data": {
      "text/html": [
       "<div>\n",
       "<table border=\"1\" class=\"dataframe\">\n",
       "  <thead>\n",
       "    <tr style=\"text-align: right;\">\n",
       "      <th></th>\n",
       "      <th>playerShort</th>\n",
       "      <th>club</th>\n",
       "      <th>leagueCountry</th>\n",
       "      <th>birthday</th>\n",
       "      <th>height</th>\n",
       "      <th>weight</th>\n",
       "      <th>position</th>\n",
       "      <th>games</th>\n",
       "      <th>victories</th>\n",
       "      <th>ties</th>\n",
       "      <th>...</th>\n",
       "      <th>meanExp</th>\n",
       "      <th>nExp</th>\n",
       "      <th>seExp</th>\n",
       "      <th>skin_color</th>\n",
       "      <th>meanIAT_yellowCards</th>\n",
       "      <th>meanIAT_yellowReds</th>\n",
       "      <th>meanIAT_redCards</th>\n",
       "      <th>meanExp_yellowCards</th>\n",
       "      <th>meanExp_yellowReds</th>\n",
       "      <th>meanExp_redCards</th>\n",
       "    </tr>\n",
       "  </thead>\n",
       "  <tbody>\n",
       "    <tr>\n",
       "      <th>0</th>\n",
       "      <td>lucas-wilchez</td>\n",
       "      <td>Real Zaragoza</td>\n",
       "      <td>Spain</td>\n",
       "      <td>4990.0</td>\n",
       "      <td>177.0</td>\n",
       "      <td>72.0</td>\n",
       "      <td>Attacking Midfielder</td>\n",
       "      <td>1</td>\n",
       "      <td>0</td>\n",
       "      <td>0</td>\n",
       "      <td>...</td>\n",
       "      <td>0.396000</td>\n",
       "      <td>750.0</td>\n",
       "      <td>0.002696</td>\n",
       "      <td>0.375</td>\n",
       "      <td>-0.043527</td>\n",
       "      <td>-0.001316</td>\n",
       "      <td>-0.001391</td>\n",
       "      <td>-0.052810</td>\n",
       "      <td>-0.001596</td>\n",
       "      <td>-0.001688</td>\n",
       "    </tr>\n",
       "    <tr>\n",
       "      <th>1</th>\n",
       "      <td>john-utaka</td>\n",
       "      <td>Montpellier HSC</td>\n",
       "      <td>France</td>\n",
       "      <td>4390.0</td>\n",
       "      <td>179.0</td>\n",
       "      <td>82.0</td>\n",
       "      <td>Right Winger</td>\n",
       "      <td>1</td>\n",
       "      <td>0</td>\n",
       "      <td>0</td>\n",
       "      <td>...</td>\n",
       "      <td>-0.204082</td>\n",
       "      <td>49.0</td>\n",
       "      <td>0.061504</td>\n",
       "      <td>0.750</td>\n",
       "      <td>0.176253</td>\n",
       "      <td>-0.000820</td>\n",
       "      <td>-0.000867</td>\n",
       "      <td>-0.176865</td>\n",
       "      <td>0.000823</td>\n",
       "      <td>0.000870</td>\n",
       "    </tr>\n",
       "    <tr>\n",
       "      <th>5</th>\n",
       "      <td>aaron-hughes</td>\n",
       "      <td>Fulham FC</td>\n",
       "      <td>England</td>\n",
       "      <td>3598.0</td>\n",
       "      <td>182.0</td>\n",
       "      <td>71.0</td>\n",
       "      <td>Center Back</td>\n",
       "      <td>1</td>\n",
       "      <td>0</td>\n",
       "      <td>0</td>\n",
       "      <td>...</td>\n",
       "      <td>0.538462</td>\n",
       "      <td>130.0</td>\n",
       "      <td>0.013752</td>\n",
       "      <td>0.125</td>\n",
       "      <td>-0.043366</td>\n",
       "      <td>-0.001311</td>\n",
       "      <td>-0.001386</td>\n",
       "      <td>-0.071809</td>\n",
       "      <td>-0.002170</td>\n",
       "      <td>-0.002295</td>\n",
       "    </tr>\n",
       "    <tr>\n",
       "      <th>6</th>\n",
       "      <td>aleksandar-kolarov</td>\n",
       "      <td>Manchester City</td>\n",
       "      <td>England</td>\n",
       "      <td>5792.0</td>\n",
       "      <td>187.0</td>\n",
       "      <td>80.0</td>\n",
       "      <td>Left Fullback</td>\n",
       "      <td>1</td>\n",
       "      <td>1</td>\n",
       "      <td>0</td>\n",
       "      <td>...</td>\n",
       "      <td>0.538462</td>\n",
       "      <td>130.0</td>\n",
       "      <td>0.013752</td>\n",
       "      <td>0.125</td>\n",
       "      <td>-0.043366</td>\n",
       "      <td>-0.001311</td>\n",
       "      <td>-0.001386</td>\n",
       "      <td>-0.071809</td>\n",
       "      <td>-0.002170</td>\n",
       "      <td>-0.002295</td>\n",
       "    </tr>\n",
       "    <tr>\n",
       "      <th>7</th>\n",
       "      <td>alexander-tettey</td>\n",
       "      <td>Norwich City</td>\n",
       "      <td>England</td>\n",
       "      <td>5937.0</td>\n",
       "      <td>180.0</td>\n",
       "      <td>68.0</td>\n",
       "      <td>Defensive Midfielder</td>\n",
       "      <td>1</td>\n",
       "      <td>0</td>\n",
       "      <td>0</td>\n",
       "      <td>...</td>\n",
       "      <td>0.538462</td>\n",
       "      <td>130.0</td>\n",
       "      <td>0.013752</td>\n",
       "      <td>1.000</td>\n",
       "      <td>-0.043366</td>\n",
       "      <td>-0.001311</td>\n",
       "      <td>-0.001386</td>\n",
       "      <td>-0.071809</td>\n",
       "      <td>-0.002170</td>\n",
       "      <td>-0.002295</td>\n",
       "    </tr>\n",
       "  </tbody>\n",
       "</table>\n",
       "<p>5 rows × 29 columns</p>\n",
       "</div>"
      ],
      "text/plain": [
       "          playerShort             club leagueCountry  birthday  height  \\\n",
       "0       lucas-wilchez    Real Zaragoza         Spain    4990.0   177.0   \n",
       "1          john-utaka  Montpellier HSC        France    4390.0   179.0   \n",
       "5        aaron-hughes        Fulham FC       England    3598.0   182.0   \n",
       "6  aleksandar-kolarov  Manchester City       England    5792.0   187.0   \n",
       "7    alexander-tettey     Norwich City       England    5937.0   180.0   \n",
       "\n",
       "   weight              position  games  victories  ties        ...         \\\n",
       "0    72.0  Attacking Midfielder      1          0     0        ...          \n",
       "1    82.0          Right Winger      1          0     0        ...          \n",
       "5    71.0           Center Back      1          0     0        ...          \n",
       "6    80.0         Left Fullback      1          1     0        ...          \n",
       "7    68.0  Defensive Midfielder      1          0     0        ...          \n",
       "\n",
       "    meanExp   nExp     seExp  skin_color  meanIAT_yellowCards  \\\n",
       "0  0.396000  750.0  0.002696       0.375            -0.043527   \n",
       "1 -0.204082   49.0  0.061504       0.750             0.176253   \n",
       "5  0.538462  130.0  0.013752       0.125            -0.043366   \n",
       "6  0.538462  130.0  0.013752       0.125            -0.043366   \n",
       "7  0.538462  130.0  0.013752       1.000            -0.043366   \n",
       "\n",
       "  meanIAT_yellowReds  meanIAT_redCards  meanExp_yellowCards  \\\n",
       "0          -0.001316         -0.001391            -0.052810   \n",
       "1          -0.000820         -0.000867            -0.176865   \n",
       "5          -0.001311         -0.001386            -0.071809   \n",
       "6          -0.001311         -0.001386            -0.071809   \n",
       "7          -0.001311         -0.001386            -0.071809   \n",
       "\n",
       "   meanExp_yellowReds  meanExp_redCards  \n",
       "0           -0.001596         -0.001688  \n",
       "1            0.000823          0.000870  \n",
       "5           -0.002170         -0.002295  \n",
       "6           -0.002170         -0.002295  \n",
       "7           -0.002170         -0.002295  \n",
       "\n",
       "[5 rows x 29 columns]"
      ]
     },
     "execution_count": 303,
     "metadata": {},
     "output_type": "execute_result"
    }
   ],
   "source": [
    "biases = [\"meanIAT\", \"meanExp\"]\n",
    "colors = [\"yellowCards\", \"yellowReds\", \"redCards\"]\n",
    "\n",
    "for bias in biases:\n",
    "    for col in colors:\n",
    "        array_feature = []\n",
    "        new_feature = bias + \"_\" + col\n",
    "        data_new_features[new_feature] = pd.Series([0]*len(data_clean))\n",
    "        print(\"Create new feature\", new_feature)\n",
    "        for index, row in data_clean.iterrows():\n",
    "            HIB = ((row[col] / row[\"games\"]) - average_cards[col]) * row[bias] * row[\"games\"]\n",
    "            array_feature.append(HIB)\n",
    "        data_new_features[new_feature] = array_feature\n",
    "\n",
    "data_new_features.head()"
   ]
  },
  {
   "cell_type": "markdown",
   "metadata": {},
   "source": [
    "We do not take into account the sample size and standard error for bias score, assuming that the mean will be sufficient to give enough information. We therefore drop those columns"
   ]
  },
  {
   "cell_type": "code",
   "execution_count": 304,
   "metadata": {
    "collapsed": false
   },
   "outputs": [],
   "source": [
    "data_clean_with_player_bias = data_new_features.drop([\"meanIAT\", \"nIAT\", \"seIAT\", \"meanExp\", \"nExp\", \"seExp\"], axis=1)"
   ]
  },
  {
   "cell_type": "markdown",
   "metadata": {},
   "source": [
    "### Aggregation"
   ]
  },
  {
   "cell_type": "code",
   "execution_count": 305,
   "metadata": {
    "collapsed": false
   },
   "outputs": [],
   "source": [
    "data_grouped = data_clean_with_player_bias.groupby([\"playerShort\",\"club\",\"leagueCountry\",\"birthday\",\"position\"])"
   ]
  },
  {
   "cell_type": "code",
   "execution_count": 306,
   "metadata": {
    "collapsed": false
   },
   "outputs": [
    {
     "data": {
      "text/plain": [
       "True"
      ]
     },
     "execution_count": 306,
     "metadata": {},
     "output_type": "execute_result"
    }
   ],
   "source": [
    "len(data_grouped)==len(data_clean_with_player_bias.groupby([\"playerShort\"]))"
   ]
  },
  {
   "cell_type": "code",
   "execution_count": 309,
   "metadata": {
    "collapsed": false
   },
   "outputs": [],
   "source": [
    "agg_functions = {'height' : np.mean, 'weight' : np.mean, 'games' : np.sum, 'victories' : np.sum, \n",
    "                 'ties' : np.sum, 'defeats' : np.sum, 'goals' : np.sum, 'yellowCards' : np.sum, \n",
    "                 'redCards' : np.sum, 'skin_color' : np.mean}\n",
    "\n",
    "biases = [\"meanIAT\", \"meanExp\"]\n",
    "colors = [\"yellowCards\", \"yellowReds\", \"redCards\"]\n",
    "new_features = []\n",
    "\n",
    "for bias in biases:\n",
    "    for col in colors:\n",
    "        new_feature = bias + \"_\" + col\n",
    "        new_features.append(new_feature)\n",
    "        agg_functions[new_feature] = np.sum"
   ]
  },
  {
   "cell_type": "markdown",
   "metadata": {},
   "source": [
    "We now aggregate the data of each players.  \n",
    "\n",
    "We first multiply the new bias features by the number of games, then we aggregate, then we divide by the number of games of the player, in order to compute a weighted mean of the bias."
   ]
  },
  {
   "cell_type": "code",
   "execution_count": 314,
   "metadata": {
    "collapsed": false
   },
   "outputs": [],
   "source": [
    "data_aggregation[new_feature] = data_aggregation[new_feature]*data_aggregation[\"games\"]\n",
    "data_aggregation = data_grouped.agg(agg_functions)\n",
    "data_aggregation[new_features] = data_aggregation[new_features].div(data_aggregation[\"games\"], axis=\"rows\")\n",
    "data_final = data_aggregation.reset_index()"
   ]
  },
  {
   "cell_type": "code",
   "execution_count": 336,
   "metadata": {
    "collapsed": false
   },
   "outputs": [
    {
     "data": {
      "text/html": [
       "<div>\n",
       "<table border=\"1\" class=\"dataframe\">\n",
       "  <thead>\n",
       "    <tr style=\"text-align: right;\">\n",
       "      <th></th>\n",
       "      <th>playerShort</th>\n",
       "      <th>club</th>\n",
       "      <th>leagueCountry</th>\n",
       "      <th>birthday</th>\n",
       "      <th>position</th>\n",
       "      <th>yellowCards</th>\n",
       "      <th>redCards</th>\n",
       "      <th>victories</th>\n",
       "      <th>goals</th>\n",
       "      <th>meanIAT_yellowCards</th>\n",
       "      <th>meanIAT_redCards</th>\n",
       "    </tr>\n",
       "  </thead>\n",
       "  <tbody>\n",
       "    <tr>\n",
       "      <th>0</th>\n",
       "      <td>aaron-hughes</td>\n",
       "      <td>Fulham FC</td>\n",
       "      <td>England</td>\n",
       "      <td>3598.0</td>\n",
       "      <td>Center Back</td>\n",
       "      <td>19</td>\n",
       "      <td>0</td>\n",
       "      <td>247</td>\n",
       "      <td>9</td>\n",
       "      <td>-0.034618</td>\n",
       "      <td>-0.001420</td>\n",
       "    </tr>\n",
       "    <tr>\n",
       "      <th>1</th>\n",
       "      <td>aaron-hunt</td>\n",
       "      <td>Werder Bremen</td>\n",
       "      <td>Germany</td>\n",
       "      <td>6090.0</td>\n",
       "      <td>Attacking Midfielder</td>\n",
       "      <td>42</td>\n",
       "      <td>1</td>\n",
       "      <td>141</td>\n",
       "      <td>62</td>\n",
       "      <td>-0.002753</td>\n",
       "      <td>-0.000453</td>\n",
       "    </tr>\n",
       "    <tr>\n",
       "      <th>2</th>\n",
       "      <td>aaron-lennon</td>\n",
       "      <td>Tottenham Hotspur</td>\n",
       "      <td>England</td>\n",
       "      <td>6314.0</td>\n",
       "      <td>Right Midfielder</td>\n",
       "      <td>11</td>\n",
       "      <td>0</td>\n",
       "      <td>200</td>\n",
       "      <td>31</td>\n",
       "      <td>-0.035463</td>\n",
       "      <td>-0.001416</td>\n",
       "    </tr>\n",
       "    <tr>\n",
       "      <th>3</th>\n",
       "      <td>aaron-ramsey</td>\n",
       "      <td>Arsenal FC</td>\n",
       "      <td>England</td>\n",
       "      <td>7664.0</td>\n",
       "      <td>Center Midfielder</td>\n",
       "      <td>31</td>\n",
       "      <td>1</td>\n",
       "      <td>150</td>\n",
       "      <td>39</td>\n",
       "      <td>-0.004654</td>\n",
       "      <td>-0.000147</td>\n",
       "    </tr>\n",
       "    <tr>\n",
       "      <th>4</th>\n",
       "      <td>abdelhamid-el-kaoutari</td>\n",
       "      <td>Montpellier HSC</td>\n",
       "      <td>France</td>\n",
       "      <td>7380.0</td>\n",
       "      <td>Center Back</td>\n",
       "      <td>8</td>\n",
       "      <td>2</td>\n",
       "      <td>41</td>\n",
       "      <td>1</td>\n",
       "      <td>-0.022667</td>\n",
       "      <td>0.003984</td>\n",
       "    </tr>\n",
       "  </tbody>\n",
       "</table>\n",
       "</div>"
      ],
      "text/plain": [
       "              playerShort               club leagueCountry  birthday  \\\n",
       "0            aaron-hughes          Fulham FC       England    3598.0   \n",
       "1              aaron-hunt      Werder Bremen       Germany    6090.0   \n",
       "2            aaron-lennon  Tottenham Hotspur       England    6314.0   \n",
       "3            aaron-ramsey         Arsenal FC       England    7664.0   \n",
       "4  abdelhamid-el-kaoutari    Montpellier HSC        France    7380.0   \n",
       "\n",
       "               position  yellowCards  redCards  victories  goals  \\\n",
       "0           Center Back           19         0        247      9   \n",
       "1  Attacking Midfielder           42         1        141     62   \n",
       "2      Right Midfielder           11         0        200     31   \n",
       "3     Center Midfielder           31         1        150     39   \n",
       "4           Center Back            8         2         41      1   \n",
       "\n",
       "   meanIAT_yellowCards  meanIAT_redCards  \n",
       "0            -0.034618         -0.001420  \n",
       "1            -0.002753         -0.000453  \n",
       "2            -0.035463         -0.001416  \n",
       "3            -0.004654         -0.000147  \n",
       "4            -0.022667          0.003984  "
      ]
     },
     "execution_count": 336,
     "metadata": {},
     "output_type": "execute_result"
    }
   ],
   "source": [
    "data_final.head().ix[:,0:11]"
   ]
  },
  {
   "cell_type": "code",
   "execution_count": 335,
   "metadata": {
    "collapsed": false
   },
   "outputs": [
    {
     "data": {
      "text/html": [
       "<div>\n",
       "<table border=\"1\" class=\"dataframe\">\n",
       "  <thead>\n",
       "    <tr style=\"text-align: right;\">\n",
       "      <th></th>\n",
       "      <th>meanExp_yellowReds</th>\n",
       "      <th>games</th>\n",
       "      <th>meanExp_redCards</th>\n",
       "      <th>ties</th>\n",
       "      <th>meanExp_yellowCards</th>\n",
       "      <th>height</th>\n",
       "      <th>defeats</th>\n",
       "      <th>meanIAT_yellowReds</th>\n",
       "      <th>weight</th>\n",
       "      <th>skin_color</th>\n",
       "    </tr>\n",
       "  </thead>\n",
       "  <tbody>\n",
       "    <tr>\n",
       "      <th>0</th>\n",
       "      <td>-0.001615</td>\n",
       "      <td>654</td>\n",
       "      <td>-0.001707</td>\n",
       "      <td>179</td>\n",
       "      <td>-0.040843</td>\n",
       "      <td>182.0</td>\n",
       "      <td>228</td>\n",
       "      <td>-0.001343</td>\n",
       "      <td>71.0</td>\n",
       "      <td>0.125</td>\n",
       "    </tr>\n",
       "    <tr>\n",
       "      <th>1</th>\n",
       "      <td>-0.001535</td>\n",
       "      <td>336</td>\n",
       "      <td>-0.000623</td>\n",
       "      <td>73</td>\n",
       "      <td>-0.002366</td>\n",
       "      <td>183.0</td>\n",
       "      <td>122</td>\n",
       "      <td>-0.001376</td>\n",
       "      <td>73.0</td>\n",
       "      <td>0.125</td>\n",
       "    </tr>\n",
       "    <tr>\n",
       "      <th>2</th>\n",
       "      <td>-0.001610</td>\n",
       "      <td>412</td>\n",
       "      <td>-0.001702</td>\n",
       "      <td>97</td>\n",
       "      <td>-0.042534</td>\n",
       "      <td>165.0</td>\n",
       "      <td>115</td>\n",
       "      <td>-0.001340</td>\n",
       "      <td>63.0</td>\n",
       "      <td>0.250</td>\n",
       "    </tr>\n",
       "    <tr>\n",
       "      <th>3</th>\n",
       "      <td>-0.001747</td>\n",
       "      <td>260</td>\n",
       "      <td>-0.000554</td>\n",
       "      <td>42</td>\n",
       "      <td>-0.006586</td>\n",
       "      <td>178.0</td>\n",
       "      <td>68</td>\n",
       "      <td>-0.001357</td>\n",
       "      <td>76.0</td>\n",
       "      <td>0.000</td>\n",
       "    </tr>\n",
       "    <tr>\n",
       "      <th>4</th>\n",
       "      <td>0.010400</td>\n",
       "      <td>124</td>\n",
       "      <td>0.004019</td>\n",
       "      <td>40</td>\n",
       "      <td>-0.022177</td>\n",
       "      <td>180.0</td>\n",
       "      <td>43</td>\n",
       "      <td>0.009606</td>\n",
       "      <td>73.0</td>\n",
       "      <td>0.250</td>\n",
       "    </tr>\n",
       "  </tbody>\n",
       "</table>\n",
       "</div>"
      ],
      "text/plain": [
       "   meanExp_yellowReds  games  meanExp_redCards  ties  meanExp_yellowCards  \\\n",
       "0           -0.001615    654         -0.001707   179            -0.040843   \n",
       "1           -0.001535    336         -0.000623    73            -0.002366   \n",
       "2           -0.001610    412         -0.001702    97            -0.042534   \n",
       "3           -0.001747    260         -0.000554    42            -0.006586   \n",
       "4            0.010400    124          0.004019    40            -0.022177   \n",
       "\n",
       "   height  defeats  meanIAT_yellowReds  weight  skin_color  \n",
       "0   182.0      228           -0.001343    71.0       0.125  \n",
       "1   183.0      122           -0.001376    73.0       0.125  \n",
       "2   165.0      115           -0.001340    63.0       0.250  \n",
       "3   178.0       68           -0.001357    76.0       0.000  \n",
       "4   180.0       43            0.009606    73.0       0.250  "
      ]
     },
     "execution_count": 335,
     "metadata": {},
     "output_type": "execute_result"
    }
   ],
   "source": [
    "\n",
    "data_final.head().ix[:,11:21]"
   ]
  },
  {
   "cell_type": "markdown",
   "metadata": {},
   "source": [
    "## Vizualization\n",
    "\n",
    "We print scatter plot to show the features' distribution according to players skin-color"
   ]
  },
  {
   "cell_type": "code",
   "execution_count": 339,
   "metadata": {
    "collapsed": false
   },
   "outputs": [
    {
     "data": {
      "image/png": "[encoded data removed]",
      "text/plain": [
       "<matplotlib.figure.Figure at 0x7f296e6e0cc0>"
      ]
     },
     "metadata": {},
     "output_type": "display_data"
    },
    {
     "data": {
      "image/png": "[encoded data removed]",
      "text/plain": [
       "<matplotlib.figure.Figure at 0x7f2971638208>"
      ]
     },
     "metadata": {},
     "output_type": "display_data"
    },
    {
     "data": {
      "image/png": "[encoded data removed]",
      "text/plain": [
       "<matplotlib.figure.Figure at 0x7f2970279390>"
      ]
     },
     "metadata": {},
     "output_type": "display_data"
    },
    {
     "data": {
      "image/png": "[encoded data removed]",
      "text/plain": [
       "<matplotlib.figure.Figure at 0x7f295339c320>"
      ]
     },
     "metadata": {},
     "output_type": "display_data"
    },
    {
     "data": {
      "image/png": "[encoded data removed]",
      "text/plain": [
       "<matplotlib.figure.Figure at 0x7f2971beda58>"
      ]
     },
     "metadata": {},
     "output_type": "display_data"
    },
    {
     "data": {
      "image/png": "[encoded data removed]",
      "text/plain": [
       "<matplotlib.figure.Figure at 0x7f296e5081d0>"
      ]
     },
     "metadata": {},
     "output_type": "display_data"
    },
    {
     "data": {
      "image/png": "[encoded data removed]",
      "text/plain": [
       "<matplotlib.figure.Figure at 0x7f29702110b8>"
      ]
     },
     "metadata": {},
     "output_type": "display_data"
    },
    {
     "data": {
      "image/png": "[encoded data removed]",
      "text/plain": [
       "<matplotlib.figure.Figure at 0x7f2971a31898>"
      ]
     },
     "metadata": {},
     "output_type": "display_data"
    },
    {
     "data": {
      "image/png": "[encoded data removed]",
      "text/plain": [
       "<matplotlib.figure.Figure at 0x7f2952ac8c50>"
      ]
     },
     "metadata": {},
     "output_type": "display_data"
    },
    {
     "data": {
      "image/png": "[encoded data removed]",
      "text/plain": [
       "<matplotlib.figure.Figure at 0x7f2953bd6978>"
      ]
     },
     "metadata": {},
     "output_type": "display_data"
    },
    {
     "data": {
      "image/png": "[encoded data removed]",
      "text/plain": [
       "<matplotlib.figure.Figure at 0x7f29707adf98>"
      ]
     },
     "metadata": {},
     "output_type": "display_data"
    },
    {
     "data": {
      "image/png": "[encoded data removed]",
      "text/plain": [
       "<matplotlib.figure.Figure at 0x7f2953333f98>"
      ]
     },
     "metadata": {},
     "output_type": "display_data"
    },
    {
     "data": {
      "image/png": "[encoded data removed]",
      "text/plain": [
       "<matplotlib.figure.Figure at 0x7f296e613e80>"
      ]
     },
     "metadata": {},
     "output_type": "display_data"
    },
    {
     "data": {
      "image/png": "[encoded data removed]",
      "text/plain": [
       "<matplotlib.figure.Figure at 0x7f296df2edd8>"
      ]
     },
     "metadata": {},
     "output_type": "display_data"
    },
    {
     "data": {
      "image/png": "[encoded data removed]",
      "text/plain": [
       "<matplotlib.figure.Figure at 0x7f296e5310b8>"
      ]
     },
     "metadata": {},
     "output_type": "display_data"
    },
    {
     "data": {
      "image/png": "[encoded data removed]",
      "text/plain": [
       "<matplotlib.figure.Figure at 0x7f2971a1e160>"
      ]
     },
     "metadata": {},
     "output_type": "display_data"
    }
   ],
   "source": [
    "features_tmp = data_final.columns\n",
    "features = []\n",
    "label = \"skin_color\"\n",
    "for i in features_tmp:\n",
    "    features.append(i)\n",
    "\n",
    "for feature in features:\n",
    "    if feature not in [\"playerShort\",\"club\",\"leagueCountry\",\"position\",\"skin_color\"]:\n",
    "        plt.figure()\n",
    "        plt.scatter(x=list(data_final[feature]), y=list(data_final[label]))\n",
    "        plt.title('Feature: %s'%(feature))\n",
    "        plt.ylabel(label)\n",
    "        plt.xlabel(feature)\n",
    "        plt.show()\n"
   ]
  },
  {
   "cell_type": "markdown",
   "metadata": {},
   "source": [
    "## Data saving\n",
    "\n",
    "We save our final data as csv file to be used for the exercices"
   ]
  },
  {
   "cell_type": "code",
   "execution_count": 341,
   "metadata": {
    "collapsed": true
   },
   "outputs": [],
   "source": [
    "data_final.to_csv('data/players_cleaned_with_feature.csv', index=False)"
   ]
  },
  {
   "cell_type": "code",
   "execution_count": null,
   "metadata": {
    "collapsed": true
   },
   "outputs": [],
   "source": []
  }
 ],
 "metadata": {
  "anaconda-cloud": {},
  "kernelspec": {
   "display_name": "Python [Root]",
   "language": "python",
   "name": "Python [Root]"
  },
  "language_info": {
   "codemirror_mode": {
    "name": "ipython",
    "version": 3
   },
   "file_extension": ".py",
   "mimetype": "text/x-python",
   "name": "python",
   "nbconvert_exporter": "python",
   "pygments_lexer": "ipython3",
   "version": "3.5.2"
  },
  "nav_menu": {},
  "toc": {
   "navigate_menu": true,
   "number_sections": false,
   "sideBar": false,
   "threshold": "3",
   "toc_cell": true,
   "toc_section_display": "block",
   "toc_window_display": false
  }
 },
 "nbformat": 4,
 "nbformat_minor": 1
}
