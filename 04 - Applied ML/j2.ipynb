{
 "cells": [
  {
   "cell_type": "markdown",
   "metadata": {},
   "source": [
    "# Interactive Viz\n",
    "\n",
    "This is our implementation of an interactive vizualization showing differences between the grants amount accorded to university and institute, according to Canton, using P3 database of the SNSF for the grant data.\n",
    "\n",
    "We use Folium to display the choropleth maps, Google places and GeoName API to link universities with cantons."
   ]
  },
  {
   "cell_type": "code",
   "execution_count": 12,
   "metadata": {
    "collapsed": false
   },
   "outputs": [],
   "source": [
    "%matplotlib inline\n",
    "import pandas as pd\n",
    "import numpy as np\n",
    "import scipy.stats as stats\n",
    "import folium\n",
    "import os\n",
    "import json\n",
    "import geopy\n",
    "import geocoder\n",
    "import time\n",
    "import csv\n",
    "from IPython.display import IFrame\n",
    "from geopy.geocoders import Nominatim\n",
    "from sklearn.cluster import KMeans\n",
    "from sklearn.metrics import silhouette_score\n",
    "#pip install python-google-places\n"
   ]
  },
  {
   "cell_type": "markdown",
   "metadata": {},
   "source": [
    "First import the data"
   ]
  },
  {
   "cell_type": "code",
   "execution_count": 13,
   "metadata": {
    "collapsed": false
   },
   "outputs": [],
   "source": [
    "#dataCrow = pd.read_csv(\"data/players_cleaned_with_feature.csv\", sep=',')\n",
    "\n",
    "dataCrow = pd.read_csv(\"data/players_cleaned_with_feature_factorized.csv\",sep=',')"
   ]
  },
  {
   "cell_type": "code",
   "execution_count": 62,
   "metadata": {
    "collapsed": false
   },
   "outputs": [
    {
     "data": {
      "text/html": [
       "<div>\n",
       "<table border=\"1\" class=\"dataframe\">\n",
       "  <thead>\n",
       "    <tr style=\"text-align: right;\">\n",
       "      <th></th>\n",
       "      <th>club</th>\n",
       "      <th>leagueCountry</th>\n",
       "      <th>birthday</th>\n",
       "      <th>position</th>\n",
       "      <th>redCards</th>\n",
       "      <th>meanIAT_redCards</th>\n",
       "      <th>ties</th>\n",
       "      <th>meanExp_yellowReds</th>\n",
       "      <th>yellowCards</th>\n",
       "      <th>meanIAT_yellowCards</th>\n",
       "      <th>meanExp_redCards</th>\n",
       "      <th>skin_color</th>\n",
       "      <th>height</th>\n",
       "      <th>meanExp_yellowCards</th>\n",
       "    </tr>\n",
       "  </thead>\n",
       "  <tbody>\n",
       "    <tr>\n",
       "      <th>0</th>\n",
       "      <td>0</td>\n",
       "      <td>0</td>\n",
       "      <td>3598.0</td>\n",
       "      <td>0</td>\n",
       "      <td>0</td>\n",
       "      <td>-0.001420</td>\n",
       "      <td>179</td>\n",
       "      <td>-0.001615</td>\n",
       "      <td>19</td>\n",
       "      <td>-0.034618</td>\n",
       "      <td>-0.020220</td>\n",
       "      <td>0</td>\n",
       "      <td>182.0</td>\n",
       "      <td>-0.040843</td>\n",
       "    </tr>\n",
       "    <tr>\n",
       "      <th>1</th>\n",
       "      <td>1</td>\n",
       "      <td>1</td>\n",
       "      <td>6090.0</td>\n",
       "      <td>1</td>\n",
       "      <td>1</td>\n",
       "      <td>-0.000453</td>\n",
       "      <td>73</td>\n",
       "      <td>-0.001535</td>\n",
       "      <td>42</td>\n",
       "      <td>-0.002753</td>\n",
       "      <td>0.000029</td>\n",
       "      <td>0</td>\n",
       "      <td>183.0</td>\n",
       "      <td>-0.002366</td>\n",
       "    </tr>\n",
       "    <tr>\n",
       "      <th>2</th>\n",
       "      <td>2</td>\n",
       "      <td>0</td>\n",
       "      <td>6314.0</td>\n",
       "      <td>2</td>\n",
       "      <td>0</td>\n",
       "      <td>-0.001416</td>\n",
       "      <td>97</td>\n",
       "      <td>-0.001610</td>\n",
       "      <td>11</td>\n",
       "      <td>-0.035463</td>\n",
       "      <td>-0.020464</td>\n",
       "      <td>0</td>\n",
       "      <td>165.0</td>\n",
       "      <td>-0.042534</td>\n",
       "    </tr>\n",
       "    <tr>\n",
       "      <th>3</th>\n",
       "      <td>3</td>\n",
       "      <td>0</td>\n",
       "      <td>7664.0</td>\n",
       "      <td>3</td>\n",
       "      <td>1</td>\n",
       "      <td>-0.000147</td>\n",
       "      <td>42</td>\n",
       "      <td>-0.001747</td>\n",
       "      <td>31</td>\n",
       "      <td>-0.004654</td>\n",
       "      <td>-0.008712</td>\n",
       "      <td>0</td>\n",
       "      <td>178.0</td>\n",
       "      <td>-0.006586</td>\n",
       "    </tr>\n",
       "    <tr>\n",
       "      <th>4</th>\n",
       "      <td>4</td>\n",
       "      <td>2</td>\n",
       "      <td>7380.0</td>\n",
       "      <td>0</td>\n",
       "      <td>2</td>\n",
       "      <td>0.003984</td>\n",
       "      <td>40</td>\n",
       "      <td>0.010400</td>\n",
       "      <td>8</td>\n",
       "      <td>-0.022667</td>\n",
       "      <td>0.020312</td>\n",
       "      <td>0</td>\n",
       "      <td>180.0</td>\n",
       "      <td>-0.022177</td>\n",
       "    </tr>\n",
       "    <tr>\n",
       "      <th>5</th>\n",
       "      <td>5</td>\n",
       "      <td>2</td>\n",
       "      <td>6590.0</td>\n",
       "      <td>2</td>\n",
       "      <td>0</td>\n",
       "      <td>-0.001398</td>\n",
       "      <td>23</td>\n",
       "      <td>0.002186</td>\n",
       "      <td>11</td>\n",
       "      <td>-0.005505</td>\n",
       "      <td>-0.004792</td>\n",
       "      <td>1</td>\n",
       "      <td>180.0</td>\n",
       "      <td>-0.001384</td>\n",
       "    </tr>\n",
       "    <tr>\n",
       "      <th>6</th>\n",
       "      <td>6</td>\n",
       "      <td>2</td>\n",
       "      <td>8124.0</td>\n",
       "      <td>4</td>\n",
       "      <td>0</td>\n",
       "      <td>-0.001464</td>\n",
       "      <td>8</td>\n",
       "      <td>-0.001726</td>\n",
       "      <td>0</td>\n",
       "      <td>-0.045816</td>\n",
       "      <td>-0.002628</td>\n",
       "      <td>1</td>\n",
       "      <td>189.0</td>\n",
       "      <td>-0.057114</td>\n",
       "    </tr>\n",
       "    <tr>\n",
       "      <th>7</th>\n",
       "      <td>5</td>\n",
       "      <td>2</td>\n",
       "      <td>7535.0</td>\n",
       "      <td>4</td>\n",
       "      <td>0</td>\n",
       "      <td>-0.001485</td>\n",
       "      <td>1</td>\n",
       "      <td>-0.001573</td>\n",
       "      <td>0</td>\n",
       "      <td>-0.046475</td>\n",
       "      <td>-0.002618</td>\n",
       "      <td>1</td>\n",
       "      <td>188.0</td>\n",
       "      <td>-0.052035</td>\n",
       "    </tr>\n",
       "    <tr>\n",
       "      <th>8</th>\n",
       "      <td>7</td>\n",
       "      <td>2</td>\n",
       "      <td>7383.0</td>\n",
       "      <td>5</td>\n",
       "      <td>2</td>\n",
       "      <td>0.004065</td>\n",
       "      <td>25</td>\n",
       "      <td>-0.001622</td>\n",
       "      <td>21</td>\n",
       "      <td>0.014230</td>\n",
       "      <td>0.031430</td>\n",
       "      <td>1</td>\n",
       "      <td>180.0</td>\n",
       "      <td>0.019269</td>\n",
       "    </tr>\n",
       "    <tr>\n",
       "      <th>9</th>\n",
       "      <td>8</td>\n",
       "      <td>1</td>\n",
       "      <td>8948.0</td>\n",
       "      <td>6</td>\n",
       "      <td>1</td>\n",
       "      <td>0.005285</td>\n",
       "      <td>8</td>\n",
       "      <td>-0.001376</td>\n",
       "      <td>3</td>\n",
       "      <td>-0.025109</td>\n",
       "      <td>0.002929</td>\n",
       "      <td>1</td>\n",
       "      <td>179.0</td>\n",
       "      <td>-0.025370</td>\n",
       "    </tr>\n",
       "    <tr>\n",
       "      <th>10</th>\n",
       "      <td>9</td>\n",
       "      <td>0</td>\n",
       "      <td>8350.0</td>\n",
       "      <td>3</td>\n",
       "      <td>0</td>\n",
       "      <td>-0.001501</td>\n",
       "      <td>8</td>\n",
       "      <td>-0.002102</td>\n",
       "      <td>2</td>\n",
       "      <td>-0.026840</td>\n",
       "      <td>-0.002475</td>\n",
       "      <td>1</td>\n",
       "      <td>180.0</td>\n",
       "      <td>-0.025947</td>\n",
       "    </tr>\n",
       "    <tr>\n",
       "      <th>11</th>\n",
       "      <td>10</td>\n",
       "      <td>3</td>\n",
       "      <td>5484.0</td>\n",
       "      <td>5</td>\n",
       "      <td>2</td>\n",
       "      <td>0.001370</td>\n",
       "      <td>61</td>\n",
       "      <td>0.005370</td>\n",
       "      <td>70</td>\n",
       "      <td>0.056158</td>\n",
       "      <td>0.008662</td>\n",
       "      <td>0</td>\n",
       "      <td>185.0</td>\n",
       "      <td>0.086839</td>\n",
       "    </tr>\n",
       "    <tr>\n",
       "      <th>12</th>\n",
       "      <td>3</td>\n",
       "      <td>0</td>\n",
       "      <td>5974.0</td>\n",
       "      <td>3</td>\n",
       "      <td>2</td>\n",
       "      <td>0.001729</td>\n",
       "      <td>51</td>\n",
       "      <td>-0.001573</td>\n",
       "      <td>24</td>\n",
       "      <td>-0.005568</td>\n",
       "      <td>0.024894</td>\n",
       "      <td>1</td>\n",
       "      <td>188.0</td>\n",
       "      <td>-0.003585</td>\n",
       "    </tr>\n",
       "    <tr>\n",
       "      <th>13</th>\n",
       "      <td>11</td>\n",
       "      <td>1</td>\n",
       "      <td>5728.0</td>\n",
       "      <td>5</td>\n",
       "      <td>0</td>\n",
       "      <td>-0.001435</td>\n",
       "      <td>63</td>\n",
       "      <td>0.000238</td>\n",
       "      <td>66</td>\n",
       "      <td>0.060404</td>\n",
       "      <td>-0.008556</td>\n",
       "      <td>0</td>\n",
       "      <td>184.0</td>\n",
       "      <td>0.060285</td>\n",
       "    </tr>\n",
       "    <tr>\n",
       "      <th>14</th>\n",
       "      <td>12</td>\n",
       "      <td>0</td>\n",
       "      <td>5509.0</td>\n",
       "      <td>4</td>\n",
       "      <td>0</td>\n",
       "      <td>-0.001398</td>\n",
       "      <td>54</td>\n",
       "      <td>-0.001474</td>\n",
       "      <td>4</td>\n",
       "      <td>-0.037170</td>\n",
       "      <td>-0.005540</td>\n",
       "      <td>0</td>\n",
       "      <td>188.0</td>\n",
       "      <td>-0.041169</td>\n",
       "    </tr>\n",
       "    <tr>\n",
       "      <th>15</th>\n",
       "      <td>13</td>\n",
       "      <td>1</td>\n",
       "      <td>6928.0</td>\n",
       "      <td>7</td>\n",
       "      <td>0</td>\n",
       "      <td>-0.001576</td>\n",
       "      <td>34</td>\n",
       "      <td>-0.002044</td>\n",
       "      <td>21</td>\n",
       "      <td>0.009446</td>\n",
       "      <td>-0.007083</td>\n",
       "      <td>0</td>\n",
       "      <td>188.0</td>\n",
       "      <td>0.009253</td>\n",
       "    </tr>\n",
       "    <tr>\n",
       "      <th>16</th>\n",
       "      <td>14</td>\n",
       "      <td>0</td>\n",
       "      <td>6403.0</td>\n",
       "      <td>7</td>\n",
       "      <td>0</td>\n",
       "      <td>-0.001408</td>\n",
       "      <td>68</td>\n",
       "      <td>-0.001508</td>\n",
       "      <td>21</td>\n",
       "      <td>-0.023620</td>\n",
       "      <td>-0.017534</td>\n",
       "      <td>0</td>\n",
       "      <td>175.0</td>\n",
       "      <td>-0.025818</td>\n",
       "    </tr>\n",
       "    <tr>\n",
       "      <th>17</th>\n",
       "      <td>15</td>\n",
       "      <td>3</td>\n",
       "      <td>6737.0</td>\n",
       "      <td>0</td>\n",
       "      <td>1</td>\n",
       "      <td>0.002741</td>\n",
       "      <td>18</td>\n",
       "      <td>0.004688</td>\n",
       "      <td>14</td>\n",
       "      <td>0.013874</td>\n",
       "      <td>-0.000067</td>\n",
       "      <td>0</td>\n",
       "      <td>190.0</td>\n",
       "      <td>0.019457</td>\n",
       "    </tr>\n",
       "    <tr>\n",
       "      <th>18</th>\n",
       "      <td>16</td>\n",
       "      <td>0</td>\n",
       "      <td>7788.0</td>\n",
       "      <td>8</td>\n",
       "      <td>1</td>\n",
       "      <td>0.001091</td>\n",
       "      <td>31</td>\n",
       "      <td>0.003936</td>\n",
       "      <td>29</td>\n",
       "      <td>0.028872</td>\n",
       "      <td>0.001461</td>\n",
       "      <td>0</td>\n",
       "      <td>173.0</td>\n",
       "      <td>0.030936</td>\n",
       "    </tr>\n",
       "  </tbody>\n",
       "</table>\n",
       "</div>"
      ],
      "text/plain": [
       "    club  leagueCountry  birthday  position  redCards  meanIAT_redCards  ties  \\\n",
       "0      0              0    3598.0         0         0         -0.001420   179   \n",
       "1      1              1    6090.0         1         1         -0.000453    73   \n",
       "2      2              0    6314.0         2         0         -0.001416    97   \n",
       "3      3              0    7664.0         3         1         -0.000147    42   \n",
       "4      4              2    7380.0         0         2          0.003984    40   \n",
       "5      5              2    6590.0         2         0         -0.001398    23   \n",
       "6      6              2    8124.0         4         0         -0.001464     8   \n",
       "7      5              2    7535.0         4         0         -0.001485     1   \n",
       "8      7              2    7383.0         5         2          0.004065    25   \n",
       "9      8              1    8948.0         6         1          0.005285     8   \n",
       "10     9              0    8350.0         3         0         -0.001501     8   \n",
       "11    10              3    5484.0         5         2          0.001370    61   \n",
       "12     3              0    5974.0         3         2          0.001729    51   \n",
       "13    11              1    5728.0         5         0         -0.001435    63   \n",
       "14    12              0    5509.0         4         0         -0.001398    54   \n",
       "15    13              1    6928.0         7         0         -0.001576    34   \n",
       "16    14              0    6403.0         7         0         -0.001408    68   \n",
       "17    15              3    6737.0         0         1          0.002741    18   \n",
       "18    16              0    7788.0         8         1          0.001091    31   \n",
       "\n",
       "    meanExp_yellowReds  yellowCards  meanIAT_yellowCards  meanExp_redCards  \\\n",
       "0            -0.001615           19            -0.034618         -0.020220   \n",
       "1            -0.001535           42            -0.002753          0.000029   \n",
       "2            -0.001610           11            -0.035463         -0.020464   \n",
       "3            -0.001747           31            -0.004654         -0.008712   \n",
       "4             0.010400            8            -0.022667          0.020312   \n",
       "5             0.002186           11            -0.005505         -0.004792   \n",
       "6            -0.001726            0            -0.045816         -0.002628   \n",
       "7            -0.001573            0            -0.046475         -0.002618   \n",
       "8            -0.001622           21             0.014230          0.031430   \n",
       "9            -0.001376            3            -0.025109          0.002929   \n",
       "10           -0.002102            2            -0.026840         -0.002475   \n",
       "11            0.005370           70             0.056158          0.008662   \n",
       "12           -0.001573           24            -0.005568          0.024894   \n",
       "13            0.000238           66             0.060404         -0.008556   \n",
       "14           -0.001474            4            -0.037170         -0.005540   \n",
       "15           -0.002044           21             0.009446         -0.007083   \n",
       "16           -0.001508           21            -0.023620         -0.017534   \n",
       "17            0.004688           14             0.013874         -0.000067   \n",
       "18            0.003936           29             0.028872          0.001461   \n",
       "\n",
       "    skin_color  height  meanExp_yellowCards  \n",
       "0            0   182.0            -0.040843  \n",
       "1            0   183.0            -0.002366  \n",
       "2            0   165.0            -0.042534  \n",
       "3            0   178.0            -0.006586  \n",
       "4            0   180.0            -0.022177  \n",
       "5            1   180.0            -0.001384  \n",
       "6            1   189.0            -0.057114  \n",
       "7            1   188.0            -0.052035  \n",
       "8            1   180.0             0.019269  \n",
       "9            1   179.0            -0.025370  \n",
       "10           1   180.0            -0.025947  \n",
       "11           0   185.0             0.086839  \n",
       "12           1   188.0            -0.003585  \n",
       "13           0   184.0             0.060285  \n",
       "14           0   188.0            -0.041169  \n",
       "15           0   188.0             0.009253  \n",
       "16           0   175.0            -0.025818  \n",
       "17           0   190.0             0.019457  \n",
       "18           0   173.0             0.030936  "
      ]
     },
     "execution_count": 62,
     "metadata": {},
     "output_type": "execute_result"
    }
   ],
   "source": [
    "dataCrow.ix[:18,:14]"
   ]
  },
  {
   "cell_type": "code",
   "execution_count": 15,
   "metadata": {
    "collapsed": false
   },
   "outputs": [
    {
     "data": {
      "text/html": [
       "<div>\n",
       "<table border=\"1\" class=\"dataframe\">\n",
       "  <thead>\n",
       "    <tr style=\"text-align: right;\">\n",
       "      <th></th>\n",
       "      <th>meanIAT_yellowReds</th>\n",
       "      <th>defeats</th>\n",
       "      <th>games</th>\n",
       "      <th>goals</th>\n",
       "      <th>weight</th>\n",
       "    </tr>\n",
       "  </thead>\n",
       "  <tbody>\n",
       "    <tr>\n",
       "      <th>0</th>\n",
       "      <td>-0.001343</td>\n",
       "      <td>228</td>\n",
       "      <td>654</td>\n",
       "      <td>9</td>\n",
       "      <td>71.0</td>\n",
       "    </tr>\n",
       "    <tr>\n",
       "      <th>1</th>\n",
       "      <td>-0.001376</td>\n",
       "      <td>122</td>\n",
       "      <td>336</td>\n",
       "      <td>62</td>\n",
       "      <td>73.0</td>\n",
       "    </tr>\n",
       "    <tr>\n",
       "      <th>2</th>\n",
       "      <td>-0.001340</td>\n",
       "      <td>115</td>\n",
       "      <td>412</td>\n",
       "      <td>31</td>\n",
       "      <td>63.0</td>\n",
       "    </tr>\n",
       "    <tr>\n",
       "      <th>3</th>\n",
       "      <td>-0.001357</td>\n",
       "      <td>68</td>\n",
       "      <td>260</td>\n",
       "      <td>39</td>\n",
       "      <td>76.0</td>\n",
       "    </tr>\n",
       "    <tr>\n",
       "      <th>4</th>\n",
       "      <td>0.009606</td>\n",
       "      <td>43</td>\n",
       "      <td>124</td>\n",
       "      <td>1</td>\n",
       "      <td>73.0</td>\n",
       "    </tr>\n",
       "    <tr>\n",
       "      <th>5</th>\n",
       "      <td>0.002128</td>\n",
       "      <td>33</td>\n",
       "      <td>97</td>\n",
       "      <td>3</td>\n",
       "      <td>74.0</td>\n",
       "    </tr>\n",
       "    <tr>\n",
       "      <th>6</th>\n",
       "      <td>-0.001385</td>\n",
       "      <td>8</td>\n",
       "      <td>24</td>\n",
       "      <td>0</td>\n",
       "      <td>80.0</td>\n",
       "    </tr>\n",
       "    <tr>\n",
       "      <th>7</th>\n",
       "      <td>-0.001405</td>\n",
       "      <td>2</td>\n",
       "      <td>3</td>\n",
       "      <td>0</td>\n",
       "      <td>83.0</td>\n",
       "    </tr>\n",
       "    <tr>\n",
       "      <th>8</th>\n",
       "      <td>-0.001387</td>\n",
       "      <td>62</td>\n",
       "      <td>121</td>\n",
       "      <td>3</td>\n",
       "      <td>68.0</td>\n",
       "    </tr>\n",
       "  </tbody>\n",
       "</table>\n",
       "</div>"
      ],
      "text/plain": [
       "   meanIAT_yellowReds  defeats  games  goals  weight\n",
       "0           -0.001343      228    654      9    71.0\n",
       "1           -0.001376      122    336     62    73.0\n",
       "2           -0.001340      115    412     31    63.0\n",
       "3           -0.001357       68    260     39    76.0\n",
       "4            0.009606       43    124      1    73.0\n",
       "5            0.002128       33     97      3    74.0\n",
       "6           -0.001385        8     24      0    80.0\n",
       "7           -0.001405        2      3      0    83.0\n",
       "8           -0.001387       62    121      3    68.0"
      ]
     },
     "execution_count": 15,
     "metadata": {},
     "output_type": "execute_result"
    }
   ],
   "source": [
    "dataCrow.ix[:8,15:]"
   ]
  },
  {
   "cell_type": "code",
   "execution_count": 214,
   "metadata": {
    "collapsed": false
   },
   "outputs": [],
   "source": [
    "def standardize(x):\n",
    "    \"\"\"Standardize the original data set.\"\"\"\n",
    "    mean_x = np.mean(x)\n",
    "    x = x - mean_x\n",
    "    std_x = np.std(x)\n",
    "    x = x / std_x\n",
    "    return x, mean_x, std_x"
   ]
  },
  {
   "cell_type": "code",
   "execution_count": 231,
   "metadata": {
    "collapsed": false
   },
   "outputs": [
    {
     "ename": "TypeError",
     "evalue": "DataFrame constructor called with incompatible data and dtype: cannot copy sequence with size 1419 to array axis with dimension 20",
     "output_type": "error",
     "traceback": [
      "\u001b[0;31m---------------------------------------------------------------------------\u001b[0m",
      "\u001b[0;31mValueError\u001b[0m                                Traceback (most recent call last)",
      "\u001b[0;32m/Users/jeremie/anaconda/lib/python3.5/site-packages/pandas/core/frame.py\u001b[0m in \u001b[0;36m__init__\u001b[0;34m(self, data, index, columns, dtype, copy)\u001b[0m\n\u001b[1;32m    285\u001b[0m             \u001b[0;32mtry\u001b[0m\u001b[0;34m:\u001b[0m\u001b[0;34m\u001b[0m\u001b[0m\n\u001b[0;32m--> 286\u001b[0;31m                 \u001b[0marr\u001b[0m \u001b[0;34m=\u001b[0m \u001b[0mnp\u001b[0m\u001b[0;34m.\u001b[0m\u001b[0marray\u001b[0m\u001b[0;34m(\u001b[0m\u001b[0mdata\u001b[0m\u001b[0;34m,\u001b[0m \u001b[0mdtype\u001b[0m\u001b[0;34m=\u001b[0m\u001b[0mdtype\u001b[0m\u001b[0;34m,\u001b[0m \u001b[0mcopy\u001b[0m\u001b[0;34m=\u001b[0m\u001b[0mcopy\u001b[0m\u001b[0;34m)\u001b[0m\u001b[0;34m\u001b[0m\u001b[0m\n\u001b[0m\u001b[1;32m    287\u001b[0m             \u001b[0;32mexcept\u001b[0m \u001b[0;34m(\u001b[0m\u001b[0mValueError\u001b[0m\u001b[0;34m,\u001b[0m \u001b[0mTypeError\u001b[0m\u001b[0;34m)\u001b[0m \u001b[0;32mas\u001b[0m \u001b[0me\u001b[0m\u001b[0;34m:\u001b[0m\u001b[0;34m\u001b[0m\u001b[0m\n",
      "\u001b[0;31mValueError\u001b[0m: cannot copy sequence with size 1419 to array axis with dimension 20",
      "\nDuring handling of the above exception, another exception occurred:\n",
      "\u001b[0;31mTypeError\u001b[0m                                 Traceback (most recent call last)",
      "\u001b[0;32m<ipython-input-231-033116377560>\u001b[0m in \u001b[0;36m<module>\u001b[0;34m()\u001b[0m\n\u001b[1;32m      1\u001b[0m \u001b[0mdataStandardized\u001b[0m \u001b[0;34m=\u001b[0m \u001b[0mstandardize\u001b[0m\u001b[0;34m(\u001b[0m\u001b[0mdataCrow\u001b[0m\u001b[0;34m)\u001b[0m\u001b[0;34m\u001b[0m\u001b[0m\n\u001b[1;32m      2\u001b[0m \u001b[0;31m#dataStandardized.to_frame()\u001b[0m\u001b[0;34m\u001b[0m\u001b[0;34m\u001b[0m\u001b[0m\n\u001b[0;32m----> 3\u001b[0;31m \u001b[0mpd\u001b[0m\u001b[0;34m.\u001b[0m\u001b[0mDataFrame\u001b[0m\u001b[0;34m(\u001b[0m\u001b[0mdataStandardized\u001b[0m\u001b[0;34m)\u001b[0m\u001b[0;34m\u001b[0m\u001b[0m\n\u001b[0m\u001b[1;32m      4\u001b[0m \u001b[0;31m#dataCrow.head()\u001b[0m\u001b[0;34m\u001b[0m\u001b[0;34m\u001b[0m\u001b[0m\n",
      "\u001b[0;32m/Users/jeremie/anaconda/lib/python3.5/site-packages/pandas/core/frame.py\u001b[0m in \u001b[0;36m__init__\u001b[0;34m(self, data, index, columns, dtype, copy)\u001b[0m\n\u001b[1;32m    288\u001b[0m                 exc = TypeError('DataFrame constructor called with '\n\u001b[1;32m    289\u001b[0m                                 'incompatible data and dtype: %s' % e)\n\u001b[0;32m--> 290\u001b[0;31m                 \u001b[0mraise_with_traceback\u001b[0m\u001b[0;34m(\u001b[0m\u001b[0mexc\u001b[0m\u001b[0;34m)\u001b[0m\u001b[0;34m\u001b[0m\u001b[0m\n\u001b[0m\u001b[1;32m    291\u001b[0m \u001b[0;34m\u001b[0m\u001b[0m\n\u001b[1;32m    292\u001b[0m             \u001b[0;32mif\u001b[0m \u001b[0marr\u001b[0m\u001b[0;34m.\u001b[0m\u001b[0mndim\u001b[0m \u001b[0;34m==\u001b[0m \u001b[0;36m0\u001b[0m \u001b[0;32mand\u001b[0m \u001b[0mindex\u001b[0m \u001b[0;32mis\u001b[0m \u001b[0;32mnot\u001b[0m \u001b[0;32mNone\u001b[0m \u001b[0;32mand\u001b[0m \u001b[0mcolumns\u001b[0m \u001b[0;32mis\u001b[0m \u001b[0;32mnot\u001b[0m \u001b[0;32mNone\u001b[0m\u001b[0;34m:\u001b[0m\u001b[0;34m\u001b[0m\u001b[0m\n",
      "\u001b[0;32m/Users/jeremie/anaconda/lib/python3.5/site-packages/pandas/compat/__init__.py\u001b[0m in \u001b[0;36mraise_with_traceback\u001b[0;34m(exc, traceback)\u001b[0m\n\u001b[1;32m    331\u001b[0m         \u001b[0;32mif\u001b[0m \u001b[0mtraceback\u001b[0m \u001b[0;34m==\u001b[0m \u001b[0mEllipsis\u001b[0m\u001b[0;34m:\u001b[0m\u001b[0;34m\u001b[0m\u001b[0m\n\u001b[1;32m    332\u001b[0m             \u001b[0m_\u001b[0m\u001b[0;34m,\u001b[0m \u001b[0m_\u001b[0m\u001b[0;34m,\u001b[0m \u001b[0mtraceback\u001b[0m \u001b[0;34m=\u001b[0m \u001b[0msys\u001b[0m\u001b[0;34m.\u001b[0m\u001b[0mexc_info\u001b[0m\u001b[0;34m(\u001b[0m\u001b[0;34m)\u001b[0m\u001b[0;34m\u001b[0m\u001b[0m\n\u001b[0;32m--> 333\u001b[0;31m         \u001b[0;32mraise\u001b[0m \u001b[0mexc\u001b[0m\u001b[0;34m.\u001b[0m\u001b[0mwith_traceback\u001b[0m\u001b[0;34m(\u001b[0m\u001b[0mtraceback\u001b[0m\u001b[0;34m)\u001b[0m\u001b[0;34m\u001b[0m\u001b[0m\n\u001b[0m\u001b[1;32m    334\u001b[0m \u001b[0;32melse\u001b[0m\u001b[0;34m:\u001b[0m\u001b[0;34m\u001b[0m\u001b[0m\n\u001b[1;32m    335\u001b[0m     \u001b[0;31m# this version of raise is a syntax error in Python 3\u001b[0m\u001b[0;34m\u001b[0m\u001b[0;34m\u001b[0m\u001b[0m\n",
      "\u001b[0;32m/Users/jeremie/anaconda/lib/python3.5/site-packages/pandas/core/frame.py\u001b[0m in \u001b[0;36m__init__\u001b[0;34m(self, data, index, columns, dtype, copy)\u001b[0m\n\u001b[1;32m    284\u001b[0m         \u001b[0;32melse\u001b[0m\u001b[0;34m:\u001b[0m\u001b[0;34m\u001b[0m\u001b[0m\n\u001b[1;32m    285\u001b[0m             \u001b[0;32mtry\u001b[0m\u001b[0;34m:\u001b[0m\u001b[0;34m\u001b[0m\u001b[0m\n\u001b[0;32m--> 286\u001b[0;31m                 \u001b[0marr\u001b[0m \u001b[0;34m=\u001b[0m \u001b[0mnp\u001b[0m\u001b[0;34m.\u001b[0m\u001b[0marray\u001b[0m\u001b[0;34m(\u001b[0m\u001b[0mdata\u001b[0m\u001b[0;34m,\u001b[0m \u001b[0mdtype\u001b[0m\u001b[0;34m=\u001b[0m\u001b[0mdtype\u001b[0m\u001b[0;34m,\u001b[0m \u001b[0mcopy\u001b[0m\u001b[0;34m=\u001b[0m\u001b[0mcopy\u001b[0m\u001b[0;34m)\u001b[0m\u001b[0;34m\u001b[0m\u001b[0m\n\u001b[0m\u001b[1;32m    287\u001b[0m             \u001b[0;32mexcept\u001b[0m \u001b[0;34m(\u001b[0m\u001b[0mValueError\u001b[0m\u001b[0;34m,\u001b[0m \u001b[0mTypeError\u001b[0m\u001b[0;34m)\u001b[0m \u001b[0;32mas\u001b[0m \u001b[0me\u001b[0m\u001b[0;34m:\u001b[0m\u001b[0;34m\u001b[0m\u001b[0m\n\u001b[1;32m    288\u001b[0m                 exc = TypeError('DataFrame constructor called with '\n",
      "\u001b[0;31mTypeError\u001b[0m: DataFrame constructor called with incompatible data and dtype: cannot copy sequence with size 1419 to array axis with dimension 20"
     ]
    }
   ],
   "source": [
    "dataStandardized = standardize(dataCrow)\n",
    "#dataStandardized.to_frame()\n",
    "pd.DataFrame(dataStandardized)\n",
    "#dataCrow.head()"
   ]
  },
  {
   "cell_type": "code",
   "execution_count": 16,
   "metadata": {
    "collapsed": false
   },
   "outputs": [
    {
     "name": "stdout",
     "output_type": "stream",
     "text": [
      "0.536997885835\n"
     ]
    }
   ],
   "source": [
    "X=dataCrow\n",
    "KMeans\n",
    "KMeans(n_clusters=2, random_state=1).fit(X[X.columns[:12]])\n",
    "print(np.mean(kmeans_model.labels_))"
   ]
  },
  {
   "cell_type": "code",
   "execution_count": 17,
   "metadata": {
    "collapsed": false
   },
   "outputs": [
    {
     "name": "stdout",
     "output_type": "stream",
     "text": [
      "0.523608174771\n",
      "0.536997885835\n",
      "0.536997885835\n",
      "0.536997885835\n",
      "0.536997885835\n",
      "0.536997885835\n",
      "0.536997885835\n",
      "0.536997885835\n",
      "0.536997885835\n",
      "0.536997885835\n",
      "0.536997885835\n",
      "0.536997885835\n",
      "0.536997885835\n"
     ]
    }
   ],
   "source": [
    "#X = grouped\n",
    "X=dataCrow\n",
    "for i in range(2,15):\n",
    "    kmeans_model = KMeans(n_clusters=2, random_state=1).fit(X[X.columns[:i]])\n",
    "    labels = kmeans_model.labels_\n",
    "    print(np.mean(labels))"
   ]
  },
  {
   "cell_type": "code",
   "execution_count": 121,
   "metadata": {
    "collapsed": false
   },
   "outputs": [
    {
     "data": {
      "text/plain": [
       "28380"
      ]
     },
     "execution_count": 121,
     "metadata": {},
     "output_type": "execute_result"
    }
   ],
   "source": [
    "X=dataCrow.copy()\n",
    "np.set_printoptions(threshold=np.nan)\n",
    "dataCrow.size"
   ]
  },
  {
   "cell_type": "code",
   "execution_count": 122,
   "metadata": {
    "collapsed": false
   },
   "outputs": [
    {
     "data": {
      "text/plain": [
       "(1419,)"
      ]
     },
     "execution_count": 122,
     "metadata": {},
     "output_type": "execute_result"
    }
   ],
   "source": [
    "label_correct_color_skin = dataCrow.skin_color\n",
    "label_correct_color_skin.shape"
   ]
  },
  {
   "cell_type": "code",
   "execution_count": 131,
   "metadata": {
    "collapsed": false
   },
   "outputs": [
    {
     "name": "stdout",
     "output_type": "stream",
     "text": [
      "(1419, 19)\n",
      "(1419, 20)\n"
     ]
    }
   ],
   "source": [
    "data_NoSkin = dataCrow.drop('skin_color',axis=1)\n",
    "print(data_NoSkin.shape)\n",
    "print(dataCrow.shape)"
   ]
  },
  {
   "cell_type": "code",
   "execution_count": 137,
   "metadata": {
    "collapsed": false
   },
   "outputs": [],
   "source": [
    "def clustering(X,label_correct_color_skin):\n",
    "    kmeans_model = KMeans(n_clusters=2, random_state=0).fit(X)\n",
    "    labels = kmeans_model.labels_\n",
    "    silhouette_score_compute = silhouette_score(X, labels)\n",
    "    labels_difference = label_correct_color_skin == labels\n",
    "    \n",
    "    #return labels, silhouette_score_compute, max(np.mean(labels_difference),1-np.mean(labels_difference))\n",
    "    return silhouette_score_compute, max(np.mean(labels_difference),1-np.mean(labels_difference))\n",
    "    "
   ]
  },
  {
   "cell_type": "code",
   "execution_count": 141,
   "metadata": {
    "collapsed": false
   },
   "outputs": [
    {
     "data": {
      "text/plain": [
       "['club',\n",
       " 'leagueCountry',\n",
       " 'birthday',\n",
       " 'position',\n",
       " 'redCards',\n",
       " 'meanIAT_redCards',\n",
       " 'ties',\n",
       " 'meanExp_yellowReds',\n",
       " 'yellowCards',\n",
       " 'meanIAT_yellowCards',\n",
       " 'meanExp_redCards',\n",
       " 'height',\n",
       " 'meanExp_yellowCards',\n",
       " 'victories',\n",
       " 'meanIAT_yellowReds',\n",
       " 'defeats',\n",
       " 'games',\n",
       " 'goals',\n",
       " 'weight']"
      ]
     },
     "execution_count": 141,
     "metadata": {},
     "output_type": "execute_result"
    }
   ],
   "source": [
    "column = list(data_NoSkin.columns.values)\n",
    "column"
   ]
  },
  {
   "cell_type": "code",
   "execution_count": 202,
   "metadata": {
    "collapsed": false
   },
   "outputs": [],
   "source": [
    "def FoundOptimum(data_NoSkin):\n",
    "    columnOptSilhouette = 0\n",
    "    columnOptClassSkin = 0\n",
    "    valueOptSilhouette = 0\n",
    "    valueOptClassSkin = 0\n",
    "\n",
    "    for nameColumn in data_NoSkin.columns:\n",
    "        currentData = data_NoSkin.drop(nameColumn,axis=1)\n",
    "        currSilhouette, currClassSkin = clustering(currentData,dataCrow.skin_color)\n",
    "        #print('drop columne : ',nameColumn,' currClassSkin : ',currClassSkin,'currSilhouette:',currSilhouette)\n",
    "\n",
    "        if currClassSkin > valueOptClassSkin:\n",
    "            valueOptClassSkin=currClassSkin\n",
    "            columnOptClassSkin = nameColumn\n",
    "\n",
    "        if currSilhouette > valueOptSilhouette:\n",
    "            valueOptSilhouette = currSilhouette\n",
    "            columnOptSilhouette = nameColumn\n",
    "\n",
    "    return columnOptSilhouette, columnOptClassSkin, valueOptSilhouette, valueOptClassSkin\n",
    "    #print(currentData.shape)"
   ]
  },
  {
   "cell_type": "code",
   "execution_count": 203,
   "metadata": {
    "collapsed": true
   },
   "outputs": [],
   "source": [
    "def optimizeSilhouette(data_No_Skin):\n",
    "    \n",
    "    \n",
    "    currentData = data_No_Skin.copy()\n",
    "    columnOptSilhouette, columnOptClassSkin = FoundOptimum(currentData)\n",
    "    \n",
    "    print('First value to delete found : ',columnOptSilhouette)\n",
    "    \n",
    "    currentData = currentData.drop(columnOptSilhouette,axis=1)\n",
    "    columnOptSilhouette, columnOptClassSkin = FoundOptimum(currentData)\n",
    "    \n",
    "    print('Seconde value to delete found : ',columnOptSilhouette)\n",
    "    \n",
    "    currentData = currentData.drop(columnOptSilhouette,axis=1)\n",
    "    columnOptSilhouette, columnOptClassSkin = FoundOptimum(currentData)\n",
    "    \n",
    "    print('Thrid value to delete found : ',columnOptSilhouette)\n",
    "    currentData = currentData.drop(columnOptSilhouette,axis=1)\n",
    "    \n",
    "    \n",
    "    return currentData, columnOptSilhouette, columnOptClassSkin \n",
    "    \n",
    "    \n",
    "    \n",
    "    "
   ]
  },
  {
   "cell_type": "code",
   "execution_count": 210,
   "metadata": {
    "collapsed": false
   },
   "outputs": [],
   "source": [
    "def vraiOptimitez(data_No_Skin):\n",
    "    \n",
    "    currentData = data_No_Skin.copy()\n",
    "    valueOptSilhouette=0\n",
    "    valueOptClassSkin=0\n",
    "    \n",
    "    for i in range(1, 19):\n",
    "        \n",
    "        columnOptSilhouette, columnOptClassSkin,valueOptSilhouette,valueOptClassSkin = FoundOptimum(currentData)\n",
    "        print('Iteration : ',i,' column to delete : ',columnOptSilhouette)\n",
    "        currentData = currentData.drop(columnOptSilhouette,axis=1)\n",
    "        \n",
    "    return currentData, valueOptSilhouette, valueOptClassSkin"
   ]
  },
  {
   "cell_type": "code",
   "execution_count": 223,
   "metadata": {
    "collapsed": false
   },
   "outputs": [
    {
     "ename": "AttributeError",
     "evalue": "'tuple' object has no attribute 'copy'",
     "output_type": "error",
     "traceback": [
      "\u001b[0;31m---------------------------------------------------------------------------\u001b[0m",
      "\u001b[0;31mAttributeError\u001b[0m                            Traceback (most recent call last)",
      "\u001b[0;32m<ipython-input-223-d1e798a42667>\u001b[0m in \u001b[0;36m<module>\u001b[0;34m()\u001b[0m\n\u001b[1;32m      2\u001b[0m \u001b[0;31m#oData, optSilhouette, optClassSkin = vraiOptimitez(data_NoSkin)\u001b[0m\u001b[0;34m\u001b[0m\u001b[0;34m\u001b[0m\u001b[0m\n\u001b[1;32m      3\u001b[0m \u001b[0;34m\u001b[0m\u001b[0m\n\u001b[0;32m----> 4\u001b[0;31m \u001b[0moData\u001b[0m\u001b[0;34m,\u001b[0m \u001b[0moptSilhouette\u001b[0m\u001b[0;34m,\u001b[0m \u001b[0moptClassSkin\u001b[0m \u001b[0;34m=\u001b[0m \u001b[0mvraiOptimitez\u001b[0m\u001b[0;34m(\u001b[0m\u001b[0mdataStandardized\u001b[0m\u001b[0;34m)\u001b[0m\u001b[0;34m\u001b[0m\u001b[0m\n\u001b[0m",
      "\u001b[0;32m<ipython-input-210-5dcb9345858b>\u001b[0m in \u001b[0;36mvraiOptimitez\u001b[0;34m(data_No_Skin)\u001b[0m\n\u001b[1;32m      1\u001b[0m \u001b[0;32mdef\u001b[0m \u001b[0mvraiOptimitez\u001b[0m\u001b[0;34m(\u001b[0m\u001b[0mdata_No_Skin\u001b[0m\u001b[0;34m)\u001b[0m\u001b[0;34m:\u001b[0m\u001b[0;34m\u001b[0m\u001b[0m\n\u001b[1;32m      2\u001b[0m \u001b[0;34m\u001b[0m\u001b[0m\n\u001b[0;32m----> 3\u001b[0;31m     \u001b[0mcurrentData\u001b[0m \u001b[0;34m=\u001b[0m \u001b[0mdata_No_Skin\u001b[0m\u001b[0;34m.\u001b[0m\u001b[0mcopy\u001b[0m\u001b[0;34m(\u001b[0m\u001b[0;34m)\u001b[0m\u001b[0;34m\u001b[0m\u001b[0m\n\u001b[0m\u001b[1;32m      4\u001b[0m     \u001b[0mvalueOptSilhouette\u001b[0m\u001b[0;34m=\u001b[0m\u001b[0;36m0\u001b[0m\u001b[0;34m\u001b[0m\u001b[0m\n\u001b[1;32m      5\u001b[0m     \u001b[0mvalueOptClassSkin\u001b[0m\u001b[0;34m=\u001b[0m\u001b[0;36m0\u001b[0m\u001b[0;34m\u001b[0m\u001b[0m\n",
      "\u001b[0;31mAttributeError\u001b[0m: 'tuple' object has no attribute 'copy'"
     ]
    }
   ],
   "source": [
    "#cur, cols, colSk = optimizeSilhouette(data_NoSkin)\n",
    "#oData, optSilhouette, optClassSkin = vraiOptimitez(data_NoSkin)\n",
    "\n",
    "oData, optSilhouette, optClassSkin = vraiOptimitez(dataStandardized)\n"
   ]
  },
  {
   "cell_type": "markdown",
   "metadata": {},
   "source": [
    "il faut optimiser 18 fois la silhouette et après une fois le classskin"
   ]
  },
  {
   "cell_type": "code",
   "execution_count": 212,
   "metadata": {
    "collapsed": false
   },
   "outputs": [
    {
     "name": "stdout",
     "output_type": "stream",
     "text": [
      "Silhouette  0.751220995329 class 0.715292459479\n"
     ]
    }
   ],
   "source": [
    "#print(data_NoSkin.shape)\n",
    "#columnOptSilhouette\n",
    "#valueOptSilhouette\n",
    "#print(forloop(data_NoSkin))\n",
    "print('Silhouette ',optSilhouette,'class',optClassSkin)"
   ]
  },
  {
   "cell_type": "code",
   "execution_count": 213,
   "metadata": {
    "collapsed": false
   },
   "outputs": [
    {
     "data": {
      "text/html": [
       "<div>\n",
       "<table border=\"1\" class=\"dataframe\">\n",
       "  <thead>\n",
       "    <tr style=\"text-align: right;\">\n",
       "      <th></th>\n",
       "      <th>leagueCountry</th>\n",
       "    </tr>\n",
       "  </thead>\n",
       "  <tbody>\n",
       "    <tr>\n",
       "      <th>0</th>\n",
       "      <td>0</td>\n",
       "    </tr>\n",
       "    <tr>\n",
       "      <th>1</th>\n",
       "      <td>1</td>\n",
       "    </tr>\n",
       "    <tr>\n",
       "      <th>2</th>\n",
       "      <td>0</td>\n",
       "    </tr>\n",
       "    <tr>\n",
       "      <th>3</th>\n",
       "      <td>0</td>\n",
       "    </tr>\n",
       "    <tr>\n",
       "      <th>4</th>\n",
       "      <td>2</td>\n",
       "    </tr>\n",
       "  </tbody>\n",
       "</table>\n",
       "</div>"
      ],
      "text/plain": [
       "   leagueCountry\n",
       "0              0\n",
       "1              1\n",
       "2              0\n",
       "3              0\n",
       "4              2"
      ]
     },
     "execution_count": 213,
     "metadata": {},
     "output_type": "execute_result"
    }
   ],
   "source": [
    "oData.head()"
   ]
  },
  {
   "cell_type": "code",
   "execution_count": null,
   "metadata": {
    "collapsed": false
   },
   "outputs": [],
   "source": []
  },
  {
   "cell_type": "code",
   "execution_count": 97,
   "metadata": {
    "collapsed": false
   },
   "outputs": [],
   "source": []
  },
  {
   "cell_type": "code",
   "execution_count": 101,
   "metadata": {
    "collapsed": false
   },
   "outputs": [],
   "source": [
    "X = dataCrow.drop('skin_color',axis=1)\n",
    "label_correct_color_skin = dataCrow.skin_color\n",
    "kmeanLabel, silScore, diff = clustering(X,label_correct_color_skin)\n"
   ]
  },
  {
   "cell_type": "code",
   "execution_count": 99,
   "metadata": {
    "collapsed": false
   },
   "outputs": [
    {
     "data": {
      "text/plain": [
       "0.51162790697674421"
      ]
     },
     "execution_count": 99,
     "metadata": {},
     "output_type": "execute_result"
    }
   ],
   "source": [
    "diff"
   ]
  },
  {
   "cell_type": "code",
   "execution_count": null,
   "metadata": {
    "collapsed": true
   },
   "outputs": [],
   "source": []
  }
 ],
 "metadata": {
  "anaconda-cloud": {},
  "kernelspec": {
   "display_name": "Python [Root]",
   "language": "python",
   "name": "Python [Root]"
  },
  "language_info": {
   "codemirror_mode": {
    "name": "ipython",
    "version": 3
   },
   "file_extension": ".py",
   "mimetype": "text/x-python",
   "name": "python",
   "nbconvert_exporter": "python",
   "pygments_lexer": "ipython3",
   "version": "3.5.2"
  },
  "nav_menu": {},
  "toc": {
   "navigate_menu": true,
   "number_sections": false,
   "sideBar": false,
   "threshold": "3",
   "toc_cell": true,
   "toc_section_display": "block",
   "toc_window_display": false
  }
 },
 "nbformat": 4,
 "nbformat_minor": 1
}
