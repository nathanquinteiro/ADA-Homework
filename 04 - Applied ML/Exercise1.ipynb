{
 "cells": [
  {
   "cell_type": "markdown",
   "metadata": {},
   "source": [
    "# Applied Machine Learning - Exercise 1\n",
    "\n",
    "Train a `sklearn.ensemble.RandomForestClassifier` that given a football player description outputs his skin color. Show how different parameters passed to the Classifier affect the overfitting issue. Perform cross-validation to mitigate the overfitting of your model. Once you assessed your model, inspect the `feature_importances_` attribute and discuss the obtained results. With different assumptions on the data (e.g., dropping certain features even\n",
    "before feeding them to the classifier), can you obtain a substantially different `feature_importances_` attribute?"
   ]
  },
  {
   "cell_type": "code",
   "execution_count": 45,
   "metadata": {
    "collapsed": false
   },
   "outputs": [],
   "source": [
    "import pandas as pd                                     \n",
    "import numpy as np                    \n",
    "\n",
    "import matplotlib.pyplot as plt\n",
    "from sklearn import metrics\n",
    "import os                                         \n",
    "\n",
    "from sklearn.ensemble import RandomForestClassifier\n",
    "\n",
    "import itertools\n",
    "import ex1 as ex1\n",
    "\n",
    "%matplotlib inline\n",
    "import seaborn as sns                                   # For pretty plots"
   ]
  },
  {
   "cell_type": "code",
   "execution_count": 46,
   "metadata": {
    "collapsed": false
   },
   "outputs": [
    {
     "data": {
      "text/html": [
       "<div>\n",
       "<table border=\"1\" class=\"dataframe\">\n",
       "  <thead>\n",
       "    <tr style=\"text-align: right;\">\n",
       "      <th></th>\n",
       "      <th>playerShort</th>\n",
       "      <th>club</th>\n",
       "      <th>leagueCountry</th>\n",
       "      <th>birthday</th>\n",
       "      <th>position</th>\n",
       "      <th>redCards</th>\n",
       "      <th>meanIAT_redCards</th>\n",
       "      <th>ties</th>\n",
       "      <th>meanExp_yellowReds</th>\n",
       "      <th>yellowCards</th>\n",
       "      <th>...</th>\n",
       "      <th>yellowCards_perGame</th>\n",
       "      <th>meanExp_yellowCards</th>\n",
       "      <th>redCards_perGame</th>\n",
       "      <th>victories</th>\n",
       "      <th>meanIAT_yellowReds</th>\n",
       "      <th>defeats</th>\n",
       "      <th>games</th>\n",
       "      <th>goals</th>\n",
       "      <th>yellowReds_perGame</th>\n",
       "      <th>weight</th>\n",
       "    </tr>\n",
       "  </thead>\n",
       "  <tbody>\n",
       "    <tr>\n",
       "      <th>0</th>\n",
       "      <td>aaron-hughes</td>\n",
       "      <td>Fulham FC</td>\n",
       "      <td>England</td>\n",
       "      <td>3598.0</td>\n",
       "      <td>Center Back</td>\n",
       "      <td>0</td>\n",
       "      <td>-0.000375</td>\n",
       "      <td>179</td>\n",
       "      <td>-0.000506</td>\n",
       "      <td>19</td>\n",
       "      <td>...</td>\n",
       "      <td>0.008392</td>\n",
       "      <td>-0.011928</td>\n",
       "      <td>0.000000</td>\n",
       "      <td>247</td>\n",
       "      <td>-0.000354</td>\n",
       "      <td>228</td>\n",
       "      <td>654</td>\n",
       "      <td>9</td>\n",
       "      <td>0.000000</td>\n",
       "      <td>71.0</td>\n",
       "    </tr>\n",
       "    <tr>\n",
       "      <th>1</th>\n",
       "      <td>aaron-hunt</td>\n",
       "      <td>Werder Bremen</td>\n",
       "      <td>Germany</td>\n",
       "      <td>6090.0</td>\n",
       "      <td>Attacking Midfielder</td>\n",
       "      <td>1</td>\n",
       "      <td>-0.000361</td>\n",
       "      <td>73</td>\n",
       "      <td>-0.000534</td>\n",
       "      <td>42</td>\n",
       "      <td>...</td>\n",
       "      <td>0.029676</td>\n",
       "      <td>-0.003165</td>\n",
       "      <td>0.002976</td>\n",
       "      <td>141</td>\n",
       "      <td>-0.000414</td>\n",
       "      <td>122</td>\n",
       "      <td>336</td>\n",
       "      <td>62</td>\n",
       "      <td>0.000000</td>\n",
       "      <td>73.0</td>\n",
       "    </tr>\n",
       "    <tr>\n",
       "      <th>2</th>\n",
       "      <td>aaron-lennon</td>\n",
       "      <td>Tottenham Hotspur</td>\n",
       "      <td>England</td>\n",
       "      <td>6314.0</td>\n",
       "      <td>Right Midfielder</td>\n",
       "      <td>0</td>\n",
       "      <td>-0.000361</td>\n",
       "      <td>97</td>\n",
       "      <td>-0.000486</td>\n",
       "      <td>11</td>\n",
       "      <td>...</td>\n",
       "      <td>0.004346</td>\n",
       "      <td>-0.013298</td>\n",
       "      <td>0.000000</td>\n",
       "      <td>200</td>\n",
       "      <td>-0.000342</td>\n",
       "      <td>115</td>\n",
       "      <td>412</td>\n",
       "      <td>31</td>\n",
       "      <td>0.000000</td>\n",
       "      <td>63.0</td>\n",
       "    </tr>\n",
       "    <tr>\n",
       "      <th>3</th>\n",
       "      <td>aaron-ramsey</td>\n",
       "      <td>Arsenal FC</td>\n",
       "      <td>England</td>\n",
       "      <td>7664.0</td>\n",
       "      <td>Center Midfielder</td>\n",
       "      <td>1</td>\n",
       "      <td>0.000696</td>\n",
       "      <td>42</td>\n",
       "      <td>-0.000830</td>\n",
       "      <td>31</td>\n",
       "      <td>...</td>\n",
       "      <td>0.047456</td>\n",
       "      <td>-0.005062</td>\n",
       "      <td>0.003846</td>\n",
       "      <td>150</td>\n",
       "      <td>-0.000559</td>\n",
       "      <td>68</td>\n",
       "      <td>260</td>\n",
       "      <td>39</td>\n",
       "      <td>0.000000</td>\n",
       "      <td>76.0</td>\n",
       "    </tr>\n",
       "    <tr>\n",
       "      <th>4</th>\n",
       "      <td>abdelhamid-el-kaoutari</td>\n",
       "      <td>Montpellier HSC</td>\n",
       "      <td>France</td>\n",
       "      <td>7380.0</td>\n",
       "      <td>Center Back</td>\n",
       "      <td>2</td>\n",
       "      <td>0.000658</td>\n",
       "      <td>40</td>\n",
       "      <td>0.004572</td>\n",
       "      <td>8</td>\n",
       "      <td>...</td>\n",
       "      <td>0.018558</td>\n",
       "      <td>-0.007117</td>\n",
       "      <td>0.016129</td>\n",
       "      <td>41</td>\n",
       "      <td>0.003823</td>\n",
       "      <td>43</td>\n",
       "      <td>124</td>\n",
       "      <td>1</td>\n",
       "      <td>0.012174</td>\n",
       "      <td>73.0</td>\n",
       "    </tr>\n",
       "  </tbody>\n",
       "</table>\n",
       "<p>5 rows × 24 columns</p>\n",
       "</div>"
      ],
      "text/plain": [
       "              playerShort               club leagueCountry  birthday  \\\n",
       "0            aaron-hughes          Fulham FC       England    3598.0   \n",
       "1              aaron-hunt      Werder Bremen       Germany    6090.0   \n",
       "2            aaron-lennon  Tottenham Hotspur       England    6314.0   \n",
       "3            aaron-ramsey         Arsenal FC       England    7664.0   \n",
       "4  abdelhamid-el-kaoutari    Montpellier HSC        France    7380.0   \n",
       "\n",
       "               position  redCards  meanIAT_redCards  ties  meanExp_yellowReds  \\\n",
       "0           Center Back         0         -0.000375   179           -0.000506   \n",
       "1  Attacking Midfielder         1         -0.000361    73           -0.000534   \n",
       "2      Right Midfielder         0         -0.000361    97           -0.000486   \n",
       "3     Center Midfielder         1          0.000696    42           -0.000830   \n",
       "4           Center Back         2          0.000658    40            0.004572   \n",
       "\n",
       "   yellowCards   ...    yellowCards_perGame  meanExp_yellowCards  \\\n",
       "0           19   ...               0.008392            -0.011928   \n",
       "1           42   ...               0.029676            -0.003165   \n",
       "2           11   ...               0.004346            -0.013298   \n",
       "3           31   ...               0.047456            -0.005062   \n",
       "4            8   ...               0.018558            -0.007117   \n",
       "\n",
       "   redCards_perGame  victories  meanIAT_yellowReds  defeats  games  goals  \\\n",
       "0          0.000000        247           -0.000354      228    654      9   \n",
       "1          0.002976        141           -0.000414      122    336     62   \n",
       "2          0.000000        200           -0.000342      115    412     31   \n",
       "3          0.003846        150           -0.000559       68    260     39   \n",
       "4          0.016129         41            0.003823       43    124      1   \n",
       "\n",
       "   yellowReds_perGame  weight  \n",
       "0            0.000000    71.0  \n",
       "1            0.000000    73.0  \n",
       "2            0.000000    63.0  \n",
       "3            0.000000    76.0  \n",
       "4            0.012174    73.0  \n",
       "\n",
       "[5 rows x 24 columns]"
      ]
     },
     "execution_count": 46,
     "metadata": {},
     "output_type": "execute_result"
    }
   ],
   "source": [
    "data = pd.read_csv('data/players_cleaned_with_feature.csv')\n",
    "data.head()"
   ]
  },
  {
   "cell_type": "markdown",
   "metadata": {
    "collapsed": true
   },
   "source": [
    "## Data treatment"
   ]
  },
  {
   "cell_type": "markdown",
   "metadata": {},
   "source": [
    "### Skin color\n",
    "\n",
    "In order to perform the classification, we need to determine how much label categories we want. We choose to separate the skin_color of the players in only two groups that we'll call white and black.   "
   ]
  },
  {
   "cell_type": "code",
   "execution_count": 47,
   "metadata": {
    "collapsed": false
   },
   "outputs": [
    {
     "data": {
      "text/plain": [
       "skin_color\n",
       "0    1200\n",
       "1     385\n",
       "Name: skin_color, dtype: int64"
      ]
     },
     "execution_count": 47,
     "metadata": {},
     "output_type": "execute_result"
    }
   ],
   "source": [
    "data[\"skin_color\"] = data[\"skin_color\"].apply(lambda x: 0 if x <0.5 else 1)\n",
    "data.groupby([\"skin_color\"])[\"skin_color\"].count()"
   ]
  },
  {
   "cell_type": "markdown",
   "metadata": {},
   "source": [
    "### Nan values\n",
    "\n",
    "We still have some unknown height and weight values in our data, so we drop them"
   ]
  },
  {
   "cell_type": "code",
   "execution_count": 48,
   "metadata": {
    "collapsed": false
   },
   "outputs": [
    {
     "data": {
      "text/plain": [
       "playerShort            False\n",
       "club                   False\n",
       "leagueCountry          False\n",
       "birthday               False\n",
       "position               False\n",
       "redCards               False\n",
       "meanIAT_redCards       False\n",
       "ties                   False\n",
       "meanExp_yellowReds     False\n",
       "yellowCards            False\n",
       "meanIAT_yellowCards    False\n",
       "meanExp_redCards       False\n",
       "skin_color             False\n",
       "height                  True\n",
       "yellowCards_perGame    False\n",
       "meanExp_yellowCards    False\n",
       "redCards_perGame       False\n",
       "victories              False\n",
       "meanIAT_yellowReds     False\n",
       "defeats                False\n",
       "games                  False\n",
       "goals                  False\n",
       "yellowReds_perGame     False\n",
       "weight                  True\n",
       "dtype: bool"
      ]
     },
     "execution_count": 48,
     "metadata": {},
     "output_type": "execute_result"
    }
   ],
   "source": [
    "data.isnull().any()"
   ]
  },
  {
   "cell_type": "code",
   "execution_count": 49,
   "metadata": {
    "collapsed": false
   },
   "outputs": [],
   "source": [
    "data = data.dropna()"
   ]
  },
  {
   "cell_type": "markdown",
   "metadata": {},
   "source": [
    "### Numerization of string values\n",
    "\n",
    "In order to use the the features with string values, we need to convert them to numerical values. We will just assign the same integer to every same values.\n",
    "\n",
    "We start with the players position:"
   ]
  },
  {
   "cell_type": "code",
   "execution_count": 50,
   "metadata": {
    "collapsed": false
   },
   "outputs": [],
   "source": [
    "for feature in [\"position\",\"leagueCountry\",\"club\"]:\n",
    "    num, labels = pd.factorize(data[feature])\n",
    "    data[feature] = num"
   ]
  },
  {
   "cell_type": "markdown",
   "metadata": {},
   "source": [
    "We don't need the names of the players, so we simply drop them"
   ]
  },
  {
   "cell_type": "code",
   "execution_count": 51,
   "metadata": {
    "collapsed": false
   },
   "outputs": [],
   "source": [
    "data = data.drop(\"playerShort\", axis=1)"
   ]
  },
  {
   "cell_type": "markdown",
   "metadata": {},
   "source": [
    "## Finding the best parameters\n",
    "\n",
    "In order to obtain the best classifier, we will try various values for each parameters and determine the optimal values"
   ]
  },
  {
   "cell_type": "markdown",
   "metadata": {},
   "source": [
    "### Best number of estimator trees\n",
    "\n",
    "We start by finding what is the optimal value of estimators for the Random Forest Classifier. We perform the classification with values from 20 to 150 trees and select the best one."
   ]
  },
  {
   "cell_type": "code",
   "execution_count": null,
   "metadata": {
    "collapsed": false,
    "scrolled": true
   },
   "outputs": [
    {
     "name": "stdout",
     "output_type": "stream",
     "text": [
      "Number of trees with maximum oob: 184\n",
      "Maximum oob: 0.774936061381\n"
     ]
    },
    {
     "data": {
      "image/png": "[encoded data removed]",
      "text/plain": [
       "<matplotlib.figure.Figure at 0x7ff149203748>"
      ]
     },
     "metadata": {},
     "output_type": "display_data"
    }
   ],
   "source": [
    "estimator_max, max_oob = ex1.estimator_test(data, 20, 200)\n",
    "print(\"Number of trees with maximum oob:\", estimator_max)\n",
    "print(\"Maximum oob:\", max_oob)"
   ]
  },
  {
   "cell_type": "markdown",
   "metadata": {},
   "source": [
    "### Best number of maximum depth\n",
    "\n",
    "We do the same with the maximum depth of the trees."
   ]
  },
  {
   "cell_type": "code",
   "execution_count": null,
   "metadata": {
    "collapsed": false
   },
   "outputs": [],
   "source": [
    "depth_max, max_oob = ex1.depth_test(data, 1, 50, estimator_max)\n",
    "print(\"Depth with maximum oob:\", depth_max)\n",
    "print(\"Maximum oob:\", max_oob)"
   ]
  },
  {
   "cell_type": "markdown",
   "metadata": {},
   "source": [
    "### Best number of maximum features\n",
    "\n",
    "We do the same with the maximum features used by the trees. We check for values 1 to the total number of features "
   ]
  },
  {
   "cell_type": "code",
   "execution_count": null,
   "metadata": {
    "collapsed": false
   },
   "outputs": [],
   "source": [
    "features_max, max_oob = ex1.features_test(data, 1, data.shape[1], estimator_max, depth_max)\n",
    "print(\"Number of features with maximum oob:\", depth_max)\n",
    "print(\"Maximum oob:\", max_oob)"
   ]
  },
  {
   "cell_type": "markdown",
   "metadata": {},
   "source": [
    "## Conclusion on parameters selection\n",
    "\n",
    "We observe on the three graphs that the oob values remains almost the same for every value tested. This is not a very conforting conclusion and tends to show that our classifier performs pretty bad"
   ]
  },
  {
   "cell_type": "markdown",
   "metadata": {},
   "source": [
    "# Evaluate performance of the classifier\n",
    "\n",
    "In order to evaluate the classifier, we will first take a look at the oob score first."
   ]
  },
  {
   "cell_type": "code",
   "execution_count": null,
   "metadata": {
    "collapsed": false
   },
   "outputs": [],
   "source": [
    "forest = RandomForestClassifier(n_estimators = estimator_max, \n",
    "                                max_features=features_max, \n",
    "                                max_depth=depth_max,\n",
    "                                n_jobs=-1,\n",
    "                                oob_score=True)\n",
    "\n",
    "forest_label = data[\"skin_color\"]\n",
    "forest_data = data.drop([\"skin_color\"], axis = 1)\n",
    "forest.fit(forest_data, forest_label)\n",
    "forest.oob_score_"
   ]
  },
  {
   "cell_type": "markdown",
   "metadata": {},
   "source": [
    "In order to a good evaluation of the performance, we will now run a classifier, using train data and the parameters values computed before, and test it with test data"
   ]
  },
  {
   "cell_type": "code",
   "execution_count": null,
   "metadata": {
    "collapsed": false
   },
   "outputs": [],
   "source": [
    "#Split data into train and test data (70% of train data)\n",
    "train_data, test_data, train_labels, test_labels = ex1.split_data(forest_data, forest_label, ratio=0.7)\n",
    "#Create classifier with optimal parameters\n",
    "forest = RandomForestClassifier(n_estimators = estimator_max, \n",
    "                                max_features=features_max, \n",
    "                                max_depth=depth_max,\n",
    "                                n_jobs=-1,\n",
    "                                oob_score=True)\n",
    "\n",
    "forest.fit(train_data, train_labels)\n",
    "#Compute the prediction and get accuracy\n",
    "test_pred = forest.predict(test_data)\n",
    "metrics.accuracy_score(test_labels, test_pred)"
   ]
  },
  {
   "cell_type": "markdown",
   "metadata": {},
   "source": [
    "The accuracy score sound pretty good, with 80% of well classified data, but before jumping to conclusion, let first take a look at the data.   \n",
    "\n",
    "We start by looking the proportion of skin-color in the test data"
   ]
  },
  {
   "cell_type": "code",
   "execution_count": 40,
   "metadata": {
    "collapsed": false
   },
   "outputs": [
    {
     "data": {
      "text/plain": [
       "skin_color_labels\n",
       "0    78.762887\n",
       "1    21.237113\n",
       "dtype: float64"
      ]
     },
     "execution_count": 40,
     "metadata": {},
     "output_type": "execute_result"
    }
   ],
   "source": [
    "df_test_labels = test_labels.to_frame()\n",
    "df_test_labels.index = range(0, len(df_test_labels))\n",
    "df_test_labels.columns=[\"skin_color_labels\"]\n",
    "df_test_labels.groupby(\"skin_color_labels\").size()/len(test_labels)*100.0"
   ]
  },
  {
   "cell_type": "markdown",
   "metadata": {},
   "source": [
    "We observe that there is 78.7% of white people in the test data, meaning that a classifier that simply classify all input as white players would perform 78.7% accuracy... This lower a bit our excitation about the result, but let's now take a deeper look at the classifier does well or not.\n",
    "\n",
    "We first print the confusion matrix of our classifier"
   ]
  },
  {
   "cell_type": "code",
   "execution_count": 41,
   "metadata": {
    "collapsed": false
   },
   "outputs": [
    {
     "ename": "NameError",
     "evalue": "name 'np' is not defined",
     "output_type": "error",
     "traceback": [
      "\u001b[1;31m---------------------------------------------------------------------------\u001b[0m",
      "\u001b[1;31mNameError\u001b[0m                                 Traceback (most recent call last)",
      "\u001b[1;32m<ipython-input-41-4b02600bdb52>\u001b[0m in \u001b[0;36m<module>\u001b[1;34m()\u001b[0m\n\u001b[0;32m      7\u001b[0m \u001b[0mplt\u001b[0m\u001b[1;33m.\u001b[0m\u001b[0mfigure\u001b[0m\u001b[1;33m(\u001b[0m\u001b[1;33m)\u001b[0m\u001b[1;33m\u001b[0m\u001b[0m\n\u001b[0;32m      8\u001b[0m ex1.plot_confusion_matrix(cnf_matrix, classes=class_names,\n\u001b[1;32m----> 9\u001b[1;33m                       title='Confusion matrix, without normalization')\n\u001b[0m\u001b[0;32m     10\u001b[0m \u001b[1;33m\u001b[0m\u001b[0m\n\u001b[0;32m     11\u001b[0m \u001b[1;31m# Plot normalized confusion matrix\u001b[0m\u001b[1;33m\u001b[0m\u001b[1;33m\u001b[0m\u001b[0m\n",
      "\u001b[1;32m/home/nathan/Master_EPFl/Master/Semestre1/ADA/ADA-Homework/04 - Applied ML/ex1.py\u001b[0m in \u001b[0;36mplot_confusion_matrix\u001b[1;34m(cm, classes, normalize, title, cmap)\u001b[0m\n\u001b[0;32m     95\u001b[0m     \u001b[0mplt\u001b[0m\u001b[1;33m.\u001b[0m\u001b[0mimshow\u001b[0m\u001b[1;33m(\u001b[0m\u001b[0mcm\u001b[0m\u001b[1;33m,\u001b[0m \u001b[0minterpolation\u001b[0m\u001b[1;33m=\u001b[0m\u001b[1;34m'nearest'\u001b[0m\u001b[1;33m,\u001b[0m \u001b[0mcmap\u001b[0m\u001b[1;33m=\u001b[0m\u001b[0mcmap\u001b[0m\u001b[1;33m)\u001b[0m\u001b[1;33m\u001b[0m\u001b[0m\n\u001b[0;32m     96\u001b[0m     \u001b[0mplt\u001b[0m\u001b[1;33m.\u001b[0m\u001b[0mtitle\u001b[0m\u001b[1;33m(\u001b[0m\u001b[0mtitle\u001b[0m\u001b[1;33m)\u001b[0m\u001b[1;33m\u001b[0m\u001b[0m\n\u001b[1;32m---> 97\u001b[1;33m     \u001b[0mplt\u001b[0m\u001b[1;33m.\u001b[0m\u001b[0mcolorbar\u001b[0m\u001b[1;33m(\u001b[0m\u001b[1;33m)\u001b[0m\u001b[1;33m\u001b[0m\u001b[0m\n\u001b[0m\u001b[0;32m     98\u001b[0m     \u001b[0mtick_marks\u001b[0m \u001b[1;33m=\u001b[0m \u001b[0mnp\u001b[0m\u001b[1;33m.\u001b[0m\u001b[0marange\u001b[0m\u001b[1;33m(\u001b[0m\u001b[0mlen\u001b[0m\u001b[1;33m(\u001b[0m\u001b[0mclasses\u001b[0m\u001b[1;33m)\u001b[0m\u001b[1;33m)\u001b[0m\u001b[1;33m\u001b[0m\u001b[0m\n\u001b[0;32m     99\u001b[0m     \u001b[0mplt\u001b[0m\u001b[1;33m.\u001b[0m\u001b[0mxticks\u001b[0m\u001b[1;33m(\u001b[0m\u001b[0mtick_marks\u001b[0m\u001b[1;33m,\u001b[0m \u001b[0mclasses\u001b[0m\u001b[1;33m,\u001b[0m \u001b[0mrotation\u001b[0m\u001b[1;33m=\u001b[0m\u001b[1;36m45\u001b[0m\u001b[1;33m)\u001b[0m\u001b[1;33m\u001b[0m\u001b[0m\n",
      "\u001b[1;31mNameError\u001b[0m: name 'np' is not defined"
     ]
    },
    {
     "data": {
      "image/png": "[encoded data removed]",
      "text/plain": [
       "<matplotlib.figure.Figure at 0x7ff14a93e978>"
      ]
     },
     "metadata": {},
     "output_type": "display_data"
    }
   ],
   "source": [
    "df_pred = pd.DataFrame(test_pred)\n",
    "\n",
    "# Compute confusion matrix\n",
    "cnf_matrix = metrics.confusion_matrix(df_test_labels, df_pred)\n",
    "class_names = [\"0\",\"1\"]\n",
    "# Plot non-normalized confusion matrix\n",
    "plt.figure()\n",
    "ex1.plot_confusion_matrix(cnf_matrix, classes=class_names,\n",
    "                      title='Confusion matrix, without normalization')\n",
    "\n",
    "# Plot normalized confusion matrix\n",
    "plt.figure()\n",
    "plot_confusion_matrix(cnf_matrix, classes=class_names, normalize=True,\n",
    "                      title='Normalized confusion matrix')"
   ]
  },
  {
   "cell_type": "markdown",
   "metadata": {},
   "source": [
    "We boserve that white players are very well classified (>97,3%) \n",
    "But the black players are very badly classified (>83% classified as white players)\n",
    "\n",
    "This corresponds to our first impression that classifiers perform very badly, and almost simply classify every players as white."
   ]
  },
  {
   "cell_type": "markdown",
   "metadata": {},
   "source": [
    "## Features importance\n",
    "\n",
    "Now that we found the best parameters for our Random Forest Classifier, we want to know what are the most important features used by it."
   ]
  },
  {
   "cell_type": "code",
   "execution_count": 140,
   "metadata": {
    "collapsed": false,
    "scrolled": true
   },
   "outputs": [
    {
     "data": {
      "image/png": "[encoded data removed]",
      "text/plain": [
       "<matplotlib.figure.Figure at 0x7f730ee6fda0>"
      ]
     },
     "metadata": {},
     "output_type": "display_data"
    }
   ],
   "source": [
    "forest, train_dat, train_labels, test_data, test_labels = run_forest_importance(data)"
   ]
  },
  {
   "cell_type": "markdown",
   "metadata": {},
   "source": [
    "### Removing features\n",
    "\n",
    "We will now try to remove features that we suspect are not important to classify players by colors in order to see if we can obtain better results.   \n",
    "\n",
    "We therefore remove the following features:\n",
    "* birthday: Because we expect to have similar distributions of white and black players in term of ages\n",
    "* victories, defeats, ties: Because we don't think that players color have an impact on the result of a game. \n",
    "* yellowCards, yellowReds, redCards: Because as explained in DataCleaning section, we believe that cards/games ratio makes more sense to classify players\n",
    "* games: Because we expect to have similar distributions of white and black players in term of games played\n",
    "* goals: Because we don't expect to see difference in terms of goals according to players race"
   ]
  },
  {
   "cell_type": "code",
   "execution_count": 145,
   "metadata": {
    "collapsed": false
   },
   "outputs": [
    {
     "ename": "ValueError",
     "evalue": "labels ['yellowReds'] not contained in axis",
     "output_type": "error",
     "traceback": [
      "\u001b[1;31m---------------------------------------------------------------------------\u001b[0m",
      "\u001b[1;31mValueError\u001b[0m                                Traceback (most recent call last)",
      "\u001b[1;32m<ipython-input-145-3d8602ee9e13>\u001b[0m in \u001b[0;36m<module>\u001b[1;34m()\u001b[0m\n\u001b[0;32m      1\u001b[0m \u001b[0mremoved_features\u001b[0m \u001b[1;33m=\u001b[0m \u001b[1;33m[\u001b[0m\u001b[1;34m\"birthday\"\u001b[0m\u001b[1;33m,\u001b[0m\u001b[1;34m\"victories\"\u001b[0m\u001b[1;33m,\u001b[0m\u001b[1;34m\"ties\"\u001b[0m\u001b[1;33m,\u001b[0m\u001b[1;34m\"defeats\"\u001b[0m\u001b[1;33m,\u001b[0m\u001b[1;34m\"yellowCards\"\u001b[0m\u001b[1;33m,\u001b[0m\u001b[1;34m\"yellowReds\"\u001b[0m\u001b[1;33m,\u001b[0m\u001b[1;34m\"redCards\"\u001b[0m\u001b[1;33m,\u001b[0m\u001b[1;34m\"games\"\u001b[0m\u001b[1;33m,\u001b[0m\u001b[1;34m\"goals\"\u001b[0m\u001b[1;33m]\u001b[0m\u001b[1;33m\u001b[0m\u001b[0m\n\u001b[1;32m----> 2\u001b[1;33m \u001b[0mnew_data\u001b[0m \u001b[1;33m=\u001b[0m \u001b[0mdata\u001b[0m\u001b[1;33m.\u001b[0m\u001b[0mdrop\u001b[0m\u001b[1;33m(\u001b[0m\u001b[0mremoved_features\u001b[0m\u001b[1;33m,\u001b[0m \u001b[0maxis\u001b[0m\u001b[1;33m=\u001b[0m\u001b[1;36m1\u001b[0m\u001b[1;33m)\u001b[0m\u001b[1;33m\u001b[0m\u001b[0m\n\u001b[0m",
      "\u001b[1;32m/home/nathan/anaconda3/lib/python3.5/site-packages/pandas/core/generic.py\u001b[0m in \u001b[0;36mdrop\u001b[1;34m(self, labels, axis, level, inplace, errors)\u001b[0m\n\u001b[0;32m   1875\u001b[0m                 \u001b[0mnew_axis\u001b[0m \u001b[1;33m=\u001b[0m \u001b[0maxis\u001b[0m\u001b[1;33m.\u001b[0m\u001b[0mdrop\u001b[0m\u001b[1;33m(\u001b[0m\u001b[0mlabels\u001b[0m\u001b[1;33m,\u001b[0m \u001b[0mlevel\u001b[0m\u001b[1;33m=\u001b[0m\u001b[0mlevel\u001b[0m\u001b[1;33m,\u001b[0m \u001b[0merrors\u001b[0m\u001b[1;33m=\u001b[0m\u001b[0merrors\u001b[0m\u001b[1;33m)\u001b[0m\u001b[1;33m\u001b[0m\u001b[0m\n\u001b[0;32m   1876\u001b[0m             \u001b[1;32melse\u001b[0m\u001b[1;33m:\u001b[0m\u001b[1;33m\u001b[0m\u001b[0m\n\u001b[1;32m-> 1877\u001b[1;33m                 \u001b[0mnew_axis\u001b[0m \u001b[1;33m=\u001b[0m \u001b[0maxis\u001b[0m\u001b[1;33m.\u001b[0m\u001b[0mdrop\u001b[0m\u001b[1;33m(\u001b[0m\u001b[0mlabels\u001b[0m\u001b[1;33m,\u001b[0m \u001b[0merrors\u001b[0m\u001b[1;33m=\u001b[0m\u001b[0merrors\u001b[0m\u001b[1;33m)\u001b[0m\u001b[1;33m\u001b[0m\u001b[0m\n\u001b[0m\u001b[0;32m   1878\u001b[0m             \u001b[0mdropped\u001b[0m \u001b[1;33m=\u001b[0m \u001b[0mself\u001b[0m\u001b[1;33m.\u001b[0m\u001b[0mreindex\u001b[0m\u001b[1;33m(\u001b[0m\u001b[1;33m**\u001b[0m\u001b[1;33m{\u001b[0m\u001b[0maxis_name\u001b[0m\u001b[1;33m:\u001b[0m \u001b[0mnew_axis\u001b[0m\u001b[1;33m}\u001b[0m\u001b[1;33m)\u001b[0m\u001b[1;33m\u001b[0m\u001b[0m\n\u001b[0;32m   1879\u001b[0m             \u001b[1;32mtry\u001b[0m\u001b[1;33m:\u001b[0m\u001b[1;33m\u001b[0m\u001b[0m\n",
      "\u001b[1;32m/home/nathan/anaconda3/lib/python3.5/site-packages/pandas/indexes/base.py\u001b[0m in \u001b[0;36mdrop\u001b[1;34m(self, labels, errors)\u001b[0m\n\u001b[0;32m   3049\u001b[0m             \u001b[1;32mif\u001b[0m \u001b[0merrors\u001b[0m \u001b[1;33m!=\u001b[0m \u001b[1;34m'ignore'\u001b[0m\u001b[1;33m:\u001b[0m\u001b[1;33m\u001b[0m\u001b[0m\n\u001b[0;32m   3050\u001b[0m                 raise ValueError('labels %s not contained in axis' %\n\u001b[1;32m-> 3051\u001b[1;33m                                  labels[mask])\n\u001b[0m\u001b[0;32m   3052\u001b[0m             \u001b[0mindexer\u001b[0m \u001b[1;33m=\u001b[0m \u001b[0mindexer\u001b[0m\u001b[1;33m[\u001b[0m\u001b[1;33m~\u001b[0m\u001b[0mmask\u001b[0m\u001b[1;33m]\u001b[0m\u001b[1;33m\u001b[0m\u001b[0m\n\u001b[0;32m   3053\u001b[0m         \u001b[1;32mreturn\u001b[0m \u001b[0mself\u001b[0m\u001b[1;33m.\u001b[0m\u001b[0mdelete\u001b[0m\u001b[1;33m(\u001b[0m\u001b[0mindexer\u001b[0m\u001b[1;33m)\u001b[0m\u001b[1;33m\u001b[0m\u001b[0m\n",
      "\u001b[1;31mValueError\u001b[0m: labels ['yellowReds'] not contained in axis"
     ]
    }
   ],
   "source": [
    "removed_features = [\"birthday\",\"victories\",\"ties\",\"defeats\",\"yellowCards\",\"yellowReds\",\"redCards\",\"games\",\"goals\"]\n",
    "new_data = data.drop(removed_features, axis=1)"
   ]
  },
  {
   "cell_type": "code",
   "execution_count": 142,
   "metadata": {
    "collapsed": false
   },
   "outputs": [
    {
     "data": {
      "image/png": "[encoded data removed]",
      "text/plain": [
       "<matplotlib.figure.Figure at 0x7f730ee55ac8>"
      ]
     },
     "metadata": {},
     "output_type": "display_data"
    }
   ],
   "source": [
    "forest, train_dat, train_labels, test_data, test_labels = run_forest_importance(new_data)"
   ]
  },
  {
   "cell_type": "code",
   "execution_count": 143,
   "metadata": {
    "collapsed": false
   },
   "outputs": [
    {
     "data": {
      "text/plain": [
       "0.78762886597938142"
      ]
     },
     "execution_count": 143,
     "metadata": {},
     "output_type": "execute_result"
    }
   ],
   "source": [
    "test_pred = forest.predict(test_data)\n",
    "metrics.accuracy_score(test_labels, test_pred)"
   ]
  },
  {
   "cell_type": "code",
   "execution_count": null,
   "metadata": {
    "collapsed": false
   },
   "outputs": [],
   "source": []
  },
  {
   "cell_type": "code",
   "execution_count": null,
   "metadata": {
    "collapsed": true
   },
   "outputs": [],
   "source": []
  },
  {
   "cell_type": "code",
   "execution_count": null,
   "metadata": {
    "collapsed": true
   },
   "outputs": [],
   "source": []
  }
 ],
 "metadata": {
  "anaconda-cloud": {},
  "kernelspec": {
   "display_name": "Python [Root]",
   "language": "python",
   "name": "Python [Root]"
  },
  "language_info": {
   "codemirror_mode": {
    "name": "ipython",
    "version": 3
   },
   "file_extension": ".py",
   "mimetype": "text/x-python",
   "name": "python",
   "nbconvert_exporter": "python",
   "pygments_lexer": "ipython3",
   "version": "3.5.2"
  },
  "nav_menu": {},
  "toc": {
   "navigate_menu": true,
   "number_sections": false,
   "sideBar": false,
   "threshold": "3",
   "toc_cell": true,
   "toc_section_display": "block",
   "toc_window_display": false
  }
 },
 "nbformat": 4,
 "nbformat_minor": 1
}
