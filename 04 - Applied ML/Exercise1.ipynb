{
 "cells": [
  {
   "cell_type": "markdown",
   "metadata": {},
   "source": [
    "# Applied Machine Learning - Exercise 1\n",
    "\n",
    "Train a `sklearn.ensemble.RandomForestClassifier` that given a football player description outputs his skin color. Show how different parameters passed to the Classifier affect the overfitting issue. Perform cross-validation to mitigate the overfitting of your model. Once you assessed your model, inspect the `feature_importances_` attribute and discuss the obtained results. With different assumptions on the data (e.g., dropping certain features even\n",
    "before feeding them to the classifier), can you obtain a substantially different `feature_importances_` attribute?"
   ]
  },
  {
   "cell_type": "code",
   "execution_count": 269,
   "metadata": {
    "collapsed": false
   },
   "outputs": [],
   "source": [
    "import pandas as pd                                     \n",
    "import numpy as np                    \n",
    "\n",
    "import matplotlib.pyplot as plt\n",
    "from sklearn import metrics\n",
    "import os                                         \n",
    "\n",
    "from sklearn.ensemble import RandomForestClassifier\n",
    "\n",
    "%matplotlib inline\n",
    "import seaborn as sns                                   # For pretty plots"
   ]
  },
  {
   "cell_type": "code",
   "execution_count": 270,
   "metadata": {
    "collapsed": false
   },
   "outputs": [
    {
     "data": {
      "text/html": [
       "<div>\n",
       "<table border=\"1\" class=\"dataframe\">\n",
       "  <thead>\n",
       "    <tr style=\"text-align: right;\">\n",
       "      <th></th>\n",
       "      <th>playerShort</th>\n",
       "      <th>club</th>\n",
       "      <th>leagueCountry</th>\n",
       "      <th>birthday</th>\n",
       "      <th>position</th>\n",
       "      <th>yellowCards</th>\n",
       "      <th>redCards</th>\n",
       "      <th>victories</th>\n",
       "      <th>goals</th>\n",
       "      <th>meanIAT_yellowCards</th>\n",
       "      <th>...</th>\n",
       "      <th>meanExp_yellowReds</th>\n",
       "      <th>games</th>\n",
       "      <th>meanExp_redCards</th>\n",
       "      <th>ties</th>\n",
       "      <th>meanExp_yellowCards</th>\n",
       "      <th>height</th>\n",
       "      <th>defeats</th>\n",
       "      <th>meanIAT_yellowReds</th>\n",
       "      <th>weight</th>\n",
       "      <th>skin_color</th>\n",
       "    </tr>\n",
       "  </thead>\n",
       "  <tbody>\n",
       "    <tr>\n",
       "      <th>0</th>\n",
       "      <td>aaron-hughes</td>\n",
       "      <td>Fulham FC</td>\n",
       "      <td>England</td>\n",
       "      <td>3598.0</td>\n",
       "      <td>Center Back</td>\n",
       "      <td>19</td>\n",
       "      <td>0</td>\n",
       "      <td>247</td>\n",
       "      <td>9</td>\n",
       "      <td>-0.034618</td>\n",
       "      <td>...</td>\n",
       "      <td>-0.001615</td>\n",
       "      <td>654</td>\n",
       "      <td>-0.001707</td>\n",
       "      <td>179</td>\n",
       "      <td>-0.040843</td>\n",
       "      <td>182.0</td>\n",
       "      <td>228</td>\n",
       "      <td>-0.001343</td>\n",
       "      <td>71.0</td>\n",
       "      <td>0.125</td>\n",
       "    </tr>\n",
       "    <tr>\n",
       "      <th>1</th>\n",
       "      <td>aaron-hunt</td>\n",
       "      <td>Werder Bremen</td>\n",
       "      <td>Germany</td>\n",
       "      <td>6090.0</td>\n",
       "      <td>Attacking Midfielder</td>\n",
       "      <td>42</td>\n",
       "      <td>1</td>\n",
       "      <td>141</td>\n",
       "      <td>62</td>\n",
       "      <td>-0.002753</td>\n",
       "      <td>...</td>\n",
       "      <td>-0.001535</td>\n",
       "      <td>336</td>\n",
       "      <td>-0.000623</td>\n",
       "      <td>73</td>\n",
       "      <td>-0.002366</td>\n",
       "      <td>183.0</td>\n",
       "      <td>122</td>\n",
       "      <td>-0.001376</td>\n",
       "      <td>73.0</td>\n",
       "      <td>0.125</td>\n",
       "    </tr>\n",
       "    <tr>\n",
       "      <th>2</th>\n",
       "      <td>aaron-lennon</td>\n",
       "      <td>Tottenham Hotspur</td>\n",
       "      <td>England</td>\n",
       "      <td>6314.0</td>\n",
       "      <td>Right Midfielder</td>\n",
       "      <td>11</td>\n",
       "      <td>0</td>\n",
       "      <td>200</td>\n",
       "      <td>31</td>\n",
       "      <td>-0.035463</td>\n",
       "      <td>...</td>\n",
       "      <td>-0.001610</td>\n",
       "      <td>412</td>\n",
       "      <td>-0.001702</td>\n",
       "      <td>97</td>\n",
       "      <td>-0.042534</td>\n",
       "      <td>165.0</td>\n",
       "      <td>115</td>\n",
       "      <td>-0.001340</td>\n",
       "      <td>63.0</td>\n",
       "      <td>0.250</td>\n",
       "    </tr>\n",
       "    <tr>\n",
       "      <th>3</th>\n",
       "      <td>aaron-ramsey</td>\n",
       "      <td>Arsenal FC</td>\n",
       "      <td>England</td>\n",
       "      <td>7664.0</td>\n",
       "      <td>Center Midfielder</td>\n",
       "      <td>31</td>\n",
       "      <td>1</td>\n",
       "      <td>150</td>\n",
       "      <td>39</td>\n",
       "      <td>-0.004654</td>\n",
       "      <td>...</td>\n",
       "      <td>-0.001747</td>\n",
       "      <td>260</td>\n",
       "      <td>-0.000554</td>\n",
       "      <td>42</td>\n",
       "      <td>-0.006586</td>\n",
       "      <td>178.0</td>\n",
       "      <td>68</td>\n",
       "      <td>-0.001357</td>\n",
       "      <td>76.0</td>\n",
       "      <td>0.000</td>\n",
       "    </tr>\n",
       "    <tr>\n",
       "      <th>4</th>\n",
       "      <td>abdelhamid-el-kaoutari</td>\n",
       "      <td>Montpellier HSC</td>\n",
       "      <td>France</td>\n",
       "      <td>7380.0</td>\n",
       "      <td>Center Back</td>\n",
       "      <td>8</td>\n",
       "      <td>2</td>\n",
       "      <td>41</td>\n",
       "      <td>1</td>\n",
       "      <td>-0.022667</td>\n",
       "      <td>...</td>\n",
       "      <td>0.010400</td>\n",
       "      <td>124</td>\n",
       "      <td>0.004019</td>\n",
       "      <td>40</td>\n",
       "      <td>-0.022177</td>\n",
       "      <td>180.0</td>\n",
       "      <td>43</td>\n",
       "      <td>0.009606</td>\n",
       "      <td>73.0</td>\n",
       "      <td>0.250</td>\n",
       "    </tr>\n",
       "  </tbody>\n",
       "</table>\n",
       "<p>5 rows × 21 columns</p>\n",
       "</div>"
      ],
      "text/plain": [
       "              playerShort               club leagueCountry  birthday  \\\n",
       "0            aaron-hughes          Fulham FC       England    3598.0   \n",
       "1              aaron-hunt      Werder Bremen       Germany    6090.0   \n",
       "2            aaron-lennon  Tottenham Hotspur       England    6314.0   \n",
       "3            aaron-ramsey         Arsenal FC       England    7664.0   \n",
       "4  abdelhamid-el-kaoutari    Montpellier HSC        France    7380.0   \n",
       "\n",
       "               position  yellowCards  redCards  victories  goals  \\\n",
       "0           Center Back           19         0        247      9   \n",
       "1  Attacking Midfielder           42         1        141     62   \n",
       "2      Right Midfielder           11         0        200     31   \n",
       "3     Center Midfielder           31         1        150     39   \n",
       "4           Center Back            8         2         41      1   \n",
       "\n",
       "   meanIAT_yellowCards     ...      meanExp_yellowReds  games  \\\n",
       "0            -0.034618     ...               -0.001615    654   \n",
       "1            -0.002753     ...               -0.001535    336   \n",
       "2            -0.035463     ...               -0.001610    412   \n",
       "3            -0.004654     ...               -0.001747    260   \n",
       "4            -0.022667     ...                0.010400    124   \n",
       "\n",
       "   meanExp_redCards  ties  meanExp_yellowCards  height  defeats  \\\n",
       "0         -0.001707   179            -0.040843   182.0      228   \n",
       "1         -0.000623    73            -0.002366   183.0      122   \n",
       "2         -0.001702    97            -0.042534   165.0      115   \n",
       "3         -0.000554    42            -0.006586   178.0       68   \n",
       "4          0.004019    40            -0.022177   180.0       43   \n",
       "\n",
       "   meanIAT_yellowReds  weight  skin_color  \n",
       "0           -0.001343    71.0       0.125  \n",
       "1           -0.001376    73.0       0.125  \n",
       "2           -0.001340    63.0       0.250  \n",
       "3           -0.001357    76.0       0.000  \n",
       "4            0.009606    73.0       0.250  \n",
       "\n",
       "[5 rows x 21 columns]"
      ]
     },
     "execution_count": 270,
     "metadata": {},
     "output_type": "execute_result"
    }
   ],
   "source": [
    "data = pd.read_csv('data/players_cleaned_with_feature.csv')\n",
    "data.head()"
   ]
  },
  {
   "cell_type": "markdown",
   "metadata": {
    "collapsed": true
   },
   "source": [
    "## Data treatment"
   ]
  },
  {
   "cell_type": "markdown",
   "metadata": {},
   "source": [
    "### Skin color\n",
    "\n",
    "In order to perform the classification, we need to determine how much label categories we want. We choose to separate the skin_color of the players in only two groups that we'll call white and black.   "
   ]
  },
  {
   "cell_type": "code",
   "execution_count": 271,
   "metadata": {
    "collapsed": false
   },
   "outputs": [
    {
     "data": {
      "text/plain": [
       "skin_color\n",
       "0    1203\n",
       "1     230\n",
       "Name: skin_color, dtype: int64"
      ]
     },
     "execution_count": 271,
     "metadata": {},
     "output_type": "execute_result"
    }
   ],
   "source": [
    "data[\"skin_color\"] = data[\"skin_color\"].apply(lambda x: 0 if x <=0.5 else 1)\n",
    "data.groupby([\"skin_color\"])[\"skin_color\"].count()"
   ]
  },
  {
   "cell_type": "markdown",
   "metadata": {},
   "source": [
    "### Nan values\n",
    "\n",
    "We still have some unknown height and weight values in our data, so we drop them"
   ]
  },
  {
   "cell_type": "code",
   "execution_count": 272,
   "metadata": {
    "collapsed": false
   },
   "outputs": [],
   "source": [
    "data = data.dropna()"
   ]
  },
  {
   "cell_type": "markdown",
   "metadata": {},
   "source": [
    "### Numerization of string values\n",
    "\n",
    "In order to use the the features with string values, we need to convert them to numerical values. We will just assign the same integer to every same values.\n",
    "\n",
    "We start with the players position:"
   ]
  },
  {
   "cell_type": "code",
   "execution_count": 273,
   "metadata": {
    "collapsed": false
   },
   "outputs": [],
   "source": [
    "for feature in [\"position\",\"leagueCountry\",\"club\"]:\n",
    "    num, labels = pd.factorize(data[feature])\n",
    "    data[feature] = num"
   ]
  },
  {
   "cell_type": "markdown",
   "metadata": {},
   "source": [
    "We don't need the names of the players, so we simply drop them"
   ]
  },
  {
   "cell_type": "code",
   "execution_count": 274,
   "metadata": {
    "collapsed": false
   },
   "outputs": [],
   "source": [
    "data = data.drop(\"playerShort\", axis=1)"
   ]
  },
  {
   "cell_type": "code",
   "execution_count": 291,
   "metadata": {
    "collapsed": false,
    "scrolled": true
   },
   "outputs": [
    {
     "data": {
      "image/png": "[encoded data removed]",
      "text/plain": [
       "<matplotlib.figure.Figure at 0x7f51c8dc3fd0>"
      ]
     },
     "metadata": {},
     "output_type": "display_data"
    }
   ],
   "source": [
    "oob_test(data)"
   ]
  },
  {
   "cell_type": "code",
   "execution_count": 292,
   "metadata": {
    "collapsed": false
   },
   "outputs": [],
   "source": [
    "def oob_test(data):\n",
    "    forest_label = data[\"skin_color\"]\n",
    "    forest_data = data.drop([\"skin_color\"], axis = 1)\n",
    "\n",
    "    oob = []\n",
    "    for i in range(30, 100, 1):\n",
    "        forest = RandomForestClassifier(n_estimators = i, max_features=0.33, max_depth=20, n_jobs=-1, oob_score=True)\n",
    "        forest.fit(forest_data, forest_label)\n",
    "        oob.append(forest.oob_score_)\n",
    "\n",
    "    plt.plot(range(30, 100, 1), oob, '-')"
   ]
  },
  {
   "cell_type": "code",
   "execution_count": null,
   "metadata": {
    "collapsed": false
   },
   "outputs": [],
   "source": []
  },
  {
   "cell_type": "code",
   "execution_count": 293,
   "metadata": {
    "collapsed": false
   },
   "outputs": [],
   "source": [
    "def display_feature_importance(forest, data, labels):\n",
    "    importance = forest.feature_importances_    \n",
    "    df_importance = pd.DataFrame([importance], columns = data.columns)\n",
    "    n_col = len(data.columns)\n",
    "    # graph\n",
    "    fig, ax = plt.subplots()\n",
    "    ax.bar(range(len(importance)), importance)\n",
    "    ax.set_xticks(np.arange(0.5, n_col+0.5, 1))\n",
    "    ax.set_xticklabels(df_importance.columns, rotation=90)"
   ]
  },
  {
   "cell_type": "code",
   "execution_count": 294,
   "metadata": {
    "collapsed": true
   },
   "outputs": [],
   "source": [
    "def split_data(data, labels, ratio=0.5):\n",
    "    len_train = int(ratio*len(data))\n",
    "    train_data = data.ix[:len_train,:]\n",
    "    test_data = data.ix[len_train:,:]\n",
    "    train_labels = labels.ix[:len_train]\n",
    "    test_labels = labels.ix[len_train:]\n",
    "    return train_data, test_data, train_labels, test_labels"
   ]
  },
  {
   "cell_type": "code",
   "execution_count": 295,
   "metadata": {
    "collapsed": false
   },
   "outputs": [],
   "source": [
    "def run_forest_importance(data):\n",
    "    forest = RandomForestClassifier(n_estimators = 100, max_features=\"auto\", max_depth=20, n_jobs=-1)\n",
    "    forest_labels = data[\"skin_color\"]\n",
    "    forest_data = data.drop([\"skin_color\"], axis = 1)\n",
    "    train_data, test_data, train_labels, test_labels = split_data(forest_data, forest_labels, 0.7)\n",
    "    forest.fit(train_data, train_labels)\n",
    "    display_feature_importance(forest, forest_data, forest_labels)\n",
    "    return forest, train_data, train_labels, test_data, test_labels"
   ]
  },
  {
   "cell_type": "code",
   "execution_count": 296,
   "metadata": {
    "collapsed": false
   },
   "outputs": [
    {
     "data": {
      "image/png": "[encoded data removed]",
      "text/plain": [
       "<matplotlib.figure.Figure at 0x7f51c8e02d30>"
      ]
     },
     "metadata": {},
     "output_type": "display_data"
    }
   ],
   "source": [
    "forest, train_dat, train_labels, test_data, test_labels = run_forest_importance(data)"
   ]
  },
  {
   "cell_type": "code",
   "execution_count": 297,
   "metadata": {
    "collapsed": false
   },
   "outputs": [
    {
     "data": {
      "text/plain": [
       "0.86896551724137927"
      ]
     },
     "execution_count": 297,
     "metadata": {},
     "output_type": "execute_result"
    }
   ],
   "source": [
    "test_pred = forest.predict(test_data)\n",
    "metrics.accuracy_score(test_labels, test_pred)"
   ]
  },
  {
   "cell_type": "code",
   "execution_count": null,
   "metadata": {
    "collapsed": false
   },
   "outputs": [],
   "source": []
  },
  {
   "cell_type": "code",
   "execution_count": 298,
   "metadata": {
    "collapsed": false
   },
   "outputs": [
    {
     "data": {
      "text/plain": [
       "skin_color_labels\n",
       "0    85.747126\n",
       "1    14.252874\n",
       "dtype: float64"
      ]
     },
     "execution_count": 298,
     "metadata": {},
     "output_type": "execute_result"
    }
   ],
   "source": [
    "df_test_labels = test_labels.to_frame()\n",
    "df_test_labels.index = range(0, len(df_test_labels))\n",
    "df_test_labels.columns=[\"skin_color_labels\"]\n",
    "df_test_labels.groupby(\"skin_color_labels\").size()/len(test_labels)*100.0"
   ]
  },
  {
   "cell_type": "code",
   "execution_count": 299,
   "metadata": {
    "collapsed": false
   },
   "outputs": [
    {
     "data": {
      "text/plain": [
       "skin_color_pred\n",
       "0    98.850575\n",
       "1     1.149425\n",
       "dtype: float64"
      ]
     },
     "execution_count": 299,
     "metadata": {},
     "output_type": "execute_result"
    }
   ],
   "source": [
    "df_pred = pd.Series(test_pred).to_frame()\n",
    "df_pred.index = range(0, len(df_pred))\n",
    "df_pred.columns=[\"skin_color_pred\"]\n",
    "df_pred.groupby(\"skin_color_pred\").size()/len(test_labels)*100.0"
   ]
  },
  {
   "cell_type": "code",
   "execution_count": 300,
   "metadata": {
    "collapsed": false
   },
   "outputs": [
    {
     "data": {
      "text/plain": [
       "skin_color\n",
       "0    86.896552\n",
       "1    13.103448\n",
       "dtype: float64"
      ]
     },
     "execution_count": 300,
     "metadata": {},
     "output_type": "execute_result"
    }
   ],
   "source": [
    "(test_labels - test_pred).to_frame().groupby(\"skin_color\").size()/len(test_labels)*100.0"
   ]
  },
  {
   "cell_type": "code",
   "execution_count": 301,
   "metadata": {
    "collapsed": false
   },
   "outputs": [
    {
     "data": {
      "text/plain": [
       "skin_color_labels\n",
       "1    5\n",
       "dtype: int64"
      ]
     },
     "execution_count": 301,
     "metadata": {},
     "output_type": "execute_result"
    }
   ],
   "source": [
    "comparison = pd.concat([df_pred,df_test_labels],axis=1)\n",
    "comparison[comparison[\"skin_color_pred\"] == 1].groupby(\"skin_color_labels\").size()"
   ]
  },
  {
   "cell_type": "code",
   "execution_count": 302,
   "metadata": {
    "collapsed": false
   },
   "outputs": [
    {
     "data": {
      "text/plain": [
       "skin_color_labels\n",
       "0    373\n",
       "1     57\n",
       "dtype: int64"
      ]
     },
     "execution_count": 302,
     "metadata": {},
     "output_type": "execute_result"
    }
   ],
   "source": [
    "comparison[comparison[\"skin_color_pred\"] == 0].groupby(\"skin_color_labels\").size()"
   ]
  },
  {
   "cell_type": "markdown",
   "metadata": {},
   "source": [
    "## Removing features"
   ]
  },
  {
   "cell_type": "code",
   "execution_count": 303,
   "metadata": {
    "collapsed": true
   },
   "outputs": [],
   "source": [
    "removed_features = [\"birthday\",\"victories\",\"goals\",\"ties\",\"defeats\"]\n",
    "removed_features = [\"club\"]\n",
    "new_data = data.drop(removed_features, axis=1)"
   ]
  },
  {
   "cell_type": "code",
   "execution_count": 304,
   "metadata": {
    "collapsed": false
   },
   "outputs": [
    {
     "data": {
      "image/png": "[encoded data removed]",
      "text/plain": [
       "<matplotlib.figure.Figure at 0x7f51c912a4a8>"
      ]
     },
     "metadata": {},
     "output_type": "display_data"
    }
   ],
   "source": [
    "forest, train_dat, train_labels, test_data, test_labels = run_forest_importance(new_data)"
   ]
  },
  {
   "cell_type": "code",
   "execution_count": 305,
   "metadata": {
    "collapsed": false
   },
   "outputs": [
    {
     "data": {
      "text/plain": [
       "0.8666666666666667"
      ]
     },
     "execution_count": 305,
     "metadata": {},
     "output_type": "execute_result"
    }
   ],
   "source": [
    "test_pred = forest.predict(test_data)\n",
    "metrics.accuracy_score(test_labels, test_pred)"
   ]
  },
  {
   "cell_type": "code",
   "execution_count": 306,
   "metadata": {
    "collapsed": false
   },
   "outputs": [
    {
     "ename": "TypeError",
     "evalue": "predict() missing 2 required positional arguments: 'test_data' and 'label_data'",
     "output_type": "error",
     "traceback": [
      "\u001b[1;31m---------------------------------------------------------------------------\u001b[0m",
      "\u001b[1;31mTypeError\u001b[0m                                 Traceback (most recent call last)",
      "\u001b[1;32m<ipython-input-306-8e1d342b99ed>\u001b[0m in \u001b[0;36m<module>\u001b[1;34m()\u001b[0m\n\u001b[1;32m----> 1\u001b[1;33m \u001b[0mpredict\u001b[0m\u001b[1;33m(\u001b[0m\u001b[0mforest\u001b[0m\u001b[1;33m)\u001b[0m\u001b[1;33m\u001b[0m\u001b[0m\n\u001b[0m",
      "\u001b[1;31mTypeError\u001b[0m: predict() missing 2 required positional arguments: 'test_data' and 'label_data'"
     ]
    }
   ],
   "source": [
    "predict(forest)"
   ]
  },
  {
   "cell_type": "code",
   "execution_count": null,
   "metadata": {
    "collapsed": true
   },
   "outputs": [],
   "source": []
  }
 ],
 "metadata": {
  "anaconda-cloud": {},
  "kernelspec": {
   "display_name": "Python [Root]",
   "language": "python",
   "name": "Python [Root]"
  },
  "language_info": {
   "codemirror_mode": {
    "name": "ipython",
    "version": 3
   },
   "file_extension": ".py",
   "mimetype": "text/x-python",
   "name": "python",
   "nbconvert_exporter": "python",
   "pygments_lexer": "ipython3",
   "version": "3.5.2"
  },
  "nav_menu": {},
  "toc": {
   "navigate_menu": true,
   "number_sections": false,
   "sideBar": false,
   "threshold": "3",
   "toc_cell": true,
   "toc_section_display": "block",
   "toc_window_display": false
  }
 },
 "nbformat": 4,
 "nbformat_minor": 1
}
