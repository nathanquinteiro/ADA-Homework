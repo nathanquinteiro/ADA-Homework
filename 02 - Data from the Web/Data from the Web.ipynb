{
 "cells": [
  {
   "cell_type": "markdown",
   "metadata": {
    "toc": "true"
   },
   "source": [
    "# Table of Contents\n",
    "<p>\n",
    "<div class=\"lev1\"><a href=\"#Data-from-the-Web\"><span class=\"toc-item-num\">1&nbsp;&nbsp;</span>Data from the Web</a></div>\n",
    "<div class=\"lev1\"><a href=\"#Getting-the-data\"><span class=\"toc-item-num\">2&nbsp;&nbsp;</span>Getting the data</a></div>\n",
    "<div class=\"lev2\"><a href=\"#Requesting-ISA-form\"><span class=\"toc-item-num\">2.1&nbsp;&nbsp;</span>Requesting ISA form</a></div>\n",
    "<div class=\"lev2\"><a href=\"#Finding-form-IDs\"><span class=\"toc-item-num\">2.1&nbsp;&nbsp;</span>Finding form IDs</a></div>\n",
    "<div class=\"lev2\"><a href=\"#Filtering-and-getting-the-data\"><span class=\"toc-item-num\">2.1&nbsp;&nbsp;</span>Filtering and getting the data</a></div>\n",
    "<div class=\"lev2\"><a href=\"#Extracting-data-from-the-result-page\"><span class=\"toc-item-num\">2.1&nbsp;&nbsp;</span>Extracting data from the result page</a></div>\n",
    "<div class=\"lev1\"><a href=\"#Treating-data\"><span class=\"toc-item-num\">3&nbsp;&nbsp;</span>Treating data</a></div>\n",
    "\n",
    "<div class=\"lev2\"><a href=\"#Getting-start-year\"><span class=\"toc-item-num\">3.1&nbsp;&nbsp;</span>Getting start year</a></div>\n",
    "<div class=\"lev2\"><a href=\"#Getting-end-year\"><span class=\"toc-item-num\">3.2&nbsp;&nbsp;</span>Getting end year</a></div>\n",
    "<div class=\"lev3\"><a href=\"#Treating-Bachelor-5-Data\"><span class=\"toc-item-num\">3.2.1&nbsp;&nbsp;</span>Treating Bachelor 5 Data</a></div>\n",
    "<div class=\"lev3\"><a href=\"#Treating-Bachelor-6-Data\"><span class=\"toc-item-num\">3.2.2&nbsp;&nbsp;</span>Treating Bachelor 6 Data</a></div>\n",
    "<div class=\"lev2\"><a href=\"#Obtain-end-year\"><span class=\"toc-item-num\">3.3&nbsp;&nbsp;</span>Obtain end year</a></div>\n",
    "<div class=\"lev2\"><a href=\"#Concatenate-start-and-end-year\"><span class=\"toc-item-num\">3.4&nbsp;&nbsp;</span>Concatenate start and end year</a></div>\n",
    "<div class=\"lev2\"><a href=\"#Compute-Bachelor-duration\"><span class=\"toc-item-num\">3.5&nbsp;&nbsp;</span>Compute Bachelor duration</a></div>\n",
    "<div class=\"lev2\"><a href=\"#Partition-men-and-women\"><span class=\"toc-item-num\">3.6&nbsp;&nbsp;</span>Partition men and women</a></div>\n",
    "<div class=\"lev2\"><a href=\"#Compute-mean-for-each-group\"><span class=\"toc-item-num\">3.7&nbsp;&nbsp;</span>Compute mean for each group</a></div>\n",
    "<div class=\"lev2\"><a href=\"#Gender-group-description\"><span class=\"toc-item-num\">3.8&nbsp;&nbsp;</span>Gender group description</a></div>\n",
    "<div class=\"lev2\"><a href=\"#Duration-according-to-gender\"><span class=\"toc-item-num\">3.9&nbsp;&nbsp;</span>Duration according to gender</a></div>\n",
    "\n",
    "\n",
    "<div class=\"lev1\"><a href=\"#Statistical-test-and-conclusion\"><span class=\"toc-item-num\">4&nbsp;&nbsp;</span> Statistical test and conclusion</a></div>\n",
    "\n",
    "<div class=\"lev1\"><a href=\"#Exercise-2\"><span class=\"toc-item-num\">5&nbsp;&nbsp;</span> Exercise 2</a></div>\n",
    "\n",
    "<div class=\"lev2\"><a href=\"#Get-specialization\"><span class=\"toc-item-num\">5.1&nbsp;&nbsp;</span>Get specialization</a></div>\n",
    "\n",
    "<div class=\"lev2\"><a href=\"#Master-means-duration\"><span class=\"toc-item-num\">5.2&nbsp;&nbsp;</span>Master means duration</a></div>\n",
    "\n",
    "<div class=\"lev2\"><a href=\"#Statistical-test-for-Master-and-conclusion\"><span class=\"toc-item-num\">5.3&nbsp;&nbsp;</span>Statistical test for Master and conclusion</a></div>\n",
    "\n",
    "\n",
    "<div class=\"lev1\"><a href=\"#Bonus\"><span class=\"toc-item-num\">6&nbsp;&nbsp;</span>Bonus</a></div>\n",
    "\n",
    "\n",
    "\n"
   ]
  },
  {
   "cell_type": "markdown",
   "metadata": {},
   "source": [
    "# Data from the Web\n",
    "\n",
    "In this homework we will extract interesting information from IS-Academia, the educational portal of EPFL. Specifically, we will focus on the part that allows public access to academic data. The list of registered students by section and semester is not offered as a downloadable dataset, so you will have to find a way to scrape the information we need. On this form you can select the data to download based on different criteria (e.g., year, semester, etc.)\n",
    "\n",
    "You are not allowed to download manually all the tables -- rather you have to understand what parameters the server accepts, and generate accordingly the HTTP requests. For this task, Postman with the Interceptor extension can help you greatly. I recommend you to watch this brief tutorial to understand quickly how to use it. Your code in the iPython Notebook should not contain any hardcoded URL. To fetch the content from the IS-Academia server, you can use the Requests library with a Base URL, but all the other form parameters should be extracted from the HTML with BeautifulSoup. You can choose to download Excel or HTML files -- they both have pros and cons, as you will find out after a quick check. You can also choose to download data at different granularities (e.g., per semester, per year, etc.) but I recommend you not to download all the data in one shot because 1) the requests are likely to timeout and 2) we will overload the IS-Academia server.\n"
   ]
  },
  {
   "cell_type": "code",
   "execution_count": 601,
   "metadata": {
    "collapsed": false
   },
   "outputs": [],
   "source": [
    "%matplotlib inline\n",
    "import pandas as pd\n",
    "import numpy as np\n",
    "import matplotlib.pyplot as plt\n",
    "import seaborn as sns\n",
    "import glob\n",
    "import requests\n",
    "import re\n",
    "import scipy.stats as stats\n",
    "from bs4 import BeautifulSoup\n",
    "sns.set_context('notebook')"
   ]
  },
  {
   "cell_type": "markdown",
   "metadata": {},
   "source": [
    "# Getting the data"
   ]
  },
  {
   "cell_type": "markdown",
   "metadata": {
    "collapsed": false
   },
   "source": [
    "## Finding ISA form \n",
    "\n",
    "The first part of the job in order to get the data is to get the parameters required to get the data we want.\n",
    "\n",
    "In this purpose, we first do a get request on the ISA form with the link <http://isa.epfl.ch/imoniteur_ISAP/!GEDPUBLICREPORTS.filter?ww_i_reportModel=133685247>.\n",
    "\n",
    "We also use BeautifulSoup on the resulting html response in order to parse it later."
   ]
  },
  {
   "cell_type": "code",
   "execution_count": 602,
   "metadata": {
    "collapsed": false
   },
   "outputs": [],
   "source": [
    "r = requests.get('http://isa.epfl.ch/imoniteur_ISAP/!GEDPUBLICREPORTS.filter?ww_i_reportModel=133685247')\n",
    "r.headers['content-type']\n",
    "html_doc = r.text\n",
    "isaForm = BeautifulSoup(html_doc, 'html.parser')"
   ]
  },
  {
   "cell_type": "markdown",
   "metadata": {},
   "source": [
    "## Finding form IDs\n",
    "\n",
    "Now that we've got the form's html code, we need to know which values of the form are used to filter and displayed the desired data. The values we're interested in are 'unité académique', 'période académique' and 'période pédagogique' (corresponding respectively to section, academic year and semester).\n",
    "\n",
    "By inspecting the html code, we saw that the form items are 'option', it is then easy to get their value by using BeautifupSoup find and find_all method.\n",
    "\n",
    "The following code will simply find the option value corresponding to section 'Informatique', and output it's value (the id used to filter the result).\n",
    "```python\n",
    "    isaForm.find('option', text = re.compile('Informatique'))['value']\n",
    "```\n",
    "\n",
    "We do the same thing for Bachelor 1st and 6th semester.\n",
    "```python\n",
    "    semester_ids['Bachelor semestre 1'] = isaForm.find('option', \n",
    "                                                        text = re.compile('Bachelor semestre 1'))['value']\n",
    "    semester_ids['Bachelor semestre 6'] = isaForm.find('option', \n",
    "                                                        text = re.compile('Bachelor semestre 6'))['value']\n",
    "```\n",
    "\n",
    "And we get the academic years ids from 2007-2008 to 2016-2017 using a for loop (see in the cell below)"
   ]
  },
  {
   "cell_type": "code",
   "execution_count": 603,
   "metadata": {
    "collapsed": false
   },
   "outputs": [
    {
     "name": "stdout",
     "output_type": "stream",
     "text": [
      "Id of informatique :  249847 \n",
      "\n",
      "Id of Bachelor semester 1:  249108 \n",
      "\n",
      "Id of Bachelor semester 6:  942175 \n",
      "\n",
      "Id of Master semester 1:  2230106 \n",
      "\n",
      "Id of Master semester 2:  942192 \n",
      "\n",
      "Id of Master semester 3:  2230128 \n",
      "\n",
      "years ids : (from 2007-2008 to 2016-2017) {'2010-2011': ['39486325'], '2015-2016': ['213638028'], '2012-2013': ['123456101'], '2008-2009': ['978187'], '2014-2015': ['213637922'], '2007-2008': ['978181'], '2013-2014': ['213637754'], '2011-2012': ['123455150'], '2016-2017': ['355925344'], '2009-2010': ['978195']}\n"
     ]
    }
   ],
   "source": [
    "informatique_id = isaForm.find('option', text = re.compile('Informatique'))['value']\n",
    "print(\"Id of informatique : \", informatique_id, \"\\n\")\n",
    "\n",
    "semester_ids = {}\n",
    "for i in range(1, 7):\n",
    "    semester_ids['Bachelor semestre ' + str(i)] = isaForm.find('option', text = re.compile('Bachelor semestre ' + str(i)))['value']\n",
    "    \n",
    "print(\"Id of Bachelor semester 1: \", semester_ids['Bachelor semestre 1'],\"\\n\")\n",
    "print(\"Id of Bachelor semester 6: \", semester_ids['Bachelor semestre 6'],\"\\n\")\n",
    "\n",
    "\n",
    "for i in range(1, 5):    \n",
    "    semester_ids['Master semestre ' + str(i)] = isaForm.find('option', text = re.compile('Master semestre ' + str(i)))['value']\n",
    "        \n",
    "print(\"Id of Master semester 1: \", semester_ids['Master semestre 1'],\"\\n\")\n",
    "print(\"Id of Master semester 2: \", semester_ids['Master semestre 2'],\"\\n\")\n",
    "print(\"Id of Master semester 3: \", semester_ids['Master semestre 3'],\"\\n\")\n",
    "\n",
    "\n",
    "year_ids = {}\n",
    "for y in range(2007, 2017):\n",
    "    school_year = str(y) + \"-\" + str(y+1)\n",
    "    year_ids[str(y) + \"-\" + str(y+1)] = [isaForm.find('option', text = re.compile(school_year))['value']]\n",
    "    \n",
    "print(\"years ids : (from 2007-2008 to 2016-2017)\", year_ids)\n",
    "\n",
    "\n"
   ]
  },
  {
   "cell_type": "markdown",
   "metadata": {},
   "source": [
    "\n",
    "\n",
    "## Filtering and getting the data\n",
    "\n",
    "Now that we know the interesting IDs used in the form, we need to filter and request our data. For this purpose, we used Postman and Postman interceptor to intercept and inspect the request method used to get the data from the formula. \n",
    "  \n",
    "</br>\n",
    "\n",
    "\n",
    "\n",
    "\n",
    "The picture below shows all parameters used in the URL to filter and return results for:\n",
    "* Section \"Informatique\"\n",
    "* Academic period \"2016-2017\"\n",
    "* Pedagogic period \"Bachelor semestre 1\"\n",
    "\n",
    "<p>\n",
    "    <img src=\"img/postman.png\" alt=\"postman\" align=\"center\"/>\n",
    "</p>\n",
    "\n",
    "After playing a bit with the URL, we conclude that not all parameters were mandatory, the required parameters and their values are:\n",
    "\n",
    "|parameter  | value |\n",
    "|-----------|-------|\n",
    "|ww_b_list  |must be '1'|  \n",
    "|ww_i_reportmodel|must be '133685247'|\n",
    "|ww_i_reportModelXsl|must be '133685270'|\n",
    "|ww_x_UNITE_ACAD|correspond to the id of the section, taken from the form|\n",
    "|ww_x_PERIODE_ACAD|correspond to the id of the academic year, taken from the form|\n",
    "|ww_x_PERIODE_PEDAGO|correspond to the id of the semester, taken from the form|\n",
    "\n",
    "Therefore we create a parameters dictionnary and put all the need parameters in order to get the correct URL.\n"
   ]
  },
  {
   "cell_type": "code",
   "execution_count": 604,
   "metadata": {
    "collapsed": false
   },
   "outputs": [],
   "source": [
    "def getFilteredPage(academic_year, semester):\n",
    "    params = {'ww_b_list':'1',\n",
    "            'ww_i_reportmodel':'133685247',\n",
    "            'ww_i_reportModelXsl':'133685270',\n",
    "            'ww_x_UNITE_ACAD':informatique_id,\n",
    "            'ww_x_PERIODE_ACAD':year_ids[academic_year],\n",
    "            'ww_x_PERIODE_PEDAGO':semester_ids[semester]}\n",
    "    r = requests.get('http://isa.epfl.ch/imoniteur_ISAP/!GEDPUBLICREPORTS.filter?', params)\n",
    "    html_doc = r.text\n",
    "    return BeautifulSoup(html_doc, 'html.parser'), params\n"
   ]
  },
  {
   "cell_type": "markdown",
   "metadata": {},
   "source": [
    "The filter returns us a new html page containing two possibilities link to display the data. \n",
    "Since we used very precise filter in the form (specifying years, semester and section), there is only one set of data to display, meaning that both link (\"Tous\" and \"Informatique, 'years', 'semester'\") leads to the same dataset.\n",
    "\n",
    "We choose to get the link from the \"Informatique, 'years', 'semester', therefore, by inspecting the html code, we saw that the parameters used in the link was \"ww_x_GPS\", we simply get it from the html page for the desired data."
   ]
  },
  {
   "cell_type": "code",
   "execution_count": 605,
   "metadata": {
    "collapsed": false
   },
   "outputs": [],
   "source": [
    "def getResultPage(academic_year, semester):\n",
    "    filteredPage, params = getFilteredPage(academic_year, semester)\n",
    "    params['ww_x_GPS'] = filteredPage.find_all('a')[1].get('onclick').split(\"ww_x_GPS=\")[1].split(\"')\")[0]\n",
    "    r = requests.get('http://isa.epfl.ch/imoniteur_ISAP/!GEDPUBLICREPORTS.bhtml?', params)\n",
    "    return BeautifulSoup(r.text, 'html.parser')"
   ]
  },
  {
   "cell_type": "markdown",
   "metadata": {},
   "source": [
    "We can then simply request the dataset, using the base URL we found thanks to Postman, the parameters used for the filter and the ww_x_GPS id."
   ]
  },
  {
   "cell_type": "markdown",
   "metadata": {},
   "source": [
    "## Extracting data from the result page\n",
    "\n",
    "Now that we have the page displaying the desired dataset, it's time to get the interesting information out of it. "
   ]
  },
  {
   "cell_type": "code",
   "execution_count": 606,
   "metadata": {
    "collapsed": false
   },
   "outputs": [],
   "source": [
    "def getData(academic_year, semester):\n",
    "    data = getResultPage(academic_year, semester)\n",
    "    students_tr = data.body.hr.table.find_all('tr')[2:]\n",
    "    students = []\n",
    "    for i in range (0,len(students_tr)):\n",
    "        student = students_tr[i].find_all('td')\n",
    "        students.append([student[0].text,student[1].text.replace(u'\\xa0', u' '),student[10].text,student[7].text])\n",
    "\n",
    "    return pd.DataFrame(students, columns=['Gender', 'Name', 'Sciper No', academic_year])"
   ]
  },
  {
   "cell_type": "markdown",
   "metadata": {
    "collapsed": true
   },
   "source": [
    "## Concatenate data"
   ]
  },
  {
   "cell_type": "code",
   "execution_count": 607,
   "metadata": {
    "collapsed": false
   },
   "outputs": [],
   "source": [
    "def getAllData(startyear, endyear, semester):\n",
    "    data = getData(str(startyear) + \"-\" + str(startyear + 1), semester)\n",
    "    for i in range(startyear, endyear):\n",
    "        data = pd.merge(data, getData(str(i+1) + \"-\" + str(i + 2), semester), how='outer', on=['Gender','Name','Sciper No'])\n",
    "    data.fillna(value='Absent')\n",
    "    return data"
   ]
  },
  {
   "cell_type": "code",
   "execution_count": 608,
   "metadata": {
    "collapsed": false
   },
   "outputs": [],
   "source": [
    "Bachelor1_data = getAllData(2007, 2016, 'Bachelor semestre 1')\n",
    "Bachelor5_data = getAllData(2007, 2016, 'Bachelor semestre 5')\n",
    "Bachelor6_data = getAllData(2007, 2016, 'Bachelor semestre 6')"
   ]
  },
  {
   "cell_type": "code",
   "execution_count": 609,
   "metadata": {
    "collapsed": false
   },
   "outputs": [
    {
     "data": {
      "text/html": [
       "<div>\n",
       "<table border=\"1\" class=\"dataframe\">\n",
       "  <thead>\n",
       "    <tr style=\"text-align: right;\">\n",
       "      <th></th>\n",
       "      <th>Gender</th>\n",
       "      <th>Name</th>\n",
       "      <th>Sciper No</th>\n",
       "      <th>2007-2008</th>\n",
       "      <th>2008-2009</th>\n",
       "      <th>2009-2010</th>\n",
       "      <th>2010-2011</th>\n",
       "      <th>2011-2012</th>\n",
       "      <th>2012-2013</th>\n",
       "      <th>2013-2014</th>\n",
       "      <th>2014-2015</th>\n",
       "      <th>2015-2016</th>\n",
       "      <th>2016-2017</th>\n",
       "    </tr>\n",
       "  </thead>\n",
       "  <tbody>\n",
       "    <tr>\n",
       "      <th>0</th>\n",
       "      <td>Monsieur</td>\n",
       "      <td>Arévalo Christian</td>\n",
       "      <td>169569</td>\n",
       "      <td>Présent</td>\n",
       "      <td>NaN</td>\n",
       "      <td>NaN</td>\n",
       "      <td>NaN</td>\n",
       "      <td>NaN</td>\n",
       "      <td>NaN</td>\n",
       "      <td>NaN</td>\n",
       "      <td>NaN</td>\n",
       "      <td>NaN</td>\n",
       "      <td>NaN</td>\n",
       "    </tr>\n",
       "    <tr>\n",
       "      <th>1</th>\n",
       "      <td>Monsieur</td>\n",
       "      <td>Aubelle Flavien</td>\n",
       "      <td>174905</td>\n",
       "      <td>Présent</td>\n",
       "      <td>NaN</td>\n",
       "      <td>NaN</td>\n",
       "      <td>NaN</td>\n",
       "      <td>NaN</td>\n",
       "      <td>NaN</td>\n",
       "      <td>NaN</td>\n",
       "      <td>NaN</td>\n",
       "      <td>NaN</td>\n",
       "      <td>NaN</td>\n",
       "    </tr>\n",
       "    <tr>\n",
       "      <th>2</th>\n",
       "      <td>Monsieur</td>\n",
       "      <td>Badoud Morgan</td>\n",
       "      <td>173922</td>\n",
       "      <td>Présent</td>\n",
       "      <td>NaN</td>\n",
       "      <td>NaN</td>\n",
       "      <td>NaN</td>\n",
       "      <td>NaN</td>\n",
       "      <td>NaN</td>\n",
       "      <td>NaN</td>\n",
       "      <td>NaN</td>\n",
       "      <td>NaN</td>\n",
       "      <td>NaN</td>\n",
       "    </tr>\n",
       "    <tr>\n",
       "      <th>3</th>\n",
       "      <td>Monsieur</td>\n",
       "      <td>Baeriswyl Jonathan</td>\n",
       "      <td>179406</td>\n",
       "      <td>Présent</td>\n",
       "      <td>NaN</td>\n",
       "      <td>NaN</td>\n",
       "      <td>NaN</td>\n",
       "      <td>NaN</td>\n",
       "      <td>NaN</td>\n",
       "      <td>NaN</td>\n",
       "      <td>NaN</td>\n",
       "      <td>NaN</td>\n",
       "      <td>NaN</td>\n",
       "    </tr>\n",
       "    <tr>\n",
       "      <th>4</th>\n",
       "      <td>Monsieur</td>\n",
       "      <td>Barroco Michael</td>\n",
       "      <td>179428</td>\n",
       "      <td>Présent</td>\n",
       "      <td>NaN</td>\n",
       "      <td>NaN</td>\n",
       "      <td>NaN</td>\n",
       "      <td>NaN</td>\n",
       "      <td>NaN</td>\n",
       "      <td>NaN</td>\n",
       "      <td>NaN</td>\n",
       "      <td>NaN</td>\n",
       "      <td>NaN</td>\n",
       "    </tr>\n",
       "  </tbody>\n",
       "</table>\n",
       "</div>"
      ],
      "text/plain": [
       "     Gender                Name Sciper No 2007-2008 2008-2009 2009-2010  \\\n",
       "0  Monsieur   Arévalo Christian    169569   Présent       NaN       NaN   \n",
       "1  Monsieur     Aubelle Flavien    174905   Présent       NaN       NaN   \n",
       "2  Monsieur       Badoud Morgan    173922   Présent       NaN       NaN   \n",
       "3  Monsieur  Baeriswyl Jonathan    179406   Présent       NaN       NaN   \n",
       "4  Monsieur     Barroco Michael    179428   Présent       NaN       NaN   \n",
       "\n",
       "  2010-2011 2011-2012 2012-2013 2013-2014 2014-2015 2015-2016 2016-2017  \n",
       "0       NaN       NaN       NaN       NaN       NaN       NaN       NaN  \n",
       "1       NaN       NaN       NaN       NaN       NaN       NaN       NaN  \n",
       "2       NaN       NaN       NaN       NaN       NaN       NaN       NaN  \n",
       "3       NaN       NaN       NaN       NaN       NaN       NaN       NaN  \n",
       "4       NaN       NaN       NaN       NaN       NaN       NaN       NaN  "
      ]
     },
     "execution_count": 609,
     "metadata": {},
     "output_type": "execute_result"
    }
   ],
   "source": [
    "Bachelor1_data.head()"
   ]
  },
  {
   "cell_type": "code",
   "execution_count": 610,
   "metadata": {
    "collapsed": false
   },
   "outputs": [
    {
     "data": {
      "text/html": [
       "<div>\n",
       "<table border=\"1\" class=\"dataframe\">\n",
       "  <thead>\n",
       "    <tr style=\"text-align: right;\">\n",
       "      <th></th>\n",
       "      <th>Gender</th>\n",
       "      <th>Name</th>\n",
       "      <th>Sciper No</th>\n",
       "      <th>2007-2008</th>\n",
       "      <th>2008-2009</th>\n",
       "      <th>2009-2010</th>\n",
       "      <th>2010-2011</th>\n",
       "      <th>2011-2012</th>\n",
       "      <th>2012-2013</th>\n",
       "      <th>2013-2014</th>\n",
       "      <th>2014-2015</th>\n",
       "      <th>2015-2016</th>\n",
       "      <th>2016-2017</th>\n",
       "    </tr>\n",
       "  </thead>\n",
       "  <tbody>\n",
       "    <tr>\n",
       "      <th>0</th>\n",
       "      <td>Madame</td>\n",
       "      <td>Andriambololona Riana Miarantsoa</td>\n",
       "      <td>154157</td>\n",
       "      <td>Présent</td>\n",
       "      <td>NaN</td>\n",
       "      <td>NaN</td>\n",
       "      <td>NaN</td>\n",
       "      <td>NaN</td>\n",
       "      <td>NaN</td>\n",
       "      <td>NaN</td>\n",
       "      <td>NaN</td>\n",
       "      <td>NaN</td>\n",
       "      <td>NaN</td>\n",
       "    </tr>\n",
       "    <tr>\n",
       "      <th>1</th>\n",
       "      <td>Monsieur</td>\n",
       "      <td>Barras Florian</td>\n",
       "      <td>170220</td>\n",
       "      <td>Présent</td>\n",
       "      <td>Présent</td>\n",
       "      <td>NaN</td>\n",
       "      <td>NaN</td>\n",
       "      <td>NaN</td>\n",
       "      <td>NaN</td>\n",
       "      <td>NaN</td>\n",
       "      <td>NaN</td>\n",
       "      <td>NaN</td>\n",
       "      <td>NaN</td>\n",
       "    </tr>\n",
       "    <tr>\n",
       "      <th>2</th>\n",
       "      <td>Monsieur</td>\n",
       "      <td>Bécholey Alexandre</td>\n",
       "      <td>160213</td>\n",
       "      <td>Présent</td>\n",
       "      <td>NaN</td>\n",
       "      <td>NaN</td>\n",
       "      <td>NaN</td>\n",
       "      <td>NaN</td>\n",
       "      <td>NaN</td>\n",
       "      <td>NaN</td>\n",
       "      <td>NaN</td>\n",
       "      <td>NaN</td>\n",
       "      <td>NaN</td>\n",
       "    </tr>\n",
       "    <tr>\n",
       "      <th>3</th>\n",
       "      <td>Monsieur</td>\n",
       "      <td>Beuret Thibaut</td>\n",
       "      <td>166701</td>\n",
       "      <td>Présent</td>\n",
       "      <td>Présent</td>\n",
       "      <td>NaN</td>\n",
       "      <td>NaN</td>\n",
       "      <td>NaN</td>\n",
       "      <td>NaN</td>\n",
       "      <td>NaN</td>\n",
       "      <td>NaN</td>\n",
       "      <td>NaN</td>\n",
       "      <td>NaN</td>\n",
       "    </tr>\n",
       "    <tr>\n",
       "      <th>4</th>\n",
       "      <td>Monsieur</td>\n",
       "      <td>Biollay Jean Isaac Jamal Pachacutec</td>\n",
       "      <td>161279</td>\n",
       "      <td>Présent</td>\n",
       "      <td>Présent</td>\n",
       "      <td>NaN</td>\n",
       "      <td>NaN</td>\n",
       "      <td>NaN</td>\n",
       "      <td>NaN</td>\n",
       "      <td>NaN</td>\n",
       "      <td>NaN</td>\n",
       "      <td>NaN</td>\n",
       "      <td>NaN</td>\n",
       "    </tr>\n",
       "  </tbody>\n",
       "</table>\n",
       "</div>"
      ],
      "text/plain": [
       "     Gender                                 Name Sciper No 2007-2008  \\\n",
       "0    Madame     Andriambololona Riana Miarantsoa    154157   Présent   \n",
       "1  Monsieur                       Barras Florian    170220   Présent   \n",
       "2  Monsieur                   Bécholey Alexandre    160213   Présent   \n",
       "3  Monsieur                       Beuret Thibaut    166701   Présent   \n",
       "4  Monsieur  Biollay Jean Isaac Jamal Pachacutec    161279   Présent   \n",
       "\n",
       "  2008-2009 2009-2010 2010-2011 2011-2012 2012-2013 2013-2014 2014-2015  \\\n",
       "0       NaN       NaN       NaN       NaN       NaN       NaN       NaN   \n",
       "1   Présent       NaN       NaN       NaN       NaN       NaN       NaN   \n",
       "2       NaN       NaN       NaN       NaN       NaN       NaN       NaN   \n",
       "3   Présent       NaN       NaN       NaN       NaN       NaN       NaN   \n",
       "4   Présent       NaN       NaN       NaN       NaN       NaN       NaN   \n",
       "\n",
       "  2015-2016 2016-2017  \n",
       "0       NaN       NaN  \n",
       "1       NaN       NaN  \n",
       "2       NaN       NaN  \n",
       "3       NaN       NaN  \n",
       "4       NaN       NaN  "
      ]
     },
     "execution_count": 610,
     "metadata": {},
     "output_type": "execute_result"
    }
   ],
   "source": [
    "Bachelor5_data.head()"
   ]
  },
  {
   "cell_type": "code",
   "execution_count": 611,
   "metadata": {
    "collapsed": false
   },
   "outputs": [
    {
     "data": {
      "text/html": [
       "<div>\n",
       "<table border=\"1\" class=\"dataframe\">\n",
       "  <thead>\n",
       "    <tr style=\"text-align: right;\">\n",
       "      <th></th>\n",
       "      <th>Gender</th>\n",
       "      <th>Name</th>\n",
       "      <th>Sciper No</th>\n",
       "      <th>2007-2008</th>\n",
       "      <th>2008-2009</th>\n",
       "      <th>2009-2010</th>\n",
       "      <th>2010-2011</th>\n",
       "      <th>2011-2012</th>\n",
       "      <th>2012-2013</th>\n",
       "      <th>2013-2014</th>\n",
       "      <th>2014-2015</th>\n",
       "      <th>2015-2016</th>\n",
       "      <th>2016-2017</th>\n",
       "    </tr>\n",
       "  </thead>\n",
       "  <tbody>\n",
       "    <tr>\n",
       "      <th>0</th>\n",
       "      <td>Monsieur</td>\n",
       "      <td>Barras Florian</td>\n",
       "      <td>170220</td>\n",
       "      <td>Présent</td>\n",
       "      <td>Présent</td>\n",
       "      <td>NaN</td>\n",
       "      <td>NaN</td>\n",
       "      <td>NaN</td>\n",
       "      <td>NaN</td>\n",
       "      <td>NaN</td>\n",
       "      <td>NaN</td>\n",
       "      <td>NaN</td>\n",
       "      <td>NaN</td>\n",
       "    </tr>\n",
       "    <tr>\n",
       "      <th>1</th>\n",
       "      <td>Monsieur</td>\n",
       "      <td>Beuret Thibaut</td>\n",
       "      <td>166701</td>\n",
       "      <td>Présent</td>\n",
       "      <td>Présent</td>\n",
       "      <td>NaN</td>\n",
       "      <td>NaN</td>\n",
       "      <td>NaN</td>\n",
       "      <td>NaN</td>\n",
       "      <td>NaN</td>\n",
       "      <td>NaN</td>\n",
       "      <td>NaN</td>\n",
       "      <td>NaN</td>\n",
       "    </tr>\n",
       "    <tr>\n",
       "      <th>2</th>\n",
       "      <td>Monsieur</td>\n",
       "      <td>Biollay Jean Isaac Jamal Pachacutec</td>\n",
       "      <td>161279</td>\n",
       "      <td>Présent</td>\n",
       "      <td>Présent</td>\n",
       "      <td>NaN</td>\n",
       "      <td>NaN</td>\n",
       "      <td>NaN</td>\n",
       "      <td>NaN</td>\n",
       "      <td>NaN</td>\n",
       "      <td>NaN</td>\n",
       "      <td>NaN</td>\n",
       "      <td>NaN</td>\n",
       "    </tr>\n",
       "    <tr>\n",
       "      <th>3</th>\n",
       "      <td>Monsieur</td>\n",
       "      <td>Blatter Jérémy</td>\n",
       "      <td>166344</td>\n",
       "      <td>Présent</td>\n",
       "      <td>Présent</td>\n",
       "      <td>NaN</td>\n",
       "      <td>NaN</td>\n",
       "      <td>NaN</td>\n",
       "      <td>NaN</td>\n",
       "      <td>NaN</td>\n",
       "      <td>NaN</td>\n",
       "      <td>NaN</td>\n",
       "      <td>NaN</td>\n",
       "    </tr>\n",
       "    <tr>\n",
       "      <th>4</th>\n",
       "      <td>Monsieur</td>\n",
       "      <td>Boksanyi Michael</td>\n",
       "      <td>161634</td>\n",
       "      <td>Présent</td>\n",
       "      <td>NaN</td>\n",
       "      <td>NaN</td>\n",
       "      <td>NaN</td>\n",
       "      <td>NaN</td>\n",
       "      <td>NaN</td>\n",
       "      <td>NaN</td>\n",
       "      <td>NaN</td>\n",
       "      <td>NaN</td>\n",
       "      <td>NaN</td>\n",
       "    </tr>\n",
       "  </tbody>\n",
       "</table>\n",
       "</div>"
      ],
      "text/plain": [
       "     Gender                                 Name Sciper No 2007-2008  \\\n",
       "0  Monsieur                       Barras Florian    170220   Présent   \n",
       "1  Monsieur                       Beuret Thibaut    166701   Présent   \n",
       "2  Monsieur  Biollay Jean Isaac Jamal Pachacutec    161279   Présent   \n",
       "3  Monsieur                       Blatter Jérémy    166344   Présent   \n",
       "4  Monsieur                     Boksanyi Michael    161634   Présent   \n",
       "\n",
       "  2008-2009 2009-2010 2010-2011 2011-2012 2012-2013 2013-2014 2014-2015  \\\n",
       "0   Présent       NaN       NaN       NaN       NaN       NaN       NaN   \n",
       "1   Présent       NaN       NaN       NaN       NaN       NaN       NaN   \n",
       "2   Présent       NaN       NaN       NaN       NaN       NaN       NaN   \n",
       "3   Présent       NaN       NaN       NaN       NaN       NaN       NaN   \n",
       "4       NaN       NaN       NaN       NaN       NaN       NaN       NaN   \n",
       "\n",
       "  2015-2016 2016-2017  \n",
       "0       NaN       NaN  \n",
       "1       NaN       NaN  \n",
       "2       NaN       NaN  \n",
       "3       NaN       NaN  \n",
       "4       NaN       NaN  "
      ]
     },
     "execution_count": 611,
     "metadata": {},
     "output_type": "execute_result"
    }
   ],
   "source": [
    "Bachelor6_data.head()"
   ]
  },
  {
   "cell_type": "markdown",
   "metadata": {},
   "source": [
    "# Treating data"
   ]
  },
  {
   "cell_type": "markdown",
   "metadata": {},
   "source": [
    "## Use data years\n",
    "\n",
    "What we want to extract from the data is the duration of the Bachelor for each student, in order to do this, we'll need to know the year of the beginning and the year of the end of the Bachelor.   \n",
    "\n",
    "The year of beginning is the first year for which we have an entry of the student in Bachelor 1 (We assume the student must necessarly start on Semester 1).\n",
    "\n",
    "On the other side, the end of the Bachelor can either be in semester 6 or semester 5, because a student can fail his 5th semester but succeed his 6th, and will therefore have to redo semester 5.\n",
    "\n",
    "We can basically compute start and end year as follow : \n",
    "    * Start year = min(Year where student is registered in Bachelor semester 1)\n",
    "    * Bachelor_semester_5_end = max(Year where student is registered in Bachelor semester 5)\n",
    "    * Bachelor_semester_6_end = max(Year where student is registered in Bachelor semester 6)\n",
    "    * End year = max(Bachelor_semester_5_end, Bachelor_semester_6_end)  "
   ]
  },
  {
   "cell_type": "code",
   "execution_count": 612,
   "metadata": {
    "collapsed": true
   },
   "outputs": [],
   "source": [
    "def setDate(data):\n",
    "    for column in data:\n",
    "        year = float(column.split(\"-\")[0])\n",
    "        data[column]= data[column].replace(\"Présent\", year, regex=True)\n",
    "        data[column]= data[column].replace(\"Congé\", year, regex=True)\n",
    "        data[column]= data[column].replace(\"Attente\", year, regex=True)\n",
    "        data[column]= data[column].replace(\"Stage\", year, regex=True)\n",
    "    return data"
   ]
  },
  {
   "cell_type": "markdown",
   "metadata": {},
   "source": [
    "## Getting start year\n",
    "\n",
    "Now that we have all the data of the bachelor 1 concatenated, we need to extract the desired value.\n",
    "\n",
    "In order to compute the duration of the bachelor for each student, the interesting data for Bachelor 1 is the year where the student started his Bachelor, which correspond to the first year where the student appears in the data.\n",
    "\n",
    "For this, we first replace the presence in the bachelor 1 data by the year, and then get only the minimum year."
   ]
  },
  {
   "cell_type": "code",
   "execution_count": 613,
   "metadata": {
    "collapsed": false
   },
   "outputs": [
    {
     "data": {
      "text/html": [
       "<div>\n",
       "<table border=\"1\" class=\"dataframe\">\n",
       "  <thead>\n",
       "    <tr style=\"text-align: right;\">\n",
       "      <th></th>\n",
       "      <th>Gender</th>\n",
       "      <th>Name</th>\n",
       "      <th>Sciper No</th>\n",
       "      <th>Bachelor start year</th>\n",
       "    </tr>\n",
       "  </thead>\n",
       "  <tbody>\n",
       "    <tr>\n",
       "      <th>0</th>\n",
       "      <td>Monsieur</td>\n",
       "      <td>Arévalo Christian</td>\n",
       "      <td>169569</td>\n",
       "      <td>2007.5</td>\n",
       "    </tr>\n",
       "    <tr>\n",
       "      <th>1</th>\n",
       "      <td>Monsieur</td>\n",
       "      <td>Aubelle Flavien</td>\n",
       "      <td>174905</td>\n",
       "      <td>2007.5</td>\n",
       "    </tr>\n",
       "    <tr>\n",
       "      <th>2</th>\n",
       "      <td>Monsieur</td>\n",
       "      <td>Badoud Morgan</td>\n",
       "      <td>173922</td>\n",
       "      <td>2007.5</td>\n",
       "    </tr>\n",
       "    <tr>\n",
       "      <th>3</th>\n",
       "      <td>Monsieur</td>\n",
       "      <td>Baeriswyl Jonathan</td>\n",
       "      <td>179406</td>\n",
       "      <td>2007.5</td>\n",
       "    </tr>\n",
       "    <tr>\n",
       "      <th>4</th>\n",
       "      <td>Monsieur</td>\n",
       "      <td>Barroco Michael</td>\n",
       "      <td>179428</td>\n",
       "      <td>2007.5</td>\n",
       "    </tr>\n",
       "  </tbody>\n",
       "</table>\n",
       "</div>"
      ],
      "text/plain": [
       "     Gender                Name Sciper No  Bachelor start year\n",
       "0  Monsieur   Arévalo Christian    169569               2007.5\n",
       "1  Monsieur     Aubelle Flavien    174905               2007.5\n",
       "2  Monsieur       Badoud Morgan    173922               2007.5\n",
       "3  Monsieur  Baeriswyl Jonathan    179406               2007.5\n",
       "4  Monsieur     Barroco Michael    179428               2007.5"
      ]
     },
     "execution_count": 613,
     "metadata": {},
     "output_type": "execute_result"
    }
   ],
   "source": [
    "#Take only years column\n",
    "dataBegin = Bachelor1_data.copy()\n",
    "dataBegin = dataBegin.drop(dataBegin.columns[[0,1,2]], axis=1)\n",
    "\n",
    "#Replace Presence/absence with the year and get the minimum, add 0.5 year because semester 1 starts in spring\n",
    "yearBegin = setDate(dataBegin).min(axis=1)\n",
    "yearBegin = yearBegin + pd.Series(len(yearBegin)*[0.5])\n",
    "\n",
    "#Merge the minimum with the Gender/Name/Sciper columns\n",
    "bch1_final = pd.merge(Bachelor1_data.drop(Bachelor1_data.columns[3:], axis=1), yearBegin.to_frame(),left_index=True, right_index=True)\n",
    "bch1_final.columns = [['Gender', 'Name', 'Sciper No', 'Bachelor start year']]\n",
    "bch1_final.head()"
   ]
  },
  {
   "cell_type": "markdown",
   "metadata": {},
   "source": [
    "## Getting end year"
   ]
  },
  {
   "cell_type": "markdown",
   "metadata": {},
   "source": [
    "### Treating Bachelor 5 Data\n",
    "\n",
    "We use the same logic for bachelor 5 than for bachelor 1, except we are interested in the maximum year where the student is registered."
   ]
  },
  {
   "cell_type": "code",
   "execution_count": 614,
   "metadata": {
    "collapsed": false
   },
   "outputs": [
    {
     "data": {
      "text/html": [
       "<div>\n",
       "<table border=\"1\" class=\"dataframe\">\n",
       "  <thead>\n",
       "    <tr style=\"text-align: right;\">\n",
       "      <th></th>\n",
       "      <th>Gender</th>\n",
       "      <th>Name</th>\n",
       "      <th>Sciper No</th>\n",
       "      <th>Last Bachelor 5 year</th>\n",
       "    </tr>\n",
       "  </thead>\n",
       "  <tbody>\n",
       "    <tr>\n",
       "      <th>0</th>\n",
       "      <td>Madame</td>\n",
       "      <td>Andriambololona Riana Miarantsoa</td>\n",
       "      <td>154157</td>\n",
       "      <td>2007.5</td>\n",
       "    </tr>\n",
       "    <tr>\n",
       "      <th>1</th>\n",
       "      <td>Monsieur</td>\n",
       "      <td>Barras Florian</td>\n",
       "      <td>170220</td>\n",
       "      <td>2008.5</td>\n",
       "    </tr>\n",
       "    <tr>\n",
       "      <th>2</th>\n",
       "      <td>Monsieur</td>\n",
       "      <td>Bécholey Alexandre</td>\n",
       "      <td>160213</td>\n",
       "      <td>2007.5</td>\n",
       "    </tr>\n",
       "    <tr>\n",
       "      <th>3</th>\n",
       "      <td>Monsieur</td>\n",
       "      <td>Beuret Thibaut</td>\n",
       "      <td>166701</td>\n",
       "      <td>2008.5</td>\n",
       "    </tr>\n",
       "    <tr>\n",
       "      <th>4</th>\n",
       "      <td>Monsieur</td>\n",
       "      <td>Biollay Jean Isaac Jamal Pachacutec</td>\n",
       "      <td>161279</td>\n",
       "      <td>2008.5</td>\n",
       "    </tr>\n",
       "  </tbody>\n",
       "</table>\n",
       "</div>"
      ],
      "text/plain": [
       "     Gender                                 Name Sciper No  \\\n",
       "0    Madame     Andriambololona Riana Miarantsoa    154157   \n",
       "1  Monsieur                       Barras Florian    170220   \n",
       "2  Monsieur                   Bécholey Alexandre    160213   \n",
       "3  Monsieur                       Beuret Thibaut    166701   \n",
       "4  Monsieur  Biollay Jean Isaac Jamal Pachacutec    161279   \n",
       "\n",
       "   Last Bachelor 5 year  \n",
       "0                2007.5  \n",
       "1                2008.5  \n",
       "2                2007.5  \n",
       "3                2008.5  \n",
       "4                2008.5  "
      ]
     },
     "execution_count": 614,
     "metadata": {},
     "output_type": "execute_result"
    }
   ],
   "source": [
    "#Take only years column\n",
    "bach5 = Bachelor5_data.copy()\n",
    "bach5 = bach5.drop(bach5.columns[[0,1,2]], axis=1)\n",
    "\n",
    "#Replace Presence/absence with the year and get the minimum, add 0.5 year because semester 5 starts in spring\n",
    "bach5Year = setDate(bach5).max(axis = 1)\n",
    "bach5Year = bach5Year + pd.Series(len(bach5Year)*[0.5])\n",
    "\n",
    "#Merge the minimum with the Gender/Name/Sciper columns\n",
    "bch5_final = pd.concat((Bachelor5_data.drop(Bachelor5_data.columns[3:], axis=1), bach5Year.to_frame()), axis=1)\n",
    "bch5_final.columns = [['Gender', 'Name', 'Sciper No', 'Last Bachelor 5 year']]\n",
    "bch5_final.head()"
   ]
  },
  {
   "cell_type": "markdown",
   "metadata": {},
   "source": [
    "### Treating Bachelor 6 Data\n",
    "\n",
    "Same as Bachelor 5, and add 1 year because semester 6 starts in spring"
   ]
  },
  {
   "cell_type": "code",
   "execution_count": 615,
   "metadata": {
    "collapsed": false
   },
   "outputs": [
    {
     "data": {
      "text/html": [
       "<div>\n",
       "<table border=\"1\" class=\"dataframe\">\n",
       "  <thead>\n",
       "    <tr style=\"text-align: right;\">\n",
       "      <th></th>\n",
       "      <th>Gender</th>\n",
       "      <th>Name</th>\n",
       "      <th>Sciper No</th>\n",
       "      <th>Last Bachelor 6 year</th>\n",
       "    </tr>\n",
       "  </thead>\n",
       "  <tbody>\n",
       "    <tr>\n",
       "      <th>0</th>\n",
       "      <td>Monsieur</td>\n",
       "      <td>Barras Florian</td>\n",
       "      <td>170220</td>\n",
       "      <td>2009.0</td>\n",
       "    </tr>\n",
       "    <tr>\n",
       "      <th>1</th>\n",
       "      <td>Monsieur</td>\n",
       "      <td>Beuret Thibaut</td>\n",
       "      <td>166701</td>\n",
       "      <td>2009.0</td>\n",
       "    </tr>\n",
       "    <tr>\n",
       "      <th>2</th>\n",
       "      <td>Monsieur</td>\n",
       "      <td>Biollay Jean Isaac Jamal Pachacutec</td>\n",
       "      <td>161279</td>\n",
       "      <td>2009.0</td>\n",
       "    </tr>\n",
       "    <tr>\n",
       "      <th>3</th>\n",
       "      <td>Monsieur</td>\n",
       "      <td>Blatter Jérémy</td>\n",
       "      <td>166344</td>\n",
       "      <td>2009.0</td>\n",
       "    </tr>\n",
       "    <tr>\n",
       "      <th>4</th>\n",
       "      <td>Monsieur</td>\n",
       "      <td>Boksanyi Michael</td>\n",
       "      <td>161634</td>\n",
       "      <td>2008.0</td>\n",
       "    </tr>\n",
       "  </tbody>\n",
       "</table>\n",
       "</div>"
      ],
      "text/plain": [
       "     Gender                                 Name Sciper No  \\\n",
       "0  Monsieur                       Barras Florian    170220   \n",
       "1  Monsieur                       Beuret Thibaut    166701   \n",
       "2  Monsieur  Biollay Jean Isaac Jamal Pachacutec    161279   \n",
       "3  Monsieur                       Blatter Jérémy    166344   \n",
       "4  Monsieur                     Boksanyi Michael    161634   \n",
       "\n",
       "   Last Bachelor 6 year  \n",
       "0                2009.0  \n",
       "1                2009.0  \n",
       "2                2009.0  \n",
       "3                2009.0  \n",
       "4                2008.0  "
      ]
     },
     "execution_count": 615,
     "metadata": {},
     "output_type": "execute_result"
    }
   ],
   "source": [
    "#Take only years column\n",
    "bach6 = Bachelor6_data.copy()\n",
    "bach6 = bach6.drop(bach6.columns[[0,1,2]], axis=1)\n",
    "\n",
    "#Replace Presence/absence with the year and get the minimum, add 1 year because semester 6 starts in spring\n",
    "bach6Year = setDate(bach6).max(axis=1)\n",
    "bach6Year = bach6Year + pd.Series(len(bach6Year)*[1])\n",
    "\n",
    "#Merge the minimum with the Gender/Name/Sciper columns\n",
    "bch6_final = pd.concat((Bachelor6_data.drop(Bachelor6_data.columns[3:], axis=1), bach6Year.to_frame()), axis=1)\n",
    "bch6_final.columns = [['Gender', 'Name', 'Sciper No', 'Last Bachelor 6 year']]\n",
    "bch6_final.head()"
   ]
  },
  {
   "cell_type": "markdown",
   "metadata": {},
   "source": [
    "### Obtain end year\n",
    "\n",
    "We merge the bachelor 5 and 6 data and get the maximum year, which correspond to the end year."
   ]
  },
  {
   "cell_type": "code",
   "execution_count": 616,
   "metadata": {
    "collapsed": false
   },
   "outputs": [
    {
     "data": {
      "text/html": [
       "<div>\n",
       "<table border=\"1\" class=\"dataframe\">\n",
       "  <thead>\n",
       "    <tr style=\"text-align: right;\">\n",
       "      <th></th>\n",
       "      <th>Gender</th>\n",
       "      <th>Name</th>\n",
       "      <th>Sciper No</th>\n",
       "      <th>Bachelor end year</th>\n",
       "    </tr>\n",
       "  </thead>\n",
       "  <tbody>\n",
       "    <tr>\n",
       "      <th>0</th>\n",
       "      <td>Monsieur</td>\n",
       "      <td>Barras Florian</td>\n",
       "      <td>170220</td>\n",
       "      <td>2009.0</td>\n",
       "    </tr>\n",
       "    <tr>\n",
       "      <th>1</th>\n",
       "      <td>Monsieur</td>\n",
       "      <td>Beuret Thibaut</td>\n",
       "      <td>166701</td>\n",
       "      <td>2009.0</td>\n",
       "    </tr>\n",
       "    <tr>\n",
       "      <th>2</th>\n",
       "      <td>Monsieur</td>\n",
       "      <td>Biollay Jean Isaac Jamal Pachacutec</td>\n",
       "      <td>161279</td>\n",
       "      <td>2009.0</td>\n",
       "    </tr>\n",
       "    <tr>\n",
       "      <th>3</th>\n",
       "      <td>Monsieur</td>\n",
       "      <td>Blatter Jérémy</td>\n",
       "      <td>166344</td>\n",
       "      <td>2009.0</td>\n",
       "    </tr>\n",
       "    <tr>\n",
       "      <th>4</th>\n",
       "      <td>Monsieur</td>\n",
       "      <td>Boksanyi Michael</td>\n",
       "      <td>161634</td>\n",
       "      <td>2008.0</td>\n",
       "    </tr>\n",
       "  </tbody>\n",
       "</table>\n",
       "</div>"
      ],
      "text/plain": [
       "     Gender                                 Name Sciper No  Bachelor end year\n",
       "0  Monsieur                       Barras Florian    170220             2009.0\n",
       "1  Monsieur                       Beuret Thibaut    166701             2009.0\n",
       "2  Monsieur  Biollay Jean Isaac Jamal Pachacutec    161279             2009.0\n",
       "3  Monsieur                       Blatter Jérémy    166344             2009.0\n",
       "4  Monsieur                     Boksanyi Michael    161634             2008.0"
      ]
     },
     "execution_count": 616,
     "metadata": {},
     "output_type": "execute_result"
    }
   ],
   "source": [
    "concat = pd.merge(bch5_final, bch6_final, how='inner', on=['Gender','Name','Sciper No'])\n",
    "endyear = concat.drop(concat.columns[[0,1,2]], axis=1).max(axis=1)\n",
    "bch_end_final = pd.concat((concat.drop(concat.columns[3:], axis=1), endyear.to_frame()), axis=1)\n",
    "bch_end_final.columns = [['Gender', 'Name', 'Sciper No', 'Bachelor end year']]\n",
    "bch_end_final.head()"
   ]
  },
  {
   "cell_type": "markdown",
   "metadata": {},
   "source": [
    "## Concatenate start and end year\n",
    "\n",
    "Now that we have start and end year for each student, we can concatenate the data and have one DataFrame containing both values."
   ]
  },
  {
   "cell_type": "code",
   "execution_count": 617,
   "metadata": {
    "collapsed": false
   },
   "outputs": [
    {
     "data": {
      "text/html": [
       "<div>\n",
       "<table border=\"1\" class=\"dataframe\">\n",
       "  <thead>\n",
       "    <tr style=\"text-align: right;\">\n",
       "      <th></th>\n",
       "      <th>Gender</th>\n",
       "      <th>Name</th>\n",
       "      <th>Sciper No</th>\n",
       "      <th>Bachelor start year</th>\n",
       "      <th>Bachelor end year</th>\n",
       "    </tr>\n",
       "  </thead>\n",
       "  <tbody>\n",
       "    <tr>\n",
       "      <th>0</th>\n",
       "      <td>Monsieur</td>\n",
       "      <td>Arévalo Christian</td>\n",
       "      <td>169569</td>\n",
       "      <td>2007.5</td>\n",
       "      <td>2010.0</td>\n",
       "    </tr>\n",
       "    <tr>\n",
       "      <th>1</th>\n",
       "      <td>Monsieur</td>\n",
       "      <td>Aubelle Flavien</td>\n",
       "      <td>174905</td>\n",
       "      <td>2007.5</td>\n",
       "      <td>2012.0</td>\n",
       "    </tr>\n",
       "    <tr>\n",
       "      <th>2</th>\n",
       "      <td>Monsieur</td>\n",
       "      <td>Baeriswyl Jonathan</td>\n",
       "      <td>179406</td>\n",
       "      <td>2007.5</td>\n",
       "      <td>2011.0</td>\n",
       "    </tr>\n",
       "    <tr>\n",
       "      <th>3</th>\n",
       "      <td>Monsieur</td>\n",
       "      <td>Barroco Michael</td>\n",
       "      <td>179428</td>\n",
       "      <td>2007.5</td>\n",
       "      <td>2011.0</td>\n",
       "    </tr>\n",
       "    <tr>\n",
       "      <th>4</th>\n",
       "      <td>Monsieur</td>\n",
       "      <td>Bindschaedler Vincent</td>\n",
       "      <td>179449</td>\n",
       "      <td>2007.5</td>\n",
       "      <td>2010.0</td>\n",
       "    </tr>\n",
       "  </tbody>\n",
       "</table>\n",
       "</div>"
      ],
      "text/plain": [
       "     Gender                   Name Sciper No  Bachelor start year  \\\n",
       "0  Monsieur      Arévalo Christian    169569               2007.5   \n",
       "1  Monsieur        Aubelle Flavien    174905               2007.5   \n",
       "2  Monsieur     Baeriswyl Jonathan    179406               2007.5   \n",
       "3  Monsieur        Barroco Michael    179428               2007.5   \n",
       "4  Monsieur  Bindschaedler Vincent    179449               2007.5   \n",
       "\n",
       "   Bachelor end year  \n",
       "0             2010.0  \n",
       "1             2012.0  \n",
       "2             2011.0  \n",
       "3             2011.0  \n",
       "4             2010.0  "
      ]
     },
     "execution_count": 617,
     "metadata": {},
     "output_type": "execute_result"
    }
   ],
   "source": [
    "AllStudentsBeginAndEnd = pd.merge(bch1_final, bch_end_final, how='inner', on=['Gender','Name','Sciper No'])\n",
    "AllStudentsBeginAndEnd.head()"
   ]
  },
  {
   "cell_type": "markdown",
   "metadata": {},
   "source": [
    "## Compute Bachelor duration\n",
    "\n",
    "Now that we have start and end year of each student, we can compute the bachelor duration easily.\n",
    "\n",
    "We chose to diplay the duration in semesters, we can then simply substract the start year to the end year, multiply by 2 and add 1 (because we want to compute the total time of the Bachelor, counting the last semester)\n",
    "\n",
    "We can then merge the duration with our array"
   ]
  },
  {
   "cell_type": "code",
   "execution_count": 618,
   "metadata": {
    "collapsed": false
   },
   "outputs": [
    {
     "data": {
      "text/html": [
       "<div>\n",
       "<table border=\"1\" class=\"dataframe\">\n",
       "  <thead>\n",
       "    <tr style=\"text-align: right;\">\n",
       "      <th></th>\n",
       "      <th>Gender</th>\n",
       "      <th>Name</th>\n",
       "      <th>Sciper No</th>\n",
       "      <th>Bachelor start year</th>\n",
       "      <th>Bachelor end year</th>\n",
       "      <th>Bachelor duration [semesters]</th>\n",
       "    </tr>\n",
       "  </thead>\n",
       "  <tbody>\n",
       "    <tr>\n",
       "      <th>0</th>\n",
       "      <td>Monsieur</td>\n",
       "      <td>Arévalo Christian</td>\n",
       "      <td>169569</td>\n",
       "      <td>2007.5</td>\n",
       "      <td>2010.0</td>\n",
       "      <td>6.0</td>\n",
       "    </tr>\n",
       "    <tr>\n",
       "      <th>1</th>\n",
       "      <td>Monsieur</td>\n",
       "      <td>Aubelle Flavien</td>\n",
       "      <td>174905</td>\n",
       "      <td>2007.5</td>\n",
       "      <td>2012.0</td>\n",
       "      <td>10.0</td>\n",
       "    </tr>\n",
       "    <tr>\n",
       "      <th>2</th>\n",
       "      <td>Monsieur</td>\n",
       "      <td>Baeriswyl Jonathan</td>\n",
       "      <td>179406</td>\n",
       "      <td>2007.5</td>\n",
       "      <td>2011.0</td>\n",
       "      <td>8.0</td>\n",
       "    </tr>\n",
       "    <tr>\n",
       "      <th>3</th>\n",
       "      <td>Monsieur</td>\n",
       "      <td>Barroco Michael</td>\n",
       "      <td>179428</td>\n",
       "      <td>2007.5</td>\n",
       "      <td>2011.0</td>\n",
       "      <td>8.0</td>\n",
       "    </tr>\n",
       "    <tr>\n",
       "      <th>4</th>\n",
       "      <td>Monsieur</td>\n",
       "      <td>Bindschaedler Vincent</td>\n",
       "      <td>179449</td>\n",
       "      <td>2007.5</td>\n",
       "      <td>2010.0</td>\n",
       "      <td>6.0</td>\n",
       "    </tr>\n",
       "  </tbody>\n",
       "</table>\n",
       "</div>"
      ],
      "text/plain": [
       "     Gender                   Name Sciper No  Bachelor start year  \\\n",
       "0  Monsieur      Arévalo Christian    169569               2007.5   \n",
       "1  Monsieur        Aubelle Flavien    174905               2007.5   \n",
       "2  Monsieur     Baeriswyl Jonathan    179406               2007.5   \n",
       "3  Monsieur        Barroco Michael    179428               2007.5   \n",
       "4  Monsieur  Bindschaedler Vincent    179449               2007.5   \n",
       "\n",
       "   Bachelor end year  Bachelor duration [semesters]  \n",
       "0             2010.0                            6.0  \n",
       "1             2012.0                           10.0  \n",
       "2             2011.0                            8.0  \n",
       "3             2011.0                            8.0  \n",
       "4             2010.0                            6.0  "
      ]
     },
     "execution_count": 618,
     "metadata": {},
     "output_type": "execute_result"
    }
   ],
   "source": [
    "bachelor_duration = (AllStudentsBeginAndEnd['Bachelor end year'] - AllStudentsBeginAndEnd['Bachelor start year']) * 2 + 1\n",
    "all_data = pd.merge(AllStudentsBeginAndEnd, bachelor_duration.to_frame(), left_index=True, right_index=True)\n",
    "all_data.columns = ['Gender', 'Name', 'Sciper No', 'Bachelor start year', 'Bachelor end year', 'Bachelor duration [semesters]']\n",
    "all_data.head()"
   ]
  },
  {
   "cell_type": "markdown",
   "metadata": {},
   "source": [
    "## Partition men and women\n",
    "\n",
    "Since the goal is to evaluate differences between men and women, we need to partition the data according to gender."
   ]
  },
  {
   "cell_type": "code",
   "execution_count": 619,
   "metadata": {
    "collapsed": false
   },
   "outputs": [
    {
     "data": {
      "text/html": [
       "<div>\n",
       "<table border=\"1\" class=\"dataframe\">\n",
       "  <thead>\n",
       "    <tr style=\"text-align: right;\">\n",
       "      <th></th>\n",
       "      <th>Gender</th>\n",
       "      <th>Bachelor duration [semesters]</th>\n",
       "    </tr>\n",
       "  </thead>\n",
       "  <tbody>\n",
       "    <tr>\n",
       "      <th>0</th>\n",
       "      <td>Monsieur</td>\n",
       "      <td>6.0</td>\n",
       "    </tr>\n",
       "    <tr>\n",
       "      <th>1</th>\n",
       "      <td>Monsieur</td>\n",
       "      <td>10.0</td>\n",
       "    </tr>\n",
       "    <tr>\n",
       "      <th>2</th>\n",
       "      <td>Monsieur</td>\n",
       "      <td>8.0</td>\n",
       "    </tr>\n",
       "    <tr>\n",
       "      <th>3</th>\n",
       "      <td>Monsieur</td>\n",
       "      <td>8.0</td>\n",
       "    </tr>\n",
       "    <tr>\n",
       "      <th>4</th>\n",
       "      <td>Monsieur</td>\n",
       "      <td>6.0</td>\n",
       "    </tr>\n",
       "  </tbody>\n",
       "</table>\n",
       "</div>"
      ],
      "text/plain": [
       "     Gender  Bachelor duration [semesters]\n",
       "0  Monsieur                            6.0\n",
       "1  Monsieur                           10.0\n",
       "2  Monsieur                            8.0\n",
       "3  Monsieur                            8.0\n",
       "4  Monsieur                            6.0"
      ]
     },
     "execution_count": 619,
     "metadata": {},
     "output_type": "execute_result"
    }
   ],
   "source": [
    "#Keep only gender and Bachelor duration\n",
    "genderdurationData = all_data[all_data.columns[[0,5]]]\n",
    "genderdurationData.head()"
   ]
  },
  {
   "cell_type": "code",
   "execution_count": 620,
   "metadata": {
    "collapsed": false
   },
   "outputs": [],
   "source": [
    "#Take only men with all columns\n",
    "male = all_data.loc[gender_stats.Gender=='Monsieur']\n",
    "#Take only women with all columns\n",
    "female = all_data.loc[gender_stats.Gender=='Madame']"
   ]
  },
  {
   "cell_type": "code",
   "execution_count": 621,
   "metadata": {
    "collapsed": false
   },
   "outputs": [
    {
     "data": {
      "text/html": [
       "<div>\n",
       "<table border=\"1\" class=\"dataframe\">\n",
       "  <thead>\n",
       "    <tr style=\"text-align: right;\">\n",
       "      <th></th>\n",
       "      <th>Gender</th>\n",
       "      <th>Name</th>\n",
       "      <th>Sciper No</th>\n",
       "      <th>Bachelor start year</th>\n",
       "      <th>Bachelor end year</th>\n",
       "      <th>Bachelor duration [semesters]</th>\n",
       "    </tr>\n",
       "  </thead>\n",
       "  <tbody>\n",
       "    <tr>\n",
       "      <th>15</th>\n",
       "      <td>Madame</td>\n",
       "      <td>Falbriard Stéphanie</td>\n",
       "      <td>178706</td>\n",
       "      <td>2007.5</td>\n",
       "      <td>2010.0</td>\n",
       "      <td>6.0</td>\n",
       "    </tr>\n",
       "    <tr>\n",
       "      <th>31</th>\n",
       "      <td>Madame</td>\n",
       "      <td>Portmann Joëlle</td>\n",
       "      <td>179988</td>\n",
       "      <td>2007.5</td>\n",
       "      <td>2010.0</td>\n",
       "      <td>6.0</td>\n",
       "    </tr>\n",
       "    <tr>\n",
       "      <th>57</th>\n",
       "      <td>Madame</td>\n",
       "      <td>Heldner Céline</td>\n",
       "      <td>185811</td>\n",
       "      <td>2008.5</td>\n",
       "      <td>2011.0</td>\n",
       "      <td>6.0</td>\n",
       "    </tr>\n",
       "    <tr>\n",
       "      <th>66</th>\n",
       "      <td>Madame</td>\n",
       "      <td>Rodriguez Oriane</td>\n",
       "      <td>186778</td>\n",
       "      <td>2008.5</td>\n",
       "      <td>2011.0</td>\n",
       "      <td>6.0</td>\n",
       "    </tr>\n",
       "    <tr>\n",
       "      <th>69</th>\n",
       "      <td>Madame</td>\n",
       "      <td>Salvisberg Véra</td>\n",
       "      <td>179703</td>\n",
       "      <td>2008.5</td>\n",
       "      <td>2011.0</td>\n",
       "      <td>6.0</td>\n",
       "    </tr>\n",
       "  </tbody>\n",
       "</table>\n",
       "</div>"
      ],
      "text/plain": [
       "    Gender                 Name Sciper No  Bachelor start year  \\\n",
       "15  Madame  Falbriard Stéphanie    178706               2007.5   \n",
       "31  Madame      Portmann Joëlle    179988               2007.5   \n",
       "57  Madame       Heldner Céline    185811               2008.5   \n",
       "66  Madame     Rodriguez Oriane    186778               2008.5   \n",
       "69  Madame      Salvisberg Véra    179703               2008.5   \n",
       "\n",
       "    Bachelor end year  Bachelor duration [semesters]  \n",
       "15             2010.0                            6.0  \n",
       "31             2010.0                            6.0  \n",
       "57             2011.0                            6.0  \n",
       "66             2011.0                            6.0  \n",
       "69             2011.0                            6.0  "
      ]
     },
     "execution_count": 621,
     "metadata": {},
     "output_type": "execute_result"
    }
   ],
   "source": [
    "female.head()"
   ]
  },
  {
   "cell_type": "markdown",
   "metadata": {},
   "source": [
    "## Compute mean for each group"
   ]
  },
  {
   "cell_type": "code",
   "execution_count": 622,
   "metadata": {
    "collapsed": false
   },
   "outputs": [
    {
     "name": "stdout",
     "output_type": "stream",
     "text": [
      "Overall mean duration:  Bachelor duration [semesters]    7.120907\n",
      "dtype: float64\n"
     ]
    },
    {
     "data": {
      "text/html": [
       "<div>\n",
       "<table border=\"1\" class=\"dataframe\">\n",
       "  <thead>\n",
       "    <tr style=\"text-align: right;\">\n",
       "      <th></th>\n",
       "      <th>Bachelor duration [semesters]</th>\n",
       "    </tr>\n",
       "    <tr>\n",
       "      <th>Gender</th>\n",
       "      <th></th>\n",
       "    </tr>\n",
       "  </thead>\n",
       "  <tbody>\n",
       "    <tr>\n",
       "      <th>Madame</th>\n",
       "      <td>6.793103</td>\n",
       "    </tr>\n",
       "    <tr>\n",
       "      <th>Monsieur</th>\n",
       "      <td>7.146739</td>\n",
       "    </tr>\n",
       "  </tbody>\n",
       "</table>\n",
       "</div>"
      ],
      "text/plain": [
       "          Bachelor duration [semesters]\n",
       "Gender                                 \n",
       "Madame                         6.793103\n",
       "Monsieur                       7.146739"
      ]
     },
     "execution_count": 622,
     "metadata": {},
     "output_type": "execute_result"
    }
   ],
   "source": [
    "print(\"Overall mean duration: \", genderdurationData.mean())\n",
    "genderdurationData.groupby('Gender').mean()"
   ]
  },
  {
   "cell_type": "markdown",
   "metadata": {},
   "source": [
    "## Gender group description\n",
    "\n",
    "We use method describe() to have information about the data according to gender."
   ]
  },
  {
   "cell_type": "code",
   "execution_count": 623,
   "metadata": {
    "collapsed": false
   },
   "outputs": [
    {
     "data": {
      "text/html": [
       "<div>\n",
       "<table border=\"1\" class=\"dataframe\">\n",
       "  <thead>\n",
       "    <tr style=\"text-align: right;\">\n",
       "      <th></th>\n",
       "      <th></th>\n",
       "      <th>Bachelor duration [semesters]</th>\n",
       "    </tr>\n",
       "    <tr>\n",
       "      <th>Gender</th>\n",
       "      <th></th>\n",
       "      <th></th>\n",
       "    </tr>\n",
       "  </thead>\n",
       "  <tbody>\n",
       "    <tr>\n",
       "      <th rowspan=\"8\" valign=\"top\">Madame</th>\n",
       "      <th>count</th>\n",
       "      <td>29.000000</td>\n",
       "    </tr>\n",
       "    <tr>\n",
       "      <th>mean</th>\n",
       "      <td>6.793103</td>\n",
       "    </tr>\n",
       "    <tr>\n",
       "      <th>std</th>\n",
       "      <td>1.346406</td>\n",
       "    </tr>\n",
       "    <tr>\n",
       "      <th>min</th>\n",
       "      <td>6.000000</td>\n",
       "    </tr>\n",
       "    <tr>\n",
       "      <th>25%</th>\n",
       "      <td>6.000000</td>\n",
       "    </tr>\n",
       "    <tr>\n",
       "      <th>50%</th>\n",
       "      <td>6.000000</td>\n",
       "    </tr>\n",
       "    <tr>\n",
       "      <th>75%</th>\n",
       "      <td>8.000000</td>\n",
       "    </tr>\n",
       "    <tr>\n",
       "      <th>max</th>\n",
       "      <td>11.000000</td>\n",
       "    </tr>\n",
       "    <tr>\n",
       "      <th rowspan=\"8\" valign=\"top\">Monsieur</th>\n",
       "      <th>count</th>\n",
       "      <td>368.000000</td>\n",
       "    </tr>\n",
       "    <tr>\n",
       "      <th>mean</th>\n",
       "      <td>7.146739</td>\n",
       "    </tr>\n",
       "    <tr>\n",
       "      <th>std</th>\n",
       "      <td>1.576458</td>\n",
       "    </tr>\n",
       "    <tr>\n",
       "      <th>min</th>\n",
       "      <td>6.000000</td>\n",
       "    </tr>\n",
       "    <tr>\n",
       "      <th>25%</th>\n",
       "      <td>6.000000</td>\n",
       "    </tr>\n",
       "    <tr>\n",
       "      <th>50%</th>\n",
       "      <td>6.000000</td>\n",
       "    </tr>\n",
       "    <tr>\n",
       "      <th>75%</th>\n",
       "      <td>8.000000</td>\n",
       "    </tr>\n",
       "    <tr>\n",
       "      <th>max</th>\n",
       "      <td>14.000000</td>\n",
       "    </tr>\n",
       "  </tbody>\n",
       "</table>\n",
       "</div>"
      ],
      "text/plain": [
       "                Bachelor duration [semesters]\n",
       "Gender                                       \n",
       "Madame   count                      29.000000\n",
       "         mean                        6.793103\n",
       "         std                         1.346406\n",
       "         min                         6.000000\n",
       "         25%                         6.000000\n",
       "         50%                         6.000000\n",
       "         75%                         8.000000\n",
       "         max                        11.000000\n",
       "Monsieur count                     368.000000\n",
       "         mean                        7.146739\n",
       "         std                         1.576458\n",
       "         min                         6.000000\n",
       "         25%                         6.000000\n",
       "         50%                         6.000000\n",
       "         75%                         8.000000\n",
       "         max                        14.000000"
      ]
     },
     "execution_count": 623,
     "metadata": {},
     "output_type": "execute_result"
    }
   ],
   "source": [
    "genderdurationData.groupby('Gender').describe()"
   ]
  },
  {
   "cell_type": "markdown",
   "metadata": {},
   "source": [
    "## Duration according to gender"
   ]
  },
  {
   "cell_type": "code",
   "execution_count": 624,
   "metadata": {
    "collapsed": false
   },
   "outputs": [
    {
     "data": {
      "text/plain": [
       "<matplotlib.axes._subplots.AxesSubplot at 0x7f181093d630>"
      ]
     },
     "execution_count": 624,
     "metadata": {},
     "output_type": "execute_result"
    },
    {
     "data": {
      "image/png": "[encoded data removed]",
      "text/plain": [
       "<matplotlib.figure.Figure at 0x7f1811298b38>"
      ]
     },
     "metadata": {},
     "output_type": "display_data"
    }
   ],
   "source": [
    "male['Bachelor duration [semesters]'].hist(bins = 9)"
   ]
  },
  {
   "cell_type": "code",
   "execution_count": 625,
   "metadata": {
    "collapsed": false
   },
   "outputs": [
    {
     "data": {
      "text/plain": [
       "<matplotlib.axes._subplots.AxesSubplot at 0x7f1810976a20>"
      ]
     },
     "execution_count": 625,
     "metadata": {},
     "output_type": "execute_result"
    },
    {
     "data": {
      "image/png": "[encoded data removed]",
      "text/plain": [
       "<matplotlib.figure.Figure at 0x7f1810954b00>"
      ]
     },
     "metadata": {},
     "output_type": "display_data"
    }
   ],
   "source": [
    "female['Bachelor duration [semesters]'].hist(bins = 6)"
   ]
  },
  {
   "cell_type": "markdown",
   "metadata": {},
   "source": [
    "# Statistical test and conclusion\n",
    "\n",
    "We can now execute a statistical test to compare the male and female Bachelor's student at EPFL and determine if there is a significant difference between the two group.\n",
    "\n",
    "Since we have two independant groups of sample, we chose to use Two-Sample T-Test. "
   ]
  },
  {
   "cell_type": "code",
   "execution_count": 626,
   "metadata": {
    "collapsed": false
   },
   "outputs": [
    {
     "data": {
      "text/plain": [
       "Ttest_indResult(statistic=1.1743739616350912, pvalue=0.24095278708853646)"
      ]
     },
     "execution_count": 626,
     "metadata": {},
     "output_type": "execute_result"
    }
   ],
   "source": [
    "stats.ttest_ind(a= male['Bachelor duration [semesters]'],\n",
    "                b= female['Bachelor duration [semesters]'],\n",
    "                equal_var=True) #We use student TS T-test, because variance should be equal"
   ]
  },
  {
   "cell_type": "markdown",
   "metadata": {},
   "source": [
    "The two-tailed p-value is 0.24, which way above the standard thresholds. This implies that we cannot reject the null hypothesis. \n",
    "\n",
    "Even if the female student seems at the first sight to finish their Bachelor significantly faster than male student (6.79 vs 7.15 semesters), the low number of female student in the data (29, vs 368 for male student) combined with the relatively high standard deviation (1,34 and 1,57 for female and male respectively) explains this high p-value.\n",
    "\n",
    "**There is therefore no significant statistical difference according to gender**"
   ]
  },
  {
   "cell_type": "markdown",
   "metadata": {},
   "source": [
    "# Exercise 2\n",
    "\n",
    "We reused methods from previous exercises.\n",
    "\n",
    "Since we need to have the Specialization information now, we create new method that do the same thing as in the previous exercise but return the specialization."
   ]
  },
  {
   "cell_type": "code",
   "execution_count": 627,
   "metadata": {
    "collapsed": false
   },
   "outputs": [],
   "source": [
    "def getMasterSpecialisation(academic_year, semester):\n",
    "    data = getResultPage(academic_year, semester)\n",
    "    students_tr = data.body.hr.table.find_all('tr')[2:]\n",
    "    students = []\n",
    "    for i in range (0,len(students_tr)):\n",
    "        student = students_tr[i].find_all('td')\n",
    "        students.append([student[0].text,student[1].text.replace(u'\\xa0', u' '),student[10].text,student[4].text])\n",
    "\n",
    "    return pd.DataFrame(students, columns=['Gender', 'Name', 'Sciper No', academic_year])\n",
    "\n",
    "def getAllMasterSpecialisation(startyear, endyear, semester):\n",
    "    data = getMasterSpecialisation(str(startyear) + \"-\" + str(startyear + 1), semester)\n",
    "    for i in range(startyear, endyear):\n",
    "        data = pd.merge(data, getMasterSpecialisation(str(i+1) + \"-\" + str(i + 2), semester), how='outer', on=['Gender','Name','Sciper No'])\n",
    "    return data"
   ]
  },
  {
   "cell_type": "code",
   "execution_count": 708,
   "metadata": {
    "collapsed": false
   },
   "outputs": [],
   "source": [
    "global_table_master1 = getAllData(2007, 2016, 'Master semestre 1')\n",
    "global_table_master2 = getAllData(2007, 2016, 'Master semestre 2')\n",
    "global_table_master3 = getAllData(2007, 2016, 'Master semestre 3')"
   ]
  },
  {
   "cell_type": "markdown",
   "metadata": {
    "collapsed": false
   },
   "source": [
    "To compute the start date, since we saw that some student begins their master with Master 2, we need to take for each student the minimum between Master1 and Master2 year.\n",
    "\n",
    "For the end date, since some student only do 2 semesters, and since they can start with semester 2, it is possible that they finish on Master1. Therefore we need to compute the minimum between master1, master2 and master3"
   ]
  },
  {
   "cell_type": "code",
   "execution_count": 713,
   "metadata": {
    "collapsed": false
   },
   "outputs": [
    {
     "data": {
      "text/html": [
       "<div>\n",
       "<table border=\"1\" class=\"dataframe\">\n",
       "  <thead>\n",
       "    <tr style=\"text-align: right;\">\n",
       "      <th></th>\n",
       "      <th>Gender</th>\n",
       "      <th>Name</th>\n",
       "      <th>Sciper No</th>\n",
       "      <th>Master start year</th>\n",
       "      <th>Master end year</th>\n",
       "      <th>Master duration [semesters]</th>\n",
       "    </tr>\n",
       "  </thead>\n",
       "  <tbody>\n",
       "    <tr>\n",
       "      <th>0</th>\n",
       "      <td>Monsieur</td>\n",
       "      <td>Aeberhard François-Xavier</td>\n",
       "      <td>153066</td>\n",
       "      <td>2007.5</td>\n",
       "      <td>2009.5</td>\n",
       "      <td>5.0</td>\n",
       "    </tr>\n",
       "    <tr>\n",
       "      <th>1</th>\n",
       "      <td>Madame</td>\n",
       "      <td>Agarwal Megha</td>\n",
       "      <td>180027</td>\n",
       "      <td>2007.5</td>\n",
       "      <td>2008.0</td>\n",
       "      <td>2.0</td>\n",
       "    </tr>\n",
       "    <tr>\n",
       "      <th>2</th>\n",
       "      <td>Monsieur</td>\n",
       "      <td>Anagnostaras David</td>\n",
       "      <td>152232</td>\n",
       "      <td>2007.5</td>\n",
       "      <td>2008.5</td>\n",
       "      <td>3.0</td>\n",
       "    </tr>\n",
       "    <tr>\n",
       "      <th>3</th>\n",
       "      <td>Monsieur</td>\n",
       "      <td>Auroux Damien</td>\n",
       "      <td>177395</td>\n",
       "      <td>2007.5</td>\n",
       "      <td>2008.5</td>\n",
       "      <td>3.0</td>\n",
       "    </tr>\n",
       "    <tr>\n",
       "      <th>4</th>\n",
       "      <td>Monsieur</td>\n",
       "      <td>Awalebo Joseph</td>\n",
       "      <td>161970</td>\n",
       "      <td>2007.5</td>\n",
       "      <td>2008.5</td>\n",
       "      <td>3.0</td>\n",
       "    </tr>\n",
       "  </tbody>\n",
       "</table>\n",
       "</div>"
      ],
      "text/plain": [
       "     Gender                       Name Sciper No  Master start year  \\\n",
       "0  Monsieur  Aeberhard François-Xavier    153066             2007.5   \n",
       "1    Madame              Agarwal Megha    180027             2007.5   \n",
       "2  Monsieur         Anagnostaras David    152232             2007.5   \n",
       "3  Monsieur              Auroux Damien    177395             2007.5   \n",
       "4  Monsieur             Awalebo Joseph    161970             2007.5   \n",
       "\n",
       "   Master end year  Master duration [semesters]  \n",
       "0           2009.5                          5.0  \n",
       "1           2008.0                          2.0  \n",
       "2           2008.5                          3.0  \n",
       "3           2008.5                          3.0  \n",
       "4           2008.5                          3.0  "
      ]
     },
     "execution_count": 713,
     "metadata": {},
     "output_type": "execute_result"
    }
   ],
   "source": [
    "master1 = global_table_master1.drop(global_table_master1.columns[[0,1,2]], axis=1)\n",
    "yearBeginMaster = setDate(master1).min(axis=1)\n",
    "yearBeginMaster = yearBeginMaster + pd.Series(len(yearBeginMaster)*[0.5])\n",
    "\n",
    "mas1_final = pd.merge(global_table_master1.drop(global_table_master1.columns[3:], axis=1), yearBeginMaster.to_frame(),left_index=True, right_index=True)\n",
    "mas1_final.columns = [['Gender', 'Name', 'Sciper No', 'Master start year']]\n",
    "mas1_final.head()\n",
    "\n",
    "master2 = global_table_master2.drop(global_table_master2.columns[[0,1,2]], axis=1)\n",
    "yearEnd = setDate(master2).min(axis=1)\n",
    "yearEnd = yearEnd + pd.Series(len(yearEnd)*[1])\n",
    "\n",
    "mas2_final = pd.merge(global_table_master2.drop(global_table_master2.columns[3:], axis=1), yearEnd.to_frame(),left_index=True, right_index=True)\n",
    "mas2_final.columns = [['Gender', 'Name', 'Sciper No', 'Master start year']]\n",
    "mas2_final.head()\n",
    "\n",
    "#Compute minimum year for start, between master 1 and 2\n",
    "concat = pd.merge(mas2_final, mas1_final, how='inner', on=['Gender','Name','Sciper No'])\n",
    "beginMasteryear = concat.drop(concat.columns[[0,1,2]], axis=1).min(axis=1)\n",
    "master_start_final = pd.concat((concat.drop(concat.columns[3:], axis=1), beginMasteryear.to_frame()), axis=1)\n",
    "master_start_final.columns = [['Gender', 'Name', 'Sciper No', 'Master start year']]\n",
    "master_start_final.head()\n",
    "\n",
    "mas2_final.columns = [['Gender', 'Name', 'Sciper No', 'Master end year']]\n",
    "master3 = global_table_master3.drop(global_table_master3.columns[[0,1,2]], axis=1)\n",
    "yearEnd = setDate(master3).max(axis=1)\n",
    "yearEnd = yearEnd + pd.Series(len(yearEnd)*[0.5])\n",
    "\n",
    "mas3_final = pd.merge(global_table_master3.drop(global_table_master3.columns[3:], axis=1), yearEnd.to_frame(),left_index=True, right_index=True)\n",
    "mas3_final.columns = [['Gender', 'Name', 'Sciper No', 'Master end year']]\n",
    "mas3_final.head()\n",
    "\n",
    "\n",
    "#Compute maximum year for end, between master 1, 2 and 3\n",
    "concat = pd.merge(mas2_final, mas3_final, how='outer', on=['Gender','Name','Sciper No'])\n",
    "concat = pd.merge(concat, mas1_final, how='inner', on=['Gender','Name','Sciper No'])\n",
    "endMasteryear = concat.drop(concat.columns[[0,1,2]], axis=1).max(axis=1)\n",
    "master_end_final = pd.concat((concat.drop(concat.columns[3:], axis=1), endMasteryear.to_frame()), axis=1)\n",
    "master_end_final.columns = [['Gender', 'Name', 'Sciper No', 'Master end year']]\n",
    "master_end_final.head()\n",
    "\n",
    "AllStudentsMasterBeginAndEnd = pd.merge(master_start_final, master_end_final, how='inner', on=['Gender','Name','Sciper No'])\n",
    "AllStudentsMasterBeginAndEnd\n",
    "\n",
    "master_duration = (AllStudentsMasterBeginAndEnd['Master end year'] - AllStudentsMasterBeginAndEnd['Master start year']) * 2 + 1\n",
    "all_master_data = pd.merge(AllStudentsMasterBeginAndEnd, master_duration.to_frame(), left_index=True, right_index=True)\n",
    "all_master_data.columns = ['Gender', 'Name', 'Sciper No', 'Master start year', 'Master end year', 'Master duration [semesters]']\n",
    "all_master_data.head()"
   ]
  },
  {
   "cell_type": "markdown",
   "metadata": {},
   "source": [
    "## Get specialization\n",
    "\n",
    "Since all students with a specialization have at least 3 semester, we used Master 3 to get their specialization."
   ]
  },
  {
   "cell_type": "code",
   "execution_count": 714,
   "metadata": {
    "collapsed": false
   },
   "outputs": [],
   "source": [
    "specialisation_table_master3 = getAllMasterSpecialisation(2007, 2016, 'Master semestre 3')"
   ]
  },
  {
   "cell_type": "markdown",
   "metadata": {},
   "source": []
  },
  {
   "cell_type": "code",
   "execution_count": 710,
   "metadata": {
    "collapsed": false
   },
   "outputs": [
    {
     "data": {
      "text/html": [
       "<div>\n",
       "<table border=\"1\" class=\"dataframe\">\n",
       "  <thead>\n",
       "    <tr style=\"text-align: right;\">\n",
       "      <th></th>\n",
       "      <th>Gender</th>\n",
       "      <th>Name</th>\n",
       "      <th>Sciper</th>\n",
       "      <th>Specialization</th>\n",
       "      <th>Master start year</th>\n",
       "      <th>Master end year</th>\n",
       "      <th>Master duration [semesters]</th>\n",
       "    </tr>\n",
       "  </thead>\n",
       "  <tbody>\n",
       "    <tr>\n",
       "      <th>0</th>\n",
       "      <td>Monsieur</td>\n",
       "      <td>Aeberhard François-Xavier</td>\n",
       "      <td>153066</td>\n",
       "      <td>Internet computing</td>\n",
       "      <td>2007.5</td>\n",
       "      <td>2009.5</td>\n",
       "      <td>5.0</td>\n",
       "    </tr>\n",
       "    <tr>\n",
       "      <th>1</th>\n",
       "      <td>Monsieur</td>\n",
       "      <td>Anagnostaras David</td>\n",
       "      <td>152232</td>\n",
       "      <td></td>\n",
       "      <td>2007.5</td>\n",
       "      <td>2008.5</td>\n",
       "      <td>3.0</td>\n",
       "    </tr>\n",
       "    <tr>\n",
       "      <th>2</th>\n",
       "      <td>Monsieur</td>\n",
       "      <td>Auroux Damien</td>\n",
       "      <td>177395</td>\n",
       "      <td>Internet computing</td>\n",
       "      <td>2007.5</td>\n",
       "      <td>2008.5</td>\n",
       "      <td>3.0</td>\n",
       "    </tr>\n",
       "    <tr>\n",
       "      <th>3</th>\n",
       "      <td>Monsieur</td>\n",
       "      <td>Awalebo Joseph</td>\n",
       "      <td>161970</td>\n",
       "      <td></td>\n",
       "      <td>2007.5</td>\n",
       "      <td>2008.5</td>\n",
       "      <td>3.0</td>\n",
       "    </tr>\n",
       "    <tr>\n",
       "      <th>4</th>\n",
       "      <td>Monsieur</td>\n",
       "      <td>Balet Ken</td>\n",
       "      <td>166258</td>\n",
       "      <td>Internet computing</td>\n",
       "      <td>2007.5</td>\n",
       "      <td>2008.5</td>\n",
       "      <td>3.0</td>\n",
       "    </tr>\n",
       "  </tbody>\n",
       "</table>\n",
       "</div>"
      ],
      "text/plain": [
       "     Gender                       Name  Sciper      Specialization  \\\n",
       "0  Monsieur  Aeberhard François-Xavier  153066  Internet computing   \n",
       "1  Monsieur         Anagnostaras David  152232                       \n",
       "2  Monsieur              Auroux Damien  177395  Internet computing   \n",
       "3  Monsieur             Awalebo Joseph  161970                       \n",
       "4  Monsieur                  Balet Ken  166258  Internet computing   \n",
       "\n",
       "   Master start year  Master end year  Master duration [semesters]  \n",
       "0             2007.5           2009.5                          5.0  \n",
       "1             2007.5           2008.5                          3.0  \n",
       "2             2007.5           2008.5                          3.0  \n",
       "3             2007.5           2008.5                          3.0  \n",
       "4             2007.5           2008.5                          3.0  "
      ]
     },
     "execution_count": 710,
     "metadata": {},
     "output_type": "execute_result"
    }
   ],
   "source": [
    "spe3 = specialisation_table_master3.copy()\n",
    "spe3 = spe3.fillna('')\n",
    "tmp = spe3[spe3.columns[3]]\n",
    "for col in spe3.columns[4:]:\n",
    "    tmp = tmp + (tmp == '') * spe3[col]\n",
    "\n",
    "tmp = pd.merge(specialisation_table_master3[specialisation_table_master2.columns[:3]], tmp.to_frame(), left_index=True, right_index=True)\n",
    "AllDataMaster = pd.merge(tmp, all_master_data, how='inner', on=['Gender','Name','Sciper No'])\n",
    "AllDataMaster.columns=[['Gender','Name','Sciper','Specialization','Master start year','Master end year', 'Master duration [semesters]']]\n",
    "AllDataMaster.head()\n"
   ]
  },
  {
   "cell_type": "markdown",
   "metadata": {},
   "source": [
    "## Master means duration"
   ]
  },
  {
   "cell_type": "code",
   "execution_count": 711,
   "metadata": {
    "collapsed": false,
    "scrolled": false
   },
   "outputs": [
    {
     "data": {
      "text/html": [
       "<div>\n",
       "<table border=\"1\" class=\"dataframe\">\n",
       "  <thead>\n",
       "    <tr style=\"text-align: right;\">\n",
       "      <th></th>\n",
       "      <th>Master duration [semesters]</th>\n",
       "    </tr>\n",
       "    <tr>\n",
       "      <th>Specialization</th>\n",
       "      <th></th>\n",
       "    </tr>\n",
       "  </thead>\n",
       "  <tbody>\n",
       "    <tr>\n",
       "      <th></th>\n",
       "      <td>3.190751</td>\n",
       "    </tr>\n",
       "    <tr>\n",
       "      <th>Biocomputing</th>\n",
       "      <td>4.333333</td>\n",
       "    </tr>\n",
       "    <tr>\n",
       "      <th>Computer Engineering - SP</th>\n",
       "      <td>3.333333</td>\n",
       "    </tr>\n",
       "    <tr>\n",
       "      <th>Computer Science Theory</th>\n",
       "      <td>3.000000</td>\n",
       "    </tr>\n",
       "    <tr>\n",
       "      <th>Data Analytics</th>\n",
       "      <td>3.000000</td>\n",
       "    </tr>\n",
       "    <tr>\n",
       "      <th>Foundations of Software</th>\n",
       "      <td>3.534483</td>\n",
       "    </tr>\n",
       "    <tr>\n",
       "      <th>Information Security - SP</th>\n",
       "      <td>3.000000</td>\n",
       "    </tr>\n",
       "    <tr>\n",
       "      <th>Internet Information Systems</th>\n",
       "      <td>3.000000</td>\n",
       "    </tr>\n",
       "    <tr>\n",
       "      <th>Internet computing</th>\n",
       "      <td>3.476190</td>\n",
       "    </tr>\n",
       "    <tr>\n",
       "      <th>Service science</th>\n",
       "      <td>3.000000</td>\n",
       "    </tr>\n",
       "    <tr>\n",
       "      <th>Signals, Images and Interfaces</th>\n",
       "      <td>4.166667</td>\n",
       "    </tr>\n",
       "    <tr>\n",
       "      <th>Software Systems</th>\n",
       "      <td>3.066667</td>\n",
       "    </tr>\n",
       "  </tbody>\n",
       "</table>\n",
       "</div>"
      ],
      "text/plain": [
       "                                Master duration [semesters]\n",
       "Specialization                                             \n",
       "                                                   3.190751\n",
       "Biocomputing                                       4.333333\n",
       "Computer Engineering - SP                          3.333333\n",
       "Computer Science Theory                            3.000000\n",
       "Data Analytics                                     3.000000\n",
       "Foundations of Software                            3.534483\n",
       "Information Security - SP                          3.000000\n",
       "Internet Information Systems                       3.000000\n",
       "Internet computing                                 3.476190\n",
       "Service science                                    3.000000\n",
       "Signals, Images and Interfaces                     4.166667\n",
       "Software Systems                                   3.066667"
      ]
     },
     "execution_count": 711,
     "metadata": {},
     "output_type": "execute_result"
    }
   ],
   "source": [
    "master_means = AllDataMaster.groupby('Specialization')['Master duration [semesters]'].mean().to_frame()\n",
    "master_means"
   ]
  },
  {
   "cell_type": "markdown",
   "metadata": {},
   "source": [
    "## Statistical test for Master and conclusion\n",
    "\n",
    "We saw from the specialization means above that students from **Signals, Images and Interfaces** have a huge master duration mean. The same for student in **Biocomputing**\n",
    "\n",
    "We then use a single sample T-Test to evaluate them"
   ]
  },
  {
   "cell_type": "code",
   "execution_count": 703,
   "metadata": {
    "collapsed": false
   },
   "outputs": [
    {
     "name": "stdout",
     "output_type": "stream",
     "text": [
      "24\n"
     ]
    },
    {
     "data": {
      "text/plain": [
       "Ttest_1sampResult(statistic=2.6500380824754641, pvalue=0.01430772805686507)"
      ]
     },
     "execution_count": 703,
     "metadata": {},
     "output_type": "execute_result"
    }
   ],
   "source": [
    "print(len(AllDataMaster[AllDataMaster.Specialization=='Signals, Images and Interfaces']))\n",
    "stats.ttest_1samp(a= AllDataMaster[AllDataMaster.Specialization=='Signals, Images and Interfaces']['Master duration [semesters]'],     \n",
    "                  popmean= AllDataMaster['Master duration [semesters]'].mean())"
   ]
  },
  {
   "cell_type": "markdown",
   "metadata": {},
   "source": [
    "We can see that the p-value for students enrolled in **Signals, Images and Interfaces** is really small, 0.0143, which means that the null hypothesis can be rejected. This means that these student significantly takes more time to achieve their master"
   ]
  },
  {
   "cell_type": "code",
   "execution_count": 715,
   "metadata": {
    "collapsed": false
   },
   "outputs": [
    {
     "name": "stdout",
     "output_type": "stream",
     "text": [
      "3\n"
     ]
    },
    {
     "data": {
      "text/plain": [
       "Ttest_1sampResult(statistic=1.5310834813499106, pvalue=0.26541317611164589)"
      ]
     },
     "execution_count": 715,
     "metadata": {},
     "output_type": "execute_result"
    }
   ],
   "source": [
    "print(len(AllDataMaster[AllDataMaster.Specialization=='Biocomputing']))\n",
    "stats.ttest_1samp(a= AllDataMaster[AllDataMaster.Specialization=='Biocomputing']['Master duration [semesters]'],     \n",
    "                  popmean= AllDataMaster['Master duration [semesters]'].mean())"
   ]
  },
  {
   "cell_type": "markdown",
   "metadata": {},
   "source": [
    "We can see that the p-value for students enrolled in **Biocomputing** is really high, 0.26, which means that the null hypothesis cannot be rejected. This is caused by the fact that only 3 students where enrolled in this specialization."
   ]
  },
  {
   "cell_type": "markdown",
   "metadata": {},
   "source": [
    "# Bonus\n",
    "\n",
    "We display a scatter plot of the average Master duration, according to the Master start year.\n",
    "\n",
    "We count also how many students started for each year, and put weight in the scatter plot according to the number of students, this allows to easily discriminate students that started in Spring (Master 2), which are very rare and have longer Master time."
   ]
  },
  {
   "cell_type": "code",
   "execution_count": 735,
   "metadata": {
    "collapsed": false
   },
   "outputs": [
    {
     "data": {
      "image/png": "[encoded data removed]",
      "text/plain": [
       "<matplotlib.figure.Figure at 0x7f18111350f0>"
      ]
     },
     "metadata": {},
     "output_type": "display_data"
    }
   ],
   "source": [
    "tmp = AllDataMaster.groupby('Master start year')['Master duration [semesters]'].mean()\n",
    "tmp2 = AllDataMaster.groupby('Master start year')['Master duration [semesters]'].count()\n",
    "sl = pd.DataFrame(pd.concat((tmp,tmp2), axis=1))\n",
    "sl.columns=[['Master duration [semesters]','number of students']]\n",
    "\n",
    "\n",
    "sl['Master start year'] = sl.index\n",
    "sl.plot(kind='scatter', x='Master start year', y='Master duration [semesters]', s=sl['number of students']*3)\n",
    "\n",
    "#remove ugly offset from plot\n",
    "ax = plt.gca()\n",
    "ax.get_xaxis().get_major_formatter().set_useOffset(False)"
   ]
  },
  {
   "cell_type": "markdown",
   "metadata": {},
   "source": [
    "We can now separate men and women and run the two plots, using blue for men and red for women"
   ]
  },
  {
   "cell_type": "code",
   "execution_count": 745,
   "metadata": {
    "collapsed": true
   },
   "outputs": [],
   "source": [
    "male = AllDataMaster[AllDataMaster.Gender == 'Monsieur']\n",
    "female = AllDataMaster[AllDataMaster.Gender == 'Madame']"
   ]
  },
  {
   "cell_type": "code",
   "execution_count": 746,
   "metadata": {
    "collapsed": false
   },
   "outputs": [
    {
     "data": {
      "image/png": "[encoded data removed]",
      "text/plain": [
       "<matplotlib.figure.Figure at 0x7f1811407390>"
      ]
     },
     "metadata": {},
     "output_type": "display_data"
    }
   ],
   "source": [
    "tmp = male.groupby('Master start year')['Master duration [semesters]'].mean()\n",
    "tmp2 = male.groupby('Master start year')['Master duration [semesters]'].count()\n",
    "sl = pd.DataFrame(pd.concat((tmp,tmp2), axis=1))\n",
    "sl.columns=[['Master duration [semesters]','number of students']]\n",
    "\n",
    "\n",
    "sl['Master start year'] = sl.index\n",
    "ax = sl.plot(kind='scatter', x='Master start year', y='Master duration [semesters]', label='Men', color='DarkBlue', s=sl['number of students']*3)\n",
    "\n",
    "tmp = female.groupby('Master start year')['Master duration [semesters]'].mean()\n",
    "tmp2 = female.groupby('Master start year')['Master duration [semesters]'].count()\n",
    "sl = pd.DataFrame(pd.concat((tmp,tmp2), axis=1))\n",
    "sl.columns=[['Master duration [semesters]','number of students']]\n",
    "\n",
    "sl['Master start year'] = sl.index\n",
    "\n",
    "sl.plot(kind='scatter', x='Master start year', y='Master duration [semesters]', label='Women', color='Red', ax=ax, s=sl['number of students']*3)\n",
    "#remove ugly offset from plot\n",
    "ax = plt.gca()\n",
    "ax.get_xaxis().get_major_formatter().set_useOffset(False)"
   ]
  },
  {
   "cell_type": "code",
   "execution_count": 753,
   "metadata": {
    "collapsed": false
   },
   "outputs": [
    {
     "data": {
      "text/plain": [
       "3.312883435582822"
      ]
     },
     "execution_count": 753,
     "metadata": {},
     "output_type": "execute_result"
    }
   ],
   "source": [
    "male['Master duration [semesters]'].mean()"
   ]
  },
  {
   "cell_type": "code",
   "execution_count": 752,
   "metadata": {
    "collapsed": false
   },
   "outputs": [
    {
     "data": {
      "text/plain": [
       "3.310810810810811"
      ]
     },
     "execution_count": 752,
     "metadata": {},
     "output_type": "execute_result"
    }
   ],
   "source": [
    "female['Master duration [semesters]'].mean()"
   ]
  },
  {
   "cell_type": "markdown",
   "metadata": {},
   "source": [
    "We finally run a two-sample T-Test to see if there is a significant statistical difference between male and female Master student"
   ]
  },
  {
   "cell_type": "code",
   "execution_count": 751,
   "metadata": {
    "collapsed": false
   },
   "outputs": [
    {
     "data": {
      "text/plain": [
       "Ttest_indResult(statistic=0.021313444169868839, pvalue=0.98300319768985545)"
      ]
     },
     "execution_count": 751,
     "metadata": {},
     "output_type": "execute_result"
    }
   ],
   "source": [
    "stats.ttest_ind(a= male['Master duration [semesters]'],\n",
    "                b= female['Master duration [semesters]'],\n",
    "                equal_var=True) #We use student TS T-test, because variance should be equal"
   ]
  },
  {
   "cell_type": "markdown",
   "metadata": {},
   "source": [
    "The extremely huge p-value of 0.983 shows that the null hypothesis must be rejected. **There is no difference**, and it seems natural because the means of duration for students are almost the same for both genders (3.313 for male vs 3.311 for female)"
   ]
  },
  {
   "cell_type": "code",
   "execution_count": null,
   "metadata": {
    "collapsed": true
   },
   "outputs": [],
   "source": []
  }
 ],
 "metadata": {
  "anaconda-cloud": {},
  "kernelspec": {
   "display_name": "Python [Root]",
   "language": "python",
   "name": "Python [Root]"
  },
  "language_info": {
   "codemirror_mode": {
    "name": "ipython",
    "version": 3
   },
   "file_extension": ".py",
   "mimetype": "text/x-python",
   "name": "python",
   "nbconvert_exporter": "python",
   "pygments_lexer": "ipython3",
   "version": "3.5.2"
  },
  "nav_menu": {},
  "toc": {
   "navigate_menu": true,
   "number_sections": false,
   "sideBar": false,
   "threshold": "3",
   "toc_cell": true,
   "toc_section_display": "block",
   "toc_window_display": false
  }
 },
 "nbformat": 4,
 "nbformat_minor": 1
}
