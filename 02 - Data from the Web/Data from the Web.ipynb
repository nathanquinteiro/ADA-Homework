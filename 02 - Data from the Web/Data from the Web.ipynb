{
 "cells": [
  {
   "cell_type": "markdown",
   "metadata": {
    "toc": "true"
   },
   "source": [
    "# Table of Contents\n",
    "<p>\n",
    "<div class=\"lev1\"><a href=\"#Data-from-the-Web\"><span class=\"toc-item-num\">1&nbsp;&nbsp;</span>Data from the Web</a></div>\n",
    "<div class=\"lev1\"><a href=\"#Getting-the-data\"><span class=\"toc-item-num\">2&nbsp;&nbsp;</span>Getting the data</a></div>\n",
    "<div class=\"lev2\"><a href=\"#Requesting-ISA-form\"><span class=\"toc-item-num\">2.1&nbsp;&nbsp;</span>Requesting ISA form</a></div>\n",
    "<div class=\"lev2\"><a href=\"#Finding-form-IDs\"><span class=\"toc-item-num\">2.1&nbsp;&nbsp;</span>Finding form IDs</a></div>\n",
    "<div class=\"lev2\"><a href=\"#Filtering-and-getting-the-data\"><span class=\"toc-item-num\">2.1&nbsp;&nbsp;</span>Filtering and getting the data</a></div>\n",
    "<div class=\"lev2\"><a href=\"#Extracting-data-from-the-result-page\"><span class=\"toc-item-num\">2.1&nbsp;&nbsp;</span>Extracting data from the result page</a></div>\n",
    "<div class=\"lev2\"><a href=\"#Treating-data\"><span class=\"toc-item-num\">3&nbsp;&nbsp;</span>Treating data</a></div>\n"
   ]
  },
  {
   "cell_type": "markdown",
   "metadata": {},
   "source": [
    "# Data from the Web\n",
    "\n",
    "In this homework we will extract interesting information from IS-Academia, the educational portal of EPFL. Specifically, we will focus on the part that allows public access to academic data. The list of registered students by section and semester is not offered as a downloadable dataset, so you will have to find a way to scrape the information we need. On this form you can select the data to download based on different criteria (e.g., year, semester, etc.)\n",
    "\n",
    "You are not allowed to download manually all the tables -- rather you have to understand what parameters the server accepts, and generate accordingly the HTTP requests. For this task, Postman with the Interceptor extension can help you greatly. I recommend you to watch this brief tutorial to understand quickly how to use it. Your code in the iPython Notebook should not contain any hardcoded URL. To fetch the content from the IS-Academia server, you can use the Requests library with a Base URL, but all the other form parameters should be extracted from the HTML with BeautifulSoup. You can choose to download Excel or HTML files -- they both have pros and cons, as you will find out after a quick check. You can also choose to download data at different granularities (e.g., per semester, per year, etc.) but I recommend you not to download all the data in one shot because 1) the requests are likely to timeout and 2) we will overload the IS-Academia server.\n"
   ]
  },
  {
   "cell_type": "code",
   "execution_count": 151,
   "metadata": {
    "collapsed": false
   },
   "outputs": [],
   "source": [
    "%matplotlib inline\n",
    "import pandas as pd\n",
    "import numpy as np\n",
    "import matplotlib.pyplot as plt\n",
    "import seaborn as sns\n",
    "import glob\n",
    "import requests\n",
    "import re\n",
    "import scipy.stats as stats\n",
    "from bs4 import BeautifulSoup\n",
    "sns.set_context('notebook')"
   ]
  },
  {
   "cell_type": "markdown",
   "metadata": {},
   "source": [
    "# Getting the data"
   ]
  },
  {
   "cell_type": "markdown",
   "metadata": {
    "collapsed": false
   },
   "source": [
    "## Finding ISA form \n",
    "\n",
    "The first part of the job in order to get the data is to get the parameters required to get the data we want.\n",
    "\n",
    "In this purpose, we first do a get request on the ISA form with the link <http://isa.epfl.ch/imoniteur_ISAP/!GEDPUBLICREPORTS.filter?ww_i_reportModel=133685247>.\n",
    "\n",
    "We also use BeautifulSoup on the resulting html response in order to parse it later."
   ]
  },
  {
   "cell_type": "code",
   "execution_count": 6,
   "metadata": {
    "collapsed": false
   },
   "outputs": [],
   "source": [
    "r = requests.get('http://isa.epfl.ch/imoniteur_ISAP/!GEDPUBLICREPORTS.filter?ww_i_reportModel=133685247')\n",
    "r.headers['content-type']\n",
    "html_doc = r.text\n",
    "isaForm = BeautifulSoup(html_doc, 'html.parser')"
   ]
  },
  {
   "cell_type": "markdown",
   "metadata": {},
   "source": [
    "## Finding form IDs\n",
    "\n",
    "Now that we've got the form's html code, we need to know which values of the form are used to filter and displayed the desired data. The values we're interested in are 'unité académique', 'période académique' and 'période pédagogique' (corresponding respectively to section, academic year and semester).\n",
    "\n",
    "By inspecting the html code, we saw that the form items are 'option', it is then easy to get their value by using BeautifupSoup find and find_all method.\n",
    "\n",
    "The following code will simply find the option value corresponding to section 'Informatique', and output it's value (the id used to filter the result).\n",
    "```python\n",
    "    isaForm.find('option', text = re.compile('Informatique'))['value']\n",
    "```\n",
    "\n",
    "We do the same thing for Bachelor 1st and 6th semester.\n",
    "```python\n",
    "    semester_ids['Bachelor semestre 1'] = isaForm.find('option', \n",
    "                                                        text = re.compile('Bachelor semestre 1'))['value']\n",
    "    semester_ids['Bachelor semestre 6'] = isaForm.find('option', \n",
    "                                                        text = re.compile('Bachelor semestre 6'))['value']\n",
    "```\n",
    "\n",
    "And we get the academic years ids from 2007-2008 to 2016-2017 using a for loop (see in the cell below)"
   ]
  },
  {
   "cell_type": "code",
   "execution_count": 7,
   "metadata": {
    "collapsed": false
   },
   "outputs": [
    {
     "name": "stdout",
     "output_type": "stream",
     "text": [
      "Id of informatique :  249847 \n",
      "\n",
      "Id of Bachelor semester 1:  249108 \n",
      "\n",
      "Id of Bachelor semester 6:  942175 \n",
      "\n",
      "years ids : (from 2007-2008 to 2016-2017) {'2010-2011': ['39486325'], '2015-2016': ['213638028'], '2012-2013': ['123456101'], '2008-2009': ['978187'], '2014-2015': ['213637922'], '2007-2008': ['978181'], '2013-2014': ['213637754'], '2011-2012': ['123455150'], '2016-2017': ['355925344'], '2009-2010': ['978195']}\n"
     ]
    }
   ],
   "source": [
    "informatique_id = isaForm.find('option', text = re.compile('Informatique'))['value']\n",
    "print(\"Id of informatique : \", informatique_id, \"\\n\")\n",
    "\n",
    "semester_ids = {}\n",
    "for i in range(1, 7):\n",
    "    semester_ids['Bachelor semestre ' + str(i)] = isaForm.find('option', text = re.compile('Bachelor semestre ' + str(i)))['value']\n",
    "\n",
    "print(\"Id of Bachelor semester 1: \", semester_ids['Bachelor semestre 1'],\"\\n\")\n",
    "print(\"Id of Bachelor semester 6: \", semester_ids['Bachelor semestre 6'],\"\\n\")\n",
    "\n",
    "year_ids = {}\n",
    "for y in range(2007, 2017):\n",
    "    school_year = str(y) + \"-\" + str(y+1)\n",
    "    year_ids[str(y) + \"-\" + str(y+1)] = [isaForm.find('option', text = re.compile(school_year))['value']]\n",
    "    \n",
    "print(\"years ids : (from 2007-2008 to 2016-2017)\", year_ids)\n",
    "\n",
    "\n"
   ]
  },
  {
   "cell_type": "markdown",
   "metadata": {},
   "source": [
    "\n",
    "\n",
    "## Filtering and getting the data\n",
    "\n",
    "Now that we know the interesting IDs used in the form, we need to filter and request our data. For this purpose, we used Postman and Postman interceptor to intercept and inspect the request method used to get the data from the formula. \n",
    "  \n",
    "</br>\n",
    "\n",
    "\n",
    "\n",
    "\n",
    "The picture below shows all parameters used in the URL to filter and return results for:\n",
    "* Section \"Informatique\"\n",
    "* Academic period \"2016-2017\"\n",
    "* Pedagogic period \"Bachelor semestre 1\"\n",
    "\n",
    "<p>\n",
    "    <img src=\"img/postman.png\" alt=\"postman\" align=\"center\"/>\n",
    "</p>\n",
    "\n",
    "After playing a bit with the URL, we conclude that not all parameters were mandatory, the required parameters and their values are:\n",
    "\n",
    "|parameter  | value |\n",
    "|-----------|-------|\n",
    "|ww_b_list  |must be '1'|  \n",
    "|ww_i_reportmodel|must be '133685247'|\n",
    "|ww_i_reportModelXsl|must be '133685270'|\n",
    "|ww_x_UNITE_ACAD|correspond to the id of the section, taken from the form|\n",
    "|ww_x_PERIODE_ACAD|correspond to the id of the academic year, taken from the form|\n",
    "|ww_x_PERIODE_PEDAGO|correspond to the id of the semester, taken from the form|\n",
    "\n",
    "Therefore we create a parameters dictionnary and put all the need parameters in order to get the correct URL.\n"
   ]
  },
  {
   "cell_type": "code",
   "execution_count": 8,
   "metadata": {
    "collapsed": false
   },
   "outputs": [],
   "source": [
    "def getFilteredPage(academic_year, semester):\n",
    "    params = {'ww_b_list':'1',\n",
    "            'ww_i_reportmodel':'133685247',\n",
    "            'ww_i_reportModelXsl':'133685270',\n",
    "            'ww_x_UNITE_ACAD':informatique_id,\n",
    "            'ww_x_PERIODE_ACAD':year_ids[academic_year],\n",
    "            'ww_x_PERIODE_PEDAGO':semester_ids[semester]}\n",
    "    r = requests.get('http://isa.epfl.ch/imoniteur_ISAP/!GEDPUBLICREPORTS.filter?', params)\n",
    "    html_doc = r.text\n",
    "    return BeautifulSoup(html_doc, 'html.parser'), params\n"
   ]
  },
  {
   "cell_type": "markdown",
   "metadata": {},
   "source": [
    "The filter returns us a new html page containing two possibilities link to display the data. \n",
    "Since we used very precise filter in the form (specifying years, semester and section), there is only one set of data to display, meaning that both link (\"Tous\" and \"Informatique, 'years', 'semester'\") leads to the same dataset.\n",
    "\n",
    "We choose to get the link from the \"Informatique, 'years', 'semester', therefore, by inspecting the html code, we saw that the parameters used in the link was \"ww_x_GPS\", we simply get it from the html page for the desired data."
   ]
  },
  {
   "cell_type": "code",
   "execution_count": 9,
   "metadata": {
    "collapsed": false
   },
   "outputs": [],
   "source": [
    "def getResultPage(academic_year, semester):\n",
    "    filteredPage, params = getFilteredPage(academic_year, semester)\n",
    "    params['ww_x_GPS'] = filteredPage.find_all('a')[1].get('onclick').split(\"ww_x_GPS=\")[1].split(\"')\")[0]\n",
    "    r = requests.get('http://isa.epfl.ch/imoniteur_ISAP/!GEDPUBLICREPORTS.bhtml?', params)\n",
    "    return BeautifulSoup(r.text, 'html.parser')"
   ]
  },
  {
   "cell_type": "markdown",
   "metadata": {},
   "source": [
    "We can then simply request the dataset, using the base URL we found thanks to Postman, the parameters used for the filter and the ww_x_GPS id."
   ]
  },
  {
   "cell_type": "markdown",
   "metadata": {},
   "source": [
    "## Extracting data from the result page\n",
    "\n",
    "Now that we have the page displaying the desired dataset, it's time to get the interesting information out of it. "
   ]
  },
  {
   "cell_type": "code",
   "execution_count": 42,
   "metadata": {
    "collapsed": false
   },
   "outputs": [],
   "source": [
    "def getData(academic_year, semester):\n",
    "    data = getResultPage(academic_year, semester)\n",
    "    students_tr = data.body.hr.table.find_all('tr')[2:]\n",
    "    students = []\n",
    "    for i in range (0,len(students_tr)):\n",
    "        student = students_tr[i].find_all('td')\n",
    "        students.append([student[0].text,student[1].text.replace(u'\\xa0', u' '),student[10].text,student[7].text])\n",
    "\n",
    "    return pd.DataFrame(students, columns=['Gender', 'Name', 'Sciper No', academic_year])"
   ]
  },
  {
   "cell_type": "markdown",
   "metadata": {
    "collapsed": true
   },
   "source": [
    "## Concatenate data"
   ]
  },
  {
   "cell_type": "code",
   "execution_count": 43,
   "metadata": {
    "collapsed": false
   },
   "outputs": [],
   "source": [
    "def getAllData(startyear, endyear, semester):\n",
    "    data = getData(str(startyear) + \"-\" + str(startyear + 1), semester)\n",
    "    for i in range(startyear, endyear):\n",
    "        data = pd.merge(data, getData(str(i+1) + \"-\" + str(i + 2), semester), how='outer', on=['Gender','Name','Sciper No'])\n",
    "    data.fillna(value='Absent')\n",
    "    return data"
   ]
  },
  {
   "cell_type": "code",
   "execution_count": 163,
   "metadata": {
    "collapsed": false
   },
   "outputs": [],
   "source": [
    "Bachelor1_data = getAllData(2007, 2016, 'Bachelor semestre 1')\n",
    "Bachelor5_data = getAllData(2007, 2016, 'Bachelor semestre 5')\n",
    "Bachelor6_data = getAllData(2007, 2016, 'Bachelor semestre 6')"
   ]
  },
  {
   "cell_type": "markdown",
   "metadata": {},
   "source": [
    "# Treating data"
   ]
  },
  {
   "cell_type": "code",
   "execution_count": null,
   "metadata": {
    "collapsed": true
   },
   "outputs": [],
   "source": [
    "## Treating Bachelor 1 Data"
   ]
  },
  {
   "cell_type": "code",
   "execution_count": 107,
   "metadata": {
    "collapsed": false
   },
   "outputs": [
    {
     "data": {
      "text/html": [
       "<div>\n",
       "<table border=\"1\" class=\"dataframe\">\n",
       "  <thead>\n",
       "    <tr style=\"text-align: right;\">\n",
       "      <th></th>\n",
       "      <th>Gender</th>\n",
       "      <th>Name</th>\n",
       "      <th>Sciper No</th>\n",
       "      <th>Bachelor start year</th>\n",
       "    </tr>\n",
       "  </thead>\n",
       "  <tbody>\n",
       "    <tr>\n",
       "      <th>0</th>\n",
       "      <td>Monsieur</td>\n",
       "      <td>Arévalo Christian</td>\n",
       "      <td>169569</td>\n",
       "      <td>2007.0</td>\n",
       "    </tr>\n",
       "    <tr>\n",
       "      <th>1</th>\n",
       "      <td>Monsieur</td>\n",
       "      <td>Aubelle Flavien</td>\n",
       "      <td>174905</td>\n",
       "      <td>2007.0</td>\n",
       "    </tr>\n",
       "    <tr>\n",
       "      <th>2</th>\n",
       "      <td>Monsieur</td>\n",
       "      <td>Badoud Morgan</td>\n",
       "      <td>173922</td>\n",
       "      <td>2007.0</td>\n",
       "    </tr>\n",
       "    <tr>\n",
       "      <th>3</th>\n",
       "      <td>Monsieur</td>\n",
       "      <td>Baeriswyl Jonathan</td>\n",
       "      <td>179406</td>\n",
       "      <td>2007.0</td>\n",
       "    </tr>\n",
       "    <tr>\n",
       "      <th>4</th>\n",
       "      <td>Monsieur</td>\n",
       "      <td>Barroco Michael</td>\n",
       "      <td>179428</td>\n",
       "      <td>2007.0</td>\n",
       "    </tr>\n",
       "  </tbody>\n",
       "</table>\n",
       "</div>"
      ],
      "text/plain": [
       "     Gender                Name Sciper No  Bachelor start year\n",
       "0  Monsieur   Arévalo Christian    169569               2007.0\n",
       "1  Monsieur     Aubelle Flavien    174905               2007.0\n",
       "2  Monsieur       Badoud Morgan    173922               2007.0\n",
       "3  Monsieur  Baeriswyl Jonathan    179406               2007.0\n",
       "4  Monsieur     Barroco Michael    179428               2007.0"
      ]
     },
     "execution_count": 107,
     "metadata": {},
     "output_type": "execute_result"
    }
   ],
   "source": [
    "dataBegin = Bachelor1_data.copy()\n",
    "dataBegin = dataBegin.drop(cp.columns[[0,1,2]], axis=1)\n",
    "for column in cp.columns[0:]:\n",
    "    year = int(column.split(\"-\")[0])\n",
    "    dataBegin[column]= dataBegin[column].replace(\"Présent\", year, regex=True)\n",
    "    dataBegin[column]= dataBegin[column].replace(\"Congé\", year, regex=True)\n",
    "    dataBegin[column]= dataBegin[column].replace(\"Attente\", year, regex=True)\n",
    "\n",
    "dataBegin = dataBegin.min(axis=1)\n",
    "\n",
    "bch1_final = pd.merge(Bachelor1_data.drop(Bachelor1_data.columns[3:], axis=1), dataBegin.to_frame(),left_index=True, right_index=True)\n",
    "bch1_final.columns = [['Gender', 'Name', 'Sciper No', 'Bachelor start year']]\n",
    "bch1_final.head()\n",
    "     "
   ]
  },
  {
   "cell_type": "code",
   "execution_count": 205,
   "metadata": {
    "collapsed": false
   },
   "outputs": [
    {
     "data": {
      "text/html": [
       "<div>\n",
       "<table border=\"1\" class=\"dataframe\">\n",
       "  <thead>\n",
       "    <tr style=\"text-align: right;\">\n",
       "      <th></th>\n",
       "      <th>Gender</th>\n",
       "      <th>Name</th>\n",
       "      <th>Sciper No</th>\n",
       "      <th>Last Bachelor 5 year</th>\n",
       "    </tr>\n",
       "  </thead>\n",
       "  <tbody>\n",
       "    <tr>\n",
       "      <th>0</th>\n",
       "      <td>Madame</td>\n",
       "      <td>Andriambololona Riana Miarantsoa</td>\n",
       "      <td>154157</td>\n",
       "      <td>2006.5</td>\n",
       "    </tr>\n",
       "    <tr>\n",
       "      <th>1</th>\n",
       "      <td>Monsieur</td>\n",
       "      <td>Barras Florian</td>\n",
       "      <td>170220</td>\n",
       "      <td>2007.5</td>\n",
       "    </tr>\n",
       "    <tr>\n",
       "      <th>2</th>\n",
       "      <td>Monsieur</td>\n",
       "      <td>Bécholey Alexandre</td>\n",
       "      <td>160213</td>\n",
       "      <td>2006.5</td>\n",
       "    </tr>\n",
       "    <tr>\n",
       "      <th>3</th>\n",
       "      <td>Monsieur</td>\n",
       "      <td>Beuret Thibaut</td>\n",
       "      <td>166701</td>\n",
       "      <td>2007.5</td>\n",
       "    </tr>\n",
       "    <tr>\n",
       "      <th>4</th>\n",
       "      <td>Monsieur</td>\n",
       "      <td>Biollay Jean Isaac Jamal Pachacutec</td>\n",
       "      <td>161279</td>\n",
       "      <td>2007.5</td>\n",
       "    </tr>\n",
       "  </tbody>\n",
       "</table>\n",
       "</div>"
      ],
      "text/plain": [
       "     Gender                                 Name Sciper No  \\\n",
       "0    Madame     Andriambololona Riana Miarantsoa    154157   \n",
       "1  Monsieur                       Barras Florian    170220   \n",
       "2  Monsieur                   Bécholey Alexandre    160213   \n",
       "3  Monsieur                       Beuret Thibaut    166701   \n",
       "4  Monsieur  Biollay Jean Isaac Jamal Pachacutec    161279   \n",
       "\n",
       "   Last Bachelor 5 year  \n",
       "0                2006.5  \n",
       "1                2007.5  \n",
       "2                2006.5  \n",
       "3                2007.5  \n",
       "4                2007.5  "
      ]
     },
     "execution_count": 205,
     "metadata": {},
     "output_type": "execute_result"
    }
   ],
   "source": [
    "cp = Bachelor5_data.copy()\n",
    "cp = cp.drop(cp.columns[[0,1,2]], axis=1)\n",
    "for column in cp.columns[0:]:\n",
    "    year = float(column.split(\"-\")[0])-0.5\n",
    "    cp[column]= cp[column].replace(\"Présent\", year, regex=True)\n",
    "    cp[column]= cp[column].replace(\"Congé\", year, regex=True)\n",
    "    cp[column]= cp[column].replace(\"Attente\", year, regex=True)\n",
    "\n",
    "cp = cp.max(axis=1)\n",
    "\n",
    "bch5_final = pd.concat((Bachelor5_data.drop(Bachelor5_data.columns[3:], axis=1), cp.to_frame()), axis=1)\n",
    "bch5_final.columns = [['Gender', 'Name', 'Sciper No', 'Last Bachelor 5 year']]\n",
    "bch5_final.head()"
   ]
  },
  {
   "cell_type": "code",
   "execution_count": 206,
   "metadata": {
    "collapsed": false
   },
   "outputs": [
    {
     "data": {
      "text/html": [
       "<div>\n",
       "<table border=\"1\" class=\"dataframe\">\n",
       "  <thead>\n",
       "    <tr style=\"text-align: right;\">\n",
       "      <th></th>\n",
       "      <th>Gender</th>\n",
       "      <th>Name</th>\n",
       "      <th>Sciper No</th>\n",
       "      <th>Last Bachelor 6 year</th>\n",
       "    </tr>\n",
       "  </thead>\n",
       "  <tbody>\n",
       "    <tr>\n",
       "      <th>0</th>\n",
       "      <td>Monsieur</td>\n",
       "      <td>Barras Florian</td>\n",
       "      <td>170220</td>\n",
       "      <td>2008.0</td>\n",
       "    </tr>\n",
       "    <tr>\n",
       "      <th>1</th>\n",
       "      <td>Monsieur</td>\n",
       "      <td>Beuret Thibaut</td>\n",
       "      <td>166701</td>\n",
       "      <td>2008.0</td>\n",
       "    </tr>\n",
       "    <tr>\n",
       "      <th>2</th>\n",
       "      <td>Monsieur</td>\n",
       "      <td>Biollay Jean Isaac Jamal Pachacutec</td>\n",
       "      <td>161279</td>\n",
       "      <td>2008.0</td>\n",
       "    </tr>\n",
       "    <tr>\n",
       "      <th>3</th>\n",
       "      <td>Monsieur</td>\n",
       "      <td>Blatter Jérémy</td>\n",
       "      <td>166344</td>\n",
       "      <td>2008.0</td>\n",
       "    </tr>\n",
       "    <tr>\n",
       "      <th>4</th>\n",
       "      <td>Monsieur</td>\n",
       "      <td>Boksanyi Michael</td>\n",
       "      <td>161634</td>\n",
       "      <td>2007.0</td>\n",
       "    </tr>\n",
       "  </tbody>\n",
       "</table>\n",
       "</div>"
      ],
      "text/plain": [
       "     Gender                                 Name Sciper No  \\\n",
       "0  Monsieur                       Barras Florian    170220   \n",
       "1  Monsieur                       Beuret Thibaut    166701   \n",
       "2  Monsieur  Biollay Jean Isaac Jamal Pachacutec    161279   \n",
       "3  Monsieur                       Blatter Jérémy    166344   \n",
       "4  Monsieur                     Boksanyi Michael    161634   \n",
       "\n",
       "   Last Bachelor 6 year  \n",
       "0                2008.0  \n",
       "1                2008.0  \n",
       "2                2008.0  \n",
       "3                2008.0  \n",
       "4                2007.0  "
      ]
     },
     "execution_count": 206,
     "metadata": {},
     "output_type": "execute_result"
    }
   ],
   "source": [
    "cp = Bachelor6_data.copy()\n",
    "cp = cp.drop(cp.columns[[0,1,2]], axis=1)\n",
    "for column in cp.columns[0:]:\n",
    "    year = float(column.split(\"-\")[0])\n",
    "    cp[column]= cp[column].replace(\"Présent\", year, regex=True)\n",
    "    cp[column]= cp[column].replace(\"Congé\", year, regex=True)\n",
    "    cp[column]= cp[column].replace(\"Attente\", year, regex=True)\n",
    "\n",
    "cp = cp.max(axis=1)\n",
    "\n",
    "bch6_final = pd.concat((Bachelor6_data.drop(Bachelor6_data.columns[3:], axis=1), cp.to_frame()), axis=1)\n",
    "bch6_final.columns = [['Gender', 'Name', 'Sciper No', 'Last Bachelor 6 year']]\n",
    "bch6_final.head()"
   ]
  },
  {
   "cell_type": "code",
   "execution_count": 207,
   "metadata": {
    "collapsed": false
   },
   "outputs": [
    {
     "data": {
      "text/html": [
       "<div>\n",
       "<table border=\"1\" class=\"dataframe\">\n",
       "  <thead>\n",
       "    <tr style=\"text-align: right;\">\n",
       "      <th></th>\n",
       "      <th>Gender</th>\n",
       "      <th>Name</th>\n",
       "      <th>Sciper No</th>\n",
       "      <th>Last Bachelor 5 year</th>\n",
       "      <th>Last Bachelor 6 year</th>\n",
       "    </tr>\n",
       "  </thead>\n",
       "  <tbody>\n",
       "    <tr>\n",
       "      <th>0</th>\n",
       "      <td>Monsieur</td>\n",
       "      <td>Barras Florian</td>\n",
       "      <td>170220</td>\n",
       "      <td>2007.5</td>\n",
       "      <td>2008.0</td>\n",
       "    </tr>\n",
       "    <tr>\n",
       "      <th>1</th>\n",
       "      <td>Monsieur</td>\n",
       "      <td>Beuret Thibaut</td>\n",
       "      <td>166701</td>\n",
       "      <td>2007.5</td>\n",
       "      <td>2008.0</td>\n",
       "    </tr>\n",
       "    <tr>\n",
       "      <th>2</th>\n",
       "      <td>Monsieur</td>\n",
       "      <td>Biollay Jean Isaac Jamal Pachacutec</td>\n",
       "      <td>161279</td>\n",
       "      <td>2007.5</td>\n",
       "      <td>2008.0</td>\n",
       "    </tr>\n",
       "    <tr>\n",
       "      <th>3</th>\n",
       "      <td>Monsieur</td>\n",
       "      <td>Blatter Jérémy</td>\n",
       "      <td>166344</td>\n",
       "      <td>2007.5</td>\n",
       "      <td>2008.0</td>\n",
       "    </tr>\n",
       "    <tr>\n",
       "      <th>4</th>\n",
       "      <td>Monsieur</td>\n",
       "      <td>Boksanyi Michael</td>\n",
       "      <td>161634</td>\n",
       "      <td>2006.5</td>\n",
       "      <td>2007.0</td>\n",
       "    </tr>\n",
       "  </tbody>\n",
       "</table>\n",
       "</div>"
      ],
      "text/plain": [
       "     Gender                                 Name Sciper No  \\\n",
       "0  Monsieur                       Barras Florian    170220   \n",
       "1  Monsieur                       Beuret Thibaut    166701   \n",
       "2  Monsieur  Biollay Jean Isaac Jamal Pachacutec    161279   \n",
       "3  Monsieur                       Blatter Jérémy    166344   \n",
       "4  Monsieur                     Boksanyi Michael    161634   \n",
       "\n",
       "   Last Bachelor 5 year  Last Bachelor 6 year  \n",
       "0                2007.5                2008.0  \n",
       "1                2007.5                2008.0  \n",
       "2                2007.5                2008.0  \n",
       "3                2007.5                2008.0  \n",
       "4                2006.5                2007.0  "
      ]
     },
     "execution_count": 207,
     "metadata": {},
     "output_type": "execute_result"
    }
   ],
   "source": [
    "concat = pd.merge(bch5_final, bch6_final, how='inner', on=['Gender','Name','Sciper No'])\n",
    "concat.head()"
   ]
  },
  {
   "cell_type": "code",
   "execution_count": 218,
   "metadata": {
    "collapsed": false
   },
   "outputs": [
    {
     "data": {
      "text/html": [
       "<div>\n",
       "<table border=\"1\" class=\"dataframe\">\n",
       "  <thead>\n",
       "    <tr style=\"text-align: right;\">\n",
       "      <th></th>\n",
       "      <th>Gender</th>\n",
       "      <th>Name</th>\n",
       "      <th>Sciper No</th>\n",
       "      <th>Bachelor end year</th>\n",
       "    </tr>\n",
       "  </thead>\n",
       "  <tbody>\n",
       "    <tr>\n",
       "      <th>0</th>\n",
       "      <td>Monsieur</td>\n",
       "      <td>Barras Florian</td>\n",
       "      <td>170220</td>\n",
       "      <td>2008.0</td>\n",
       "    </tr>\n",
       "    <tr>\n",
       "      <th>1</th>\n",
       "      <td>Monsieur</td>\n",
       "      <td>Beuret Thibaut</td>\n",
       "      <td>166701</td>\n",
       "      <td>2008.0</td>\n",
       "    </tr>\n",
       "    <tr>\n",
       "      <th>2</th>\n",
       "      <td>Monsieur</td>\n",
       "      <td>Biollay Jean Isaac Jamal Pachacutec</td>\n",
       "      <td>161279</td>\n",
       "      <td>2008.0</td>\n",
       "    </tr>\n",
       "    <tr>\n",
       "      <th>3</th>\n",
       "      <td>Monsieur</td>\n",
       "      <td>Blatter Jérémy</td>\n",
       "      <td>166344</td>\n",
       "      <td>2008.0</td>\n",
       "    </tr>\n",
       "    <tr>\n",
       "      <th>4</th>\n",
       "      <td>Monsieur</td>\n",
       "      <td>Boksanyi Michael</td>\n",
       "      <td>161634</td>\n",
       "      <td>2007.0</td>\n",
       "    </tr>\n",
       "  </tbody>\n",
       "</table>\n",
       "</div>"
      ],
      "text/plain": [
       "     Gender                                 Name Sciper No  Bachelor end year\n",
       "0  Monsieur                       Barras Florian    170220             2008.0\n",
       "1  Monsieur                       Beuret Thibaut    166701             2008.0\n",
       "2  Monsieur  Biollay Jean Isaac Jamal Pachacutec    161279             2008.0\n",
       "3  Monsieur                       Blatter Jérémy    166344             2008.0\n",
       "4  Monsieur                     Boksanyi Michael    161634             2007.0"
      ]
     },
     "execution_count": 218,
     "metadata": {},
     "output_type": "execute_result"
    }
   ],
   "source": [
    "endyear = concat.drop(concat.columns[[0,1,2]], axis=1).max(axis=1)\n",
    "bch_end_final = pd.concat((concat.drop(concat.columns[3:], axis=1), endyear.to_frame()), axis=1)\n",
    "bch_end_final.columns = [['Gender', 'Name', 'Sciper No', 'Bachelor end year']]\n",
    "bch_end_final.head()"
   ]
  },
  {
   "cell_type": "code",
   "execution_count": 219,
   "metadata": {
    "collapsed": false
   },
   "outputs": [
    {
     "data": {
      "text/html": [
       "<div>\n",
       "<table border=\"1\" class=\"dataframe\">\n",
       "  <thead>\n",
       "    <tr style=\"text-align: right;\">\n",
       "      <th></th>\n",
       "      <th>Gender</th>\n",
       "      <th>Name</th>\n",
       "      <th>Sciper No</th>\n",
       "      <th>Bachelor start year</th>\n",
       "      <th>Bachelor end year</th>\n",
       "    </tr>\n",
       "  </thead>\n",
       "  <tbody>\n",
       "    <tr>\n",
       "      <th>0</th>\n",
       "      <td>Monsieur</td>\n",
       "      <td>Arévalo Christian</td>\n",
       "      <td>169569</td>\n",
       "      <td>2007.0</td>\n",
       "      <td>2009.0</td>\n",
       "    </tr>\n",
       "    <tr>\n",
       "      <th>1</th>\n",
       "      <td>Monsieur</td>\n",
       "      <td>Aubelle Flavien</td>\n",
       "      <td>174905</td>\n",
       "      <td>2007.0</td>\n",
       "      <td>2011.0</td>\n",
       "    </tr>\n",
       "    <tr>\n",
       "      <th>2</th>\n",
       "      <td>Monsieur</td>\n",
       "      <td>Baeriswyl Jonathan</td>\n",
       "      <td>179406</td>\n",
       "      <td>2007.0</td>\n",
       "      <td>2010.0</td>\n",
       "    </tr>\n",
       "    <tr>\n",
       "      <th>3</th>\n",
       "      <td>Monsieur</td>\n",
       "      <td>Barroco Michael</td>\n",
       "      <td>179428</td>\n",
       "      <td>2007.0</td>\n",
       "      <td>2010.0</td>\n",
       "    </tr>\n",
       "    <tr>\n",
       "      <th>4</th>\n",
       "      <td>Monsieur</td>\n",
       "      <td>Bindschaedler Vincent</td>\n",
       "      <td>179449</td>\n",
       "      <td>2007.0</td>\n",
       "      <td>2009.0</td>\n",
       "    </tr>\n",
       "  </tbody>\n",
       "</table>\n",
       "</div>"
      ],
      "text/plain": [
       "     Gender                   Name Sciper No  Bachelor start year  \\\n",
       "0  Monsieur      Arévalo Christian    169569               2007.0   \n",
       "1  Monsieur        Aubelle Flavien    174905               2007.0   \n",
       "2  Monsieur     Baeriswyl Jonathan    179406               2007.0   \n",
       "3  Monsieur        Barroco Michael    179428               2007.0   \n",
       "4  Monsieur  Bindschaedler Vincent    179449               2007.0   \n",
       "\n",
       "   Bachelor end year  \n",
       "0             2009.0  \n",
       "1             2011.0  \n",
       "2             2010.0  \n",
       "3             2010.0  \n",
       "4             2009.0  "
      ]
     },
     "execution_count": 219,
     "metadata": {},
     "output_type": "execute_result"
    }
   ],
   "source": [
    "AllStudentsBeginAndEnd = pd.merge(bch1_final, bch_end_final, how='inner', on=['Gender','Name','Sciper No'])\n",
    "AllStudentsBeginAndEnd.head()"
   ]
  },
  {
   "cell_type": "code",
   "execution_count": 226,
   "metadata": {
    "collapsed": false
   },
   "outputs": [
    {
     "data": {
      "text/plain": [
       "0     6.0\n",
       "1    10.0\n",
       "2     8.0\n",
       "3     8.0\n",
       "4     6.0\n",
       "dtype: float64"
      ]
     },
     "execution_count": 226,
     "metadata": {},
     "output_type": "execute_result"
    }
   ],
   "source": [
    "bachelor_duration = (AllStudentsBeginAndEnd['Bachelor end year'] - AllStudentsBeginAndEnd['Bachelor start year']) * 2 + 2\n",
    "bachelor_duration.head()"
   ]
  },
  {
   "cell_type": "code",
   "execution_count": 227,
   "metadata": {
    "collapsed": false
   },
   "outputs": [
    {
     "name": "stdout",
     "output_type": "stream",
     "text": [
      "     Gender  Bachelor duration [months]\n",
      "0  Monsieur                         6.0\n",
      "1  Monsieur                        10.0\n",
      "2  Monsieur                         8.0\n",
      "3  Monsieur                         8.0\n",
      "4  Monsieur                         6.0\n",
      "    Gender  Bachelor duration [months]\n",
      "15  Madame                         6.0\n",
      "31  Madame                         6.0\n",
      "57  Madame                         6.0\n",
      "66  Madame                         6.0\n",
      "69  Madame                         6.0\n"
     ]
    }
   ],
   "source": [
    "gender_stats = pd.merge(AllStudentsBeginAndEnd[['Gender']], bachelor_duration.to_frame(), left_index=True, right_index=True)\n",
    "gender_stats.columns = ['Gender', 'Bachelor duration [months]']\n",
    "male = gender_stats.loc[gender_stats.Gender=='Monsieur']\n",
    "female = gender_stats.loc[gender_stats.Gender=='Madame']\n",
    "\n",
    "print(male.head())\n",
    "print(female.head())"
   ]
  },
  {
   "cell_type": "code",
   "execution_count": 234,
   "metadata": {
    "collapsed": false
   },
   "outputs": [
    {
     "data": {
      "text/html": [
       "<div>\n",
       "<table border=\"1\" class=\"dataframe\">\n",
       "  <thead>\n",
       "    <tr style=\"text-align: right;\">\n",
       "      <th></th>\n",
       "      <th>Bachelor duration [months]</th>\n",
       "    </tr>\n",
       "    <tr>\n",
       "      <th>Gender</th>\n",
       "      <th></th>\n",
       "    </tr>\n",
       "  </thead>\n",
       "  <tbody>\n",
       "    <tr>\n",
       "      <th>Madame</th>\n",
       "      <td>6.793103</td>\n",
       "    </tr>\n",
       "    <tr>\n",
       "      <th>Monsieur</th>\n",
       "      <td>7.146739</td>\n",
       "    </tr>\n",
       "  </tbody>\n",
       "</table>\n",
       "</div>"
      ],
      "text/plain": [
       "          Bachelor duration [months]\n",
       "Gender                              \n",
       "Madame                      6.793103\n",
       "Monsieur                    7.146739"
      ]
     },
     "execution_count": 234,
     "metadata": {},
     "output_type": "execute_result"
    }
   ],
   "source": [
    "gender_stats.groupby('Gender').mean()"
   ]
  },
  {
   "cell_type": "code",
   "execution_count": 233,
   "metadata": {
    "collapsed": false
   },
   "outputs": [
    {
     "data": {
      "text/html": [
       "<div>\n",
       "<table border=\"1\" class=\"dataframe\">\n",
       "  <thead>\n",
       "    <tr style=\"text-align: right;\">\n",
       "      <th></th>\n",
       "      <th>Bachelor duration [months]</th>\n",
       "    </tr>\n",
       "  </thead>\n",
       "  <tbody>\n",
       "    <tr>\n",
       "      <th>count</th>\n",
       "      <td>397.000000</td>\n",
       "    </tr>\n",
       "    <tr>\n",
       "      <th>mean</th>\n",
       "      <td>7.120907</td>\n",
       "    </tr>\n",
       "    <tr>\n",
       "      <th>std</th>\n",
       "      <td>1.562015</td>\n",
       "    </tr>\n",
       "    <tr>\n",
       "      <th>min</th>\n",
       "      <td>6.000000</td>\n",
       "    </tr>\n",
       "    <tr>\n",
       "      <th>25%</th>\n",
       "      <td>6.000000</td>\n",
       "    </tr>\n",
       "    <tr>\n",
       "      <th>50%</th>\n",
       "      <td>6.000000</td>\n",
       "    </tr>\n",
       "    <tr>\n",
       "      <th>75%</th>\n",
       "      <td>8.000000</td>\n",
       "    </tr>\n",
       "    <tr>\n",
       "      <th>max</th>\n",
       "      <td>14.000000</td>\n",
       "    </tr>\n",
       "  </tbody>\n",
       "</table>\n",
       "</div>"
      ],
      "text/plain": [
       "       Bachelor duration [months]\n",
       "count                  397.000000\n",
       "mean                     7.120907\n",
       "std                      1.562015\n",
       "min                      6.000000\n",
       "25%                      6.000000\n",
       "50%                      6.000000\n",
       "75%                      8.000000\n",
       "max                     14.000000"
      ]
     },
     "execution_count": 233,
     "metadata": {},
     "output_type": "execute_result"
    }
   ],
   "source": [
    "gender_stats.describe()"
   ]
  },
  {
   "cell_type": "code",
   "execution_count": 229,
   "metadata": {
    "collapsed": false
   },
   "outputs": [
    {
     "data": {
      "text/plain": [
       "array([[<matplotlib.axes._subplots.AxesSubplot object at 0x7f1816c54208>]], dtype=object)"
      ]
     },
     "execution_count": 229,
     "metadata": {},
     "output_type": "execute_result"
    },
    {
     "data": {
      "image/png": "[encoded data removed]",
      "text/plain": [
       "<matplotlib.figure.Figure at 0x7f18160e8550>"
      ]
     },
     "metadata": {},
     "output_type": "display_data"
    }
   ],
   "source": [
    "male.hist(bins=9)"
   ]
  },
  {
   "cell_type": "code",
   "execution_count": 230,
   "metadata": {
    "collapsed": false
   },
   "outputs": [
    {
     "data": {
      "text/plain": [
       "array([[<matplotlib.axes._subplots.AxesSubplot object at 0x7f1816456748>]], dtype=object)"
      ]
     },
     "execution_count": 230,
     "metadata": {},
     "output_type": "execute_result"
    },
    {
     "data": {
      "image/png": "[encoded data removed]",
      "text/plain": [
       "<matplotlib.figure.Figure at 0x7f181325f710>"
      ]
     },
     "metadata": {},
     "output_type": "display_data"
    }
   ],
   "source": [
    "female.hist(bins=20)"
   ]
  },
  {
   "cell_type": "code",
   "execution_count": 231,
   "metadata": {
    "collapsed": false
   },
   "outputs": [
    {
     "data": {
      "text/plain": [
       "Ttest_indResult(statistic=1.3437005678090845, pvalue=0.18785555340784144)"
      ]
     },
     "execution_count": 231,
     "metadata": {},
     "output_type": "execute_result"
    }
   ],
   "source": [
    "stats.ttest_ind(a= male[male.columns[1]],\n",
    "                b= female[female.columns[1]],\n",
    "                equal_var=False)"
   ]
  },
  {
   "cell_type": "code",
   "execution_count": null,
   "metadata": {
    "collapsed": true
   },
   "outputs": [],
   "source": []
  }
 ],
 "metadata": {
  "anaconda-cloud": {},
  "kernelspec": {
   "display_name": "Python [Root]",
   "language": "python",
   "name": "Python [Root]"
  },
  "language_info": {
   "codemirror_mode": {
    "name": "ipython",
    "version": 3
   },
   "file_extension": ".py",
   "mimetype": "text/x-python",
   "name": "python",
   "nbconvert_exporter": "python",
   "pygments_lexer": "ipython3",
   "version": "3.5.2"
  },
  "nav_menu": {},
  "toc": {
   "navigate_menu": true,
   "number_sections": false,
   "sideBar": false,
   "threshold": "3",
   "toc_cell": true,
   "toc_section_display": "block",
   "toc_window_display": false
  }
 },
 "nbformat": 4,
 "nbformat_minor": 1
}
