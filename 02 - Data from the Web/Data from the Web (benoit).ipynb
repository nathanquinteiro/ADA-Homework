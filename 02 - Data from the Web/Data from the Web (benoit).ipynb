{
 "cells": [
  {
   "cell_type": "markdown",
   "metadata": {
    "toc": "true"
   },
   "source": [
    "# Table of Contents\n",
    "<p>\n",
    "<div class=\"lev1\"><a href=\"#Data-from-the-Web\"><span class=\"toc-item-num\">1&nbsp;&nbsp;</span>Data from the Web</a></div>\n",
    "<div class=\"lev1\"><a href=\"#Getting-the-data\"><span class=\"toc-item-num\">1.1&nbsp;&nbsp;</span>Getting the data</a></div>\n",
    "<div class=\"lev2\"><a href=\"#Requesting-ISA-form\"><span class=\"toc-item-num\">2.1&nbsp;&nbsp;</span>Requesting ISA form</a></div>\n",
    "<div class=\"lev2\"><a href=\"#Finding-form-IDs\"><span class=\"toc-item-num\">2.1&nbsp;&nbsp;</span>Finding form IDs</a></div>\n",
    "<div class=\"lev2\"><a href=\"#Filtering-and-getting-the-data\"><span class=\"toc-item-num\">2.1&nbsp;&nbsp;</span>Filtering and getting the data</a></div>\n",
    "\n"
   ]
  },
  {
   "cell_type": "markdown",
   "metadata": {},
   "source": [
    "# Data from the Web\n",
    "\n",
    "In this homework we will extract interesting information from IS-Academia, the educational portal of EPFL. Specifically, we will focus on the part that allows public access to academic data. The list of registered students by section and semester is not offered as a downloadable dataset, so you will have to find a way to scrape the information we need. On this form you can select the data to download based on different criteria (e.g., year, semester, etc.)\n",
    "\n",
    "You are not allowed to download manually all the tables -- rather you have to understand what parameters the server accepts, and generate accordingly the HTTP requests. For this task, Postman with the Interceptor extension can help you greatly. I recommend you to watch this brief tutorial to understand quickly how to use it. Your code in the iPython Notebook should not contain any hardcoded URL. To fetch the content from the IS-Academia server, you can use the Requests library with a Base URL, but all the other form parameters should be extracted from the HTML with BeautifulSoup. You can choose to download Excel or HTML files -- they both have pros and cons, as you will find out after a quick check. You can also choose to download data at different granularities (e.g., per semester, per year, etc.) but I recommend you not to download all the data in one shot because 1) the requests are likely to timeout and 2) we will overload the IS-Academia server.\n"
   ]
  },
  {
   "cell_type": "code",
   "execution_count": 794,
   "metadata": {
    "collapsed": false
   },
   "outputs": [],
   "source": [
    "%matplotlib inline\n",
    "import pandas as pd\n",
    "import numpy as np\n",
    "import matplotlib.pyplot as plt\n",
    "import seaborn as sns\n",
    "import glob\n",
    "import requests\n",
    "import re\n",
    "from bs4 import BeautifulSoup\n",
    "sns.set_context('notebook')"
   ]
  },
  {
   "cell_type": "markdown",
   "metadata": {},
   "source": [
    "# Getting the data"
   ]
  },
  {
   "cell_type": "markdown",
   "metadata": {
    "collapsed": false
   },
   "source": [
    "## Finding ISA form \n",
    "\n",
    "The first part of the job in order to get the data is to get the parameters required to get the data we want.\n",
    "\n",
    "In this purpose, we first do a get request on the ISA form with the link <http://isa.epfl.ch/imoniteur_ISAP/!GEDPUBLICREPORTS.filter?ww_i_reportModel=133685247>.\n",
    "\n",
    "We also use BeautifulSoup on the resulting html response in order to parse it later."
   ]
  },
  {
   "cell_type": "code",
   "execution_count": 795,
   "metadata": {
    "collapsed": false
   },
   "outputs": [],
   "source": [
    "r = requests.get('http://isa.epfl.ch/imoniteur_ISAP/!GEDPUBLICREPORTS.filter?ww_i_reportModel=133685247')\n",
    "r.headers['content-type']\n",
    "html_doc = r.text\n",
    "isaForm = BeautifulSoup(html_doc, 'html.parser')"
   ]
  },
  {
   "cell_type": "markdown",
   "metadata": {},
   "source": [
    "## Finding form IDs\n",
    "\n",
    "Now that we've got the form's html code, we need to know which values of the form are used to filter and displayed the desired data. The values we're interested in are 'unité académique', 'période académique' and 'période pédagogique' (corresponding respectively to section, academic year and semester).\n",
    "\n",
    "By inspecting the html code, we saw that the form items are 'option', it is then easy to get their value by using BeautifupSoup find and find_all method.\n",
    "\n",
    "The following code will simply find the option value corresponding to section 'Informatique', and output it's value (the id used to filter the result).\n",
    "```python\n",
    "    soup.find('option', text = re.compile('Informatique'))['value']\n",
    "```\n",
    "\n",
    "We do the same thing for Bachelor 1st and 6th semester.\n",
    "```python\n",
    "    bachelor_1_id = soup.find('option', text = re.compile('Bachelor semestre 1'))['value']\n",
    "    bachelor_6_id = soup.find('option', text = re.compile('Bachelor semestre 6'))['value']\n",
    "```\n",
    "\n",
    "And we get the academic years ids from 2007-2008 to 2016-2017 using a for loop (see in the cell below)"
   ]
  },
  {
   "cell_type": "code",
   "execution_count": 796,
   "metadata": {
    "collapsed": false
   },
   "outputs": [
    {
     "name": "stdout",
     "output_type": "stream",
     "text": [
      "Id of informatique :  249847 \n",
      "\n",
      "Id of Bachelor semester 1:  249108 \n",
      "\n",
      "Id of Bachelor semester 6:  942175 \n",
      "\n",
      "years ids : (from 2007-2008 to 2016-2017) {'2010-2011': ['39486325'], '2016-2017': ['355925344'], '2008-2009': ['978187'], '2007-2008': ['978181'], '2013-2014': ['213637754'], '2009-2010': ['978195'], '2014-2015': ['213637922'], '2012-2013': ['123456101'], '2015-2016': ['213638028'], '2011-2012': ['123455150']}\n"
     ]
    }
   ],
   "source": [
    "informatique_id = isaForm.find('option', text = re.compile('Informatique'))['value']\n",
    "print(\"Id of informatique : \", informatique_id, \"\\n\")\n",
    "\n",
    "semester_ids = {}\n",
    "for i in range(1, 7):\n",
    "    semester_ids['Bachelor semestre ' + str(i)] = isaForm.find('option', text = re.compile('Bachelor semestre ' + str(i)))['value']\n",
    "print(\"Id of Bachelor semester 1: \", semester_ids['Bachelor semestre 1'],\"\\n\")\n",
    "print(\"Id of Bachelor semester 6: \", semester_ids['Bachelor semestre 6'],\"\\n\")\n",
    "\n",
    "year_ids = {}\n",
    "for y in range(2007, 2017):\n",
    "    school_year = str(y) + \"-\" + str(y+1)\n",
    "    year_ids[str(y) + \"-\" + str(y+1)] = [isaForm.find('option', text = re.compile(school_year))['value']]\n",
    "    \n",
    "print(\"years ids : (from 2007-2008 to 2016-2017)\", year_ids)\n",
    "\n"
   ]
  },
  {
   "cell_type": "markdown",
   "metadata": {},
   "source": [
    "## Filtering and getting the data\n",
    "\n",
    "Now that we know the interesting IDs used in the form, we need to filter and request our data. For this purpose, we used Postman and Postman interceptor to intercept and inspect the request method used to get the data from the formula. \n",
    "  \n",
    "</br>\n",
    "\n",
    "\n",
    "\n",
    "\n",
    "The picture below shows all parameters used in the URL to filter and return results for:\n",
    "* Section \"Informatique\"\n",
    "* Academic period \"2016-2017\"\n",
    "* Pedagogic period \"Bachelor semestre 1\"\n",
    "\n",
    "<p>\n",
    "    <img src=\"img/postman.png\" alt=\"postman\" align=\"center\"/>\n",
    "</p>\n",
    "\n",
    "After playing a bit with the URL, we conclude that not all parameters were mandatory, the required parameters and their values are:\n",
    "\n",
    "|parameter  | value |\n",
    "|-----------|-------|\n",
    "|ww_b_list  |must be '1'|  \n",
    "|ww_i_reportmodel|must be '133685247'|\n",
    "|ww_i_reportModelXsl|must be '133685270'|\n",
    "|ww_x_UNITE_ACAD|correspond to the id of the section, taken from the form|\n",
    "|ww_x_PERIODE_ACAD|correspond to the id of the academic year, taken from the form|\n",
    "|ww_x_PERIODE_PEDAGO|correspond to the id of the semester, taken from the form|\n",
    "\n"
   ]
  },
  {
   "cell_type": "code",
   "execution_count": 797,
   "metadata": {
    "collapsed": false
   },
   "outputs": [],
   "source": [
    "def getFilteredPage(academic_year, semester):\n",
    "    params = {'ww_b_list':'1',\n",
    "            'ww_i_reportmodel':'133685247',\n",
    "            'ww_i_reportModelXsl':'133685270',\n",
    "            'ww_x_UNITE_ACAD':informatique_id,\n",
    "            'ww_x_PERIODE_ACAD':year_ids[academic_year],\n",
    "            'ww_x_PERIODE_PEDAGO':semester_ids[semester]}\n",
    "    r = requests.get('http://isa.epfl.ch/imoniteur_ISAP/!GEDPUBLICREPORTS.filter?', params)\n",
    "    html_doc = r.text\n",
    "    return BeautifulSoup(html_doc, 'html.parser'), params\n",
    "\n",
    "def getResultPage(academic_year, semester):\n",
    "    filteredPage, params = getFilteredPage(academic_year, semester)\n",
    "    params['ww_x_GPS'] = filteredPage.find_all('a')[1].get('onclick').split(\"ww_x_GPS=\")[1].split(\"')\")[0]\n",
    "    r = requests.get('http://isa.epfl.ch/imoniteur_ISAP/!GEDPUBLICREPORTS.bhtml?', params)\n",
    "    return BeautifulSoup(r.text, 'html.parser')\n",
    "\n",
    "def getResultAllYears(semester):\n",
    "    global_table = []\n",
    "    for year_id in year_ids:\n",
    "        soup = getResultPage(year_id, semester)\n",
    "\n",
    "        students_tr = soup.body.hr.table.find_all('tr')[2:]\n",
    "        students = []\n",
    "        for i in range (0,len(students_tr)):\n",
    "            student = students_tr[i].find_all('td')\n",
    "            students.append([student[0].text,student[1].text.replace(u'\\xa0', u' '),student[7].text,student[10].text])\n",
    "\n",
    "        pd_student = pd.DataFrame(students, columns=['Gender', 'Name', 'Status_' + year_id, 'Sciper'])\n",
    "\n",
    "        global_table.append(pd_student)\n",
    "    return global_table\n",
    "\n",
    "def joinTables(global_table):\n",
    "    joined_table = global_table[0]\n",
    "    for single_table in global_table[1:len(global_table)]:\n",
    "        joined_table = pd.merge(joined_table, single_table, how='outer', on=['Gender','Name','Sciper'])\n",
    "    return joined_table\n",
    "  \n",
    "def formatTable(joined_table_bch):\n",
    "    bch_no_string = joined_table_bch.drop(joined_table_bch.columns[[0,1,3]], axis=1)\n",
    "    bch = bch_no_string.sort_index(axis=1)\n",
    "    \n",
    "    year = 2007\n",
    "    for bch_col in bch:\n",
    "        bch[bch_col] = bch[bch_col].replace('Présent', year)\n",
    "        year = year + 1\n",
    "    return bch\n",
    " \n",
    "    \n",
    "    \n",
    "    "
   ]
  },
  {
   "cell_type": "code",
   "execution_count": 798,
   "metadata": {
    "collapsed": false
   },
   "outputs": [],
   "source": [
    "global_table_bch1 = getResultAllYears('Bachelor semestre 1')"
   ]
  },
  {
   "cell_type": "code",
   "execution_count": 799,
   "metadata": {
    "collapsed": false
   },
   "outputs": [
    {
     "data": {
      "text/html": [
       "<div>\n",
       "<table border=\"1\" class=\"dataframe\">\n",
       "  <thead>\n",
       "    <tr style=\"text-align: right;\">\n",
       "      <th></th>\n",
       "      <th>Gender</th>\n",
       "      <th>Name</th>\n",
       "      <th>Status_2010-2011</th>\n",
       "      <th>Sciper</th>\n",
       "      <th>Status_2016-2017</th>\n",
       "      <th>Status_2008-2009</th>\n",
       "      <th>Status_2007-2008</th>\n",
       "      <th>Status_2013-2014</th>\n",
       "      <th>Status_2009-2010</th>\n",
       "      <th>Status_2014-2015</th>\n",
       "      <th>Status_2012-2013</th>\n",
       "      <th>Status_2015-2016</th>\n",
       "      <th>Status_2011-2012</th>\n",
       "    </tr>\n",
       "  </thead>\n",
       "  <tbody>\n",
       "    <tr>\n",
       "      <th>0</th>\n",
       "      <td>Monsieur</td>\n",
       "      <td>Achour Maher Ali</td>\n",
       "      <td>Présent</td>\n",
       "      <td>202124</td>\n",
       "      <td>NaN</td>\n",
       "      <td>NaN</td>\n",
       "      <td>NaN</td>\n",
       "      <td>NaN</td>\n",
       "      <td>NaN</td>\n",
       "      <td>NaN</td>\n",
       "      <td>NaN</td>\n",
       "      <td>NaN</td>\n",
       "      <td>NaN</td>\n",
       "    </tr>\n",
       "    <tr>\n",
       "      <th>1</th>\n",
       "      <td>Monsieur</td>\n",
       "      <td>Aiulfi Loris Sandro</td>\n",
       "      <td>Présent</td>\n",
       "      <td>202293</td>\n",
       "      <td>NaN</td>\n",
       "      <td>NaN</td>\n",
       "      <td>NaN</td>\n",
       "      <td>NaN</td>\n",
       "      <td>NaN</td>\n",
       "      <td>NaN</td>\n",
       "      <td>NaN</td>\n",
       "      <td>NaN</td>\n",
       "      <td>Présent</td>\n",
       "    </tr>\n",
       "    <tr>\n",
       "      <th>2</th>\n",
       "      <td>Monsieur</td>\n",
       "      <td>Akiba David</td>\n",
       "      <td>Présent</td>\n",
       "      <td>206418</td>\n",
       "      <td>NaN</td>\n",
       "      <td>NaN</td>\n",
       "      <td>NaN</td>\n",
       "      <td>NaN</td>\n",
       "      <td>NaN</td>\n",
       "      <td>NaN</td>\n",
       "      <td>NaN</td>\n",
       "      <td>NaN</td>\n",
       "      <td>Présent</td>\n",
       "    </tr>\n",
       "    <tr>\n",
       "      <th>3</th>\n",
       "      <td>Madame</td>\n",
       "      <td>Al Azawi Marwa</td>\n",
       "      <td>Présent</td>\n",
       "      <td>195766</td>\n",
       "      <td>NaN</td>\n",
       "      <td>NaN</td>\n",
       "      <td>NaN</td>\n",
       "      <td>NaN</td>\n",
       "      <td>Présent</td>\n",
       "      <td>NaN</td>\n",
       "      <td>NaN</td>\n",
       "      <td>NaN</td>\n",
       "      <td>NaN</td>\n",
       "    </tr>\n",
       "    <tr>\n",
       "      <th>4</th>\n",
       "      <td>Monsieur</td>\n",
       "      <td>Albasini Romain</td>\n",
       "      <td>Présent</td>\n",
       "      <td>198197</td>\n",
       "      <td>NaN</td>\n",
       "      <td>NaN</td>\n",
       "      <td>NaN</td>\n",
       "      <td>NaN</td>\n",
       "      <td>NaN</td>\n",
       "      <td>NaN</td>\n",
       "      <td>NaN</td>\n",
       "      <td>NaN</td>\n",
       "      <td>Présent</td>\n",
       "    </tr>\n",
       "  </tbody>\n",
       "</table>\n",
       "</div>"
      ],
      "text/plain": [
       "     Gender                 Name Status_2010-2011  Sciper Status_2016-2017  \\\n",
       "0  Monsieur     Achour Maher Ali          Présent  202124              NaN   \n",
       "1  Monsieur  Aiulfi Loris Sandro          Présent  202293              NaN   \n",
       "2  Monsieur          Akiba David          Présent  206418              NaN   \n",
       "3    Madame       Al Azawi Marwa          Présent  195766              NaN   \n",
       "4  Monsieur      Albasini Romain          Présent  198197              NaN   \n",
       "\n",
       "  Status_2008-2009 Status_2007-2008 Status_2013-2014 Status_2009-2010  \\\n",
       "0              NaN              NaN              NaN              NaN   \n",
       "1              NaN              NaN              NaN              NaN   \n",
       "2              NaN              NaN              NaN              NaN   \n",
       "3              NaN              NaN              NaN          Présent   \n",
       "4              NaN              NaN              NaN              NaN   \n",
       "\n",
       "  Status_2014-2015 Status_2012-2013 Status_2015-2016 Status_2011-2012  \n",
       "0              NaN              NaN              NaN              NaN  \n",
       "1              NaN              NaN              NaN          Présent  \n",
       "2              NaN              NaN              NaN          Présent  \n",
       "3              NaN              NaN              NaN              NaN  \n",
       "4              NaN              NaN              NaN          Présent  "
      ]
     },
     "execution_count": 799,
     "metadata": {},
     "output_type": "execute_result"
    }
   ],
   "source": [
    "joined_table_bch1 = joinTables(global_table_bch1)\n",
    "joined_table_bch1.head()"
   ]
  },
  {
   "cell_type": "code",
   "execution_count": 800,
   "metadata": {
    "collapsed": false
   },
   "outputs": [
    {
     "data": {
      "text/plain": [
       "(1323, 13)"
      ]
     },
     "execution_count": 800,
     "metadata": {},
     "output_type": "execute_result"
    }
   ],
   "source": [
    "joined_table_bch1.shape"
   ]
  },
  {
   "cell_type": "code",
   "execution_count": 801,
   "metadata": {
    "collapsed": false
   },
   "outputs": [
    {
     "data": {
      "text/plain": [
       "(1323, 13)"
      ]
     },
     "execution_count": 801,
     "metadata": {},
     "output_type": "execute_result"
    }
   ],
   "source": [
    "table_no_conge_bch1 = joined_table_bch1.replace('Congé', np.nan).replace('Attente', np.nan).dropna(thresh=4)\n",
    "table_no_conge_bch1.shape"
   ]
  },
  {
   "cell_type": "code",
   "execution_count": 802,
   "metadata": {
    "collapsed": false
   },
   "outputs": [
    {
     "data": {
      "text/plain": [
       "0    2010.0\n",
       "1    2010.0\n",
       "2    2010.0\n",
       "3    2009.0\n",
       "4    2010.0\n",
       "dtype: float64"
      ]
     },
     "execution_count": 802,
     "metadata": {},
     "output_type": "execute_result"
    }
   ],
   "source": [
    "formated_table_bch1 = formatTable(table_no_conge_bch1)\n",
    "bch1_min = formated_table_bch1.min(axis=1)\n",
    "bch1_min.head()"
   ]
  },
  {
   "cell_type": "code",
   "execution_count": 803,
   "metadata": {
    "collapsed": false
   },
   "outputs": [
    {
     "data": {
      "text/plain": [
       "0    2010.0\n",
       "1    2010.0\n",
       "2    2010.0\n",
       "3    2009.0\n",
       "4    2010.0\n",
       "dtype: float64"
      ]
     },
     "execution_count": 803,
     "metadata": {},
     "output_type": "execute_result"
    }
   ],
   "source": [
    "formated_table_bch1 = formatTable(table_no_conge_bch1)\n",
    "bch1_mim = formated_table_bch1.min(axis=1)\n",
    "bch1_min.head()"
   ]
  },
  {
   "cell_type": "code",
   "execution_count": 804,
   "metadata": {
    "collapsed": false
   },
   "outputs": [
    {
     "data": {
      "text/html": [
       "<div>\n",
       "<table border=\"1\" class=\"dataframe\">\n",
       "  <thead>\n",
       "    <tr style=\"text-align: right;\">\n",
       "      <th></th>\n",
       "      <th>Gender</th>\n",
       "      <th>Sciper</th>\n",
       "      <th>Start_year</th>\n",
       "    </tr>\n",
       "  </thead>\n",
       "  <tbody>\n",
       "    <tr>\n",
       "      <th>0</th>\n",
       "      <td>Monsieur</td>\n",
       "      <td>202124</td>\n",
       "      <td>2010.0</td>\n",
       "    </tr>\n",
       "    <tr>\n",
       "      <th>1</th>\n",
       "      <td>Monsieur</td>\n",
       "      <td>202293</td>\n",
       "      <td>2010.0</td>\n",
       "    </tr>\n",
       "    <tr>\n",
       "      <th>2</th>\n",
       "      <td>Monsieur</td>\n",
       "      <td>206418</td>\n",
       "      <td>2010.0</td>\n",
       "    </tr>\n",
       "    <tr>\n",
       "      <th>3</th>\n",
       "      <td>Madame</td>\n",
       "      <td>195766</td>\n",
       "      <td>2009.0</td>\n",
       "    </tr>\n",
       "    <tr>\n",
       "      <th>4</th>\n",
       "      <td>Monsieur</td>\n",
       "      <td>198197</td>\n",
       "      <td>2010.0</td>\n",
       "    </tr>\n",
       "  </tbody>\n",
       "</table>\n",
       "</div>"
      ],
      "text/plain": [
       "     Gender  Sciper  Start_year\n",
       "0  Monsieur  202124      2010.0\n",
       "1  Monsieur  202293      2010.0\n",
       "2  Monsieur  206418      2010.0\n",
       "3    Madame  195766      2009.0\n",
       "4  Monsieur  198197      2010.0"
      ]
     },
     "execution_count": 804,
     "metadata": {},
     "output_type": "execute_result"
    }
   ],
   "source": [
    "bch1_string = table_no_conge_bch1.drop(table_no_conge_bch1.columns[[1,2,4,5,6,7,8,9,10,11,12]], axis=1)\n",
    "bch1_final = pd.merge(bch1_string, bch1_min.to_frame(),left_index=True, right_index=True)\n",
    "bch1_final.columns = [['Gender', 'Sciper', 'Start_year']]\n",
    "bch1_final.head()"
   ]
  },
  {
   "cell_type": "code",
   "execution_count": 805,
   "metadata": {
    "collapsed": false
   },
   "outputs": [],
   "source": [
    "global_table_bch6 = getResultAllYears('Bachelor semestre 6')"
   ]
  },
  {
   "cell_type": "code",
   "execution_count": 806,
   "metadata": {
    "collapsed": false
   },
   "outputs": [
    {
     "data": {
      "text/html": [
       "<div>\n",
       "<table border=\"1\" class=\"dataframe\">\n",
       "  <thead>\n",
       "    <tr style=\"text-align: right;\">\n",
       "      <th></th>\n",
       "      <th>Gender</th>\n",
       "      <th>Name</th>\n",
       "      <th>Status_2010-2011</th>\n",
       "      <th>Sciper</th>\n",
       "      <th>Status_2016-2017</th>\n",
       "      <th>Status_2008-2009</th>\n",
       "      <th>Status_2007-2008</th>\n",
       "      <th>Status_2013-2014</th>\n",
       "      <th>Status_2009-2010</th>\n",
       "      <th>Status_2014-2015</th>\n",
       "      <th>Status_2012-2013</th>\n",
       "      <th>Status_2015-2016</th>\n",
       "      <th>Status_2011-2012</th>\n",
       "    </tr>\n",
       "  </thead>\n",
       "  <tbody>\n",
       "    <tr>\n",
       "      <th>0</th>\n",
       "      <td>Monsieur</td>\n",
       "      <td>Arnfred Jonas</td>\n",
       "      <td>Congé</td>\n",
       "      <td>184772</td>\n",
       "      <td>NaN</td>\n",
       "      <td>NaN</td>\n",
       "      <td>NaN</td>\n",
       "      <td>NaN</td>\n",
       "      <td>NaN</td>\n",
       "      <td>NaN</td>\n",
       "      <td>NaN</td>\n",
       "      <td>NaN</td>\n",
       "      <td>NaN</td>\n",
       "    </tr>\n",
       "    <tr>\n",
       "      <th>1</th>\n",
       "      <td>Monsieur</td>\n",
       "      <td>Aubelle Flavien</td>\n",
       "      <td>Présent</td>\n",
       "      <td>174905</td>\n",
       "      <td>NaN</td>\n",
       "      <td>NaN</td>\n",
       "      <td>NaN</td>\n",
       "      <td>NaN</td>\n",
       "      <td>NaN</td>\n",
       "      <td>NaN</td>\n",
       "      <td>NaN</td>\n",
       "      <td>NaN</td>\n",
       "      <td>Présent</td>\n",
       "    </tr>\n",
       "    <tr>\n",
       "      <th>2</th>\n",
       "      <td>Monsieur</td>\n",
       "      <td>Baeriswyl Jonathan</td>\n",
       "      <td>Présent</td>\n",
       "      <td>179406</td>\n",
       "      <td>NaN</td>\n",
       "      <td>NaN</td>\n",
       "      <td>NaN</td>\n",
       "      <td>NaN</td>\n",
       "      <td>Présent</td>\n",
       "      <td>NaN</td>\n",
       "      <td>NaN</td>\n",
       "      <td>NaN</td>\n",
       "      <td>NaN</td>\n",
       "    </tr>\n",
       "    <tr>\n",
       "      <th>3</th>\n",
       "      <td>Monsieur</td>\n",
       "      <td>Barroco Michael</td>\n",
       "      <td>Présent</td>\n",
       "      <td>179428</td>\n",
       "      <td>NaN</td>\n",
       "      <td>NaN</td>\n",
       "      <td>NaN</td>\n",
       "      <td>NaN</td>\n",
       "      <td>Présent</td>\n",
       "      <td>NaN</td>\n",
       "      <td>NaN</td>\n",
       "      <td>NaN</td>\n",
       "      <td>NaN</td>\n",
       "    </tr>\n",
       "    <tr>\n",
       "      <th>4</th>\n",
       "      <td>Monsieur</td>\n",
       "      <td>Bloch Remi</td>\n",
       "      <td>Présent</td>\n",
       "      <td>179426</td>\n",
       "      <td>NaN</td>\n",
       "      <td>NaN</td>\n",
       "      <td>NaN</td>\n",
       "      <td>NaN</td>\n",
       "      <td>Présent</td>\n",
       "      <td>NaN</td>\n",
       "      <td>NaN</td>\n",
       "      <td>NaN</td>\n",
       "      <td>NaN</td>\n",
       "    </tr>\n",
       "  </tbody>\n",
       "</table>\n",
       "</div>"
      ],
      "text/plain": [
       "     Gender                Name Status_2010-2011  Sciper Status_2016-2017  \\\n",
       "0  Monsieur       Arnfred Jonas            Congé  184772              NaN   \n",
       "1  Monsieur     Aubelle Flavien          Présent  174905              NaN   \n",
       "2  Monsieur  Baeriswyl Jonathan          Présent  179406              NaN   \n",
       "3  Monsieur     Barroco Michael          Présent  179428              NaN   \n",
       "4  Monsieur          Bloch Remi          Présent  179426              NaN   \n",
       "\n",
       "  Status_2008-2009 Status_2007-2008 Status_2013-2014 Status_2009-2010  \\\n",
       "0              NaN              NaN              NaN              NaN   \n",
       "1              NaN              NaN              NaN              NaN   \n",
       "2              NaN              NaN              NaN          Présent   \n",
       "3              NaN              NaN              NaN          Présent   \n",
       "4              NaN              NaN              NaN          Présent   \n",
       "\n",
       "  Status_2014-2015 Status_2012-2013 Status_2015-2016 Status_2011-2012  \n",
       "0              NaN              NaN              NaN              NaN  \n",
       "1              NaN              NaN              NaN          Présent  \n",
       "2              NaN              NaN              NaN              NaN  \n",
       "3              NaN              NaN              NaN              NaN  \n",
       "4              NaN              NaN              NaN              NaN  "
      ]
     },
     "execution_count": 806,
     "metadata": {},
     "output_type": "execute_result"
    }
   ],
   "source": [
    "joined_table_bch6 = joinTables(global_table_bch6)\n",
    "joined_table_bch6.head()"
   ]
  },
  {
   "cell_type": "code",
   "execution_count": 807,
   "metadata": {
    "collapsed": false
   },
   "outputs": [
    {
     "data": {
      "text/plain": [
       "(516, 13)"
      ]
     },
     "execution_count": 807,
     "metadata": {},
     "output_type": "execute_result"
    }
   ],
   "source": [
    "joined_table_bch6.shape"
   ]
  },
  {
   "cell_type": "code",
   "execution_count": 808,
   "metadata": {
    "collapsed": false
   },
   "outputs": [
    {
     "data": {
      "text/plain": [
       "(400, 13)"
      ]
     },
     "execution_count": 808,
     "metadata": {},
     "output_type": "execute_result"
    }
   ],
   "source": [
    "table_no_conge_bch6 = joined_table_bch6.replace('Congé', np.nan).replace('Attente', np.nan).dropna(thresh=4)\n",
    "table_no_conge_bch6.shape"
   ]
  },
  {
   "cell_type": "code",
   "execution_count": 809,
   "metadata": {
    "collapsed": false
   },
   "outputs": [
    {
     "data": {
      "text/plain": [
       "1    2011.0\n",
       "2    2010.0\n",
       "3    2010.0\n",
       "4    2010.0\n",
       "5    2010.0\n",
       "dtype: float64"
      ]
     },
     "execution_count": 809,
     "metadata": {},
     "output_type": "execute_result"
    }
   ],
   "source": [
    "#table_no_conge_bch6 = table_no_conge_bch6.fillna(0)\n",
    "formated_table_bch6 = formatTable(table_no_conge_bch6)\n",
    "bch6_max = formated_table_bch6.max(axis=1)\n",
    "bch6_max.head()"
   ]
  },
  {
   "cell_type": "code",
   "execution_count": 810,
   "metadata": {
    "collapsed": false
   },
   "outputs": [
    {
     "data": {
      "text/html": [
       "<div>\n",
       "<table border=\"1\" class=\"dataframe\">\n",
       "  <thead>\n",
       "    <tr style=\"text-align: right;\">\n",
       "      <th></th>\n",
       "      <th>Gender</th>\n",
       "      <th>Sciper</th>\n",
       "      <th>Last_year</th>\n",
       "    </tr>\n",
       "  </thead>\n",
       "  <tbody>\n",
       "    <tr>\n",
       "      <th>1</th>\n",
       "      <td>Monsieur</td>\n",
       "      <td>174905</td>\n",
       "      <td>2011.0</td>\n",
       "    </tr>\n",
       "    <tr>\n",
       "      <th>2</th>\n",
       "      <td>Monsieur</td>\n",
       "      <td>179406</td>\n",
       "      <td>2010.0</td>\n",
       "    </tr>\n",
       "    <tr>\n",
       "      <th>3</th>\n",
       "      <td>Monsieur</td>\n",
       "      <td>179428</td>\n",
       "      <td>2010.0</td>\n",
       "    </tr>\n",
       "    <tr>\n",
       "      <th>4</th>\n",
       "      <td>Monsieur</td>\n",
       "      <td>179426</td>\n",
       "      <td>2010.0</td>\n",
       "    </tr>\n",
       "    <tr>\n",
       "      <th>5</th>\n",
       "      <td>Monsieur</td>\n",
       "      <td>185949</td>\n",
       "      <td>2010.0</td>\n",
       "    </tr>\n",
       "  </tbody>\n",
       "</table>\n",
       "</div>"
      ],
      "text/plain": [
       "     Gender  Sciper  Last_year\n",
       "1  Monsieur  174905     2011.0\n",
       "2  Monsieur  179406     2010.0\n",
       "3  Monsieur  179428     2010.0\n",
       "4  Monsieur  179426     2010.0\n",
       "5  Monsieur  185949     2010.0"
      ]
     },
     "execution_count": 810,
     "metadata": {},
     "output_type": "execute_result"
    }
   ],
   "source": [
    "bch6_string = table_no_conge_bch6.drop(table_no_conge_bch6.columns[[1,2,4,5,6,7,8,9,10,11,12]], axis=1)\n",
    "bch6_final = pd.merge(bch6_string, bch6_max.to_frame(),left_index=True, right_index=True)\n",
    "bch6_final.columns = [['Gender', 'Sciper', 'Last_year']]\n",
    "bch6_final.head()\n"
   ]
  },
  {
   "cell_type": "code",
   "execution_count": 811,
   "metadata": {
    "collapsed": false
   },
   "outputs": [
    {
     "data": {
      "text/html": [
       "<div>\n",
       "<table border=\"1\" class=\"dataframe\">\n",
       "  <thead>\n",
       "    <tr style=\"text-align: right;\">\n",
       "      <th></th>\n",
       "      <th>Gender</th>\n",
       "      <th>Sciper</th>\n",
       "      <th>Start_year</th>\n",
       "      <th>Last_year</th>\n",
       "    </tr>\n",
       "  </thead>\n",
       "  <tbody>\n",
       "    <tr>\n",
       "      <th>0</th>\n",
       "      <td>Monsieur</td>\n",
       "      <td>202293</td>\n",
       "      <td>2010.0</td>\n",
       "      <td>2014.0</td>\n",
       "    </tr>\n",
       "    <tr>\n",
       "      <th>1</th>\n",
       "      <td>Monsieur</td>\n",
       "      <td>201284</td>\n",
       "      <td>2010.0</td>\n",
       "      <td>2012.0</td>\n",
       "    </tr>\n",
       "    <tr>\n",
       "      <th>2</th>\n",
       "      <td>Monsieur</td>\n",
       "      <td>194182</td>\n",
       "      <td>2009.0</td>\n",
       "      <td>2012.0</td>\n",
       "    </tr>\n",
       "    <tr>\n",
       "      <th>3</th>\n",
       "      <td>Monsieur</td>\n",
       "      <td>185991</td>\n",
       "      <td>2010.0</td>\n",
       "      <td>2013.0</td>\n",
       "    </tr>\n",
       "    <tr>\n",
       "      <th>4</th>\n",
       "      <td>Monsieur</td>\n",
       "      <td>204958</td>\n",
       "      <td>2010.0</td>\n",
       "      <td>2013.0</td>\n",
       "    </tr>\n",
       "  </tbody>\n",
       "</table>\n",
       "</div>"
      ],
      "text/plain": [
       "     Gender  Sciper  Start_year  Last_year\n",
       "0  Monsieur  202293      2010.0     2014.0\n",
       "1  Monsieur  201284      2010.0     2012.0\n",
       "2  Monsieur  194182      2009.0     2012.0\n",
       "3  Monsieur  185991      2010.0     2013.0\n",
       "4  Monsieur  204958      2010.0     2013.0"
      ]
     },
     "execution_count": 811,
     "metadata": {},
     "output_type": "execute_result"
    }
   ],
   "source": [
    "bachelor_survivors = pd.merge(bch1_final, bch6_final, how='inner', on=['Gender','Sciper'])\n",
    "bachelor_survivors.head()"
   ]
  },
  {
   "cell_type": "code",
   "execution_count": 812,
   "metadata": {
    "collapsed": false
   },
   "outputs": [
    {
     "data": {
      "text/plain": [
       "(297, 4)"
      ]
     },
     "execution_count": 812,
     "metadata": {},
     "output_type": "execute_result"
    }
   ],
   "source": [
    "bachelor_survivors.shape"
   ]
  },
  {
   "cell_type": "code",
   "execution_count": 813,
   "metadata": {
    "collapsed": false
   },
   "outputs": [
    {
     "data": {
      "text/plain": [
       "0    5.0\n",
       "1    3.0\n",
       "2    4.0\n",
       "3    4.0\n",
       "4    4.0\n",
       "dtype: float64"
      ]
     },
     "execution_count": 813,
     "metadata": {},
     "output_type": "execute_result"
    }
   ],
   "source": [
    "bachelor_duration = bachelor_survivors.Last_year - bachelor_survivors.Start_year + 1\n",
    "bachelor_duration.head()"
   ]
  },
  {
   "cell_type": "code",
   "execution_count": 814,
   "metadata": {
    "collapsed": false
   },
   "outputs": [
    {
     "data": {
      "text/html": [
       "<div>\n",
       "<table border=\"1\" class=\"dataframe\">\n",
       "  <thead>\n",
       "    <tr style=\"text-align: right;\">\n",
       "      <th></th>\n",
       "      <th>Gender</th>\n",
       "      <th>Bachelor duration</th>\n",
       "    </tr>\n",
       "  </thead>\n",
       "  <tbody>\n",
       "    <tr>\n",
       "      <th>0</th>\n",
       "      <td>Monsieur</td>\n",
       "      <td>5.0</td>\n",
       "    </tr>\n",
       "    <tr>\n",
       "      <th>1</th>\n",
       "      <td>Monsieur</td>\n",
       "      <td>3.0</td>\n",
       "    </tr>\n",
       "    <tr>\n",
       "      <th>2</th>\n",
       "      <td>Monsieur</td>\n",
       "      <td>4.0</td>\n",
       "    </tr>\n",
       "    <tr>\n",
       "      <th>3</th>\n",
       "      <td>Monsieur</td>\n",
       "      <td>4.0</td>\n",
       "    </tr>\n",
       "    <tr>\n",
       "      <th>4</th>\n",
       "      <td>Monsieur</td>\n",
       "      <td>4.0</td>\n",
       "    </tr>\n",
       "  </tbody>\n",
       "</table>\n",
       "</div>"
      ],
      "text/plain": [
       "     Gender  Bachelor duration\n",
       "0  Monsieur                5.0\n",
       "1  Monsieur                3.0\n",
       "2  Monsieur                4.0\n",
       "3  Monsieur                4.0\n",
       "4  Monsieur                4.0"
      ]
     },
     "execution_count": 814,
     "metadata": {},
     "output_type": "execute_result"
    }
   ],
   "source": [
    "gender_stats = pd.merge(bachelor_survivors[['Gender']], bachelor_duration.to_frame(), left_index=True, right_index=True)\n",
    "gender_stats.columns = [['Gender', 'Bachelor duration']]\n",
    "gender_stats.head()"
   ]
  },
  {
   "cell_type": "code",
   "execution_count": 815,
   "metadata": {
    "collapsed": false
   },
   "outputs": [
    {
     "data": {
      "text/html": [
       "<div>\n",
       "<table border=\"1\" class=\"dataframe\">\n",
       "  <thead>\n",
       "    <tr style=\"text-align: right;\">\n",
       "      <th></th>\n",
       "      <th>Bachelor duration</th>\n",
       "    </tr>\n",
       "    <tr>\n",
       "      <th>Gender</th>\n",
       "      <th></th>\n",
       "    </tr>\n",
       "  </thead>\n",
       "  <tbody>\n",
       "    <tr>\n",
       "      <th>Madame</th>\n",
       "      <td>3.291667</td>\n",
       "    </tr>\n",
       "    <tr>\n",
       "      <th>Monsieur</th>\n",
       "      <td>3.593407</td>\n",
       "    </tr>\n",
       "  </tbody>\n",
       "</table>\n",
       "</div>"
      ],
      "text/plain": [
       "          Bachelor duration\n",
       "Gender                     \n",
       "Madame             3.291667\n",
       "Monsieur           3.593407"
      ]
     },
     "execution_count": 815,
     "metadata": {},
     "output_type": "execute_result"
    }
   ],
   "source": [
    "gender_stats.groupby('Gender').mean()"
   ]
  },
  {
   "cell_type": "code",
   "execution_count": 816,
   "metadata": {
    "collapsed": false
   },
   "outputs": [
    {
     "data": {
      "text/html": [
       "<div>\n",
       "<table border=\"1\" class=\"dataframe\">\n",
       "  <thead>\n",
       "    <tr style=\"text-align: right;\">\n",
       "      <th></th>\n",
       "      <th>Bachelor duration</th>\n",
       "    </tr>\n",
       "  </thead>\n",
       "  <tbody>\n",
       "    <tr>\n",
       "      <th>count</th>\n",
       "      <td>297.000000</td>\n",
       "    </tr>\n",
       "    <tr>\n",
       "      <th>mean</th>\n",
       "      <td>3.569024</td>\n",
       "    </tr>\n",
       "    <tr>\n",
       "      <th>std</th>\n",
       "      <td>0.764135</td>\n",
       "    </tr>\n",
       "    <tr>\n",
       "      <th>min</th>\n",
       "      <td>3.000000</td>\n",
       "    </tr>\n",
       "    <tr>\n",
       "      <th>25%</th>\n",
       "      <td>3.000000</td>\n",
       "    </tr>\n",
       "    <tr>\n",
       "      <th>50%</th>\n",
       "      <td>3.000000</td>\n",
       "    </tr>\n",
       "    <tr>\n",
       "      <th>75%</th>\n",
       "      <td>4.000000</td>\n",
       "    </tr>\n",
       "    <tr>\n",
       "      <th>max</th>\n",
       "      <td>7.000000</td>\n",
       "    </tr>\n",
       "  </tbody>\n",
       "</table>\n",
       "</div>"
      ],
      "text/plain": [
       "       Bachelor duration\n",
       "count         297.000000\n",
       "mean            3.569024\n",
       "std             0.764135\n",
       "min             3.000000\n",
       "25%             3.000000\n",
       "50%             3.000000\n",
       "75%             4.000000\n",
       "max             7.000000"
      ]
     },
     "execution_count": 816,
     "metadata": {},
     "output_type": "execute_result"
    }
   ],
   "source": [
    "gender_stats.describe()"
   ]
  },
  {
   "cell_type": "code",
   "execution_count": 817,
   "metadata": {
    "collapsed": false
   },
   "outputs": [
    {
     "data": {
      "text/html": [
       "<div>\n",
       "<table border=\"1\" class=\"dataframe\">\n",
       "  <thead>\n",
       "    <tr style=\"text-align: right;\">\n",
       "      <th></th>\n",
       "      <th>Gender</th>\n",
       "      <th>Bachelor duration</th>\n",
       "    </tr>\n",
       "  </thead>\n",
       "  <tbody>\n",
       "    <tr>\n",
       "      <th>0</th>\n",
       "      <td>Monsieur</td>\n",
       "      <td>5.0</td>\n",
       "    </tr>\n",
       "    <tr>\n",
       "      <th>1</th>\n",
       "      <td>Monsieur</td>\n",
       "      <td>3.0</td>\n",
       "    </tr>\n",
       "    <tr>\n",
       "      <th>2</th>\n",
       "      <td>Monsieur</td>\n",
       "      <td>4.0</td>\n",
       "    </tr>\n",
       "    <tr>\n",
       "      <th>3</th>\n",
       "      <td>Monsieur</td>\n",
       "      <td>4.0</td>\n",
       "    </tr>\n",
       "    <tr>\n",
       "      <th>4</th>\n",
       "      <td>Monsieur</td>\n",
       "      <td>4.0</td>\n",
       "    </tr>\n",
       "    <tr>\n",
       "      <th>5</th>\n",
       "      <td>Monsieur</td>\n",
       "      <td>3.0</td>\n",
       "    </tr>\n",
       "    <tr>\n",
       "      <th>6</th>\n",
       "      <td>Monsieur</td>\n",
       "      <td>4.0</td>\n",
       "    </tr>\n",
       "    <tr>\n",
       "      <th>7</th>\n",
       "      <td>Monsieur</td>\n",
       "      <td>3.0</td>\n",
       "    </tr>\n",
       "    <tr>\n",
       "      <th>8</th>\n",
       "      <td>Monsieur</td>\n",
       "      <td>4.0</td>\n",
       "    </tr>\n",
       "    <tr>\n",
       "      <th>9</th>\n",
       "      <td>Monsieur</td>\n",
       "      <td>5.0</td>\n",
       "    </tr>\n",
       "    <tr>\n",
       "      <th>10</th>\n",
       "      <td>Madame</td>\n",
       "      <td>3.0</td>\n",
       "    </tr>\n",
       "    <tr>\n",
       "      <th>11</th>\n",
       "      <td>Monsieur</td>\n",
       "      <td>3.0</td>\n",
       "    </tr>\n",
       "    <tr>\n",
       "      <th>12</th>\n",
       "      <td>Monsieur</td>\n",
       "      <td>3.0</td>\n",
       "    </tr>\n",
       "    <tr>\n",
       "      <th>13</th>\n",
       "      <td>Monsieur</td>\n",
       "      <td>3.0</td>\n",
       "    </tr>\n",
       "    <tr>\n",
       "      <th>14</th>\n",
       "      <td>Monsieur</td>\n",
       "      <td>3.0</td>\n",
       "    </tr>\n",
       "    <tr>\n",
       "      <th>15</th>\n",
       "      <td>Monsieur</td>\n",
       "      <td>4.0</td>\n",
       "    </tr>\n",
       "    <tr>\n",
       "      <th>16</th>\n",
       "      <td>Monsieur</td>\n",
       "      <td>4.0</td>\n",
       "    </tr>\n",
       "    <tr>\n",
       "      <th>17</th>\n",
       "      <td>Monsieur</td>\n",
       "      <td>4.0</td>\n",
       "    </tr>\n",
       "    <tr>\n",
       "      <th>18</th>\n",
       "      <td>Monsieur</td>\n",
       "      <td>4.0</td>\n",
       "    </tr>\n",
       "    <tr>\n",
       "      <th>19</th>\n",
       "      <td>Monsieur</td>\n",
       "      <td>5.0</td>\n",
       "    </tr>\n",
       "    <tr>\n",
       "      <th>20</th>\n",
       "      <td>Monsieur</td>\n",
       "      <td>4.0</td>\n",
       "    </tr>\n",
       "    <tr>\n",
       "      <th>21</th>\n",
       "      <td>Monsieur</td>\n",
       "      <td>3.0</td>\n",
       "    </tr>\n",
       "    <tr>\n",
       "      <th>22</th>\n",
       "      <td>Monsieur</td>\n",
       "      <td>5.0</td>\n",
       "    </tr>\n",
       "    <tr>\n",
       "      <th>23</th>\n",
       "      <td>Monsieur</td>\n",
       "      <td>3.0</td>\n",
       "    </tr>\n",
       "    <tr>\n",
       "      <th>24</th>\n",
       "      <td>Monsieur</td>\n",
       "      <td>4.0</td>\n",
       "    </tr>\n",
       "    <tr>\n",
       "      <th>25</th>\n",
       "      <td>Monsieur</td>\n",
       "      <td>3.0</td>\n",
       "    </tr>\n",
       "    <tr>\n",
       "      <th>26</th>\n",
       "      <td>Monsieur</td>\n",
       "      <td>4.0</td>\n",
       "    </tr>\n",
       "    <tr>\n",
       "      <th>27</th>\n",
       "      <td>Monsieur</td>\n",
       "      <td>5.0</td>\n",
       "    </tr>\n",
       "    <tr>\n",
       "      <th>28</th>\n",
       "      <td>Monsieur</td>\n",
       "      <td>6.0</td>\n",
       "    </tr>\n",
       "    <tr>\n",
       "      <th>29</th>\n",
       "      <td>Monsieur</td>\n",
       "      <td>4.0</td>\n",
       "    </tr>\n",
       "    <tr>\n",
       "      <th>...</th>\n",
       "      <td>...</td>\n",
       "      <td>...</td>\n",
       "    </tr>\n",
       "    <tr>\n",
       "      <th>267</th>\n",
       "      <td>Monsieur</td>\n",
       "      <td>3.0</td>\n",
       "    </tr>\n",
       "    <tr>\n",
       "      <th>268</th>\n",
       "      <td>Monsieur</td>\n",
       "      <td>3.0</td>\n",
       "    </tr>\n",
       "    <tr>\n",
       "      <th>269</th>\n",
       "      <td>Monsieur</td>\n",
       "      <td>3.0</td>\n",
       "    </tr>\n",
       "    <tr>\n",
       "      <th>270</th>\n",
       "      <td>Madame</td>\n",
       "      <td>3.0</td>\n",
       "    </tr>\n",
       "    <tr>\n",
       "      <th>271</th>\n",
       "      <td>Monsieur</td>\n",
       "      <td>3.0</td>\n",
       "    </tr>\n",
       "    <tr>\n",
       "      <th>272</th>\n",
       "      <td>Monsieur</td>\n",
       "      <td>3.0</td>\n",
       "    </tr>\n",
       "    <tr>\n",
       "      <th>273</th>\n",
       "      <td>Monsieur</td>\n",
       "      <td>3.0</td>\n",
       "    </tr>\n",
       "    <tr>\n",
       "      <th>274</th>\n",
       "      <td>Monsieur</td>\n",
       "      <td>3.0</td>\n",
       "    </tr>\n",
       "    <tr>\n",
       "      <th>275</th>\n",
       "      <td>Monsieur</td>\n",
       "      <td>3.0</td>\n",
       "    </tr>\n",
       "    <tr>\n",
       "      <th>276</th>\n",
       "      <td>Monsieur</td>\n",
       "      <td>3.0</td>\n",
       "    </tr>\n",
       "    <tr>\n",
       "      <th>277</th>\n",
       "      <td>Monsieur</td>\n",
       "      <td>5.0</td>\n",
       "    </tr>\n",
       "    <tr>\n",
       "      <th>278</th>\n",
       "      <td>Madame</td>\n",
       "      <td>3.0</td>\n",
       "    </tr>\n",
       "    <tr>\n",
       "      <th>279</th>\n",
       "      <td>Monsieur</td>\n",
       "      <td>3.0</td>\n",
       "    </tr>\n",
       "    <tr>\n",
       "      <th>280</th>\n",
       "      <td>Monsieur</td>\n",
       "      <td>3.0</td>\n",
       "    </tr>\n",
       "    <tr>\n",
       "      <th>281</th>\n",
       "      <td>Monsieur</td>\n",
       "      <td>3.0</td>\n",
       "    </tr>\n",
       "    <tr>\n",
       "      <th>282</th>\n",
       "      <td>Madame</td>\n",
       "      <td>4.0</td>\n",
       "    </tr>\n",
       "    <tr>\n",
       "      <th>283</th>\n",
       "      <td>Monsieur</td>\n",
       "      <td>3.0</td>\n",
       "    </tr>\n",
       "    <tr>\n",
       "      <th>284</th>\n",
       "      <td>Monsieur</td>\n",
       "      <td>3.0</td>\n",
       "    </tr>\n",
       "    <tr>\n",
       "      <th>285</th>\n",
       "      <td>Monsieur</td>\n",
       "      <td>3.0</td>\n",
       "    </tr>\n",
       "    <tr>\n",
       "      <th>286</th>\n",
       "      <td>Madame</td>\n",
       "      <td>3.0</td>\n",
       "    </tr>\n",
       "    <tr>\n",
       "      <th>287</th>\n",
       "      <td>Monsieur</td>\n",
       "      <td>3.0</td>\n",
       "    </tr>\n",
       "    <tr>\n",
       "      <th>288</th>\n",
       "      <td>Monsieur</td>\n",
       "      <td>3.0</td>\n",
       "    </tr>\n",
       "    <tr>\n",
       "      <th>289</th>\n",
       "      <td>Monsieur</td>\n",
       "      <td>3.0</td>\n",
       "    </tr>\n",
       "    <tr>\n",
       "      <th>290</th>\n",
       "      <td>Madame</td>\n",
       "      <td>3.0</td>\n",
       "    </tr>\n",
       "    <tr>\n",
       "      <th>291</th>\n",
       "      <td>Monsieur</td>\n",
       "      <td>3.0</td>\n",
       "    </tr>\n",
       "    <tr>\n",
       "      <th>292</th>\n",
       "      <td>Monsieur</td>\n",
       "      <td>4.0</td>\n",
       "    </tr>\n",
       "    <tr>\n",
       "      <th>293</th>\n",
       "      <td>Monsieur</td>\n",
       "      <td>4.0</td>\n",
       "    </tr>\n",
       "    <tr>\n",
       "      <th>294</th>\n",
       "      <td>Madame</td>\n",
       "      <td>3.0</td>\n",
       "    </tr>\n",
       "    <tr>\n",
       "      <th>295</th>\n",
       "      <td>Monsieur</td>\n",
       "      <td>3.0</td>\n",
       "    </tr>\n",
       "    <tr>\n",
       "      <th>296</th>\n",
       "      <td>Monsieur</td>\n",
       "      <td>4.0</td>\n",
       "    </tr>\n",
       "  </tbody>\n",
       "</table>\n",
       "<p>297 rows × 2 columns</p>\n",
       "</div>"
      ],
      "text/plain": [
       "       Gender  Bachelor duration\n",
       "0    Monsieur                5.0\n",
       "1    Monsieur                3.0\n",
       "2    Monsieur                4.0\n",
       "3    Monsieur                4.0\n",
       "4    Monsieur                4.0\n",
       "5    Monsieur                3.0\n",
       "6    Monsieur                4.0\n",
       "7    Monsieur                3.0\n",
       "8    Monsieur                4.0\n",
       "9    Monsieur                5.0\n",
       "10     Madame                3.0\n",
       "11   Monsieur                3.0\n",
       "12   Monsieur                3.0\n",
       "13   Monsieur                3.0\n",
       "14   Monsieur                3.0\n",
       "15   Monsieur                4.0\n",
       "16   Monsieur                4.0\n",
       "17   Monsieur                4.0\n",
       "18   Monsieur                4.0\n",
       "19   Monsieur                5.0\n",
       "20   Monsieur                4.0\n",
       "21   Monsieur                3.0\n",
       "22   Monsieur                5.0\n",
       "23   Monsieur                3.0\n",
       "24   Monsieur                4.0\n",
       "25   Monsieur                3.0\n",
       "26   Monsieur                4.0\n",
       "27   Monsieur                5.0\n",
       "28   Monsieur                6.0\n",
       "29   Monsieur                4.0\n",
       "..        ...                ...\n",
       "267  Monsieur                3.0\n",
       "268  Monsieur                3.0\n",
       "269  Monsieur                3.0\n",
       "270    Madame                3.0\n",
       "271  Monsieur                3.0\n",
       "272  Monsieur                3.0\n",
       "273  Monsieur                3.0\n",
       "274  Monsieur                3.0\n",
       "275  Monsieur                3.0\n",
       "276  Monsieur                3.0\n",
       "277  Monsieur                5.0\n",
       "278    Madame                3.0\n",
       "279  Monsieur                3.0\n",
       "280  Monsieur                3.0\n",
       "281  Monsieur                3.0\n",
       "282    Madame                4.0\n",
       "283  Monsieur                3.0\n",
       "284  Monsieur                3.0\n",
       "285  Monsieur                3.0\n",
       "286    Madame                3.0\n",
       "287  Monsieur                3.0\n",
       "288  Monsieur                3.0\n",
       "289  Monsieur                3.0\n",
       "290    Madame                3.0\n",
       "291  Monsieur                3.0\n",
       "292  Monsieur                4.0\n",
       "293  Monsieur                4.0\n",
       "294    Madame                3.0\n",
       "295  Monsieur                3.0\n",
       "296  Monsieur                4.0\n",
       "\n",
       "[297 rows x 2 columns]"
      ]
     },
     "execution_count": 817,
     "metadata": {},
     "output_type": "execute_result"
    }
   ],
   "source": [
    "gender_stats"
   ]
  },
  {
   "cell_type": "code",
   "execution_count": null,
   "metadata": {
    "collapsed": true
   },
   "outputs": [],
   "source": []
  },
  {
   "cell_type": "code",
   "execution_count": null,
   "metadata": {
    "collapsed": true
   },
   "outputs": [],
   "source": []
  }
 ],
 "metadata": {
  "anaconda-cloud": {},
  "kernelspec": {
   "display_name": "Python [conda root]",
   "language": "python",
   "name": "conda-root-py"
  },
  "language_info": {
   "codemirror_mode": {
    "name": "ipython",
    "version": 3
   },
   "file_extension": ".py",
   "mimetype": "text/x-python",
   "name": "python",
   "nbconvert_exporter": "python",
   "pygments_lexer": "ipython3",
   "version": "3.5.2"
  },
  "nav_menu": {},
  "toc": {
   "navigate_menu": true,
   "number_sections": false,
   "sideBar": false,
   "threshold": "3",
   "toc_cell": true,
   "toc_section_display": "block",
   "toc_window_display": false
  }
 },
 "nbformat": 4,
 "nbformat_minor": 1
}
