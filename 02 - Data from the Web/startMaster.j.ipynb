{
 "cells": [
  {
   "cell_type": "markdown",
   "metadata": {
    "toc": "true"
   },
   "source": [
    "# Table of Contents\n",
    "<p>\n",
    "<div class=\"lev1\"><a href=\"#Data-from-the-Web\"><span class=\"toc-item-num\">1&nbsp;&nbsp;</span>Data from the Web</a></div>\n",
    "<div class=\"lev1\"><a href=\"#Getting-the-data\"><span class=\"toc-item-num\">1.1&nbsp;&nbsp;</span>Getting the data</a></div>\n",
    "<div class=\"lev2\"><a href=\"#Requesting-ISA-form\"><span class=\"toc-item-num\">2.1&nbsp;&nbsp;</span>Requesting ISA form</a></div>\n",
    "<div class=\"lev2\"><a href=\"#Finding-form-IDs\"><span class=\"toc-item-num\">2.1&nbsp;&nbsp;</span>Finding form IDs</a></div>\n",
    "<div class=\"lev2\"><a href=\"#Filtering-and-getting-the-data\"><span class=\"toc-item-num\">2.1&nbsp;&nbsp;</span>Filtering and getting the data</a></div>\n",
    "<div class=\"lev2\"><a href=\"#Extracting-data-from-the-result-page\"><span class=\"toc-item-num\">2.1&nbsp;&nbsp;</span>Extracting data from the result page</a></div>\n",
    "\n"
   ]
  },
  {
   "cell_type": "markdown",
   "metadata": {},
   "source": [
    "# Data from the Web\n",
    "\n",
    "In this homework we will extract interesting information from IS-Academia, the educational portal of EPFL. Specifically, we will focus on the part that allows public access to academic data. The list of registered students by section and semester is not offered as a downloadable dataset, so you will have to find a way to scrape the information we need. On this form you can select the data to download based on different criteria (e.g., year, semester, etc.)\n",
    "\n",
    "You are not allowed to download manually all the tables -- rather you have to understand what parameters the server accepts, and generate accordingly the HTTP requests. For this task, Postman with the Interceptor extension can help you greatly. I recommend you to watch this brief tutorial to understand quickly how to use it. Your code in the iPython Notebook should not contain any hardcoded URL. To fetch the content from the IS-Academia server, you can use the Requests library with a Base URL, but all the other form parameters should be extracted from the HTML with BeautifulSoup. You can choose to download Excel or HTML files -- they both have pros and cons, as you will find out after a quick check. You can also choose to download data at different granularities (e.g., per semester, per year, etc.) but I recommend you not to download all the data in one shot because 1) the requests are likely to timeout and 2) we will overload the IS-Academia server.\n"
   ]
  },
  {
   "cell_type": "code",
<<<<<<< HEAD
   "execution_count": 1,
=======
   "execution_count": 299,
>>>>>>> 42a355946bdebabfad63aa5f0228993ef493ddb0
   "metadata": {
    "collapsed": false
   },
   "outputs": [],
   "source": [
    "%matplotlib inline\n",
    "import pandas as pd\n",
    "import numpy as np\n",
    "import matplotlib.pyplot as plt\n",
    "import seaborn as sns\n",
    "import glob\n",
    "import requests\n",
    "import re\n",
    "from bs4 import BeautifulSoup\n",
    "sns.set_context('notebook')"
   ]
  },
  {
   "cell_type": "markdown",
   "metadata": {},
   "source": [
    "# Getting the data"
   ]
  },
  {
   "cell_type": "markdown",
   "metadata": {
    "collapsed": false
   },
   "source": [
    "## Finding ISA form \n",
    "\n",
    "The first part of the job in order to get the data is to get the parameters required to get the data we want.\n",
    "\n",
    "In this purpose, we first do a get request on the ISA form with the link <http://isa.epfl.ch/imoniteur_ISAP/!GEDPUBLICREPORTS.filter?ww_i_reportModel=133685247>.\n",
    "\n",
    "We also use BeautifulSoup on the resulting html response in order to parse it later."
   ]
  },
  {
   "cell_type": "code",
<<<<<<< HEAD
   "execution_count": 2,
=======
   "execution_count": 300,
>>>>>>> 42a355946bdebabfad63aa5f0228993ef493ddb0
   "metadata": {
    "collapsed": false
   },
   "outputs": [],
   "source": [
    "r = requests.get('http://isa.epfl.ch/imoniteur_ISAP/!GEDPUBLICREPORTS.filter?ww_i_reportModel=133685247')\n",
    "r.headers['content-type']\n",
    "html_doc = r.text\n",
    "isaForm = BeautifulSoup(html_doc, 'html.parser')"
   ]
  },
  {
   "cell_type": "code",
<<<<<<< HEAD
   "execution_count": 3,
=======
   "execution_count": 301,
>>>>>>> 42a355946bdebabfad63aa5f0228993ef493ddb0
   "metadata": {
    "collapsed": false
   },
   "outputs": [
    {
     "data": {
      "text/plain": [
       "<html><head><meta content=\"text/html; charset=utf-8\" http-equiv=\"Content-Type\"><div></div><title></title><script src=\"GEDPUBLICREPORTS.txt?ww_x_path=Gestac.Base.Palette_js&amp;ww_c_langue=fr\" type=\"text/javascript\"></script><link href=\"GEDPUBLICREPORTS.css?ww_x_path=Gestac.Moniteur.Style\" rel=\"stylesheet\" type=\"text/css\"><link href=\"GEDPUBLICREPORTS.css?ww_x_path=Gestac.Moniteur.StyleNavigator\" rel=\"stylesheet\" type=\"text/css\"/></link></meta></head><body alink=\"#666666\" bgcolor=\"#ffffff\" link=\"#666666\" marginheight=\"0\" marginwidth=\"5\" vlink=\"#666666\"><div class=\"filtres\"><form action=\"!GEDPUBLICREPORTS.filter\" method=\"GET\" name=\"f\"><input name=\"ww_b_list\" type=\"hidden\" value=\"1\"><input name=\"ww_i_reportmodel\" type=\"hidden\" value=\"133685247\"><input name=\"ww_c_langue\" type=\"hidden\" value=\"\"><h1 id=\"titre\">Liste des étudiants inscrits par semestre</h1><table border=\"0\" id=\"format\"><tr><th>Format:</th></tr><tr><td><input checked=\"\" name=\"ww_i_reportModelXsl\" type=\"radio\" value=\"133685270\">html</input></td></tr><tr><td><input name=\"ww_i_reportModelXsl\" type=\"radio\" value=\"133685271\">xls</input></td></tr></table><h1></h1><table border=\"0\" id=\"filtre\"><tr><th>Unité académique</th><td><input name=\"zz_x_UNITE_ACAD\" type=\"hidden\" value=\"\"><select name=\"ww_x_UNITE_ACAD\" onchange=\"document.f.zz_x_UNITE_ACAD.value=document.f.ww_x_UNITE_ACAD.options[document.f.ww_x_UNITE_ACAD.selectedIndex].text\"><option value=\"null\"></option><option value=\"942293\">Architecture</option><option value=\"246696\">Chimie et génie chimique</option><option value=\"943282\">Cours de mathématiques spéciales</option><option value=\"637841336\">EME (EPFL Middle East)</option><option value=\"942623\">Génie civil</option><option value=\"944263\">Génie mécanique</option><option value=\"943936\">Génie électrique et électronique </option><option value=\"2054839157\">Humanités digitales</option><option value=\"249847\">Informatique</option><option value=\"120623110\">Ingénierie financière</option><option value=\"946882\">Management de la technologie</option><option value=\"944590\">Mathématiques</option><option value=\"945244\">Microtechnique</option><option value=\"945571\">Physique</option><option value=\"944917\">Science et génie des matériaux</option><option value=\"942953\">Sciences et ingénierie de l'environnement</option><option value=\"945901\">Sciences et technologies du vivant</option><option value=\"1574548993\">Section FCUE</option><option value=\"946228\">Systèmes de communication</option></select></input></td></tr><tr><th>Période académique</th><td><input name=\"zz_x_PERIODE_ACAD\" type=\"hidden\" value=\"\"><select name=\"ww_x_PERIODE_ACAD\" onchange=\"document.f.zz_x_PERIODE_ACAD.value=document.f.ww_x_PERIODE_ACAD.options[document.f.ww_x_PERIODE_ACAD.selectedIndex].text\"><option value=\"null\"></option><option value=\"355925344\">2016-2017</option><option value=\"213638028\">2015-2016</option><option value=\"213637922\">2014-2015</option><option value=\"213637754\">2013-2014</option><option value=\"123456101\">2012-2013</option><option value=\"123455150\">2011-2012</option><option value=\"39486325\">2010-2011</option><option value=\"978195\">2009-2010</option><option value=\"978187\">2008-2009</option><option value=\"978181\">2007-2008</option></select></input></td></tr><tr><th>Période pédagogique</th><td><input name=\"zz_x_PERIODE_PEDAGO\" type=\"hidden\" value=\"\"><select name=\"ww_x_PERIODE_PEDAGO\" onchange=\"document.f.zz_x_PERIODE_PEDAGO.value=document.f.ww_x_PERIODE_PEDAGO.options[document.f.ww_x_PERIODE_PEDAGO.selectedIndex].text\"><option value=\"null\"></option><option value=\"249108\">Bachelor semestre 1</option><option value=\"249114\">Bachelor semestre 2</option><option value=\"942155\">Bachelor semestre 3</option><option value=\"942163\">Bachelor semestre 4</option><option value=\"942120\">Bachelor semestre 5</option><option value=\"2226768\">Bachelor semestre 5b</option><option value=\"942175\">Bachelor semestre 6</option><option value=\"2226785\">Bachelor semestre 6b</option><option value=\"2230106\">Master semestre 1</option><option value=\"942192\">Master semestre 2</option><option value=\"2230128\">Master semestre 3</option><option value=\"2230140\">Master semestre 4</option><option value=\"2335667\">Mineur semestre 1</option><option value=\"2335676\">Mineur semestre 2</option><option value=\"2063602308\">Mise à niveau</option><option value=\"249127\">Projet Master automne</option><option value=\"3781783\">Projet Master printemps</option><option value=\"953159\">Semestre automne</option><option value=\"2754553\">Semestre printemps</option><option value=\"953137\">Stage automne 3ème année</option><option value=\"2226616\">Stage automne 4ème année</option><option value=\"983606\">Stage printemps 3ème année</option><option value=\"2226626\">Stage printemps 4ème année</option><option value=\"2227132\">Stage printemps master</option></select></input></td></tr><tr><th>Type de semestre</th><td><input name=\"zz_x_HIVERETE\" type=\"hidden\" value=\"\"><select name=\"ww_x_HIVERETE\" onchange=\"document.f.zz_x_HIVERETE.value=document.f.ww_x_HIVERETE.options[document.f.ww_x_HIVERETE.selectedIndex].text\"><option value=\"null\"></option><option value=\"2936286\">Semestre d'automne</option><option value=\"2936295\">Semestre de printemps</option></select></input></td></tr></table><input name=\"dummy\" type=\"submit\" value=\"ok\"/></input></input></input></form><script type=\"text/javascript\">\n",
       "   function loadReport(x) {\n",
       "    var querysup='';\n",
       "    writeRunning(top.principal);\n",
       "    for (i=0; document.f.elements.length > i; i++){\n",
       "     if (document.f.elements[i].checked){\n",
       "      querysup=querysup+'&'+document.f.elements[i].name+'='+document.f.elements[i].value;\n",
       "     }\n",
       "     if (document.f.elements[i].type=='select-one') {\n",
       "      querysup=querysup+'&'+document.f.elements[i].name+'='+document.f.elements[i].options[document.f.elements[i].selectedIndex].value;\n",
       "     }\n",
       "     if (document.f.elements[i].type=='text'){\n",
       "      querysup=querysup+'&'+document.f.elements[i].name+'='+document.f.elements[i].value;\n",
       "     }\n",
       "    }\n",
       "    parent.principal.location = \"!GEDPUBLICREPORTS.bhtml?\"+x+\"&ww_i_reportModel=133685247\"+querysup;\n",
       "    if (navigator.userAgent.toUpperCase().indexOf('SAFARI') != -1) {\n",
       "     document.location.reload();\n",
       "    }\n",
       "   }\n",
       "  </script><h1></h1><table border=\"0\"></table></div></body></html>\n",
<<<<<<< HEAD
       "<!-- OpenXml:0.01s  agent ctrl:0.00s  xml:0.23s  xsl clob before parse:0.00s  xsl extr&stylesheet:0.00s  xsl clob before parse:0.00s  xsl after parsing:0.00s  xsl ctrl data:0.00s  transform 2:0.02s  xsl process:0.00s  -->"
      ]
     },
     "execution_count": 3,
=======
       "<!-- OpenXml:0.01s  agent ctrl:0.00s  xml:0.49s  xsl clob before parse:0.00s  xsl extr&stylesheet:0.00s  xsl clob before parse:0.00s  xsl after parsing:0.00s  xsl ctrl data:0.01s  transform 2:0.04s  xsl process:0.00s  -->"
      ]
     },
     "execution_count": 301,
>>>>>>> 42a355946bdebabfad63aa5f0228993ef493ddb0
     "metadata": {},
     "output_type": "execute_result"
    }
   ],
   "source": [
    "isaForm"
   ]
  },
  {
   "cell_type": "markdown",
   "metadata": {},
   "source": [
    "## Finding form IDs\n",
    "\n",
    "Now that we've got the form's html code, we need to know which values of the form are used to filter and displayed the desired data. The values we're interested in are 'unité académique', 'période académique' and 'période pédagogique' (corresponding respectively to section, academic year and semester).\n",
    "\n",
    "By inspecting the html code, we saw that the form items are 'option', it is then easy to get their value by using BeautifupSoup find and find_all method.\n",
    "\n",
    "The following code will simply find the option value corresponding to section 'Informatique', and output it's value (the id used to filter the result).\n",
    "```python\n",
    "    isaForm.find('option', text = re.compile('Informatique'))['value']\n",
    "```\n",
    "\n",
    "We do the same thing for Bachelor 1st and 6th semester.\n",
    "```python\n",
    "    semester_ids['Bachelor semestre 1'] = isaForm.find('option', \n",
    "                                                        text = re.compile('Bachelor semestre 1'))['value']\n",
    "    semester_ids['Bachelor semestre 6'] = isaForm.find('option', \n",
    "                                                        text = re.compile('Bachelor semestre 6'))['value']\n",
    "```\n",
    "\n",
    "And we get the academic years ids from 2007-2008 to 2016-2017 using a for loop (see in the cell below)"
   ]
  },
  {
   "cell_type": "code",
<<<<<<< HEAD
   "execution_count": 4,
=======
   "execution_count": 302,
>>>>>>> 42a355946bdebabfad63aa5f0228993ef493ddb0
   "metadata": {
    "collapsed": false
   },
   "outputs": [
    {
     "name": "stdout",
     "output_type": "stream",
     "text": [
      "Id of informatique :  249847 \n",
      "\n",
      "Id of Master semester 1 : 2230106\n",
      "Id of Master semester 2 : 942192\n",
      "Id of Master semester 3 : 2230128\n",
      "Id of Master semester 4 : 2230140\n",
      "Id of Mineur semester 1 : 2335667\n",
      "Id of Mineur semester 2 : 2335676\n",
      "Id of Projet Master fall : 249127\n",
      "Id of Projet Master spring : 3781783\n",
      "\n",
      "\n",
      "years ids : (from 2007-2008 to 2016-2017) {'2009-2010': ['978195'], '2016-2017': ['355925344'], '2011-2012': ['123455150'], '2015-2016': ['213638028'], '2007-2008': ['978181'], '2012-2013': ['123456101'], '2014-2015': ['213637922'], '2008-2009': ['978187'], '2010-2011': ['39486325'], '2013-2014': ['213637754']}\n"
     ]
    }
   ],
   "source": [
    "informatique_id = isaForm.find('option', text = re.compile('Informatique'))['value']\n",
    "\n",
    "print(\"Id of informatique : \", informatique_id, \"\\n\")\n",
    "\n",
    "master_semester_ids = {}\n",
    "\n",
    "#print(isaForm)\n",
    "\n",
    "#i=1\n",
    "#a = isaForm.find('option', text = re.compile('Master semestre ' + str(i)))\n",
    "#a = isaForm.find('option','Bachelor semestre 1')\n",
    "#print(a)\n",
    "\n",
    "for i in range(1, 5):\n",
    "    master_semester_ids['Master semestre ' + str(i)] = isaForm.find('option', text = re.compile('Master semestre ' + str(i)))['value']\n",
    "    print('Id of Master semester '+ str(i)+' : '+ master_semester_ids['Master semestre '+str(i)])\n",
    "    \n",
    "for i in range(1, 3):\n",
    "    master_semester_ids['Mineur semestre ' + str(i)] = isaForm.find('option', text = re.compile('Mineur semestre ' + str(i)))['value']\n",
    "    print('Id of Mineur semester '+ str(i)+' : '+ master_semester_ids['Mineur semestre '+str(i)])  \n",
    "    \n",
    "master_semester_ids['Projet Master fall'] = isaForm.find('option', text = re.compile('Projet Master automne'))['value']\n",
    "print('Id of Projet Master fall'+' : '+ master_semester_ids['Projet Master fall']) \n",
    "\n",
    "master_semester_ids['Projet Master spring'] = isaForm.find('option', text = re.compile('Projet Master printemps'))['value']\n",
    "print('Id of Projet Master spring'+' : '+ master_semester_ids['Projet Master spring']) \n",
    "\n",
    "print('\\n')\n",
    "\n",
    "year_ids = {}\n",
    "for y in range(2007, 2017):\n",
    "    school_year = str(y) + \"-\" + str(y+1)\n",
    "    year_ids[str(y) + \"-\" + str(y+1)] = [isaForm.find('option', text = re.compile(school_year))['value']]\n",
    "    \n",
    "print(\"years ids : (from 2007-2008 to 2016-2017)\", year_ids)\n"
   ]
  },
  {
   "cell_type": "markdown",
   "metadata": {},
   "source": [
    "\n",
    "\n",
    "## Filtering and getting the data\n",
    "\n",
    "Now that we know the interesting IDs used in the form, we need to filter and request our data. For this purpose, we used Postman and Postman interceptor to intercept and inspect the request method used to get the data from the formula. \n",
    "  \n",
    "</br>\n",
    "\n",
    "\n",
    "\n",
    "\n",
    "The picture below shows all parameters used in the URL to filter and return results for:\n",
    "* Section \"Informatique\"\n",
    "* Academic period \"2016-2017\"\n",
    "* Pedagogic period \"Bachelor semestre 1\"\n",
    "\n",
    "<p>\n",
    "    <img src=\"img/postman.png\" alt=\"postman\" align=\"center\"/>\n",
    "</p>\n",
    "\n",
    "After playing a bit with the URL, we conclude that not all parameters were mandatory, the required parameters and their values are:\n",
    "\n",
    "|parameter  | value |\n",
    "|-----------|-------|\n",
    "|ww_b_list  |must be '1'|  \n",
    "|ww_i_reportmodel|must be '133685247'|\n",
    "|ww_i_reportModelXsl|must be '133685270'|\n",
    "|ww_x_UNITE_ACAD|correspond to the id of the section, taken from the form|\n",
    "|ww_x_PERIODE_ACAD|correspond to the id of the academic year, taken from the form|\n",
    "|ww_x_PERIODE_PEDAGO|correspond to the id of the semester, taken from the form|\n",
    "\n",
    "Therefore we create a parameters dictionnary and put all the need parameters in order to get the correct URL.\n",
    "\n",
    "\n",
    "The filter returns us a new html page containing two possibilities link to display the data. \n",
    "Since we used very precise filter in the form (specifying years, semester and section), there is only one set of data to display, meaning that both link (\"Tous\" and \"Informatique, 'years', 'semester'\") leads to the same dataset.\n",
    "\n",
    "We choose to get the link from the \"Informatique, 'years', 'semester', therefore, by inspecting the html code, we saw that the parameters used in the link was \"ww_x_GPS\", we simply get it from the html page for the desired data.\n",
    "\n",
    "We can then simply request the dataset, using the base URL we found thanks to Postman, the parameters used for the filter and the ww_x_GPS id\n"
   ]
  },
  {
   "cell_type": "code",
<<<<<<< HEAD
   "execution_count": 5,
=======
   "execution_count": 303,
>>>>>>> 42a355946bdebabfad63aa5f0228993ef493ddb0
   "metadata": {
    "collapsed": false
   },
   "outputs": [],
   "source": [
    "def getFilteredPage(academic_year, semester):\n",
    "    params = {'ww_b_list':'1',\n",
    "            'ww_i_reportmodel':'133685247',\n",
    "            'ww_i_reportModelXsl':'133685270',\n",
    "            'ww_x_UNITE_ACAD':informatique_id,\n",
    "            'ww_x_PERIODE_ACAD':year_ids[academic_year],\n",
    "            'ww_x_PERIODE_PEDAGO':master_semester_ids[semester]}\n",
    "    r = requests.get('http://isa.epfl.ch/imoniteur_ISAP/!GEDPUBLICREPORTS.filter?', params)\n",
    "    html_doc = r.text\n",
    "    return BeautifulSoup(html_doc, 'html.parser'), params\n"
   ]
  },
  {
   "cell_type": "code",
<<<<<<< HEAD
   "execution_count": 6,
=======
   "execution_count": 304,
>>>>>>> 42a355946bdebabfad63aa5f0228993ef493ddb0
   "metadata": {
    "collapsed": false
   },
   "outputs": [],
   "source": [
    "def getResultPage(academic_year, semester):\n",
    "    filteredPage, params = getFilteredPage(academic_year, semester)\n",
    "    params['ww_x_GPS'] = filteredPage.find_all('a')[1].get('onclick').split(\"ww_x_GPS=\")[1].split(\"')\")[0]\n",
    "    r = requests.get('http://isa.epfl.ch/imoniteur_ISAP/!GEDPUBLICREPORTS.bhtml?', params)\n",
    "    return BeautifulSoup(r.text, 'html.parser')"
   ]
  },
  {
   "cell_type": "code",
<<<<<<< HEAD
   "execution_count": 7,
=======
   "execution_count": 305,
>>>>>>> 42a355946bdebabfad63aa5f0228993ef493ddb0
   "metadata": {
    "collapsed": true
   },
   "outputs": [],
   "source": [
    "def getResultAllYears(semester):\n",
    "    global_table = []\n",
    "    for year_id in year_ids:\n",
    "        soup = getResultPage(year_id, semester)\n",
    "\n",
    "        students_tr = soup.body.hr.table.find_all('tr')[2:]\n",
    "        students = []\n",
    "        for i in range (0,len(students_tr)):\n",
    "            student = students_tr[i].find_all('td')\n",
    "            students.append([student[0].text,student[1].text.replace(u'\\xa0', u' '),student[7].text,student[10].text])\n",
    "\n",
    "        pd_student = pd.DataFrame(students, columns=['Gender', 'Name', 'Status_' + year_id, 'Sciper'])\n",
    "\n",
    "        global_table.append(pd_student)\n",
    "    return global_table"
   ]
  },
  {
   "cell_type": "code",
<<<<<<< HEAD
   "execution_count": 8,
=======
   "execution_count": 361,
>>>>>>> 42a355946bdebabfad63aa5f0228993ef493ddb0
   "metadata": {
    "collapsed": false
   },
   "outputs": [],
   "source": [
    "def getResultAllYearsSpec(semester):\n",
    "    global_table = []\n",
    "    for year_id in year_ids:\n",
    "        soup = getResultPage(year_id, semester)\n",
    "\n",
    "        students_tr = soup.body.hr.table.find_all('tr')[2:]\n",
    "        students = []\n",
    "        for i in range (0,len(students_tr)):\n",
    "            student = students_tr[i].find_all('td')\n",
    "            students.append([student[0].text,student[1].text.replace(u'\\xa0', u' '),student[7].text,student[10].text,student[4].text])\n",
    "\n",
    "            pd_student = pd.DataFrame(students, columns=['Gender', 'Name', 'Status_' + year_id, 'Sciper','Spécialisation'])\n",
    "\n",
    "        global_table.append(pd_student)\n",
    "    return global_table"
   ]
  },
  {
   "cell_type": "code",
<<<<<<< HEAD
   "execution_count": 9,
=======
   "execution_count": 368,
   "metadata": {
    "collapsed": true
   },
   "outputs": [],
   "source": [
    "def getResultSpec(semester,year_id):\n",
    "    global_table = []\n",
    "\n",
    "    soup = getResultPage(year_id, semester)\n",
    "\n",
    "    students_tr = soup.body.hr.table.find_all('tr')[2:]\n",
    "    students = []\n",
    "    for i in range (0,len(students_tr)):\n",
    "        student = students_tr[i].find_all('td')\n",
    "        students.append([student[10].text,student[4].text])\n",
    "        \n",
    "\n",
    "    pd_student = pd.DataFrame(students, columns=['Sciper','Spécialisation'])\n",
    "    \n",
    "    global_table.append(pd_student)\n",
    "    return global_table"
   ]
  },
  {
   "cell_type": "code",
   "execution_count": 307,
>>>>>>> 42a355946bdebabfad63aa5f0228993ef493ddb0
   "metadata": {
    "collapsed": true
   },
   "outputs": [],
   "source": [
    "def joinTables(global_table):\n",
    "    joined_table = global_table[0]\n",
    "    for single_table in global_table[1:len(global_table)]:\n",
    "        joined_table = pd.merge(joined_table, single_table, how='outer', on=['Gender','Name','Sciper'])\n",
    "    return joined_table"
   ]
  },
  {
   "cell_type": "code",
<<<<<<< HEAD
   "execution_count": 10,
=======
   "execution_count": 308,
>>>>>>> 42a355946bdebabfad63aa5f0228993ef493ddb0
   "metadata": {
    "collapsed": true
   },
   "outputs": [],
   "source": [
    "def formatTable(joined_table_bch):\n",
    "    bch_no_string = joined_table_bch.drop(joined_table_bch.columns[[0,1,3]], axis=1)\n",
    "    bch = bch_no_string.sort_index(axis=1)\n",
    "    \n",
    "    year = 2007\n",
    "    for bch_col in bch:\n",
    "        bch[bch_col] = bch[bch_col].replace('Présent', year)\n",
    "        year = year + 1\n",
    "    return bch\n",
    " \n",
    "    "
   ]
  },
  {
   "cell_type": "markdown",
   "metadata": {},
   "source": [
    "### Get Value Master semester 1"
   ]
  },
  {
   "cell_type": "code",
<<<<<<< HEAD
   "execution_count": 11,
=======
   "execution_count": 309,
>>>>>>> 42a355946bdebabfad63aa5f0228993ef493ddb0
   "metadata": {
    "collapsed": false
   },
   "outputs": [],
   "source": [
    "global_table_master1 = getResultAllYears('Master semestre 1')"
   ]
  },
  {
   "cell_type": "code",
<<<<<<< HEAD
   "execution_count": 12,
=======
   "execution_count": 310,
>>>>>>> 42a355946bdebabfad63aa5f0228993ef493ddb0
   "metadata": {
    "collapsed": false
   },
   "outputs": [],
   "source": [
    "#global_table_master1"
   ]
  },
  {
   "cell_type": "code",
<<<<<<< HEAD
   "execution_count": 13,
=======
   "execution_count": 311,
>>>>>>> 42a355946bdebabfad63aa5f0228993ef493ddb0
   "metadata": {
    "collapsed": false
   },
   "outputs": [
    {
     "data": {
      "text/html": [
       "<div>\n",
       "<table border=\"1\" class=\"dataframe\">\n",
       "  <thead>\n",
       "    <tr style=\"text-align: right;\">\n",
       "      <th></th>\n",
       "      <th>Gender</th>\n",
       "      <th>Name</th>\n",
       "      <th>Status_2009-2010</th>\n",
       "      <th>Sciper</th>\n",
       "      <th>Status_2016-2017</th>\n",
       "      <th>Status_2011-2012</th>\n",
       "      <th>Status_2015-2016</th>\n",
       "      <th>Status_2007-2008</th>\n",
       "      <th>Status_2012-2013</th>\n",
       "      <th>Status_2014-2015</th>\n",
       "      <th>Status_2008-2009</th>\n",
       "      <th>Status_2010-2011</th>\n",
       "      <th>Status_2013-2014</th>\n",
       "    </tr>\n",
       "  </thead>\n",
       "  <tbody>\n",
       "    <tr>\n",
       "      <th>0</th>\n",
       "      <td>Monsieur</td>\n",
       "      <td>Barras Florian</td>\n",
       "      <td>Présent</td>\n",
       "      <td>170220</td>\n",
       "      <td>NaN</td>\n",
       "      <td>NaN</td>\n",
       "      <td>NaN</td>\n",
       "      <td>NaN</td>\n",
       "      <td>NaN</td>\n",
       "      <td>NaN</td>\n",
       "      <td>NaN</td>\n",
       "      <td>NaN</td>\n",
       "      <td>NaN</td>\n",
       "    </tr>\n",
       "    <tr>\n",
       "      <th>1</th>\n",
       "      <td>Monsieur</td>\n",
       "      <td>Beuret Thibaut</td>\n",
       "      <td>Présent</td>\n",
       "      <td>166701</td>\n",
       "      <td>NaN</td>\n",
       "      <td>NaN</td>\n",
       "      <td>NaN</td>\n",
       "      <td>NaN</td>\n",
       "      <td>NaN</td>\n",
       "      <td>NaN</td>\n",
       "      <td>NaN</td>\n",
       "      <td>Présent</td>\n",
       "      <td>NaN</td>\n",
       "    </tr>\n",
       "    <tr>\n",
       "      <th>2</th>\n",
       "      <td>Monsieur</td>\n",
       "      <td>Bindschaedler Laurent</td>\n",
       "      <td>Présent</td>\n",
       "      <td>170654</td>\n",
       "      <td>NaN</td>\n",
       "      <td>NaN</td>\n",
       "      <td>NaN</td>\n",
       "      <td>NaN</td>\n",
       "      <td>NaN</td>\n",
       "      <td>NaN</td>\n",
       "      <td>NaN</td>\n",
       "      <td>NaN</td>\n",
       "      <td>NaN</td>\n",
       "    </tr>\n",
       "    <tr>\n",
       "      <th>3</th>\n",
       "      <td>Monsieur</td>\n",
       "      <td>Biollay Jean Isaac Jamal Pachacutec</td>\n",
       "      <td>Présent</td>\n",
       "      <td>161279</td>\n",
       "      <td>NaN</td>\n",
       "      <td>NaN</td>\n",
       "      <td>NaN</td>\n",
       "      <td>NaN</td>\n",
       "      <td>NaN</td>\n",
       "      <td>NaN</td>\n",
       "      <td>NaN</td>\n",
       "      <td>NaN</td>\n",
       "      <td>NaN</td>\n",
       "    </tr>\n",
       "    <tr>\n",
       "      <th>4</th>\n",
       "      <td>Monsieur</td>\n",
       "      <td>Blanc Régis William</td>\n",
       "      <td>Congé</td>\n",
       "      <td>175339</td>\n",
       "      <td>NaN</td>\n",
       "      <td>NaN</td>\n",
       "      <td>NaN</td>\n",
       "      <td>NaN</td>\n",
       "      <td>NaN</td>\n",
       "      <td>NaN</td>\n",
       "      <td>NaN</td>\n",
       "      <td>Stage</td>\n",
       "      <td>NaN</td>\n",
       "    </tr>\n",
       "  </tbody>\n",
       "</table>\n",
       "</div>"
      ],
      "text/plain": [
       "     Gender                                 Name Status_2009-2010  Sciper  \\\n",
       "0  Monsieur                       Barras Florian          Présent  170220   \n",
       "1  Monsieur                       Beuret Thibaut          Présent  166701   \n",
       "2  Monsieur                Bindschaedler Laurent          Présent  170654   \n",
       "3  Monsieur  Biollay Jean Isaac Jamal Pachacutec          Présent  161279   \n",
       "4  Monsieur                  Blanc Régis William            Congé  175339   \n",
       "\n",
       "  Status_2016-2017 Status_2011-2012 Status_2015-2016 Status_2007-2008  \\\n",
       "0              NaN              NaN              NaN              NaN   \n",
       "1              NaN              NaN              NaN              NaN   \n",
       "2              NaN              NaN              NaN              NaN   \n",
       "3              NaN              NaN              NaN              NaN   \n",
       "4              NaN              NaN              NaN              NaN   \n",
       "\n",
       "  Status_2012-2013 Status_2014-2015 Status_2008-2009 Status_2010-2011  \\\n",
       "0              NaN              NaN              NaN              NaN   \n",
       "1              NaN              NaN              NaN          Présent   \n",
       "2              NaN              NaN              NaN              NaN   \n",
       "3              NaN              NaN              NaN              NaN   \n",
       "4              NaN              NaN              NaN            Stage   \n",
       "\n",
       "  Status_2013-2014  \n",
       "0              NaN  \n",
       "1              NaN  \n",
       "2              NaN  \n",
       "3              NaN  \n",
       "4              NaN  "
      ]
     },
<<<<<<< HEAD
     "execution_count": 13,
=======
     "execution_count": 311,
>>>>>>> 42a355946bdebabfad63aa5f0228993ef493ddb0
     "metadata": {},
     "output_type": "execute_result"
    }
   ],
   "source": [
    "joined_table_master1 = joinTables(global_table_master1)\n",
    "joined_table_master1.head()"
   ]
  },
  {
   "cell_type": "code",
<<<<<<< HEAD
   "execution_count": 14,
=======
   "execution_count": 312,
>>>>>>> 42a355946bdebabfad63aa5f0228993ef493ddb0
   "metadata": {
    "collapsed": false
   },
   "outputs": [
    {
     "data": {
      "text/plain": [
       "(901, 13)"
      ]
     },
<<<<<<< HEAD
     "execution_count": 14,
=======
     "execution_count": 312,
>>>>>>> 42a355946bdebabfad63aa5f0228993ef493ddb0
     "metadata": {},
     "output_type": "execute_result"
    }
   ],
   "source": [
    "joined_table_master1.shape"
   ]
  },
  {
   "cell_type": "code",
<<<<<<< HEAD
   "execution_count": 15,
=======
   "execution_count": 313,
>>>>>>> 42a355946bdebabfad63aa5f0228993ef493ddb0
   "metadata": {
    "collapsed": false
   },
   "outputs": [],
   "source": [
    "#with pd.option_context('display.max_rows', 999, 'display.max_columns', 999):\n",
    "#    print(joined_table_master1)"
   ]
  },
  {
   "cell_type": "code",
<<<<<<< HEAD
   "execution_count": 16,
=======
   "execution_count": 314,
>>>>>>> 42a355946bdebabfad63aa5f0228993ef493ddb0
   "metadata": {
    "collapsed": false
   },
   "outputs": [
    {
     "name": "stdout",
     "output_type": "stream",
     "text": [
      "shape before replace :\n",
      "(901, 13)\n",
      "fall shape after replace :\n",
      "(901, 13)\n"
     ]
    }
   ],
   "source": [
    "#table_no_conge_master1 = joined_table_master1\n",
    "#print(table_no_conge_master1)\n",
    "table_no_conge_master1 = joined_table_master1.replace('Congé', 'Présent').replace('Attente', np.nan).replace('Stage','Présent').dropna(thresh=4)\n",
    "\n",
    "\n",
    "print('shape before replace :')\n",
    "print(joined_table_master1.shape)\n",
    "\n",
    "print('fall shape after replace :')\n",
    "print(table_no_conge_master1.shape)\n",
    "\n",
    "assert(joined_table_master1.shape==table_no_conge_master1.shape)\n"
   ]
  },
  {
   "cell_type": "code",
<<<<<<< HEAD
   "execution_count": 17,
=======
   "execution_count": 315,
>>>>>>> 42a355946bdebabfad63aa5f0228993ef493ddb0
   "metadata": {
    "collapsed": false
   },
   "outputs": [
    {
     "data": {
      "text/plain": [
       "0    2009.0\n",
       "1    2009.0\n",
       "2    2009.0\n",
       "3    2009.0\n",
       "4    2009.0\n",
       "dtype: float64"
      ]
     },
<<<<<<< HEAD
     "execution_count": 17,
=======
     "execution_count": 315,
>>>>>>> 42a355946bdebabfad63aa5f0228993ef493ddb0
     "metadata": {},
     "output_type": "execute_result"
    }
   ],
   "source": [
    "formated_table_master1 = formatTable(table_no_conge_master1)\n",
    "master1_min = formated_table_master1.min(axis=1)\n",
    "#print(formated_table_master1)\n",
    "\n",
    "master1_min.head()\n",
    "#print(master1_min)"
   ]
  },
  {
   "cell_type": "code",
<<<<<<< HEAD
   "execution_count": 18,
=======
   "execution_count": 316,
>>>>>>> 42a355946bdebabfad63aa5f0228993ef493ddb0
   "metadata": {
    "collapsed": false
   },
   "outputs": [
    {
     "data": {
      "text/html": [
       "<div>\n",
       "<table border=\"1\" class=\"dataframe\">\n",
       "  <thead>\n",
       "    <tr style=\"text-align: right;\">\n",
       "      <th></th>\n",
       "      <th>Gender</th>\n",
       "      <th>Sciper</th>\n",
       "      <th>Start_year</th>\n",
       "    </tr>\n",
       "  </thead>\n",
       "  <tbody>\n",
       "    <tr>\n",
       "      <th>0</th>\n",
       "      <td>Monsieur</td>\n",
       "      <td>170220</td>\n",
       "      <td>2009.0</td>\n",
       "    </tr>\n",
       "    <tr>\n",
       "      <th>1</th>\n",
       "      <td>Monsieur</td>\n",
       "      <td>166701</td>\n",
       "      <td>2009.0</td>\n",
       "    </tr>\n",
       "    <tr>\n",
       "      <th>2</th>\n",
       "      <td>Monsieur</td>\n",
       "      <td>170654</td>\n",
       "      <td>2009.0</td>\n",
       "    </tr>\n",
       "    <tr>\n",
       "      <th>3</th>\n",
       "      <td>Monsieur</td>\n",
       "      <td>161279</td>\n",
       "      <td>2009.0</td>\n",
       "    </tr>\n",
       "    <tr>\n",
       "      <th>4</th>\n",
       "      <td>Monsieur</td>\n",
       "      <td>175339</td>\n",
       "      <td>2009.0</td>\n",
       "    </tr>\n",
       "    <tr>\n",
       "      <th>5</th>\n",
       "      <td>Monsieur</td>\n",
       "      <td>166344</td>\n",
       "      <td>2009.0</td>\n",
       "    </tr>\n",
       "    <tr>\n",
       "      <th>6</th>\n",
       "      <td>Monsieur</td>\n",
       "      <td>170451</td>\n",
       "      <td>2008.0</td>\n",
       "    </tr>\n",
       "    <tr>\n",
       "      <th>7</th>\n",
       "      <td>Monsieur</td>\n",
       "      <td>191471</td>\n",
       "      <td>2009.0</td>\n",
       "    </tr>\n",
       "    <tr>\n",
       "      <th>8</th>\n",
       "      <td>Monsieur</td>\n",
       "      <td>178283</td>\n",
       "      <td>2009.0</td>\n",
       "    </tr>\n",
       "    <tr>\n",
       "      <th>9</th>\n",
       "      <td>Monsieur</td>\n",
       "      <td>170225</td>\n",
       "      <td>2009.0</td>\n",
       "    </tr>\n",
       "    <tr>\n",
       "      <th>10</th>\n",
       "      <td>Monsieur</td>\n",
       "      <td>161814</td>\n",
       "      <td>2009.0</td>\n",
       "    </tr>\n",
       "    <tr>\n",
       "      <th>11</th>\n",
       "      <td>Monsieur</td>\n",
       "      <td>170218</td>\n",
       "      <td>2009.0</td>\n",
       "    </tr>\n",
       "    <tr>\n",
       "      <th>12</th>\n",
       "      <td>Monsieur</td>\n",
       "      <td>170403</td>\n",
       "      <td>2009.0</td>\n",
       "    </tr>\n",
       "    <tr>\n",
       "      <th>13</th>\n",
       "      <td>Monsieur</td>\n",
       "      <td>192861</td>\n",
       "      <td>2009.0</td>\n",
       "    </tr>\n",
       "    <tr>\n",
       "      <th>14</th>\n",
       "      <td>Monsieur</td>\n",
       "      <td>175503</td>\n",
       "      <td>2009.0</td>\n",
       "    </tr>\n",
       "    <tr>\n",
       "      <th>15</th>\n",
       "      <td>Monsieur</td>\n",
       "      <td>174508</td>\n",
       "      <td>2009.0</td>\n",
       "    </tr>\n",
       "    <tr>\n",
       "      <th>16</th>\n",
       "      <td>Madame</td>\n",
       "      <td>191589</td>\n",
       "      <td>2009.0</td>\n",
       "    </tr>\n",
       "    <tr>\n",
       "      <th>17</th>\n",
       "      <td>Monsieur</td>\n",
       "      <td>176564</td>\n",
       "      <td>2009.0</td>\n",
       "    </tr>\n",
       "    <tr>\n",
       "      <th>18</th>\n",
       "      <td>Monsieur</td>\n",
       "      <td>166491</td>\n",
       "      <td>2007.0</td>\n",
       "    </tr>\n",
       "    <tr>\n",
       "      <th>19</th>\n",
       "      <td>Monsieur</td>\n",
       "      <td>171073</td>\n",
       "      <td>2009.0</td>\n",
       "    </tr>\n",
       "    <tr>\n",
       "      <th>20</th>\n",
       "      <td>Monsieur</td>\n",
       "      <td>185541</td>\n",
       "      <td>2009.0</td>\n",
       "    </tr>\n",
       "    <tr>\n",
       "      <th>21</th>\n",
       "      <td>Monsieur</td>\n",
       "      <td>170833</td>\n",
       "      <td>2009.0</td>\n",
       "    </tr>\n",
       "    <tr>\n",
       "      <th>22</th>\n",
       "      <td>Monsieur</td>\n",
       "      <td>174045</td>\n",
       "      <td>2009.0</td>\n",
       "    </tr>\n",
       "    <tr>\n",
       "      <th>23</th>\n",
       "      <td>Monsieur</td>\n",
       "      <td>175713</td>\n",
       "      <td>2009.0</td>\n",
       "    </tr>\n",
       "    <tr>\n",
       "      <th>24</th>\n",
       "      <td>Monsieur</td>\n",
       "      <td>171084</td>\n",
       "      <td>2009.0</td>\n",
       "    </tr>\n",
       "    <tr>\n",
       "      <th>25</th>\n",
       "      <td>Monsieur</td>\n",
       "      <td>175880</td>\n",
       "      <td>2009.0</td>\n",
       "    </tr>\n",
       "    <tr>\n",
       "      <th>26</th>\n",
       "      <td>Madame</td>\n",
       "      <td>193545</td>\n",
       "      <td>2009.0</td>\n",
       "    </tr>\n",
       "    <tr>\n",
       "      <th>27</th>\n",
       "      <td>Monsieur</td>\n",
       "      <td>185161</td>\n",
       "      <td>2009.0</td>\n",
       "    </tr>\n",
       "    <tr>\n",
       "      <th>28</th>\n",
       "      <td>Monsieur</td>\n",
       "      <td>166260</td>\n",
       "      <td>2008.0</td>\n",
       "    </tr>\n",
       "    <tr>\n",
       "      <th>29</th>\n",
       "      <td>Monsieur</td>\n",
       "      <td>188002</td>\n",
       "      <td>2009.0</td>\n",
       "    </tr>\n",
       "    <tr>\n",
       "      <th>...</th>\n",
       "      <td>...</td>\n",
       "      <td>...</td>\n",
       "      <td>...</td>\n",
       "    </tr>\n",
       "    <tr>\n",
       "      <th>871</th>\n",
       "      <td>Monsieur</td>\n",
       "      <td>233587</td>\n",
       "      <td>2013.0</td>\n",
       "    </tr>\n",
       "    <tr>\n",
       "      <th>872</th>\n",
       "      <td>Monsieur</td>\n",
       "      <td>205795</td>\n",
       "      <td>2013.0</td>\n",
       "    </tr>\n",
       "    <tr>\n",
       "      <th>873</th>\n",
       "      <td>Monsieur</td>\n",
       "      <td>232631</td>\n",
       "      <td>2013.0</td>\n",
       "    </tr>\n",
       "    <tr>\n",
       "      <th>874</th>\n",
       "      <td>Monsieur</td>\n",
       "      <td>232586</td>\n",
       "      <td>2013.0</td>\n",
       "    </tr>\n",
       "    <tr>\n",
       "      <th>875</th>\n",
       "      <td>Monsieur</td>\n",
       "      <td>233454</td>\n",
       "      <td>2013.0</td>\n",
       "    </tr>\n",
       "    <tr>\n",
       "      <th>876</th>\n",
       "      <td>Monsieur</td>\n",
       "      <td>234384</td>\n",
       "      <td>2013.0</td>\n",
       "    </tr>\n",
       "    <tr>\n",
       "      <th>877</th>\n",
       "      <td>Monsieur</td>\n",
       "      <td>194171</td>\n",
       "      <td>2013.0</td>\n",
       "    </tr>\n",
       "    <tr>\n",
       "      <th>878</th>\n",
       "      <td>Madame</td>\n",
       "      <td>233961</td>\n",
       "      <td>2013.0</td>\n",
       "    </tr>\n",
       "    <tr>\n",
       "      <th>879</th>\n",
       "      <td>Monsieur</td>\n",
       "      <td>226727</td>\n",
       "      <td>2013.0</td>\n",
       "    </tr>\n",
       "    <tr>\n",
       "      <th>880</th>\n",
       "      <td>Monsieur</td>\n",
       "      <td>205804</td>\n",
       "      <td>2013.0</td>\n",
       "    </tr>\n",
       "    <tr>\n",
       "      <th>881</th>\n",
       "      <td>Monsieur</td>\n",
       "      <td>186870</td>\n",
       "      <td>2013.0</td>\n",
       "    </tr>\n",
       "    <tr>\n",
       "      <th>882</th>\n",
       "      <td>Madame</td>\n",
       "      <td>184956</td>\n",
       "      <td>2013.0</td>\n",
       "    </tr>\n",
       "    <tr>\n",
       "      <th>883</th>\n",
       "      <td>Monsieur</td>\n",
       "      <td>192674</td>\n",
       "      <td>2013.0</td>\n",
       "    </tr>\n",
       "    <tr>\n",
       "      <th>884</th>\n",
       "      <td>Monsieur</td>\n",
       "      <td>237474</td>\n",
       "      <td>2013.0</td>\n",
       "    </tr>\n",
       "    <tr>\n",
       "      <th>885</th>\n",
       "      <td>Monsieur</td>\n",
       "      <td>192304</td>\n",
       "      <td>2013.0</td>\n",
       "    </tr>\n",
       "    <tr>\n",
       "      <th>886</th>\n",
       "      <td>Monsieur</td>\n",
       "      <td>195899</td>\n",
       "      <td>2013.0</td>\n",
       "    </tr>\n",
       "    <tr>\n",
       "      <th>887</th>\n",
       "      <td>Monsieur</td>\n",
       "      <td>234277</td>\n",
       "      <td>2013.0</td>\n",
       "    </tr>\n",
       "    <tr>\n",
       "      <th>888</th>\n",
       "      <td>Madame</td>\n",
       "      <td>237032</td>\n",
       "      <td>2013.0</td>\n",
       "    </tr>\n",
       "    <tr>\n",
       "      <th>889</th>\n",
       "      <td>Monsieur</td>\n",
       "      <td>195446</td>\n",
       "      <td>2013.0</td>\n",
       "    </tr>\n",
       "    <tr>\n",
       "      <th>890</th>\n",
       "      <td>Monsieur</td>\n",
       "      <td>233585</td>\n",
       "      <td>2013.0</td>\n",
       "    </tr>\n",
       "    <tr>\n",
       "      <th>891</th>\n",
       "      <td>Madame</td>\n",
       "      <td>238329</td>\n",
       "      <td>2013.0</td>\n",
       "    </tr>\n",
       "    <tr>\n",
       "      <th>892</th>\n",
       "      <td>Madame</td>\n",
       "      <td>237556</td>\n",
       "      <td>2013.0</td>\n",
       "    </tr>\n",
       "    <tr>\n",
       "      <th>893</th>\n",
       "      <td>Madame</td>\n",
       "      <td>238215</td>\n",
       "      <td>2013.0</td>\n",
       "    </tr>\n",
       "    <tr>\n",
       "      <th>894</th>\n",
       "      <td>Monsieur</td>\n",
       "      <td>193558</td>\n",
       "      <td>2013.0</td>\n",
       "    </tr>\n",
       "    <tr>\n",
       "      <th>895</th>\n",
       "      <td>Monsieur</td>\n",
       "      <td>198216</td>\n",
       "      <td>2013.0</td>\n",
       "    </tr>\n",
       "    <tr>\n",
       "      <th>896</th>\n",
       "      <td>Monsieur</td>\n",
       "      <td>232957</td>\n",
       "      <td>2013.0</td>\n",
       "    </tr>\n",
       "    <tr>\n",
       "      <th>897</th>\n",
       "      <td>Monsieur</td>\n",
       "      <td>233206</td>\n",
       "      <td>2013.0</td>\n",
       "    </tr>\n",
       "    <tr>\n",
       "      <th>898</th>\n",
       "      <td>Monsieur</td>\n",
       "      <td>184863</td>\n",
       "      <td>2013.0</td>\n",
       "    </tr>\n",
       "    <tr>\n",
       "      <th>899</th>\n",
       "      <td>Monsieur</td>\n",
       "      <td>232772</td>\n",
       "      <td>2013.0</td>\n",
       "    </tr>\n",
       "    <tr>\n",
       "      <th>900</th>\n",
       "      <td>Monsieur</td>\n",
       "      <td>203457</td>\n",
       "      <td>2013.0</td>\n",
       "    </tr>\n",
       "  </tbody>\n",
       "</table>\n",
       "<p>901 rows × 3 columns</p>\n",
       "</div>"
      ],
      "text/plain": [
       "       Gender  Sciper  Start_year\n",
       "0    Monsieur  170220      2009.0\n",
       "1    Monsieur  166701      2009.0\n",
       "2    Monsieur  170654      2009.0\n",
       "3    Monsieur  161279      2009.0\n",
       "4    Monsieur  175339      2009.0\n",
       "5    Monsieur  166344      2009.0\n",
       "6    Monsieur  170451      2008.0\n",
       "7    Monsieur  191471      2009.0\n",
       "8    Monsieur  178283      2009.0\n",
       "9    Monsieur  170225      2009.0\n",
       "10   Monsieur  161814      2009.0\n",
       "11   Monsieur  170218      2009.0\n",
       "12   Monsieur  170403      2009.0\n",
       "13   Monsieur  192861      2009.0\n",
       "14   Monsieur  175503      2009.0\n",
       "15   Monsieur  174508      2009.0\n",
       "16     Madame  191589      2009.0\n",
       "17   Monsieur  176564      2009.0\n",
       "18   Monsieur  166491      2007.0\n",
       "19   Monsieur  171073      2009.0\n",
       "20   Monsieur  185541      2009.0\n",
       "21   Monsieur  170833      2009.0\n",
       "22   Monsieur  174045      2009.0\n",
       "23   Monsieur  175713      2009.0\n",
       "24   Monsieur  171084      2009.0\n",
       "25   Monsieur  175880      2009.0\n",
       "26     Madame  193545      2009.0\n",
       "27   Monsieur  185161      2009.0\n",
       "28   Monsieur  166260      2008.0\n",
       "29   Monsieur  188002      2009.0\n",
       "..        ...     ...         ...\n",
       "871  Monsieur  233587      2013.0\n",
       "872  Monsieur  205795      2013.0\n",
       "873  Monsieur  232631      2013.0\n",
       "874  Monsieur  232586      2013.0\n",
       "875  Monsieur  233454      2013.0\n",
       "876  Monsieur  234384      2013.0\n",
       "877  Monsieur  194171      2013.0\n",
       "878    Madame  233961      2013.0\n",
       "879  Monsieur  226727      2013.0\n",
       "880  Monsieur  205804      2013.0\n",
       "881  Monsieur  186870      2013.0\n",
       "882    Madame  184956      2013.0\n",
       "883  Monsieur  192674      2013.0\n",
       "884  Monsieur  237474      2013.0\n",
       "885  Monsieur  192304      2013.0\n",
       "886  Monsieur  195899      2013.0\n",
       "887  Monsieur  234277      2013.0\n",
       "888    Madame  237032      2013.0\n",
       "889  Monsieur  195446      2013.0\n",
       "890  Monsieur  233585      2013.0\n",
       "891    Madame  238329      2013.0\n",
       "892    Madame  237556      2013.0\n",
       "893    Madame  238215      2013.0\n",
       "894  Monsieur  193558      2013.0\n",
       "895  Monsieur  198216      2013.0\n",
       "896  Monsieur  232957      2013.0\n",
       "897  Monsieur  233206      2013.0\n",
       "898  Monsieur  184863      2013.0\n",
       "899  Monsieur  232772      2013.0\n",
       "900  Monsieur  203457      2013.0\n",
       "\n",
       "[901 rows x 3 columns]"
      ]
     },
<<<<<<< HEAD
     "execution_count": 18,
=======
     "execution_count": 316,
>>>>>>> 42a355946bdebabfad63aa5f0228993ef493ddb0
     "metadata": {},
     "output_type": "execute_result"
    }
   ],
   "source": [
    "master1_string = table_no_conge_master1.drop(table_no_conge_master1.columns[[1,2,4,5,6,7,8,9,10,11,12]], axis=1)\n",
    "master1_final = pd.merge(master1_string, master1_min.to_frame(),left_index=True, right_index=True)\n",
    "master1_final.columns = [['Gender', 'Sciper', 'Start_year']]\n",
    "master1_final#.head()\n",
    "#print(master1_final)"
   ]
  },
  {
   "cell_type": "markdown",
   "metadata": {},
   "source": [
    "### Get Value Projet Master fall spring"
   ]
  },
  {
   "cell_type": "code",
<<<<<<< HEAD
   "execution_count": 19,
=======
   "execution_count": 317,
>>>>>>> 42a355946bdebabfad63aa5f0228993ef493ddb0
   "metadata": {
    "collapsed": false
   },
   "outputs": [
    {
     "ename": "KeyboardInterrupt",
     "evalue": "",
     "output_type": "error",
     "traceback": [
      "\u001b[0;31m---------------------------------------------------------------------------\u001b[0m",
      "\u001b[0;31mTypeError\u001b[0m                                 Traceback (most recent call last)",
      "\u001b[0;32m/Users/jeremie/anaconda3/lib/python3.5/site-packages/requests/packages/urllib3/connectionpool.py\u001b[0m in \u001b[0;36m_make_request\u001b[0;34m(self, conn, method, url, timeout, chunked, **httplib_request_kw)\u001b[0m\n\u001b[1;32m    385\u001b[0m             \u001b[0;32mtry\u001b[0m\u001b[0;34m:\u001b[0m  \u001b[0;31m# Python 2.7, use buffering of HTTP responses\u001b[0m\u001b[0;34m\u001b[0m\u001b[0m\n\u001b[0;32m--> 386\u001b[0;31m                 \u001b[0mhttplib_response\u001b[0m \u001b[0;34m=\u001b[0m \u001b[0mconn\u001b[0m\u001b[0;34m.\u001b[0m\u001b[0mgetresponse\u001b[0m\u001b[0;34m(\u001b[0m\u001b[0mbuffering\u001b[0m\u001b[0;34m=\u001b[0m\u001b[0;32mTrue\u001b[0m\u001b[0;34m)\u001b[0m\u001b[0;34m\u001b[0m\u001b[0m\n\u001b[0m\u001b[1;32m    387\u001b[0m             \u001b[0;32mexcept\u001b[0m \u001b[0mTypeError\u001b[0m\u001b[0;34m:\u001b[0m  \u001b[0;31m# Python 2.6 and older, Python 3\u001b[0m\u001b[0;34m\u001b[0m\u001b[0m\n",
      "\u001b[0;31mTypeError\u001b[0m: getresponse() got an unexpected keyword argument 'buffering'",
      "\nDuring handling of the above exception, another exception occurred:\n",
      "\u001b[0;31mKeyboardInterrupt\u001b[0m                         Traceback (most recent call last)",
      "\u001b[0;32m<ipython-input-317-439fa6de2deb>\u001b[0m in \u001b[0;36m<module>\u001b[0;34m()\u001b[0m\n\u001b[0;32m----> 1\u001b[0;31m \u001b[0mglobal_table_prj_fall\u001b[0m \u001b[0;34m=\u001b[0m \u001b[0mgetResultAllYears\u001b[0m\u001b[0;34m(\u001b[0m\u001b[0;34m'Projet Master fall'\u001b[0m\u001b[0;34m)\u001b[0m\u001b[0;34m\u001b[0m\u001b[0m\n\u001b[0m\u001b[1;32m      2\u001b[0m \u001b[0mglobal_table_prj_spring\u001b[0m \u001b[0;34m=\u001b[0m \u001b[0mgetResultAllYears\u001b[0m\u001b[0;34m(\u001b[0m\u001b[0;34m'Projet Master spring'\u001b[0m\u001b[0;34m)\u001b[0m\u001b[0;34m\u001b[0m\u001b[0m\n",
      "\u001b[0;32m<ipython-input-305-c26e5cd49bb0>\u001b[0m in \u001b[0;36mgetResultAllYears\u001b[0;34m(semester)\u001b[0m\n\u001b[1;32m      2\u001b[0m     \u001b[0mglobal_table\u001b[0m \u001b[0;34m=\u001b[0m \u001b[0;34m[\u001b[0m\u001b[0;34m]\u001b[0m\u001b[0;34m\u001b[0m\u001b[0m\n\u001b[1;32m      3\u001b[0m     \u001b[0;32mfor\u001b[0m \u001b[0myear_id\u001b[0m \u001b[0;32min\u001b[0m \u001b[0myear_ids\u001b[0m\u001b[0;34m:\u001b[0m\u001b[0;34m\u001b[0m\u001b[0m\n\u001b[0;32m----> 4\u001b[0;31m         \u001b[0msoup\u001b[0m \u001b[0;34m=\u001b[0m \u001b[0mgetResultPage\u001b[0m\u001b[0;34m(\u001b[0m\u001b[0myear_id\u001b[0m\u001b[0;34m,\u001b[0m \u001b[0msemester\u001b[0m\u001b[0;34m)\u001b[0m\u001b[0;34m\u001b[0m\u001b[0m\n\u001b[0m\u001b[1;32m      5\u001b[0m \u001b[0;34m\u001b[0m\u001b[0m\n\u001b[1;32m      6\u001b[0m         \u001b[0mstudents_tr\u001b[0m \u001b[0;34m=\u001b[0m \u001b[0msoup\u001b[0m\u001b[0;34m.\u001b[0m\u001b[0mbody\u001b[0m\u001b[0;34m.\u001b[0m\u001b[0mhr\u001b[0m\u001b[0;34m.\u001b[0m\u001b[0mtable\u001b[0m\u001b[0;34m.\u001b[0m\u001b[0mfind_all\u001b[0m\u001b[0;34m(\u001b[0m\u001b[0;34m'tr'\u001b[0m\u001b[0;34m)\u001b[0m\u001b[0;34m[\u001b[0m\u001b[0;36m2\u001b[0m\u001b[0;34m:\u001b[0m\u001b[0;34m]\u001b[0m\u001b[0;34m\u001b[0m\u001b[0m\n",
      "\u001b[0;32m<ipython-input-304-b32e92eec629>\u001b[0m in \u001b[0;36mgetResultPage\u001b[0;34m(academic_year, semester)\u001b[0m\n\u001b[1;32m      1\u001b[0m \u001b[0;32mdef\u001b[0m \u001b[0mgetResultPage\u001b[0m\u001b[0;34m(\u001b[0m\u001b[0macademic_year\u001b[0m\u001b[0;34m,\u001b[0m \u001b[0msemester\u001b[0m\u001b[0;34m)\u001b[0m\u001b[0;34m:\u001b[0m\u001b[0;34m\u001b[0m\u001b[0m\n\u001b[0;32m----> 2\u001b[0;31m     \u001b[0mfilteredPage\u001b[0m\u001b[0;34m,\u001b[0m \u001b[0mparams\u001b[0m \u001b[0;34m=\u001b[0m \u001b[0mgetFilteredPage\u001b[0m\u001b[0;34m(\u001b[0m\u001b[0macademic_year\u001b[0m\u001b[0;34m,\u001b[0m \u001b[0msemester\u001b[0m\u001b[0;34m)\u001b[0m\u001b[0;34m\u001b[0m\u001b[0m\n\u001b[0m\u001b[1;32m      3\u001b[0m     \u001b[0mparams\u001b[0m\u001b[0;34m[\u001b[0m\u001b[0;34m'ww_x_GPS'\u001b[0m\u001b[0;34m]\u001b[0m \u001b[0;34m=\u001b[0m \u001b[0mfilteredPage\u001b[0m\u001b[0;34m.\u001b[0m\u001b[0mfind_all\u001b[0m\u001b[0;34m(\u001b[0m\u001b[0;34m'a'\u001b[0m\u001b[0;34m)\u001b[0m\u001b[0;34m[\u001b[0m\u001b[0;36m1\u001b[0m\u001b[0;34m]\u001b[0m\u001b[0;34m.\u001b[0m\u001b[0mget\u001b[0m\u001b[0;34m(\u001b[0m\u001b[0;34m'onclick'\u001b[0m\u001b[0;34m)\u001b[0m\u001b[0;34m.\u001b[0m\u001b[0msplit\u001b[0m\u001b[0;34m(\u001b[0m\u001b[0;34m\"ww_x_GPS=\"\u001b[0m\u001b[0;34m)\u001b[0m\u001b[0;34m[\u001b[0m\u001b[0;36m1\u001b[0m\u001b[0;34m]\u001b[0m\u001b[0;34m.\u001b[0m\u001b[0msplit\u001b[0m\u001b[0;34m(\u001b[0m\u001b[0;34m\"')\"\u001b[0m\u001b[0;34m)\u001b[0m\u001b[0;34m[\u001b[0m\u001b[0;36m0\u001b[0m\u001b[0;34m]\u001b[0m\u001b[0;34m\u001b[0m\u001b[0m\n\u001b[1;32m      4\u001b[0m     \u001b[0mr\u001b[0m \u001b[0;34m=\u001b[0m \u001b[0mrequests\u001b[0m\u001b[0;34m.\u001b[0m\u001b[0mget\u001b[0m\u001b[0;34m(\u001b[0m\u001b[0;34m'http://isa.epfl.ch/imoniteur_ISAP/!GEDPUBLICREPORTS.bhtml?'\u001b[0m\u001b[0;34m,\u001b[0m \u001b[0mparams\u001b[0m\u001b[0;34m)\u001b[0m\u001b[0;34m\u001b[0m\u001b[0m\n\u001b[1;32m      5\u001b[0m     \u001b[0;32mreturn\u001b[0m \u001b[0mBeautifulSoup\u001b[0m\u001b[0;34m(\u001b[0m\u001b[0mr\u001b[0m\u001b[0;34m.\u001b[0m\u001b[0mtext\u001b[0m\u001b[0;34m,\u001b[0m \u001b[0;34m'html.parser'\u001b[0m\u001b[0;34m)\u001b[0m\u001b[0;34m\u001b[0m\u001b[0m\n",
      "\u001b[0;32m<ipython-input-303-f81b9e00d0f3>\u001b[0m in \u001b[0;36mgetFilteredPage\u001b[0;34m(academic_year, semester)\u001b[0m\n\u001b[1;32m      6\u001b[0m             \u001b[0;34m'ww_x_PERIODE_ACAD'\u001b[0m\u001b[0;34m:\u001b[0m\u001b[0myear_ids\u001b[0m\u001b[0;34m[\u001b[0m\u001b[0macademic_year\u001b[0m\u001b[0;34m]\u001b[0m\u001b[0;34m,\u001b[0m\u001b[0;34m\u001b[0m\u001b[0m\n\u001b[1;32m      7\u001b[0m             'ww_x_PERIODE_PEDAGO':master_semester_ids[semester]}\n\u001b[0;32m----> 8\u001b[0;31m     \u001b[0mr\u001b[0m \u001b[0;34m=\u001b[0m \u001b[0mrequests\u001b[0m\u001b[0;34m.\u001b[0m\u001b[0mget\u001b[0m\u001b[0;34m(\u001b[0m\u001b[0;34m'http://isa.epfl.ch/imoniteur_ISAP/!GEDPUBLICREPORTS.filter?'\u001b[0m\u001b[0;34m,\u001b[0m \u001b[0mparams\u001b[0m\u001b[0;34m)\u001b[0m\u001b[0;34m\u001b[0m\u001b[0m\n\u001b[0m\u001b[1;32m      9\u001b[0m     \u001b[0mhtml_doc\u001b[0m \u001b[0;34m=\u001b[0m \u001b[0mr\u001b[0m\u001b[0;34m.\u001b[0m\u001b[0mtext\u001b[0m\u001b[0;34m\u001b[0m\u001b[0m\n\u001b[1;32m     10\u001b[0m     \u001b[0;32mreturn\u001b[0m \u001b[0mBeautifulSoup\u001b[0m\u001b[0;34m(\u001b[0m\u001b[0mhtml_doc\u001b[0m\u001b[0;34m,\u001b[0m \u001b[0;34m'html.parser'\u001b[0m\u001b[0;34m)\u001b[0m\u001b[0;34m,\u001b[0m \u001b[0mparams\u001b[0m\u001b[0;34m\u001b[0m\u001b[0m\n",
      "\u001b[0;32m/Users/jeremie/anaconda3/lib/python3.5/site-packages/requests/api.py\u001b[0m in \u001b[0;36mget\u001b[0;34m(url, params, **kwargs)\u001b[0m\n\u001b[1;32m     68\u001b[0m \u001b[0;34m\u001b[0m\u001b[0m\n\u001b[1;32m     69\u001b[0m     \u001b[0mkwargs\u001b[0m\u001b[0;34m.\u001b[0m\u001b[0msetdefault\u001b[0m\u001b[0;34m(\u001b[0m\u001b[0;34m'allow_redirects'\u001b[0m\u001b[0;34m,\u001b[0m \u001b[0;32mTrue\u001b[0m\u001b[0;34m)\u001b[0m\u001b[0;34m\u001b[0m\u001b[0m\n\u001b[0;32m---> 70\u001b[0;31m     \u001b[0;32mreturn\u001b[0m \u001b[0mrequest\u001b[0m\u001b[0;34m(\u001b[0m\u001b[0;34m'get'\u001b[0m\u001b[0;34m,\u001b[0m \u001b[0murl\u001b[0m\u001b[0;34m,\u001b[0m \u001b[0mparams\u001b[0m\u001b[0;34m=\u001b[0m\u001b[0mparams\u001b[0m\u001b[0;34m,\u001b[0m \u001b[0;34m**\u001b[0m\u001b[0mkwargs\u001b[0m\u001b[0;34m)\u001b[0m\u001b[0;34m\u001b[0m\u001b[0m\n\u001b[0m\u001b[1;32m     71\u001b[0m \u001b[0;34m\u001b[0m\u001b[0m\n\u001b[1;32m     72\u001b[0m \u001b[0;34m\u001b[0m\u001b[0m\n",
      "\u001b[0;32m/Users/jeremie/anaconda3/lib/python3.5/site-packages/requests/api.py\u001b[0m in \u001b[0;36mrequest\u001b[0;34m(method, url, **kwargs)\u001b[0m\n\u001b[1;32m     54\u001b[0m     \u001b[0;31m# cases, and look like a memory leak in others.\u001b[0m\u001b[0;34m\u001b[0m\u001b[0;34m\u001b[0m\u001b[0m\n\u001b[1;32m     55\u001b[0m     \u001b[0;32mwith\u001b[0m \u001b[0msessions\u001b[0m\u001b[0;34m.\u001b[0m\u001b[0mSession\u001b[0m\u001b[0;34m(\u001b[0m\u001b[0;34m)\u001b[0m \u001b[0;32mas\u001b[0m \u001b[0msession\u001b[0m\u001b[0;34m:\u001b[0m\u001b[0;34m\u001b[0m\u001b[0m\n\u001b[0;32m---> 56\u001b[0;31m         \u001b[0;32mreturn\u001b[0m \u001b[0msession\u001b[0m\u001b[0;34m.\u001b[0m\u001b[0mrequest\u001b[0m\u001b[0;34m(\u001b[0m\u001b[0mmethod\u001b[0m\u001b[0;34m=\u001b[0m\u001b[0mmethod\u001b[0m\u001b[0;34m,\u001b[0m \u001b[0murl\u001b[0m\u001b[0;34m=\u001b[0m\u001b[0murl\u001b[0m\u001b[0;34m,\u001b[0m \u001b[0;34m**\u001b[0m\u001b[0mkwargs\u001b[0m\u001b[0;34m)\u001b[0m\u001b[0;34m\u001b[0m\u001b[0m\n\u001b[0m\u001b[1;32m     57\u001b[0m \u001b[0;34m\u001b[0m\u001b[0m\n\u001b[1;32m     58\u001b[0m \u001b[0;34m\u001b[0m\u001b[0m\n",
      "\u001b[0;32m/Users/jeremie/anaconda3/lib/python3.5/site-packages/requests/sessions.py\u001b[0m in \u001b[0;36mrequest\u001b[0;34m(self, method, url, params, data, headers, cookies, files, auth, timeout, allow_redirects, proxies, hooks, stream, verify, cert, json)\u001b[0m\n\u001b[1;32m    473\u001b[0m         }\n\u001b[1;32m    474\u001b[0m         \u001b[0msend_kwargs\u001b[0m\u001b[0;34m.\u001b[0m\u001b[0mupdate\u001b[0m\u001b[0;34m(\u001b[0m\u001b[0msettings\u001b[0m\u001b[0;34m)\u001b[0m\u001b[0;34m\u001b[0m\u001b[0m\n\u001b[0;32m--> 475\u001b[0;31m         \u001b[0mresp\u001b[0m \u001b[0;34m=\u001b[0m \u001b[0mself\u001b[0m\u001b[0;34m.\u001b[0m\u001b[0msend\u001b[0m\u001b[0;34m(\u001b[0m\u001b[0mprep\u001b[0m\u001b[0;34m,\u001b[0m \u001b[0;34m**\u001b[0m\u001b[0msend_kwargs\u001b[0m\u001b[0;34m)\u001b[0m\u001b[0;34m\u001b[0m\u001b[0m\n\u001b[0m\u001b[1;32m    476\u001b[0m \u001b[0;34m\u001b[0m\u001b[0m\n\u001b[1;32m    477\u001b[0m         \u001b[0;32mreturn\u001b[0m \u001b[0mresp\u001b[0m\u001b[0;34m\u001b[0m\u001b[0m\n",
      "\u001b[0;32m/Users/jeremie/anaconda3/lib/python3.5/site-packages/requests/sessions.py\u001b[0m in \u001b[0;36msend\u001b[0;34m(self, request, **kwargs)\u001b[0m\n\u001b[1;32m    594\u001b[0m \u001b[0;34m\u001b[0m\u001b[0m\n\u001b[1;32m    595\u001b[0m         \u001b[0;31m# Send the request\u001b[0m\u001b[0;34m\u001b[0m\u001b[0;34m\u001b[0m\u001b[0m\n\u001b[0;32m--> 596\u001b[0;31m         \u001b[0mr\u001b[0m \u001b[0;34m=\u001b[0m \u001b[0madapter\u001b[0m\u001b[0;34m.\u001b[0m\u001b[0msend\u001b[0m\u001b[0;34m(\u001b[0m\u001b[0mrequest\u001b[0m\u001b[0;34m,\u001b[0m \u001b[0;34m**\u001b[0m\u001b[0mkwargs\u001b[0m\u001b[0;34m)\u001b[0m\u001b[0;34m\u001b[0m\u001b[0m\n\u001b[0m\u001b[1;32m    597\u001b[0m \u001b[0;34m\u001b[0m\u001b[0m\n\u001b[1;32m    598\u001b[0m         \u001b[0;31m# Total elapsed time of the request (approximately)\u001b[0m\u001b[0;34m\u001b[0m\u001b[0;34m\u001b[0m\u001b[0m\n",
      "\u001b[0;32m/Users/jeremie/anaconda3/lib/python3.5/site-packages/requests/adapters.py\u001b[0m in \u001b[0;36msend\u001b[0;34m(self, request, stream, timeout, verify, cert, proxies)\u001b[0m\n\u001b[1;32m    421\u001b[0m                     \u001b[0mdecode_content\u001b[0m\u001b[0;34m=\u001b[0m\u001b[0;32mFalse\u001b[0m\u001b[0;34m,\u001b[0m\u001b[0;34m\u001b[0m\u001b[0m\n\u001b[1;32m    422\u001b[0m                     \u001b[0mretries\u001b[0m\u001b[0;34m=\u001b[0m\u001b[0mself\u001b[0m\u001b[0;34m.\u001b[0m\u001b[0mmax_retries\u001b[0m\u001b[0;34m,\u001b[0m\u001b[0;34m\u001b[0m\u001b[0m\n\u001b[0;32m--> 423\u001b[0;31m                     \u001b[0mtimeout\u001b[0m\u001b[0;34m=\u001b[0m\u001b[0mtimeout\u001b[0m\u001b[0;34m\u001b[0m\u001b[0m\n\u001b[0m\u001b[1;32m    424\u001b[0m                 )\n\u001b[1;32m    425\u001b[0m \u001b[0;34m\u001b[0m\u001b[0m\n",
      "\u001b[0;32m/Users/jeremie/anaconda3/lib/python3.5/site-packages/requests/packages/urllib3/connectionpool.py\u001b[0m in \u001b[0;36murlopen\u001b[0;34m(self, method, url, body, headers, retries, redirect, assert_same_host, timeout, pool_timeout, release_conn, chunked, **response_kw)\u001b[0m\n\u001b[1;32m    593\u001b[0m                                                   \u001b[0mtimeout\u001b[0m\u001b[0;34m=\u001b[0m\u001b[0mtimeout_obj\u001b[0m\u001b[0;34m,\u001b[0m\u001b[0;34m\u001b[0m\u001b[0m\n\u001b[1;32m    594\u001b[0m                                                   \u001b[0mbody\u001b[0m\u001b[0;34m=\u001b[0m\u001b[0mbody\u001b[0m\u001b[0;34m,\u001b[0m \u001b[0mheaders\u001b[0m\u001b[0;34m=\u001b[0m\u001b[0mheaders\u001b[0m\u001b[0;34m,\u001b[0m\u001b[0;34m\u001b[0m\u001b[0m\n\u001b[0;32m--> 595\u001b[0;31m                                                   chunked=chunked)\n\u001b[0m\u001b[1;32m    596\u001b[0m \u001b[0;34m\u001b[0m\u001b[0m\n\u001b[1;32m    597\u001b[0m             \u001b[0;31m# If we're going to release the connection in ``finally:``, then\u001b[0m\u001b[0;34m\u001b[0m\u001b[0;34m\u001b[0m\u001b[0m\n",
      "\u001b[0;32m/Users/jeremie/anaconda3/lib/python3.5/site-packages/requests/packages/urllib3/connectionpool.py\u001b[0m in \u001b[0;36m_make_request\u001b[0;34m(self, conn, method, url, timeout, chunked, **httplib_request_kw)\u001b[0m\n\u001b[1;32m    387\u001b[0m             \u001b[0;32mexcept\u001b[0m \u001b[0mTypeError\u001b[0m\u001b[0;34m:\u001b[0m  \u001b[0;31m# Python 2.6 and older, Python 3\u001b[0m\u001b[0;34m\u001b[0m\u001b[0m\n\u001b[1;32m    388\u001b[0m                 \u001b[0;32mtry\u001b[0m\u001b[0;34m:\u001b[0m\u001b[0;34m\u001b[0m\u001b[0m\n\u001b[0;32m--> 389\u001b[0;31m                     \u001b[0mhttplib_response\u001b[0m \u001b[0;34m=\u001b[0m \u001b[0mconn\u001b[0m\u001b[0;34m.\u001b[0m\u001b[0mgetresponse\u001b[0m\u001b[0;34m(\u001b[0m\u001b[0;34m)\u001b[0m\u001b[0;34m\u001b[0m\u001b[0m\n\u001b[0m\u001b[1;32m    390\u001b[0m                 \u001b[0;32mexcept\u001b[0m \u001b[0mException\u001b[0m \u001b[0;32mas\u001b[0m \u001b[0me\u001b[0m\u001b[0;34m:\u001b[0m\u001b[0;34m\u001b[0m\u001b[0m\n\u001b[1;32m    391\u001b[0m                     \u001b[0;31m# Remove the TypeError from the exception chain in Python 3;\u001b[0m\u001b[0;34m\u001b[0m\u001b[0;34m\u001b[0m\u001b[0m\n",
      "\u001b[0;32m/Users/jeremie/anaconda3/lib/python3.5/http/client.py\u001b[0m in \u001b[0;36mgetresponse\u001b[0;34m(self)\u001b[0m\n\u001b[1;32m   1195\u001b[0m         \u001b[0;32mtry\u001b[0m\u001b[0;34m:\u001b[0m\u001b[0;34m\u001b[0m\u001b[0m\n\u001b[1;32m   1196\u001b[0m             \u001b[0;32mtry\u001b[0m\u001b[0;34m:\u001b[0m\u001b[0;34m\u001b[0m\u001b[0m\n\u001b[0;32m-> 1197\u001b[0;31m                 \u001b[0mresponse\u001b[0m\u001b[0;34m.\u001b[0m\u001b[0mbegin\u001b[0m\u001b[0;34m(\u001b[0m\u001b[0;34m)\u001b[0m\u001b[0;34m\u001b[0m\u001b[0m\n\u001b[0m\u001b[1;32m   1198\u001b[0m             \u001b[0;32mexcept\u001b[0m \u001b[0mConnectionError\u001b[0m\u001b[0;34m:\u001b[0m\u001b[0;34m\u001b[0m\u001b[0m\n\u001b[1;32m   1199\u001b[0m                 \u001b[0mself\u001b[0m\u001b[0;34m.\u001b[0m\u001b[0mclose\u001b[0m\u001b[0;34m(\u001b[0m\u001b[0;34m)\u001b[0m\u001b[0;34m\u001b[0m\u001b[0m\n",
      "\u001b[0;32m/Users/jeremie/anaconda3/lib/python3.5/http/client.py\u001b[0m in \u001b[0;36mbegin\u001b[0;34m(self)\u001b[0m\n\u001b[1;32m    295\u001b[0m         \u001b[0;31m# read until we get a non-100 response\u001b[0m\u001b[0;34m\u001b[0m\u001b[0;34m\u001b[0m\u001b[0m\n\u001b[1;32m    296\u001b[0m         \u001b[0;32mwhile\u001b[0m \u001b[0;32mTrue\u001b[0m\u001b[0;34m:\u001b[0m\u001b[0;34m\u001b[0m\u001b[0m\n\u001b[0;32m--> 297\u001b[0;31m             \u001b[0mversion\u001b[0m\u001b[0;34m,\u001b[0m \u001b[0mstatus\u001b[0m\u001b[0;34m,\u001b[0m \u001b[0mreason\u001b[0m \u001b[0;34m=\u001b[0m \u001b[0mself\u001b[0m\u001b[0;34m.\u001b[0m\u001b[0m_read_status\u001b[0m\u001b[0;34m(\u001b[0m\u001b[0;34m)\u001b[0m\u001b[0;34m\u001b[0m\u001b[0m\n\u001b[0m\u001b[1;32m    298\u001b[0m             \u001b[0;32mif\u001b[0m \u001b[0mstatus\u001b[0m \u001b[0;34m!=\u001b[0m \u001b[0mCONTINUE\u001b[0m\u001b[0;34m:\u001b[0m\u001b[0;34m\u001b[0m\u001b[0m\n\u001b[1;32m    299\u001b[0m                 \u001b[0;32mbreak\u001b[0m\u001b[0;34m\u001b[0m\u001b[0m\n",
      "\u001b[0;32m/Users/jeremie/anaconda3/lib/python3.5/http/client.py\u001b[0m in \u001b[0;36m_read_status\u001b[0;34m(self)\u001b[0m\n\u001b[1;32m    256\u001b[0m \u001b[0;34m\u001b[0m\u001b[0m\n\u001b[1;32m    257\u001b[0m     \u001b[0;32mdef\u001b[0m \u001b[0m_read_status\u001b[0m\u001b[0;34m(\u001b[0m\u001b[0mself\u001b[0m\u001b[0;34m)\u001b[0m\u001b[0;34m:\u001b[0m\u001b[0;34m\u001b[0m\u001b[0m\n\u001b[0;32m--> 258\u001b[0;31m         \u001b[0mline\u001b[0m \u001b[0;34m=\u001b[0m \u001b[0mstr\u001b[0m\u001b[0;34m(\u001b[0m\u001b[0mself\u001b[0m\u001b[0;34m.\u001b[0m\u001b[0mfp\u001b[0m\u001b[0;34m.\u001b[0m\u001b[0mreadline\u001b[0m\u001b[0;34m(\u001b[0m\u001b[0m_MAXLINE\u001b[0m \u001b[0;34m+\u001b[0m \u001b[0;36m1\u001b[0m\u001b[0;34m)\u001b[0m\u001b[0;34m,\u001b[0m \u001b[0;34m\"iso-8859-1\"\u001b[0m\u001b[0;34m)\u001b[0m\u001b[0;34m\u001b[0m\u001b[0m\n\u001b[0m\u001b[1;32m    259\u001b[0m         \u001b[0;32mif\u001b[0m \u001b[0mlen\u001b[0m\u001b[0;34m(\u001b[0m\u001b[0mline\u001b[0m\u001b[0;34m)\u001b[0m \u001b[0;34m>\u001b[0m \u001b[0m_MAXLINE\u001b[0m\u001b[0;34m:\u001b[0m\u001b[0;34m\u001b[0m\u001b[0m\n\u001b[1;32m    260\u001b[0m             \u001b[0;32mraise\u001b[0m \u001b[0mLineTooLong\u001b[0m\u001b[0;34m(\u001b[0m\u001b[0;34m\"status line\"\u001b[0m\u001b[0;34m)\u001b[0m\u001b[0;34m\u001b[0m\u001b[0m\n",
      "\u001b[0;32m/Users/jeremie/anaconda3/lib/python3.5/socket.py\u001b[0m in \u001b[0;36mreadinto\u001b[0;34m(self, b)\u001b[0m\n\u001b[1;32m    573\u001b[0m         \u001b[0;32mwhile\u001b[0m \u001b[0;32mTrue\u001b[0m\u001b[0;34m:\u001b[0m\u001b[0;34m\u001b[0m\u001b[0m\n\u001b[1;32m    574\u001b[0m             \u001b[0;32mtry\u001b[0m\u001b[0;34m:\u001b[0m\u001b[0;34m\u001b[0m\u001b[0m\n\u001b[0;32m--> 575\u001b[0;31m                 \u001b[0;32mreturn\u001b[0m \u001b[0mself\u001b[0m\u001b[0;34m.\u001b[0m\u001b[0m_sock\u001b[0m\u001b[0;34m.\u001b[0m\u001b[0mrecv_into\u001b[0m\u001b[0;34m(\u001b[0m\u001b[0mb\u001b[0m\u001b[0;34m)\u001b[0m\u001b[0;34m\u001b[0m\u001b[0m\n\u001b[0m\u001b[1;32m    576\u001b[0m             \u001b[0;32mexcept\u001b[0m \u001b[0mtimeout\u001b[0m\u001b[0;34m:\u001b[0m\u001b[0;34m\u001b[0m\u001b[0m\n\u001b[1;32m    577\u001b[0m                 \u001b[0mself\u001b[0m\u001b[0;34m.\u001b[0m\u001b[0m_timeout_occurred\u001b[0m \u001b[0;34m=\u001b[0m \u001b[0;32mTrue\u001b[0m\u001b[0;34m\u001b[0m\u001b[0m\n",
      "\u001b[0;31mKeyboardInterrupt\u001b[0m: "
     ]
    }
   ],
   "source": [
    "global_table_prj_fall = getResultAllYears('Projet Master fall')\n",
    "global_table_prj_spring = getResultAllYears('Projet Master spring')"
   ]
  },
  {
   "cell_type": "code",
<<<<<<< HEAD
   "execution_count": 20,
=======
   "execution_count": 318,
>>>>>>> 42a355946bdebabfad63aa5f0228993ef493ddb0
   "metadata": {
    "collapsed": false
   },
   "outputs": [
    {
     "data": {
      "text/html": [
       "<div>\n",
       "<table border=\"1\" class=\"dataframe\">\n",
       "  <thead>\n",
       "    <tr style=\"text-align: right;\">\n",
       "      <th></th>\n",
       "      <th>Gender</th>\n",
       "      <th>Name</th>\n",
       "      <th>Status_2009-2010</th>\n",
       "      <th>Sciper</th>\n",
       "      <th>Status_2016-2017</th>\n",
       "      <th>Status_2011-2012</th>\n",
       "      <th>Status_2015-2016</th>\n",
       "      <th>Status_2007-2008</th>\n",
       "      <th>Status_2012-2013</th>\n",
       "      <th>Status_2014-2015</th>\n",
       "      <th>Status_2008-2009</th>\n",
       "      <th>Status_2010-2011</th>\n",
       "      <th>Status_2013-2014</th>\n",
       "    </tr>\n",
       "  </thead>\n",
       "  <tbody>\n",
       "    <tr>\n",
       "      <th>0</th>\n",
       "      <td>Madame</td>\n",
       "      <td>Aydin Ebru</td>\n",
       "      <td>Stage</td>\n",
       "      <td>183512</td>\n",
       "      <td>NaN</td>\n",
       "      <td>NaN</td>\n",
       "      <td>NaN</td>\n",
       "      <td>NaN</td>\n",
       "      <td>NaN</td>\n",
       "      <td>NaN</td>\n",
       "      <td>NaN</td>\n",
       "      <td>NaN</td>\n",
       "      <td>NaN</td>\n",
       "    </tr>\n",
       "    <tr>\n",
       "      <th>1</th>\n",
       "      <td>Monsieur</td>\n",
       "      <td>Bécholey Alexandre</td>\n",
       "      <td>Présent</td>\n",
       "      <td>160213</td>\n",
       "      <td>NaN</td>\n",
       "      <td>NaN</td>\n",
       "      <td>NaN</td>\n",
       "      <td>NaN</td>\n",
       "      <td>NaN</td>\n",
       "      <td>NaN</td>\n",
       "      <td>NaN</td>\n",
       "      <td>NaN</td>\n",
       "      <td>NaN</td>\n",
       "    </tr>\n",
       "    <tr>\n",
       "      <th>2</th>\n",
       "      <td>Madame</td>\n",
       "      <td>Kostic Teodora</td>\n",
       "      <td>Présent</td>\n",
       "      <td>183605</td>\n",
       "      <td>NaN</td>\n",
       "      <td>NaN</td>\n",
       "      <td>NaN</td>\n",
       "      <td>NaN</td>\n",
       "      <td>NaN</td>\n",
       "      <td>NaN</td>\n",
       "      <td>NaN</td>\n",
       "      <td>NaN</td>\n",
       "      <td>NaN</td>\n",
       "    </tr>\n",
       "    <tr>\n",
       "      <th>3</th>\n",
       "      <td>Monsieur</td>\n",
       "      <td>Amiguet Jérôme</td>\n",
       "      <td>NaN</td>\n",
       "      <td>166075</td>\n",
       "      <td>Présent</td>\n",
       "      <td>NaN</td>\n",
       "      <td>NaN</td>\n",
       "      <td>NaN</td>\n",
       "      <td>NaN</td>\n",
       "      <td>NaN</td>\n",
       "      <td>NaN</td>\n",
       "      <td>NaN</td>\n",
       "      <td>NaN</td>\n",
       "    </tr>\n",
       "    <tr>\n",
       "      <th>4</th>\n",
       "      <td>Monsieur</td>\n",
       "      <td>Antognini Diego Matteo</td>\n",
       "      <td>NaN</td>\n",
       "      <td>243163</td>\n",
       "      <td>Présent</td>\n",
       "      <td>NaN</td>\n",
       "      <td>NaN</td>\n",
       "      <td>NaN</td>\n",
       "      <td>NaN</td>\n",
       "      <td>NaN</td>\n",
       "      <td>NaN</td>\n",
       "      <td>NaN</td>\n",
       "      <td>NaN</td>\n",
       "    </tr>\n",
       "  </tbody>\n",
       "</table>\n",
       "</div>"
      ],
      "text/plain": [
       "     Gender                    Name Status_2009-2010  Sciper Status_2016-2017  \\\n",
       "0    Madame              Aydin Ebru            Stage  183512              NaN   \n",
       "1  Monsieur      Bécholey Alexandre          Présent  160213              NaN   \n",
       "2    Madame          Kostic Teodora          Présent  183605              NaN   \n",
       "3  Monsieur          Amiguet Jérôme              NaN  166075          Présent   \n",
       "4  Monsieur  Antognini Diego Matteo              NaN  243163          Présent   \n",
       "\n",
       "  Status_2011-2012 Status_2015-2016 Status_2007-2008 Status_2012-2013  \\\n",
       "0              NaN              NaN              NaN              NaN   \n",
       "1              NaN              NaN              NaN              NaN   \n",
       "2              NaN              NaN              NaN              NaN   \n",
       "3              NaN              NaN              NaN              NaN   \n",
       "4              NaN              NaN              NaN              NaN   \n",
       "\n",
       "  Status_2014-2015 Status_2008-2009 Status_2010-2011 Status_2013-2014  \n",
       "0              NaN              NaN              NaN              NaN  \n",
       "1              NaN              NaN              NaN              NaN  \n",
       "2              NaN              NaN              NaN              NaN  \n",
       "3              NaN              NaN              NaN              NaN  \n",
       "4              NaN              NaN              NaN              NaN  "
      ]
     },
<<<<<<< HEAD
     "execution_count": 20,
=======
     "execution_count": 318,
>>>>>>> 42a355946bdebabfad63aa5f0228993ef493ddb0
     "metadata": {},
     "output_type": "execute_result"
    }
   ],
   "source": [
    "joined_table_prj_fall = joinTables(global_table_prj_fall)\n",
    "joined_table_prj_fall.head()"
   ]
  },
  {
   "cell_type": "code",
<<<<<<< HEAD
   "execution_count": 21,
=======
   "execution_count": 319,
>>>>>>> 42a355946bdebabfad63aa5f0228993ef493ddb0
   "metadata": {
    "collapsed": false
   },
   "outputs": [
    {
     "data": {
      "text/html": [
       "<div>\n",
       "<table border=\"1\" class=\"dataframe\">\n",
       "  <thead>\n",
       "    <tr style=\"text-align: right;\">\n",
       "      <th></th>\n",
       "      <th>Gender</th>\n",
       "      <th>Name</th>\n",
       "      <th>Status_2009-2010</th>\n",
       "      <th>Sciper</th>\n",
       "      <th>Status_2016-2017</th>\n",
       "      <th>Status_2011-2012</th>\n",
       "      <th>Status_2015-2016</th>\n",
       "      <th>Status_2007-2008</th>\n",
       "      <th>Status_2012-2013</th>\n",
       "      <th>Status_2014-2015</th>\n",
       "      <th>Status_2008-2009</th>\n",
       "      <th>Status_2010-2011</th>\n",
       "      <th>Status_2013-2014</th>\n",
       "    </tr>\n",
       "  </thead>\n",
       "  <tbody>\n",
       "    <tr>\n",
       "      <th>0</th>\n",
       "      <td>Monsieur</td>\n",
       "      <td>Bécholey Alexandre</td>\n",
       "      <td>Congé</td>\n",
       "      <td>160213</td>\n",
       "      <td>NaN</td>\n",
       "      <td>NaN</td>\n",
       "      <td>NaN</td>\n",
       "      <td>NaN</td>\n",
       "      <td>NaN</td>\n",
       "      <td>NaN</td>\n",
       "      <td>NaN</td>\n",
       "      <td>NaN</td>\n",
       "      <td>NaN</td>\n",
       "    </tr>\n",
       "    <tr>\n",
       "      <th>1</th>\n",
       "      <td>Madame</td>\n",
       "      <td>Benabdallah Zeineb</td>\n",
       "      <td>Présent</td>\n",
       "      <td>154573</td>\n",
       "      <td>NaN</td>\n",
       "      <td>NaN</td>\n",
       "      <td>NaN</td>\n",
       "      <td>NaN</td>\n",
       "      <td>NaN</td>\n",
       "      <td>NaN</td>\n",
       "      <td>NaN</td>\n",
       "      <td>NaN</td>\n",
       "      <td>NaN</td>\n",
       "    </tr>\n",
       "    <tr>\n",
       "      <th>2</th>\n",
       "      <td>Monsieur</td>\n",
       "      <td>Cunha Pedro Andre</td>\n",
       "      <td>Présent</td>\n",
       "      <td>185523</td>\n",
       "      <td>NaN</td>\n",
       "      <td>NaN</td>\n",
       "      <td>NaN</td>\n",
       "      <td>NaN</td>\n",
       "      <td>NaN</td>\n",
       "      <td>NaN</td>\n",
       "      <td>NaN</td>\n",
       "      <td>NaN</td>\n",
       "      <td>NaN</td>\n",
       "    </tr>\n",
       "    <tr>\n",
       "      <th>3</th>\n",
       "      <td>Madame</td>\n",
       "      <td>Kostic Teodora</td>\n",
       "      <td>Présent</td>\n",
       "      <td>183605</td>\n",
       "      <td>NaN</td>\n",
       "      <td>NaN</td>\n",
       "      <td>NaN</td>\n",
       "      <td>NaN</td>\n",
       "      <td>NaN</td>\n",
       "      <td>NaN</td>\n",
       "      <td>NaN</td>\n",
       "      <td>NaN</td>\n",
       "      <td>NaN</td>\n",
       "    </tr>\n",
       "    <tr>\n",
       "      <th>4</th>\n",
       "      <td>Monsieur</td>\n",
       "      <td>Raja Yanick</td>\n",
       "      <td>Présent</td>\n",
       "      <td>159516</td>\n",
       "      <td>NaN</td>\n",
       "      <td>NaN</td>\n",
       "      <td>NaN</td>\n",
       "      <td>NaN</td>\n",
       "      <td>NaN</td>\n",
       "      <td>NaN</td>\n",
       "      <td>NaN</td>\n",
       "      <td>NaN</td>\n",
       "      <td>NaN</td>\n",
       "    </tr>\n",
       "  </tbody>\n",
       "</table>\n",
       "</div>"
      ],
      "text/plain": [
       "     Gender                Name Status_2009-2010  Sciper Status_2016-2017  \\\n",
       "0  Monsieur  Bécholey Alexandre            Congé  160213              NaN   \n",
       "1    Madame  Benabdallah Zeineb          Présent  154573              NaN   \n",
       "2  Monsieur   Cunha Pedro Andre          Présent  185523              NaN   \n",
       "3    Madame      Kostic Teodora          Présent  183605              NaN   \n",
       "4  Monsieur         Raja Yanick          Présent  159516              NaN   \n",
       "\n",
       "  Status_2011-2012 Status_2015-2016 Status_2007-2008 Status_2012-2013  \\\n",
       "0              NaN              NaN              NaN              NaN   \n",
       "1              NaN              NaN              NaN              NaN   \n",
       "2              NaN              NaN              NaN              NaN   \n",
       "3              NaN              NaN              NaN              NaN   \n",
       "4              NaN              NaN              NaN              NaN   \n",
       "\n",
       "  Status_2014-2015 Status_2008-2009 Status_2010-2011 Status_2013-2014  \n",
       "0              NaN              NaN              NaN              NaN  \n",
       "1              NaN              NaN              NaN              NaN  \n",
       "2              NaN              NaN              NaN              NaN  \n",
       "3              NaN              NaN              NaN              NaN  \n",
       "4              NaN              NaN              NaN              NaN  "
      ]
     },
<<<<<<< HEAD
     "execution_count": 21,
=======
     "execution_count": 319,
>>>>>>> 42a355946bdebabfad63aa5f0228993ef493ddb0
     "metadata": {},
     "output_type": "execute_result"
    }
   ],
   "source": [
    "joined_table_prj_spring = joinTables(global_table_prj_spring)\n",
    "joined_table_prj_spring.head()"
   ]
  },
  {
   "cell_type": "code",
<<<<<<< HEAD
   "execution_count": 22,
=======
   "execution_count": 320,
>>>>>>> 42a355946bdebabfad63aa5f0228993ef493ddb0
   "metadata": {
    "collapsed": false
   },
   "outputs": [
    {
     "name": "stdout",
     "output_type": "stream",
     "text": [
      "fall shape : \n",
      "(86, 13)\n",
      "spring shape : \n",
      "(42, 13)\n"
     ]
    }
   ],
   "source": [
    "print(\"fall shape : \")\n",
    "print(joined_table_prj_fall.shape)\n",
    "print(\"spring shape : \")\n",
    "print(joined_table_prj_spring.shape)"
   ]
  },
  {
   "cell_type": "code",
<<<<<<< HEAD
   "execution_count": 23,
=======
   "execution_count": 321,
>>>>>>> 42a355946bdebabfad63aa5f0228993ef493ddb0
   "metadata": {
    "collapsed": false
   },
   "outputs": [
    {
     "name": "stdout",
     "output_type": "stream",
     "text": [
      "fall shape before replace   :\n",
      "(86, 13)\n",
      "fall shape after replace    :\n",
      "(86, 13)\n",
      "spring shape before replace :\n",
      "(42, 13)\n",
      "spring shape after replace  :\n",
      "(42, 13)\n"
     ]
    }
   ],
   "source": [
    "table_no_conge_prj_fall = joined_table_prj_fall.replace('Congé', 'Présent').replace('Attente', np.nan).replace('Stage','Présent').dropna(thresh=4)\n",
    "\n",
    "print('fall shape before replace   :')\n",
    "print(joined_table_prj_fall.shape)\n",
    "\n",
    "print('fall shape after replace    :')\n",
    "print(table_no_conge_prj_fall.shape)\n",
    "\n",
    "assert(joined_table_prj_fall.shape==table_no_conge_prj_fall.shape)\n",
    "\n",
    "\n",
    "table_no_conge_prj_spring = joined_table_prj_spring.replace('Congé', 'Présent').replace('Attente', np.nan).replace('Stage','Présent').dropna(thresh=4)\n",
    "\n",
    "print('spring shape before replace :')\n",
    "print(joined_table_prj_spring.shape)\n",
    "\n",
    "print('spring shape after replace  :')\n",
    "print(table_no_conge_prj_spring.shape)\n",
    "\n",
    "assert(joined_table_prj_spring.shape==table_no_conge_prj_spring.shape)"
   ]
  },
  {
   "cell_type": "code",
<<<<<<< HEAD
   "execution_count": 24,
=======
   "execution_count": 322,
>>>>>>> 42a355946bdebabfad63aa5f0228993ef493ddb0
   "metadata": {
    "collapsed": false
   },
   "outputs": [
    {
     "data": {
      "text/plain": [
       "0    2009.0\n",
       "1    2009.0\n",
       "2    2009.0\n",
       "3    2009.0\n",
       "4    2009.0\n",
       "dtype: float64"
      ]
     },
<<<<<<< HEAD
     "execution_count": 24,
=======
     "execution_count": 322,
>>>>>>> 42a355946bdebabfad63aa5f0228993ef493ddb0
     "metadata": {},
     "output_type": "execute_result"
    }
   ],
   "source": [
    "formated_table_prj_fall = formatTable(table_no_conge_prj_fall)\n",
    "prj_fall_max = formated_table_prj_fall.max(axis=1)\n",
    "\n",
    "prj_fall_max.head()\n",
    "\n",
    "formated_table_prj_spring = formatTable(table_no_conge_prj_spring)\n",
    "prj_spring_max = formated_table_prj_spring.max(axis=1)\n",
    "\n",
    "prj_spring_max.head()\n",
    "#print(prj_spring_max)"
   ]
  },
  {
   "cell_type": "code",
<<<<<<< HEAD
   "execution_count": 25,
=======
   "execution_count": 323,
>>>>>>> 42a355946bdebabfad63aa5f0228993ef493ddb0
   "metadata": {
    "collapsed": false
   },
   "outputs": [
    {
     "data": {
      "text/html": [
       "<div>\n",
       "<table border=\"1\" class=\"dataframe\">\n",
       "  <thead>\n",
       "    <tr style=\"text-align: right;\">\n",
       "      <th></th>\n",
       "      <th>Gender</th>\n",
       "      <th>Sciper</th>\n",
       "      <th>End_year_fall</th>\n",
       "    </tr>\n",
       "  </thead>\n",
       "  <tbody>\n",
       "    <tr>\n",
       "      <th>0</th>\n",
       "      <td>Madame</td>\n",
       "      <td>183512</td>\n",
       "      <td>2009.0</td>\n",
       "    </tr>\n",
       "    <tr>\n",
       "      <th>1</th>\n",
       "      <td>Monsieur</td>\n",
       "      <td>160213</td>\n",
       "      <td>2009.0</td>\n",
       "    </tr>\n",
       "    <tr>\n",
       "      <th>2</th>\n",
       "      <td>Madame</td>\n",
       "      <td>183605</td>\n",
       "      <td>2009.0</td>\n",
       "    </tr>\n",
       "    <tr>\n",
       "      <th>3</th>\n",
       "      <td>Monsieur</td>\n",
       "      <td>166075</td>\n",
       "      <td>2016.0</td>\n",
       "    </tr>\n",
       "    <tr>\n",
       "      <th>4</th>\n",
       "      <td>Monsieur</td>\n",
       "      <td>243163</td>\n",
       "      <td>2016.0</td>\n",
       "    </tr>\n",
       "  </tbody>\n",
       "</table>\n",
       "</div>"
      ],
      "text/plain": [
       "     Gender  Sciper  End_year_fall\n",
       "0    Madame  183512         2009.0\n",
       "1  Monsieur  160213         2009.0\n",
       "2    Madame  183605         2009.0\n",
       "3  Monsieur  166075         2016.0\n",
       "4  Monsieur  243163         2016.0"
      ]
     },
<<<<<<< HEAD
     "execution_count": 25,
=======
     "execution_count": 323,
>>>>>>> 42a355946bdebabfad63aa5f0228993ef493ddb0
     "metadata": {},
     "output_type": "execute_result"
    }
   ],
   "source": [
    "prj_fall_string = table_no_conge_prj_fall.drop(table_no_conge_prj_fall.columns[[1,2,4,5,6,7,8,9,10,11,12]], axis=1)\n",
    "prj_fall_final = pd.merge(prj_fall_string, prj_fall_max.to_frame(),left_index=True, right_index=True)\n",
    "prj_fall_final.columns = [['Gender', 'Sciper', 'End_year_fall']]\n",
    "prj_fall_final.head()\n",
    "#print(master1_final)\n"
   ]
  },
  {
   "cell_type": "code",
<<<<<<< HEAD
   "execution_count": 26,
=======
   "execution_count": 324,
>>>>>>> 42a355946bdebabfad63aa5f0228993ef493ddb0
   "metadata": {
    "collapsed": false
   },
   "outputs": [
    {
     "data": {
      "text/html": [
       "<div>\n",
       "<table border=\"1\" class=\"dataframe\">\n",
       "  <thead>\n",
       "    <tr style=\"text-align: right;\">\n",
       "      <th></th>\n",
       "      <th>Gender</th>\n",
       "      <th>Sciper</th>\n",
       "      <th>End_year_spring</th>\n",
       "    </tr>\n",
       "  </thead>\n",
       "  <tbody>\n",
       "    <tr>\n",
       "      <th>0</th>\n",
       "      <td>Monsieur</td>\n",
       "      <td>160213</td>\n",
       "      <td>2009.5</td>\n",
       "    </tr>\n",
       "    <tr>\n",
       "      <th>1</th>\n",
       "      <td>Madame</td>\n",
       "      <td>154573</td>\n",
       "      <td>2009.5</td>\n",
       "    </tr>\n",
       "    <tr>\n",
       "      <th>2</th>\n",
       "      <td>Monsieur</td>\n",
       "      <td>185523</td>\n",
       "      <td>2009.5</td>\n",
       "    </tr>\n",
       "    <tr>\n",
       "      <th>3</th>\n",
       "      <td>Madame</td>\n",
       "      <td>183605</td>\n",
       "      <td>2009.5</td>\n",
       "    </tr>\n",
       "    <tr>\n",
       "      <th>4</th>\n",
       "      <td>Monsieur</td>\n",
       "      <td>159516</td>\n",
       "      <td>2009.5</td>\n",
       "    </tr>\n",
       "  </tbody>\n",
       "</table>\n",
       "</div>"
      ],
      "text/plain": [
       "     Gender  Sciper  End_year_spring\n",
       "0  Monsieur  160213           2009.5\n",
       "1    Madame  154573           2009.5\n",
       "2  Monsieur  185523           2009.5\n",
       "3    Madame  183605           2009.5\n",
       "4  Monsieur  159516           2009.5"
      ]
     },
<<<<<<< HEAD
     "execution_count": 26,
=======
     "execution_count": 324,
>>>>>>> 42a355946bdebabfad63aa5f0228993ef493ddb0
     "metadata": {},
     "output_type": "execute_result"
    }
   ],
   "source": [
    "prj_spring_string = table_no_conge_prj_spring.drop(table_no_conge_prj_spring.columns[[1,2,4,5,6,7,8,9,10,11,12]], axis=1)\n",
    "prj_spring_final = pd.merge(prj_spring_string, prj_spring_max.to_frame(),left_index=True, right_index=True)\n",
    "prj_spring_final.columns = [['Gender', 'Sciper', 'End_year_spring']]\n",
    "\n",
    "year_adjuster= lambda x : x+0.5\n",
    "prj_spring_final['End_year_spring'] = prj_spring_final['End_year_spring'].apply(year_adjuster)\n",
    "prj_spring_final.head()\n",
    "\n",
    "\n",
    "#print(master1_final)"
   ]
  },
  {
   "cell_type": "code",
<<<<<<< HEAD
   "execution_count": 27,
=======
   "execution_count": 325,
>>>>>>> 42a355946bdebabfad63aa5f0228993ef493ddb0
   "metadata": {
    "collapsed": false
   },
   "outputs": [
    {
     "data": {
      "text/html": [
       "<div>\n",
       "<table border=\"1\" class=\"dataframe\">\n",
       "  <thead>\n",
       "    <tr style=\"text-align: right;\">\n",
       "      <th></th>\n",
       "      <th>Gender</th>\n",
       "      <th>Sciper</th>\n",
       "      <th>End_year_fall</th>\n",
       "      <th>End_year_spring</th>\n",
       "    </tr>\n",
       "  </thead>\n",
       "  <tbody>\n",
       "    <tr>\n",
       "      <th>0</th>\n",
       "      <td>Madame</td>\n",
       "      <td>183512</td>\n",
       "      <td>2009.0</td>\n",
       "      <td>NaN</td>\n",
       "    </tr>\n",
       "    <tr>\n",
       "      <th>1</th>\n",
       "      <td>Monsieur</td>\n",
       "      <td>160213</td>\n",
       "      <td>2009.0</td>\n",
       "      <td>2009.5</td>\n",
       "    </tr>\n",
       "    <tr>\n",
       "      <th>2</th>\n",
       "      <td>Madame</td>\n",
       "      <td>183605</td>\n",
       "      <td>2009.0</td>\n",
       "      <td>2009.5</td>\n",
       "    </tr>\n",
       "    <tr>\n",
       "      <th>3</th>\n",
       "      <td>Monsieur</td>\n",
       "      <td>166075</td>\n",
       "      <td>2016.0</td>\n",
       "      <td>NaN</td>\n",
       "    </tr>\n",
       "    <tr>\n",
       "      <th>4</th>\n",
       "      <td>Monsieur</td>\n",
       "      <td>243163</td>\n",
       "      <td>2016.0</td>\n",
       "      <td>NaN</td>\n",
       "    </tr>\n",
       "  </tbody>\n",
       "</table>\n",
       "</div>"
      ],
      "text/plain": [
       "     Gender  Sciper  End_year_fall  End_year_spring\n",
       "0    Madame  183512         2009.0              NaN\n",
       "1  Monsieur  160213         2009.0           2009.5\n",
       "2    Madame  183605         2009.0           2009.5\n",
       "3  Monsieur  166075         2016.0              NaN\n",
       "4  Monsieur  243163         2016.0              NaN"
      ]
     },
<<<<<<< HEAD
     "execution_count": 27,
=======
     "execution_count": 325,
>>>>>>> 42a355946bdebabfad63aa5f0228993ef493ddb0
     "metadata": {},
     "output_type": "execute_result"
    }
   ],
   "source": [
    "projet_end = pd.merge(prj_fall_final, prj_spring_final,how='outer',on=['Gender','Sciper'])\n",
    "projet_end.head()\n",
    "\n",
    "#projet_end.shape\n",
    "#projet_end.loc[projet_end['End_year_fall']==]\n",
    "\n"
   ]
  },
  {
   "cell_type": "code",
<<<<<<< HEAD
   "execution_count": 28,
=======
   "execution_count": 326,
>>>>>>> 42a355946bdebabfad63aa5f0228993ef493ddb0
   "metadata": {
    "collapsed": false
   },
   "outputs": [
    {
     "name": "stdout",
     "output_type": "stream",
     "text": [
      "       Gender  Sciper  End_year_Project\n",
      "0      Madame  183512            2009.0\n",
      "1    Monsieur  160213            2009.5\n",
      "2      Madame  183605            2009.5\n",
      "3    Monsieur  166075            2016.0\n",
      "4    Monsieur  243163            2016.0\n",
      "5    Monsieur  194182            2016.0\n",
      "6    Monsieur  213664            2016.0\n",
      "7    Monsieur  214637            2016.0\n",
      "8    Monsieur  243164            2016.0\n",
      "9    Monsieur  203947            2016.0\n",
      "10   Monsieur  203945            2016.0\n",
      "11   Monsieur  244136            2016.0\n",
      "12   Monsieur  229467            2016.0\n",
      "13   Monsieur  224704            2016.0\n",
      "14   Monsieur  245486            2016.0\n",
      "15   Monsieur  259766            2016.0\n",
      "16   Monsieur  214632            2016.0\n",
      "17   Monsieur  194328            2016.0\n",
      "18   Monsieur  212765            2016.0\n",
      "19   Monsieur  212790            2016.0\n",
      "20   Monsieur  254604            2016.0\n",
      "21   Monsieur  218353            2016.0\n",
      "22   Monsieur  255137            2016.0\n",
      "23   Monsieur  260636            2016.0\n",
      "24   Monsieur  186260            2016.0\n",
      "25   Monsieur  212859            2016.0\n",
      "26   Monsieur  217632            2016.0\n",
      "27   Monsieur  201600            2016.0\n",
      "28   Monsieur  247455            2016.0\n",
      "29   Monsieur  255163            2016.0\n",
      "..        ...     ...               ...\n",
      "91   Monsieur  170265            2009.5\n",
      "92   Monsieur  178553            2011.5\n",
      "93   Monsieur  180731            2011.5\n",
      "94   Monsieur  199654            2011.5\n",
      "95   Monsieur  192861            2011.5\n",
      "96   Monsieur  175190            2011.5\n",
      "97   Monsieur  200419            2011.5\n",
      "98   Monsieur  181115            2011.5\n",
      "99   Monsieur  171091            2011.5\n",
      "100  Monsieur  179670            2011.5\n",
      "101  Monsieur  180959            2011.5\n",
      "102    Madame  196602            2011.5\n",
      "103  Monsieur  199238            2011.5\n",
      "104  Monsieur  153819            2007.5\n",
      "105  Monsieur  145957            2007.5\n",
      "106  Monsieur  173257            2007.5\n",
      "107  Monsieur  160150            2007.5\n",
      "108  Monsieur  206923            2012.5\n",
      "109  Monsieur  172687            2008.5\n",
      "110  Monsieur  180072            2008.5\n",
      "111  Monsieur  160225            2008.5\n",
      "112  Monsieur  165819            2008.5\n",
      "113  Monsieur  179878            2008.5\n",
      "114  Monsieur  177476            2008.5\n",
      "115  Monsieur  161279            2010.5\n",
      "116  Monsieur  166344            2010.5\n",
      "117  Monsieur  166491            2010.5\n",
      "118  Monsieur  174045            2010.5\n",
      "119  Monsieur  175702            2010.5\n",
      "120  Monsieur  222434            2013.5\n",
      "\n",
      "[121 rows x 3 columns]\n"
     ]
    },
    {
     "data": {
      "text/html": [
       "<div>\n",
       "<table border=\"1\" class=\"dataframe\">\n",
       "  <thead>\n",
       "    <tr style=\"text-align: right;\">\n",
       "      <th></th>\n",
       "      <th>End_year_Project</th>\n",
       "    </tr>\n",
       "  </thead>\n",
       "  <tbody>\n",
       "    <tr>\n",
       "      <th>count</th>\n",
       "      <td>121.000000</td>\n",
       "    </tr>\n",
       "    <tr>\n",
       "      <th>mean</th>\n",
       "      <td>2013.115702</td>\n",
       "    </tr>\n",
       "    <tr>\n",
       "      <th>std</th>\n",
       "      <td>3.074600</td>\n",
       "    </tr>\n",
       "    <tr>\n",
       "      <th>min</th>\n",
       "      <td>2007.500000</td>\n",
       "    </tr>\n",
       "    <tr>\n",
       "      <th>25%</th>\n",
       "      <td>2010.500000</td>\n",
       "    </tr>\n",
       "    <tr>\n",
       "      <th>50%</th>\n",
       "      <td>2014.000000</td>\n",
       "    </tr>\n",
       "    <tr>\n",
       "      <th>75%</th>\n",
       "      <td>2016.000000</td>\n",
       "    </tr>\n",
       "    <tr>\n",
       "      <th>max</th>\n",
       "      <td>2016.000000</td>\n",
       "    </tr>\n",
       "  </tbody>\n",
       "</table>\n",
       "</div>"
      ],
      "text/plain": [
       "       End_year_Project\n",
       "count        121.000000\n",
       "mean        2013.115702\n",
       "std            3.074600\n",
       "min         2007.500000\n",
       "25%         2010.500000\n",
       "50%         2014.000000\n",
       "75%         2016.000000\n",
       "max         2016.000000"
      ]
     },
<<<<<<< HEAD
     "execution_count": 28,
=======
     "execution_count": 326,
>>>>>>> 42a355946bdebabfad63aa5f0228993ef493ddb0
     "metadata": {},
     "output_type": "execute_result"
    }
   ],
   "source": [
    "projet_end_year = projet_end.drop(projet_end.columns[[0,1]],axis=1)\n",
    "projet_end_year.shape\n",
    "#print(projet_end_year.head)\n",
    "\n",
    "\n",
    "tmp_projet_real_max_year = projet_end_year.max(axis=1)\n",
    "#print(tmp_projet_real_max_year)\n",
    "\n",
    "\n",
    "final_projet_max_year = pd.merge(projet_end.drop(projet_end.columns[[2,3]],axis=1),tmp_projet_real_max_year.to_frame(),left_index=True,right_index=True)\n",
    "#a = projet_end.drop(projet_end.columns[[0,1]],axis=1)\n",
    "\n",
    "\n",
    "final_projet_max_year.columns = [['Gender', 'Sciper', 'End_year_Project']]\n",
    "print(final_projet_max_year)\n",
    "final_projet_max_year.drop(projet_end.columns[[0,1]],axis=1).describe()\n"
   ]
  },
  {
   "cell_type": "code",
<<<<<<< HEAD
   "execution_count": 29,
=======
   "execution_count": 327,
>>>>>>> 42a355946bdebabfad63aa5f0228993ef493ddb0
   "metadata": {
    "collapsed": false
   },
   "outputs": [
    {
     "data": {
      "text/html": [
       "<div>\n",
       "<table border=\"1\" class=\"dataframe\">\n",
       "  <thead>\n",
       "    <tr style=\"text-align: right;\">\n",
       "      <th></th>\n",
       "      <th>Gender</th>\n",
       "      <th>Sciper</th>\n",
       "      <th>Start_year</th>\n",
       "      <th>End_year_Project</th>\n",
       "    </tr>\n",
       "  </thead>\n",
       "  <tbody>\n",
       "    <tr>\n",
       "      <th>0</th>\n",
       "      <td>Monsieur</td>\n",
       "      <td>161279</td>\n",
       "      <td>2009.0</td>\n",
       "      <td>2010.5</td>\n",
       "    </tr>\n",
       "    <tr>\n",
       "      <th>1</th>\n",
       "      <td>Monsieur</td>\n",
       "      <td>166344</td>\n",
       "      <td>2009.0</td>\n",
       "      <td>2010.5</td>\n",
       "    </tr>\n",
       "    <tr>\n",
       "      <th>2</th>\n",
       "      <td>Monsieur</td>\n",
       "      <td>191471</td>\n",
       "      <td>2009.0</td>\n",
       "      <td>2010.5</td>\n",
       "    </tr>\n",
       "    <tr>\n",
       "      <th>3</th>\n",
       "      <td>Monsieur</td>\n",
       "      <td>192861</td>\n",
       "      <td>2009.0</td>\n",
       "      <td>2011.5</td>\n",
       "    </tr>\n",
       "    <tr>\n",
       "      <th>4</th>\n",
       "      <td>Monsieur</td>\n",
       "      <td>166491</td>\n",
       "      <td>2007.0</td>\n",
       "      <td>2010.5</td>\n",
       "    </tr>\n",
       "  </tbody>\n",
       "</table>\n",
       "</div>"
      ],
      "text/plain": [
       "     Gender  Sciper  Start_year  End_year_Project\n",
       "0  Monsieur  161279      2009.0            2010.5\n",
       "1  Monsieur  166344      2009.0            2010.5\n",
       "2  Monsieur  191471      2009.0            2010.5\n",
       "3  Monsieur  192861      2009.0            2011.5\n",
       "4  Monsieur  166491      2007.0            2010.5"
      ]
     },
<<<<<<< HEAD
     "execution_count": 29,
=======
     "execution_count": 327,
>>>>>>> 42a355946bdebabfad63aa5f0228993ef493ddb0
     "metadata": {},
     "output_type": "execute_result"
    }
   ],
   "source": [
    "\n",
    "\n",
    "master_data = pd.merge(master1_final, final_projet_max_year,how='inner',on=['Gender','Sciper'])\n",
    "master_data.head()\n"
   ]
  },
  {
   "cell_type": "code",
<<<<<<< HEAD
   "execution_count": 30,
=======
   "execution_count": 419,
>>>>>>> 42a355946bdebabfad63aa5f0228993ef493ddb0
   "metadata": {
    "collapsed": false
   },
   "outputs": [
    {
     "data": {
      "text/html": [
       "<div>\n",
       "<table border=\"1\" class=\"dataframe\">\n",
       "  <thead>\n",
       "    <tr style=\"text-align: right;\">\n",
       "      <th></th>\n",
       "      <th>Gender</th>\n",
       "      <th>Sciper</th>\n",
       "      <th>Number_of_year_master</th>\n",
       "    </tr>\n",
       "  </thead>\n",
       "  <tbody>\n",
       "    <tr>\n",
       "      <th>0</th>\n",
       "      <td>Monsieur</td>\n",
       "      <td>210215</td>\n",
       "      <td>2.5</td>\n",
       "    </tr>\n",
       "    <tr>\n",
       "      <th>1</th>\n",
       "      <td>Monsieur</td>\n",
       "      <td>206923</td>\n",
       "      <td>2.0</td>\n",
       "    </tr>\n",
       "    <tr>\n",
       "      <th>2</th>\n",
       "      <td>Monsieur</td>\n",
       "      <td>166075</td>\n",
       "      <td>2.5</td>\n",
       "    </tr>\n",
       "    <tr>\n",
       "      <th>3</th>\n",
       "      <td>Monsieur</td>\n",
       "      <td>194182</td>\n",
       "      <td>3.5</td>\n",
       "    </tr>\n",
       "    <tr>\n",
       "      <th>4</th>\n",
       "      <td>Monsieur</td>\n",
       "      <td>213664</td>\n",
       "      <td>2.5</td>\n",
       "    </tr>\n",
       "    <tr>\n",
       "      <th>5</th>\n",
       "      <td>Monsieur</td>\n",
       "      <td>214637</td>\n",
       "      <td>2.5</td>\n",
       "    </tr>\n",
       "    <tr>\n",
       "      <th>6</th>\n",
       "      <td>Monsieur</td>\n",
       "      <td>243164</td>\n",
       "      <td>2.5</td>\n",
       "    </tr>\n",
       "    <tr>\n",
<<<<<<< HEAD
       "      <th>max</th>\n",
       "      <td>4.000000</td>\n",
       "    </tr>\n",
       "  </tbody>\n",
       "</table>\n",
       "</div>"
      ],
      "text/plain": [
       "       Number_of_year_master\n",
       "count             114.000000\n",
       "mean                2.096491\n",
       "std                 0.514726\n",
       "min                 1.500000\n",
       "25%                 1.500000\n",
       "50%                 2.000000\n",
       "75%                 2.500000\n",
       "max                 4.000000"
      ]
     },
     "execution_count": 30,
     "metadata": {},
     "output_type": "execute_result"
    }
   ],
   "source": [
    "master_duration = (master_data.End_year_Project - master_data.Start_year + 0.5).to_frame()\n",
    "\n",
    "master_duration_clean = pd.merge(master_data.drop(master_data.columns[[2,3]],axis=1),master_duration,left_index=True,right_index=True)\n",
    "master_duration_clean.columns = [['Gender', 'Sciper', 'Number_of_year_master']]\n",
    "\n",
    "master_duration_clean.describe()"
   ]
  },
  {
   "cell_type": "code",
   "execution_count": 31,
   "metadata": {
    "collapsed": false
   },
   "outputs": [
    {
     "data": {
      "text/html": [
       "<div>\n",
       "<table border=\"1\" class=\"dataframe\">\n",
       "  <thead>\n",
       "    <tr style=\"text-align: right;\">\n",
       "      <th></th>\n",
       "      <th>Number_of_year_master</th>\n",
=======
       "      <th>7</th>\n",
       "      <td>Monsieur</td>\n",
       "      <td>203947</td>\n",
       "      <td>2.5</td>\n",
>>>>>>> 42a355946bdebabfad63aa5f0228993ef493ddb0
       "    </tr>\n",
       "    <tr>\n",
       "      <th>8</th>\n",
       "      <td>Monsieur</td>\n",
       "      <td>203945</td>\n",
       "      <td>2.5</td>\n",
       "    </tr>\n",
       "    <tr>\n",
       "      <th>9</th>\n",
       "      <td>Monsieur</td>\n",
       "      <td>244136</td>\n",
       "      <td>2.5</td>\n",
       "    </tr>\n",
       "    <tr>\n",
<<<<<<< HEAD
       "      <th>Monsieur</th>\n",
       "      <td>2.099010</td>\n",
       "    </tr>\n",
       "  </tbody>\n",
       "</table>\n",
       "</div>"
      ],
      "text/plain": [
       "          Number_of_year_master\n",
       "Gender                         \n",
       "Madame                 2.076923\n",
       "Monsieur               2.099010"
      ]
     },
     "execution_count": 31,
     "metadata": {},
     "output_type": "execute_result"
    }
   ],
   "source": [
    "master_duration_clean.groupby('Gender').mean()"
   ]
  },
  {
   "cell_type": "markdown",
   "metadata": {},
   "source": [
    "## Specialisation"
   ]
  },
  {
   "cell_type": "code",
   "execution_count": 32,
   "metadata": {
    "collapsed": false,
    "scrolled": true
   },
   "outputs": [],
   "source": [
    "master_sem1_spec = getResultAllYearsSpec('Master semestre 1')"
   ]
  },
  {
   "cell_type": "code",
   "execution_count": 33,
   "metadata": {
    "collapsed": false
   },
   "outputs": [],
   "source": [
    "master_sem2_spec = getResultAllYearsSpec('Master semestre 2')"
   ]
  },
  {
   "cell_type": "code",
   "execution_count": 34,
   "metadata": {
    "collapsed": true
   },
   "outputs": [],
   "source": [
    "master_sem3_spec = getResultAllYearsSpec('Master semestre 3')"
   ]
  },
  {
   "cell_type": "code",
   "execution_count": 54,
   "metadata": {
    "collapsed": false
   },
   "outputs": [
    {
     "data": {
      "text/plain": [
       "4             Foundations of Software\n",
       "12                 Internet computing\n",
       "19                 Internet computing\n",
       "23            Foundations of Software\n",
       "30            Foundations of Software\n",
       "33          Computer Engineering - SP\n",
       "36          Computer Engineering - SP\n",
       "39                    Service science\n",
       "41                    Service science\n",
       "42            Foundations of Software\n",
       "44                 Internet computing\n",
       "49                 Internet computing\n",
       "56            Foundations of Software\n",
       "58                   Software Systems\n",
       "59            Foundations of Software\n",
       "71                     Data Analytics\n",
       "76     Signals, Images and Interfaces\n",
       "84          Computer Engineering - SP\n",
       "88                   Software Systems\n",
       "106    Signals, Images and Interfaces\n",
       "135           Foundations of Software\n",
       "158                    Data Analytics\n",
       "176                    Data Analytics\n",
       "180                    Data Analytics\n",
       "202    Signals, Images and Interfaces\n",
       "212                Internet computing\n",
       "215                  Software Systems\n",
       "219    Signals, Images and Interfaces\n",
       "239           Foundations of Software\n",
       "244           Foundations of Software\n",
       "                    ...              \n",
       "542                Internet computing\n",
       "565                Internet computing\n",
       "576    Signals, Images and Interfaces\n",
       "580                Internet computing\n",
       "602                Internet computing\n",
       "608         Information Security - SP\n",
       "609                Internet computing\n",
       "612           Foundations of Software\n",
       "633                Internet computing\n",
       "641                  Software Systems\n",
       "651                Internet computing\n",
       "656                  Software Systems\n",
       "674           Foundations of Software\n",
       "685                Internet computing\n",
       "694           Foundations of Software\n",
       "702    Signals, Images and Interfaces\n",
       "704                Internet computing\n",
       "710         Computer Engineering - SP\n",
       "723    Signals, Images and Interfaces\n",
       "726    Signals, Images and Interfaces\n",
       "732         Computer Engineering - SP\n",
       "736    Signals, Images and Interfaces\n",
       "750           Foundations of Software\n",
       "761    Signals, Images and Interfaces\n",
       "762                Internet computing\n",
       "793                Internet computing\n",
       "827    Signals, Images and Interfaces\n",
       "838           Foundations of Software\n",
       "842           Foundations of Software\n",
       "861                Internet computing\n",
       "dtype: object"
      ]
     },
     "execution_count": 54,
=======
       "      <th>10</th>\n",
       "      <td>Monsieur</td>\n",
       "      <td>245486</td>\n",
       "      <td>2.5</td>\n",
       "    </tr>\n",
       "    <tr>\n",
       "      <th>11</th>\n",
       "      <td>Monsieur</td>\n",
       "      <td>214632</td>\n",
       "      <td>2.5</td>\n",
       "    </tr>\n",
       "    <tr>\n",
       "      <th>12</th>\n",
       "      <td>Monsieur</td>\n",
       "      <td>194328</td>\n",
       "      <td>2.5</td>\n",
       "    </tr>\n",
       "    <tr>\n",
       "      <th>13</th>\n",
       "      <td>Monsieur</td>\n",
       "      <td>212790</td>\n",
       "      <td>2.5</td>\n",
       "    </tr>\n",
       "    <tr>\n",
       "      <th>14</th>\n",
       "      <td>Monsieur</td>\n",
       "      <td>218353</td>\n",
       "      <td>2.5</td>\n",
       "    </tr>\n",
       "    <tr>\n",
       "      <th>15</th>\n",
       "      <td>Monsieur</td>\n",
       "      <td>212859</td>\n",
       "      <td>2.5</td>\n",
       "    </tr>\n",
       "    <tr>\n",
       "      <th>16</th>\n",
       "      <td>Monsieur</td>\n",
       "      <td>217632</td>\n",
       "      <td>2.5</td>\n",
       "    </tr>\n",
       "    <tr>\n",
       "      <th>17</th>\n",
       "      <td>Monsieur</td>\n",
       "      <td>201600</td>\n",
       "      <td>3.5</td>\n",
       "    </tr>\n",
       "    <tr>\n",
       "      <th>18</th>\n",
       "      <td>Monsieur</td>\n",
       "      <td>247455</td>\n",
       "      <td>2.5</td>\n",
       "    </tr>\n",
       "    <tr>\n",
       "      <th>19</th>\n",
       "      <td>Monsieur</td>\n",
       "      <td>204253</td>\n",
       "      <td>2.5</td>\n",
       "    </tr>\n",
       "    <tr>\n",
       "      <th>20</th>\n",
       "      <td>Monsieur</td>\n",
       "      <td>214200</td>\n",
       "      <td>2.5</td>\n",
       "    </tr>\n",
       "    <tr>\n",
       "      <th>21</th>\n",
       "      <td>Monsieur</td>\n",
       "      <td>227848</td>\n",
       "      <td>2.5</td>\n",
       "    </tr>\n",
       "    <tr>\n",
       "      <th>22</th>\n",
       "      <td>Madame</td>\n",
       "      <td>235878</td>\n",
       "      <td>2.5</td>\n",
       "    </tr>\n",
       "    <tr>\n",
       "      <th>23</th>\n",
       "      <td>Monsieur</td>\n",
       "      <td>200246</td>\n",
       "      <td>2.5</td>\n",
       "    </tr>\n",
       "    <tr>\n",
       "      <th>24</th>\n",
       "      <td>Monsieur</td>\n",
       "      <td>213584</td>\n",
       "      <td>2.5</td>\n",
       "    </tr>\n",
       "    <tr>\n",
       "      <th>25</th>\n",
       "      <td>Madame</td>\n",
       "      <td>217301</td>\n",
       "      <td>2.5</td>\n",
       "    </tr>\n",
       "    <tr>\n",
       "      <th>26</th>\n",
       "      <td>Monsieur</td>\n",
       "      <td>244587</td>\n",
       "      <td>2.5</td>\n",
       "    </tr>\n",
       "    <tr>\n",
       "      <th>27</th>\n",
       "      <td>Monsieur</td>\n",
       "      <td>214273</td>\n",
       "      <td>2.5</td>\n",
       "    </tr>\n",
       "    <tr>\n",
       "      <th>28</th>\n",
       "      <td>Monsieur</td>\n",
       "      <td>214101</td>\n",
       "      <td>2.5</td>\n",
       "    </tr>\n",
       "    <tr>\n",
       "      <th>29</th>\n",
       "      <td>Monsieur</td>\n",
       "      <td>216702</td>\n",
       "      <td>2.5</td>\n",
       "    </tr>\n",
       "    <tr>\n",
       "      <th>...</th>\n",
       "      <td>...</td>\n",
       "      <td>...</td>\n",
       "      <td>...</td>\n",
       "    </tr>\n",
       "    <tr>\n",
       "      <th>84</th>\n",
       "      <td>Monsieur</td>\n",
       "      <td>255163</td>\n",
       "      <td>1.5</td>\n",
       "    </tr>\n",
       "    <tr>\n",
       "      <th>85</th>\n",
       "      <td>Monsieur</td>\n",
       "      <td>227356</td>\n",
       "      <td>1.5</td>\n",
       "    </tr>\n",
       "    <tr>\n",
       "      <th>86</th>\n",
       "      <td>Monsieur</td>\n",
       "      <td>260811</td>\n",
       "      <td>1.5</td>\n",
       "    </tr>\n",
       "    <tr>\n",
       "      <th>87</th>\n",
       "      <td>Monsieur</td>\n",
       "      <td>228496</td>\n",
       "      <td>1.5</td>\n",
       "    </tr>\n",
       "    <tr>\n",
       "      <th>88</th>\n",
       "      <td>Monsieur</td>\n",
       "      <td>256722</td>\n",
       "      <td>1.5</td>\n",
       "    </tr>\n",
       "    <tr>\n",
       "      <th>89</th>\n",
       "      <td>Monsieur</td>\n",
       "      <td>259910</td>\n",
       "      <td>1.5</td>\n",
       "    </tr>\n",
       "    <tr>\n",
       "      <th>90</th>\n",
       "      <td>Monsieur</td>\n",
       "      <td>225323</td>\n",
       "      <td>1.5</td>\n",
       "    </tr>\n",
       "    <tr>\n",
       "      <th>91</th>\n",
       "      <td>Madame</td>\n",
       "      <td>225388</td>\n",
       "      <td>1.5</td>\n",
       "    </tr>\n",
       "    <tr>\n",
       "      <th>92</th>\n",
       "      <td>Monsieur</td>\n",
       "      <td>193832</td>\n",
       "      <td>1.5</td>\n",
       "    </tr>\n",
       "    <tr>\n",
       "      <th>93</th>\n",
       "      <td>Monsieur</td>\n",
       "      <td>256846</td>\n",
       "      <td>1.5</td>\n",
       "    </tr>\n",
       "    <tr>\n",
       "      <th>94</th>\n",
       "      <td>Monsieur</td>\n",
       "      <td>225316</td>\n",
       "      <td>1.5</td>\n",
       "    </tr>\n",
       "    <tr>\n",
       "      <th>95</th>\n",
       "      <td>Monsieur</td>\n",
       "      <td>161279</td>\n",
       "      <td>2.0</td>\n",
       "    </tr>\n",
       "    <tr>\n",
       "      <th>96</th>\n",
       "      <td>Monsieur</td>\n",
       "      <td>166344</td>\n",
       "      <td>2.0</td>\n",
       "    </tr>\n",
       "    <tr>\n",
       "      <th>97</th>\n",
       "      <td>Monsieur</td>\n",
       "      <td>191471</td>\n",
       "      <td>2.0</td>\n",
       "    </tr>\n",
       "    <tr>\n",
       "      <th>98</th>\n",
       "      <td>Monsieur</td>\n",
       "      <td>192861</td>\n",
       "      <td>3.0</td>\n",
       "    </tr>\n",
       "    <tr>\n",
       "      <th>99</th>\n",
       "      <td>Monsieur</td>\n",
       "      <td>174045</td>\n",
       "      <td>2.0</td>\n",
       "    </tr>\n",
       "    <tr>\n",
       "      <th>100</th>\n",
       "      <td>Monsieur</td>\n",
       "      <td>191313</td>\n",
       "      <td>1.5</td>\n",
       "    </tr>\n",
       "    <tr>\n",
       "      <th>101</th>\n",
       "      <td>Monsieur</td>\n",
       "      <td>175702</td>\n",
       "      <td>2.0</td>\n",
       "    </tr>\n",
       "    <tr>\n",
       "      <th>102</th>\n",
       "      <td>Madame</td>\n",
       "      <td>180027</td>\n",
       "      <td>1.5</td>\n",
       "    </tr>\n",
       "    <tr>\n",
       "      <th>103</th>\n",
       "      <td>Madame</td>\n",
       "      <td>154573</td>\n",
       "      <td>3.0</td>\n",
       "    </tr>\n",
       "    <tr>\n",
       "      <th>104</th>\n",
       "      <td>Monsieur</td>\n",
       "      <td>172687</td>\n",
       "      <td>2.0</td>\n",
       "    </tr>\n",
       "    <tr>\n",
       "      <th>105</th>\n",
       "      <td>Monsieur</td>\n",
       "      <td>180072</td>\n",
       "      <td>2.0</td>\n",
       "    </tr>\n",
       "    <tr>\n",
       "      <th>106</th>\n",
       "      <td>Monsieur</td>\n",
       "      <td>160225</td>\n",
       "      <td>2.0</td>\n",
       "    </tr>\n",
       "    <tr>\n",
       "      <th>107</th>\n",
       "      <td>Monsieur</td>\n",
       "      <td>166805</td>\n",
       "      <td>1.5</td>\n",
       "    </tr>\n",
       "    <tr>\n",
       "      <th>108</th>\n",
       "      <td>Monsieur</td>\n",
       "      <td>172264</td>\n",
       "      <td>1.5</td>\n",
       "    </tr>\n",
       "    <tr>\n",
       "      <th>109</th>\n",
       "      <td>Monsieur</td>\n",
       "      <td>165819</td>\n",
       "      <td>2.0</td>\n",
       "    </tr>\n",
       "    <tr>\n",
       "      <th>110</th>\n",
       "      <td>Monsieur</td>\n",
       "      <td>179878</td>\n",
       "      <td>2.0</td>\n",
       "    </tr>\n",
       "    <tr>\n",
       "      <th>111</th>\n",
       "      <td>Monsieur</td>\n",
       "      <td>177476</td>\n",
       "      <td>2.0</td>\n",
       "    </tr>\n",
       "    <tr>\n",
       "      <th>112</th>\n",
       "      <td>Monsieur</td>\n",
       "      <td>233184</td>\n",
       "      <td>2.5</td>\n",
       "    </tr>\n",
       "    <tr>\n",
       "      <th>113</th>\n",
       "      <td>Monsieur</td>\n",
       "      <td>233543</td>\n",
       "      <td>2.5</td>\n",
       "    </tr>\n",
       "  </tbody>\n",
       "</table>\n",
       "<p>114 rows × 3 columns</p>\n",
       "</div>"
      ],
      "text/plain": [
       "       Gender  Sciper  Number_of_year_master\n",
       "0    Monsieur  210215                    2.5\n",
       "1    Monsieur  206923                    2.0\n",
       "2    Monsieur  166075                    2.5\n",
       "3    Monsieur  194182                    3.5\n",
       "4    Monsieur  213664                    2.5\n",
       "5    Monsieur  214637                    2.5\n",
       "6    Monsieur  243164                    2.5\n",
       "7    Monsieur  203947                    2.5\n",
       "8    Monsieur  203945                    2.5\n",
       "9    Monsieur  244136                    2.5\n",
       "10   Monsieur  245486                    2.5\n",
       "11   Monsieur  214632                    2.5\n",
       "12   Monsieur  194328                    2.5\n",
       "13   Monsieur  212790                    2.5\n",
       "14   Monsieur  218353                    2.5\n",
       "15   Monsieur  212859                    2.5\n",
       "16   Monsieur  217632                    2.5\n",
       "17   Monsieur  201600                    3.5\n",
       "18   Monsieur  247455                    2.5\n",
       "19   Monsieur  204253                    2.5\n",
       "20   Monsieur  214200                    2.5\n",
       "21   Monsieur  227848                    2.5\n",
       "22     Madame  235878                    2.5\n",
       "23   Monsieur  200246                    2.5\n",
       "24   Monsieur  213584                    2.5\n",
       "25     Madame  217301                    2.5\n",
       "26   Monsieur  244587                    2.5\n",
       "27   Monsieur  214273                    2.5\n",
       "28   Monsieur  214101                    2.5\n",
       "29   Monsieur  216702                    2.5\n",
       "..        ...     ...                    ...\n",
       "84   Monsieur  255163                    1.5\n",
       "85   Monsieur  227356                    1.5\n",
       "86   Monsieur  260811                    1.5\n",
       "87   Monsieur  228496                    1.5\n",
       "88   Monsieur  256722                    1.5\n",
       "89   Monsieur  259910                    1.5\n",
       "90   Monsieur  225323                    1.5\n",
       "91     Madame  225388                    1.5\n",
       "92   Monsieur  193832                    1.5\n",
       "93   Monsieur  256846                    1.5\n",
       "94   Monsieur  225316                    1.5\n",
       "95   Monsieur  161279                    2.0\n",
       "96   Monsieur  166344                    2.0\n",
       "97   Monsieur  191471                    2.0\n",
       "98   Monsieur  192861                    3.0\n",
       "99   Monsieur  174045                    2.0\n",
       "100  Monsieur  191313                    1.5\n",
       "101  Monsieur  175702                    2.0\n",
       "102    Madame  180027                    1.5\n",
       "103    Madame  154573                    3.0\n",
       "104  Monsieur  172687                    2.0\n",
       "105  Monsieur  180072                    2.0\n",
       "106  Monsieur  160225                    2.0\n",
       "107  Monsieur  166805                    1.5\n",
       "108  Monsieur  172264                    1.5\n",
       "109  Monsieur  165819                    2.0\n",
       "110  Monsieur  179878                    2.0\n",
       "111  Monsieur  177476                    2.0\n",
       "112  Monsieur  233184                    2.5\n",
       "113  Monsieur  233543                    2.5\n",
       "\n",
       "[114 rows x 3 columns]"
      ]
     },
     "execution_count": 419,
>>>>>>> 42a355946bdebabfad63aa5f0228993ef493ddb0
     "metadata": {},
     "output_type": "execute_result"
    }
   ],
   "source": [
<<<<<<< HEAD
    "joined_table_master1_spec = joinTables(master_sem1_spec)\n",
    "joined_table_master1_spec = joined_table_master1_spec.replace('',np.nan)\n",
    "#joined_table_master1_spec.dropna(thresh=)\n",
    "joined_table_master1_spec.shape\n",
    "sciper_num_master1_spec = joined_table_master1_spec.drop(joined_table_master1_spec.columns[[0,1,2,5,7,9,11,13,15,17,19,21]],axis=1)\n",
    "sciper_num_master1_spec = sciper_num_master1_spec.dropna(thresh=2)\n",
    "\n",
    "\n",
    "\n",
    "sciper_num_master1_spec = sciper_num_master1_spec.replace(np.nan,'')\n",
    "\n",
    "\n",
    "\n",
    "#sciper_num_master1_spec\n",
    "\n",
    "sciper_num_master1_spec.columns = ['0', '1', '2', '3', '4', '5', '6', '7', '8', '9', '10']\n",
    "\n",
    "test = sciper_num_master1_spec['1']\n",
    "for i in range(2, 11):\n",
    "    test = test + sciper_num_master1_spec[str(i)]\n",
    "    \n",
    "test\n",
    "#sciper_num_master1_spec = sciper_num_master1_spec.max(axis=1,skipna=True)\n",
    "#sciper_num_master1_spec = sciper_num_master1_spec.replace(np.nan,'')\n",
    "#sciper_num_master1_spec\n",
    "#sciper_num_master1_spec = sciper_num_master1_spec.drop(sciper_num_master1_spec.columns[[1,2,3,4,5,6,7,8,9,10]],axis#=1)\n",
    "#sciper_num_master1_spec\n",
    "#final_projet_max_year = pd.merge(projet_end.drop(projet_end.columns[[2,3]],axis=1),tmp_projet_real_max_year.to_frame(),left_index=True,right_index=True)"
=======
    "master_duration = (master_data.End_year_Project - master_data.Start_year + 0.5).to_frame()\n",
    "\n",
    "master_duration_clean = pd.merge(master_data.drop(master_data.columns[[2,3]],axis=1),master_duration,left_index=True,right_index=True)\n",
    "master_duration_clean.columns = [['Gender', 'Sciper', 'Number_of_year_master']]\n",
    "\n",
    "master_duration_clean"
   ]
  },
  {
   "cell_type": "code",
   "execution_count": 329,
   "metadata": {
    "collapsed": false
   },
   "outputs": [
    {
     "data": {
      "text/html": [
       "<div>\n",
       "<table border=\"1\" class=\"dataframe\">\n",
       "  <thead>\n",
       "    <tr style=\"text-align: right;\">\n",
       "      <th></th>\n",
       "      <th>Number_of_year_master</th>\n",
       "    </tr>\n",
       "    <tr>\n",
       "      <th>Gender</th>\n",
       "      <th></th>\n",
       "    </tr>\n",
       "  </thead>\n",
       "  <tbody>\n",
       "    <tr>\n",
       "      <th>Madame</th>\n",
       "      <td>2.076923</td>\n",
       "    </tr>\n",
       "    <tr>\n",
       "      <th>Monsieur</th>\n",
       "      <td>2.099010</td>\n",
       "    </tr>\n",
       "  </tbody>\n",
       "</table>\n",
       "</div>"
      ],
      "text/plain": [
       "          Number_of_year_master\n",
       "Gender                         \n",
       "Madame                 2.076923\n",
       "Monsieur               2.099010"
      ]
     },
     "execution_count": 329,
     "metadata": {},
     "output_type": "execute_result"
    }
   ],
   "source": [
    "master_duration_clean.groupby('Gender').mean()"
   ]
  },
  {
   "cell_type": "markdown",
   "metadata": {},
   "source": [
    "## Specialisation"
   ]
  },
  {
   "cell_type": "code",
   "execution_count": 330,
   "metadata": {
    "collapsed": false,
    "scrolled": true
   },
   "outputs": [],
   "source": [
    "master_sem1_spec = getResultAllYearsSpec('Master semestre 1')"
   ]
  },
  {
   "cell_type": "code",
   "execution_count": 331,
   "metadata": {
    "collapsed": false
   },
   "outputs": [],
   "source": [
    "master_sem2_spec = getResultAllYearsSpec('Master semestre 2')"
   ]
  },
  {
   "cell_type": "code",
   "execution_count": 332,
   "metadata": {
    "collapsed": false
   },
   "outputs": [
    {
     "ename": "KeyboardInterrupt",
     "evalue": "",
     "output_type": "error",
     "traceback": [
      "\u001b[0;31m---------------------------------------------------------------------------\u001b[0m",
      "\u001b[0;31mTypeError\u001b[0m                                 Traceback (most recent call last)",
      "\u001b[0;32m/Users/jeremie/anaconda3/lib/python3.5/site-packages/requests/packages/urllib3/connectionpool.py\u001b[0m in \u001b[0;36m_make_request\u001b[0;34m(self, conn, method, url, timeout, chunked, **httplib_request_kw)\u001b[0m\n\u001b[1;32m    385\u001b[0m             \u001b[0;32mtry\u001b[0m\u001b[0;34m:\u001b[0m  \u001b[0;31m# Python 2.7, use buffering of HTTP responses\u001b[0m\u001b[0;34m\u001b[0m\u001b[0m\n\u001b[0;32m--> 386\u001b[0;31m                 \u001b[0mhttplib_response\u001b[0m \u001b[0;34m=\u001b[0m \u001b[0mconn\u001b[0m\u001b[0;34m.\u001b[0m\u001b[0mgetresponse\u001b[0m\u001b[0;34m(\u001b[0m\u001b[0mbuffering\u001b[0m\u001b[0;34m=\u001b[0m\u001b[0;32mTrue\u001b[0m\u001b[0;34m)\u001b[0m\u001b[0;34m\u001b[0m\u001b[0m\n\u001b[0m\u001b[1;32m    387\u001b[0m             \u001b[0;32mexcept\u001b[0m \u001b[0mTypeError\u001b[0m\u001b[0;34m:\u001b[0m  \u001b[0;31m# Python 2.6 and older, Python 3\u001b[0m\u001b[0;34m\u001b[0m\u001b[0m\n",
      "\u001b[0;31mTypeError\u001b[0m: getresponse() got an unexpected keyword argument 'buffering'",
      "\nDuring handling of the above exception, another exception occurred:\n",
      "\u001b[0;31mKeyboardInterrupt\u001b[0m                         Traceback (most recent call last)",
      "\u001b[0;32m<ipython-input-332-474b6bbd9ada>\u001b[0m in \u001b[0;36m<module>\u001b[0;34m()\u001b[0m\n\u001b[0;32m----> 1\u001b[0;31m \u001b[0mmaster_sem3_spec\u001b[0m \u001b[0;34m=\u001b[0m \u001b[0mgetResultAllYearsSpec\u001b[0m\u001b[0;34m(\u001b[0m\u001b[0;34m'Master semestre 3'\u001b[0m\u001b[0;34m)\u001b[0m\u001b[0;34m\u001b[0m\u001b[0m\n\u001b[0m",
      "\u001b[0;32m<ipython-input-306-23a7d9020e36>\u001b[0m in \u001b[0;36mgetResultAllYearsSpec\u001b[0;34m(semester)\u001b[0m\n\u001b[1;32m      2\u001b[0m     \u001b[0mglobal_table\u001b[0m \u001b[0;34m=\u001b[0m \u001b[0;34m[\u001b[0m\u001b[0;34m]\u001b[0m\u001b[0;34m\u001b[0m\u001b[0m\n\u001b[1;32m      3\u001b[0m     \u001b[0;32mfor\u001b[0m \u001b[0myear_id\u001b[0m \u001b[0;32min\u001b[0m \u001b[0myear_ids\u001b[0m\u001b[0;34m:\u001b[0m\u001b[0;34m\u001b[0m\u001b[0m\n\u001b[0;32m----> 4\u001b[0;31m         \u001b[0msoup\u001b[0m \u001b[0;34m=\u001b[0m \u001b[0mgetResultPage\u001b[0m\u001b[0;34m(\u001b[0m\u001b[0myear_id\u001b[0m\u001b[0;34m,\u001b[0m \u001b[0msemester\u001b[0m\u001b[0;34m)\u001b[0m\u001b[0;34m\u001b[0m\u001b[0m\n\u001b[0m\u001b[1;32m      5\u001b[0m \u001b[0;34m\u001b[0m\u001b[0m\n\u001b[1;32m      6\u001b[0m         \u001b[0mstudents_tr\u001b[0m \u001b[0;34m=\u001b[0m \u001b[0msoup\u001b[0m\u001b[0;34m.\u001b[0m\u001b[0mbody\u001b[0m\u001b[0;34m.\u001b[0m\u001b[0mhr\u001b[0m\u001b[0;34m.\u001b[0m\u001b[0mtable\u001b[0m\u001b[0;34m.\u001b[0m\u001b[0mfind_all\u001b[0m\u001b[0;34m(\u001b[0m\u001b[0;34m'tr'\u001b[0m\u001b[0;34m)\u001b[0m\u001b[0;34m[\u001b[0m\u001b[0;36m2\u001b[0m\u001b[0;34m:\u001b[0m\u001b[0;34m]\u001b[0m\u001b[0;34m\u001b[0m\u001b[0m\n",
      "\u001b[0;32m<ipython-input-304-b32e92eec629>\u001b[0m in \u001b[0;36mgetResultPage\u001b[0;34m(academic_year, semester)\u001b[0m\n\u001b[1;32m      1\u001b[0m \u001b[0;32mdef\u001b[0m \u001b[0mgetResultPage\u001b[0m\u001b[0;34m(\u001b[0m\u001b[0macademic_year\u001b[0m\u001b[0;34m,\u001b[0m \u001b[0msemester\u001b[0m\u001b[0;34m)\u001b[0m\u001b[0;34m:\u001b[0m\u001b[0;34m\u001b[0m\u001b[0m\n\u001b[0;32m----> 2\u001b[0;31m     \u001b[0mfilteredPage\u001b[0m\u001b[0;34m,\u001b[0m \u001b[0mparams\u001b[0m \u001b[0;34m=\u001b[0m \u001b[0mgetFilteredPage\u001b[0m\u001b[0;34m(\u001b[0m\u001b[0macademic_year\u001b[0m\u001b[0;34m,\u001b[0m \u001b[0msemester\u001b[0m\u001b[0;34m)\u001b[0m\u001b[0;34m\u001b[0m\u001b[0m\n\u001b[0m\u001b[1;32m      3\u001b[0m     \u001b[0mparams\u001b[0m\u001b[0;34m[\u001b[0m\u001b[0;34m'ww_x_GPS'\u001b[0m\u001b[0;34m]\u001b[0m \u001b[0;34m=\u001b[0m \u001b[0mfilteredPage\u001b[0m\u001b[0;34m.\u001b[0m\u001b[0mfind_all\u001b[0m\u001b[0;34m(\u001b[0m\u001b[0;34m'a'\u001b[0m\u001b[0;34m)\u001b[0m\u001b[0;34m[\u001b[0m\u001b[0;36m1\u001b[0m\u001b[0;34m]\u001b[0m\u001b[0;34m.\u001b[0m\u001b[0mget\u001b[0m\u001b[0;34m(\u001b[0m\u001b[0;34m'onclick'\u001b[0m\u001b[0;34m)\u001b[0m\u001b[0;34m.\u001b[0m\u001b[0msplit\u001b[0m\u001b[0;34m(\u001b[0m\u001b[0;34m\"ww_x_GPS=\"\u001b[0m\u001b[0;34m)\u001b[0m\u001b[0;34m[\u001b[0m\u001b[0;36m1\u001b[0m\u001b[0;34m]\u001b[0m\u001b[0;34m.\u001b[0m\u001b[0msplit\u001b[0m\u001b[0;34m(\u001b[0m\u001b[0;34m\"')\"\u001b[0m\u001b[0;34m)\u001b[0m\u001b[0;34m[\u001b[0m\u001b[0;36m0\u001b[0m\u001b[0;34m]\u001b[0m\u001b[0;34m\u001b[0m\u001b[0m\n\u001b[1;32m      4\u001b[0m     \u001b[0mr\u001b[0m \u001b[0;34m=\u001b[0m \u001b[0mrequests\u001b[0m\u001b[0;34m.\u001b[0m\u001b[0mget\u001b[0m\u001b[0;34m(\u001b[0m\u001b[0;34m'http://isa.epfl.ch/imoniteur_ISAP/!GEDPUBLICREPORTS.bhtml?'\u001b[0m\u001b[0;34m,\u001b[0m \u001b[0mparams\u001b[0m\u001b[0;34m)\u001b[0m\u001b[0;34m\u001b[0m\u001b[0m\n\u001b[1;32m      5\u001b[0m     \u001b[0;32mreturn\u001b[0m \u001b[0mBeautifulSoup\u001b[0m\u001b[0;34m(\u001b[0m\u001b[0mr\u001b[0m\u001b[0;34m.\u001b[0m\u001b[0mtext\u001b[0m\u001b[0;34m,\u001b[0m \u001b[0;34m'html.parser'\u001b[0m\u001b[0;34m)\u001b[0m\u001b[0;34m\u001b[0m\u001b[0m\n",
      "\u001b[0;32m<ipython-input-303-f81b9e00d0f3>\u001b[0m in \u001b[0;36mgetFilteredPage\u001b[0;34m(academic_year, semester)\u001b[0m\n\u001b[1;32m      6\u001b[0m             \u001b[0;34m'ww_x_PERIODE_ACAD'\u001b[0m\u001b[0;34m:\u001b[0m\u001b[0myear_ids\u001b[0m\u001b[0;34m[\u001b[0m\u001b[0macademic_year\u001b[0m\u001b[0;34m]\u001b[0m\u001b[0;34m,\u001b[0m\u001b[0;34m\u001b[0m\u001b[0m\n\u001b[1;32m      7\u001b[0m             'ww_x_PERIODE_PEDAGO':master_semester_ids[semester]}\n\u001b[0;32m----> 8\u001b[0;31m     \u001b[0mr\u001b[0m \u001b[0;34m=\u001b[0m \u001b[0mrequests\u001b[0m\u001b[0;34m.\u001b[0m\u001b[0mget\u001b[0m\u001b[0;34m(\u001b[0m\u001b[0;34m'http://isa.epfl.ch/imoniteur_ISAP/!GEDPUBLICREPORTS.filter?'\u001b[0m\u001b[0;34m,\u001b[0m \u001b[0mparams\u001b[0m\u001b[0;34m)\u001b[0m\u001b[0;34m\u001b[0m\u001b[0m\n\u001b[0m\u001b[1;32m      9\u001b[0m     \u001b[0mhtml_doc\u001b[0m \u001b[0;34m=\u001b[0m \u001b[0mr\u001b[0m\u001b[0;34m.\u001b[0m\u001b[0mtext\u001b[0m\u001b[0;34m\u001b[0m\u001b[0m\n\u001b[1;32m     10\u001b[0m     \u001b[0;32mreturn\u001b[0m \u001b[0mBeautifulSoup\u001b[0m\u001b[0;34m(\u001b[0m\u001b[0mhtml_doc\u001b[0m\u001b[0;34m,\u001b[0m \u001b[0;34m'html.parser'\u001b[0m\u001b[0;34m)\u001b[0m\u001b[0;34m,\u001b[0m \u001b[0mparams\u001b[0m\u001b[0;34m\u001b[0m\u001b[0m\n",
      "\u001b[0;32m/Users/jeremie/anaconda3/lib/python3.5/site-packages/requests/api.py\u001b[0m in \u001b[0;36mget\u001b[0;34m(url, params, **kwargs)\u001b[0m\n\u001b[1;32m     68\u001b[0m \u001b[0;34m\u001b[0m\u001b[0m\n\u001b[1;32m     69\u001b[0m     \u001b[0mkwargs\u001b[0m\u001b[0;34m.\u001b[0m\u001b[0msetdefault\u001b[0m\u001b[0;34m(\u001b[0m\u001b[0;34m'allow_redirects'\u001b[0m\u001b[0;34m,\u001b[0m \u001b[0;32mTrue\u001b[0m\u001b[0;34m)\u001b[0m\u001b[0;34m\u001b[0m\u001b[0m\n\u001b[0;32m---> 70\u001b[0;31m     \u001b[0;32mreturn\u001b[0m \u001b[0mrequest\u001b[0m\u001b[0;34m(\u001b[0m\u001b[0;34m'get'\u001b[0m\u001b[0;34m,\u001b[0m \u001b[0murl\u001b[0m\u001b[0;34m,\u001b[0m \u001b[0mparams\u001b[0m\u001b[0;34m=\u001b[0m\u001b[0mparams\u001b[0m\u001b[0;34m,\u001b[0m \u001b[0;34m**\u001b[0m\u001b[0mkwargs\u001b[0m\u001b[0;34m)\u001b[0m\u001b[0;34m\u001b[0m\u001b[0m\n\u001b[0m\u001b[1;32m     71\u001b[0m \u001b[0;34m\u001b[0m\u001b[0m\n\u001b[1;32m     72\u001b[0m \u001b[0;34m\u001b[0m\u001b[0m\n",
      "\u001b[0;32m/Users/jeremie/anaconda3/lib/python3.5/site-packages/requests/api.py\u001b[0m in \u001b[0;36mrequest\u001b[0;34m(method, url, **kwargs)\u001b[0m\n\u001b[1;32m     54\u001b[0m     \u001b[0;31m# cases, and look like a memory leak in others.\u001b[0m\u001b[0;34m\u001b[0m\u001b[0;34m\u001b[0m\u001b[0m\n\u001b[1;32m     55\u001b[0m     \u001b[0;32mwith\u001b[0m \u001b[0msessions\u001b[0m\u001b[0;34m.\u001b[0m\u001b[0mSession\u001b[0m\u001b[0;34m(\u001b[0m\u001b[0;34m)\u001b[0m \u001b[0;32mas\u001b[0m \u001b[0msession\u001b[0m\u001b[0;34m:\u001b[0m\u001b[0;34m\u001b[0m\u001b[0m\n\u001b[0;32m---> 56\u001b[0;31m         \u001b[0;32mreturn\u001b[0m \u001b[0msession\u001b[0m\u001b[0;34m.\u001b[0m\u001b[0mrequest\u001b[0m\u001b[0;34m(\u001b[0m\u001b[0mmethod\u001b[0m\u001b[0;34m=\u001b[0m\u001b[0mmethod\u001b[0m\u001b[0;34m,\u001b[0m \u001b[0murl\u001b[0m\u001b[0;34m=\u001b[0m\u001b[0murl\u001b[0m\u001b[0;34m,\u001b[0m \u001b[0;34m**\u001b[0m\u001b[0mkwargs\u001b[0m\u001b[0;34m)\u001b[0m\u001b[0;34m\u001b[0m\u001b[0m\n\u001b[0m\u001b[1;32m     57\u001b[0m \u001b[0;34m\u001b[0m\u001b[0m\n\u001b[1;32m     58\u001b[0m \u001b[0;34m\u001b[0m\u001b[0m\n",
      "\u001b[0;32m/Users/jeremie/anaconda3/lib/python3.5/site-packages/requests/sessions.py\u001b[0m in \u001b[0;36mrequest\u001b[0;34m(self, method, url, params, data, headers, cookies, files, auth, timeout, allow_redirects, proxies, hooks, stream, verify, cert, json)\u001b[0m\n\u001b[1;32m    473\u001b[0m         }\n\u001b[1;32m    474\u001b[0m         \u001b[0msend_kwargs\u001b[0m\u001b[0;34m.\u001b[0m\u001b[0mupdate\u001b[0m\u001b[0;34m(\u001b[0m\u001b[0msettings\u001b[0m\u001b[0;34m)\u001b[0m\u001b[0;34m\u001b[0m\u001b[0m\n\u001b[0;32m--> 475\u001b[0;31m         \u001b[0mresp\u001b[0m \u001b[0;34m=\u001b[0m \u001b[0mself\u001b[0m\u001b[0;34m.\u001b[0m\u001b[0msend\u001b[0m\u001b[0;34m(\u001b[0m\u001b[0mprep\u001b[0m\u001b[0;34m,\u001b[0m \u001b[0;34m**\u001b[0m\u001b[0msend_kwargs\u001b[0m\u001b[0;34m)\u001b[0m\u001b[0;34m\u001b[0m\u001b[0m\n\u001b[0m\u001b[1;32m    476\u001b[0m \u001b[0;34m\u001b[0m\u001b[0m\n\u001b[1;32m    477\u001b[0m         \u001b[0;32mreturn\u001b[0m \u001b[0mresp\u001b[0m\u001b[0;34m\u001b[0m\u001b[0m\n",
      "\u001b[0;32m/Users/jeremie/anaconda3/lib/python3.5/site-packages/requests/sessions.py\u001b[0m in \u001b[0;36msend\u001b[0;34m(self, request, **kwargs)\u001b[0m\n\u001b[1;32m    594\u001b[0m \u001b[0;34m\u001b[0m\u001b[0m\n\u001b[1;32m    595\u001b[0m         \u001b[0;31m# Send the request\u001b[0m\u001b[0;34m\u001b[0m\u001b[0;34m\u001b[0m\u001b[0m\n\u001b[0;32m--> 596\u001b[0;31m         \u001b[0mr\u001b[0m \u001b[0;34m=\u001b[0m \u001b[0madapter\u001b[0m\u001b[0;34m.\u001b[0m\u001b[0msend\u001b[0m\u001b[0;34m(\u001b[0m\u001b[0mrequest\u001b[0m\u001b[0;34m,\u001b[0m \u001b[0;34m**\u001b[0m\u001b[0mkwargs\u001b[0m\u001b[0;34m)\u001b[0m\u001b[0;34m\u001b[0m\u001b[0m\n\u001b[0m\u001b[1;32m    597\u001b[0m \u001b[0;34m\u001b[0m\u001b[0m\n\u001b[1;32m    598\u001b[0m         \u001b[0;31m# Total elapsed time of the request (approximately)\u001b[0m\u001b[0;34m\u001b[0m\u001b[0;34m\u001b[0m\u001b[0m\n",
      "\u001b[0;32m/Users/jeremie/anaconda3/lib/python3.5/site-packages/requests/adapters.py\u001b[0m in \u001b[0;36msend\u001b[0;34m(self, request, stream, timeout, verify, cert, proxies)\u001b[0m\n\u001b[1;32m    421\u001b[0m                     \u001b[0mdecode_content\u001b[0m\u001b[0;34m=\u001b[0m\u001b[0;32mFalse\u001b[0m\u001b[0;34m,\u001b[0m\u001b[0;34m\u001b[0m\u001b[0m\n\u001b[1;32m    422\u001b[0m                     \u001b[0mretries\u001b[0m\u001b[0;34m=\u001b[0m\u001b[0mself\u001b[0m\u001b[0;34m.\u001b[0m\u001b[0mmax_retries\u001b[0m\u001b[0;34m,\u001b[0m\u001b[0;34m\u001b[0m\u001b[0m\n\u001b[0;32m--> 423\u001b[0;31m                     \u001b[0mtimeout\u001b[0m\u001b[0;34m=\u001b[0m\u001b[0mtimeout\u001b[0m\u001b[0;34m\u001b[0m\u001b[0m\n\u001b[0m\u001b[1;32m    424\u001b[0m                 )\n\u001b[1;32m    425\u001b[0m \u001b[0;34m\u001b[0m\u001b[0m\n",
      "\u001b[0;32m/Users/jeremie/anaconda3/lib/python3.5/site-packages/requests/packages/urllib3/connectionpool.py\u001b[0m in \u001b[0;36murlopen\u001b[0;34m(self, method, url, body, headers, retries, redirect, assert_same_host, timeout, pool_timeout, release_conn, chunked, **response_kw)\u001b[0m\n\u001b[1;32m    593\u001b[0m                                                   \u001b[0mtimeout\u001b[0m\u001b[0;34m=\u001b[0m\u001b[0mtimeout_obj\u001b[0m\u001b[0;34m,\u001b[0m\u001b[0;34m\u001b[0m\u001b[0m\n\u001b[1;32m    594\u001b[0m                                                   \u001b[0mbody\u001b[0m\u001b[0;34m=\u001b[0m\u001b[0mbody\u001b[0m\u001b[0;34m,\u001b[0m \u001b[0mheaders\u001b[0m\u001b[0;34m=\u001b[0m\u001b[0mheaders\u001b[0m\u001b[0;34m,\u001b[0m\u001b[0;34m\u001b[0m\u001b[0m\n\u001b[0;32m--> 595\u001b[0;31m                                                   chunked=chunked)\n\u001b[0m\u001b[1;32m    596\u001b[0m \u001b[0;34m\u001b[0m\u001b[0m\n\u001b[1;32m    597\u001b[0m             \u001b[0;31m# If we're going to release the connection in ``finally:``, then\u001b[0m\u001b[0;34m\u001b[0m\u001b[0;34m\u001b[0m\u001b[0m\n",
      "\u001b[0;32m/Users/jeremie/anaconda3/lib/python3.5/site-packages/requests/packages/urllib3/connectionpool.py\u001b[0m in \u001b[0;36m_make_request\u001b[0;34m(self, conn, method, url, timeout, chunked, **httplib_request_kw)\u001b[0m\n\u001b[1;32m    387\u001b[0m             \u001b[0;32mexcept\u001b[0m \u001b[0mTypeError\u001b[0m\u001b[0;34m:\u001b[0m  \u001b[0;31m# Python 2.6 and older, Python 3\u001b[0m\u001b[0;34m\u001b[0m\u001b[0m\n\u001b[1;32m    388\u001b[0m                 \u001b[0;32mtry\u001b[0m\u001b[0;34m:\u001b[0m\u001b[0;34m\u001b[0m\u001b[0m\n\u001b[0;32m--> 389\u001b[0;31m                     \u001b[0mhttplib_response\u001b[0m \u001b[0;34m=\u001b[0m \u001b[0mconn\u001b[0m\u001b[0;34m.\u001b[0m\u001b[0mgetresponse\u001b[0m\u001b[0;34m(\u001b[0m\u001b[0;34m)\u001b[0m\u001b[0;34m\u001b[0m\u001b[0m\n\u001b[0m\u001b[1;32m    390\u001b[0m                 \u001b[0;32mexcept\u001b[0m \u001b[0mException\u001b[0m \u001b[0;32mas\u001b[0m \u001b[0me\u001b[0m\u001b[0;34m:\u001b[0m\u001b[0;34m\u001b[0m\u001b[0m\n\u001b[1;32m    391\u001b[0m                     \u001b[0;31m# Remove the TypeError from the exception chain in Python 3;\u001b[0m\u001b[0;34m\u001b[0m\u001b[0;34m\u001b[0m\u001b[0m\n",
      "\u001b[0;32m/Users/jeremie/anaconda3/lib/python3.5/http/client.py\u001b[0m in \u001b[0;36mgetresponse\u001b[0;34m(self)\u001b[0m\n\u001b[1;32m   1195\u001b[0m         \u001b[0;32mtry\u001b[0m\u001b[0;34m:\u001b[0m\u001b[0;34m\u001b[0m\u001b[0m\n\u001b[1;32m   1196\u001b[0m             \u001b[0;32mtry\u001b[0m\u001b[0;34m:\u001b[0m\u001b[0;34m\u001b[0m\u001b[0m\n\u001b[0;32m-> 1197\u001b[0;31m                 \u001b[0mresponse\u001b[0m\u001b[0;34m.\u001b[0m\u001b[0mbegin\u001b[0m\u001b[0;34m(\u001b[0m\u001b[0;34m)\u001b[0m\u001b[0;34m\u001b[0m\u001b[0m\n\u001b[0m\u001b[1;32m   1198\u001b[0m             \u001b[0;32mexcept\u001b[0m \u001b[0mConnectionError\u001b[0m\u001b[0;34m:\u001b[0m\u001b[0;34m\u001b[0m\u001b[0m\n\u001b[1;32m   1199\u001b[0m                 \u001b[0mself\u001b[0m\u001b[0;34m.\u001b[0m\u001b[0mclose\u001b[0m\u001b[0;34m(\u001b[0m\u001b[0;34m)\u001b[0m\u001b[0;34m\u001b[0m\u001b[0m\n",
      "\u001b[0;32m/Users/jeremie/anaconda3/lib/python3.5/http/client.py\u001b[0m in \u001b[0;36mbegin\u001b[0;34m(self)\u001b[0m\n\u001b[1;32m    295\u001b[0m         \u001b[0;31m# read until we get a non-100 response\u001b[0m\u001b[0;34m\u001b[0m\u001b[0;34m\u001b[0m\u001b[0m\n\u001b[1;32m    296\u001b[0m         \u001b[0;32mwhile\u001b[0m \u001b[0;32mTrue\u001b[0m\u001b[0;34m:\u001b[0m\u001b[0;34m\u001b[0m\u001b[0m\n\u001b[0;32m--> 297\u001b[0;31m             \u001b[0mversion\u001b[0m\u001b[0;34m,\u001b[0m \u001b[0mstatus\u001b[0m\u001b[0;34m,\u001b[0m \u001b[0mreason\u001b[0m \u001b[0;34m=\u001b[0m \u001b[0mself\u001b[0m\u001b[0;34m.\u001b[0m\u001b[0m_read_status\u001b[0m\u001b[0;34m(\u001b[0m\u001b[0;34m)\u001b[0m\u001b[0;34m\u001b[0m\u001b[0m\n\u001b[0m\u001b[1;32m    298\u001b[0m             \u001b[0;32mif\u001b[0m \u001b[0mstatus\u001b[0m \u001b[0;34m!=\u001b[0m \u001b[0mCONTINUE\u001b[0m\u001b[0;34m:\u001b[0m\u001b[0;34m\u001b[0m\u001b[0m\n\u001b[1;32m    299\u001b[0m                 \u001b[0;32mbreak\u001b[0m\u001b[0;34m\u001b[0m\u001b[0m\n",
      "\u001b[0;32m/Users/jeremie/anaconda3/lib/python3.5/http/client.py\u001b[0m in \u001b[0;36m_read_status\u001b[0;34m(self)\u001b[0m\n\u001b[1;32m    256\u001b[0m \u001b[0;34m\u001b[0m\u001b[0m\n\u001b[1;32m    257\u001b[0m     \u001b[0;32mdef\u001b[0m \u001b[0m_read_status\u001b[0m\u001b[0;34m(\u001b[0m\u001b[0mself\u001b[0m\u001b[0;34m)\u001b[0m\u001b[0;34m:\u001b[0m\u001b[0;34m\u001b[0m\u001b[0m\n\u001b[0;32m--> 258\u001b[0;31m         \u001b[0mline\u001b[0m \u001b[0;34m=\u001b[0m \u001b[0mstr\u001b[0m\u001b[0;34m(\u001b[0m\u001b[0mself\u001b[0m\u001b[0;34m.\u001b[0m\u001b[0mfp\u001b[0m\u001b[0;34m.\u001b[0m\u001b[0mreadline\u001b[0m\u001b[0;34m(\u001b[0m\u001b[0m_MAXLINE\u001b[0m \u001b[0;34m+\u001b[0m \u001b[0;36m1\u001b[0m\u001b[0;34m)\u001b[0m\u001b[0;34m,\u001b[0m \u001b[0;34m\"iso-8859-1\"\u001b[0m\u001b[0;34m)\u001b[0m\u001b[0;34m\u001b[0m\u001b[0m\n\u001b[0m\u001b[1;32m    259\u001b[0m         \u001b[0;32mif\u001b[0m \u001b[0mlen\u001b[0m\u001b[0;34m(\u001b[0m\u001b[0mline\u001b[0m\u001b[0;34m)\u001b[0m \u001b[0;34m>\u001b[0m \u001b[0m_MAXLINE\u001b[0m\u001b[0;34m:\u001b[0m\u001b[0;34m\u001b[0m\u001b[0m\n\u001b[1;32m    260\u001b[0m             \u001b[0;32mraise\u001b[0m \u001b[0mLineTooLong\u001b[0m\u001b[0;34m(\u001b[0m\u001b[0;34m\"status line\"\u001b[0m\u001b[0;34m)\u001b[0m\u001b[0;34m\u001b[0m\u001b[0m\n",
      "\u001b[0;32m/Users/jeremie/anaconda3/lib/python3.5/socket.py\u001b[0m in \u001b[0;36mreadinto\u001b[0;34m(self, b)\u001b[0m\n\u001b[1;32m    573\u001b[0m         \u001b[0;32mwhile\u001b[0m \u001b[0;32mTrue\u001b[0m\u001b[0;34m:\u001b[0m\u001b[0;34m\u001b[0m\u001b[0m\n\u001b[1;32m    574\u001b[0m             \u001b[0;32mtry\u001b[0m\u001b[0;34m:\u001b[0m\u001b[0;34m\u001b[0m\u001b[0m\n\u001b[0;32m--> 575\u001b[0;31m                 \u001b[0;32mreturn\u001b[0m \u001b[0mself\u001b[0m\u001b[0;34m.\u001b[0m\u001b[0m_sock\u001b[0m\u001b[0;34m.\u001b[0m\u001b[0mrecv_into\u001b[0m\u001b[0;34m(\u001b[0m\u001b[0mb\u001b[0m\u001b[0;34m)\u001b[0m\u001b[0;34m\u001b[0m\u001b[0m\n\u001b[0m\u001b[1;32m    576\u001b[0m             \u001b[0;32mexcept\u001b[0m \u001b[0mtimeout\u001b[0m\u001b[0;34m:\u001b[0m\u001b[0;34m\u001b[0m\u001b[0m\n\u001b[1;32m    577\u001b[0m                 \u001b[0mself\u001b[0m\u001b[0;34m.\u001b[0m\u001b[0m_timeout_occurred\u001b[0m \u001b[0;34m=\u001b[0m \u001b[0;32mTrue\u001b[0m\u001b[0;34m\u001b[0m\u001b[0m\n",
      "\u001b[0;31mKeyboardInterrupt\u001b[0m: "
     ]
    }
   ],
   "source": [
    "master_sem3_spec = getResultAllYearsSpec('Master semestre 3')"
   ]
  },
  {
   "cell_type": "code",
   "execution_count": 333,
   "metadata": {
    "collapsed": false
   },
   "outputs": [
    {
     "ename": "ValueError",
     "evalue": "can not merge DataFrame with instance of type <class 'pandas.core.series.Series'>",
     "output_type": "error",
     "traceback": [
      "\u001b[0;31m---------------------------------------------------------------------------\u001b[0m",
      "\u001b[0;31mValueError\u001b[0m                                Traceback (most recent call last)",
      "\u001b[0;32m<ipython-input-333-73db5cb6b11b>\u001b[0m in \u001b[0;36m<module>\u001b[0;34m()\u001b[0m\n\u001b[1;32m     18\u001b[0m \u001b[0;34m\u001b[0m\u001b[0m\n\u001b[1;32m     19\u001b[0m \u001b[0msciper_num_master1_spec\u001b[0m\u001b[0;34m\u001b[0m\u001b[0m\n\u001b[0;32m---> 20\u001b[0;31m \u001b[0mspecmaster1\u001b[0m \u001b[0;34m=\u001b[0m \u001b[0mpd\u001b[0m\u001b[0;34m.\u001b[0m\u001b[0mmerge\u001b[0m\u001b[0;34m(\u001b[0m\u001b[0msciper_num_master1_spec\u001b[0m\u001b[0;34m.\u001b[0m\u001b[0mdrop\u001b[0m\u001b[0;34m(\u001b[0m\u001b[0msciper_num_master1_spec\u001b[0m\u001b[0;34m.\u001b[0m\u001b[0mcolumns\u001b[0m\u001b[0;34m[\u001b[0m\u001b[0;34m[\u001b[0m\u001b[0;36m1\u001b[0m\u001b[0;34m,\u001b[0m\u001b[0;36m2\u001b[0m\u001b[0;34m,\u001b[0m\u001b[0;36m3\u001b[0m\u001b[0;34m,\u001b[0m\u001b[0;36m4\u001b[0m\u001b[0;34m,\u001b[0m\u001b[0;36m5\u001b[0m\u001b[0;34m,\u001b[0m\u001b[0;36m6\u001b[0m\u001b[0;34m,\u001b[0m\u001b[0;36m7\u001b[0m\u001b[0;34m,\u001b[0m\u001b[0;36m8\u001b[0m\u001b[0;34m,\u001b[0m\u001b[0;36m9\u001b[0m\u001b[0;34m,\u001b[0m\u001b[0;36m10\u001b[0m\u001b[0;34m]\u001b[0m\u001b[0;34m]\u001b[0m\u001b[0;34m,\u001b[0m\u001b[0maxis\u001b[0m\u001b[0;34m=\u001b[0m\u001b[0;36m1\u001b[0m\u001b[0;34m)\u001b[0m\u001b[0;34m,\u001b[0m\u001b[0mspecmaster1\u001b[0m\u001b[0;34m,\u001b[0m\u001b[0mleft_index\u001b[0m\u001b[0;34m=\u001b[0m\u001b[0;32mTrue\u001b[0m\u001b[0;34m,\u001b[0m\u001b[0mright_index\u001b[0m\u001b[0;34m=\u001b[0m\u001b[0;32mTrue\u001b[0m\u001b[0;34m)\u001b[0m\u001b[0;34m\u001b[0m\u001b[0m\n\u001b[0m",
      "\u001b[0;32m/Users/jeremie/anaconda3/lib/python3.5/site-packages/pandas/tools/merge.py\u001b[0m in \u001b[0;36mmerge\u001b[0;34m(left, right, how, on, left_on, right_on, left_index, right_index, sort, suffixes, copy, indicator)\u001b[0m\n\u001b[1;32m     36\u001b[0m                          \u001b[0mright_on\u001b[0m\u001b[0;34m=\u001b[0m\u001b[0mright_on\u001b[0m\u001b[0;34m,\u001b[0m \u001b[0mleft_index\u001b[0m\u001b[0;34m=\u001b[0m\u001b[0mleft_index\u001b[0m\u001b[0;34m,\u001b[0m\u001b[0;34m\u001b[0m\u001b[0m\n\u001b[1;32m     37\u001b[0m                          \u001b[0mright_index\u001b[0m\u001b[0;34m=\u001b[0m\u001b[0mright_index\u001b[0m\u001b[0;34m,\u001b[0m \u001b[0msort\u001b[0m\u001b[0;34m=\u001b[0m\u001b[0msort\u001b[0m\u001b[0;34m,\u001b[0m \u001b[0msuffixes\u001b[0m\u001b[0;34m=\u001b[0m\u001b[0msuffixes\u001b[0m\u001b[0;34m,\u001b[0m\u001b[0;34m\u001b[0m\u001b[0m\n\u001b[0;32m---> 38\u001b[0;31m                          copy=copy, indicator=indicator)\n\u001b[0m\u001b[1;32m     39\u001b[0m     \u001b[0;32mreturn\u001b[0m \u001b[0mop\u001b[0m\u001b[0;34m.\u001b[0m\u001b[0mget_result\u001b[0m\u001b[0;34m(\u001b[0m\u001b[0;34m)\u001b[0m\u001b[0;34m\u001b[0m\u001b[0m\n\u001b[1;32m     40\u001b[0m \u001b[0;32mif\u001b[0m \u001b[0m__debug__\u001b[0m\u001b[0;34m:\u001b[0m\u001b[0;34m\u001b[0m\u001b[0m\n",
      "\u001b[0;32m/Users/jeremie/anaconda3/lib/python3.5/site-packages/pandas/tools/merge.py\u001b[0m in \u001b[0;36m__init__\u001b[0;34m(self, left, right, how, on, left_on, right_on, axis, left_index, right_index, sort, suffixes, copy, indicator)\u001b[0m\n\u001b[1;32m    196\u001b[0m             raise ValueError(\n\u001b[1;32m    197\u001b[0m                 \u001b[0;34m'can not merge DataFrame with instance of '\u001b[0m\u001b[0;34m\u001b[0m\u001b[0m\n\u001b[0;32m--> 198\u001b[0;31m                 'type {0}'.format(type(right)))\n\u001b[0m\u001b[1;32m    199\u001b[0m \u001b[0;34m\u001b[0m\u001b[0m\n\u001b[1;32m    200\u001b[0m         \u001b[0;31m# warn user when merging between different levels\u001b[0m\u001b[0;34m\u001b[0m\u001b[0;34m\u001b[0m\u001b[0m\n",
      "\u001b[0;31mValueError\u001b[0m: can not merge DataFrame with instance of type <class 'pandas.core.series.Series'>"
     ]
    }
   ],
   "source": [
    "joined_table_master1_spec = joinTables(master_sem1_spec)\n",
    "joined_table_master1_spec = joined_table_master1_spec.replace('',np.nan)\n",
    "#joined_table_master1_spec.dropna(thresh=)\n",
    "joined_table_master1_spec.shape\n",
    "sciper_num_master1_spec = joined_table_master1_spec.drop(joined_table_master1_spec.columns[[0,1,2,5,7,9,11,13,15,17,19,21]],axis=1)\n",
    "sciper_num_master1_spec = sciper_num_master1_spec.dropna(thresh=2)\n",
    "\n",
    "\n",
    "sciper_num_master1_spec = sciper_num_master1_spec.replace(np.nan,'')\n",
    "sciper_num_master1_spec.columns = ['0', '1', '2', '3', '4', '5', '6', '7', '8', '9', '10']\n",
    "\n",
    "specmaster1 = sciper_num_master1_spec['1']\n",
    "for i in range(2, 11):\n",
    "    specmaster1 = specmaster1 + sciper_num_master1_spec[str(i)]\n",
    "    \n",
    "#specmaster1 = pd.merge(specmaster1)\n",
    "\n",
    "\n",
    "sciper_num_master1_spec\n",
    "specmaster1 = pd.merge(sciper_num_master1_spec.drop(sciper_num_master1_spec.columns[[1,2,3,4,5,6,7,8,9,10]],axis=1),specmaster1,left_index=True,right_index=True)\n"
   ]
  },
  {
   "cell_type": "code",
   "execution_count": null,
   "metadata": {
    "collapsed": true
   },
   "outputs": [],
   "source": []
  },
  {
   "cell_type": "code",
   "execution_count": 347,
   "metadata": {
    "collapsed": false
   },
   "outputs": [
    {
     "data": {
      "text/plain": [
       "'Foundations of Software'"
      ]
     },
     "execution_count": 347,
     "metadata": {},
     "output_type": "execute_result"
    }
   ],
   "source": [
    "joined_table_master3_spec = joinTables(master_sem3_spec)\n",
    "joined_table_master3_spec = joined_table_master3_spec.replace('',np.nan)\n",
    "\n",
    "joined_table_master3_spec.shape\n",
    "sciper_num_master3_spec = joined_table_master3_spec.drop(joined_table_master3_spec.columns[[0,1,2,5,7,9,11,13,15,17,19,21]],axis=1)\n",
    "sciper_num_master3_spec = sciper_num_master3_spec.dropna(thresh=2)\n",
    "\n",
    "\n",
    "sciper_num_master3_spec = sciper_num_master3_spec.replace(np.nan,'')\n",
    "sciper_num_master3_spec.columns = ['0', '1', '2', '3', '4', '5', '6', '7', '8', '9', '10']\n",
    "\n",
    "\n",
    "specmaster3 = sciper_num_master3_spec['1']\n",
    "for i in range(0,sciper_num_master3_spec.shape[0]):\n",
    "    for j in range(2,11):\n",
    "        a=1\n",
    "        if(specmaster3.iloc[1] == np.nan ):\n",
    "            print(i,j)\n",
    "         #   specmaster3[j] = specmaster3[j] + sciper_num_master3_spec[str(i)]\n",
    "\n",
    "#specmaster3\n",
    "sciper_num_master3_spec.shape[0]\n",
    "type(specmaster3)\n",
    "\n",
    "specmaster3.iloc[1]\n",
    "\n",
    "#for i in range(0,sciper_num_master3_spec.shape[0]):\n",
    "#    for j in range(2,11):\n",
    "#        t[i,j]\n",
    "        \n",
    "    \n",
    "#sciper_num_master3_spec\n",
    "\n",
    "#specmaster2"
   ]
  },
  {
   "cell_type": "code",
   "execution_count": 352,
   "metadata": {
    "collapsed": false
   },
   "outputs": [
    {
     "data": {
      "text/plain": [
       "{'2007-2008': ['978181'],\n",
       " '2008-2009': ['978187'],\n",
       " '2009-2010': ['978195'],\n",
       " '2010-2011': ['39486325'],\n",
       " '2011-2012': ['123455150'],\n",
       " '2012-2013': ['123456101'],\n",
       " '2013-2014': ['213637754'],\n",
       " '2014-2015': ['213637922'],\n",
       " '2015-2016': ['213638028'],\n",
       " '2016-2017': ['355925344']}"
      ]
     },
     "execution_count": 352,
     "metadata": {},
     "output_type": "execute_result"
    }
   ],
   "source": [
    "range(0,sciper_num_master3_spec.shape[0])\n",
    "year_ids"
   ]
  },
  {
   "cell_type": "code",
   "execution_count": 377,
   "metadata": {
    "collapsed": false
   },
   "outputs": [],
   "source": [
    "spec_dirty_2007= getResultSpec('Master semestre 3','2007-2008')\n"
   ]
  },
  {
   "cell_type": "code",
   "execution_count": 398,
   "metadata": {
    "collapsed": false
   },
   "outputs": [
    {
     "data": {
      "text/plain": [
       "(29, 2)"
      ]
     },
     "execution_count": 398,
     "metadata": {},
     "output_type": "execute_result"
    }
   ],
   "source": [
    "spec_2007 = joinTables(spec_dirty_2007)\n",
    "spec_2007 = spec_2007.replace('',np.nan)\n",
    "spec_2007 = spec_2007.dropna(thresh=2)\n",
    "spec_2007.shape"
   ]
  },
  {
   "cell_type": "code",
   "execution_count": 379,
   "metadata": {
    "collapsed": true
   },
   "outputs": [],
   "source": [
    "spec_dirty_2008= getResultSpec('Master semestre 3','2008-2009')"
   ]
  },
  {
   "cell_type": "code",
   "execution_count": 397,
   "metadata": {
    "collapsed": false
   },
   "outputs": [
    {
     "data": {
      "text/plain": [
       "(28, 2)"
      ]
     },
     "execution_count": 397,
     "metadata": {},
     "output_type": "execute_result"
    }
   ],
   "source": [
    "spec_2008 = joinTables(spec_dirty_2008)\n",
    "spec_2008 = spec_2008.replace('',np.nan)\n",
    "spec_2008 = spec_2008.dropna(thresh=2)\n",
    "spec_2008.shape"
   ]
  },
  {
   "cell_type": "code",
   "execution_count": 404,
   "metadata": {
    "collapsed": false
   },
   "outputs": [
    {
     "name": "stdout",
     "output_type": "stream",
     "text": [
      "(57, 2)\n"
     ]
    }
   ],
   "source": [
    "b = pd.concat((spec_2007,spec_2008))\n",
    "print(b.shape)\n",
    "c = b.drop_duplicates(subset='Sciper')\n"
   ]
  },
  {
   "cell_type": "markdown",
   "metadata": {},
   "source": [
    "\n",
    "Assumption : we assume that only student on Master semester 3 can take a specialization"
   ]
  },
  {
   "cell_type": "code",
   "execution_count": 417,
   "metadata": {
    "collapsed": false
   },
   "outputs": [
    {
     "data": {
      "text/html": [
       "<div>\n",
       "<table border=\"1\" class=\"dataframe\">\n",
       "  <thead>\n",
       "    <tr style=\"text-align: right;\">\n",
       "      <th></th>\n",
       "      <th>Sciper</th>\n",
       "      <th>Spécialisation</th>\n",
       "    </tr>\n",
       "  </thead>\n",
       "  <tbody>\n",
       "    <tr>\n",
       "      <th>0</th>\n",
       "      <td>154419</td>\n",
       "      <td>Signals, Images and Interfaces</td>\n",
       "    </tr>\n",
       "    <tr>\n",
       "      <th>2</th>\n",
       "      <td>153664</td>\n",
       "      <td>Signals, Images and Interfaces</td>\n",
       "    </tr>\n",
       "    <tr>\n",
       "      <th>3</th>\n",
       "      <td>159852</td>\n",
       "      <td>Internet computing</td>\n",
       "    </tr>\n",
       "    <tr>\n",
       "      <th>5</th>\n",
       "      <td>173573</td>\n",
       "      <td>Internet computing</td>\n",
       "    </tr>\n",
       "    <tr>\n",
       "      <th>12</th>\n",
       "      <td>172500</td>\n",
       "      <td>Biocomputing</td>\n",
       "    </tr>\n",
       "  </tbody>\n",
       "</table>\n",
       "</div>"
      ],
      "text/plain": [
       "    Sciper                  Spécialisation\n",
       "0   154419  Signals, Images and Interfaces\n",
       "2   153664  Signals, Images and Interfaces\n",
       "3   159852              Internet computing\n",
       "5   173573              Internet computing\n",
       "12  172500                    Biocomputing"
      ]
     },
     "execution_count": 417,
     "metadata": {},
     "output_type": "execute_result"
    }
   ],
   "source": [
    "spec_dirty_2007= getResultSpec('Master semestre 3','2007-2008')\n",
    "spec_2007 = joinTables(spec_dirty_2007)\n",
    "spec_2007 = spec_2007.replace('',np.nan)\n",
    "spec_2007 = spec_2007.dropna(thresh=2)\n",
    "tmp = spec_2007\n",
    "\n",
    "for year_id in year_ids:\n",
    "    spec_dirty = getResultSpec('Master semestre 3',year_id)\n",
    "    spec = joinTables(spec_dirty)\n",
    "    spec = spec.replace('',np.nan)\n",
    "    spec = spec.dropna(thresh=2)\n",
    "    tmp=pd.concat((tmp,spec))\n",
    "    tmp=tmp.drop_duplicates(subset='Sciper')\n",
    "\n",
    "\n",
    "    \n",
    "    "
   ]
  },
  {
   "cell_type": "code",
   "execution_count": 423,
   "metadata": {
    "collapsed": false
   },
   "outputs": [
    {
     "data": {
      "text/html": [
       "<div>\n",
       "<table border=\"1\" class=\"dataframe\">\n",
       "  <thead>\n",
       "    <tr style=\"text-align: right;\">\n",
       "      <th></th>\n",
       "      <th>Sciper</th>\n",
       "      <th>Spécialisation</th>\n",
       "    </tr>\n",
       "  </thead>\n",
       "  <tbody>\n",
       "    <tr>\n",
       "      <th>0</th>\n",
       "      <td>154419</td>\n",
       "      <td>Signals, Images and Interfaces</td>\n",
       "    </tr>\n",
       "    <tr>\n",
       "      <th>2</th>\n",
       "      <td>153664</td>\n",
       "      <td>Signals, Images and Interfaces</td>\n",
       "    </tr>\n",
       "    <tr>\n",
       "      <th>3</th>\n",
       "      <td>159852</td>\n",
       "      <td>Internet computing</td>\n",
       "    </tr>\n",
       "    <tr>\n",
       "      <th>5</th>\n",
       "      <td>173573</td>\n",
       "      <td>Internet computing</td>\n",
       "    </tr>\n",
       "    <tr>\n",
       "      <th>12</th>\n",
       "      <td>172500</td>\n",
       "      <td>Biocomputing</td>\n",
       "    </tr>\n",
       "  </tbody>\n",
       "</table>\n",
       "</div>"
      ],
      "text/plain": [
       "    Sciper                  Spécialisation\n",
       "0   154419  Signals, Images and Interfaces\n",
       "2   153664  Signals, Images and Interfaces\n",
       "3   159852              Internet computing\n",
       "5   173573              Internet computing\n",
       "12  172500                    Biocomputing"
      ]
     },
     "execution_count": 423,
     "metadata": {},
     "output_type": "execute_result"
    }
   ],
   "source": [
    "student_spec = tmp \n",
    "tmp.head()"
   ]
  },
  {
   "cell_type": "code",
   "execution_count": 424,
   "metadata": {
    "collapsed": false
   },
   "outputs": [
    {
     "data": {
      "text/html": [
       "<div>\n",
       "<table border=\"1\" class=\"dataframe\">\n",
       "  <thead>\n",
       "    <tr style=\"text-align: right;\">\n",
       "      <th></th>\n",
       "      <th>Gender</th>\n",
       "      <th>Sciper</th>\n",
       "      <th>Number_of_year_master</th>\n",
       "    </tr>\n",
       "  </thead>\n",
       "  <tbody>\n",
       "    <tr>\n",
       "      <th>0</th>\n",
       "      <td>Monsieur</td>\n",
       "      <td>210215</td>\n",
       "      <td>2.5</td>\n",
       "    </tr>\n",
       "    <tr>\n",
       "      <th>1</th>\n",
       "      <td>Monsieur</td>\n",
       "      <td>206923</td>\n",
       "      <td>2.0</td>\n",
       "    </tr>\n",
       "    <tr>\n",
       "      <th>2</th>\n",
       "      <td>Monsieur</td>\n",
       "      <td>166075</td>\n",
       "      <td>2.5</td>\n",
       "    </tr>\n",
       "    <tr>\n",
       "      <th>3</th>\n",
       "      <td>Monsieur</td>\n",
       "      <td>194182</td>\n",
       "      <td>3.5</td>\n",
       "    </tr>\n",
       "    <tr>\n",
       "      <th>4</th>\n",
       "      <td>Monsieur</td>\n",
       "      <td>213664</td>\n",
       "      <td>2.5</td>\n",
       "    </tr>\n",
       "  </tbody>\n",
       "</table>\n",
       "</div>"
      ],
      "text/plain": [
       "     Gender  Sciper  Number_of_year_master\n",
       "0  Monsieur  210215                    2.5\n",
       "1  Monsieur  206923                    2.0\n",
       "2  Monsieur  166075                    2.5\n",
       "3  Monsieur  194182                    3.5\n",
       "4  Monsieur  213664                    2.5"
      ]
     },
     "execution_count": 424,
     "metadata": {},
     "output_type": "execute_result"
    }
   ],
   "source": [
    "master_duration_clean.head()\n"
   ]
  },
  {
   "cell_type": "code",
   "execution_count": 427,
   "metadata": {
    "collapsed": false
   },
   "outputs": [
    {
     "data": {
      "text/html": [
       "<div>\n",
       "<table border=\"1\" class=\"dataframe\">\n",
       "  <thead>\n",
       "    <tr style=\"text-align: right;\">\n",
       "      <th></th>\n",
       "      <th>Gender</th>\n",
       "      <th>Sciper</th>\n",
       "      <th>Number_of_year_master</th>\n",
       "      <th>Spécialisation</th>\n",
       "    </tr>\n",
       "  </thead>\n",
       "  <tbody>\n",
       "    <tr>\n",
       "      <th>0</th>\n",
       "      <td>Monsieur</td>\n",
       "      <td>210215</td>\n",
       "      <td>2.5</td>\n",
       "      <td>Internet computing</td>\n",
       "    </tr>\n",
       "    <tr>\n",
       "      <th>1</th>\n",
       "      <td>Monsieur</td>\n",
       "      <td>194182</td>\n",
       "      <td>3.5</td>\n",
       "      <td>Foundations of Software</td>\n",
       "    </tr>\n",
       "    <tr>\n",
       "      <th>2</th>\n",
       "      <td>Monsieur</td>\n",
       "      <td>214637</td>\n",
       "      <td>2.5</td>\n",
       "      <td>Internet computing</td>\n",
       "    </tr>\n",
       "    <tr>\n",
       "      <th>3</th>\n",
       "      <td>Monsieur</td>\n",
       "      <td>214632</td>\n",
       "      <td>2.5</td>\n",
       "      <td>Foundations of Software</td>\n",
       "    </tr>\n",
       "    <tr>\n",
       "      <th>4</th>\n",
       "      <td>Monsieur</td>\n",
       "      <td>212790</td>\n",
       "      <td>2.5</td>\n",
       "      <td>Internet computing</td>\n",
       "    </tr>\n",
       "    <tr>\n",
       "      <th>5</th>\n",
       "      <td>Monsieur</td>\n",
       "      <td>218353</td>\n",
       "      <td>2.5</td>\n",
       "      <td>Computer Engineering - SP</td>\n",
       "    </tr>\n",
       "    <tr>\n",
       "      <th>6</th>\n",
       "      <td>Monsieur</td>\n",
       "      <td>212859</td>\n",
       "      <td>2.5</td>\n",
       "      <td>Information Security - SP</td>\n",
       "    </tr>\n",
       "    <tr>\n",
       "      <th>7</th>\n",
       "      <td>Monsieur</td>\n",
       "      <td>201600</td>\n",
       "      <td>3.5</td>\n",
       "      <td>Foundations of Software</td>\n",
       "    </tr>\n",
       "    <tr>\n",
       "      <th>8</th>\n",
       "      <td>Monsieur</td>\n",
       "      <td>204253</td>\n",
       "      <td>2.5</td>\n",
       "      <td>Signals, Images and Interfaces</td>\n",
       "    </tr>\n",
       "    <tr>\n",
       "      <th>9</th>\n",
       "      <td>Madame</td>\n",
       "      <td>217301</td>\n",
       "      <td>2.5</td>\n",
       "      <td>Computer Engineering - SP</td>\n",
       "    </tr>\n",
       "    <tr>\n",
       "      <th>10</th>\n",
       "      <td>Monsieur</td>\n",
       "      <td>244587</td>\n",
       "      <td>2.5</td>\n",
       "      <td>Software Systems</td>\n",
       "    </tr>\n",
       "    <tr>\n",
       "      <th>11</th>\n",
       "      <td>Monsieur</td>\n",
       "      <td>216702</td>\n",
       "      <td>2.5</td>\n",
       "      <td>Internet computing</td>\n",
       "    </tr>\n",
       "    <tr>\n",
       "      <th>12</th>\n",
       "      <td>Monsieur</td>\n",
       "      <td>195675</td>\n",
       "      <td>2.5</td>\n",
       "      <td>Internet computing</td>\n",
       "    </tr>\n",
       "    <tr>\n",
       "      <th>13</th>\n",
       "      <td>Monsieur</td>\n",
       "      <td>217469</td>\n",
       "      <td>2.5</td>\n",
       "      <td>Foundations of Software</td>\n",
       "    </tr>\n",
       "    <tr>\n",
       "      <th>14</th>\n",
       "      <td>Monsieur</td>\n",
       "      <td>205864</td>\n",
       "      <td>2.5</td>\n",
       "      <td>Software Systems</td>\n",
       "    </tr>\n",
       "    <tr>\n",
       "      <th>15</th>\n",
       "      <td>Monsieur</td>\n",
       "      <td>185523</td>\n",
       "      <td>2.0</td>\n",
       "      <td>Internet computing</td>\n",
       "    </tr>\n",
       "    <tr>\n",
       "      <th>16</th>\n",
       "      <td>Monsieur</td>\n",
       "      <td>146742</td>\n",
       "      <td>3.0</td>\n",
       "      <td>Signals, Images and Interfaces</td>\n",
       "    </tr>\n",
       "    <tr>\n",
       "      <th>17</th>\n",
       "      <td>Monsieur</td>\n",
       "      <td>186060</td>\n",
       "      <td>2.0</td>\n",
       "      <td>Foundations of Software</td>\n",
       "    </tr>\n",
       "    <tr>\n",
       "      <th>18</th>\n",
       "      <td>Monsieur</td>\n",
       "      <td>185522</td>\n",
       "      <td>2.0</td>\n",
       "      <td>Internet computing</td>\n",
       "    </tr>\n",
       "    <tr>\n",
       "      <th>19</th>\n",
       "      <td>Monsieur</td>\n",
       "      <td>180731</td>\n",
       "      <td>2.0</td>\n",
       "      <td>Signals, Images and Interfaces</td>\n",
       "    </tr>\n",
       "    <tr>\n",
       "      <th>20</th>\n",
       "      <td>Monsieur</td>\n",
       "      <td>202059</td>\n",
       "      <td>2.5</td>\n",
       "      <td>Service science</td>\n",
       "    </tr>\n",
       "    <tr>\n",
       "      <th>21</th>\n",
       "      <td>Monsieur</td>\n",
       "      <td>192861</td>\n",
       "      <td>3.0</td>\n",
       "      <td>Internet computing</td>\n",
       "    </tr>\n",
       "    <tr>\n",
       "      <th>22</th>\n",
       "      <td>Monsieur</td>\n",
       "      <td>175702</td>\n",
       "      <td>2.0</td>\n",
       "      <td>Foundations of Software</td>\n",
       "    </tr>\n",
       "    <tr>\n",
       "      <th>23</th>\n",
       "      <td>Madame</td>\n",
       "      <td>154573</td>\n",
       "      <td>3.0</td>\n",
       "      <td>Biocomputing</td>\n",
       "    </tr>\n",
       "    <tr>\n",
       "      <th>24</th>\n",
       "      <td>Monsieur</td>\n",
       "      <td>180072</td>\n",
       "      <td>2.0</td>\n",
       "      <td>Internet computing</td>\n",
       "    </tr>\n",
       "    <tr>\n",
       "      <th>25</th>\n",
       "      <td>Monsieur</td>\n",
       "      <td>165819</td>\n",
       "      <td>2.0</td>\n",
       "      <td>Foundations of Software</td>\n",
       "    </tr>\n",
       "    <tr>\n",
       "      <th>26</th>\n",
       "      <td>Monsieur</td>\n",
       "      <td>179878</td>\n",
       "      <td>2.0</td>\n",
       "      <td>Internet computing</td>\n",
       "    </tr>\n",
       "  </tbody>\n",
       "</table>\n",
       "</div>"
      ],
      "text/plain": [
       "      Gender  Sciper  Number_of_year_master                  Spécialisation\n",
       "0   Monsieur  210215                    2.5              Internet computing\n",
       "1   Monsieur  194182                    3.5         Foundations of Software\n",
       "2   Monsieur  214637                    2.5              Internet computing\n",
       "3   Monsieur  214632                    2.5         Foundations of Software\n",
       "4   Monsieur  212790                    2.5              Internet computing\n",
       "5   Monsieur  218353                    2.5       Computer Engineering - SP\n",
       "6   Monsieur  212859                    2.5       Information Security - SP\n",
       "7   Monsieur  201600                    3.5         Foundations of Software\n",
       "8   Monsieur  204253                    2.5  Signals, Images and Interfaces\n",
       "9     Madame  217301                    2.5       Computer Engineering - SP\n",
       "10  Monsieur  244587                    2.5                Software Systems\n",
       "11  Monsieur  216702                    2.5              Internet computing\n",
       "12  Monsieur  195675                    2.5              Internet computing\n",
       "13  Monsieur  217469                    2.5         Foundations of Software\n",
       "14  Monsieur  205864                    2.5                Software Systems\n",
       "15  Monsieur  185523                    2.0              Internet computing\n",
       "16  Monsieur  146742                    3.0  Signals, Images and Interfaces\n",
       "17  Monsieur  186060                    2.0         Foundations of Software\n",
       "18  Monsieur  185522                    2.0              Internet computing\n",
       "19  Monsieur  180731                    2.0  Signals, Images and Interfaces\n",
       "20  Monsieur  202059                    2.5                 Service science\n",
       "21  Monsieur  192861                    3.0              Internet computing\n",
       "22  Monsieur  175702                    2.0         Foundations of Software\n",
       "23    Madame  154573                    3.0                    Biocomputing\n",
       "24  Monsieur  180072                    2.0              Internet computing\n",
       "25  Monsieur  165819                    2.0         Foundations of Software\n",
       "26  Monsieur  179878                    2.0              Internet computing"
      ]
     },
     "execution_count": 427,
     "metadata": {},
     "output_type": "execute_result"
    }
   ],
   "source": [
    "pd.merge(master_duration_clean,student_spec,how='inner',on='Sciper')"
>>>>>>> 42a355946bdebabfad63aa5f0228993ef493ddb0
   ]
  },
  {
   "cell_type": "code",
   "execution_count": null,
   "metadata": {
    "collapsed": true
   },
   "outputs": [],
   "source": []
  },
  {
   "cell_type": "code",
   "execution_count": null,
   "metadata": {
    "collapsed": true
   },
   "outputs": [],
   "source": []
  },
  {
   "cell_type": "code",
   "execution_count": null,
   "metadata": {
    "collapsed": true
   },
   "outputs": [],
   "source": []
  }
 ],
 "metadata": {
  "anaconda-cloud": {},
  "kernelspec": {
   "display_name": "Python [Root]",
   "language": "python",
   "name": "Python [Root]"
  },
  "language_info": {
   "codemirror_mode": {
    "name": "ipython",
    "version": 3
   },
   "file_extension": ".py",
   "mimetype": "text/x-python",
   "name": "python",
   "nbconvert_exporter": "python",
   "pygments_lexer": "ipython3",
   "version": "3.5.2"
  },
  "nav_menu": {},
  "toc": {
   "navigate_menu": true,
   "number_sections": false,
   "sideBar": false,
   "threshold": "3",
   "toc_cell": true,
   "toc_section_display": "block",
   "toc_window_display": false
  }
 },
 "nbformat": 4,
 "nbformat_minor": 1
}
